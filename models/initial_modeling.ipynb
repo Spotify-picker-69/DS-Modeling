{
  "nbformat": 4,
  "nbformat_minor": 0,
  "metadata": {
    "colab": {
      "name": "initial modeling.ipynb",
      "provenance": []
    },
    "kernelspec": {
      "name": "python3",
      "display_name": "Python 3",
      "language": "python"
    }
  },
  "cells": [
    {
      "cell_type": "code",
      "metadata": {
        "id": "2g4thf0ZiEJc"
      },
      "source": [
        "import pandas as pd\r\n"
      ],
      "execution_count": 1,
      "outputs": []
    },
    {
      "cell_type": "code",
      "metadata": {
        "id": "LiuBlOWsiHqT"
      },
      "source": [
        "df = pd.read_csv('../data/data.csv')\n",
        "data_artist_df = pd.read_csv('../data/data_by_artist.csv')\n",
        "data_genre_df = pd.read_csv('../data/data_by_genres.csv')\n",
        "data_year_df = pd.read_csv('../data/data_by_year.csv')\n",
        "data_w_genre_df = pd.read_csv('../data/data_w_genres.csv')"
      ],
      "execution_count": 7,
      "outputs": []
    },
    {
      "cell_type": "code",
      "metadata": {
        "colab": {
          "base_uri": "https://localhost:8080/",
          "height": 417
        },
        "id": "VAu1txaqiV1E",
        "outputId": "f2a2f614-ed02-46c2-e79c-8a246440e94e"
      },
      "source": [
        "df.head()"
      ],
      "execution_count": 8,
      "outputs": [
        {
          "output_type": "execute_result",
          "data": {
            "text/plain": [
              "   acousticness                    artists  danceability  duration_ms  energy  \\\n",
              "0      0.991000            ['Mamie Smith']         0.598       168333   0.224   \n",
              "1      0.643000  [\"Screamin' Jay Hawkins\"]         0.852       150200   0.517   \n",
              "2      0.993000            ['Mamie Smith']         0.647       163827   0.186   \n",
              "3      0.000173        ['Oscar Velazquez']         0.730       422087   0.798   \n",
              "4      0.295000                   ['Mixe']         0.704       165224   0.707   \n",
              "\n",
              "   explicit                      id  instrumentalness  key  liveness  \\\n",
              "0         0  0cS0A1fUEUd1EW3FcF8AEI          0.000522    5    0.3790   \n",
              "1         0  0hbkKFIJm7Z05H8Zl9w30f          0.026400    5    0.0809   \n",
              "2         0  11m7laMUgmOKqI3oYzuhne          0.000018    0    0.5190   \n",
              "3         0  19Lc5SfJJ5O1oaxY0fpwfh          0.801000    2    0.1280   \n",
              "4         1  2hJjbsLCytGsnAHfdsLejp          0.000246   10    0.4020   \n",
              "\n",
              "   loudness  mode                                               name  \\\n",
              "0   -12.628     0                           Keep A Song In Your Soul   \n",
              "1    -7.261     0                               I Put A Spell On You   \n",
              "2   -12.098     1                                       Golfing Papa   \n",
              "3    -7.311     1  True House Music - Xavier Santos & Carlos Gomi...   \n",
              "4    -6.036     0                                          Xuniverxe   \n",
              "\n",
              "   popularity release_date  speechiness    tempo  valence  year  \n",
              "0          12         1920       0.0936  149.976   0.6340  1920  \n",
              "1           7   1920-01-05       0.0534   86.889   0.9500  1920  \n",
              "2           4         1920       0.1740   97.600   0.6890  1920  \n",
              "3          17   1920-01-01       0.0425  127.997   0.0422  1920  \n",
              "4           2   1920-10-01       0.0768  122.076   0.2990  1920  "
            ],
            "text/html": "<div>\n<style scoped>\n    .dataframe tbody tr th:only-of-type {\n        vertical-align: middle;\n    }\n\n    .dataframe tbody tr th {\n        vertical-align: top;\n    }\n\n    .dataframe thead th {\n        text-align: right;\n    }\n</style>\n<table border=\"1\" class=\"dataframe\">\n  <thead>\n    <tr style=\"text-align: right;\">\n      <th></th>\n      <th>acousticness</th>\n      <th>artists</th>\n      <th>danceability</th>\n      <th>duration_ms</th>\n      <th>energy</th>\n      <th>explicit</th>\n      <th>id</th>\n      <th>instrumentalness</th>\n      <th>key</th>\n      <th>liveness</th>\n      <th>loudness</th>\n      <th>mode</th>\n      <th>name</th>\n      <th>popularity</th>\n      <th>release_date</th>\n      <th>speechiness</th>\n      <th>tempo</th>\n      <th>valence</th>\n      <th>year</th>\n    </tr>\n  </thead>\n  <tbody>\n    <tr>\n      <th>0</th>\n      <td>0.991000</td>\n      <td>['Mamie Smith']</td>\n      <td>0.598</td>\n      <td>168333</td>\n      <td>0.224</td>\n      <td>0</td>\n      <td>0cS0A1fUEUd1EW3FcF8AEI</td>\n      <td>0.000522</td>\n      <td>5</td>\n      <td>0.3790</td>\n      <td>-12.628</td>\n      <td>0</td>\n      <td>Keep A Song In Your Soul</td>\n      <td>12</td>\n      <td>1920</td>\n      <td>0.0936</td>\n      <td>149.976</td>\n      <td>0.6340</td>\n      <td>1920</td>\n    </tr>\n    <tr>\n      <th>1</th>\n      <td>0.643000</td>\n      <td>[\"Screamin' Jay Hawkins\"]</td>\n      <td>0.852</td>\n      <td>150200</td>\n      <td>0.517</td>\n      <td>0</td>\n      <td>0hbkKFIJm7Z05H8Zl9w30f</td>\n      <td>0.026400</td>\n      <td>5</td>\n      <td>0.0809</td>\n      <td>-7.261</td>\n      <td>0</td>\n      <td>I Put A Spell On You</td>\n      <td>7</td>\n      <td>1920-01-05</td>\n      <td>0.0534</td>\n      <td>86.889</td>\n      <td>0.9500</td>\n      <td>1920</td>\n    </tr>\n    <tr>\n      <th>2</th>\n      <td>0.993000</td>\n      <td>['Mamie Smith']</td>\n      <td>0.647</td>\n      <td>163827</td>\n      <td>0.186</td>\n      <td>0</td>\n      <td>11m7laMUgmOKqI3oYzuhne</td>\n      <td>0.000018</td>\n      <td>0</td>\n      <td>0.5190</td>\n      <td>-12.098</td>\n      <td>1</td>\n      <td>Golfing Papa</td>\n      <td>4</td>\n      <td>1920</td>\n      <td>0.1740</td>\n      <td>97.600</td>\n      <td>0.6890</td>\n      <td>1920</td>\n    </tr>\n    <tr>\n      <th>3</th>\n      <td>0.000173</td>\n      <td>['Oscar Velazquez']</td>\n      <td>0.730</td>\n      <td>422087</td>\n      <td>0.798</td>\n      <td>0</td>\n      <td>19Lc5SfJJ5O1oaxY0fpwfh</td>\n      <td>0.801000</td>\n      <td>2</td>\n      <td>0.1280</td>\n      <td>-7.311</td>\n      <td>1</td>\n      <td>True House Music - Xavier Santos &amp; Carlos Gomi...</td>\n      <td>17</td>\n      <td>1920-01-01</td>\n      <td>0.0425</td>\n      <td>127.997</td>\n      <td>0.0422</td>\n      <td>1920</td>\n    </tr>\n    <tr>\n      <th>4</th>\n      <td>0.295000</td>\n      <td>['Mixe']</td>\n      <td>0.704</td>\n      <td>165224</td>\n      <td>0.707</td>\n      <td>1</td>\n      <td>2hJjbsLCytGsnAHfdsLejp</td>\n      <td>0.000246</td>\n      <td>10</td>\n      <td>0.4020</td>\n      <td>-6.036</td>\n      <td>0</td>\n      <td>Xuniverxe</td>\n      <td>2</td>\n      <td>1920-10-01</td>\n      <td>0.0768</td>\n      <td>122.076</td>\n      <td>0.2990</td>\n      <td>1920</td>\n    </tr>\n  </tbody>\n</table>\n</div>"
          },
          "metadata": {},
          "execution_count": 8
        }
      ]
    },
    {
      "cell_type": "code",
      "metadata": {
        "colab": {
          "base_uri": "https://localhost:8080/"
        },
        "id": "OZ_mJjxiinjZ",
        "outputId": "45d5086b-17ad-477f-e0bf-3fae91c94606"
      },
      "source": [
        "data_artist_df.shape"
      ],
      "execution_count": 9,
      "outputs": [
        {
          "output_type": "execute_result",
          "data": {
            "text/plain": [
              "(32539, 15)"
            ]
          },
          "metadata": {},
          "execution_count": 9
        }
      ]
    },
    {
      "cell_type": "code",
      "metadata": {
        "id": "A8fmrNpPjNos"
      },
      "source": [
        "df['artists'] = df['artists'].str.strip('[]')"
      ],
      "execution_count": 10,
      "outputs": []
    },
    {
      "cell_type": "code",
      "metadata": {
        "id": "L5IChFawopXA"
      },
      "source": [
        "df['artists'] = df['artists'].str.strip('\"')"
      ],
      "execution_count": 11,
      "outputs": []
    },
    {
      "cell_type": "code",
      "metadata": {
        "id": "_Gs4wbBuotjl"
      },
      "source": [
        "df['artists'] = df['artists'].str.strip(\"'\")"
      ],
      "execution_count": 12,
      "outputs": []
    },
    {
      "cell_type": "code",
      "metadata": {
        "colab": {
          "base_uri": "https://localhost:8080/"
        },
        "id": "ghKQIvsSp5j1",
        "outputId": "a990fbd7-221b-4da5-df2e-54c788a73dbe"
      },
      "source": [
        "df[\"artists\"]"
      ],
      "execution_count": 13,
      "outputs": [
        {
          "output_type": "execute_result",
          "data": {
            "text/plain": [
              "0                            Mamie Smith\n",
              "1                  Screamin' Jay Hawkins\n",
              "2                            Mamie Smith\n",
              "3                        Oscar Velazquez\n",
              "4                                   Mixe\n",
              "                       ...              \n",
              "174384    DJ Combo', 'Sander-7', 'Tony T\n",
              "174385                      Alessia Cara\n",
              "174386                         Roger Fly\n",
              "174387                      Taylor Swift\n",
              "174388                         Roger Fly\n",
              "Name: artists, Length: 174389, dtype: object"
            ]
          },
          "metadata": {},
          "execution_count": 13
        }
      ]
    },
    {
      "cell_type": "code",
      "metadata": {
        "id": "DIQ68d53p8z3"
      },
      "source": [
        "df = df.drop(columns='release_date')\r\n"
      ],
      "execution_count": 14,
      "outputs": []
    },
    {
      "cell_type": "code",
      "metadata": {
        "colab": {
          "base_uri": "https://localhost:8080/",
          "height": 417
        },
        "id": "nCpaYwvGqUM2",
        "outputId": "786a87a5-39d2-4921-bbfb-94540b97360d"
      },
      "source": [
        "df.head()"
      ],
      "execution_count": 15,
      "outputs": [
        {
          "output_type": "execute_result",
          "data": {
            "text/plain": [
              "   acousticness                artists  danceability  duration_ms  energy  \\\n",
              "0      0.991000            Mamie Smith         0.598       168333   0.224   \n",
              "1      0.643000  Screamin' Jay Hawkins         0.852       150200   0.517   \n",
              "2      0.993000            Mamie Smith         0.647       163827   0.186   \n",
              "3      0.000173        Oscar Velazquez         0.730       422087   0.798   \n",
              "4      0.295000                   Mixe         0.704       165224   0.707   \n",
              "\n",
              "   explicit                      id  instrumentalness  key  liveness  \\\n",
              "0         0  0cS0A1fUEUd1EW3FcF8AEI          0.000522    5    0.3790   \n",
              "1         0  0hbkKFIJm7Z05H8Zl9w30f          0.026400    5    0.0809   \n",
              "2         0  11m7laMUgmOKqI3oYzuhne          0.000018    0    0.5190   \n",
              "3         0  19Lc5SfJJ5O1oaxY0fpwfh          0.801000    2    0.1280   \n",
              "4         1  2hJjbsLCytGsnAHfdsLejp          0.000246   10    0.4020   \n",
              "\n",
              "   loudness  mode                                               name  \\\n",
              "0   -12.628     0                           Keep A Song In Your Soul   \n",
              "1    -7.261     0                               I Put A Spell On You   \n",
              "2   -12.098     1                                       Golfing Papa   \n",
              "3    -7.311     1  True House Music - Xavier Santos & Carlos Gomi...   \n",
              "4    -6.036     0                                          Xuniverxe   \n",
              "\n",
              "   popularity  speechiness    tempo  valence  year  \n",
              "0          12       0.0936  149.976   0.6340  1920  \n",
              "1           7       0.0534   86.889   0.9500  1920  \n",
              "2           4       0.1740   97.600   0.6890  1920  \n",
              "3          17       0.0425  127.997   0.0422  1920  \n",
              "4           2       0.0768  122.076   0.2990  1920  "
            ],
            "text/html": "<div>\n<style scoped>\n    .dataframe tbody tr th:only-of-type {\n        vertical-align: middle;\n    }\n\n    .dataframe tbody tr th {\n        vertical-align: top;\n    }\n\n    .dataframe thead th {\n        text-align: right;\n    }\n</style>\n<table border=\"1\" class=\"dataframe\">\n  <thead>\n    <tr style=\"text-align: right;\">\n      <th></th>\n      <th>acousticness</th>\n      <th>artists</th>\n      <th>danceability</th>\n      <th>duration_ms</th>\n      <th>energy</th>\n      <th>explicit</th>\n      <th>id</th>\n      <th>instrumentalness</th>\n      <th>key</th>\n      <th>liveness</th>\n      <th>loudness</th>\n      <th>mode</th>\n      <th>name</th>\n      <th>popularity</th>\n      <th>speechiness</th>\n      <th>tempo</th>\n      <th>valence</th>\n      <th>year</th>\n    </tr>\n  </thead>\n  <tbody>\n    <tr>\n      <th>0</th>\n      <td>0.991000</td>\n      <td>Mamie Smith</td>\n      <td>0.598</td>\n      <td>168333</td>\n      <td>0.224</td>\n      <td>0</td>\n      <td>0cS0A1fUEUd1EW3FcF8AEI</td>\n      <td>0.000522</td>\n      <td>5</td>\n      <td>0.3790</td>\n      <td>-12.628</td>\n      <td>0</td>\n      <td>Keep A Song In Your Soul</td>\n      <td>12</td>\n      <td>0.0936</td>\n      <td>149.976</td>\n      <td>0.6340</td>\n      <td>1920</td>\n    </tr>\n    <tr>\n      <th>1</th>\n      <td>0.643000</td>\n      <td>Screamin' Jay Hawkins</td>\n      <td>0.852</td>\n      <td>150200</td>\n      <td>0.517</td>\n      <td>0</td>\n      <td>0hbkKFIJm7Z05H8Zl9w30f</td>\n      <td>0.026400</td>\n      <td>5</td>\n      <td>0.0809</td>\n      <td>-7.261</td>\n      <td>0</td>\n      <td>I Put A Spell On You</td>\n      <td>7</td>\n      <td>0.0534</td>\n      <td>86.889</td>\n      <td>0.9500</td>\n      <td>1920</td>\n    </tr>\n    <tr>\n      <th>2</th>\n      <td>0.993000</td>\n      <td>Mamie Smith</td>\n      <td>0.647</td>\n      <td>163827</td>\n      <td>0.186</td>\n      <td>0</td>\n      <td>11m7laMUgmOKqI3oYzuhne</td>\n      <td>0.000018</td>\n      <td>0</td>\n      <td>0.5190</td>\n      <td>-12.098</td>\n      <td>1</td>\n      <td>Golfing Papa</td>\n      <td>4</td>\n      <td>0.1740</td>\n      <td>97.600</td>\n      <td>0.6890</td>\n      <td>1920</td>\n    </tr>\n    <tr>\n      <th>3</th>\n      <td>0.000173</td>\n      <td>Oscar Velazquez</td>\n      <td>0.730</td>\n      <td>422087</td>\n      <td>0.798</td>\n      <td>0</td>\n      <td>19Lc5SfJJ5O1oaxY0fpwfh</td>\n      <td>0.801000</td>\n      <td>2</td>\n      <td>0.1280</td>\n      <td>-7.311</td>\n      <td>1</td>\n      <td>True House Music - Xavier Santos &amp; Carlos Gomi...</td>\n      <td>17</td>\n      <td>0.0425</td>\n      <td>127.997</td>\n      <td>0.0422</td>\n      <td>1920</td>\n    </tr>\n    <tr>\n      <th>4</th>\n      <td>0.295000</td>\n      <td>Mixe</td>\n      <td>0.704</td>\n      <td>165224</td>\n      <td>0.707</td>\n      <td>1</td>\n      <td>2hJjbsLCytGsnAHfdsLejp</td>\n      <td>0.000246</td>\n      <td>10</td>\n      <td>0.4020</td>\n      <td>-6.036</td>\n      <td>0</td>\n      <td>Xuniverxe</td>\n      <td>2</td>\n      <td>0.0768</td>\n      <td>122.076</td>\n      <td>0.2990</td>\n      <td>1920</td>\n    </tr>\n  </tbody>\n</table>\n</div>"
          },
          "metadata": {},
          "execution_count": 15
        }
      ]
    },
    {
      "cell_type": "code",
      "metadata": {
        "id": "lM87ave_qvTc"
      },
      "source": [
        "number_cols = ['acousticness', 'danceability', 'duration_ms', 'energy', 'explicit', 'instrumentalness', 'key', 'liveness', 'loudness', 'mode',\r\n",
        "               'popularity', 'speachiness', 'tempo', 'valence', 'year']"
      ],
      "execution_count": 16,
      "outputs": []
    },
    {
      "cell_type": "code",
      "metadata": {
        "id": "3XLD1Fihvgjx"
      },
      "source": [
        "from sklearn.cluster import KMeans\r\n",
        "from sklearn.preprocessing import StandardScaler\r\n",
        "from sklearn.pipeline import Pipeline\r\n",
        "import numpy as np\r\n",
        "\r\n",
        "cluster_pipeline = Pipeline([('scaler', StandardScaler()),('kmeans',\r\n",
        "                                                           KMeans(n_clusters=10, n_jobs=-1))])\r\n",
        "X = data_genre_df.select_dtypes(np.number)\r\n",
        "cluster_pipeline.fit(X)\r\n",
        "data_genre_df['cluster'] = cluster_pipeline.predict(X)"
      ],
      "execution_count": 17,
      "outputs": []
    },
    {
      "cell_type": "code",
      "metadata": {
        "colab": {
          "base_uri": "https://localhost:8080/",
          "height": 1000
        },
        "id": "6jZb_azv1eHy",
        "outputId": "513ca734-3b75-402b-c2e1-05f54bad3877"
      },
      "source": [
        "from sklearn.manifold import TSNE\r\n",
        "import plotly.express as px\r\n",
        "\r\n",
        "tsne_pipeline = Pipeline([('scaler', StandardScaler()), ('tsne', TSNE(n_components=2, verbose=2))])\r\n",
        "\r\n",
        "genre_embedding = tsne_pipeline.fit_transform(X)\r\n",
        "\r\n",
        "projection = pd.DataFrame(columns=['x', 'y'], data=genre_embedding)\r\n",
        "projection['genres'] = data_genre_df['genres']\r\n",
        "projection['cluster'] = data_genre_df['cluster']\r\n",
        "\r\n",
        "fig = px.scatter(\r\n",
        "    projection, x='x', y='y', color='cluster', hover_data=['x', 'y', 'genres'])\r\n",
        "fig.show()\r\n"
      ],
      "execution_count": 18,
      "outputs": [
        {
          "output_type": "stream",
          "name": "stdout",
          "text": [
            "[t-SNE] Computing 91 nearest neighbors...\n",
            "[t-SNE] Indexed 3232 samples in 0.006s...\n",
            "[t-SNE] Computed neighbors for 3232 samples in 0.311s...\n",
            "[t-SNE] Computed conditional probabilities for sample 1000 / 3232\n",
            "[t-SNE] Computed conditional probabilities for sample 2000 / 3232\n",
            "[t-SNE] Computed conditional probabilities for sample 3000 / 3232\n",
            "[t-SNE] Computed conditional probabilities for sample 3232 / 3232\n",
            "[t-SNE] Mean sigma: 0.789973\n",
            "[t-SNE] Computed conditional probabilities in 0.094s\n",
            "[t-SNE] Iteration 50: error = 82.8634796, gradient norm = 0.0280992 (50 iterations in 0.892s)\n",
            "[t-SNE] Iteration 100: error = 76.4002304, gradient norm = 0.0034188 (50 iterations in 0.813s)\n",
            "[t-SNE] Iteration 150: error = 76.1978455, gradient norm = 0.0003526 (50 iterations in 0.758s)\n",
            "[t-SNE] Iteration 200: error = 76.1820526, gradient norm = 0.0002235 (50 iterations in 0.773s)\n",
            "[t-SNE] Iteration 250: error = 76.1791382, gradient norm = 0.0001826 (50 iterations in 0.751s)\n",
            "[t-SNE] KL divergence after 250 iterations with early exaggeration: 76.179138\n",
            "[t-SNE] Iteration 300: error = 1.8927222, gradient norm = 0.0010613 (50 iterations in 0.814s)\n",
            "[t-SNE] Iteration 350: error = 1.6413392, gradient norm = 0.0003851 (50 iterations in 0.753s)\n",
            "[t-SNE] Iteration 400: error = 1.5447049, gradient norm = 0.0002263 (50 iterations in 0.756s)\n",
            "[t-SNE] Iteration 450: error = 1.4986173, gradient norm = 0.0001569 (50 iterations in 0.746s)\n",
            "[t-SNE] Iteration 500: error = 1.4724132, gradient norm = 0.0001273 (50 iterations in 0.787s)\n",
            "[t-SNE] Iteration 550: error = 1.4567628, gradient norm = 0.0001162 (50 iterations in 0.749s)\n",
            "[t-SNE] Iteration 600: error = 1.4460614, gradient norm = 0.0001305 (50 iterations in 0.728s)\n",
            "[t-SNE] Iteration 650: error = 1.4393504, gradient norm = 0.0000976 (50 iterations in 0.793s)\n",
            "[t-SNE] Iteration 700: error = 1.4346522, gradient norm = 0.0000832 (50 iterations in 0.796s)\n",
            "[t-SNE] Iteration 750: error = 1.4308614, gradient norm = 0.0000795 (50 iterations in 0.808s)\n",
            "[t-SNE] Iteration 800: error = 1.4276071, gradient norm = 0.0000784 (50 iterations in 0.815s)\n",
            "[t-SNE] Iteration 850: error = 1.4249389, gradient norm = 0.0000724 (50 iterations in 1.079s)\n",
            "[t-SNE] Iteration 900: error = 1.4227649, gradient norm = 0.0000685 (50 iterations in 1.117s)\n",
            "[t-SNE] Iteration 950: error = 1.4207139, gradient norm = 0.0000673 (50 iterations in 1.125s)\n",
            "[t-SNE] Iteration 1000: error = 1.4187920, gradient norm = 0.0000689 (50 iterations in 1.116s)\n",
            "[t-SNE] KL divergence after 1000 iterations: 1.418792\n"
          ]
        },
        {
          "output_type": "display_data",
          "data": {
            "application/vnd.plotly.v1+json": {
              "config": {
                "plotlyServerURL": "https://plot.ly"
              },
              "data": [
                {
                  "customdata": [
                    [
                      "21st century classical"
                    ],
                    [
                      "432hz"
                    ],
                    [
                      "8-bit"
                    ],
                    [
                      "[]"
                    ],
                    [
                      "a cappella"
                    ],
                    [
                      "abstract"
                    ],
                    [
                      "abstract beats"
                    ],
                    [
                      "abstract hip hop"
                    ],
                    [
                      "abstract idm"
                    ],
                    [
                      "accordeon"
                    ],
                    [
                      "accordion"
                    ],
                    [
                      "acid house"
                    ],
                    [
                      "acid jazz"
                    ],
                    [
                      "acid rock"
                    ],
                    [
                      "acid techno"
                    ],
                    [
                      "acid trance"
                    ],
                    [
                      "acousmatic"
                    ],
                    [
                      "acoustic blues"
                    ],
                    [
                      "acoustic chill"
                    ],
                    [
                      "acoustic guitar cover"
                    ],
                    [
                      "acoustic pop"
                    ],
                    [
                      "acoustic punk"
                    ],
                    [
                      "acoustic rock"
                    ],
                    [
                      "action rock"
                    ],
                    [
                      "adoracao"
                    ],
                    [
                      "adoracion"
                    ],
                    [
                      "adult standards"
                    ],
                    [
                      "adventista"
                    ],
                    [
                      "afghan pop"
                    ],
                    [
                      "afghan traditional"
                    ],
                    [
                      "african gospel"
                    ],
                    [
                      "african percussion"
                    ],
                    [
                      "african reggae"
                    ],
                    [
                      "african rock"
                    ],
                    [
                      "african-american classical"
                    ],
                    [
                      "afrikaans"
                    ],
                    [
                      "afro dancehall"
                    ],
                    [
                      "afro house"
                    ],
                    [
                      "afro psych"
                    ],
                    [
                      "afro-funk"
                    ],
                    [
                      "afrobeat"
                    ],
                    [
                      "afrofuturism"
                    ],
                    [
                      "afrofuturismo brasileiro"
                    ],
                    [
                      "afropop"
                    ],
                    [
                      "afroswing"
                    ],
                    [
                      "aggrotech"
                    ],
                    [
                      "alabama indie"
                    ],
                    [
                      "alabama metal"
                    ],
                    [
                      "alabama rap"
                    ],
                    [
                      "alaska indie"
                    ],
                    [
                      "albanian hip hop"
                    ],
                    [
                      "albanian pop"
                    ],
                    [
                      "alberta country"
                    ],
                    [
                      "alberta hip hop"
                    ],
                    [
                      "album rock"
                    ],
                    [
                      "albuquerque indie"
                    ],
                    [
                      "alternative americana"
                    ],
                    [
                      "alternative country"
                    ],
                    [
                      "alternative dance"
                    ],
                    [
                      "alternative emo"
                    ],
                    [
                      "alternative hip hop"
                    ],
                    [
                      "alternative metal"
                    ],
                    [
                      "alternative pop"
                    ],
                    [
                      "alternative pop rock"
                    ],
                    [
                      "alternative r&b"
                    ],
                    [
                      "alternative rock"
                    ],
                    [
                      "alternative roots rock"
                    ],
                    [
                      "amapiano"
                    ],
                    [
                      "ambeat"
                    ],
                    [
                      "ambient"
                    ],
                    [
                      "ambient black metal"
                    ],
                    [
                      "ambient dub techno"
                    ],
                    [
                      "ambient folk"
                    ],
                    [
                      "ambient house"
                    ],
                    [
                      "ambient idm"
                    ],
                    [
                      "ambient industrial"
                    ],
                    [
                      "ambient pop"
                    ],
                    [
                      "ambient psychill"
                    ],
                    [
                      "ambient techno"
                    ],
                    [
                      "ambient trance"
                    ],
                    [
                      "ambient worship"
                    ],
                    [
                      "american 21st century classical"
                    ],
                    [
                      "american choir"
                    ],
                    [
                      "american classical piano"
                    ],
                    [
                      "american contemporary classical"
                    ],
                    [
                      "american early music"
                    ],
                    [
                      "american folk revival"
                    ],
                    [
                      "american grindcore"
                    ],
                    [
                      "american metalcore"
                    ],
                    [
                      "american modern classical"
                    ],
                    [
                      "american oi"
                    ],
                    [
                      "american orchestra"
                    ],
                    [
                      "american post-rock"
                    ],
                    [
                      "american primitive"
                    ],
                    [
                      "american romanticism"
                    ],
                    [
                      "american shoegaze"
                    ],
                    [
                      "anadolu rock"
                    ],
                    [
                      "anarcho-punk"
                    ],
                    [
                      "anglican liturgy"
                    ],
                    [
                      "animal singing"
                    ],
                    [
                      "anime"
                    ],
                    [
                      "anime latino"
                    ],
                    [
                      "anime rock"
                    ],
                    [
                      "anime score"
                    ],
                    [
                      "ann arbor indie"
                    ],
                    [
                      "anthem emo"
                    ],
                    [
                      "anthem worship"
                    ],
                    [
                      "anti-folk"
                    ],
                    [
                      "antilliaanse folklore"
                    ],
                    [
                      "antiviral pop"
                    ],
                    [
                      "appalachian folk"
                    ],
                    [
                      "arab alternative"
                    ],
                    [
                      "arab electronic"
                    ],
                    [
                      "arab folk"
                    ],
                    [
                      "arab groove"
                    ],
                    [
                      "arab pop"
                    ],
                    [
                      "arabesk"
                    ],
                    [
                      "arabic hip hop"
                    ],
                    [
                      "arabic jazz"
                    ],
                    [
                      "argentine ambient"
                    ],
                    [
                      "argentine heavy metal"
                    ],
                    [
                      "argentine hip hop"
                    ],
                    [
                      "argentine indie"
                    ],
                    [
                      "argentine metal"
                    ],
                    [
                      "argentine punk"
                    ],
                    [
                      "argentine reggae"
                    ],
                    [
                      "argentine rock"
                    ],
                    [
                      "argentine telepop"
                    ],
                    [
                      "arizona punk"
                    ],
                    [
                      "arkansas country"
                    ],
                    [
                      "arkansas hip hop"
                    ],
                    [
                      "armenian folk"
                    ],
                    [
                      "art pop"
                    ],
                    [
                      "art punk"
                    ],
                    [
                      "art rock"
                    ],
                    [
                      "art song"
                    ],
                    [
                      "asbury park indie"
                    ],
                    [
                      "asian american hip hop"
                    ],
                    [
                      "asmr"
                    ],
                    [
                      "assyrian pop"
                    ],
                    [
                      "athens indie"
                    ],
                    [
                      "atl hip hop"
                    ],
                    [
                      "atl trap"
                    ],
                    [
                      "atlanta indie"
                    ],
                    [
                      "atlanta metal"
                    ],
                    [
                      "atlanta punk"
                    ],
                    [
                      "atmosphere"
                    ],
                    [
                      "atmospheric black metal"
                    ],
                    [
                      "atmospheric dnb"
                    ],
                    [
                      "atmospheric post-metal"
                    ],
                    [
                      "atmospheric post-rock"
                    ],
                    [
                      "atmospheric sludge"
                    ],
                    [
                      "auckland indie"
                    ],
                    [
                      "audiophile vocal"
                    ],
                    [
                      "aussie emo"
                    ],
                    [
                      "aussietronica"
                    ],
                    [
                      "austin americana"
                    ],
                    [
                      "austin singer-songwriter"
                    ],
                    [
                      "austindie"
                    ],
                    [
                      "australian alternative pop"
                    ],
                    [
                      "australian alternative rock"
                    ],
                    [
                      "australian ambient"
                    ],
                    [
                      "australian americana"
                    ],
                    [
                      "australian black metal"
                    ],
                    [
                      "australian children's music"
                    ],
                    [
                      "australian classical"
                    ],
                    [
                      "australian classical piano"
                    ],
                    [
                      "australian country"
                    ],
                    [
                      "australian dance"
                    ],
                    [
                      "australian electropop"
                    ],
                    [
                      "australian garage punk"
                    ],
                    [
                      "australian hip hop"
                    ],
                    [
                      "australian house"
                    ],
                    [
                      "australian indie"
                    ],
                    [
                      "australian indie folk"
                    ],
                    [
                      "australian indigenous"
                    ],
                    [
                      "australian metal"
                    ],
                    [
                      "australian metalcore"
                    ],
                    [
                      "australian pop"
                    ],
                    [
                      "australian post-hardcore"
                    ],
                    [
                      "australian post-punk"
                    ],
                    [
                      "australian psych"
                    ],
                    [
                      "australian r&b"
                    ],
                    [
                      "australian reggae fusion"
                    ],
                    [
                      "australian rock"
                    ],
                    [
                      "australian singer-songwriter"
                    ],
                    [
                      "australian ska"
                    ],
                    [
                      "australian talent show"
                    ],
                    [
                      "australian trap"
                    ],
                    [
                      "australian underground hip hop"
                    ],
                    [
                      "austrian choir"
                    ],
                    [
                      "austrian classical piano"
                    ],
                    [
                      "austrian orchestra"
                    ],
                    [
                      "austrian punk"
                    ],
                    [
                      "austrian techno"
                    ],
                    [
                      "austro-german modernism"
                    ],
                    [
                      "auteur-compositeur-interprete quebecois"
                    ],
                    [
                      "autoharp"
                    ],
                    [
                      "autonomous black metal"
                    ],
                    [
                      "avant-garde"
                    ],
                    [
                      "avant-garde jazz"
                    ],
                    [
                      "avant-garde metal"
                    ],
                    [
                      "axe"
                    ],
                    [
                      "azeri traditional"
                    ],
                    [
                      "azonto"
                    ],
                    [
                      "azontobeats"
                    ],
                    [
                      "bachata"
                    ],
                    [
                      "bachata dominicana"
                    ],
                    [
                      "background jazz"
                    ],
                    [
                      "background music"
                    ],
                    [
                      "background piano"
                    ],
                    [
                      "baglama"
                    ],
                    [
                      "bahai"
                    ],
                    [
                      "bahamian folk"
                    ],
                    [
                      "bahamian pop"
                    ],
                    [
                      "baiao"
                    ],
                    [
                      "bakersfield sound"
                    ],
                    [
                      "balearic"
                    ],
                    [
                      "balkan brass"
                    ],
                    [
                      "balkan classical piano"
                    ],
                    [
                      "balkan hip hop"
                    ],
                    [
                      "ballet class"
                    ],
                    [
                      "ballroom"
                    ],
                    [
                      "baltic classical"
                    ],
                    [
                      "baltimore hip hop"
                    ],
                    [
                      "baltimore indie"
                    ],
                    [
                      "banda"
                    ],
                    [
                      "banda caliente"
                    ],
                    [
                      "banda carnavalera"
                    ],
                    [
                      "bandinhas"
                    ],
                    [
                      "bandolim"
                    ],
                    [
                      "bandoneon"
                    ],
                    [
                      "bangla"
                    ],
                    [
                      "banjo"
                    ],
                    [
                      "bansuri"
                    ],
                    [
                      "barbadian pop"
                    ],
                    [
                      "barbershop"
                    ],
                    [
                      "bard"
                    ],
                    [
                      "bardcore"
                    ],
                    [
                      "barnemusikk"
                    ],
                    [
                      "barnmusik"
                    ],
                    [
                      "barnsagor"
                    ],
                    [
                      "barockinterpreten"
                    ],
                    [
                      "baroque"
                    ],
                    [
                      "baroque brass"
                    ],
                    [
                      "baroque cello"
                    ],
                    [
                      "baroque ensemble"
                    ],
                    [
                      "baroque pop"
                    ],
                    [
                      "baroque singing"
                    ],
                    [
                      "baroque violin"
                    ],
                    [
                      "barrelhouse piano"
                    ],
                    [
                      "bass house"
                    ],
                    [
                      "bass music"
                    ],
                    [
                      "bass trap"
                    ],
                    [
                      "basshall"
                    ],
                    [
                      "bassline"
                    ],
                    [
                      "bath indie"
                    ],
                    [
                      "batida"
                    ],
                    [
                      "baton rouge rap"
                    ],
                    [
                      "battle rap"
                    ],
                    [
                      "bay area hip hop"
                    ],
                    [
                      "bay area indie"
                    ],
                    [
                      "bboy"
                    ],
                    [
                      "bc underground hip hop"
                    ],
                    [
                      "beach music"
                    ],
                    [
                      "beat italiano"
                    ],
                    [
                      "beat poetry"
                    ],
                    [
                      "beatboxing"
                    ],
                    [
                      "beatlesque"
                    ],
                    [
                      "beats"
                    ],
                    [
                      "bebop"
                    ],
                    [
                      "bedroom pop"
                    ],
                    [
                      "bedroom soul"
                    ],
                    [
                      "belarusian electronic"
                    ],
                    [
                      "belarusian indie"
                    ],
                    [
                      "belarusian pop"
                    ],
                    [
                      "belgian classical piano"
                    ],
                    [
                      "belgian contemporary classical"
                    ],
                    [
                      "belgian dance"
                    ],
                    [
                      "belgian edm"
                    ],
                    [
                      "belgian indie"
                    ],
                    [
                      "belgian indie rock"
                    ],
                    [
                      "belgian jazz"
                    ],
                    [
                      "belgian metal"
                    ],
                    [
                      "belgian new wave"
                    ],
                    [
                      "belgian pop"
                    ],
                    [
                      "belgian rock"
                    ],
                    [
                      "belgian singer-songwriter"
                    ],
                    [
                      "belgian techno"
                    ],
                    [
                      "belly dance"
                    ],
                    [
                      "belo horizonte indie"
                    ],
                    [
                      "bengali folk"
                    ],
                    [
                      "beninese pop"
                    ],
                    [
                      "bergen indie"
                    ],
                    [
                      "berlin minimal techno"
                    ],
                    [
                      "berlin school"
                    ],
                    [
                      "bhajan"
                    ],
                    [
                      "bhangra"
                    ],
                    [
                      "bible"
                    ],
                    [
                      "big band"
                    ],
                    [
                      "big beat"
                    ],
                    [
                      "big room"
                    ],
                    [
                      "binaural"
                    ],
                    [
                      "birmingham grime"
                    ],
                    [
                      "birmingham hip hop"
                    ],
                    [
                      "birmingham metal"
                    ],
                    [
                      "bitpop"
                    ],
                    [
                      "black 'n' roll"
                    ],
                    [
                      "black comedy"
                    ],
                    [
                      "black metal"
                    ],
                    [
                      "black punk"
                    ],
                    [
                      "black sludge"
                    ],
                    [
                      "black thrash"
                    ],
                    [
                      "blackened crust"
                    ],
                    [
                      "blackened deathcore"
                    ],
                    [
                      "blackgaze"
                    ],
                    [
                      "blasmusik"
                    ],
                    [
                      "bleep techno"
                    ],
                    [
                      "bluegrass"
                    ],
                    [
                      "bluegrass fiddle"
                    ],
                    [
                      "bluegrass gospel"
                    ],
                    [
                      "blues"
                    ],
                    [
                      "blues latinoamericano"
                    ],
                    [
                      "blues mexicano"
                    ],
                    [
                      "blues rock"
                    ],
                    [
                      "bmore"
                    ],
                    [
                      "bohemian baroque"
                    ],
                    [
                      "bolero"
                    ],
                    [
                      "bolero cubano"
                    ],
                    [
                      "bolero mexicano"
                    ],
                    [
                      "bomba y plena"
                    ],
                    [
                      "boogaloo"
                    ],
                    [
                      "boogie"
                    ],
                    [
                      "boogie-woogie"
                    ],
                    [
                      "boom bap"
                    ],
                    [
                      "bosnian electronic"
                    ],
                    [
                      "bossa nova"
                    ],
                    [
                      "bossa nova jazz"
                    ],
                    [
                      "boston folk"
                    ],
                    [
                      "boston hardcore"
                    ],
                    [
                      "boston hip hop"
                    ],
                    [
                      "boston indie"
                    ],
                    [
                      "boston metal"
                    ],
                    [
                      "boston punk"
                    ],
                    [
                      "boston rock"
                    ],
                    [
                      "bounce"
                    ],
                    [
                      "bouncy house"
                    ],
                    [
                      "bouzouki"
                    ],
                    [
                      "bow pop"
                    ],
                    [
                      "boy band"
                    ],
                    [
                      "boy pop"
                    ],
                    [
                      "boy soprano"
                    ],
                    [
                      "brain waves"
                    ],
                    [
                      "braindance"
                    ],
                    [
                      "brass band"
                    ],
                    [
                      "brass ensemble"
                    ],
                    [
                      "brass quintet"
                    ],
                    [
                      "brazilian bass"
                    ],
                    [
                      "brazilian black metal"
                    ],
                    [
                      "brazilian boogie"
                    ],
                    [
                      "brazilian classical"
                    ],
                    [
                      "brazilian classical piano"
                    ],
                    [
                      "brazilian contemporary classical"
                    ],
                    [
                      "brazilian doom metal"
                    ],
                    [
                      "brazilian edm"
                    ],
                    [
                      "brazilian gospel"
                    ],
                    [
                      "brazilian grindcore"
                    ],
                    [
                      "brazilian groove metal"
                    ],
                    [
                      "brazilian hip hop"
                    ],
                    [
                      "brazilian indie"
                    ],
                    [
                      "brazilian jazz"
                    ],
                    [
                      "brazilian metal"
                    ],
                    [
                      "brazilian percussion"
                    ],
                    [
                      "brazilian punk"
                    ],
                    [
                      "brazilian reggae"
                    ],
                    [
                      "brazilian rock"
                    ],
                    [
                      "brazilian ska"
                    ],
                    [
                      "brazilian soul"
                    ],
                    [
                      "brazilian tech house"
                    ],
                    [
                      "brazilian techno"
                    ],
                    [
                      "brazilian thrash metal"
                    ],
                    [
                      "breakbeat"
                    ],
                    [
                      "breakcore"
                    ],
                    [
                      "breaks"
                    ],
                    [
                      "brighton indie"
                    ],
                    [
                      "brill building pop"
                    ],
                    [
                      "bristol electronic"
                    ],
                    [
                      "bristol indie"
                    ],
                    [
                      "brit funk"
                    ],
                    [
                      "british alternative rock"
                    ],
                    [
                      "british black metal"
                    ],
                    [
                      "british blues"
                    ],
                    [
                      "british brass band"
                    ],
                    [
                      "british children's music"
                    ],
                    [
                      "british choir"
                    ],
                    [
                      "british classical piano"
                    ],
                    [
                      "british comedy"
                    ],
                    [
                      "british contemporary classical"
                    ],
                    [
                      "british dance band"
                    ],
                    [
                      "british death metal"
                    ],
                    [
                      "british experimental"
                    ],
                    [
                      "british folk"
                    ],
                    [
                      "british grindcore"
                    ],
                    [
                      "british indie rock"
                    ],
                    [
                      "british industrial"
                    ],
                    [
                      "british invasion"
                    ],
                    [
                      "british jazz"
                    ],
                    [
                      "british modern classical"
                    ],
                    [
                      "british orchestra"
                    ],
                    [
                      "british post-rock"
                    ],
                    [
                      "british power metal"
                    ],
                    [
                      "british singer-songwriter"
                    ],
                    [
                      "british soul"
                    ],
                    [
                      "british soundtrack"
                    ],
                    [
                      "britpop"
                    ],
                    [
                      "broadway"
                    ],
                    [
                      "broken beat"
                    ],
                    [
                      "bronx hip hop"
                    ],
                    [
                      "brooklyn drill"
                    ],
                    [
                      "brooklyn indie"
                    ],
                    [
                      "brostep"
                    ],
                    [
                      "brutal death metal"
                    ],
                    [
                      "brutal deathcore"
                    ],
                    [
                      "bubble trance"
                    ],
                    [
                      "bubblegrunge"
                    ],
                    [
                      "bubblegum dance"
                    ],
                    [
                      "bubblegum pop"
                    ],
                    [
                      "buffalo ny indie"
                    ],
                    [
                      "buffalo ny metal"
                    ],
                    [
                      "bulgarian electronic"
                    ],
                    [
                      "bulgarian experimental"
                    ],
                    [
                      "bulgarian pop"
                    ],
                    [
                      "burmese traditional"
                    ],
                    [
                      "bush ballad"
                    ],
                    [
                      "c-pop"
                    ],
                    [
                      "c86"
                    ],
                    [
                      "cabaret"
                    ],
                    [
                      "cajun"
                    ],
                    [
                      "calgary indie"
                    ],
                    [
                      "cali rap"
                    ],
                    [
                      "calming instrumental"
                    ],
                    [
                      "calypso"
                    ],
                    [
                      "cambodian rock"
                    ],
                    [
                      "cambridge choir"
                    ],
                    [
                      "cambridgeshire indie"
                    ],
                    [
                      "canadian americana"
                    ],
                    [
                      "canadian blues"
                    ],
                    [
                      "canadian ccm"
                    ],
                    [
                      "canadian celtic"
                    ],
                    [
                      "canadian children's music"
                    ],
                    [
                      "canadian choir"
                    ],
                    [
                      "canadian classical"
                    ],
                    [
                      "canadian classical piano"
                    ],
                    [
                      "canadian comedy"
                    ],
                    [
                      "canadian contemporary country"
                    ],
                    [
                      "canadian contemporary r&b"
                    ],
                    [
                      "canadian country"
                    ],
                    [
                      "canadian electronic"
                    ],
                    [
                      "canadian electropop"
                    ],
                    [
                      "canadian experimental"
                    ],
                    [
                      "canadian folk"
                    ],
                    [
                      "canadian hardcore"
                    ],
                    [
                      "canadian hip hop"
                    ],
                    [
                      "canadian indie"
                    ],
                    [
                      "canadian indie folk"
                    ],
                    [
                      "canadian indigenous"
                    ],
                    [
                      "canadian latin"
                    ],
                    [
                      "canadian metal"
                    ],
                    [
                      "canadian modern jazz"
                    ],
                    [
                      "canadian pop"
                    ],
                    [
                      "canadian pop punk"
                    ],
                    [
                      "canadian post-hardcore"
                    ],
                    [
                      "canadian post-rock"
                    ],
                    [
                      "canadian psychedelic"
                    ],
                    [
                      "canadian punk"
                    ],
                    [
                      "canadian rock"
                    ],
                    [
                      "canadian rockabilly"
                    ],
                    [
                      "canadian singer-songwriter"
                    ],
                    [
                      "canadian soundtrack"
                    ],
                    [
                      "cancion infantil mexicana"
                    ],
                    [
                      "cancion melodica"
                    ],
                    [
                      "candomble"
                    ],
                    [
                      "candy pop"
                    ],
                    [
                      "cantaditas"
                    ],
                    [
                      "cantautor"
                    ],
                    [
                      "cante flamenco"
                    ],
                    [
                      "canterbury scene"
                    ],
                    [
                      "canto popular uruguayo"
                    ],
                    [
                      "cantopop"
                    ],
                    [
                      "canzone d'autore"
                    ],
                    [
                      "canzone genovese"
                    ],
                    [
                      "canzone napoletana"
                    ],
                    [
                      "cape breton folk"
                    ],
                    [
                      "cape town indie"
                    ],
                    [
                      "cape verdean folk"
                    ],
                    [
                      "caracas indie"
                    ],
                    [
                      "carnatic"
                    ],
                    [
                      "carnatic instrumental"
                    ],
                    [
                      "carnatic vocal"
                    ],
                    [
                      "carnaval"
                    ],
                    [
                      "cartoon"
                    ],
                    [
                      "cathedral choir"
                    ],
                    [
                      "caucasian classical"
                    ],
                    [
                      "caucasian classical piano"
                    ],
                    [
                      "ccm"
                    ],
                    [
                      "cedm"
                    ],
                    [
                      "cello"
                    ],
                    [
                      "celtic"
                    ],
                    [
                      "celtic harp"
                    ],
                    [
                      "celtic metal"
                    ],
                    [
                      "celtic punk"
                    ],
                    [
                      "celtic rock"
                    ],
                    [
                      "cha-cha-cha"
                    ],
                    [
                      "chakra"
                    ],
                    [
                      "chalga"
                    ],
                    [
                      "chamame"
                    ],
                    [
                      "chamber choir"
                    ],
                    [
                      "chamber ensemble"
                    ],
                    [
                      "chamber folk"
                    ],
                    [
                      "chamber orchestra"
                    ],
                    [
                      "chamber pop"
                    ],
                    [
                      "chamber psych"
                    ],
                    [
                      "champeta"
                    ],
                    [
                      "channel islands indie"
                    ],
                    [
                      "channel pop"
                    ],
                    [
                      "chanson"
                    ],
                    [
                      "chanson paillarde"
                    ],
                    [
                      "chaotic hardcore"
                    ],
                    [
                      "charanga"
                    ],
                    [
                      "charango"
                    ],
                    [
                      "charlotte nc indie"
                    ],
                    [
                      "charlottesville indie"
                    ],
                    [
                      "chicago blues"
                    ],
                    [
                      "chicago drill"
                    ],
                    [
                      "chicago hardcore"
                    ],
                    [
                      "chicago house"
                    ],
                    [
                      "chicago indie"
                    ],
                    [
                      "chicago pop punk"
                    ],
                    [
                      "chicago punk"
                    ],
                    [
                      "chicago rap"
                    ],
                    [
                      "chicago soul"
                    ],
                    [
                      "chicano punk"
                    ],
                    [
                      "chicano rap"
                    ],
                    [
                      "chicha"
                    ],
                    [
                      "chihuahua indie"
                    ],
                    [
                      "children's choir"
                    ],
                    [
                      "children's folk"
                    ],
                    [
                      "children's music"
                    ],
                    [
                      "children's story"
                    ],
                    [
                      "chilean hardcore"
                    ],
                    [
                      "chilean indie"
                    ],
                    [
                      "chilean rock"
                    ],
                    [
                      "chilena"
                    ],
                    [
                      "chill groove"
                    ],
                    [
                      "chill guitar"
                    ],
                    [
                      "chill lounge"
                    ],
                    [
                      "chill pop"
                    ],
                    [
                      "chill r&b"
                    ],
                    [
                      "chillhop"
                    ],
                    [
                      "chillstep"
                    ],
                    [
                      "chillwave"
                    ],
                    [
                      "chinese audiophile"
                    ],
                    [
                      "chinese classical"
                    ],
                    [
                      "chinese classical performance"
                    ],
                    [
                      "chinese classical piano"
                    ],
                    [
                      "chinese electropop"
                    ],
                    [
                      "chinese hip hop"
                    ],
                    [
                      "chinese idol pop"
                    ],
                    [
                      "chinese indie"
                    ],
                    [
                      "chinese indie rock"
                    ],
                    [
                      "chinese instrumental"
                    ],
                    [
                      "chinese r&b"
                    ],
                    [
                      "chinese soundtrack"
                    ],
                    [
                      "chinese traditional"
                    ],
                    [
                      "chip hop"
                    ],
                    [
                      "chiptune"
                    ],
                    [
                      "chopped and screwed"
                    ],
                    [
                      "choral"
                    ],
                    [
                      "choro"
                    ],
                    [
                      "christchurch indie"
                    ],
                    [
                      "christelijk"
                    ],
                    [
                      "christian a cappella"
                    ],
                    [
                      "christian alternative rock"
                    ],
                    [
                      "christian hard rock"
                    ],
                    [
                      "christian hardcore"
                    ],
                    [
                      "christian hip hop"
                    ],
                    [
                      "christian indie"
                    ],
                    [
                      "christian metal"
                    ],
                    [
                      "christian metalcore"
                    ],
                    [
                      "christian music"
                    ],
                    [
                      "christian pop"
                    ],
                    [
                      "christian power metal"
                    ],
                    [
                      "christian punk"
                    ],
                    [
                      "christian relaxative"
                    ],
                    [
                      "christian rock"
                    ],
                    [
                      "christian trap"
                    ],
                    [
                      "christian uplift"
                    ],
                    [
                      "christmas instrumental"
                    ],
                    [
                      "christmas product"
                    ],
                    [
                      "chunchaca"
                    ],
                    [
                      "chutney"
                    ],
                    [
                      "cincinnati rap"
                    ],
                    [
                      "cinematic post-rock"
                    ],
                    [
                      "circuit"
                    ],
                    [
                      "circus"
                    ],
                    [
                      "city pop"
                    ],
                    [
                      "classic afrobeat"
                    ],
                    [
                      "classic arab pop"
                    ],
                    [
                      "classic australian country"
                    ],
                    [
                      "classic belgian pop"
                    ],
                    [
                      "classic bhangra"
                    ],
                    [
                      "classic bollywood"
                    ],
                    [
                      "classic canadian rock"
                    ],
                    [
                      "classic cantopop"
                    ],
                    [
                      "classic city pop"
                    ],
                    [
                      "classic colombian pop"
                    ],
                    [
                      "classic country pop"
                    ],
                    [
                      "classic czech pop"
                    ],
                    [
                      "classic danish pop"
                    ],
                    [
                      "classic dubstep"
                    ],
                    [
                      "classic eurovision"
                    ],
                    [
                      "classic finnish pop"
                    ],
                    [
                      "classic french pop"
                    ],
                    [
                      "classic garage rock"
                    ],
                    [
                      "classic girl group"
                    ],
                    [
                      "classic greek pop"
                    ],
                    [
                      "classic hardstyle"
                    ],
                    [
                      "classic hungarian pop"
                    ],
                    [
                      "classic icelandic pop"
                    ],
                    [
                      "classic indo pop"
                    ],
                    [
                      "classic iskelma"
                    ],
                    [
                      "classic israeli pop"
                    ],
                    [
                      "classic italian folk pop"
                    ],
                    [
                      "classic italian pop"
                    ],
                    [
                      "classic j-pop"
                    ],
                    [
                      "classic j-rock"
                    ],
                    [
                      "classic japanese jazz"
                    ],
                    [
                      "classic korean pop"
                    ],
                    [
                      "classic latvian pop"
                    ],
                    [
                      "classic luk thung"
                    ],
                    [
                      "classic mandopop"
                    ],
                    [
                      "classic norwegian pop"
                    ],
                    [
                      "classic nz pop"
                    ],
                    [
                      "classic opm"
                    ],
                    [
                      "classic pakistani pop"
                    ],
                    [
                      "classic persian pop"
                    ],
                    [
                      "classic peruvian pop"
                    ],
                    [
                      "classic polish pop"
                    ],
                    [
                      "classic praise"
                    ],
                    [
                      "classic progressive house"
                    ],
                    [
                      "classic psychedelic rock"
                    ],
                    [
                      "classic punjabi pop"
                    ],
                    [
                      "classic rock"
                    ],
                    [
                      "classic russian pop"
                    ],
                    [
                      "classic russian rock"
                    ],
                    [
                      "classic schlager"
                    ],
                    [
                      "classic soul"
                    ],
                    [
                      "classic soundtrack"
                    ],
                    [
                      "classic swedish pop"
                    ],
                    [
                      "classic thai pop"
                    ],
                    [
                      "classic tunisian pop"
                    ],
                    [
                      "classic turkish pop"
                    ],
                    [
                      "classic uk pop"
                    ],
                    [
                      "classic venezuelan pop"
                    ],
                    [
                      "classical"
                    ],
                    [
                      "classical accordion"
                    ],
                    [
                      "classical baritone"
                    ],
                    [
                      "classical bass"
                    ],
                    [
                      "classical cello"
                    ],
                    [
                      "classical clarinet"
                    ],
                    [
                      "classical contralto"
                    ],
                    [
                      "classical countertenor"
                    ],
                    [
                      "classical era"
                    ],
                    [
                      "classical flute"
                    ],
                    [
                      "classical guitar"
                    ],
                    [
                      "classical guitar quartet"
                    ],
                    [
                      "classical harp"
                    ],
                    [
                      "classical horn"
                    ],
                    [
                      "classical mandolin"
                    ],
                    [
                      "classical mezzo-soprano"
                    ],
                    [
                      "classical oboe"
                    ],
                    [
                      "classical organ"
                    ],
                    [
                      "classical performance"
                    ],
                    [
                      "classical piano"
                    ],
                    [
                      "classical piano duo"
                    ],
                    [
                      "classical piano trio"
                    ],
                    [
                      "classical saxophone"
                    ],
                    [
                      "classical soprano"
                    ],
                    [
                      "classical tenor"
                    ],
                    [
                      "classical trumpet"
                    ],
                    [
                      "classify"
                    ],
                    [
                      "clawhammer banjo"
                    ],
                    [
                      "clean comedy"
                    ],
                    [
                      "cleveland metal"
                    ],
                    [
                      "coco"
                    ],
                    [
                      "collage pop"
                    ],
                    [
                      "college a cappella"
                    ],
                    [
                      "college marching band"
                    ],
                    [
                      "cologne electronic"
                    ],
                    [
                      "cologne indie"
                    ],
                    [
                      "colombian electronic"
                    ],
                    [
                      "colombian hip hop"
                    ],
                    [
                      "colombian indie"
                    ],
                    [
                      "colombian pop"
                    ],
                    [
                      "colombian rock"
                    ],
                    [
                      "comedia"
                    ],
                    [
                      "comedy"
                    ],
                    [
                      "comedy rap"
                    ],
                    [
                      "comedy rock"
                    ],
                    [
                      "comic"
                    ],
                    [
                      "comic metal"
                    ],
                    [
                      "commons"
                    ],
                    [
                      "complextro"
                    ],
                    [
                      "compositional ambient"
                    ],
                    [
                      "concert band"
                    ],
                    [
                      "connecticut hardcore"
                    ],
                    [
                      "conscious hip hop"
                    ],
                    [
                      "contemporary choir"
                    ],
                    [
                      "contemporary classical"
                    ],
                    [
                      "contemporary classical piano"
                    ],
                    [
                      "contemporary country"
                    ],
                    [
                      "contemporary folk"
                    ],
                    [
                      "contemporary gospel"
                    ],
                    [
                      "contemporary jazz"
                    ],
                    [
                      "contemporary post-bop"
                    ],
                    [
                      "contemporary vocal jazz"
                    ],
                    [
                      "contrabass"
                    ],
                    [
                      "cool jazz"
                    ],
                    [
                      "copla"
                    ],
                    [
                      "cornish folk"
                    ],
                    [
                      "cornwall indie"
                    ],
                    [
                      "corrido"
                    ],
                    [
                      "corridos tumbados"
                    ],
                    [
                      "corrosion"
                    ],
                    [
                      "cosmic american"
                    ],
                    [
                      "cosmic black metal"
                    ],
                    [
                      "cosmic post-rock"
                    ],
                    [
                      "cosmic uplifting trance"
                    ],
                    [
                      "country"
                    ],
                    [
                      "country blues"
                    ],
                    [
                      "country boogie"
                    ],
                    [
                      "country dawn"
                    ],
                    [
                      "country gospel"
                    ],
                    [
                      "country pop"
                    ],
                    [
                      "country quebecois"
                    ],
                    [
                      "country rap"
                    ],
                    [
                      "country road"
                    ],
                    [
                      "country rock"
                    ],
                    [
                      "coverchill"
                    ],
                    [
                      "cowboy western"
                    ],
                    [
                      "cowpunk"
                    ],
                    [
                      "crack rock steady"
                    ],
                    [
                      "croatian electronic"
                    ],
                    [
                      "croatian folk"
                    ],
                    [
                      "croatian pop"
                    ],
                    [
                      "croatian rock"
                    ],
                    [
                      "crossover prog"
                    ],
                    [
                      "crossover thrash"
                    ],
                    [
                      "crunk"
                    ],
                    [
                      "crust punk"
                    ],
                    [
                      "cuarteto"
                    ],
                    [
                      "cuatro venezolano"
                    ],
                    [
                      "cuban rumba"
                    ],
                    [
                      "cubaton"
                    ],
                    [
                      "cumbia"
                    ],
                    [
                      "cumbia andina mexicana"
                    ],
                    [
                      "cumbia chilena"
                    ],
                    [
                      "cumbia colombiana regia"
                    ],
                    [
                      "cumbia ecuatoriana"
                    ],
                    [
                      "cumbia funk"
                    ],
                    [
                      "cumbia lagunera"
                    ],
                    [
                      "cumbia paraguaya"
                    ],
                    [
                      "cumbia peruana"
                    ],
                    [
                      "cumbia ranchera"
                    ],
                    [
                      "cumbia salvadorena"
                    ],
                    [
                      "cumbia sonidera"
                    ],
                    [
                      "cumbia villera"
                    ],
                    [
                      "cyberpunk"
                    ],
                    [
                      "cymraeg"
                    ],
                    [
                      "cypriot pop"
                    ],
                    [
                      "czech classical"
                    ],
                    [
                      "czech classical piano"
                    ],
                    [
                      "czech contemporary classical"
                    ],
                    [
                      "czech folk"
                    ],
                    [
                      "czech hip hop"
                    ],
                    [
                      "czsk hip hop"
                    ],
                    [
                      "d-beat"
                    ],
                    [
                      "dabke"
                    ],
                    [
                      "dakke dak"
                    ],
                    [
                      "dalarna indie"
                    ],
                    [
                      "dallas indie"
                    ],
                    [
                      "dance pop"
                    ],
                    [
                      "dance rock"
                    ],
                    [
                      "dance-punk"
                    ],
                    [
                      "dancehall"
                    ],
                    [
                      "dangdut"
                    ],
                    [
                      "danish alternative rock"
                    ],
                    [
                      "danish classical"
                    ],
                    [
                      "danish electro"
                    ],
                    [
                      "danish electronic"
                    ],
                    [
                      "danish electropop"
                    ],
                    [
                      "danish experimental"
                    ],
                    [
                      "danish hip hop"
                    ],
                    [
                      "danish jazz"
                    ],
                    [
                      "danish metal"
                    ],
                    [
                      "danish pop"
                    ],
                    [
                      "danish pop rock"
                    ],
                    [
                      "danish post-punk"
                    ],
                    [
                      "danish rock"
                    ],
                    [
                      "danish singer-songwriter"
                    ],
                    [
                      "danish techno"
                    ],
                    [
                      "dansband"
                    ],
                    [
                      "danseband"
                    ],
                    [
                      "dansktop"
                    ],
                    [
                      "danspunk"
                    ],
                    [
                      "dark cabaret"
                    ],
                    [
                      "dark clubbing"
                    ],
                    [
                      "dark disco"
                    ],
                    [
                      "dark electro"
                    ],
                    [
                      "dark hardcore"
                    ],
                    [
                      "dark jazz"
                    ],
                    [
                      "dark minimal techno"
                    ],
                    [
                      "dark post-punk"
                    ],
                    [
                      "dark progressive house"
                    ],
                    [
                      "dark psytrance"
                    ],
                    [
                      "dark techno"
                    ],
                    [
                      "dark trap"
                    ],
                    [
                      "dark wave"
                    ],
                    [
                      "darkstep"
                    ],
                    [
                      "darksynth"
                    ],
                    [
                      "dayton indie"
                    ],
                    [
                      "dc hardcore"
                    ],
                    [
                      "death 'n' roll"
                    ],
                    [
                      "death metal"
                    ],
                    [
                      "deathcore"
                    ],
                    [
                      "deathgrass"
                    ],
                    [
                      "deathgrind"
                    ],
                    [
                      "deathrash"
                    ],
                    [
                      "deathrock"
                    ],
                    [
                      "deathstep"
                    ],
                    [
                      "deep acoustic pop"
                    ],
                    [
                      "deep adult standards"
                    ],
                    [
                      "deep big room"
                    ],
                    [
                      "deep ccm"
                    ],
                    [
                      "deep chill"
                    ],
                    [
                      "deep christian rock"
                    ],
                    [
                      "deep classic garage rock"
                    ],
                    [
                      "deep comedy"
                    ],
                    [
                      "deep contemporary country"
                    ],
                    [
                      "deep dance pop"
                    ],
                    [
                      "deep darkpsy"
                    ],
                    [
                      "deep deep house"
                    ],
                    [
                      "deep deep tech house"
                    ],
                    [
                      "deep delta blues"
                    ],
                    [
                      "deep disco"
                    ],
                    [
                      "deep disco house"
                    ],
                    [
                      "deep dnb"
                    ],
                    [
                      "deep dubstep"
                    ],
                    [
                      "deep east coast hip hop"
                    ],
                    [
                      "deep euro house"
                    ],
                    [
                      "deep eurodance"
                    ],
                    [
                      "deep filthstep"
                    ],
                    [
                      "deep flow"
                    ],
                    [
                      "deep free jazz"
                    ],
                    [
                      "deep freestyle"
                    ],
                    [
                      "deep full on"
                    ],
                    [
                      "deep funk"
                    ],
                    [
                      "deep funk house"
                    ],
                    [
                      "deep g funk"
                    ],
                    [
                      "deep german punk"
                    ],
                    [
                      "deep groove house"
                    ],
                    [
                      "deep happy hardcore"
                    ],
                    [
                      "deep hardtechno"
                    ],
                    [
                      "deep house"
                    ],
                    [
                      "deep idm"
                    ],
                    [
                      "deep indian pop"
                    ],
                    [
                      "deep latin alternative"
                    ],
                    [
                      "deep latin christian"
                    ],
                    [
                      "deep latin jazz"
                    ],
                    [
                      "deep liquid bass"
                    ],
                    [
                      "deep melodic hard rock"
                    ],
                    [
                      "deep melodic metalcore"
                    ],
                    [
                      "deep metalcore"
                    ],
                    [
                      "deep minimal techno"
                    ],
                    [
                      "deep motown"
                    ],
                    [
                      "deep new americana"
                    ],
                    [
                      "deep new wave"
                    ],
                    [
                      "deep norteno"
                    ],
                    [
                      "deep pop edm"
                    ],
                    [
                      "deep power-pop punk"
                    ],
                    [
                      "deep progressive house"
                    ],
                    [
                      "deep progressive trance"
                    ],
                    [
                      "deep psychobilly"
                    ],
                    [
                      "deep punk rock"
                    ],
                    [
                      "deep r&b"
                    ],
                    [
                      "deep ragga"
                    ],
                    [
                      "deep regional mexican"
                    ],
                    [
                      "deep smooth jazz"
                    ],
                    [
                      "deep soft rock"
                    ],
                    [
                      "deep soul house"
                    ],
                    [
                      "deep soundtrack"
                    ],
                    [
                      "deep southern soul"
                    ],
                    [
                      "deep southern trap"
                    ],
                    [
                      "deep talent show"
                    ],
                    [
                      "deep tech house"
                    ],
                    [
                      "deep techno"
                    ],
                    [
                      "deep tropical house"
                    ],
                    [
                      "deep underground hip hop"
                    ],
                    [
                      "deep uplifting trance"
                    ],
                    [
                      "deep vocal house"
                    ],
                    [
                      "delta blues"
                    ],
                    [
                      "dembow"
                    ],
                    [
                      "denpa-kei"
                    ],
                    [
                      "denton tx indie"
                    ],
                    [
                      "denver indie"
                    ],
                    [
                      "depressive black metal"
                    ],
                    [
                      "derby indie"
                    ],
                    [
                      "desert blues"
                    ],
                    [
                      "desi hip hop"
                    ],
                    [
                      "desi pop"
                    ],
                    [
                      "destroy techno"
                    ],
                    [
                      "detroit hip hop"
                    ],
                    [
                      "detroit house"
                    ],
                    [
                      "detroit rock"
                    ],
                    [
                      "detroit techno"
                    ],
                    [
                      "detroit trap"
                    ],
                    [
                      "detske pisnicky"
                    ],
                    [
                      "detskie pesni"
                    ],
                    [
                      "dfw rap"
                    ],
                    [
                      "dhrupad"
                    ],
                    [
                      "didgeridoo"
                    ],
                    [
                      "digital hardcore"
                    ],
                    [
                      "dinner jazz"
                    ],
                    [
                      "dirty south rap"
                    ],
                    [
                      "dirty texas rap"
                    ],
                    [
                      "disco"
                    ],
                    [
                      "disco house"
                    ],
                    [
                      "disney"
                    ],
                    [
                      "disney svenska"
                    ],
                    [
                      "diva house"
                    ],
                    [
                      "dixieland"
                    ],
                    [
                      "diy emo"
                    ],
                    [
                      "djent"
                    ],
                    [
                      "dmv rap"
                    ],
                    [
                      "dominican pop"
                    ],
                    [
                      "dong-yo"
                    ],
                    [
                      "doo-wop"
                    ],
                    [
                      "doom metal"
                    ],
                    [
                      "doomcore"
                    ],
                    [
                      "dortmund indie"
                    ],
                    [
                      "double drumming"
                    ],
                    [
                      "downtempo"
                    ],
                    [
                      "downtempo bass"
                    ],
                    [
                      "drama"
                    ],
                    [
                      "dream pop"
                    ],
                    [
                      "dream trance"
                    ],
                    [
                      "dreamgaze"
                    ],
                    [
                      "dreamo"
                    ],
                    [
                      "drift"
                    ],
                    [
                      "drill"
                    ],
                    [
                      "drill and bass"
                    ],
                    [
                      "drone"
                    ],
                    [
                      "drone folk"
                    ],
                    [
                      "drone metal"
                    ],
                    [
                      "drum and bass"
                    ],
                    [
                      "dub"
                    ],
                    [
                      "dub metal"
                    ],
                    [
                      "dub poetry"
                    ],
                    [
                      "dub reggae"
                    ],
                    [
                      "dub techno"
                    ],
                    [
                      "dubstep"
                    ],
                    [
                      "dubstep product"
                    ],
                    [
                      "dubsteppe"
                    ],
                    [
                      "duduk"
                    ],
                    [
                      "duluth indie"
                    ],
                    [
                      "dunedin indie"
                    ],
                    [
                      "dunedin sound"
                    ],
                    [
                      "dungeon synth"
                    ],
                    [
                      "duranguense"
                    ],
                    [
                      "dusseldorf electronic"
                    ],
                    [
                      "dutch americana"
                    ],
                    [
                      "dutch blues"
                    ],
                    [
                      "dutch classical piano"
                    ],
                    [
                      "dutch death metal"
                    ],
                    [
                      "dutch edm"
                    ],
                    [
                      "dutch experimental electronic"
                    ],
                    [
                      "dutch folk"
                    ],
                    [
                      "dutch hip hop"
                    ],
                    [
                      "dutch house"
                    ],
                    [
                      "dutch indie"
                    ],
                    [
                      "dutch indie rock"
                    ],
                    [
                      "dutch jazz"
                    ],
                    [
                      "dutch metal"
                    ],
                    [
                      "dutch moombahton"
                    ],
                    [
                      "dutch pop"
                    ],
                    [
                      "dutch prog"
                    ],
                    [
                      "dutch rap pop"
                    ],
                    [
                      "dutch rock"
                    ],
                    [
                      "dutch tech house"
                    ],
                    [
                      "dutch trance"
                    ],
                    [
                      "early american folk"
                    ],
                    [
                      "early avant garde"
                    ],
                    [
                      "early modern classical"
                    ],
                    [
                      "early music"
                    ],
                    [
                      "early music choir"
                    ],
                    [
                      "early music ensemble"
                    ],
                    [
                      "early reggae"
                    ],
                    [
                      "early romantic era"
                    ],
                    [
                      "early synthpop"
                    ],
                    [
                      "early us punk"
                    ],
                    [
                      "east coast hip hop"
                    ],
                    [
                      "east coast reggae"
                    ],
                    [
                      "eastern bloc groove"
                    ],
                    [
                      "easy listening"
                    ],
                    [
                      "easycore"
                    ],
                    [
                      "eau claire indie"
                    ],
                    [
                      "ebm"
                    ],
                    [
                      "ecm-style jazz"
                    ],
                    [
                      "ectofolk"
                    ],
                    [
                      "ecuadorian pop"
                    ],
                    [
                      "edm"
                    ],
                    [
                      "edmonton indie"
                    ],
                    [
                      "egyptian pop"
                    ],
                    [
                      "egyptian traditional"
                    ],
                    [
                      "el paso indie"
                    ],
                    [
                      "electra"
                    ],
                    [
                      "electric bass"
                    ],
                    [
                      "electric blues"
                    ],
                    [
                      "electro"
                    ],
                    [
                      "electro house"
                    ],
                    [
                      "electro jazz"
                    ],
                    [
                      "electro latino"
                    ],
                    [
                      "electro swing"
                    ],
                    [
                      "electro trash"
                    ],
                    [
                      "electro-industrial"
                    ],
                    [
                      "electroclash"
                    ],
                    [
                      "electrofox"
                    ],
                    [
                      "electronic djent"
                    ],
                    [
                      "electronic rock"
                    ],
                    [
                      "electronic trap"
                    ],
                    [
                      "electronica"
                    ],
                    [
                      "electronica argentina"
                    ],
                    [
                      "electronica chilena"
                    ],
                    [
                      "electronica venezuela"
                    ],
                    [
                      "electronicore"
                    ],
                    [
                      "electropop"
                    ],
                    [
                      "electropowerpop"
                    ],
                    [
                      "elektropunk"
                    ],
                    [
                      "elephant 6"
                    ],
                    [
                      "emo"
                    ],
                    [
                      "emo mexicano"
                    ],
                    [
                      "emo punk"
                    ],
                    [
                      "emo rap"
                    ],
                    [
                      "emocore"
                    ],
                    [
                      "english baroque"
                    ],
                    [
                      "english indie rock"
                    ],
                    [
                      "english renaissance"
                    ],
                    [
                      "entehno"
                    ],
                    [
                      "environmental"
                    ],
                    [
                      "epic doom"
                    ],
                    [
                      "epicore"
                    ],
                    [
                      "erhu"
                    ],
                    [
                      "erotica"
                    ],
                    [
                      "escape room"
                    ],
                    [
                      "esperanto"
                    ],
                    [
                      "estonian hip hop"
                    ],
                    [
                      "estonian pop"
                    ],
                    [
                      "ethereal wave"
                    ],
                    [
                      "etherpop"
                    ],
                    [
                      "ethio-jazz"
                    ],
                    [
                      "ethiopian pop"
                    ],
                    [
                      "ethnomusicology"
                    ],
                    [
                      "ethnotronica"
                    ],
                    [
                      "eugene indie"
                    ],
                    [
                      "euphoric hardstyle"
                    ],
                    [
                      "euro hi-nrg"
                    ],
                    [
                      "eurobeat"
                    ],
                    [
                      "eurodance"
                    ],
                    [
                      "europop"
                    ],
                    [
                      "euroska"
                    ],
                    [
                      "eurovision"
                    ],
                    [
                      "exotica"
                    ],
                    [
                      "experimental"
                    ],
                    [
                      "experimental ambient"
                    ],
                    [
                      "experimental dub"
                    ],
                    [
                      "experimental folk"
                    ],
                    [
                      "experimental guitar"
                    ],
                    [
                      "experimental hip hop"
                    ],
                    [
                      "experimental house"
                    ],
                    [
                      "experimental indie rock"
                    ],
                    [
                      "experimental jazz"
                    ],
                    [
                      "experimental pop"
                    ],
                    [
                      "experimental rock"
                    ],
                    [
                      "experimental vocal"
                    ],
                    [
                      "fado"
                    ],
                    [
                      "fake"
                    ],
                    [
                      "family gospel"
                    ],
                    [
                      "faroese pop"
                    ],
                    [
                      "fast melodic punk"
                    ],
                    [
                      "fidget house"
                    ],
                    [
                      "filmi"
                    ],
                    [
                      "filter house"
                    ],
                    [
                      "filthstep"
                    ],
                    [
                      "final fantasy"
                    ],
                    [
                      "fingerstyle"
                    ],
                    [
                      "finnish alternative rock"
                    ],
                    [
                      "finnish black metal"
                    ],
                    [
                      "finnish classical"
                    ],
                    [
                      "finnish contemporary classical"
                    ],
                    [
                      "finnish death metal"
                    ],
                    [
                      "finnish doom metal"
                    ],
                    [
                      "finnish edm"
                    ],
                    [
                      "finnish electro"
                    ],
                    [
                      "finnish hard rock"
                    ],
                    [
                      "finnish melodeath"
                    ],
                    [
                      "finnish metal"
                    ],
                    [
                      "finnish power metal"
                    ],
                    [
                      "finnish soul"
                    ],
                    [
                      "firenze indie"
                    ],
                    [
                      "flamenco"
                    ],
                    [
                      "flamenco fusion"
                    ],
                    [
                      "flamenco guitar"
                    ],
                    [
                      "flick hop"
                    ],
                    [
                      "flint hip hop"
                    ],
                    [
                      "float house"
                    ],
                    [
                      "florida death metal"
                    ],
                    [
                      "florida rap"
                    ],
                    [
                      "fo jing"
                    ],
                    [
                      "focus"
                    ],
                    [
                      "focus beats"
                    ],
                    [
                      "focus trance"
                    ],
                    [
                      "folclor afrocolombiano"
                    ],
                    [
                      "folclor colombiano"
                    ],
                    [
                      "folclore extremeno"
                    ],
                    [
                      "folclore jujeno"
                    ],
                    [
                      "folclore navarra"
                    ],
                    [
                      "folclore salteno"
                    ],
                    [
                      "folclore tucumano"
                    ],
                    [
                      "folk"
                    ],
                    [
                      "folk metal"
                    ],
                    [
                      "folk punk"
                    ],
                    [
                      "folk rock"
                    ],
                    [
                      "folk rock italiano"
                    ],
                    [
                      "folk-pop"
                    ],
                    [
                      "folklore argentino"
                    ],
                    [
                      "folklore boliviano"
                    ],
                    [
                      "folklore chileno"
                    ],
                    [
                      "folklore ecuatoriano"
                    ],
                    [
                      "folklore peruano"
                    ],
                    [
                      "folklore quebecois"
                    ],
                    [
                      "folklore venezolano"
                    ],
                    [
                      "folkmusik"
                    ],
                    [
                      "folktronica"
                    ],
                    [
                      "footwork"
                    ],
                    [
                      "forro"
                    ],
                    [
                      "forro tradicional"
                    ],
                    [
                      "fort worth indie"
                    ],
                    [
                      "fourth world"
                    ],
                    [
                      "franco-flemish school"
                    ],
                    [
                      "francoton"
                    ],
                    [
                      "frankfurt electronic"
                    ],
                    [
                      "freak folk"
                    ],
                    [
                      "freakbeat"
                    ],
                    [
                      "free folk"
                    ],
                    [
                      "free improvisation"
                    ],
                    [
                      "free jazz"
                    ],
                    [
                      "freestyle"
                    ],
                    [
                      "french baroque"
                    ],
                    [
                      "french classical piano"
                    ],
                    [
                      "french contemporary classical"
                    ],
                    [
                      "french death metal"
                    ],
                    [
                      "french hip hop"
                    ],
                    [
                      "french indie folk"
                    ],
                    [
                      "french indie pop"
                    ],
                    [
                      "french indietronica"
                    ],
                    [
                      "french jazz"
                    ],
                    [
                      "french metal"
                    ],
                    [
                      "french movie tunes"
                    ],
                    [
                      "french opera"
                    ],
                    [
                      "french orchestra"
                    ],
                    [
                      "french pop"
                    ],
                    [
                      "french post-punk"
                    ],
                    [
                      "french punk"
                    ],
                    [
                      "french reggae"
                    ],
                    [
                      "french rock"
                    ],
                    [
                      "french romanticism"
                    ],
                    [
                      "french shoegaze"
                    ],
                    [
                      "french soundtrack"
                    ],
                    [
                      "french synthpop"
                    ],
                    [
                      "french tech house"
                    ],
                    [
                      "french techno"
                    ],
                    [
                      "frenchcore"
                    ],
                    [
                      "frevo"
                    ],
                    [
                      "full on"
                    ],
                    [
                      "funana"
                    ],
                    [
                      "funeral doom"
                    ],
                    [
                      "funk"
                    ],
                    [
                      "funk 150 bpm"
                    ],
                    [
                      "funk carioca"
                    ],
                    [
                      "funk metal"
                    ],
                    [
                      "funk mexicano"
                    ],
                    [
                      "funk ostentacao"
                    ],
                    [
                      "funk pop"
                    ],
                    [
                      "funk rock"
                    ],
                    [
                      "funky breaks"
                    ],
                    [
                      "funky tech house"
                    ],
                    [
                      "future ambient"
                    ],
                    [
                      "future bass"
                    ],
                    [
                      "future funk"
                    ],
                    [
                      "future garage"
                    ],
                    [
                      "future house"
                    ],
                    [
                      "future rock"
                    ],
                    [
                      "futurepop"
                    ],
                    [
                      "g funk"
                    ],
                    [
                      "gabba"
                    ],
                    [
                      "gabonese pop"
                    ],
                    [
                      "gaian doom"
                    ],
                    [
                      "gainesville indie"
                    ],
                    [
                      "gaita zuliana"
                    ],
                    [
                      "galante era"
                    ],
                    [
                      "gamelan"
                    ],
                    [
                      "gaming dubstep"
                    ],
                    [
                      "gaming edm"
                    ],
                    [
                      "gangster rap"
                    ],
                    [
                      "garage house"
                    ],
                    [
                      "garage pop"
                    ],
                    [
                      "garage psych"
                    ],
                    [
                      "garage punk"
                    ],
                    [
                      "garage punk blues"
                    ],
                    [
                      "garage rock"
                    ],
                    [
                      "garage rock revival"
                    ],
                    [
                      "gauze pop"
                    ],
                    [
                      "gbvfi"
                    ],
                    [
                      "geek folk"
                    ],
                    [
                      "geek rock"
                    ],
                    [
                      "georgian electronic"
                    ],
                    [
                      "georgian folk"
                    ],
                    [
                      "german alternative rock"
                    ],
                    [
                      "german baroque"
                    ],
                    [
                      "german black metal"
                    ],
                    [
                      "german choir"
                    ],
                    [
                      "german classical piano"
                    ],
                    [
                      "german country"
                    ],
                    [
                      "german dance"
                    ],
                    [
                      "german dark minimal techno"
                    ],
                    [
                      "german electronica"
                    ],
                    [
                      "german grindcore"
                    ],
                    [
                      "german hard rock"
                    ],
                    [
                      "german heavy metal"
                    ],
                    [
                      "german hip hop"
                    ],
                    [
                      "german house"
                    ],
                    [
                      "german indie"
                    ],
                    [
                      "german indie pop"
                    ],
                    [
                      "german jazz"
                    ],
                    [
                      "german literature"
                    ],
                    [
                      "german metal"
                    ],
                    [
                      "german metalcore"
                    ],
                    [
                      "german oi"
                    ],
                    [
                      "german opera"
                    ],
                    [
                      "german orchestra"
                    ],
                    [
                      "german pop"
                    ],
                    [
                      "german pop rock"
                    ],
                    [
                      "german post-rock"
                    ],
                    [
                      "german power metal"
                    ],
                    [
                      "german punk"
                    ],
                    [
                      "german punk rock"
                    ],
                    [
                      "german renaissance"
                    ],
                    [
                      "german rock"
                    ],
                    [
                      "german romanticism"
                    ],
                    [
                      "german shoegaze"
                    ],
                    [
                      "german show tunes"
                    ],
                    [
                      "german ska"
                    ],
                    [
                      "german soundtrack"
                    ],
                    [
                      "german stoner rock"
                    ],
                    [
                      "german street punk"
                    ],
                    [
                      "german tech house"
                    ],
                    [
                      "german techno"
                    ],
                    [
                      "german thrash metal"
                    ],
                    [
                      "german trance"
                    ],
                    [
                      "german underground rap"
                    ],
                    [
                      "ghanaian hip hop"
                    ],
                    [
                      "ghanaian pop"
                    ],
                    [
                      "ghanaian traditional"
                    ],
                    [
                      "ghazal"
                    ],
                    [
                      "ghent indie"
                    ],
                    [
                      "ghettotech"
                    ],
                    [
                      "ghoststep"
                    ],
                    [
                      "girl group"
                    ],
                    [
                      "glam metal"
                    ],
                    [
                      "glam punk"
                    ],
                    [
                      "glam rock"
                    ],
                    [
                      "glee club"
                    ],
                    [
                      "glitch"
                    ],
                    [
                      "glitch hop"
                    ],
                    [
                      "glitch pop"
                    ],
                    [
                      "glitchcore"
                    ],
                    [
                      "glitter trance"
                    ],
                    [
                      "go-go"
                    ],
                    [
                      "goa psytrance"
                    ],
                    [
                      "goa trance"
                    ],
                    [
                      "goregrind"
                    ],
                    [
                      "gospel"
                    ],
                    [
                      "gospel antigas"
                    ],
                    [
                      "gospel blues"
                    ],
                    [
                      "gospel italiano"
                    ],
                    [
                      "gospel r&b"
                    ],
                    [
                      "gospel singers"
                    ],
                    [
                      "gospel soul"
                    ],
                    [
                      "gothabilly"
                    ],
                    [
                      "gothenburg indie"
                    ],
                    [
                      "gothenburg metal"
                    ],
                    [
                      "gothic alternative"
                    ],
                    [
                      "gothic americana"
                    ],
                    [
                      "gothic black metal"
                    ],
                    [
                      "gothic metal"
                    ],
                    [
                      "gothic post-punk"
                    ],
                    [
                      "gothic rock"
                    ],
                    [
                      "gothic symphonic metal"
                    ],
                    [
                      "gqom"
                    ],
                    [
                      "grand rapids indie"
                    ],
                    [
                      "grave wave"
                    ],
                    [
                      "greek black metal"
                    ],
                    [
                      "greek clarinet"
                    ],
                    [
                      "greek contemporary classical"
                    ],
                    [
                      "greek folk"
                    ],
                    [
                      "greek guitar"
                    ],
                    [
                      "greek hip hop"
                    ],
                    [
                      "greek house"
                    ],
                    [
                      "greek pop"
                    ],
                    [
                      "greek swing"
                    ],
                    [
                      "greek techno"
                    ],
                    [
                      "greek underground rap"
                    ],
                    [
                      "gregorian chant"
                    ],
                    [
                      "grime"
                    ],
                    [
                      "grindcore"
                    ],
                    [
                      "griot"
                    ],
                    [
                      "groove metal"
                    ],
                    [
                      "groove room"
                    ],
                    [
                      "grunge"
                    ],
                    [
                      "grunge pop"
                    ],
                    [
                      "grupera"
                    ],
                    [
                      "gruperas inmortales"
                    ],
                    [
                      "guadalajara indie"
                    ],
                    [
                      "guam indie"
                    ],
                    [
                      "guaracha"
                    ],
                    [
                      "guatemalan pop"
                    ],
                    [
                      "guidance"
                    ],
                    [
                      "guinean pop"
                    ],
                    [
                      "guitarra argentina"
                    ],
                    [
                      "guitarra clasica"
                    ],
                    [
                      "guitarra portuguesa"
                    ],
                    [
                      "gujarati garba"
                    ],
                    [
                      "guzheng"
                    ],
                    [
                      "gymcore"
                    ],
                    [
                      "gypsy"
                    ],
                    [
                      "gypsy jazz"
                    ],
                    [
                      "gypsy punk"
                    ],
                    [
                      "haitian dance"
                    ],
                    [
                      "haitian traditional"
                    ],
                    [
                      "halftime dnb"
                    ],
                    [
                      "halifax indie"
                    ],
                    [
                      "halloween"
                    ],
                    [
                      "hamburg electronic"
                    ],
                    [
                      "hamburg hip hop"
                    ],
                    [
                      "hamilton on indie"
                    ],
                    [
                      "hammered dulcimer"
                    ],
                    [
                      "hammond organ"
                    ],
                    [
                      "hands up"
                    ],
                    [
                      "happy hardcore"
                    ],
                    [
                      "hard alternative"
                    ],
                    [
                      "hard bass"
                    ],
                    [
                      "hard bop"
                    ],
                    [
                      "hard dance"
                    ],
                    [
                      "hard glam"
                    ],
                    [
                      "hard house"
                    ],
                    [
                      "hard minimal techno"
                    ],
                    [
                      "hard rock"
                    ],
                    [
                      "hard rock brasileiro"
                    ],
                    [
                      "hard trance"
                    ],
                    [
                      "hardcore"
                    ],
                    [
                      "hardcore hip hop"
                    ],
                    [
                      "hardcore punk"
                    ],
                    [
                      "hardcore punk espanol"
                    ],
                    [
                      "hardcore techno"
                    ],
                    [
                      "hardstyle"
                    ],
                    [
                      "hardvapour"
                    ],
                    [
                      "harlem hip hop"
                    ],
                    [
                      "harlem renaissance"
                    ],
                    [
                      "harmonica blues"
                    ],
                    [
                      "harmonica jazz"
                    ],
                    [
                      "harp"
                    ],
                    [
                      "harpsichord"
                    ],
                    [
                      "haryanvi pop"
                    ],
                    [
                      "hawaiian"
                    ],
                    [
                      "hawaiian hip hop"
                    ],
                    [
                      "hawaiian indie"
                    ],
                    [
                      "healing"
                    ],
                    [
                      "heartland rock"
                    ],
                    [
                      "hi-nrg"
                    ],
                    [
                      "highlife"
                    ],
                    [
                      "hindi hip hop"
                    ],
                    [
                      "hindi indie"
                    ],
                    [
                      "hindustani classical"
                    ],
                    [
                      "hindustani instrumental"
                    ],
                    [
                      "hindustani vocal"
                    ],
                    [
                      "hip hop"
                    ],
                    [
                      "hip hop cubano"
                    ],
                    [
                      "hip house"
                    ],
                    [
                      "hip pop"
                    ],
                    [
                      "histoire pour enfants"
                    ],
                    [
                      "historic classical performance"
                    ],
                    [
                      "historic orchestral performance"
                    ],
                    [
                      "historic piano performance"
                    ],
                    [
                      "historic string quartet"
                    ],
                    [
                      "historical keyboard"
                    ],
                    [
                      "historically informed performance"
                    ],
                    [
                      "hoerspiel"
                    ],
                    [
                      "hokkien pop"
                    ],
                    [
                      "hollywood"
                    ],
                    [
                      "hong kong indie"
                    ],
                    [
                      "hong kong rock"
                    ],
                    [
                      "honky tonk"
                    ],
                    [
                      "honky-tonk piano"
                    ],
                    [
                      "hopebeat"
                    ],
                    [
                      "horror punk"
                    ],
                    [
                      "horror synth"
                    ],
                    [
                      "horrorcore"
                    ],
                    [
                      "house"
                    ],
                    [
                      "house argentino"
                    ],
                    [
                      "houston rap"
                    ],
                    [
                      "huapango"
                    ],
                    [
                      "huayno"
                    ],
                    [
                      "hula"
                    ],
                    [
                      "humppa"
                    ],
                    [
                      "hungarian choir"
                    ],
                    [
                      "hungarian classical performance"
                    ],
                    [
                      "hungarian classical piano"
                    ],
                    [
                      "hungarian contemporary classical"
                    ],
                    [
                      "hungarian edm"
                    ],
                    [
                      "hungarian folk"
                    ],
                    [
                      "hungarian pop"
                    ],
                    [
                      "hungarian rock"
                    ],
                    [
                      "hungarian techno"
                    ],
                    [
                      "hurdy-gurdy"
                    ],
                    [
                      "hyperpop"
                    ],
                    [
                      "hyphy"
                    ],
                    [
                      "icelandic classical"
                    ],
                    [
                      "icelandic experimental"
                    ],
                    [
                      "icelandic folk"
                    ],
                    [
                      "icelandic indie"
                    ],
                    [
                      "icelandic pop"
                    ],
                    [
                      "icelandic rock"
                    ],
                    [
                      "idaho indie"
                    ],
                    [
                      "idol"
                    ],
                    [
                      "idol rock"
                    ],
                    [
                      "ilahiler"
                    ],
                    [
                      "ilocano pop"
                    ],
                    [
                      "impressionism"
                    ],
                    [
                      "indian classical"
                    ],
                    [
                      "indian edm"
                    ],
                    [
                      "indian folk"
                    ],
                    [
                      "indian fusion"
                    ],
                    [
                      "indian indie"
                    ],
                    [
                      "indian instrumental"
                    ],
                    [
                      "indian jazz"
                    ],
                    [
                      "indian rock"
                    ],
                    [
                      "indian singer-songwriter"
                    ],
                    [
                      "indiana hip hop"
                    ],
                    [
                      "indiana indie"
                    ],
                    [
                      "indie anthem-folk"
                    ],
                    [
                      "indie cafe pop"
                    ],
                    [
                      "indie catala"
                    ],
                    [
                      "indie dream pop"
                    ],
                    [
                      "indie electronica"
                    ],
                    [
                      "indie electropop"
                    ],
                    [
                      "indie folk"
                    ],
                    [
                      "indie fuzzpop"
                    ],
                    [
                      "indie game soundtrack"
                    ],
                    [
                      "indie garage rock"
                    ],
                    [
                      "indie hip hop"
                    ],
                    [
                      "indie jazz"
                    ],
                    [
                      "indie pop"
                    ],
                    [
                      "indie pop rap"
                    ],
                    [
                      "indie poptimism"
                    ],
                    [
                      "indie psych-pop"
                    ],
                    [
                      "indie punk"
                    ],
                    [
                      "indie quebecois"
                    ],
                    [
                      "indie r&b"
                    ],
                    [
                      "indie rock"
                    ],
                    [
                      "indie rockism"
                    ],
                    [
                      "indie shoegaze"
                    ],
                    [
                      "indie singer-songwriter"
                    ],
                    [
                      "indie soul"
                    ],
                    [
                      "indie surf"
                    ],
                    [
                      "indie tabasqueno"
                    ],
                    [
                      "indie veneto"
                    ],
                    [
                      "indiecoustica"
                    ],
                    [
                      "indietronica"
                    ],
                    [
                      "indonesian alternative rock"
                    ],
                    [
                      "indonesian edm"
                    ],
                    [
                      "indonesian folk"
                    ],
                    [
                      "indonesian hip hop"
                    ],
                    [
                      "indonesian indie"
                    ],
                    [
                      "indonesian pop"
                    ],
                    [
                      "indonesian r&b"
                    ],
                    [
                      "indonesian rock"
                    ],
                    [
                      "industrial"
                    ],
                    [
                      "industrial black metal"
                    ],
                    [
                      "industrial hardcore"
                    ],
                    [
                      "industrial hip hop"
                    ],
                    [
                      "industrial metal"
                    ],
                    [
                      "industrial rock"
                    ],
                    [
                      "industrial techno"
                    ],
                    [
                      "indy indie"
                    ],
                    [
                      "instrumental acoustic guitar"
                    ],
                    [
                      "instrumental bluegrass"
                    ],
                    [
                      "instrumental funk"
                    ],
                    [
                      "instrumental grime"
                    ],
                    [
                      "instrumental post-rock"
                    ],
                    [
                      "instrumental progressive metal"
                    ],
                    [
                      "instrumental rock"
                    ],
                    [
                      "instrumental soul"
                    ],
                    [
                      "instrumental stoner rock"
                    ],
                    [
                      "instrumental surf"
                    ],
                    [
                      "intelligent dance music"
                    ],
                    [
                      "inuit traditional"
                    ],
                    [
                      "iowa indie"
                    ],
                    [
                      "irish ballad"
                    ],
                    [
                      "irish banjo"
                    ],
                    [
                      "irish classical"
                    ],
                    [
                      "irish country"
                    ],
                    [
                      "irish dance"
                    ],
                    [
                      "irish electronic"
                    ],
                    [
                      "irish experimental electronic"
                    ],
                    [
                      "irish fiddle"
                    ],
                    [
                      "irish flute"
                    ],
                    [
                      "irish folk"
                    ],
                    [
                      "irish hip hop"
                    ],
                    [
                      "irish indie"
                    ],
                    [
                      "irish pop"
                    ],
                    [
                      "irish pub song"
                    ],
                    [
                      "irish rock"
                    ],
                    [
                      "irish singer-songwriter"
                    ],
                    [
                      "irish techno"
                    ],
                    [
                      "iskelma"
                    ],
                    [
                      "islamic recitation"
                    ],
                    [
                      "israeli classical"
                    ],
                    [
                      "israeli classical piano"
                    ],
                    [
                      "israeli folk"
                    ],
                    [
                      "israeli hip hop"
                    ],
                    [
                      "israeli mediterranean"
                    ],
                    [
                      "israeli pop"
                    ],
                    [
                      "israeli rock"
                    ],
                    [
                      "israeli singer-songwriter"
                    ],
                    [
                      "israeli techno"
                    ],
                    [
                      "italian adult pop"
                    ],
                    [
                      "italian alternative"
                    ],
                    [
                      "italian baritone"
                    ],
                    [
                      "italian baroque"
                    ],
                    [
                      "italian baroque ensemble"
                    ],
                    [
                      "italian bass"
                    ],
                    [
                      "italian black metal"
                    ],
                    [
                      "italian blues"
                    ],
                    [
                      "italian classical guitar"
                    ],
                    [
                      "italian classical piano"
                    ],
                    [
                      "italian contemporary classical"
                    ],
                    [
                      "italian contemporary jazz"
                    ],
                    [
                      "italian death metal"
                    ],
                    [
                      "italian disco"
                    ],
                    [
                      "italian electronica"
                    ],
                    [
                      "italian gothic"
                    ],
                    [
                      "italian gothic metal"
                    ],
                    [
                      "italian hip hop"
                    ],
                    [
                      "italian indie pop"
                    ],
                    [
                      "italian jazz"
                    ],
                    [
                      "italian library music"
                    ],
                    [
                      "italian mandolin"
                    ],
                    [
                      "italian metal"
                    ],
                    [
                      "italian mezzo-soprano"
                    ],
                    [
                      "italian modern prog"
                    ],
                    [
                      "italian new wave"
                    ],
                    [
                      "italian opera"
                    ],
                    [
                      "italian orchestra"
                    ],
                    [
                      "italian pop"
                    ],
                    [
                      "italian pop rock"
                    ],
                    [
                      "italian post punk"
                    ],
                    [
                      "italian power metal"
                    ],
                    [
                      "italian progressive metal"
                    ],
                    [
                      "italian progressive rock"
                    ],
                    [
                      "italian punk"
                    ],
                    [
                      "italian renaissance"
                    ],
                    [
                      "italian romanticism"
                    ],
                    [
                      "italian ska"
                    ],
                    [
                      "italian soprano"
                    ],
                    [
                      "italian soundtrack"
                    ],
                    [
                      "italian tech house"
                    ],
                    [
                      "italian techno"
                    ],
                    [
                      "italian tenor"
                    ],
                    [
                      "italian trance"
                    ],
                    [
                      "italian violin"
                    ],
                    [
                      "italo dance"
                    ],
                    [
                      "italo house"
                    ],
                    [
                      "j-acoustic"
                    ],
                    [
                      "j-ambient"
                    ],
                    [
                      "j-core"
                    ],
                    [
                      "j-dance"
                    ],
                    [
                      "j-division"
                    ],
                    [
                      "j-idol"
                    ],
                    [
                      "j-indie"
                    ],
                    [
                      "j-metal"
                    ],
                    [
                      "j-pixie"
                    ],
                    [
                      "j-pop"
                    ],
                    [
                      "j-pop boy group"
                    ],
                    [
                      "j-pop girl group"
                    ],
                    [
                      "j-poprock"
                    ],
                    [
                      "j-punk"
                    ],
                    [
                      "j-rap"
                    ],
                    [
                      "j-reggae"
                    ],
                    [
                      "j-rock"
                    ],
                    [
                      "jacksonville indie"
                    ],
                    [
                      "jam band"
                    ],
                    [
                      "jamgrass"
                    ],
                    [
                      "jangle pop"
                    ],
                    [
                      "japanese alternative pop"
                    ],
                    [
                      "japanese alternative rock"
                    ],
                    [
                      "japanese chillhop"
                    ],
                    [
                      "japanese classical"
                    ],
                    [
                      "japanese classical performance"
                    ],
                    [
                      "japanese classical piano"
                    ],
                    [
                      "japanese concert band"
                    ],
                    [
                      "japanese contemporary classical"
                    ],
                    [
                      "japanese dream pop"
                    ],
                    [
                      "japanese electronic"
                    ],
                    [
                      "japanese electropop"
                    ],
                    [
                      "japanese emo"
                    ],
                    [
                      "japanese experimental"
                    ],
                    [
                      "japanese folk"
                    ],
                    [
                      "japanese garage rock"
                    ],
                    [
                      "japanese girl punk"
                    ],
                    [
                      "japanese heavy metal"
                    ],
                    [
                      "japanese house"
                    ],
                    [
                      "japanese idm"
                    ],
                    [
                      "japanese indie pop"
                    ],
                    [
                      "japanese indie rock"
                    ],
                    [
                      "japanese instrumental"
                    ],
                    [
                      "japanese jazz"
                    ],
                    [
                      "japanese jazz fusion"
                    ],
                    [
                      "japanese jazztronica"
                    ],
                    [
                      "japanese metalcore"
                    ],
                    [
                      "japanese new wave"
                    ],
                    [
                      "japanese old school hip hop"
                    ],
                    [
                      "japanese orchestra"
                    ],
                    [
                      "japanese piano"
                    ],
                    [
                      "japanese pop punk"
                    ],
                    [
                      "japanese post-hardcore"
                    ],
                    [
                      "japanese power metal"
                    ],
                    [
                      "japanese prog"
                    ],
                    [
                      "japanese psychedelic"
                    ],
                    [
                      "japanese punk rock"
                    ],
                    [
                      "japanese r&b"
                    ],
                    [
                      "japanese shoegaze"
                    ],
                    [
                      "japanese singer-songwriter"
                    ],
                    [
                      "japanese soundtrack"
                    ],
                    [
                      "japanese techno"
                    ],
                    [
                      "japanese teen pop"
                    ],
                    [
                      "japanese traditional"
                    ],
                    [
                      "japanese vgm"
                    ],
                    [
                      "japanese vocal jazz"
                    ],
                    [
                      "japanese vtuber"
                    ],
                    [
                      "jawaiian"
                    ],
                    [
                      "jazz"
                    ],
                    [
                      "jazz accordion"
                    ],
                    [
                      "jazz blues"
                    ],
                    [
                      "jazz boom bap"
                    ],
                    [
                      "jazz brass"
                    ],
                    [
                      "jazz chileno"
                    ],
                    [
                      "jazz clarinet"
                    ],
                    [
                      "jazz colombiano"
                    ],
                    [
                      "jazz cubano"
                    ],
                    [
                      "jazz double bass"
                    ],
                    [
                      "jazz drums"
                    ],
                    [
                      "jazz flute"
                    ],
                    [
                      "jazz funk"
                    ],
                    [
                      "jazz fusion"
                    ],
                    [
                      "jazz guitar"
                    ],
                    [
                      "jazz harp"
                    ],
                    [
                      "jazz metal"
                    ],
                    [
                      "jazz mexicano"
                    ],
                    [
                      "jazz orchestra"
                    ],
                    [
                      "jazz organ"
                    ],
                    [
                      "jazz piano"
                    ],
                    [
                      "jazz pop"
                    ],
                    [
                      "jazz quartet"
                    ],
                    [
                      "jazz rap"
                    ],
                    [
                      "jazz rock"
                    ],
                    [
                      "jazz saxophone"
                    ],
                    [
                      "jazz trio"
                    ],
                    [
                      "jazz trombone"
                    ],
                    [
                      "jazz trumpet"
                    ],
                    [
                      "jazz tuba"
                    ],
                    [
                      "jazz venezolano"
                    ],
                    [
                      "jazz vibraphone"
                    ],
                    [
                      "jazz violin"
                    ],
                    [
                      "jazztronica"
                    ],
                    [
                      "jewish a capella"
                    ],
                    [
                      "jewish cantorial"
                    ],
                    [
                      "jewish hip hop"
                    ],
                    [
                      "jig and reel"
                    ],
                    [
                      "jordanian pop"
                    ],
                    [
                      "joropo"
                    ],
                    [
                      "jovem guarda"
                    ],
                    [
                      "judaica"
                    ],
                    [
                      "jug band"
                    ],
                    [
                      "juju"
                    ],
                    [
                      "jump blues"
                    ],
                    [
                      "jump up"
                    ],
                    [
                      "jumpstyle"
                    ],
                    [
                      "jumptek"
                    ],
                    [
                      "jungle"
                    ],
                    [
                      "k-indie"
                    ],
                    [
                      "k-pop"
                    ],
                    [
                      "k-pop boy group"
                    ],
                    [
                      "k-pop girl group"
                    ],
                    [
                      "k-rap"
                    ],
                    [
                      "kabarett"
                    ],
                    [
                      "kabyle"
                    ],
                    [
                      "kaneka"
                    ],
                    [
                      "kannada bhava geethe"
                    ],
                    [
                      "kansas city hip hop"
                    ],
                    [
                      "karadeniz halk muzigi"
                    ],
                    [
                      "karaoke"
                    ],
                    [
                      "kashmiri pop"
                    ],
                    [
                      "kawaii future bass"
                    ],
                    [
                      "kawaii metal"
                    ],
                    [
                      "kayokyoku"
                    ],
                    [
                      "kazakh pop"
                    ],
                    [
                      "kc indie"
                    ],
                    [
                      "kent indie"
                    ],
                    [
                      "kentucky hip hop"
                    ],
                    [
                      "kentucky indie"
                    ],
                    [
                      "kentucky metal"
                    ],
                    [
                      "kentucky mountain folk"
                    ],
                    [
                      "kentucky punk"
                    ],
                    [
                      "kentucky roots"
                    ],
                    [
                      "keroncong"
                    ],
                    [
                      "khaleeji iraqi"
                    ],
                    [
                      "khmer"
                    ],
                    [
                      "kids dance party"
                    ],
                    [
                      "kinderchor"
                    ],
                    [
                      "kindermusik"
                    ],
                    [
                      "kindie rock"
                    ],
                    [
                      "kingston on indie"
                    ],
                    [
                      "kirtan"
                    ],
                    [
                      "kiwi rock"
                    ],
                    [
                      "kizomba antigas"
                    ],
                    [
                      "kleine hoerspiel"
                    ],
                    [
                      "klezmer"
                    ],
                    [
                      "knoxville indie"
                    ],
                    [
                      "kodomo no ongaku"
                    ],
                    [
                      "kolsche karneval"
                    ],
                    [
                      "komedi"
                    ],
                    [
                      "kompa"
                    ],
                    [
                      "kora"
                    ],
                    [
                      "korean city pop"
                    ],
                    [
                      "korean classical performance"
                    ],
                    [
                      "korean classical piano"
                    ],
                    [
                      "korean electropop"
                    ],
                    [
                      "korean indie rock"
                    ],
                    [
                      "korean mask singer"
                    ],
                    [
                      "korean ost"
                    ],
                    [
                      "korean pop"
                    ],
                    [
                      "korean r&b"
                    ],
                    [
                      "korean trap"
                    ],
                    [
                      "koto"
                    ],
                    [
                      "krautrock"
                    ],
                    [
                      "kundiman"
                    ],
                    [
                      "la indie"
                    ],
                    [
                      "la pop"
                    ],
                    [
                      "laboratorio"
                    ],
                    [
                      "lafayette indie"
                    ],
                    [
                      "laiko"
                    ],
                    [
                      "lancaster pa indie"
                    ],
                    [
                      "late romantic era"
                    ],
                    [
                      "latin"
                    ],
                    [
                      "latin afrobeat"
                    ],
                    [
                      "latin alternative"
                    ],
                    [
                      "latin american classical piano"
                    ],
                    [
                      "latin arena pop"
                    ],
                    [
                      "latin christian"
                    ],
                    [
                      "latin classical"
                    ],
                    [
                      "latin funk"
                    ],
                    [
                      "latin hip hop"
                    ],
                    [
                      "latin house"
                    ],
                    [
                      "latin jazz"
                    ],
                    [
                      "latin metal"
                    ],
                    [
                      "latin pop"
                    ],
                    [
                      "latin rock"
                    ],
                    [
                      "latin ska"
                    ],
                    [
                      "latin soundtrack"
                    ],
                    [
                      "latin talent show"
                    ],
                    [
                      "latin tech house"
                    ],
                    [
                      "latin viral pop"
                    ],
                    [
                      "latin worship"
                    ],
                    [
                      "latino comedy"
                    ],
                    [
                      "latintronica"
                    ],
                    [
                      "latinx alternative"
                    ],
                    [
                      "latvian metal"
                    ],
                    [
                      "latvian pop"
                    ],
                    [
                      "lds"
                    ],
                    [
                      "lds youth"
                    ],
                    [
                      "lebanese indie"
                    ],
                    [
                      "lebanese pop"
                    ],
                    [
                      "leicester indie"
                    ],
                    [
                      "levenslied"
                    ],
                    [
                      "lexington ky indie"
                    ],
                    [
                      "lgbtq+ hip hop"
                    ],
                    [
                      "library music"
                    ],
                    [
                      "libyan pop"
                    ],
                    [
                      "liechtenstein"
                    ],
                    [
                      "liedermacher"
                    ],
                    [
                      "light music"
                    ],
                    [
                      "lilith"
                    ],
                    [
                      "liquid funk"
                    ],
                    [
                      "lithuanian electronic"
                    ],
                    [
                      "lithuanian folk"
                    ],
                    [
                      "liverpool indie"
                    ],
                    [
                      "livetronica"
                    ],
                    [
                      "lldm"
                    ],
                    [
                      "lo-fi"
                    ],
                    [
                      "lo-fi beats"
                    ],
                    [
                      "lo-fi chill"
                    ],
                    [
                      "lo-fi cover"
                    ],
                    [
                      "lo-fi emo"
                    ],
                    [
                      "lo-fi house"
                    ],
                    [
                      "lo-fi indie"
                    ],
                    [
                      "lo-fi vgm"
                    ],
                    [
                      "london rap"
                    ],
                    [
                      "louisiana blues"
                    ],
                    [
                      "louisiana metal"
                    ],
                    [
                      "louisville indie"
                    ],
                    [
                      "louisville underground"
                    ],
                    [
                      "lounge"
                    ],
                    [
                      "lounge house"
                    ],
                    [
                      "lovers rock"
                    ],
                    [
                      "lullaby"
                    ],
                    [
                      "lund indie"
                    ],
                    [
                      "lute"
                    ],
                    [
                      "macedonian electronic"
                    ],
                    [
                      "macedonian folk"
                    ],
                    [
                      "macedonian pop"
                    ],
                    [
                      "madchester"
                    ],
                    [
                      "madrigal"
                    ],
                    [
                      "magyar alternative"
                    ],
                    [
                      "maine hip hop"
                    ],
                    [
                      "maine indie"
                    ],
                    [
                      "mainland chinese pop"
                    ],
                    [
                      "makossa"
                    ],
                    [
                      "malaysian hip hop"
                    ],
                    [
                      "malaysian mandopop"
                    ],
                    [
                      "malaysian pop"
                    ],
                    [
                      "malian blues"
                    ],
                    [
                      "mallet"
                    ],
                    [
                      "mambo"
                    ],
                    [
                      "manchester hip hop"
                    ],
                    [
                      "mande pop"
                    ],
                    [
                      "mandolin"
                    ],
                    [
                      "mandopop"
                    ],
                    [
                      "manguebeat"
                    ],
                    [
                      "manila sound"
                    ],
                    [
                      "manitoba indie"
                    ],
                    [
                      "mantra"
                    ],
                    [
                      "marathi pop"
                    ],
                    [
                      "marathi traditional"
                    ],
                    [
                      "marching band"
                    ],
                    [
                      "mariachi"
                    ],
                    [
                      "mariachi cristiano"
                    ],
                    [
                      "marimba orquesta"
                    ],
                    [
                      "martial industrial"
                    ],
                    [
                      "mashup"
                    ],
                    [
                      "math pop"
                    ],
                    [
                      "math rock"
                    ],
                    [
                      "mathcore"
                    ],
                    [
                      "mathgrind"
                    ],
                    [
                      "mbalax"
                    ],
                    [
                      "medieval"
                    ],
                    [
                      "medieval ensemble"
                    ],
                    [
                      "medieval folk"
                    ],
                    [
                      "medieval rock"
                    ],
                    [
                      "meditation"
                    ],
                    [
                      "medway sound"
                    ],
                    [
                      "melancholia"
                    ],
                    [
                      "melbourne bounce"
                    ],
                    [
                      "melbourne bounce international"
                    ],
                    [
                      "melbourne indie"
                    ],
                    [
                      "mellow gold"
                    ],
                    [
                      "melodic death metal"
                    ],
                    [
                      "melodic deathcore"
                    ],
                    [
                      "melodic dubstep"
                    ],
                    [
                      "melodic groove metal"
                    ],
                    [
                      "melodic hard rock"
                    ],
                    [
                      "melodic hardcore"
                    ],
                    [
                      "melodic metal"
                    ],
                    [
                      "melodic metalcore"
                    ],
                    [
                      "melodic rap"
                    ],
                    [
                      "melodic techno"
                    ],
                    [
                      "melodic thrash"
                    ],
                    [
                      "melodipop"
                    ],
                    [
                      "meme rap"
                    ],
                    [
                      "memphis americana"
                    ],
                    [
                      "memphis blues"
                    ],
                    [
                      "memphis hip hop"
                    ],
                    [
                      "memphis soul"
                    ],
                    [
                      "mento"
                    ],
                    [
                      "merengue"
                    ],
                    [
                      "merengue tipico"
                    ],
                    [
                      "merseybeat"
                    ],
                    [
                      "messianic praise"
                    ],
                    [
                      "metal"
                    ],
                    [
                      "metal catala"
                    ],
                    [
                      "metal catarinense"
                    ],
                    [
                      "metal gotico"
                    ],
                    [
                      "metal guitar"
                    ],
                    [
                      "metal mineiro"
                    ],
                    [
                      "metalcore"
                    ],
                    [
                      "metallic hardcore"
                    ],
                    [
                      "metropopolis"
                    ],
                    [
                      "mexican classic rock"
                    ],
                    [
                      "mexican classical"
                    ],
                    [
                      "mexican edm"
                    ],
                    [
                      "mexican hip hop"
                    ],
                    [
                      "mexican indie"
                    ],
                    [
                      "mexican metal"
                    ],
                    [
                      "mexican pop"
                    ],
                    [
                      "mexican pop punk"
                    ],
                    [
                      "mexican rock"
                    ],
                    [
                      "mexican rock-and-roll"
                    ],
                    [
                      "mexican tech house"
                    ],
                    [
                      "mexican techno"
                    ],
                    [
                      "mexican traditional"
                    ],
                    [
                      "miami bass"
                    ],
                    [
                      "miami hip hop"
                    ],
                    [
                      "miami indie"
                    ],
                    [
                      "miami metal"
                    ],
                    [
                      "michigan indie"
                    ],
                    [
                      "microhouse"
                    ],
                    [
                      "microtonal"
                    ],
                    [
                      "middle earth"
                    ],
                    [
                      "middle eastern traditional"
                    ],
                    [
                      "midwest americana"
                    ],
                    [
                      "midwest emo"
                    ],
                    [
                      "military cadence"
                    ],
                    [
                      "military rap"
                    ],
                    [
                      "milwaukee indie"
                    ],
                    [
                      "mindfulness"
                    ],
                    [
                      "minecraft"
                    ],
                    [
                      "minimal dub"
                    ],
                    [
                      "minimal dubstep"
                    ],
                    [
                      "minimal melodic techno"
                    ],
                    [
                      "minimal tech house"
                    ],
                    [
                      "minimal techno"
                    ],
                    [
                      "minimal wave"
                    ],
                    [
                      "minimalism"
                    ],
                    [
                      "minneapolis indie"
                    ],
                    [
                      "minneapolis metal"
                    ],
                    [
                      "minneapolis punk"
                    ],
                    [
                      "minneapolis sound"
                    ],
                    [
                      "minnesota hip hop"
                    ],
                    [
                      "mississippi hip hop"
                    ],
                    [
                      "mississippi indie"
                    ],
                    [
                      "mizrahi"
                    ],
                    [
                      "mluvene slovo"
                    ],
                    [
                      "mod revival"
                    ],
                    [
                      "modern alternative pop"
                    ],
                    [
                      "modern alternative rock"
                    ],
                    [
                      "modern big band"
                    ],
                    [
                      "modern blues"
                    ],
                    [
                      "modern blues rock"
                    ],
                    [
                      "modern bollywood"
                    ],
                    [
                      "modern cello"
                    ],
                    [
                      "modern country rock"
                    ],
                    [
                      "modern dream pop"
                    ],
                    [
                      "modern folk rock"
                    ],
                    [
                      "modern funk"
                    ],
                    [
                      "modern hard rock"
                    ],
                    [
                      "modern indie pop"
                    ],
                    [
                      "modern jazz piano"
                    ],
                    [
                      "modern jazz trio"
                    ],
                    [
                      "modern old-time"
                    ],
                    [
                      "modern performance"
                    ],
                    [
                      "modern power pop"
                    ],
                    [
                      "modern psychedelic folk"
                    ],
                    [
                      "modern reggae"
                    ],
                    [
                      "modern rock"
                    ],
                    [
                      "modern salsa"
                    ],
                    [
                      "modern ska punk"
                    ],
                    [
                      "modern southern rock"
                    ],
                    [
                      "modern string quartet"
                    ],
                    [
                      "modern swing"
                    ],
                    [
                      "modern uplift"
                    ],
                    [
                      "modular synth"
                    ],
                    [
                      "modular techno"
                    ],
                    [
                      "moldovan pop"
                    ],
                    [
                      "mollywood"
                    ],
                    [
                      "mongolian hip hop"
                    ],
                    [
                      "mongolian pop"
                    ],
                    [
                      "monterrey indie"
                    ],
                    [
                      "montreal indie"
                    ],
                    [
                      "moog"
                    ],
                    [
                      "moombahton"
                    ],
                    [
                      "moravian folk"
                    ],
                    [
                      "morna"
                    ],
                    [
                      "moroccan pop"
                    ],
                    [
                      "motivation"
                    ],
                    [
                      "motown"
                    ],
                    [
                      "mountain dulcimer"
                    ],
                    [
                      "movie tunes"
                    ],
                    [
                      "mpb"
                    ],
                    [
                      "mumbai indie"
                    ],
                    [
                      "munich electronic"
                    ],
                    [
                      "music box"
                    ],
                    [
                      "music hall"
                    ],
                    [
                      "musica afroperuana"
                    ],
                    [
                      "musica alagoana"
                    ],
                    [
                      "musica andina"
                    ],
                    [
                      "musica andina colombiana"
                    ],
                    [
                      "musica andorra"
                    ],
                    [
                      "musica antigua"
                    ],
                    [
                      "musica aragonesa"
                    ],
                    [
                      "musica ayacuchana"
                    ],
                    [
                      "musica canaria"
                    ],
                    [
                      "musica catalana"
                    ],
                    [
                      "musica costarricense"
                    ],
                    [
                      "musica costena"
                    ],
                    [
                      "musica cristiana guatemalteca"
                    ],
                    [
                      "musica de fondo"
                    ],
                    [
                      "musica hondurena"
                    ],
                    [
                      "musica indigena brasileira"
                    ],
                    [
                      "musica infantil"
                    ],
                    [
                      "musica jibara"
                    ],
                    [
                      "musica juiz-forana"
                    ],
                    [
                      "musica llanera"
                    ],
                    [
                      "musica nicaraguense"
                    ],
                    [
                      "musica para criancas"
                    ],
                    [
                      "musica para ninos"
                    ],
                    [
                      "musica paraibana"
                    ],
                    [
                      "musica pernambucana"
                    ],
                    [
                      "musica piemonteisa"
                    ],
                    [
                      "musica popular colombiana"
                    ],
                    [
                      "musica popular mineira"
                    ],
                    [
                      "musica popular paraense"
                    ],
                    [
                      "musica potosina"
                    ],
                    [
                      "musica prehispanica"
                    ],
                    [
                      "musica sarda"
                    ],
                    [
                      "musica tradicional cubana"
                    ],
                    [
                      "musica tropical guatemalteca"
                    ],
                    [
                      "musica valenciana"
                    ],
                    [
                      "musica yucateca"
                    ],
                    [
                      "musical advocacy"
                    ],
                    [
                      "musikkorps"
                    ],
                    [
                      "musique ancienne"
                    ],
                    [
                      "musique concrete"
                    ],
                    [
                      "musique pour enfant quebecois"
                    ],
                    [
                      "musique pour enfants"
                    ],
                    [
                      "muzica crestina"
                    ],
                    [
                      "muzica populara"
                    ],
                    [
                      "muziek voor kinderen"
                    ],
                    [
                      "muzika l'yeladim"
                    ],
                    [
                      "naija worship"
                    ],
                    [
                      "nantes indie"
                    ],
                    [
                      "narodna muzika"
                    ],
                    [
                      "nashville americana"
                    ],
                    [
                      "nashville hip hop"
                    ],
                    [
                      "nashville indie"
                    ],
                    [
                      "nashville singer-songwriter"
                    ],
                    [
                      "nashville sound"
                    ],
                    [
                      "native american"
                    ],
                    [
                      "native american contemporary"
                    ],
                    [
                      "native american flute"
                    ],
                    [
                      "native american spiritual"
                    ],
                    [
                      "navajo"
                    ],
                    [
                      "nederlandse hardstyle"
                    ],
                    [
                      "nederpop"
                    ],
                    [
                      "neo classical metal"
                    ],
                    [
                      "neo honky tonk"
                    ],
                    [
                      "neo kyma"
                    ],
                    [
                      "neo mellow"
                    ],
                    [
                      "neo r&b"
                    ],
                    [
                      "neo soul"
                    ],
                    [
                      "neo-classical"
                    ],
                    [
                      "neo-crust"
                    ],
                    [
                      "neo-kraut"
                    ],
                    [
                      "neo-pagan"
                    ],
                    [
                      "neo-progressive"
                    ],
                    [
                      "neo-psychedelic"
                    ],
                    [
                      "neo-rockabilly"
                    ],
                    [
                      "neo-singer-songwriter"
                    ],
                    [
                      "neo-synthpop"
                    ],
                    [
                      "neo-trad metal"
                    ],
                    [
                      "neo-traditional bluegrass"
                    ],
                    [
                      "neo-traditional country"
                    ],
                    [
                      "neoclassical darkwave"
                    ],
                    [
                      "neoclassicism"
                    ],
                    [
                      "neofolk"
                    ],
                    [
                      "neon pop punk"
                    ],
                    [
                      "nepali indie"
                    ],
                    [
                      "nepali pop"
                    ],
                    [
                      "nerdcore"
                    ],
                    [
                      "neue deutsche harte"
                    ],
                    [
                      "neue deutsche todeskunst"
                    ],
                    [
                      "neue deutsche welle"
                    ],
                    [
                      "neurofunk"
                    ],
                    [
                      "new age"
                    ],
                    [
                      "new age piano"
                    ],
                    [
                      "new americana"
                    ],
                    [
                      "new beat"
                    ],
                    [
                      "new comedy"
                    ],
                    [
                      "new england americana"
                    ],
                    [
                      "new england emo"
                    ],
                    [
                      "new england metal"
                    ],
                    [
                      "new french touch"
                    ],
                    [
                      "new isolationism"
                    ],
                    [
                      "new jack swing"
                    ],
                    [
                      "new jersey hardcore"
                    ],
                    [
                      "new jersey indie"
                    ],
                    [
                      "new jersey punk"
                    ],
                    [
                      "new jersey rap"
                    ],
                    [
                      "new mexico music"
                    ],
                    [
                      "new orleans blues"
                    ],
                    [
                      "new orleans funk"
                    ],
                    [
                      "new orleans indie"
                    ],
                    [
                      "new orleans jazz"
                    ],
                    [
                      "new orleans rap"
                    ],
                    [
                      "new rave"
                    ],
                    [
                      "new romantic"
                    ],
                    [
                      "new tribe"
                    ],
                    [
                      "new wave"
                    ],
                    [
                      "new wave of thrash metal"
                    ],
                    [
                      "new wave pop"
                    ],
                    [
                      "new weird america"
                    ],
                    [
                      "new york death metal"
                    ],
                    [
                      "new york drill"
                    ],
                    [
                      "new zealand classical"
                    ],
                    [
                      "newcastle nsw indie"
                    ],
                    [
                      "nigerian hip hop"
                    ],
                    [
                      "nigerian pop"
                    ],
                    [
                      "nightcore"
                    ],
                    [
                      "nightrun"
                    ],
                    [
                      "ninja"
                    ],
                    [
                      "nintendocore"
                    ],
                    [
                      "nisiotika"
                    ],
                    [
                      "nl folk"
                    ],
                    [
                      "no wave"
                    ],
                    [
                      "noise pop"
                    ],
                    [
                      "noise punk"
                    ],
                    [
                      "noise rock"
                    ],
                    [
                      "nordic classical piano"
                    ],
                    [
                      "nordic contemporary classical"
                    ],
                    [
                      "nordic folk"
                    ],
                    [
                      "nordic folk metal"
                    ],
                    [
                      "nordic house"
                    ],
                    [
                      "nordic orchestra"
                    ],
                    [
                      "nordic post-rock"
                    ],
                    [
                      "nordic soundtrack"
                    ],
                    [
                      "norman ok indie"
                    ],
                    [
                      "norsk lovsang"
                    ],
                    [
                      "norteno"
                    ],
                    [
                      "norteno-sax"
                    ],
                    [
                      "north carolina emo"
                    ],
                    [
                      "north carolina hip hop"
                    ],
                    [
                      "north carolina indie"
                    ],
                    [
                      "north carolina metal"
                    ],
                    [
                      "north carolina roots"
                    ],
                    [
                      "north dakota indie"
                    ],
                    [
                      "north east england indie"
                    ],
                    [
                      "northern irish indie"
                    ],
                    [
                      "northern irish punk"
                    ],
                    [
                      "northern soul"
                    ],
                    [
                      "northumbrian folk"
                    ],
                    [
                      "norwegian black metal"
                    ],
                    [
                      "norwegian choir"
                    ],
                    [
                      "norwegian classical"
                    ],
                    [
                      "norwegian contemporary jazz"
                    ],
                    [
                      "norwegian death metal"
                    ],
                    [
                      "norwegian experimental"
                    ],
                    [
                      "norwegian hip hop"
                    ],
                    [
                      "norwegian indie"
                    ],
                    [
                      "norwegian jazz"
                    ],
                    [
                      "norwegian metal"
                    ],
                    [
                      "norwegian pop"
                    ],
                    [
                      "norwegian pop rap"
                    ],
                    [
                      "norwegian punk rock"
                    ],
                    [
                      "norwegian rock"
                    ],
                    [
                      "norwegian singer-songwriter"
                    ],
                    [
                      "norwegian space disco"
                    ],
                    [
                      "nottingham indie"
                    ],
                    [
                      "nouvelle chanson francaise"
                    ],
                    [
                      "nova canco"
                    ],
                    [
                      "nova mpb"
                    ],
                    [
                      "nova musica pernambucana"
                    ],
                    [
                      "novelty"
                    ],
                    [
                      "nu disco"
                    ],
                    [
                      "nu gaze"
                    ],
                    [
                      "nu jazz"
                    ],
                    [
                      "nu metal"
                    ],
                    [
                      "nu skool breaks"
                    ],
                    [
                      "nu-cumbia"
                    ],
                    [
                      "nu-metalcore"
                    ],
                    [
                      "nubian traditional"
                    ],
                    [
                      "nueva cancion"
                    ],
                    [
                      "nueva ola chilena"
                    ],
                    [
                      "nueva ola peruana"
                    ],
                    [
                      "nuevo flamenco"
                    ],
                    [
                      "nuevo folklore mexicano"
                    ],
                    [
                      "nuevo regional mexicano"
                    ],
                    [
                      "nuevo tango"
                    ],
                    [
                      "nursery"
                    ],
                    [
                      "nwobhm"
                    ],
                    [
                      "nwocr"
                    ],
                    [
                      "nwothm"
                    ],
                    [
                      "ny roots"
                    ],
                    [
                      "nyc pop"
                    ],
                    [
                      "nyc rap"
                    ],
                    [
                      "nyhc"
                    ],
                    [
                      "nz hip hop"
                    ],
                    [
                      "nz indie"
                    ],
                    [
                      "nz pop"
                    ],
                    [
                      "nz reggae"
                    ],
                    [
                      "nz singer-songwriter"
                    ],
                    [
                      "oakland hip hop"
                    ],
                    [
                      "oakland indie"
                    ],
                    [
                      "oc indie"
                    ],
                    [
                      "oc rap"
                    ],
                    [
                      "oceania soundtrack"
                    ],
                    [
                      "ohio hip hop"
                    ],
                    [
                      "ohio indie"
                    ],
                    [
                      "oi"
                    ],
                    [
                      "okc indie"
                    ],
                    [
                      "okinawan pop"
                    ],
                    [
                      "oklahoma country"
                    ],
                    [
                      "oktoberfest"
                    ],
                    [
                      "old school dancehall"
                    ],
                    [
                      "old school hard trance"
                    ],
                    [
                      "old school hip hop"
                    ],
                    [
                      "old school rap francais"
                    ],
                    [
                      "old school thrash"
                    ],
                    [
                      "old school uk hip hop"
                    ],
                    [
                      "old west"
                    ],
                    [
                      "old-time"
                    ],
                    [
                      "old-time fiddle"
                    ],
                    [
                      "olympia wa indie"
                    ],
                    [
                      "omaha indie"
                    ],
                    [
                      "one-person band"
                    ],
                    [
                      "ontario indie"
                    ],
                    [
                      "opera"
                    ],
                    [
                      "opera chorus"
                    ],
                    [
                      "opera metal"
                    ],
                    [
                      "operatic pop"
                    ],
                    [
                      "operetta"
                    ],
                    [
                      "opm"
                    ],
                    [
                      "oratory"
                    ],
                    [
                      "orchestra"
                    ],
                    [
                      "orchestral performance"
                    ],
                    [
                      "organic ambient"
                    ],
                    [
                      "organic electronic"
                    ],
                    [
                      "organic house"
                    ],
                    [
                      "orgcore"
                    ],
                    [
                      "oriental classical"
                    ],
                    [
                      "orkney and shetland folk"
                    ],
                    [
                      "orlando indie"
                    ],
                    [
                      "orquesta tipica"
                    ],
                    [
                      "orthodox chant"
                    ],
                    [
                      "otacore"
                    ],
                    [
                      "oth indie"
                    ],
                    [
                      "ottawa rap"
                    ],
                    [
                      "oud"
                    ],
                    [
                      "outer hip hop"
                    ],
                    [
                      "outlaw country"
                    ],
                    [
                      "outsider"
                    ],
                    [
                      "outsider house"
                    ],
                    [
                      "oxford choir"
                    ],
                    [
                      "oxford indie"
                    ],
                    [
                      "p funk"
                    ],
                    [
                      "pagan black metal"
                    ],
                    [
                      "pagode"
                    ],
                    [
                      "pagode baiano"
                    ],
                    [
                      "paisley underground"
                    ],
                    [
                      "pakistani folk"
                    ],
                    [
                      "pakistani hip hop"
                    ],
                    [
                      "pakistani indie"
                    ],
                    [
                      "pakistani pop"
                    ],
                    [
                      "palm desert scene"
                    ],
                    [
                      "panamanian pop"
                    ],
                    [
                      "panpipe"
                    ],
                    [
                      "papuri"
                    ],
                    [
                      "parody"
                    ],
                    [
                      "partido alto"
                    ],
                    [
                      "partyschlager"
                    ],
                    [
                      "pei indie"
                    ],
                    [
                      "permanent wave"
                    ],
                    [
                      "perreo"
                    ],
                    [
                      "persian hip hop"
                    ],
                    [
                      "persian pop"
                    ],
                    [
                      "persian traditional"
                    ],
                    [
                      "perth indie"
                    ],
                    [
                      "peruvian hip hop"
                    ],
                    [
                      "peruvian rock"
                    ],
                    [
                      "pet calming"
                    ],
                    [
                      "philly indie"
                    ],
                    [
                      "philly rap"
                    ],
                    [
                      "philly soul"
                    ],
                    [
                      "phonk"
                    ],
                    [
                      "pianissimo"
                    ],
                    [
                      "piano blues"
                    ],
                    [
                      "piano cover"
                    ],
                    [
                      "piano mpb"
                    ],
                    [
                      "piano rock"
                    ],
                    [
                      "pibroch"
                    ],
                    [
                      "piedmont blues"
                    ],
                    [
                      "pinoy hip hop"
                    ],
                    [
                      "pinoy indie"
                    ],
                    [
                      "pinoy pop punk"
                    ],
                    [
                      "pinoy praise"
                    ],
                    [
                      "pinoy r&b"
                    ],
                    [
                      "pinoy reggae"
                    ],
                    [
                      "pinoy rock"
                    ],
                    [
                      "pinoy traditional"
                    ],
                    [
                      "pinoy trap"
                    ],
                    [
                      "pirate"
                    ],
                    [
                      "pittsburgh indie"
                    ],
                    [
                      "pittsburgh rap"
                    ],
                    [
                      "pittsburgh rock"
                    ],
                    [
                      "pixie"
                    ],
                    [
                      "plunderphonics"
                    ],
                    [
                      "poetry"
                    ],
                    [
                      "pokemon"
                    ],
                    [
                      "polca paraguaya"
                    ],
                    [
                      "polish blues"
                    ],
                    [
                      "polish classical"
                    ],
                    [
                      "polish classical piano"
                    ],
                    [
                      "polish contemporary classical"
                    ],
                    [
                      "polish jazz"
                    ],
                    [
                      "polish pop"
                    ],
                    [
                      "polish rock"
                    ],
                    [
                      "polish techno"
                    ],
                    [
                      "political hip hop"
                    ],
                    [
                      "polka"
                    ],
                    [
                      "polynesian hip hop"
                    ],
                    [
                      "polynesian pop"
                    ],
                    [
                      "polyphony"
                    ],
                    [
                      "pony"
                    ],
                    [
                      "pop"
                    ],
                    [
                      "pop ambient"
                    ],
                    [
                      "pop argentino"
                    ],
                    [
                      "pop chileno"
                    ],
                    [
                      "pop dance"
                    ],
                    [
                      "pop edm"
                    ],
                    [
                      "pop electronico"
                    ],
                    [
                      "pop emo"
                    ],
                    [
                      "pop flamenco"
                    ],
                    [
                      "pop folk"
                    ],
                    [
                      "pop house"
                    ],
                    [
                      "pop nacional"
                    ],
                    [
                      "pop nacional antigas"
                    ],
                    [
                      "pop peruano"
                    ],
                    [
                      "pop punk"
                    ],
                    [
                      "pop quebecois"
                    ],
                    [
                      "pop r&b"
                    ],
                    [
                      "pop rap"
                    ],
                    [
                      "pop reggaeton"
                    ],
                    [
                      "pop rock"
                    ],
                    [
                      "pop rock brasileiro"
                    ],
                    [
                      "pop romantico"
                    ],
                    [
                      "pop soul"
                    ],
                    [
                      "pop urbaine"
                    ],
                    [
                      "pop venezolano"
                    ],
                    [
                      "pop violin"
                    ],
                    [
                      "popgaze"
                    ],
                    [
                      "popping"
                    ],
                    [
                      "pops orchestra"
                    ],
                    [
                      "popwave"
                    ],
                    [
                      "pornogrind"
                    ],
                    [
                      "porro"
                    ],
                    [
                      "portland hip hop"
                    ],
                    [
                      "portland indie"
                    ],
                    [
                      "portland punk"
                    ],
                    [
                      "portuguese early music"
                    ],
                    [
                      "portuguese indie rock"
                    ],
                    [
                      "portuguese jazz"
                    ],
                    [
                      "post-black metal"
                    ],
                    [
                      "post-disco"
                    ],
                    [
                      "post-disco soul"
                    ],
                    [
                      "post-doom metal"
                    ],
                    [
                      "post-grunge"
                    ],
                    [
                      "post-hardcore"
                    ],
                    [
                      "post-metal"
                    ],
                    [
                      "post-minimalism"
                    ],
                    [
                      "post-post-hardcore"
                    ],
                    [
                      "post-punk"
                    ],
                    [
                      "post-punk argentina"
                    ],
                    [
                      "post-rock"
                    ],
                    [
                      "post-romantic era"
                    ],
                    [
                      "post-screamo"
                    ],
                    [
                      "post-teen pop"
                    ],
                    [
                      "power blues-rock"
                    ],
                    [
                      "power metal"
                    ],
                    [
                      "power pop"
                    ],
                    [
                      "power thrash"
                    ],
                    [
                      "power-pop punk"
                    ],
                    [
                      "powerviolence"
                    ],
                    [
                      "praise"
                    ],
                    [
                      "pre-war blues"
                    ],
                    [
                      "prepared piano"
                    ],
                    [
                      "preschool children's music"
                    ],
                    [
                      "prog metal"
                    ],
                    [
                      "prog quebec"
                    ],
                    [
                      "progressive black metal"
                    ],
                    [
                      "progressive bluegrass"
                    ],
                    [
                      "progressive breaks"
                    ],
                    [
                      "progressive death metal"
                    ],
                    [
                      "progressive deathcore"
                    ],
                    [
                      "progressive doom"
                    ],
                    [
                      "progressive electro house"
                    ],
                    [
                      "progressive groove metal"
                    ],
                    [
                      "progressive house"
                    ],
                    [
                      "progressive jazz fusion"
                    ],
                    [
                      "progressive metal"
                    ],
                    [
                      "progressive metalcore"
                    ],
                    [
                      "progressive post-hardcore"
                    ],
                    [
                      "progressive power metal"
                    ],
                    [
                      "progressive psytrance"
                    ],
                    [
                      "progressive rock"
                    ],
                    [
                      "progressive sludge"
                    ],
                    [
                      "progressive trance"
                    ],
                    [
                      "progressive trance house"
                    ],
                    [
                      "progressive uplifting trance"
                    ],
                    [
                      "proto-rap"
                    ],
                    [
                      "proto-techno"
                    ],
                    [
                      "protopunk"
                    ],
                    [
                      "psalmen"
                    ],
                    [
                      "psicodelia brasileira"
                    ],
                    [
                      "psybreaks"
                    ],
                    [
                      "psych gaze"
                    ],
                    [
                      "psychedelic blues-rock"
                    ],
                    [
                      "psychedelic doom"
                    ],
                    [
                      "psychedelic folk"
                    ],
                    [
                      "psychedelic folk rock"
                    ],
                    [
                      "psychedelic hip hop"
                    ],
                    [
                      "psychedelic pop"
                    ],
                    [
                      "psychedelic punk"
                    ],
                    [
                      "psychedelic rock"
                    ],
                    [
                      "psychedelic soul"
                    ],
                    [
                      "psychedelic trance"
                    ],
                    [
                      "psychill"
                    ],
                    [
                      "psychobilly"
                    ],
                    [
                      "pub rock"
                    ],
                    [
                      "puerto rican folk"
                    ],
                    [
                      "puerto rican pop"
                    ],
                    [
                      "puerto rican rock"
                    ],
                    [
                      "punjabi folk"
                    ],
                    [
                      "punjabi pop"
                    ],
                    [
                      "punk"
                    ],
                    [
                      "punk 'n' roll"
                    ],
                    [
                      "punk blues"
                    ],
                    [
                      "punk catala"
                    ],
                    [
                      "punk rock italiano"
                    ],
                    [
                      "punk rock mexicano"
                    ],
                    [
                      "punk tuga"
                    ],
                    [
                      "punta"
                    ],
                    [
                      "punta rock"
                    ],
                    [
                      "qawwali"
                    ],
                    [
                      "quartetto d'archi"
                    ],
                    [
                      "quatuor a cordes"
                    ],
                    [
                      "quebec death metal"
                    ],
                    [
                      "quebec indie"
                    ],
                    [
                      "queens hip hop"
                    ],
                    [
                      "queer country"
                    ],
                    [
                      "queercore"
                    ],
                    [
                      "quiet storm"
                    ],
                    [
                      "quran"
                    ],
                    [
                      "r&b"
                    ],
                    [
                      "r&b en espanol"
                    ],
                    [
                      "rabindra sangeet"
                    ],
                    [
                      "radio symphony"
                    ],
                    [
                      "ragtime"
                    ],
                    [
                      "rai"
                    ],
                    [
                      "ranchera"
                    ],
                    [
                      "rap"
                    ],
                    [
                      "rap boricua"
                    ],
                    [
                      "rap chileno"
                    ],
                    [
                      "rap conciencia"
                    ],
                    [
                      "rap conscient"
                    ],
                    [
                      "rap cristiano"
                    ],
                    [
                      "rap dominicano"
                    ],
                    [
                      "rap francais"
                    ],
                    [
                      "rap inde"
                    ],
                    [
                      "rap kreyol"
                    ],
                    [
                      "rap latina"
                    ],
                    [
                      "rap maroc"
                    ],
                    [
                      "rap metal"
                    ],
                    [
                      "rap napoletano"
                    ],
                    [
                      "rap rock"
                    ],
                    [
                      "rap romantico"
                    ],
                    [
                      "rap underground mexicano"
                    ],
                    [
                      "rare groove"
                    ],
                    [
                      "rave"
                    ],
                    [
                      "rave funk"
                    ],
                    [
                      "rawstyle"
                    ],
                    [
                      "re:techno"
                    ],
                    [
                      "reading"
                    ],
                    [
                      "reading indie"
                    ],
                    [
                      "rebel blues"
                    ],
                    [
                      "rebetiko"
                    ],
                    [
                      "recorder"
                    ],
                    [
                      "red dirt"
                    ],
                    [
                      "redneck"
                    ],
                    [
                      "reggae"
                    ],
                    [
                      "reggae cover"
                    ],
                    [
                      "reggae en espanol"
                    ],
                    [
                      "reggae fusion"
                    ],
                    [
                      "reggae maghreb"
                    ],
                    [
                      "reggae peruano"
                    ],
                    [
                      "reggae rock"
                    ],
                    [
                      "reggaeton"
                    ],
                    [
                      "reggaeton colombiano"
                    ],
                    [
                      "reggaeton cristiano"
                    ],
                    [
                      "reggaeton flow"
                    ],
                    [
                      "regional mexican"
                    ],
                    [
                      "relaxative"
                    ],
                    [
                      "remix product"
                    ],
                    [
                      "renaissance"
                    ],
                    [
                      "rennes indie"
                    ],
                    [
                      "retro metal"
                    ],
                    [
                      "retro soul"
                    ],
                    [
                      "reunion pop"
                    ],
                    [
                      "rhode island indie"
                    ],
                    [
                      "rhode island rap"
                    ],
                    [
                      "rhythm and blues"
                    ],
                    [
                      "rhythm game"
                    ],
                    [
                      "riddim"
                    ],
                    [
                      "riddim dubstep"
                    ],
                    [
                      "rif"
                    ],
                    [
                      "riot grrrl"
                    ],
                    [
                      "ritmo kombina"
                    ],
                    [
                      "rkt"
                    ],
                    [
                      "rochester mn indie"
                    ],
                    [
                      "rochester ny indie"
                    ],
                    [
                      "rock"
                    ],
                    [
                      "rock alternatif francais"
                    ],
                    [
                      "rock alternativo brasileiro"
                    ],
                    [
                      "rock andaluz"
                    ],
                    [
                      "rock baiano"
                    ],
                    [
                      "rock brasiliense"
                    ],
                    [
                      "rock catala"
                    ],
                    [
                      "rock chapin"
                    ],
                    [
                      "rock cristiano"
                    ],
                    [
                      "rock drums"
                    ],
                    [
                      "rock en espanol"
                    ],
                    [
                      "rock gaucho"
                    ],
                    [
                      "rock independant francais"
                    ],
                    [
                      "rock keyboard"
                    ],
                    [
                      "rock nacional"
                    ],
                    [
                      "rock nacional brasileiro"
                    ],
                    [
                      "rock pernambucano"
                    ],
                    [
                      "rock progressif francais"
                    ],
                    [
                      "rock steady"
                    ],
                    [
                      "rock urbano mexicano"
                    ],
                    [
                      "rock uruguayo"
                    ],
                    [
                      "rock-and-roll"
                    ],
                    [
                      "rockabilly"
                    ],
                    [
                      "rockabilly en espanol"
                    ],
                    [
                      "roda de samba"
                    ],
                    [
                      "romanian classical piano"
                    ],
                    [
                      "romanian electronic"
                    ],
                    [
                      "romanian folk"
                    ],
                    [
                      "romanian pop"
                    ],
                    [
                      "romanian rock"
                    ],
                    [
                      "romantico"
                    ],
                    [
                      "rominimal"
                    ],
                    [
                      "roots americana"
                    ],
                    [
                      "roots reggae"
                    ],
                    [
                      "roots rock"
                    ],
                    [
                      "roots worship"
                    ],
                    [
                      "rosary"
                    ],
                    [
                      "rumba"
                    ],
                    [
                      "rumba catalana"
                    ],
                    [
                      "rumba congolaise"
                    ],
                    [
                      "rune folk"
                    ],
                    [
                      "russelater"
                    ],
                    [
                      "russian alternative rock"
                    ],
                    [
                      "russian ccm"
                    ],
                    [
                      "russian chanson"
                    ],
                    [
                      "russian choir"
                    ],
                    [
                      "russian classical piano"
                    ],
                    [
                      "russian contemporary classical"
                    ],
                    [
                      "russian dance"
                    ],
                    [
                      "russian dance pop"
                    ],
                    [
                      "russian dnb"
                    ],
                    [
                      "russian edm"
                    ],
                    [
                      "russian folk"
                    ],
                    [
                      "russian folk rock"
                    ],
                    [
                      "russian gangster rap"
                    ],
                    [
                      "russian hip hop"
                    ],
                    [
                      "russian jazz"
                    ],
                    [
                      "russian metal"
                    ],
                    [
                      "russian modern classical"
                    ],
                    [
                      "russian orchestra"
                    ],
                    [
                      "russian pop"
                    ],
                    [
                      "russian post-punk"
                    ],
                    [
                      "russian power metal"
                    ],
                    [
                      "russian punk"
                    ],
                    [
                      "russian punk rock"
                    ],
                    [
                      "russian rock"
                    ],
                    [
                      "russian romanticism"
                    ],
                    [
                      "russian ska"
                    ],
                    [
                      "russian techno"
                    ],
                    [
                      "russian thrash metal"
                    ],
                    [
                      "russian trance"
                    ],
                    [
                      "rva indie"
                    ],
                    [
                      "rwandan traditional"
                    ],
                    [
                      "ryukyu ongaku"
                    ],
                    [
                      "sacramento hip hop"
                    ],
                    [
                      "sacramento indie"
                    ],
                    [
                      "sacred steel"
                    ],
                    [
                      "sad rap"
                    ],
                    [
                      "salsa"
                    ],
                    [
                      "salsa choke"
                    ],
                    [
                      "salsa colombiana"
                    ],
                    [
                      "salsa cristiana"
                    ],
                    [
                      "salsa cubana"
                    ],
                    [
                      "salsa international"
                    ],
                    [
                      "salsa peruana"
                    ],
                    [
                      "salsa puertorriquena"
                    ],
                    [
                      "salsa venezolana"
                    ],
                    [
                      "samba"
                    ],
                    [
                      "samba de roda"
                    ],
                    [
                      "samba moderno"
                    ],
                    [
                      "samba-enredo"
                    ],
                    [
                      "samba-jazz"
                    ],
                    [
                      "samba-rock"
                    ],
                    [
                      "samoan pop"
                    ],
                    [
                      "san diego indie"
                    ],
                    [
                      "san diego rap"
                    ],
                    [
                      "san marcos tx indie"
                    ],
                    [
                      "sandalwood"
                    ],
                    [
                      "santa fe indie"
                    ],
                    [
                      "sarod"
                    ],
                    [
                      "saskatchewan indie"
                    ],
                    [
                      "saxony metal"
                    ],
                    [
                      "scam rap"
                    ],
                    [
                      "scandinavian r&b"
                    ],
                    [
                      "scandipop"
                    ],
                    [
                      "schlager"
                    ],
                    [
                      "school choir"
                    ],
                    [
                      "school ensemble"
                    ],
                    [
                      "schranz"
                    ],
                    [
                      "scorecore"
                    ],
                    [
                      "scottish americana"
                    ],
                    [
                      "scottish electronic"
                    ],
                    [
                      "scottish fiddle"
                    ],
                    [
                      "scottish folk"
                    ],
                    [
                      "scottish indie"
                    ],
                    [
                      "scottish indie folk"
                    ],
                    [
                      "scottish jazz"
                    ],
                    [
                      "scottish metal"
                    ],
                    [
                      "scottish new wave"
                    ],
                    [
                      "scottish rock"
                    ],
                    [
                      "scottish singer-songwriter"
                    ],
                    [
                      "scottish techno"
                    ],
                    [
                      "scratch"
                    ],
                    [
                      "scream rap"
                    ],
                    [
                      "screamo"
                    ],
                    [
                      "seattle hip hop"
                    ],
                    [
                      "seattle indie"
                    ],
                    [
                      "seattle metal"
                    ],
                    [
                      "second line"
                    ],
                    [
                      "sefardi"
                    ],
                    [
                      "seiyu"
                    ],
                    [
                      "serbian electronic"
                    ],
                    [
                      "serbian hip hop"
                    ],
                    [
                      "serialism"
                    ],
                    [
                      "sertanejo"
                    ],
                    [
                      "sertanejo pop"
                    ],
                    [
                      "sertanejo tradicional"
                    ],
                    [
                      "sertanejo universitario"
                    ],
                    [
                      "sesame street"
                    ],
                    [
                      "sevdah"
                    ],
                    [
                      "shaabi"
                    ],
                    [
                      "shabad"
                    ],
                    [
                      "shakuhachi"
                    ],
                    [
                      "shamanic"
                    ],
                    [
                      "shanty"
                    ],
                    [
                      "sheffield indie"
                    ],
                    [
                      "shibuya-kei"
                    ],
                    [
                      "shimmer pop"
                    ],
                    [
                      "shimmer psych"
                    ],
                    [
                      "shiver pop"
                    ],
                    [
                      "shoegaze"
                    ],
                    [
                      "shonen"
                    ],
                    [
                      "show tunes"
                    ],
                    [
                      "shred"
                    ],
                    [
                      "shush"
                    ],
                    [
                      "sierreno"
                    ],
                    [
                      "singaporean electronic"
                    ],
                    [
                      "singaporean mandopop"
                    ],
                    [
                      "singaporean pop"
                    ],
                    [
                      "singaporean singer-songwriter"
                    ],
                    [
                      "singer-songwriter"
                    ],
                    [
                      "sinhala pop"
                    ],
                    [
                      "sinogaze"
                    ],
                    [
                      "sitar"
                    ],
                    [
                      "ska"
                    ],
                    [
                      "ska argentino"
                    ],
                    [
                      "ska catala"
                    ],
                    [
                      "ska chileno"
                    ],
                    [
                      "ska jazz"
                    ],
                    [
                      "ska mexicano"
                    ],
                    [
                      "ska punk"
                    ],
                    [
                      "ska revival"
                    ],
                    [
                      "skanska musik"
                    ],
                    [
                      "skate punk"
                    ],
                    [
                      "skiffle"
                    ],
                    [
                      "skramz"
                    ],
                    [
                      "sky room"
                    ],
                    [
                      "slack-key guitar"
                    ],
                    [
                      "slam poetry"
                    ],
                    [
                      "slamming deathcore"
                    ],
                    [
                      "slavic folk metal"
                    ],
                    [
                      "slayer"
                    ],
                    [
                      "slc indie"
                    ],
                    [
                      "sleaze rock"
                    ],
                    [
                      "sleep"
                    ],
                    [
                      "slovak electronic"
                    ],
                    [
                      "slovak hip hop"
                    ],
                    [
                      "slovak pop"
                    ],
                    [
                      "slovenian electronic"
                    ],
                    [
                      "slovenian metal"
                    ],
                    [
                      "slow game"
                    ],
                    [
                      "slowcore"
                    ],
                    [
                      "sludge metal"
                    ],
                    [
                      "small room"
                    ],
                    [
                      "smooth jazz"
                    ],
                    [
                      "smooth saxophone"
                    ],
                    [
                      "smooth soul"
                    ],
                    [
                      "soca"
                    ],
                    [
                      "socal pop punk"
                    ],
                    [
                      "social media pop"
                    ],
                    [
                      "soda pop"
                    ],
                    [
                      "soft rock"
                    ],
                    [
                      "solipsynthm"
                    ],
                    [
                      "son cubano"
                    ],
                    [
                      "son cubano clasico"
                    ],
                    [
                      "sophisti-pop"
                    ],
                    [
                      "sotalaulut"
                    ],
                    [
                      "soukous"
                    ],
                    [
                      "soul"
                    ],
                    [
                      "soul blues"
                    ],
                    [
                      "soul flow"
                    ],
                    [
                      "soul jazz"
                    ],
                    [
                      "souldies"
                    ],
                    [
                      "sound"
                    ],
                    [
                      "sound effects"
                    ],
                    [
                      "sound team"
                    ],
                    [
                      "soundtrack"
                    ],
                    [
                      "south african alternative"
                    ],
                    [
                      "south african choral"
                    ],
                    [
                      "south african country"
                    ],
                    [
                      "south african hip hop"
                    ],
                    [
                      "south african house"
                    ],
                    [
                      "south african jazz"
                    ],
                    [
                      "south african pop"
                    ],
                    [
                      "south african pop dance"
                    ],
                    [
                      "south african rock"
                    ],
                    [
                      "south carolina hip hop"
                    ],
                    [
                      "south carolina indie"
                    ],
                    [
                      "south dakota indie"
                    ],
                    [
                      "southampton indie"
                    ],
                    [
                      "southern americana"
                    ],
                    [
                      "southern gospel"
                    ],
                    [
                      "southern hip hop"
                    ],
                    [
                      "southern metal"
                    ],
                    [
                      "southern rock"
                    ],
                    [
                      "southern soul"
                    ],
                    [
                      "southern soul blues"
                    ],
                    [
                      "soviet synthpop"
                    ],
                    [
                      "sovietwave"
                    ],
                    [
                      "spa"
                    ],
                    [
                      "space age pop"
                    ],
                    [
                      "space ambient"
                    ],
                    [
                      "space rock"
                    ],
                    [
                      "spacewave"
                    ],
                    [
                      "spanish baroque"
                    ],
                    [
                      "spanish blues"
                    ],
                    [
                      "spanish classical"
                    ],
                    [
                      "spanish classical piano"
                    ],
                    [
                      "spanish electronic"
                    ],
                    [
                      "spanish folk metal"
                    ],
                    [
                      "spanish hip hop"
                    ],
                    [
                      "spanish indie pop"
                    ],
                    [
                      "spanish indie rock"
                    ],
                    [
                      "spanish invasion"
                    ],
                    [
                      "spanish jazz"
                    ],
                    [
                      "spanish metal"
                    ],
                    [
                      "spanish modern rock"
                    ],
                    [
                      "spanish new wave"
                    ],
                    [
                      "spanish pop"
                    ],
                    [
                      "spanish pop rock"
                    ],
                    [
                      "spanish post-rock"
                    ],
                    [
                      "spanish punk"
                    ],
                    [
                      "spanish renaissance"
                    ],
                    [
                      "spanish rock"
                    ],
                    [
                      "spanish rockabilly"
                    ],
                    [
                      "spanish synthpop"
                    ],
                    [
                      "spanish techno"
                    ],
                    [
                      "speed garage"
                    ],
                    [
                      "speed metal"
                    ],
                    [
                      "speedcore"
                    ],
                    [
                      "spiritual hip hop"
                    ],
                    [
                      "spiritual jazz"
                    ],
                    [
                      "spirituals"
                    ],
                    [
                      "spytrack"
                    ],
                    [
                      "st louis rap"
                    ],
                    [
                      "starogradska"
                    ],
                    [
                      "steampunk"
                    ],
                    [
                      "steel guitar"
                    ],
                    [
                      "steelpan"
                    ],
                    [
                      "stomp and flutter"
                    ],
                    [
                      "stomp and holler"
                    ],
                    [
                      "stomp pop"
                    ],
                    [
                      "stoner metal"
                    ],
                    [
                      "stoner rock"
                    ],
                    [
                      "straight edge"
                    ],
                    [
                      "straight-ahead jazz"
                    ],
                    [
                      "street band"
                    ],
                    [
                      "street punk"
                    ],
                    [
                      "street punk espanol"
                    ],
                    [
                      "streichquartett"
                    ],
                    [
                      "stride"
                    ],
                    [
                      "string band"
                    ],
                    [
                      "string folk"
                    ],
                    [
                      "string orchestra"
                    ],
                    [
                      "string quartet"
                    ],
                    [
                      "strut"
                    ],
                    [
                      "substep"
                    ],
                    [
                      "sufi"
                    ],
                    [
                      "sufi chant"
                    ],
                    [
                      "sungura"
                    ],
                    [
                      "sunset lounge"
                    ],
                    [
                      "sunshine pop"
                    ],
                    [
                      "suomisaundi"
                    ],
                    [
                      "supergroup"
                    ],
                    [
                      "surf music"
                    ],
                    [
                      "surf punk"
                    ],
                    [
                      "svensk progg"
                    ],
                    [
                      "swamp blues"
                    ],
                    [
                      "swamp pop"
                    ],
                    [
                      "swamp rock"
                    ],
                    [
                      "swancore"
                    ],
                    [
                      "swedish alternative rock"
                    ],
                    [
                      "swedish americana"
                    ],
                    [
                      "swedish black metal"
                    ],
                    [
                      "swedish choir"
                    ],
                    [
                      "swedish classical"
                    ],
                    [
                      "swedish contemporary classical"
                    ],
                    [
                      "swedish country"
                    ],
                    [
                      "swedish dancehall"
                    ],
                    [
                      "swedish death metal"
                    ],
                    [
                      "swedish doom metal"
                    ],
                    [
                      "swedish electronic"
                    ],
                    [
                      "swedish electropop"
                    ],
                    [
                      "swedish eurodance"
                    ],
                    [
                      "swedish garage rock"
                    ],
                    [
                      "swedish hard rock"
                    ],
                    [
                      "swedish hardcore"
                    ],
                    [
                      "swedish heavy metal"
                    ],
                    [
                      "swedish house"
                    ],
                    [
                      "swedish idol pop"
                    ],
                    [
                      "swedish indie folk"
                    ],
                    [
                      "swedish indie pop"
                    ],
                    [
                      "swedish indie rock"
                    ],
                    [
                      "swedish jazz"
                    ],
                    [
                      "swedish jazz orkester"
                    ],
                    [
                      "swedish melodic rock"
                    ],
                    [
                      "swedish metal"
                    ],
                    [
                      "swedish pop"
                    ],
                    [
                      "swedish post-hardcore"
                    ],
                    [
                      "swedish power metal"
                    ],
                    [
                      "swedish prog"
                    ],
                    [
                      "swedish progressive metal"
                    ],
                    [
                      "swedish punk"
                    ],
                    [
                      "swedish rock-and-roll"
                    ],
                    [
                      "swedish singer-songwriter"
                    ],
                    [
                      "swedish soul"
                    ],
                    [
                      "swedish stoner rock"
                    ],
                    [
                      "swedish synth"
                    ],
                    [
                      "swedish synthpop"
                    ],
                    [
                      "swedish techno"
                    ],
                    [
                      "swedish tropical house"
                    ],
                    [
                      "swing"
                    ],
                    [
                      "swing italiano"
                    ],
                    [
                      "swing revival"
                    ],
                    [
                      "swiss black metal"
                    ],
                    [
                      "swiss classical piano"
                    ],
                    [
                      "swiss contemporary classical"
                    ],
                    [
                      "swiss country"
                    ],
                    [
                      "swiss jazz"
                    ],
                    [
                      "swiss metal"
                    ],
                    [
                      "swiss pop"
                    ],
                    [
                      "swiss punk"
                    ],
                    [
                      "swiss rock"
                    ],
                    [
                      "symphonic black metal"
                    ],
                    [
                      "symphonic death metal"
                    ],
                    [
                      "symphonic metal"
                    ],
                    [
                      "symphonic rock"
                    ],
                    [
                      "synth funk"
                    ],
                    [
                      "synth punk"
                    ],
                    [
                      "synthpop"
                    ],
                    [
                      "synthwave"
                    ],
                    [
                      "syrian pop"
                    ],
                    [
                      "tabla"
                    ],
                    [
                      "tagalog rap"
                    ],
                    [
                      "tagalog worship"
                    ],
                    [
                      "taiwan campus folk"
                    ],
                    [
                      "taiwan classical performance"
                    ],
                    [
                      "taiwan hip hop"
                    ],
                    [
                      "taiwan indie"
                    ],
                    [
                      "taiwan pop"
                    ],
                    [
                      "taiwan singer-songwriter"
                    ],
                    [
                      "tajik pop"
                    ],
                    [
                      "talent show"
                    ],
                    [
                      "tallava"
                    ],
                    [
                      "tamborazo"
                    ],
                    [
                      "tamil hip hop"
                    ],
                    [
                      "tamil pop"
                    ],
                    [
                      "tamil worship"
                    ],
                    [
                      "tampa indie"
                    ],
                    [
                      "tango"
                    ],
                    [
                      "tango cancion"
                    ],
                    [
                      "tape club"
                    ],
                    [
                      "tavern"
                    ],
                    [
                      "tech house"
                    ],
                    [
                      "tech trance"
                    ],
                    [
                      "technical brutal death metal"
                    ],
                    [
                      "technical death metal"
                    ],
                    [
                      "technical deathcore"
                    ],
                    [
                      "technical grindcore"
                    ],
                    [
                      "technical groove metal"
                    ],
                    [
                      "technical melodic death metal"
                    ],
                    [
                      "technical thrash"
                    ],
                    [
                      "techno"
                    ],
                    [
                      "techno argentina"
                    ],
                    [
                      "techno kayo"
                    ],
                    [
                      "tecnobanda"
                    ],
                    [
                      "teen pop"
                    ],
                    [
                      "tejano"
                    ],
                    [
                      "tekk"
                    ],
                    [
                      "tekno"
                    ],
                    [
                      "tempe indie"
                    ],
                    [
                      "tennessee experimental"
                    ],
                    [
                      "tennessee hip hop"
                    ],
                    [
                      "tex-mex"
                    ],
                    [
                      "texas blues"
                    ],
                    [
                      "texas country"
                    ],
                    [
                      "texas latin rap"
                    ],
                    [
                      "texas pop punk"
                    ],
                    [
                      "texas punk"
                    ],
                    [
                      "thai folk pop"
                    ],
                    [
                      "thai folk rock"
                    ],
                    [
                      "thai hip hop"
                    ],
                    [
                      "thai idol"
                    ],
                    [
                      "thai indie"
                    ],
                    [
                      "thai indie rock"
                    ],
                    [
                      "thai instrumental"
                    ],
                    [
                      "thai pop"
                    ],
                    [
                      "thai rock"
                    ],
                    [
                      "thall"
                    ],
                    [
                      "theme"
                    ],
                    [
                      "therapy"
                    ],
                    [
                      "theremin"
                    ],
                    [
                      "thrash core"
                    ],
                    [
                      "thrash metal"
                    ],
                    [
                      "timba"
                    ],
                    [
                      "tin pan alley"
                    ],
                    [
                      "tipico"
                    ],
                    [
                      "tolkien metal"
                    ],
                    [
                      "tollywood"
                    ],
                    [
                      "tone"
                    ],
                    [
                      "torch song"
                    ],
                    [
                      "toronto indie"
                    ],
                    [
                      "toronto rap"
                    ],
                    [
                      "trad jazz catala"
                    ],
                    [
                      "trad quebecois"
                    ],
                    [
                      "traditional bluegrass"
                    ],
                    [
                      "traditional blues"
                    ],
                    [
                      "traditional british folk"
                    ],
                    [
                      "traditional country"
                    ],
                    [
                      "traditional english folk"
                    ],
                    [
                      "traditional folk"
                    ],
                    [
                      "traditional irish singing"
                    ],
                    [
                      "traditional rockabilly"
                    ],
                    [
                      "traditional ska"
                    ],
                    [
                      "traditional soul"
                    ],
                    [
                      "trance"
                    ],
                    [
                      "trance mexicano"
                    ],
                    [
                      "trancecore"
                    ],
                    [
                      "transpop"
                    ],
                    [
                      "trap"
                    ],
                    [
                      "trap argentino"
                    ],
                    [
                      "trap boricua"
                    ],
                    [
                      "trap dominicano"
                    ],
                    [
                      "trap funk"
                    ],
                    [
                      "trap italiana"
                    ],
                    [
                      "trap latino"
                    ],
                    [
                      "trap mexicano"
                    ],
                    [
                      "trap queen"
                    ],
                    [
                      "trap soul"
                    ],
                    [
                      "trap triste"
                    ],
                    [
                      "trap venezolano"
                    ],
                    [
                      "traprun"
                    ],
                    [
                      "trash rock"
                    ],
                    [
                      "triangle indie"
                    ],
                    [
                      "tribal house"
                    ],
                    [
                      "trinidadian reggae"
                    ],
                    [
                      "trio cubano"
                    ],
                    [
                      "trip hop"
                    ],
                    [
                      "trival"
                    ],
                    [
                      "tropical"
                    ],
                    [
                      "tropical house"
                    ],
                    [
                      "tropicalia"
                    ],
                    [
                      "trova"
                    ],
                    [
                      "trova mexicana"
                    ],
                    [
                      "truck-driving country"
                    ],
                    [
                      "tucson indie"
                    ],
                    [
                      "tulsa indie"
                    ],
                    [
                      "tunisian pop"
                    ],
                    [
                      "turbo folk"
                    ],
                    [
                      "turkish classical"
                    ],
                    [
                      "turkish classical performance"
                    ],
                    [
                      "turkish edm"
                    ],
                    [
                      "turkish experimental"
                    ],
                    [
                      "turkish folk"
                    ],
                    [
                      "turkish jazz"
                    ],
                    [
                      "turkish modern jazz"
                    ],
                    [
                      "turkish pop"
                    ],
                    [
                      "turkish psych"
                    ],
                    [
                      "turkish trap"
                    ],
                    [
                      "turkish trap pop"
                    ],
                    [
                      "turntablism"
                    ],
                    [
                      "twee pop"
                    ],
                    [
                      "twin cities indie"
                    ],
                    [
                      "twoubadou"
                    ],
                    [
                      "tzadik"
                    ],
                    [
                      "ugandan pop"
                    ],
                    [
                      "uilleann pipes"
                    ],
                    [
                      "uk alternative hip hop"
                    ],
                    [
                      "uk alternative pop"
                    ],
                    [
                      "uk americana"
                    ],
                    [
                      "uk contemporary r&b"
                    ],
                    [
                      "uk dance"
                    ],
                    [
                      "uk dancehall"
                    ],
                    [
                      "uk dnb"
                    ],
                    [
                      "uk doom metal"
                    ],
                    [
                      "uk drill"
                    ],
                    [
                      "uk dub"
                    ],
                    [
                      "uk experimental electronic"
                    ],
                    [
                      "uk funky"
                    ],
                    [
                      "uk garage"
                    ],
                    [
                      "uk hip hop"
                    ],
                    [
                      "uk house"
                    ],
                    [
                      "uk metalcore"
                    ],
                    [
                      "uk noise rock"
                    ],
                    [
                      "uk pop"
                    ],
                    [
                      "uk pop punk"
                    ],
                    [
                      "uk post-hardcore"
                    ],
                    [
                      "uk post-punk"
                    ],
                    [
                      "uk reggae"
                    ],
                    [
                      "uk rockabilly"
                    ],
                    [
                      "uk stoner rock"
                    ],
                    [
                      "uk tech house"
                    ],
                    [
                      "uk worship"
                    ],
                    [
                      "uk82"
                    ],
                    [
                      "ukhc"
                    ],
                    [
                      "ukrainian classical"
                    ],
                    [
                      "ukrainian classical piano"
                    ],
                    [
                      "ukrainian electronic"
                    ],
                    [
                      "ukrainian pop"
                    ],
                    [
                      "ukulele"
                    ],
                    [
                      "umbanda"
                    ],
                    [
                      "underground hip hop"
                    ],
                    [
                      "underground power pop"
                    ],
                    [
                      "underground rap"
                    ],
                    [
                      "university choir"
                    ],
                    [
                      "uplifting trance"
                    ],
                    [
                      "uptempo hardcore"
                    ],
                    [
                      "urban contemporary"
                    ],
                    [
                      "urbano espanol"
                    ],
                    [
                      "us power metal"
                    ],
                    [
                      "utah indie"
                    ],
                    [
                      "uzbek pop"
                    ],
                    [
                      "uzbek traditional"
                    ],
                    [
                      "v-pop"
                    ],
                    [
                      "vallenato"
                    ],
                    [
                      "vallenato moderno"
                    ],
                    [
                      "vancouver indie"
                    ],
                    [
                      "vancouver metal"
                    ],
                    [
                      "vancouver punk"
                    ],
                    [
                      "vapor pop"
                    ],
                    [
                      "vapor soul"
                    ],
                    [
                      "vapor trap"
                    ],
                    [
                      "vapor twitch"
                    ],
                    [
                      "vaporwave"
                    ],
                    [
                      "variete francaise"
                    ],
                    [
                      "vaudeville"
                    ],
                    [
                      "vbs"
                    ],
                    [
                      "veena"
                    ],
                    [
                      "vegan straight edge"
                    ],
                    [
                      "vegas indie"
                    ],
                    [
                      "velha guarda"
                    ],
                    [
                      "venezuelan hip hop"
                    ],
                    [
                      "venezuelan indie"
                    ],
                    [
                      "venezuelan rock"
                    ],
                    [
                      "veracruz indie"
                    ],
                    [
                      "vgm instrumental"
                    ],
                    [
                      "victorian britain"
                    ],
                    [
                      "video game music"
                    ],
                    [
                      "vietnamese bolero"
                    ],
                    [
                      "vietnamese pop"
                    ],
                    [
                      "viking black metal"
                    ],
                    [
                      "viking folk"
                    ],
                    [
                      "viking metal"
                    ],
                    [
                      "villancicos"
                    ],
                    [
                      "vintage chanson"
                    ],
                    [
                      "vintage chinese pop"
                    ],
                    [
                      "vintage classical singing"
                    ],
                    [
                      "vintage country folk"
                    ],
                    [
                      "vintage french electronic"
                    ],
                    [
                      "vintage gospel"
                    ],
                    [
                      "vintage hawaiian"
                    ],
                    [
                      "vintage hollywood"
                    ],
                    [
                      "vintage italian pop"
                    ],
                    [
                      "vintage italian soundtrack"
                    ],
                    [
                      "vintage jazz"
                    ],
                    [
                      "vintage old-time"
                    ],
                    [
                      "vintage rockabilly"
                    ],
                    [
                      "vintage schlager"
                    ],
                    [
                      "vintage spanish pop"
                    ],
                    [
                      "vintage swedish pop"
                    ],
                    [
                      "vintage swing"
                    ],
                    [
                      "vintage tango"
                    ],
                    [
                      "viola"
                    ],
                    [
                      "violao"
                    ],
                    [
                      "violao classico"
                    ],
                    [
                      "violin"
                    ],
                    [
                      "viral pop"
                    ],
                    [
                      "viral rap"
                    ],
                    [
                      "viral trap"
                    ],
                    [
                      "virgin islands reggae"
                    ],
                    [
                      "virginia hip hop"
                    ],
                    [
                      "virginia metal"
                    ],
                    [
                      "virginia punk"
                    ],
                    [
                      "visor"
                    ],
                    [
                      "visual kei"
                    ],
                    [
                      "vocal ensemble"
                    ],
                    [
                      "vocal harmony group"
                    ],
                    [
                      "vocal house"
                    ],
                    [
                      "vocal jazz"
                    ],
                    [
                      "vocal trance"
                    ],
                    [
                      "vocaloid"
                    ],
                    [
                      "vogue"
                    ],
                    [
                      "voidgaze"
                    ],
                    [
                      "volksmusik"
                    ],
                    [
                      "warm drone"
                    ],
                    [
                      "warrington indie"
                    ],
                    [
                      "washboard"
                    ],
                    [
                      "washington indie"
                    ],
                    [
                      "wassoulou"
                    ],
                    [
                      "water"
                    ],
                    [
                      "wave"
                    ],
                    [
                      "welsh folk"
                    ],
                    [
                      "welsh indie"
                    ],
                    [
                      "welsh metal"
                    ],
                    [
                      "welsh rock"
                    ],
                    [
                      "west african jazz"
                    ],
                    [
                      "west coast rap"
                    ],
                    [
                      "west coast reggae"
                    ],
                    [
                      "west coast trap"
                    ],
                    [
                      "west end"
                    ],
                    [
                      "west virginia indie"
                    ],
                    [
                      "west virginia metal"
                    ],
                    [
                      "western americana"
                    ],
                    [
                      "western mass indie"
                    ],
                    [
                      "western swing"
                    ],
                    [
                      "white noise"
                    ],
                    [
                      "wind ensemble"
                    ],
                    [
                      "wind quintet"
                    ],
                    [
                      "wind symphony"
                    ],
                    [
                      "witch house"
                    ],
                    [
                      "women's music"
                    ],
                    [
                      "wonky"
                    ],
                    [
                      "worcester ma indie"
                    ],
                    [
                      "workout product"
                    ],
                    [
                      "world"
                    ],
                    [
                      "world chill"
                    ],
                    [
                      "world fusion"
                    ],
                    [
                      "world meditation"
                    ],
                    [
                      "world worship"
                    ],
                    [
                      "worship"
                    ],
                    [
                      "wrestling"
                    ],
                    [
                      "wu fam"
                    ],
                    [
                      "wyoming indie"
                    ],
                    [
                      "wyoming roots"
                    ],
                    [
                      "xhosa"
                    ],
                    [
                      "xtra raw"
                    ],
                    [
                      "yacht rock"
                    ],
                    [
                      "yaoi"
                    ],
                    [
                      "ye ye"
                    ],
                    [
                      "yiddish folk"
                    ],
                    [
                      "yodeling"
                    ],
                    [
                      "yoga"
                    ],
                    [
                      "yoik"
                    ],
                    [
                      "york indie"
                    ],
                    [
                      "yorkshire folk"
                    ],
                    [
                      "youth orchestra"
                    ],
                    [
                      "yugoslav new wave"
                    ],
                    [
                      "yugoslav rock"
                    ],
                    [
                      "zambian pop"
                    ],
                    [
                      "zen"
                    ],
                    [
                      "zhongguo feng"
                    ],
                    [
                      "zim urban groove"
                    ],
                    [
                      "zolo"
                    ],
                    [
                      "zouk"
                    ],
                    [
                      "zurich indie"
                    ],
                    [
                      "zydeco"
                    ]
                  ],
                  "hovertemplate": "x=%{x}<br>y=%{y}<br>genres=%{customdata[0]}<br>cluster=%{marker.color}<extra></extra>",
                  "legendgroup": "",
                  "marker": {
                    "color": [
                      3,
                      3,
                      0,
                      2,
                      2,
                      3,
                      1,
                      6,
                      3,
                      2,
                      2,
                      7,
                      7,
                      6,
                      0,
                      8,
                      3,
                      2,
                      9,
                      3,
                      6,
                      1,
                      1,
                      2,
                      0,
                      1,
                      2,
                      2,
                      6,
                      2,
                      6,
                      1,
                      1,
                      1,
                      2,
                      9,
                      6,
                      0,
                      6,
                      6,
                      6,
                      1,
                      7,
                      1,
                      7,
                      0,
                      1,
                      8,
                      1,
                      1,
                      0,
                      7,
                      1,
                      7,
                      1,
                      1,
                      2,
                      1,
                      6,
                      6,
                      1,
                      6,
                      8,
                      1,
                      6,
                      8,
                      1,
                      6,
                      6,
                      3,
                      9,
                      0,
                      6,
                      7,
                      1,
                      6,
                      3,
                      3,
                      0,
                      3,
                      3,
                      1,
                      3,
                      3,
                      3,
                      3,
                      2,
                      8,
                      7,
                      2,
                      7,
                      3,
                      3,
                      3,
                      3,
                      8,
                      7,
                      8,
                      3,
                      7,
                      6,
                      8,
                      1,
                      1,
                      6,
                      6,
                      8,
                      1,
                      2,
                      1,
                      2,
                      0,
                      0,
                      2,
                      7,
                      7,
                      8,
                      1,
                      3,
                      3,
                      6,
                      1,
                      1,
                      6,
                      1,
                      6,
                      1,
                      1,
                      8,
                      1,
                      7,
                      3,
                      1,
                      1,
                      1,
                      3,
                      9,
                      6,
                      3,
                      9,
                      8,
                      6,
                      7,
                      7,
                      6,
                      8,
                      3,
                      9,
                      6,
                      9,
                      7,
                      9,
                      6,
                      2,
                      8,
                      7,
                      1,
                      6,
                      1,
                      7,
                      8,
                      3,
                      6,
                      9,
                      6,
                      3,
                      3,
                      1,
                      8,
                      7,
                      8,
                      1,
                      7,
                      6,
                      1,
                      6,
                      7,
                      8,
                      1,
                      8,
                      8,
                      6,
                      6,
                      7,
                      6,
                      1,
                      8,
                      7,
                      1,
                      8,
                      3,
                      3,
                      3,
                      8,
                      0,
                      3,
                      1,
                      2,
                      8,
                      3,
                      2,
                      9,
                      1,
                      2,
                      6,
                      6,
                      6,
                      1,
                      6,
                      3,
                      2,
                      2,
                      2,
                      2,
                      7,
                      2,
                      2,
                      0,
                      9,
                      3,
                      0,
                      3,
                      2,
                      3,
                      7,
                      8,
                      1,
                      1,
                      6,
                      2,
                      2,
                      2,
                      2,
                      2,
                      3,
                      1,
                      2,
                      2,
                      6,
                      5,
                      5,
                      5,
                      3,
                      3,
                      3,
                      3,
                      3,
                      1,
                      3,
                      2,
                      2,
                      7,
                      8,
                      6,
                      6,
                      6,
                      6,
                      1,
                      6,
                      6,
                      6,
                      6,
                      0,
                      6,
                      2,
                      6,
                      5,
                      1,
                      1,
                      7,
                      2,
                      6,
                      6,
                      0,
                      6,
                      8,
                      3,
                      3,
                      7,
                      7,
                      1,
                      0,
                      2,
                      9,
                      0,
                      7,
                      6,
                      7,
                      0,
                      6,
                      6,
                      2,
                      1,
                      1,
                      0,
                      3,
                      2,
                      6,
                      3,
                      2,
                      1,
                      7,
                      3,
                      7,
                      0,
                      8,
                      6,
                      8,
                      5,
                      8,
                      8,
                      9,
                      8,
                      8,
                      9,
                      3,
                      3,
                      7,
                      2,
                      2,
                      1,
                      2,
                      6,
                      8,
                      1,
                      1,
                      0,
                      2,
                      2,
                      2,
                      1,
                      1,
                      1,
                      2,
                      7,
                      0,
                      2,
                      2,
                      2,
                      6,
                      1,
                      1,
                      8,
                      8,
                      1,
                      1,
                      8,
                      2,
                      2,
                      6,
                      1,
                      3,
                      7,
                      3,
                      2,
                      3,
                      3,
                      0,
                      9,
                      1,
                      3,
                      3,
                      3,
                      8,
                      0,
                      0,
                      8,
                      8,
                      1,
                      1,
                      2,
                      8,
                      2,
                      6,
                      1,
                      1,
                      7,
                      7,
                      0,
                      7,
                      8,
                      7,
                      7,
                      0,
                      6,
                      2,
                      0,
                      8,
                      7,
                      1,
                      8,
                      1,
                      3,
                      1,
                      3,
                      3,
                      1,
                      3,
                      2,
                      8,
                      6,
                      2,
                      8,
                      1,
                      6,
                      1,
                      2,
                      3,
                      3,
                      0,
                      8,
                      2,
                      1,
                      3,
                      6,
                      2,
                      1,
                      1,
                      7,
                      6,
                      6,
                      8,
                      8,
                      0,
                      1,
                      1,
                      1,
                      2,
                      7,
                      0,
                      4,
                      6,
                      2,
                      2,
                      2,
                      8,
                      2,
                      1,
                      7,
                      6,
                      2,
                      2,
                      6,
                      3,
                      7,
                      7,
                      1,
                      7,
                      1,
                      2,
                      3,
                      3,
                      3,
                      5,
                      1,
                      1,
                      1,
                      8,
                      8,
                      9,
                      1,
                      8,
                      6,
                      6,
                      2,
                      2,
                      6,
                      8,
                      7,
                      1,
                      8,
                      6,
                      3,
                      8,
                      8,
                      1,
                      7,
                      1,
                      3,
                      1,
                      1,
                      5,
                      1,
                      9,
                      1,
                      1,
                      2,
                      2,
                      2,
                      6,
                      2,
                      2,
                      2,
                      0,
                      2,
                      6,
                      2,
                      2,
                      2,
                      0,
                      1,
                      3,
                      3,
                      3,
                      1,
                      7,
                      3,
                      2,
                      3,
                      1,
                      1,
                      1,
                      2,
                      9,
                      6,
                      2,
                      3,
                      3,
                      8,
                      3,
                      6,
                      1,
                      1,
                      7,
                      2,
                      2,
                      7,
                      7,
                      2,
                      7,
                      1,
                      9,
                      2,
                      6,
                      7,
                      7,
                      6,
                      8,
                      8,
                      6,
                      6,
                      8,
                      6,
                      7,
                      1,
                      2,
                      2,
                      6,
                      5,
                      1,
                      1,
                      7,
                      6,
                      0,
                      2,
                      0,
                      1,
                      1,
                      2,
                      6,
                      1,
                      2,
                      3,
                      3,
                      3,
                      7,
                      1,
                      0,
                      1,
                      8,
                      3,
                      2,
                      3,
                      2,
                      5,
                      6,
                      6,
                      3,
                      2,
                      6,
                      7,
                      2,
                      1,
                      8,
                      6,
                      6,
                      1,
                      8,
                      8,
                      6,
                      1,
                      2,
                      1,
                      3,
                      8,
                      6,
                      1,
                      3,
                      2,
                      1,
                      6,
                      7,
                      6,
                      0,
                      7,
                      6,
                      6,
                      2,
                      2,
                      1,
                      7,
                      2,
                      1,
                      2,
                      1,
                      1,
                      1,
                      3,
                      2,
                      8,
                      2,
                      7,
                      1,
                      1,
                      6,
                      2,
                      7,
                      5,
                      9,
                      8,
                      7,
                      2,
                      2,
                      2,
                      8,
                      0,
                      2,
                      2,
                      2,
                      8,
                      2,
                      1,
                      1,
                      6,
                      2,
                      7,
                      2,
                      6,
                      2,
                      9,
                      2,
                      1,
                      1,
                      7,
                      6,
                      2,
                      1,
                      3,
                      1,
                      6,
                      6,
                      2,
                      1,
                      1,
                      3,
                      6,
                      3,
                      3,
                      3,
                      3,
                      3,
                      3,
                      3,
                      3,
                      3,
                      3,
                      3,
                      3,
                      2,
                      3,
                      3,
                      3,
                      3,
                      3,
                      3,
                      3,
                      3,
                      3,
                      3,
                      3,
                      2,
                      2,
                      5,
                      8,
                      1,
                      1,
                      2,
                      2,
                      0,
                      0,
                      0,
                      7,
                      0,
                      6,
                      6,
                      0,
                      5,
                      1,
                      6,
                      6,
                      6,
                      0,
                      8,
                      3,
                      3,
                      8,
                      6,
                      3,
                      3,
                      3,
                      1,
                      2,
                      1,
                      3,
                      2,
                      2,
                      3,
                      2,
                      2,
                      2,
                      9,
                      1,
                      1,
                      8,
                      2,
                      9,
                      0,
                      9,
                      1,
                      2,
                      2,
                      1,
                      2,
                      1,
                      1,
                      1,
                      1,
                      1,
                      2,
                      2,
                      1,
                      8,
                      0,
                      9,
                      7,
                      1,
                      9,
                      8,
                      6,
                      8,
                      1,
                      1,
                      2,
                      1,
                      1,
                      1,
                      1,
                      1,
                      7,
                      7,
                      1,
                      1,
                      2,
                      2,
                      1,
                      1,
                      1,
                      8,
                      6,
                      2,
                      3,
                      3,
                      2,
                      2,
                      7,
                      7,
                      8,
                      2,
                      9,
                      9,
                      8,
                      6,
                      1,
                      1,
                      1,
                      8,
                      7,
                      3,
                      0,
                      0,
                      0,
                      0,
                      1,
                      2,
                      8,
                      1,
                      9,
                      0,
                      6,
                      0,
                      0,
                      6,
                      8,
                      2,
                      6,
                      8,
                      8,
                      7,
                      0,
                      4,
                      3,
                      0,
                      7,
                      0,
                      0,
                      0,
                      6,
                      8,
                      0,
                      9,
                      6,
                      8,
                      8,
                      8,
                      8,
                      8,
                      8,
                      8,
                      8,
                      8,
                      7,
                      2,
                      7,
                      8,
                      0,
                      6,
                      6,
                      5,
                      1,
                      6,
                      9,
                      0,
                      0,
                      2,
                      1,
                      0,
                      0,
                      0,
                      1,
                      0,
                      7,
                      7,
                      6,
                      3,
                      1,
                      0,
                      6,
                      0,
                      7,
                      6,
                      1,
                      8,
                      0,
                      7,
                      2,
                      2,
                      2,
                      1,
                      0,
                      9,
                      9,
                      0,
                      7,
                      0,
                      2,
                      1,
                      6,
                      1,
                      8,
                      9,
                      0,
                      0,
                      8,
                      6,
                      7,
                      1,
                      1,
                      7,
                      1,
                      0,
                      2,
                      1,
                      6,
                      1,
                      0,
                      0,
                      6,
                      7,
                      7,
                      0,
                      2,
                      1,
                      7,
                      1,
                      7,
                      9,
                      7,
                      7,
                      6,
                      1,
                      7,
                      1,
                      7,
                      1,
                      0,
                      7,
                      3,
                      2,
                      6,
                      2,
                      3,
                      8,
                      3,
                      6,
                      6,
                      1,
                      7,
                      2,
                      2,
                      1,
                      2,
                      6,
                      8,
                      7,
                      1,
                      1,
                      2,
                      8,
                      9,
                      7,
                      8,
                      1,
                      9,
                      2,
                      8,
                      8,
                      8,
                      8,
                      3,
                      6,
                      7,
                      3,
                      3,
                      0,
                      8,
                      1,
                      9,
                      7,
                      7,
                      0,
                      8,
                      0,
                      0,
                      3,
                      6,
                      6,
                      6,
                      9,
                      1,
                      0,
                      2,
                      7,
                      3,
                      6,
                      0,
                      0,
                      7,
                      9,
                      7,
                      2,
                      7,
                      9,
                      8,
                      0,
                      6,
                      9,
                      6,
                      6,
                      0,
                      0,
                      2,
                      5,
                      3,
                      3,
                      3,
                      3,
                      1,
                      3,
                      6,
                      8,
                      6,
                      1,
                      6,
                      2,
                      1,
                      2,
                      8,
                      3,
                      2,
                      1,
                      8,
                      6,
                      1,
                      2,
                      7,
                      1,
                      2,
                      1,
                      1,
                      8,
                      1,
                      7,
                      1,
                      0,
                      8,
                      1,
                      1,
                      8,
                      1,
                      8,
                      1,
                      7,
                      0,
                      0,
                      8,
                      1,
                      1,
                      1,
                      6,
                      8,
                      8,
                      8,
                      6,
                      8,
                      3,
                      2,
                      3,
                      2,
                      9,
                      8,
                      8,
                      9,
                      0,
                      1,
                      3,
                      2,
                      8,
                      8,
                      1,
                      6,
                      3,
                      2,
                      0,
                      8,
                      7,
                      7,
                      6,
                      7,
                      1,
                      8,
                      7,
                      2,
                      6,
                      3,
                      7,
                      2,
                      3,
                      7,
                      0,
                      1,
                      9,
                      1,
                      8,
                      2,
                      2,
                      0,
                      9,
                      8,
                      7,
                      7,
                      2,
                      7,
                      8,
                      8,
                      3,
                      6,
                      9,
                      0,
                      3,
                      7,
                      9,
                      7,
                      0,
                      6,
                      9,
                      9,
                      9,
                      6,
                      8,
                      1,
                      0,
                      7,
                      3,
                      6,
                      0,
                      8,
                      7,
                      7,
                      2,
                      6,
                      0,
                      7,
                      6,
                      2,
                      7,
                      2,
                      2,
                      6,
                      2,
                      9,
                      6,
                      1,
                      6,
                      1,
                      2,
                      7,
                      2,
                      2,
                      6,
                      5,
                      1,
                      2,
                      1,
                      0,
                      2,
                      6,
                      8,
                      3,
                      3,
                      1,
                      0,
                      1,
                      6,
                      1,
                      2,
                      2,
                      1,
                      3,
                      3,
                      3,
                      8,
                      7,
                      8,
                      1,
                      6,
                      2,
                      8,
                      2,
                      3,
                      3,
                      6,
                      8,
                      8,
                      1,
                      1,
                      3,
                      6,
                      2,
                      1,
                      0,
                      0,
                      8,
                      6,
                      0,
                      6,
                      6,
                      1,
                      2,
                      1,
                      8,
                      8,
                      2,
                      8,
                      1,
                      7,
                      0,
                      0,
                      6,
                      1,
                      7,
                      6,
                      8,
                      8,
                      6,
                      8,
                      6,
                      8,
                      6,
                      7,
                      2,
                      3,
                      9,
                      8,
                      6,
                      0,
                      8,
                      1,
                      8,
                      8,
                      8,
                      1,
                      1,
                      8,
                      7,
                      6,
                      0,
                      6,
                      7,
                      2,
                      9,
                      3,
                      3,
                      1,
                      1,
                      0,
                      0,
                      8,
                      9,
                      7,
                      2,
                      0,
                      1,
                      7,
                      3,
                      5,
                      9,
                      9,
                      9,
                      3,
                      3,
                      1,
                      6,
                      9,
                      7,
                      1,
                      8,
                      3,
                      8,
                      3,
                      8,
                      3,
                      9,
                      3,
                      9,
                      8,
                      0,
                      0,
                      6,
                      7,
                      6,
                      1,
                      7,
                      5,
                      2,
                      0,
                      8,
                      0,
                      1,
                      8,
                      8,
                      1,
                      1,
                      2,
                      6,
                      1,
                      1,
                      0,
                      7,
                      0,
                      0,
                      0,
                      6,
                      2,
                      2,
                      5,
                      6,
                      2,
                      1,
                      8,
                      1,
                      8,
                      7,
                      1,
                      7,
                      8,
                      8,
                      8,
                      8,
                      1,
                      8,
                      7,
                      0,
                      2,
                      3,
                      2,
                      2,
                      7,
                      0,
                      2,
                      2,
                      0,
                      7,
                      3,
                      1,
                      0,
                      7,
                      8,
                      0,
                      8,
                      7,
                      1,
                      1,
                      7,
                      7,
                      0,
                      6,
                      5,
                      7,
                      2,
                      3,
                      2,
                      9,
                      3,
                      7,
                      2,
                      2,
                      7,
                      1,
                      2,
                      9,
                      1,
                      1,
                      0,
                      2,
                      0,
                      3,
                      6,
                      7,
                      8,
                      8,
                      8,
                      2,
                      8,
                      8,
                      0,
                      0,
                      8,
                      6,
                      9,
                      8,
                      6,
                      8,
                      8,
                      8,
                      8,
                      0,
                      1,
                      2,
                      2,
                      6,
                      3,
                      3,
                      2,
                      2,
                      1,
                      1,
                      3,
                      1,
                      1,
                      6,
                      2,
                      7,
                      2,
                      3,
                      2,
                      6,
                      8,
                      1,
                      6,
                      4,
                      3,
                      3,
                      3,
                      3,
                      3,
                      3,
                      5,
                      9,
                      1,
                      2,
                      2,
                      2,
                      2,
                      1,
                      8,
                      8,
                      1,
                      7,
                      0,
                      6,
                      1,
                      6,
                      2,
                      7,
                      3,
                      3,
                      3,
                      3,
                      0,
                      5,
                      2,
                      0,
                      0,
                      9,
                      6,
                      6,
                      3,
                      8,
                      9,
                      3,
                      8,
                      8,
                      8,
                      1,
                      8,
                      7,
                      2,
                      3,
                      2,
                      7,
                      7,
                      3,
                      1,
                      2,
                      7,
                      1,
                      7,
                      1,
                      8,
                      1,
                      1,
                      8,
                      6,
                      0,
                      1,
                      6,
                      8,
                      1,
                      1,
                      7,
                      1,
                      1,
                      6,
                      1,
                      6,
                      8,
                      1,
                      1,
                      1,
                      1,
                      0,
                      7,
                      6,
                      6,
                      0,
                      1,
                      6,
                      6,
                      1,
                      9,
                      7,
                      6,
                      6,
                      8,
                      6,
                      8,
                      6,
                      0,
                      9,
                      6,
                      8,
                      6,
                      0,
                      7,
                      3,
                      2,
                      6,
                      7,
                      0,
                      8,
                      8,
                      1,
                      6,
                      8,
                      7,
                      2,
                      2,
                      2,
                      9,
                      3,
                      2,
                      8,
                      0,
                      0,
                      2,
                      2,
                      2,
                      1,
                      3,
                      1,
                      2,
                      6,
                      2,
                      0,
                      7,
                      2,
                      2,
                      3,
                      3,
                      7,
                      0,
                      7,
                      2,
                      2,
                      7,
                      6,
                      1,
                      3,
                      3,
                      3,
                      3,
                      8,
                      6,
                      3,
                      3,
                      3,
                      6,
                      9,
                      1,
                      0,
                      8,
                      8,
                      7,
                      9,
                      3,
                      2,
                      3,
                      8,
                      3,
                      8,
                      0,
                      3,
                      3,
                      7,
                      2,
                      8,
                      7,
                      8,
                      6,
                      1,
                      3,
                      3,
                      1,
                      3,
                      3,
                      0,
                      0,
                      2,
                      8,
                      2,
                      7,
                      7,
                      8,
                      3,
                      9,
                      7,
                      8,
                      6,
                      0,
                      8,
                      6,
                      8,
                      7,
                      1,
                      6,
                      9,
                      7,
                      7,
                      6,
                      1,
                      1,
                      1,
                      1,
                      2,
                      8,
                      2,
                      3,
                      3,
                      3,
                      3,
                      3,
                      1,
                      3,
                      6,
                      8,
                      2,
                      6,
                      6,
                      6,
                      8,
                      0,
                      3,
                      2,
                      8,
                      3,
                      2,
                      2,
                      1,
                      8,
                      7,
                      6,
                      3,
                      8,
                      6,
                      7,
                      8,
                      8,
                      0,
                      8,
                      1,
                      0,
                      1,
                      1,
                      0,
                      7,
                      3,
                      1,
                      7,
                      3,
                      1,
                      2,
                      2,
                      2,
                      1,
                      2,
                      2,
                      2,
                      7,
                      2,
                      2,
                      2,
                      2,
                      2,
                      2,
                      2,
                      2,
                      8,
                      3,
                      2,
                      2,
                      2,
                      2,
                      2,
                      1,
                      1,
                      2,
                      3,
                      2,
                      2,
                      2,
                      2,
                      2,
                      2,
                      1,
                      6,
                      3,
                      7,
                      2,
                      7,
                      1,
                      1,
                      6,
                      2,
                      7,
                      2,
                      8,
                      0,
                      0,
                      9,
                      1,
                      1,
                      1,
                      1,
                      6,
                      2,
                      2,
                      1,
                      2,
                      6,
                      0,
                      2,
                      2,
                      6,
                      8,
                      6,
                      0,
                      8,
                      7,
                      1,
                      1,
                      7,
                      2,
                      7,
                      1,
                      2,
                      9,
                      6,
                      7,
                      3,
                      6,
                      6,
                      1,
                      3,
                      1,
                      6,
                      5,
                      2,
                      1,
                      3,
                      2,
                      2,
                      7,
                      3,
                      6,
                      3,
                      3,
                      6,
                      7,
                      7,
                      8,
                      1,
                      1,
                      6,
                      3,
                      3,
                      6,
                      1,
                      8,
                      2,
                      7,
                      7,
                      6,
                      3,
                      6,
                      1,
                      1,
                      3,
                      6,
                      1,
                      2,
                      1,
                      6,
                      0,
                      1,
                      6,
                      6,
                      1,
                      1,
                      7,
                      2,
                      0,
                      6,
                      6,
                      5,
                      7,
                      1,
                      0,
                      2,
                      2,
                      7,
                      3,
                      2,
                      8,
                      1,
                      8,
                      7,
                      2,
                      7,
                      3,
                      8,
                      3,
                      1,
                      8,
                      0,
                      9,
                      2,
                      8,
                      2,
                      1,
                      2,
                      2,
                      2,
                      1,
                      2,
                      2,
                      1,
                      7,
                      2,
                      8,
                      8,
                      8,
                      2,
                      0,
                      1,
                      3,
                      3,
                      3,
                      0,
                      2,
                      9,
                      1,
                      3,
                      5,
                      9,
                      7,
                      8,
                      6,
                      9,
                      1,
                      7,
                      1,
                      3,
                      2,
                      6,
                      7,
                      2,
                      1,
                      1,
                      2,
                      8,
                      7,
                      7,
                      2,
                      2,
                      6,
                      1,
                      1,
                      7,
                      7,
                      6,
                      1,
                      7,
                      9,
                      2,
                      2,
                      0,
                      2,
                      9,
                      3,
                      8,
                      6,
                      6,
                      0,
                      6,
                      1,
                      8,
                      8,
                      8,
                      8,
                      8,
                      8,
                      7,
                      8,
                      6,
                      0,
                      8,
                      0,
                      6,
                      1,
                      2,
                      6,
                      6,
                      2,
                      1,
                      1,
                      1,
                      2,
                      8,
                      0,
                      9,
                      7,
                      8,
                      8,
                      8,
                      8,
                      6,
                      1,
                      3,
                      9,
                      1,
                      7,
                      9,
                      1,
                      8,
                      6,
                      1,
                      0,
                      9,
                      6,
                      6,
                      1,
                      1,
                      7,
                      6,
                      0,
                      3,
                      3,
                      9,
                      2,
                      8,
                      2,
                      1,
                      8,
                      9,
                      1,
                      0,
                      0,
                      0,
                      0,
                      0,
                      7,
                      3,
                      8,
                      8,
                      8,
                      1,
                      7,
                      1,
                      7,
                      3,
                      7,
                      8,
                      7,
                      6,
                      9,
                      1,
                      1,
                      1,
                      3,
                      1,
                      6,
                      6,
                      6,
                      8,
                      6,
                      3,
                      2,
                      1,
                      3,
                      6,
                      7,
                      1,
                      1,
                      6,
                      6,
                      1,
                      3,
                      2,
                      8,
                      9,
                      0,
                      1,
                      2,
                      0,
                      0,
                      7,
                      1,
                      3,
                      6,
                      2,
                      2,
                      1,
                      5,
                      6,
                      2,
                      2,
                      6,
                      1,
                      0,
                      2,
                      2,
                      1,
                      1,
                      7,
                      6,
                      4,
                      3,
                      7,
                      6,
                      1,
                      8,
                      6,
                      1,
                      1,
                      2,
                      6,
                      2,
                      1,
                      7,
                      1,
                      1,
                      2,
                      6,
                      2,
                      9,
                      6,
                      2,
                      1,
                      7,
                      1,
                      1,
                      2,
                      7,
                      2,
                      1,
                      8,
                      2,
                      6,
                      2,
                      9,
                      3,
                      1,
                      4,
                      7,
                      2,
                      8,
                      7,
                      1,
                      8,
                      6,
                      2,
                      1,
                      6,
                      1,
                      2,
                      3,
                      1,
                      3,
                      3,
                      2,
                      0,
                      1,
                      7,
                      2,
                      2,
                      6,
                      7,
                      1,
                      3,
                      3,
                      0,
                      3,
                      6,
                      6,
                      1,
                      6,
                      6,
                      8,
                      8,
                      1,
                      3,
                      3,
                      3,
                      6,
                      2,
                      2,
                      1,
                      9,
                      7,
                      1,
                      8,
                      3,
                      3,
                      1,
                      7,
                      5,
                      1,
                      6,
                      8,
                      7,
                      9,
                      1,
                      8,
                      8,
                      8,
                      1,
                      2,
                      2,
                      1,
                      1,
                      2,
                      7,
                      1,
                      1,
                      3,
                      1,
                      8,
                      1,
                      2,
                      8,
                      7,
                      3,
                      1,
                      6,
                      1,
                      8,
                      7,
                      6,
                      6,
                      2,
                      1,
                      8,
                      8,
                      8,
                      8,
                      3,
                      3,
                      7,
                      9,
                      7,
                      3,
                      6,
                      7,
                      2,
                      8,
                      1,
                      1,
                      6,
                      6,
                      1,
                      8,
                      1,
                      2,
                      8,
                      6,
                      8,
                      6,
                      9,
                      8,
                      3,
                      3,
                      3,
                      8,
                      3,
                      7,
                      1,
                      3,
                      9,
                      7,
                      7,
                      8,
                      8,
                      7,
                      0,
                      7,
                      1,
                      1,
                      6,
                      1,
                      1,
                      6,
                      8,
                      1,
                      6,
                      0,
                      1,
                      8,
                      2,
                      2,
                      2,
                      7,
                      1,
                      2,
                      1,
                      2,
                      2,
                      8,
                      8,
                      9,
                      1,
                      6,
                      7,
                      8,
                      7,
                      6,
                      6,
                      1,
                      6,
                      1,
                      7,
                      6,
                      6,
                      3,
                      7,
                      1,
                      8,
                      7,
                      8,
                      1,
                      1,
                      1,
                      0,
                      1,
                      6,
                      8,
                      1,
                      7,
                      2,
                      2,
                      1,
                      1,
                      1,
                      1,
                      3,
                      3,
                      9,
                      2,
                      3,
                      2,
                      3,
                      3,
                      3,
                      3,
                      0,
                      0,
                      8,
                      2,
                      3,
                      7,
                      2,
                      3,
                      7,
                      1,
                      7,
                      2,
                      1,
                      1,
                      2,
                      2,
                      3,
                      8,
                      7,
                      9,
                      1,
                      8,
                      8,
                      2,
                      2,
                      2,
                      2,
                      8,
                      1,
                      3,
                      2,
                      1,
                      6,
                      7,
                      2,
                      1,
                      6,
                      0,
                      6,
                      7,
                      1,
                      7,
                      1,
                      2,
                      8,
                      1,
                      1,
                      6,
                      2,
                      2,
                      2,
                      7,
                      6,
                      3,
                      2,
                      1,
                      6,
                      7,
                      8,
                      2,
                      1,
                      1,
                      7,
                      1,
                      1,
                      7,
                      7,
                      1,
                      8,
                      9,
                      5,
                      6,
                      3,
                      7,
                      3,
                      3,
                      3,
                      9,
                      2,
                      7,
                      0,
                      6,
                      2,
                      7,
                      1,
                      3,
                      7,
                      1,
                      0,
                      1,
                      6,
                      1,
                      8,
                      7,
                      8,
                      6,
                      8,
                      7,
                      6,
                      6,
                      1,
                      6,
                      1,
                      1,
                      6,
                      1,
                      1,
                      1,
                      1,
                      1,
                      5,
                      6,
                      8,
                      1,
                      1,
                      3,
                      1,
                      2,
                      1,
                      7,
                      1,
                      1,
                      3,
                      1,
                      3,
                      9,
                      1,
                      1,
                      9,
                      8,
                      8,
                      0,
                      3,
                      8,
                      8,
                      1,
                      3,
                      3,
                      8,
                      1,
                      2,
                      7,
                      6,
                      8,
                      8,
                      9,
                      6,
                      2,
                      3,
                      1,
                      2,
                      2,
                      9,
                      2,
                      0,
                      8,
                      9,
                      7,
                      6,
                      8,
                      7,
                      1,
                      8,
                      8,
                      7,
                      8,
                      0,
                      6,
                      9,
                      8,
                      0,
                      8,
                      7,
                      6,
                      1,
                      2,
                      6,
                      0,
                      8,
                      8,
                      8,
                      2,
                      6,
                      6,
                      1,
                      0,
                      6,
                      6,
                      0,
                      3,
                      8,
                      1,
                      1,
                      6,
                      1,
                      1,
                      7,
                      8,
                      8,
                      8,
                      8,
                      9,
                      8,
                      8,
                      6,
                      6,
                      3,
                      2,
                      3,
                      8,
                      6,
                      1,
                      1,
                      1,
                      1,
                      2,
                      6,
                      7,
                      2,
                      3,
                      2,
                      7,
                      1,
                      6,
                      7,
                      1,
                      1,
                      1,
                      6,
                      1,
                      9,
                      0,
                      1,
                      1,
                      1,
                      8,
                      2,
                      6,
                      7,
                      1,
                      1,
                      8,
                      1,
                      7,
                      0,
                      5,
                      8,
                      7,
                      2,
                      2,
                      1,
                      1,
                      1,
                      7,
                      1,
                      1,
                      7,
                      7,
                      1,
                      6,
                      1,
                      6,
                      7,
                      1,
                      9,
                      7,
                      3,
                      1,
                      8,
                      6,
                      0,
                      1,
                      7,
                      2,
                      9,
                      1,
                      9,
                      7,
                      8,
                      8,
                      0,
                      8,
                      6,
                      1,
                      9,
                      6,
                      1,
                      1,
                      1,
                      8,
                      6,
                      9,
                      1,
                      1,
                      1,
                      1,
                      8,
                      1,
                      1,
                      1,
                      7,
                      1,
                      1,
                      2,
                      1,
                      1,
                      1,
                      1,
                      3,
                      4,
                      3,
                      6,
                      2,
                      2,
                      0,
                      6,
                      1,
                      1,
                      6,
                      3,
                      6,
                      0,
                      6,
                      2,
                      8,
                      1,
                      6,
                      7,
                      3,
                      3,
                      9,
                      9,
                      7,
                      0,
                      7,
                      7,
                      7,
                      0,
                      2,
                      7,
                      7,
                      3,
                      3,
                      7,
                      1,
                      7,
                      1,
                      7,
                      7,
                      3,
                      1,
                      0,
                      6,
                      9,
                      2,
                      3,
                      2,
                      1,
                      8,
                      1,
                      1,
                      1,
                      1,
                      1,
                      1,
                      1,
                      1,
                      7,
                      1,
                      6,
                      2,
                      2,
                      6,
                      9,
                      2,
                      7,
                      7,
                      6,
                      1,
                      2,
                      2,
                      9,
                      3,
                      7,
                      8,
                      6,
                      6,
                      1,
                      2,
                      5,
                      9,
                      0,
                      3,
                      2,
                      7,
                      3,
                      2,
                      8,
                      6,
                      3,
                      7,
                      1,
                      1,
                      2,
                      9,
                      6,
                      7,
                      8,
                      1,
                      6,
                      9,
                      6,
                      7,
                      7,
                      0,
                      7,
                      3,
                      1,
                      1,
                      2,
                      1,
                      2,
                      9,
                      6,
                      2,
                      3,
                      3,
                      2,
                      1,
                      1,
                      6,
                      7,
                      6,
                      8,
                      7,
                      1,
                      8,
                      7,
                      1,
                      0,
                      1,
                      2,
                      1,
                      2,
                      0,
                      3,
                      3,
                      1,
                      1,
                      8,
                      1,
                      7,
                      7,
                      6,
                      1,
                      2,
                      8,
                      2,
                      2,
                      7,
                      2,
                      1,
                      9,
                      8,
                      8,
                      6,
                      8,
                      3,
                      0,
                      6,
                      7,
                      1,
                      8,
                      9,
                      2,
                      8,
                      1,
                      2,
                      7,
                      1,
                      1,
                      6,
                      1,
                      2,
                      1,
                      1,
                      1,
                      2,
                      1,
                      7,
                      6,
                      6,
                      1,
                      7,
                      2,
                      2,
                      3,
                      3,
                      7,
                      3,
                      1,
                      2,
                      6,
                      6,
                      7,
                      1,
                      9,
                      7,
                      1,
                      7,
                      6,
                      8,
                      8,
                      1,
                      9,
                      6,
                      6,
                      1,
                      1,
                      1,
                      7,
                      7,
                      3,
                      2,
                      3,
                      8,
                      0,
                      3,
                      7,
                      2,
                      3,
                      0,
                      1,
                      8,
                      2,
                      7,
                      1,
                      0,
                      7,
                      0,
                      1,
                      1,
                      1,
                      0,
                      8,
                      3,
                      1,
                      2,
                      1,
                      0,
                      1,
                      8,
                      9,
                      0,
                      2,
                      2,
                      2,
                      7,
                      2,
                      8,
                      2,
                      7,
                      2,
                      6,
                      6,
                      8,
                      8,
                      8,
                      3,
                      9,
                      8,
                      1,
                      3,
                      2,
                      2,
                      3,
                      3,
                      3,
                      1,
                      0,
                      2,
                      7,
                      0,
                      0,
                      1,
                      0,
                      8,
                      8,
                      8,
                      9,
                      1,
                      1,
                      1,
                      7,
                      6,
                      2,
                      8,
                      3,
                      0,
                      3,
                      6,
                      1,
                      8,
                      8,
                      0,
                      1,
                      7,
                      8,
                      8,
                      1,
                      7,
                      0,
                      0,
                      1,
                      1,
                      6,
                      3,
                      2,
                      7,
                      8,
                      1,
                      1,
                      7,
                      8,
                      8,
                      7,
                      1,
                      2,
                      6,
                      2,
                      7,
                      1,
                      0,
                      6,
                      2,
                      2,
                      7,
                      8,
                      3,
                      3,
                      3,
                      3,
                      8,
                      0,
                      7,
                      8,
                      8,
                      9,
                      9,
                      6,
                      7,
                      0,
                      1,
                      1,
                      2,
                      2,
                      1,
                      2,
                      1,
                      3,
                      2,
                      8,
                      6,
                      1,
                      2,
                      1,
                      0,
                      6,
                      2,
                      2,
                      2,
                      6,
                      2,
                      2,
                      8,
                      9,
                      0,
                      8,
                      0,
                      8,
                      2,
                      0,
                      7,
                      8,
                      8,
                      0,
                      0,
                      1,
                      1,
                      6,
                      1,
                      8,
                      9,
                      1,
                      7,
                      1,
                      1,
                      1,
                      1,
                      7,
                      1,
                      1,
                      8,
                      1,
                      7,
                      8,
                      2,
                      1,
                      3,
                      1,
                      6,
                      8,
                      3,
                      3,
                      3,
                      8,
                      8,
                      1,
                      2,
                      7,
                      8,
                      2,
                      3,
                      2,
                      6,
                      7,
                      2,
                      6,
                      2,
                      2,
                      2,
                      2,
                      2,
                      2,
                      3,
                      1,
                      6,
                      8,
                      8,
                      0,
                      8,
                      6,
                      6,
                      7,
                      7,
                      1,
                      1,
                      7,
                      7,
                      1,
                      6,
                      6,
                      1,
                      6,
                      7,
                      6,
                      8,
                      0,
                      2,
                      2,
                      1,
                      1,
                      1,
                      1,
                      1,
                      6,
                      2,
                      2,
                      6,
                      9,
                      6,
                      6,
                      9,
                      3,
                      0,
                      7,
                      2,
                      2,
                      3,
                      7,
                      7,
                      9,
                      0,
                      1,
                      1,
                      8,
                      7,
                      3,
                      6,
                      2,
                      7,
                      8,
                      6,
                      1,
                      1,
                      7,
                      0,
                      8,
                      8,
                      7,
                      0,
                      1,
                      7,
                      1,
                      7,
                      7,
                      7,
                      1,
                      2,
                      6,
                      6,
                      1,
                      8,
                      1,
                      0,
                      8,
                      8,
                      9,
                      3,
                      3,
                      0,
                      7,
                      2,
                      6,
                      6,
                      6,
                      1,
                      3,
                      8,
                      8,
                      6,
                      6,
                      8,
                      8,
                      2,
                      2,
                      7,
                      1,
                      1,
                      2,
                      9,
                      6,
                      7,
                      1,
                      6,
                      6,
                      7,
                      1,
                      2,
                      2,
                      2,
                      8,
                      8,
                      2,
                      6,
                      1,
                      1,
                      1,
                      0,
                      3,
                      8,
                      7,
                      7,
                      9,
                      7,
                      9,
                      1,
                      2,
                      2,
                      3,
                      2,
                      1,
                      2,
                      2,
                      2,
                      2,
                      3,
                      2,
                      2,
                      7,
                      2,
                      2,
                      2,
                      2,
                      2,
                      3,
                      2,
                      2,
                      3,
                      1,
                      6,
                      1,
                      6,
                      1,
                      8,
                      6,
                      2,
                      8,
                      3,
                      2,
                      7,
                      2,
                      8,
                      1,
                      6,
                      9,
                      2,
                      9,
                      3,
                      2,
                      1,
                      1,
                      9,
                      9,
                      3,
                      8,
                      7,
                      8,
                      7,
                      6,
                      1,
                      6,
                      2,
                      7,
                      8,
                      1,
                      8,
                      2,
                      3,
                      3,
                      3,
                      9,
                      1,
                      1,
                      7,
                      8,
                      1,
                      2,
                      7,
                      3,
                      3,
                      8,
                      8,
                      8,
                      6,
                      7,
                      1,
                      6,
                      9,
                      1,
                      7,
                      2,
                      2,
                      2,
                      3,
                      3,
                      1,
                      2,
                      3,
                      7,
                      7,
                      7,
                      3,
                      1,
                      0,
                      1,
                      1,
                      2,
                      1
                    ],
                    "coloraxis": "coloraxis",
                    "symbol": "circle"
                  },
                  "mode": "markers",
                  "name": "",
                  "showlegend": false,
                  "type": "scattergl",
                  "x": [
                    45.542232513427734,
                    34.25831985473633,
                    -53.9700927734375,
                    11.896109580993652,
                    -0.15122468769550323,
                    28.7076416015625,
                    -50.098243713378906,
                    -27.276050567626953,
                    51.49037551879883,
                    17.672700881958008,
                    7.114938735961914,
                    39.293636322021484,
                    55.68614959716797,
                    4.435684680938721,
                    -19.712793350219727,
                    -22.96571922302246,
                    42.50053787231445,
                    1.0381568670272827,
                    17.096086502075195,
                    45.23598861694336,
                    2.558232545852661,
                    -25.849756240844727,
                    -33.127357482910156,
                    17.15532684326172,
                    34.73398208618164,
                    -38.55901336669922,
                    -0.30019643902778625,
                    2.6751492023468018,
                    -8.970232009887695,
                    17.217687606811523,
                    -13.094216346740723,
                    -27.702455520629883,
                    -32.33542251586914,
                    -40.10784149169922,
                    28.197729110717773,
                    16.968700408935547,
                    -15.096150398254395,
                    -22.30691909790039,
                    -11.99520492553711,
                    -27.015825271606445,
                    10.018880844116211,
                    -49.96519470214844,
                    47.04201126098633,
                    -18.11102867126465,
                    56.61937713623047,
                    -12.268275260925293,
                    -37.60147476196289,
                    -40.79814910888672,
                    -49.316314697265625,
                    -35.02922821044922,
                    26.972286224365234,
                    53.5366096496582,
                    -40.99195098876953,
                    61.56608581542969,
                    -32.59000778198242,
                    -37.33590316772461,
                    -3.2619078159332275,
                    -12.034374237060547,
                    -7.142115116119385,
                    -3.662226676940918,
                    -51.46725845336914,
                    -7.5525007247924805,
                    -34.85939407348633,
                    -45.54774856567383,
                    -32.83928298950195,
                    -35.99327850341797,
                    -18.49802589416504,
                    -12.38433837890625,
                    -27.410747528076172,
                    32.22126770019531,
                    -1.3219910860061646,
                    -22.77178192138672,
                    12.12735366821289,
                    42.72608947753906,
                    -13.784092903137207,
                    14.799820899963379,
                    32.84238052368164,
                    48.1421012878418,
                    -19.384376525878906,
                    40.85464859008789,
                    1.6715084314346313,
                    -43.793128967285156,
                    35.84174728393555,
                    45.239437103271484,
                    41.51168441772461,
                    35.41520309448242,
                    10.11841106414795,
                    -8.400845527648926,
                    37.919498443603516,
                    32.56718444824219,
                    34.128482818603516,
                    38.785064697265625,
                    29.184101104736328,
                    31.71453857421875,
                    36.00574493408203,
                    -0.2028283178806305,
                    50.08952331542969,
                    -47.44915771484375,
                    44.545345306396484,
                    59.869354248046875,
                    -9.353615760803223,
                    -47.49883270263672,
                    -41.066097259521484,
                    -11.323271751403809,
                    -1.2258402109146118,
                    -3.5582497119903564,
                    -38.75619888305664,
                    -10.600624084472656,
                    17.842655181884766,
                    -48.32564163208008,
                    1.2488785982131958,
                    28.828794479370117,
                    -16.214200973510742,
                    22.04770278930664,
                    48.25312042236328,
                    50.80503463745117,
                    -12.838364601135254,
                    -29.514877319335938,
                    50.30624771118164,
                    36.22859191894531,
                    -5.600216865539551,
                    -51.34421920776367,
                    -15.882305145263672,
                    -53.6893424987793,
                    -35.87254333496094,
                    -30.924320220947266,
                    -39.1529426574707,
                    -35.09086227416992,
                    -43.898433685302734,
                    -8.840868949890137,
                    49.00069046020508,
                    41.30570602416992,
                    -9.738574981689453,
                    -31.21869659423828,
                    -30.803495407104492,
                    36.280670166015625,
                    13.53415584564209,
                    -29.69910430908203,
                    27.159543991088867,
                    14.96994686126709,
                    -35.074867248535156,
                    -31.401559829711914,
                    53.76655960083008,
                    36.358551025390625,
                    -6.9391398429870605,
                    -19.646942138671875,
                    35.32266616821289,
                    -1.3222384452819824,
                    -26.112817764282227,
                    11.565268516540527,
                    45.26145553588867,
                    12.25330924987793,
                    -2.5068423748016357,
                    1.323994517326355,
                    -7.56162166595459,
                    42.48640060424805,
                    -43.34876251220703,
                    2.8809103965759277,
                    -45.11309051513672,
                    52.29344940185547,
                    -14.645954132080078,
                    49.747291564941406,
                    15.877801895141602,
                    39.132110595703125,
                    -16.820709228515625,
                    33.91935348510742,
                    40.92036056518555,
                    -35.06049346923828,
                    -43.75404357910156,
                    44.24778747558594,
                    -39.27762222290039,
                    -46.82539367675781,
                    40.4364013671875,
                    -4.3134870529174805,
                    -10.337356567382812,
                    -11.435606956481934,
                    41.341773986816406,
                    -39.857120513916016,
                    -42.72550964355469,
                    -32.576332092285156,
                    -28.657184600830078,
                    -4.007824897766113,
                    -0.5148105621337891,
                    46.433143615722656,
                    -8.463004112243652,
                    -10.698444366455078,
                    30.83268928527832,
                    50.712501525878906,
                    -49.55788040161133,
                    -55.80524444580078,
                    39.03263473510742,
                    45.57172393798828,
                    39.888057708740234,
                    -16.378019332885742,
                    28.56572914123535,
                    38.79612731933594,
                    13.406134605407715,
                    16.265735626220703,
                    -29.12948989868164,
                    41.52973937988281,
                    22.31399154663086,
                    -19.01114845275879,
                    -41.33732604980469,
                    51.24330520629883,
                    -28.6993408203125,
                    -15.77852725982666,
                    -15.58835220336914,
                    -31.63786506652832,
                    -4.311944007873535,
                    45.04314422607422,
                    13.613566398620605,
                    20.61957359313965,
                    -21.158517837524414,
                    5.3211989402771,
                    53.1392936706543,
                    19.892091751098633,
                    -2.0296409130096436,
                    -12.11531925201416,
                    13.107538223266602,
                    49.03483581542969,
                    -25.114269256591797,
                    46.211692810058594,
                    22.52366828918457,
                    46.197452545166016,
                    57.955482482910156,
                    -8.131999969482422,
                    -34.36203384399414,
                    -33.09403610229492,
                    -25.941904067993164,
                    20.551116943359375,
                    14.86888599395752,
                    12.400439262390137,
                    19.295026779174805,
                    0.03700094297528267,
                    48.29924011230469,
                    -33.077571868896484,
                    8.456720352172852,
                    9.65051555633545,
                    -14.967548370361328,
                    -0.25315719842910767,
                    4.389803409576416,
                    1.0505143404006958,
                    25.942880630493164,
                    35.25279998779297,
                    31.86441421508789,
                    48.672950744628906,
                    27.183185577392578,
                    -33.176673889160156,
                    42.16099548339844,
                    26.267728805541992,
                    0.5461103320121765,
                    37.322025299072266,
                    -22.922687530517578,
                    -6.255092620849609,
                    -24.55995750427246,
                    -15.9942045211792,
                    -3.4783124923706055,
                    -27.57135581970215,
                    -30.723718643188477,
                    -26.837547302246094,
                    -30.043685913085938,
                    0.49552837014198303,
                    -26.246061325073242,
                    -14.436478614807129,
                    1.024936318397522,
                    -9.811240196228027,
                    4.318647384643555,
                    -51.85886764526367,
                    -33.21052169799805,
                    50.43107604980469,
                    21.38450813293457,
                    -0.8572769165039062,
                    -3.5589122772216797,
                    -8.33659839630127,
                    -18.738929748535156,
                    -22.359487533569336,
                    44.782386779785156,
                    29.912092208862305,
                    36.78297805786133,
                    36.904930114746094,
                    -14.502435684204102,
                    23.36116600036621,
                    23.731002807617188,
                    -7.415494441986084,
                    -14.075469970703125,
                    57.25563049316406,
                    -1.469726324081421,
                    52.839996337890625,
                    -25.747844696044922,
                    -11.64417839050293,
                    -11.355509757995605,
                    17.82163429260254,
                    -35.20817947387695,
                    -36.371238708496094,
                    -20.527963638305664,
                    31.256486892700195,
                    12.855762481689453,
                    -16.876012802124023,
                    51.05698776245117,
                    13.850818634033203,
                    -24.202396392822266,
                    37.08272171020508,
                    49.051570892333984,
                    51.255767822265625,
                    32.49882888793945,
                    -2.3501968383789062,
                    -6.644911766052246,
                    -5.724181175231934,
                    2.1003949642181396,
                    -29.94211769104004,
                    -30.447675704956055,
                    -4.686115264892578,
                    -29.746904373168945,
                    -7.363359451293945,
                    14.236482620239258,
                    44.52730178833008,
                    37.639286041259766,
                    35.792686462402344,
                    -2.3102214336395264,
                    0.6065539717674255,
                    -7.222920894622803,
                    -4.137526035308838,
                    -4.253208160400391,
                    -49.08443069458008,
                    -31.747905731201172,
                    -44.6041145324707,
                    -21.76121711730957,
                    1.450728416442871,
                    3.194132089614868,
                    1.7135708332061768,
                    -18.52702522277832,
                    -21.260868072509766,
                    -25.986663818359375,
                    9.021705627441406,
                    55.70005416870117,
                    32.19906997680664,
                    5.0139031410217285,
                    15.364137649536133,
                    -1.9742109775543213,
                    -11.362406730651855,
                    -49.35220718383789,
                    -16.643091201782227,
                    -44.00949478149414,
                    -41.7692756652832,
                    -32.566890716552734,
                    -47.6021728515625,
                    -33.844783782958984,
                    6.904512405395508,
                    14.811139106750488,
                    -5.643746852874756,
                    -37.23970031738281,
                    49.301326751708984,
                    47.12353515625,
                    47.490142822265625,
                    13.105629920959473,
                    35.14975357055664,
                    28.617847442626953,
                    32.697509765625,
                    -5.100282669067383,
                    -23.05145835876465,
                    26.514299392700195,
                    43.592811584472656,
                    41.545711517333984,
                    -30.453842163085938,
                    -24.829374313354492,
                    34.733985900878906,
                    30.003427505493164,
                    -7.530623912811279,
                    -34.66878890991211,
                    -8.70648193359375,
                    6.124872207641602,
                    -22.435457229614258,
                    5.26491641998291,
                    -24.182716369628906,
                    -43.24687576293945,
                    -37.47275924682617,
                    27.168222427368164,
                    56.59750747680664,
                    -24.25183868408203,
                    45.493690490722656,
                    -7.529105186462402,
                    36.79961395263672,
                    44.622459411621094,
                    -7.149881362915039,
                    -10.213024139404297,
                    -5.765519142150879,
                    30.86065101623535,
                    -29.66735076904297,
                    55.388648986816406,
                    -25.404659271240234,
                    -5.6031999588012695,
                    -30.97140121459961,
                    22.809465408325195,
                    -33.99652862548828,
                    40.10273742675781,
                    49.821044921875,
                    -29.3588924407959,
                    52.05729293823242,
                    17.285680770874023,
                    -3.2952520847320557,
                    14.878482818603516,
                    4.009617328643799,
                    -3.401432752609253,
                    -43.73533630371094,
                    14.426312446594238,
                    -10.18569278717041,
                    14.412551879882812,
                    45.0028076171875,
                    41.989437103271484,
                    -19.669387817382812,
                    30.804988861083984,
                    12.176911354064941,
                    -34.9610710144043,
                    33.65875244140625,
                    -8.267496109008789,
                    9.13521671295166,
                    -25.347726821899414,
                    -48.890743255615234,
                    55.30861282348633,
                    0.7412211298942566,
                    -8.998533248901367,
                    -27.584205627441406,
                    -36.02200698852539,
                    -21.735248565673828,
                    -24.570392608642578,
                    -39.416053771972656,
                    -7.420215606689453,
                    -3.962862730026245,
                    40.10850143432617,
                    35.516056060791016,
                    35.37078857421875,
                    -16.6640567779541,
                    16.160114288330078,
                    54.878597259521484,
                    -2.23764705657959,
                    -31.891603469848633,
                    9.956496238708496,
                    -22.45530891418457,
                    51.29633331298828,
                    -29.094146728515625,
                    15.225340843200684,
                    7.649944305419922,
                    -14.225207328796387,
                    39.81144714355469,
                    46.0116081237793,
                    49.42657470703125,
                    -30.941457748413086,
                    48.465450286865234,
                    -25.757156372070312,
                    0.2463865429162979,
                    43.262577056884766,
                    23.016252517700195,
                    45.96476745605469,
                    4.7124857902526855,
                    -41.48503112792969,
                    -9.848946571350098,
                    -10.906625747680664,
                    -22.67292594909668,
                    -38.30349349975586,
                    21.520692825317383,
                    -11.838504791259766,
                    -9.930916786193848,
                    -33.00642395019531,
                    0.9423472285270691,
                    2.7919743061065674,
                    24.410276412963867,
                    -28.275976181030273,
                    -37.4659538269043,
                    49.05983352661133,
                    -41.12600326538086,
                    -43.829376220703125,
                    -5.488455295562744,
                    46.157470703125,
                    -3.893587589263916,
                    -37.126895904541016,
                    -36.730133056640625,
                    49.28396987915039,
                    -5.062367916107178,
                    32.243770599365234,
                    -37.9490966796875,
                    -8.102625846862793,
                    4.384302139282227,
                    -41.036842346191406,
                    16.116718292236328,
                    -11.05234146118164,
                    -35.78295135498047,
                    -7.118646144866943,
                    50.845272064208984,
                    -2.5354530811309814,
                    6.998261451721191,
                    8.812331199645996,
                    36.18611526489258,
                    21.3465633392334,
                    -22.54454231262207,
                    2.796482801437378,
                    -8.662556648254395,
                    12.656789779663086,
                    8.383333206176758,
                    12.712871551513672,
                    -12.563210487365723,
                    -47.54845428466797,
                    41.15579605102539,
                    38.711158752441406,
                    50.503353118896484,
                    -39.38211441040039,
                    46.1954460144043,
                    29.83326530456543,
                    7.312075138092041,
                    27.247095108032227,
                    -44.999393463134766,
                    -29.054853439331055,
                    -30.457658767700195,
                    3.585481882095337,
                    21.35462760925293,
                    -16.6641845703125,
                    52.1617317199707,
                    43.70461654663086,
                    40.22534942626953,
                    2.794459819793701,
                    41.86821365356445,
                    2.8534114360809326,
                    -10.111616134643555,
                    -31.084331512451172,
                    60.459354400634766,
                    -5.84794807434082,
                    -3.3492178916931152,
                    55.943851470947266,
                    32.716209411621094,
                    -19.224939346313477,
                    54.31121063232422,
                    -31.703937530517578,
                    9.11772346496582,
                    6.45534086227417,
                    -32.2180061340332,
                    33.606449127197266,
                    38.42162322998047,
                    -8.615171432495117,
                    7.573895454406738,
                    -17.494138717651367,
                    -32.215972900390625,
                    3.7256338596343994,
                    -16.858901977539062,
                    -28.53434944152832,
                    56.2463493347168,
                    -52.09907150268555,
                    9.821566581726074,
                    -17.47015380859375,
                    -17.344152450561523,
                    -0.633104681968689,
                    -50.3117561340332,
                    -42.92074203491211,
                    49.349342346191406,
                    -16.11809539794922,
                    -15.967394828796387,
                    22.4905948638916,
                    -14.935812950134277,
                    -15.358504295349121,
                    -50.00507354736328,
                    12.348054885864258,
                    -3.9615321159362793,
                    -25.806446075439453,
                    4.755479335784912,
                    27.96698760986328,
                    49.27808380126953,
                    46.70595932006836,
                    48.055545806884766,
                    -11.37997055053711,
                    -24.0323429107666,
                    -8.980416297912598,
                    -26.133142471313477,
                    36.361541748046875,
                    -0.8962200880050659,
                    27.96686553955078,
                    20.969987869262695,
                    3.7801268100738525,
                    4.02954626083374,
                    -31.72324562072754,
                    40.16769027709961,
                    3.723008632659912,
                    -17.169279098510742,
                    39.07677459716797,
                    24.876522064208984,
                    -39.69822311401367,
                    -45.45589065551758,
                    -8.342459678649902,
                    -30.383424758911133,
                    -39.95084762573242,
                    -37.744834899902344,
                    -44.07529830932617,
                    2.7843241691589355,
                    -38.961822509765625,
                    10.151936531066895,
                    -42.2308464050293,
                    29.137805938720703,
                    -42.95643997192383,
                    -30.69373893737793,
                    7.175642490386963,
                    29.348037719726562,
                    11.941920280456543,
                    -34.64361572265625,
                    -15.367191314697266,
                    48.87276077270508,
                    -2.950263261795044,
                    -20.148094177246094,
                    43.27742004394531,
                    -26.012996673583984,
                    -10.828207969665527,
                    20.226295471191406,
                    0.4962223470211029,
                    -30.928829193115234,
                    56.51631164550781,
                    11.246150016784668,
                    -33.21366882324219,
                    -2.293522596359253,
                    -31.149778366088867,
                    -14.020173072814941,
                    -4.740220546722412,
                    32.07520294189453,
                    -2.5554189682006836,
                    -19.045804977416992,
                    22.438884735107422,
                    61.329734802246094,
                    -29.357046127319336,
                    -10.417600631713867,
                    3.0700411796569824,
                    51.42879867553711,
                    35.531646728515625,
                    -1.1644963026046753,
                    13.732276916503906,
                    -31.132034301757812,
                    59.12507247924805,
                    7.0188889503479,
                    21.00146484375,
                    7.369940757751465,
                    -39.26121520996094,
                    -11.578282356262207,
                    19.708290100097656,
                    -4.125354290008545,
                    33.56442642211914,
                    -23.138784408569336,
                    -1.9650789499282837,
                    -8.476274490356445,
                    -24.127216339111328,
                    7.041069507598877,
                    11.465780258178711,
                    53.3392333984375,
                    2.8829095363616943,
                    1.7155768871307373,
                    5.38954496383667,
                    -13.943943977355957,
                    -2.5017037391662598,
                    -9.696329116821289,
                    -31.80690574645996,
                    55.593162536621094,
                    -11.641508102416992,
                    5.898235321044922,
                    -14.784774780273438,
                    33.207759857177734,
                    -8.608539581298828,
                    -15.438587188720703,
                    -29.914785385131836,
                    1.5286822319030762,
                    -14.16796588897705,
                    -19.834396362304688,
                    41.49414825439453,
                    1.6715580224990845,
                    37.608524322509766,
                    38.51007843017578,
                    43.98896408081055,
                    35.69816207885742,
                    36.83259201049805,
                    50.78071975708008,
                    35.68474578857422,
                    38.426143646240234,
                    46.727169036865234,
                    45.98334503173828,
                    44.943809509277344,
                    50.52164840698242,
                    5.654994010925293,
                    39.154640197753906,
                    42.06317138671875,
                    40.93068313598633,
                    36.261322021484375,
                    49.72006607055664,
                    32.36250686645508,
                    49.82826614379883,
                    24.092945098876953,
                    38.34113311767578,
                    38.675636291503906,
                    27.77403450012207,
                    19.36342430114746,
                    14.716763496398926,
                    2.1414635181427,
                    -27.90412139892578,
                    -34.10295486450195,
                    -43.240333557128906,
                    25.648454666137695,
                    44.27442932128906,
                    -17.044675827026367,
                    -15.179901123046875,
                    -22.08534812927246,
                    48.625370025634766,
                    -9.705544471740723,
                    -7.599515914916992,
                    -27.672225952148438,
                    -24.25183868408203,
                    2.4950177669525146,
                    -48.91093063354492,
                    -8.724045753479004,
                    -20.77562713623047,
                    -8.119494438171387,
                    33.38360595703125,
                    -13.688288688659668,
                    34.902523040771484,
                    23.030616760253906,
                    -41.27170944213867,
                    -27.882600784301758,
                    34.896358489990234,
                    41.84245300292969,
                    46.611053466796875,
                    -43.05550003051758,
                    3.889625310897827,
                    7.869688510894775,
                    26.902311325073242,
                    22.134876251220703,
                    11.199739456176758,
                    41.29636001586914,
                    21.74933624267578,
                    7.841834545135498,
                    8.267073631286621,
                    -5.63035774230957,
                    -32.3671760559082,
                    -32.83585739135742,
                    -29.121841430664062,
                    -8.369104385375977,
                    -2.4429714679718018,
                    -25.626110076904297,
                    -19.858489990234375,
                    -40.38344955444336,
                    8.055562973022461,
                    1.210687279701233,
                    -40.948829650878906,
                    7.316686153411865,
                    -44.51666259765625,
                    -8.45743465423584,
                    -48.72079849243164,
                    -42.236976623535156,
                    -14.021702766418457,
                    11.95242977142334,
                    3.869612216949463,
                    -31.214277267456055,
                    -41.69129943847656,
                    27.75990104675293,
                    30.53273582458496,
                    48.0673942565918,
                    -35.54359817504883,
                    14.444344520568848,
                    -33.419681549072266,
                    -30.579208374023438,
                    -35.74406814575195,
                    -37.279083251953125,
                    -18.02092742919922,
                    2.5015347003936768,
                    -32.22116470336914,
                    -31.194744110107422,
                    -31.40567970275879,
                    -35.38410186767578,
                    -37.39646911621094,
                    53.80605697631836,
                    52.806549072265625,
                    -34.612449645996094,
                    -35.43292999267578,
                    28.32415008544922,
                    14.553133964538574,
                    -31.523298263549805,
                    -32.617801666259766,
                    -35.41411209106445,
                    -2.7875444889068604,
                    -51.481224060058594,
                    10.201667785644531,
                    40.46100997924805,
                    42.55070495605469,
                    24.844907760620117,
                    4.793938159942627,
                    46.6202507019043,
                    46.695274353027344,
                    -36.556129455566406,
                    53.867366790771484,
                    30.161418914794922,
                    -50.1818733215332,
                    -13.814495086669922,
                    -6.184053897857666,
                    -33.56785202026367,
                    -38.14723205566406,
                    -46.578895568847656,
                    0.8656704425811768,
                    39.953887939453125,
                    41.15271759033203,
                    -26.394519805908203,
                    -25.3553466796875,
                    -10.39880657196045,
                    -9.953052520751953,
                    -51.35053253173828,
                    21.449113845825195,
                    -39.80208969116211,
                    -43.46113967895508,
                    13.653962135314941,
                    -24.23451805114746,
                    -5.702136993408203,
                    -24.2349910736084,
                    -9.953052520751953,
                    -7.079665184020996,
                    -21.34077262878418,
                    12.629152297973633,
                    -7.127429485321045,
                    -34.59053421020508,
                    -17.289291381835938,
                    42.74732208251953,
                    -12.36406421661377,
                    34.919532775878906,
                    40.12377166748047,
                    -10.809295654296875,
                    36.021629333496094,
                    -12.806217193603516,
                    34.44371795654297,
                    -20.46528434753418,
                    -33.18593215942383,
                    -29.56100845336914,
                    29.197961807250977,
                    35.97947692871094,
                    -8.132597923278809,
                    -34.89674377441406,
                    -27.220558166503906,
                    -5.303536891937256,
                    -34.673667907714844,
                    -12.36910343170166,
                    -27.163616180419922,
                    -4.850266933441162,
                    -33.8492317199707,
                    -11.275830268859863,
                    37.0211296081543,
                    2.2125983238220215,
                    35.834251403808594,
                    7.74967622756958,
                    45.2629280090332,
                    7.181204319000244,
                    -11.593771934509277,
                    1.915508508682251,
                    -11.70465087890625,
                    -45.931663513183594,
                    16.853918075561523,
                    -21.7309513092041,
                    29.581445693969727,
                    21.927074432373047,
                    -32.34966278076172,
                    32.94917297363281,
                    -18.05748176574707,
                    30.54161834716797,
                    -50.511226654052734,
                    31.263315200805664,
                    42.05792999267578,
                    40.37531661987305,
                    -26.26409149169922,
                    33.948204040527344,
                    -27.267887115478516,
                    -16.978361129760742,
                    -27.188024520874023,
                    -18.299840927124023,
                    49.97502899169922,
                    -15.168705940246582,
                    -24.82146453857422,
                    -32.77560806274414,
                    30.48224449157715,
                    37.69743347167969,
                    16.582860946655273,
                    -1.6916520595550537,
                    -0.7378538846969604,
                    -11.377293586730957,
                    27.955669403076172,
                    -28.705488204956055,
                    27.461801528930664,
                    29.838594436645508,
                    41.342037200927734,
                    -22.9068546295166,
                    3.725328207015991,
                    -11.420870780944824,
                    -15.958362579345703,
                    -31.231185913085938,
                    -16.8295955657959,
                    -15.852534294128418,
                    31.451717376708984,
                    -10.292600631713867,
                    -31.152027130126953,
                    14.198083877563477,
                    33.896907806396484,
                    -43.57583999633789,
                    -35.017234802246094,
                    45.908241271972656,
                    -31.471210479736328,
                    -24.15827751159668,
                    22.721223831176758,
                    -18.668367385864258,
                    -31.97330665588379,
                    -35.57294464111328,
                    27.71270751953125,
                    -18.38951301574707,
                    -16.705801010131836,
                    53.84346008300781,
                    34.87743377685547,
                    -24.57685089111328,
                    7.504597187042236,
                    -36.97343063354492,
                    39.61030960083008,
                    -48.20658874511719,
                    45.19258117675781,
                    -2.4429714679718018,
                    45.70138931274414,
                    50.81475830078125,
                    -19.63115119934082,
                    -19.290590286254883,
                    49.24778366088867,
                    -52.047279357910156,
                    40.42348861694336,
                    -33.05366897583008,
                    27.286638259887695,
                    52.21129608154297,
                    34.644596099853516,
                    55.272735595703125,
                    -34.20390319824219,
                    17.965673446655273,
                    34.88930130004883,
                    -21.817691802978516,
                    37.06510925292969,
                    -31.002397537231445,
                    -30.615764617919922,
                    -25.627779006958008,
                    40.34701156616211,
                    9.192312240600586,
                    10.591341972351074,
                    -31.57682228088379,
                    9.89861011505127,
                    -3.274651288986206,
                    -34.18849182128906,
                    55.379249572753906,
                    -31.377300262451172,
                    -36.80092239379883,
                    -5.117774486541748,
                    -30.83441162109375,
                    -18.201093673706055,
                    42.60005187988281,
                    6.094571590423584,
                    -14.300690650939941,
                    -9.53480339050293,
                    6.010207653045654,
                    -9.897591590881348,
                    -16.7407283782959,
                    -1.4183330535888672,
                    -38.408451080322266,
                    48.0294303894043,
                    -32.612545013427734,
                    43.55095672607422,
                    32.79814910888672,
                    31.922395706176758,
                    -0.8186491131782532,
                    -27.780582427978516,
                    -42.65233612060547,
                    10.538775444030762,
                    51.66222381591797,
                    46.89588928222656,
                    26.841854095458984,
                    -20.24277687072754,
                    38.311458587646484,
                    -15.072905540466309,
                    41.305728912353516,
                    -7.08835506439209,
                    11.120035171508789,
                    -19.361343383789062,
                    -1.322340726852417,
                    -34.041343688964844,
                    -11.271402359008789,
                    9.597603797912598,
                    45.29661178588867,
                    47.295963287353516,
                    -11.983078956604004,
                    -24.221094131469727,
                    -22.257612228393555,
                    52.91387176513672,
                    -12.441646575927734,
                    37.49509811401367,
                    -4.170443058013916,
                    37.54743576049805,
                    23.5257625579834,
                    -39.71483612060547,
                    29.390567779541016,
                    -11.07650375366211,
                    30.8178768157959,
                    -53.23946762084961,
                    -12.007468223571777,
                    -11.920782089233398,
                    -21.715547561645508,
                    -4.698236465454102,
                    -0.13983787596225739,
                    41.68499755859375,
                    36.09076690673828,
                    40.2968635559082,
                    26.835174560546875,
                    -17.59871482849121,
                    42.45512008666992,
                    7.824216365814209,
                    -34.52442169189453,
                    -27.563138961791992,
                    -30.06266975402832,
                    -3.1942036151885986,
                    12.975846290588379,
                    -45.09693908691406,
                    12.353606224060059,
                    -26.287368774414062,
                    34.164459228515625,
                    -4.612626552581787,
                    -36.1015739440918,
                    -44.1179313659668,
                    -10.343160629272461,
                    -27.253767013549805,
                    26.83905792236328,
                    33.51329803466797,
                    -39.56730270385742,
                    19.91109275817871,
                    -12.283473014831543,
                    -45.387367248535156,
                    -44.1843147277832,
                    -20.529361724853516,
                    37.87483596801758,
                    -22.715633392333984,
                    -13.21921157836914,
                    -23.530933380126953,
                    -25.52510643005371,
                    -27.805042266845703,
                    -7.99868631362915,
                    -44.49653625488281,
                    -44.436832427978516,
                    -25.10808563232422,
                    60.99045181274414,
                    26.095151901245117,
                    -18.259525299072266,
                    -36.43220901489258,
                    -43.70746994018555,
                    -47.85947799682617,
                    -24.42334747314453,
                    5.526899337768555,
                    -42.59945297241211,
                    -51.868873596191406,
                    -36.51120376586914,
                    -33.12479782104492,
                    -10.22878360748291,
                    43.72237777709961,
                    11.607884407043457,
                    45.84532165527344,
                    11.347943305969238,
                    26.527570724487305,
                    -6.006741046905518,
                    -8.959039688110352,
                    20.91912841796875,
                    29.353662490844727,
                    -47.8869743347168,
                    36.902381896972656,
                    12.195959091186523,
                    -48.81419372558594,
                    -8.013937950134277,
                    -13.867406845092773,
                    11.145313262939453,
                    33.30587387084961,
                    18.137065887451172,
                    33.015506744384766,
                    -21.26891326904297,
                    34.18199157714844,
                    36.22067642211914,
                    -49.538150787353516,
                    52.19407653808594,
                    -39.90055465698242,
                    -27.22513771057129,
                    43.66816329956055,
                    15.104371070861816,
                    13.005404472351074,
                    36.09927749633789,
                    51.64129638671875,
                    12.495622634887695,
                    42.57246017456055,
                    52.44731903076172,
                    -19.436067581176758,
                    -30.691728591918945,
                    26.470476150512695,
                    -25.11073875427246,
                    -10.492501258850098,
                    26.049562454223633,
                    2.6708500385284424,
                    -8.412951469421387,
                    11.442774772644043,
                    -16.685392379760742,
                    36.82548141479492,
                    51.254615783691406,
                    -1.1706887483596802,
                    39.07647705078125,
                    -19.899744033813477,
                    -7.15804386138916,
                    30.507680892944336,
                    -55.397457122802734,
                    -9.99341869354248,
                    -0.467517226934433,
                    45.924720764160156,
                    40.41600799560547,
                    -9.993268013000488,
                    35.93194580078125,
                    -23.744585037231445,
                    -15.320698738098145,
                    32.6367301940918,
                    31.82468032836914,
                    31.985971450805664,
                    -26.6118106842041,
                    -38.165931701660156,
                    -21.906360626220703,
                    -14.887114524841309,
                    47.383888244628906,
                    45.004085540771484,
                    -25.92397117614746,
                    31.529863357543945,
                    -32.70107650756836,
                    55.66503143310547,
                    52.938411712646484,
                    14.29638671875,
                    12.523883819580078,
                    32.2386360168457,
                    51.982913970947266,
                    -28.25960922241211,
                    7.146908760070801,
                    53.69936752319336,
                    23.792390823364258,
                    52.17597961425781,
                    -18.61605453491211,
                    -2.65484356880188,
                    15.143651962280273,
                    1.585918664932251,
                    -13.431105613708496,
                    6.714150428771973,
                    -39.33036804199219,
                    -0.8285614848136902,
                    54.31021499633789,
                    25.432043075561523,
                    48.7705078125,
                    -9.020877838134766,
                    0.8871232867240906,
                    -21.586109161376953,
                    5.290460109710693,
                    -26.044336318969727,
                    -21.512252807617188,
                    6.404306411743164,
                    5.151379585266113,
                    13.179201126098633,
                    32.7830810546875,
                    54.23999786376953,
                    -42.544883728027344,
                    30.8645076751709,
                    -9.455899238586426,
                    4.2054619789123535,
                    -26.010391235351562,
                    22.239110946655273,
                    22.084152221679688,
                    -27.071060180664062,
                    48.742496490478516,
                    46.370296478271484,
                    43.96171951293945,
                    -6.498766899108887,
                    43.03351593017578,
                    2.5999302864074707,
                    -34.10091781616211,
                    10.89829158782959,
                    16.513757705688477,
                    -0.7298705577850342,
                    14.922061920166016,
                    43.08805847167969,
                    36.5662727355957,
                    5.626104831695557,
                    -25.95235824584961,
                    -19.047517776489258,
                    -33.5509033203125,
                    -18.347156524658203,
                    42.86515808105469,
                    0.3293631672859192,
                    22.59696388244629,
                    -37.81464385986328,
                    32.1899528503418,
                    -20.778291702270508,
                    -36.054718017578125,
                    -16.479875564575195,
                    -12.012229919433594,
                    -18.188583374023438,
                    -9.016935348510742,
                    -18.119915008544922,
                    37.1958122253418,
                    -26.833139419555664,
                    -39.772586822509766,
                    -21.18085479736328,
                    37.195865631103516,
                    -19.23884391784668,
                    -34.300758361816406,
                    36.485416412353516,
                    33.907073974609375,
                    -20.909774780273438,
                    -7.213052272796631,
                    -24.100961685180664,
                    37.511085510253906,
                    -55.4412841796875,
                    -38.62040328979492,
                    -21.368877410888672,
                    -27.878726959228516,
                    -35.124427795410156,
                    13.357125282287598,
                    0.5090402364730835,
                    -1.3044307231903076,
                    55.49551010131836,
                    24.140403747558594,
                    35.34489822387695,
                    13.233203887939453,
                    -44.75579071044922,
                    -29.221933364868164,
                    -23.913427352905273,
                    -32.032936096191406,
                    -25.441173553466797,
                    -34.620643615722656,
                    -32.985225677490234,
                    -37.93804168701172,
                    -44.24606704711914,
                    -38.70977020263672,
                    -32.342464447021484,
                    48.5175895690918,
                    -17.58952522277832,
                    -10.2106351852417,
                    -10.38720989227295,
                    42.48483657836914,
                    24.839365005493164,
                    -2.442943572998047,
                    36.3292236328125,
                    45.4458122253418,
                    -8.301247596740723,
                    -44.138526916503906,
                    -20.732715606689453,
                    -13.980426788330078,
                    -32.565155029296875,
                    31.19281005859375,
                    33.45791244506836,
                    -10.120952606201172,
                    -19.696285247802734,
                    -27.252853393554688,
                    40.752906799316406,
                    51.963172912597656,
                    0.64816814661026,
                    33.003204345703125,
                    -15.56445598602295,
                    -13.295047760009766,
                    38.25043487548828,
                    40.51369094848633,
                    -25.580148696899414,
                    -1.462627649307251,
                    12.17436695098877,
                    32.41144561767578,
                    -29.976646423339844,
                    -30.305206298828125,
                    39.62901306152344,
                    -30.714950561523438,
                    42.14322280883789,
                    -21.614038467407227,
                    40.37527847290039,
                    -18.64970588684082,
                    32.64219284057617,
                    18.684757232666016,
                    -23.38593292236328,
                    -11.00342845916748,
                    -25.966964721679688,
                    -9.143089294433594,
                    35.00519943237305,
                    -27.037918090820312,
                    -43.68402099609375,
                    47.63549041748047,
                    0.8311160802841187,
                    11.31490421295166,
                    23.36116600036621,
                    -25.898191452026367,
                    -11.611080169677734,
                    -40.415531158447266,
                    -36.861854553222656,
                    -35.24686813354492,
                    -34.235660552978516,
                    -43.549617767333984,
                    29.364877700805664,
                    -1.3168586492538452,
                    -25.717933654785156,
                    7.520808219909668,
                    -15.505014419555664,
                    52.506553649902344,
                    -11.385815620422363,
                    -16.70278549194336,
                    32.856937408447266,
                    3.3608217239379883,
                    24.74933624267578,
                    0.2723376750946045,
                    0.803078830242157,
                    8.00929069519043,
                    4.598123073577881,
                    -9.52939510345459,
                    -28.8358211517334,
                    -34.57050323486328,
                    -26.955108642578125,
                    60.016605377197266,
                    -35.6999397277832,
                    40.00373077392578,
                    -32.31128692626953,
                    -12.986364364624023,
                    -29.820846557617188,
                    -44.131229400634766,
                    -45.494895935058594,
                    -45.786869049072266,
                    34.55668640136719,
                    -3.530585765838623,
                    10.366646766662598,
                    31.4361515045166,
                    17.34817886352539,
                    14.005011558532715,
                    42.03535842895508,
                    32.248477935791016,
                    6.56824254989624,
                    57.54257583618164,
                    -10.396011352539062,
                    42.03535461425781,
                    35.50768280029297,
                    -46.718955993652344,
                    32.757808685302734,
                    55.36667251586914,
                    -41.43529510498047,
                    -25.712549209594727,
                    -36.58173751831055,
                    45.124610900878906,
                    -29.550661087036133,
                    -30.03643798828125,
                    57.734596252441406,
                    58.78386306762695,
                    28.56231689453125,
                    -20.242677688598633,
                    -0.42001476883888245,
                    42.23176193237305,
                    19.74519157409668,
                    48.75756072998047,
                    49.44148254394531,
                    17.656408309936523,
                    44.063819885253906,
                    42.167015075683594,
                    14.600996017456055,
                    7.548924922943115,
                    51.33573913574219,
                    -26.066593170166016,
                    13.994452476501465,
                    26.38308334350586,
                    -22.641542434692383,
                    -5.979019641876221,
                    -12.272635459899902,
                    -10.120952606201172,
                    -12.68612289428711,
                    45.469696044921875,
                    10.702366828918457,
                    34.524559020996094,
                    -12.663806915283203,
                    -43.444114685058594,
                    -36.603919982910156,
                    21.245637893676758,
                    -29.714502334594727,
                    -23.185728073120117,
                    -23.470399856567383,
                    -20.176570892333984,
                    -36.66762161254883,
                    -23.16895866394043,
                    -20.176362991333008,
                    -11.551518440246582,
                    -27.403430938720703,
                    -16.111433029174805,
                    -13.817377090454102,
                    -12.848665237426758,
                    -35.723487854003906,
                    28.598190307617188,
                    -51.086883544921875,
                    9.46308422088623,
                    3.342475652694702,
                    1.5747406482696533,
                    43.165016174316406,
                    34.942806243896484,
                    11.04799747467041,
                    5.5611138343811035,
                    -48.096702575683594,
                    -17.58614158630371,
                    35.49930191040039,
                    -32.65599060058594,
                    -27.429611206054688,
                    -11.154258728027344,
                    10.097542762756348,
                    57.910919189453125,
                    21.201805114746094,
                    21.672372817993164,
                    18.15618133544922,
                    -28.883310317993164,
                    -55.606292724609375,
                    -27.804838180541992,
                    -29.92245864868164,
                    35.198604583740234,
                    39.96790313720703,
                    44.164634704589844,
                    44.464447021484375,
                    38.34376907348633,
                    47.50374221801758,
                    27.064027786254883,
                    0.044371843338012695,
                    13.65107536315918,
                    -6.594601154327393,
                    -0.23035243153572083,
                    -0.6273558139801025,
                    -1.2172030210494995,
                    9.040531158447266,
                    -44.037986755371094,
                    -15.30379581451416,
                    2.672390937805176,
                    -52.30244827270508,
                    38.524044036865234,
                    -20.714017868041992,
                    -31.448749542236328,
                    -31.47620391845703,
                    -4.860437870025635,
                    11.370016098022461,
                    61.33021545410156,
                    40.789878845214844,
                    42.272518157958984,
                    49.39851379394531,
                    49.154327392578125,
                    -20.30430793762207,
                    -1.1644963026046753,
                    17.821584701538086,
                    -20.873361587524414,
                    -20.018831253051758,
                    13.27309513092041,
                    -9.450407981872559,
                    -28.546817779541016,
                    29.963581085205078,
                    -4.681730270385742,
                    11.521082878112793,
                    1.287428617477417,
                    9.458247184753418,
                    -29.24138832092285,
                    -27.87019920349121,
                    -7.159294128417969,
                    -40.9560661315918,
                    60.30313491821289,
                    4.7999491691589355,
                    43.47511672973633,
                    12.060250282287598,
                    57.91110610961914,
                    43.5057373046875,
                    44.60342788696289,
                    -22.15668296813965,
                    11.459916114807129,
                    49.17935562133789,
                    -26.882789611816406,
                    50.378997802734375,
                    -49.34913635253906,
                    -12.595938682556152,
                    -7.80039644241333,
                    -9.69030475616455,
                    -14.035622596740723,
                    15.77038860321045,
                    11.232829093933105,
                    -41.1630859375,
                    2.650918483734131,
                    -22.88399314880371,
                    -28.660953521728516,
                    -40.45960235595703,
                    55.81414031982422,
                    -34.56153106689453,
                    -39.71402359008789,
                    -31.207550048828125,
                    -43.29457473754883,
                    -0.9596121311187744,
                    -36.068267822265625,
                    -16.93359375,
                    -50.07143783569336,
                    -40.98450469970703,
                    -46.86147689819336,
                    -9.56892204284668,
                    39.1972770690918,
                    -32.85042953491211,
                    -9.441081047058105,
                    -2.502497911453247,
                    -23.13378143310547,
                    2.1165149211883545,
                    -7.352265357971191,
                    -37.5904426574707,
                    -8.491371154785156,
                    46.96283721923828,
                    -0.6784361004829407,
                    0.665307879447937,
                    -38.54054641723633,
                    -54.30924606323242,
                    -20.012327194213867,
                    -2.4905295372009277,
                    -4.484248161315918,
                    -11.4338960647583,
                    -48.476261138916016,
                    -39.63147735595703,
                    -7.368079662322998,
                    -21.047056198120117,
                    48.1218376159668,
                    28.842607498168945,
                    0.26624664664268494,
                    10.46641731262207,
                    55.99827575683594,
                    28.883623123168945,
                    -41.28605270385742,
                    -26.378522872924805,
                    18.4967041015625,
                    13.95916748046875,
                    -32.61806869506836,
                    42.925682067871094,
                    23.791431427001953,
                    7.863013744354248,
                    23.63878631591797,
                    16.30831527709961,
                    33.592369079589844,
                    4.7232232093811035,
                    2.6132752895355225,
                    -22.095600128173828,
                    -1.815638542175293,
                    11.864103317260742,
                    15.08471965789795,
                    -2.740931272506714,
                    -47.03984832763672,
                    14.427139282226562,
                    -10.928277015686035,
                    -0.6613671183586121,
                    3.225552558898926,
                    -0.6276771426200867,
                    -10.554461479187012,
                    61.33030319213867,
                    6.964780807495117,
                    54.888057708740234,
                    47.97029495239258,
                    32.86228942871094,
                    45.27602005004883,
                    30.123647689819336,
                    46.191246032714844,
                    7.250359535217285,
                    0.22235696017742157,
                    40.249603271484375,
                    4.889336585998535,
                    -23.731271743774414,
                    37.37319564819336,
                    36.905521392822266,
                    31.057537078857422,
                    35.63228225708008,
                    -30.388647079467773,
                    -18.333019256591797,
                    48.02901840209961,
                    49.91722106933594,
                    35.07119369506836,
                    1.671502947807312,
                    12.550933837890625,
                    -32.389652252197266,
                    42.6710090637207,
                    -3.145843029022217,
                    -3.145843029022217,
                    45.12082290649414,
                    -14.277194023132324,
                    22.426372528076172,
                    16.24932098388672,
                    45.53712844848633,
                    -31.635770797729492,
                    36.76306915283203,
                    -5.629480838775635,
                    -11.885743141174316,
                    38.72728729248047,
                    38.51277160644531,
                    43.289737701416016,
                    -15.48416519165039,
                    -38.16531753540039,
                    41.08070755004883,
                    -19.247676849365234,
                    0.3062268793582916,
                    -23.13377571105957,
                    35.82734680175781,
                    37.73445129394531,
                    -23.13377571105957,
                    37.75240707397461,
                    48.13351058959961,
                    29.516712188720703,
                    -20.88327407836914,
                    36.6033821105957,
                    -21.125049591064453,
                    25.059038162231445,
                    51.80860900878906,
                    56.581382751464844,
                    -27.790414810180664,
                    42.226539611816406,
                    11.886622428894043,
                    34.449337005615234,
                    -40.41838836669922,
                    -55.51285934448242,
                    29.116491317749023,
                    -44.310791015625,
                    -51.16265869140625,
                    -47.451072692871094,
                    45.28567123413086,
                    -30.0274658203125,
                    -10.391596794128418,
                    -12.811566352844238,
                    55.2119026184082,
                    48.90867233276367,
                    -9.808463096618652,
                    -40.14454650878906,
                    -15.135289192199707,
                    -15.094442367553711,
                    -32.63319778442383,
                    12.633170127868652,
                    -42.72138595581055,
                    16.201465606689453,
                    31.833467483520508,
                    37.58516311645508,
                    46.3664665222168,
                    41.19590377807617,
                    29.660444259643555,
                    5.719882488250732,
                    42.22616958618164,
                    -52.43803405761719,
                    -47.21877670288086,
                    18.939313888549805,
                    -5.526854038238525,
                    -48.75973892211914,
                    -48.759639739990234,
                    -40.18558883666992,
                    44.11017990112305,
                    42.226051330566406,
                    12.19921588897705,
                    -32.22626495361328,
                    31.21642303466797,
                    20.162639617919922,
                    16.99021339416504,
                    -30.980438232421875,
                    -44.94053268432617,
                    48.541770935058594,
                    -26.309324264526367,
                    52.2574577331543,
                    -23.415233612060547,
                    -11.583495140075684,
                    27.196231842041016,
                    -45.40592575073242,
                    5.554500579833984,
                    33.51506042480469,
                    -30.42867660522461,
                    -27.313377380371094,
                    -20.413501739501953,
                    -41.18168258666992,
                    -6.151534557342529,
                    -22.9129695892334,
                    54.609493255615234,
                    42.24592208862305,
                    -28.44051170349121,
                    54.82255172729492,
                    37.538421630859375,
                    -17.758586883544922,
                    21.42179298400879,
                    24.57684898376465,
                    5.053205490112305,
                    -35.18396759033203,
                    21.497295379638672,
                    3.6895720958709717,
                    16.424942016601562,
                    57.71121597290039,
                    15.430973052978516,
                    21.806529998779297,
                    21.36464500427246,
                    22.076927185058594,
                    16.371131896972656,
                    20.179502487182617,
                    22.659250259399414,
                    24.70221519470215,
                    -26.242080688476562,
                    30.426965713500977,
                    12.555915832519531,
                    16.036869049072266,
                    21.804574966430664,
                    -0.4306195080280304,
                    12.822880744934082,
                    -49.89046096801758,
                    -30.10421371459961,
                    21.01316261291504,
                    23.245973587036133,
                    11.436637878417969,
                    14.528507232666016,
                    21.239931106567383,
                    -3.310023069381714,
                    16.465246200561523,
                    14.992656707763672,
                    -14.873470306396484,
                    -20.458311080932617,
                    54.69722366333008,
                    55.68089294433594,
                    13.987242698669434,
                    56.582862854003906,
                    -22.03200340270996,
                    -28.576990127563477,
                    -20.458311080932617,
                    8.250685691833496,
                    55.58921432495117,
                    3.301696300506592,
                    -29.40370750427246,
                    -16.29473304748535,
                    -21.267223358154297,
                    27.140493392944336,
                    -27.23349952697754,
                    -45.32136917114258,
                    -43.74543762207031,
                    -45.645538330078125,
                    -28.385841369628906,
                    50.99641799926758,
                    51.977481842041016,
                    -34.650508880615234,
                    19.09153175354004,
                    -33.48499298095703,
                    -20.150466918945312,
                    11.096320152282715,
                    12.66708755493164,
                    -9.405865669250488,
                    -44.84489059448242,
                    -6.6822919845581055,
                    -7.070562362670898,
                    9.20781421661377,
                    43.356300354003906,
                    -48.33445739746094,
                    -6.572120189666748,
                    52.16481399536133,
                    16.365833282470703,
                    51.9747314453125,
                    -36.160316467285156,
                    6.092008590698242,
                    19.51175308227539,
                    -14.196691513061523,
                    53.70177459716797,
                    30.709407806396484,
                    -17.218080520629883,
                    -17.384023666381836,
                    -28.968904495239258,
                    35.52682876586914,
                    -25.60059356689453,
                    13.357126235961914,
                    0.39701521396636963,
                    8.099709510803223,
                    -22.7681941986084,
                    40.69601058959961,
                    37.30491256713867,
                    11.185569763183594,
                    52.794952392578125,
                    27.819625854492188,
                    -17.541322708129883,
                    49.783294677734375,
                    48.91710662841797,
                    -4.624941349029541,
                    41.424522399902344,
                    50.271766662597656,
                    -24.750736236572266,
                    -24.462759017944336,
                    -48.362266540527344,
                    -32.51708221435547,
                    50.56126403808594,
                    31.07180404663086,
                    4.5731520652771,
                    -40.95766067504883,
                    -39.85430908203125,
                    25.873708724975586,
                    46.38850021362305,
                    56.103271484375,
                    -4.890748023986816,
                    40.51693344116211,
                    -6.841786861419678,
                    -41.44175338745117,
                    -39.82229232788086,
                    45.208499908447266,
                    -0.9751828908920288,
                    8.471921920776367,
                    23.396774291992188,
                    -35.324710845947266,
                    -28.913787841796875,
                    -22.24397850036621,
                    -21.08010482788086,
                    -3.723051071166992,
                    -6.229855060577393,
                    -40.13445281982422,
                    -37.964481353759766,
                    47.65109634399414,
                    -0.5269373655319214,
                    -12.835257530212402,
                    -7.0673909187316895,
                    3.153780221939087,
                    2.711299180984497,
                    60.997676849365234,
                    -43.48354721069336,
                    32.56337356567383,
                    33.56456756591797,
                    22.62258529663086,
                    46.709110260009766,
                    47.251285552978516,
                    50.62074279785156,
                    2.1275315284729004,
                    -27.722328186035156,
                    -41.196311950683594,
                    53.53805923461914,
                    23.422170639038086,
                    54.37715148925781,
                    41.60337829589844,
                    12.5992431640625,
                    37.27144241333008,
                    -7.749173641204834,
                    -27.787349700927734,
                    -9.6787109375,
                    21.331457138061523,
                    11.37382698059082,
                    -13.998974800109863,
                    27.667564392089844,
                    -10.391619682312012,
                    16.535409927368164,
                    1.9841742515563965,
                    17.293941497802734,
                    -10.926937103271484,
                    16.785123825073242,
                    -7.422089576721191,
                    -1.7033952474594116,
                    56.49494552612305,
                    -2.6938443183898926,
                    -37.92837142944336,
                    -16.72163963317871,
                    -0.30877962708473206,
                    6.566913604736328,
                    -15.324409484863281,
                    -41.945709228515625,
                    31.667346954345703,
                    23.47502899169922,
                    20.601701736450195,
                    26.9437313079834,
                    6.109775543212891,
                    35.52003479003906,
                    -35.716102600097656,
                    34.44991683959961,
                    -1.1644963026046753,
                    -23.584444046020508,
                    36.437313079833984,
                    -20.645156860351562,
                    -12.180643081665039,
                    -8.558002471923828,
                    -29.520891189575195,
                    47.171661376953125,
                    -15.344770431518555,
                    51.4913444519043,
                    4.63468074798584,
                    -5.728928089141846,
                    54.11287307739258,
                    -2.444017171859741,
                    -2.8181095123291016,
                    -19.848482131958008,
                    -0.9613603353500366,
                    -49.781349182128906,
                    39.6370849609375,
                    43.671142578125,
                    17.89495277404785,
                    7.90913724899292,
                    4.268178462982178,
                    -15.85282039642334,
                    -34.317283630371094,
                    45.482913970947266,
                    37.847557067871094,
                    -12.532371520996094,
                    -9.410758018493652,
                    32.595088958740234,
                    -8.283504486083984,
                    3.58227801322937,
                    25.216503143310547,
                    27.86801528930664,
                    -0.8535847067832947,
                    16.05727767944336,
                    39.06270217895508,
                    -22.619531631469727,
                    7.119056701660156,
                    -29.4478816986084,
                    -23.44037628173828,
                    -6.103915691375732,
                    -14.096954345703125,
                    -6.181748390197754,
                    -40.219425201416016,
                    5.5704216957092285,
                    -42.45662307739258,
                    -38.352108001708984,
                    -16.252830505371094,
                    32.91987991333008,
                    -41.83038330078125,
                    -33.325927734375,
                    31.6231689453125,
                    -42.40323257446289,
                    -24.255922317504883,
                    -34.34141540527344,
                    -6.721912384033203,
                    1.946631908416748,
                    -31.88593101501465,
                    4.3521809577941895,
                    7.326884746551514,
                    -31.06479835510254,
                    -32.509830474853516,
                    -7.097135543823242,
                    5.005356311798096,
                    -32.80779266357422,
                    27.54917335510254,
                    -5.100614547729492,
                    37.484161376953125,
                    -26.063232421875,
                    -7.52921199798584,
                    -41.18008804321289,
                    -36.247657775878906,
                    -42.55005645751953,
                    -14.37096118927002,
                    48.106422424316406,
                    -19.088226318359375,
                    -46.41455078125,
                    51.72314453125,
                    -5.113961696624756,
                    -41.95516586303711,
                    -51.86885452270508,
                    -11.59007453918457,
                    -5.448752403259277,
                    -9.823769569396973,
                    11.575088500976562,
                    -14.687649726867676,
                    -30.724897384643555,
                    -48.15154266357422,
                    -37.90971755981445,
                    42.3162841796875,
                    -10.284337997436523,
                    -18.450729370117188,
                    45.01915740966797,
                    50.80478286743164,
                    19.511749267578125,
                    9.895489692687988,
                    -36.927494049072266,
                    9.510391235351562,
                    -52.15974807739258,
                    -3.0384578704833984,
                    23.791757583618164,
                    -5.680373191833496,
                    -19.492252349853516,
                    -2.9942803382873535,
                    -22.361270904541016,
                    33.4278450012207,
                    -11.568812370300293,
                    35.810916900634766,
                    39.062564849853516,
                    -30.700382232666016,
                    -53.33927536010742,
                    -38.2696647644043,
                    -32.81106185913086,
                    54.562049865722656,
                    -49.33699417114258,
                    39.75248718261719,
                    48.735469818115234,
                    58.448856353759766,
                    -16.75279998779297,
                    46.1011848449707,
                    -6.655104160308838,
                    8.520930290222168,
                    -12.641498565673828,
                    -41.89314651489258,
                    -19.415103912353516,
                    33.87863540649414,
                    -43.04126739501953,
                    -0.9537040591239929,
                    0.7534509897232056,
                    10.182901382446289,
                    -38.52869415283203,
                    -47.6153450012207,
                    37.229515075683594,
                    18.297592163085938,
                    -49.23942184448242,
                    47.48978042602539,
                    -14.088281631469727,
                    54.2906494140625,
                    -46.67611312866211,
                    -42.509246826171875,
                    -8.079282760620117,
                    -12.042613983154297,
                    -40.044437408447266,
                    42.71815490722656,
                    50.00002670288086,
                    -48.4419059753418,
                    11.772972106933594,
                    -19.528114318847656,
                    -45.823612213134766,
                    11.422932624816895,
                    -30.12708282470703,
                    -30.127038955688477,
                    38.572872161865234,
                    -21.976613998413086,
                    32.316009521484375,
                    -9.295133590698242,
                    24.142871856689453,
                    2.796482801437378,
                    -37.71324920654297,
                    -0.08555209636688232,
                    3.6709954738616943,
                    35.170127868652344,
                    9.12939739227295,
                    5.184181213378906,
                    -26.131179809570312,
                    -13.752031326293945,
                    24.931385040283203,
                    12.260794639587402,
                    -30.600955963134766,
                    -18.86148452758789,
                    53.40782165527344,
                    -28.25951385498047,
                    34.758846282958984,
                    48.26732635498047,
                    46.2286376953125,
                    -4.860437393188477,
                    -36.619903564453125,
                    -14.099127769470215,
                    4.659636974334717,
                    -37.27177047729492,
                    -10.198430061340332,
                    47.30325698852539,
                    -28.917112350463867,
                    33.72104263305664,
                    -5.878875255584717,
                    55.61895751953125,
                    -13.58953857421875,
                    -19.773723602294922,
                    3.417592763900757,
                    -31.18914794921875,
                    -2.682304620742798,
                    16.153106689453125,
                    -16.479890823364258,
                    0.08886538445949554,
                    -32.46049118041992,
                    51.41301345825195,
                    -7.009406089782715,
                    -31.57471466064453,
                    8.663750648498535,
                    54.16160202026367,
                    -1.773474097251892,
                    -26.064756393432617,
                    -14.226421356201172,
                    9.618145942687988,
                    -1.27678382396698,
                    5.663763046264648,
                    12.074677467346191,
                    23.12787437438965,
                    -17.686397552490234,
                    35.1986083984375,
                    50.98357391357422,
                    19.060569763183594,
                    -19.74428367614746,
                    55.66740417480469,
                    9.347200393676758,
                    -50.11249923706055,
                    6.797636985778809,
                    -3.0823891162872314,
                    -48.4785041809082,
                    -1.0293527841567993,
                    -8.152761459350586,
                    -0.4557318687438965,
                    49.24962615966797,
                    -31.775177001953125,
                    49.32426834106445,
                    45.734771728515625,
                    49.38457489013672,
                    -13.711658477783203,
                    -32.840755462646484,
                    33.40556716918945,
                    24.258310317993164,
                    47.78053283691406,
                    0.5063872337341309,
                    53.64804458618164,
                    -34.60383987426758,
                    32.120872497558594,
                    0.5266854763031006,
                    -15.179924964904785,
                    40.51748275756836,
                    -0.013780057430267334,
                    -2.4236226081848145,
                    -28.58934211730957,
                    0.310291051864624,
                    -6.510817527770996,
                    -32.84357833862305,
                    -21.493392944335938,
                    -44.13820266723633,
                    15.195894241333008,
                    44.02790069580078,
                    44.4128532409668,
                    -48.71148681640625,
                    58.476226806640625,
                    58.47714614868164,
                    -47.21311950683594,
                    16.30855941772461,
                    30.441465377807617,
                    -32.7169303894043,
                    -29.861663818359375,
                    31.721813201904297,
                    30.86647605895996,
                    -11.002304077148438,
                    52.835628509521484,
                    2.193169593811035,
                    -9.569429397583008,
                    -2.4058997631073,
                    -43.80735397338867,
                    40.51033020019531,
                    20.948688507080078,
                    -33.82445526123047,
                    -46.13800811767578,
                    -36.81540298461914,
                    -46.09748077392578,
                    -48.66292953491211,
                    -2.8746776580810547,
                    7.516463279724121,
                    -23.09798812866211,
                    -37.96773910522461,
                    6.671170234680176,
                    50.19246292114258,
                    -40.511802673339844,
                    -33.72093963623047,
                    30.89204978942871,
                    -33.56088638305664,
                    -8.490242004394531,
                    -34.07509994506836,
                    8.660429000854492,
                    -2.691549062728882,
                    52.35739517211914,
                    44.31049346923828,
                    -38.90029525756836,
                    -48.178714752197266,
                    -42.27408981323242,
                    -51.5670166015625,
                    42.7706184387207,
                    13.307621955871582,
                    -10.202455520629883,
                    57.46896743774414,
                    -11.135165214538574,
                    -29.988523483276367,
                    -35.875370025634766,
                    -28.8537540435791,
                    -33.73876190185547,
                    46.826656341552734,
                    45.26206970214844,
                    45.94804382324219,
                    15.15720272064209,
                    52.14841842651367,
                    35.9467658996582,
                    -3.0109081268310547,
                    42.65268325805664,
                    17.161115646362305,
                    -49.07322692871094,
                    -32.19186782836914,
                    -30.22203254699707,
                    -5.735488414764404,
                    -48.36027145385742,
                    -8.44965934753418,
                    -40.3884391784668,
                    -8.869817733764648,
                    12.976716995239258,
                    -3.8447155952453613,
                    -10.313446998596191,
                    -35.35562515258789,
                    3.523347854614258,
                    16.8869571685791,
                    -2.448129892349243,
                    54.24209976196289,
                    38.9745979309082,
                    33.34288024902344,
                    -7.363359451293945,
                    48.41453552246094,
                    53.71879196166992,
                    -36.56574249267578,
                    30.607324600219727,
                    -2.685605764389038,
                    48.724456787109375,
                    48.373870849609375,
                    -43.91268539428711,
                    -43.912715911865234,
                    48.289878845214844,
                    -13.393770217895508,
                    46.29994583129883,
                    -21.104869842529297,
                    -7.514328956604004,
                    6.467864990234375,
                    -44.27048110961914,
                    -5.91700553894043,
                    -2.322972059249878,
                    -9.460649490356445,
                    -15.57392692565918,
                    -7.653067588806152,
                    -20.280179977416992,
                    -31.019371032714844,
                    -49.828514099121094,
                    26.839040756225586,
                    -3.894076347351074,
                    -1.5556234121322632,
                    46.81681823730469,
                    -21.043621063232422,
                    -20.971744537353516,
                    -32.54636764526367,
                    46.57032775878906,
                    9.904390335083008,
                    -33.096046447753906,
                    -22.493587493896484,
                    -11.193882942199707,
                    -29.697004318237305,
                    -9.12302303314209,
                    53.42512893676758,
                    -34.77515411376953,
                    44.970394134521484,
                    5.259940147399902,
                    -0.4576480984687805,
                    -40.90738296508789,
                    -10.904114723205566,
                    -50.30903244018555,
                    45.12051010131836,
                    -18.873577117919922,
                    -54.81854248046875,
                    33.90007781982422,
                    53.96651840209961,
                    -27.5198974609375,
                    -34.6585693359375,
                    51.043155670166016,
                    -48.89217758178711,
                    -4.384580135345459,
                    -26.288557052612305,
                    -43.67173385620117,
                    -21.530635833740234,
                    -46.382041931152344,
                    -25.634891510009766,
                    -32.60186767578125,
                    -45.408390045166016,
                    42.087039947509766,
                    0.5017653107643127,
                    19.823291778564453,
                    -28.726417541503906,
                    -17.355289459228516,
                    -10.921168327331543,
                    -12.1876802444458,
                    38.51494598388672,
                    35.88090896606445,
                    31.18252944946289,
                    4.704258918762207,
                    37.64350891113281,
                    -2.758392333984375,
                    5.7458953857421875,
                    41.010833740234375,
                    36.41889190673828,
                    26.447450637817383,
                    -21.57573127746582,
                    -11.779775619506836,
                    -34.92891311645508,
                    54.793312072753906,
                    36.09493637084961,
                    58.7373161315918,
                    8.366600036621094,
                    49.08559036254883,
                    43.466163635253906,
                    -27.183385848999023,
                    52.359745025634766,
                    21.00433921813965,
                    -46.502498626708984,
                    -15.03661060333252,
                    11.116289138793945,
                    20.727453231811523,
                    43.579769134521484,
                    -26.500146865844727,
                    54.461036682128906,
                    12.254383087158203,
                    -19.592531204223633,
                    -54.68157958984375,
                    -29.014039993286133,
                    19.232009887695312,
                    9.697134971618652,
                    16.859342575073242,
                    4.687828540802002,
                    -33.60984420776367,
                    -46.93523406982422,
                    34.74342346191406,
                    -0.7713726758956909,
                    -30.08325958251953,
                    -35.60123825073242,
                    39.980796813964844,
                    -4.046222686767578,
                    -34.844547271728516,
                    -28.833595275878906,
                    30.927383422851562,
                    -20.489086151123047,
                    50.87795639038086,
                    -18.918903350830078,
                    46.88482666015625,
                    -32.34189987182617,
                    48.08907699584961,
                    -37.8764762878418,
                    -48.89892578125,
                    -16.191497802734375,
                    -34.10871124267578,
                    13.257535934448242,
                    8.641315460205078,
                    21.479114532470703,
                    52.046630859375,
                    1.347765326499939,
                    45.46952438354492,
                    2.0930392742156982,
                    -26.420602798461914,
                    -4.809654712677002,
                    27.740720748901367,
                    9.20925521850586,
                    57.93278503417969,
                    -9.667393684387207,
                    -11.399641990661621,
                    47.05465316772461,
                    -19.101194381713867,
                    -18.92546272277832,
                    46.493648529052734,
                    43.60061264038086,
                    -24.57203483581543,
                    -48.354183197021484,
                    28.453109741210938,
                    0.09884995967149734,
                    -54.015380859375,
                    50.365631103515625,
                    53.87385559082031,
                    44.379234313964844,
                    44.525943756103516,
                    44.278316497802734,
                    31.979597091674805,
                    10.552580833435059,
                    53.873626708984375,
                    -18.24664878845215,
                    -27.4831600189209,
                    3.7046079635620117,
                    51.910675048828125,
                    -30.939966201782227,
                    43.31464767456055,
                    58.53566360473633,
                    -44.06612014770508,
                    26.150447845458984,
                    -44.97393798828125,
                    3.954144239425659,
                    -44.68478012084961,
                    -43.860565185546875,
                    60.993896484375,
                    -48.762245178222656,
                    -7.870211124420166,
                    2.7090463638305664,
                    38.65524673461914,
                    -41.17743682861328,
                    -2.576317071914673,
                    -30.06566619873047,
                    -9.623534202575684,
                    -8.457433700561523,
                    -49.11173629760742,
                    -31.01425552368164,
                    -31.63988494873047,
                    -41.98754119873047,
                    -48.329627990722656,
                    -5.299591541290283,
                    -47.89175796508789,
                    -55.925846099853516,
                    -4.628237724304199,
                    3.7577054500579834,
                    -32.28050231933594,
                    -33.74307632446289,
                    35.281063079833984,
                    -13.711767196655273,
                    -4.975680351257324,
                    -34.6185302734375,
                    51.849430084228516,
                    -17.228946685791016,
                    -38.319786071777344,
                    38.63930130004883,
                    -24.415014266967773,
                    49.06820297241211,
                    -4.68649959564209,
                    -26.15810775756836,
                    -26.213712692260742,
                    -1.2807643413543701,
                    -42.97307205200195,
                    -36.70464324951172,
                    -0.9069482684135437,
                    29.81145477294922,
                    -36.61428451538086,
                    -30.943397521972656,
                    -38.621524810791016,
                    29.0845890045166,
                    42.03523254394531,
                    -42.49430847167969,
                    -44.686004638671875,
                    8.603527069091797,
                    33.315670013427734,
                    -14.965065956115723,
                    -33.14255142211914,
                    -16.805625915527344,
                    29.830181121826172,
                    3.5695111751556396,
                    7.899431228637695,
                    36.971534729003906,
                    -6.616552352905273,
                    10.709498405456543,
                    -2.427927017211914,
                    18.689943313598633,
                    -2.5074334144592285,
                    28.15113639831543,
                    1.2409192323684692,
                    28.572355270385742,
                    39.079200744628906,
                    -13.4148588180542,
                    -6.623937606811523,
                    35.384925842285156,
                    -13.431838989257812,
                    -3.762261152267456,
                    -53.33943557739258,
                    33.602108001708984,
                    27.34175682067871,
                    -18.802631378173828,
                    -0.3176417350769043,
                    -1.1847188472747803,
                    -20.937389373779297,
                    -19.99959373474121,
                    -20.91937255859375,
                    53.88126754760742,
                    -1.7616407871246338,
                    -31.988006591796875,
                    32.662078857421875,
                    6.252051830291748,
                    26.984439849853516,
                    -21.612552642822266,
                    -28.94868278503418,
                    -2.0720314979553223,
                    5.307103633880615,
                    -14.4193754196167,
                    -27.71726417541504,
                    -24.21738624572754,
                    -19.03713035583496,
                    4.349668025970459,
                    3.6706042289733887,
                    -12.444040298461914,
                    31.97986602783203,
                    -17.568721771240234,
                    -31.921052932739258,
                    -16.631793975830078,
                    -6.611440181732178,
                    10.735825538635254,
                    -1.461904525756836,
                    42.93264389038086,
                    -16.37715721130371,
                    -34.85960388183594,
                    -35.53257369995117,
                    -13.873639106750488,
                    -17.399269104003906,
                    -51.869022369384766,
                    -35.994346618652344,
                    -28.9171199798584,
                    -28.91710662841797,
                    44.50783920288086,
                    29.438840866088867,
                    46.50004196166992,
                    -24.84591293334961,
                    -3.5446267127990723,
                    -51.2243537902832,
                    -41.95948028564453,
                    -33.19269561767578,
                    -17.62887191772461,
                    6.964790344238281,
                    -5.043369293212891,
                    48.99321365356445,
                    25.432233810424805,
                    41.72007751464844,
                    18.07642936706543,
                    43.83395767211914,
                    -10.916029930114746,
                    -30.068050384521484,
                    57.80436706542969,
                    -50.517765045166016,
                    -50.744529724121094,
                    -49.92647933959961,
                    -4.672502517700195,
                    -36.95851516723633,
                    25.569597244262695,
                    33.727359771728516,
                    -46.11177062988281,
                    -45.67293167114258,
                    -29.51486587524414,
                    -40.282875061035156,
                    25.986831665039062,
                    -8.337495803833008,
                    58.70261001586914,
                    -45.24706268310547,
                    -22.256078720092773,
                    -24.44733238220215,
                    -1.7033411264419556,
                    33.95749282836914,
                    -11.951044082641602,
                    -0.31187108159065247,
                    -1.4298207759857178,
                    43.13176727294922,
                    15.005598068237305,
                    13.428187370300293,
                    -41.092803955078125,
                    -44.00388717651367,
                    -42.56145095825195,
                    58.585147857666016,
                    -37.67710494995117,
                    -47.52180862426758,
                    43.83383560180664,
                    46.88511276245117,
                    -40.54184341430664,
                    -29.07549285888672,
                    -43.46708679199219,
                    3.108290910720825,
                    53.12693786621094,
                    -32.19528579711914,
                    3.8406691551208496,
                    32.6535758972168,
                    44.625606536865234,
                    -32.189186096191406,
                    -25.770706176757812,
                    -26.635976791381836,
                    -22.194496154785156,
                    -27.293081283569336,
                    36.85371780395508,
                    -5.367685794830322,
                    -10.060949325561523,
                    -47.34706115722656,
                    21.954883575439453,
                    53.09849548339844,
                    -34.07561492919922,
                    -53.83342742919922,
                    33.863887786865234,
                    -8.018282890319824,
                    12.816995620727539,
                    -35.62386703491211,
                    -28.457984924316406,
                    -23.1689395904541,
                    -35.72886276245117,
                    -29.326528549194336,
                    -37.906158447265625,
                    -13.873639106750488,
                    -20.24298667907715,
                    11.125126838684082,
                    -30.954029083251953,
                    -40.22275161743164,
                    -48.3295783996582,
                    -42.1315803527832,
                    -32.18684768676758,
                    -38.704315185546875,
                    -34.068260192871094,
                    -20.428335189819336,
                    42.67280960083008,
                    -41.87451934814453,
                    -36.77075958251953,
                    50.70968246459961,
                    -6.614027976989746,
                    -9.099334716796875,
                    -8.717529296875,
                    -17.751750946044922,
                    45.530433654785156,
                    34.91965866088867,
                    34.7434196472168,
                    -27.538022994995117,
                    11.980043411254883,
                    14.146282196044922,
                    27.519420623779297,
                    1.9348889589309692,
                    -43.01634216308594,
                    -14.027887344360352,
                    3.435858964920044,
                    34.02500534057617,
                    11.176912307739258,
                    -14.887136459350586,
                    -30.969383239746094,
                    24.31192970275879,
                    -40.660301208496094,
                    -38.094398498535156,
                    1.3572742938995361,
                    51.61344528198242,
                    48.34444808959961,
                    49.986961364746094,
                    21.636398315429688,
                    12.00046443939209,
                    37.4339599609375,
                    29.312639236450195,
                    37.88774108886719,
                    53.07766342163086,
                    48.652915954589844,
                    -7.070562839508057,
                    10.232029914855957,
                    55.01268768310547,
                    44.252113342285156,
                    44.189205169677734,
                    44.235328674316406,
                    39.01048278808594,
                    -23.665769577026367,
                    38.966712951660156,
                    -29.20905303955078,
                    44.25333786010742,
                    52.99998474121094,
                    41.815303802490234,
                    -29.940000534057617,
                    31.579299926757812,
                    -16.608104705810547,
                    -20.28137969970703,
                    1.9595632553100586,
                    46.82814407348633,
                    24.486520767211914,
                    -50.68220520019531,
                    -35.38842010498047,
                    -18.50444793701172,
                    -48.01677322387695,
                    -21.76772689819336,
                    -52.0127067565918,
                    -26.650283813476562,
                    -23.071399688720703,
                    -25.09926414489746,
                    -21.626108169555664,
                    55.84181213378906,
                    -22.391355514526367,
                    -8.151482582092285,
                    -3.197253465652466,
                    11.05893611907959,
                    -16.836496353149414,
                    16.13674545288086,
                    5.853442192077637,
                    56.372745513916016,
                    43.402435302734375,
                    -1.2102895975112915,
                    -51.41366195678711,
                    -7.227686882019043,
                    58.07704162597656,
                    -14.702653884887695,
                    35.74203872680664,
                    52.0240364074707,
                    -8.073076248168945,
                    -34.99985122680664,
                    -54.2017707824707,
                    -43.33064651489258,
                    4.1678314208984375,
                    5.512274742126465,
                    23.6149845123291,
                    29.87563133239746,
                    32.50014877319336,
                    8.586448669433594,
                    37.56649398803711,
                    37.11049270629883,
                    13.822399139404297,
                    -35.25471496582031,
                    -15.009821891784668,
                    23.86063003540039,
                    46.166378021240234,
                    -33.76008605957031,
                    -34.06179428100586,
                    -3.913097858428955,
                    28.073774337768555,
                    -26.686586380004883,
                    51.87779998779297,
                    -42.62554931640625,
                    -46.24881362915039,
                    -0.33816516399383545,
                    27.801225662231445,
                    3.0690970420837402,
                    51.45575714111328,
                    39.61029815673828,
                    -18.071008682250977,
                    47.0428352355957,
                    43.25360870361328,
                    -17.653852462768555,
                    -11.017584800720215,
                    8.225539207458496,
                    -17.75401496887207,
                    -0.6284863948822021,
                    12.883384704589844,
                    -2.4112229347229004,
                    11.334916114807129,
                    41.00383377075195,
                    34.64961242675781,
                    -5.084903240203857,
                    -35.124210357666016,
                    -20.656448364257812,
                    -6.514341831207275,
                    59.294864654541016,
                    -0.10055724531412125,
                    -8.848992347717285,
                    44.73097610473633,
                    -6.70656156539917,
                    -27.263145446777344,
                    46.316688537597656,
                    -35.81035232543945,
                    34.94390106201172,
                    -6.265797138214111,
                    -6.217607021331787,
                    -24.552278518676758,
                    -4.786090850830078,
                    -11.451173782348633,
                    35.832847595214844,
                    26.793155670166016,
                    -28.35755729675293,
                    -39.19073486328125,
                    -14.226455688476562,
                    -50.31190490722656,
                    48.61109924316406,
                    45.03799057006836,
                    -11.859626770019531,
                    -28.491390228271484,
                    23.35501480102539,
                    -16.69363021850586,
                    6.029786109924316,
                    41.513065338134766,
                    35.698387145996094,
                    5.23643684387207,
                    -29.871532440185547,
                    28.2705135345459,
                    -47.74037170410156,
                    -39.24043655395508,
                    14.434626579284668,
                    -37.98454666137695,
                    26.49544334411621,
                    -15.542019844055176,
                    -51.87849807739258,
                    46.75384521484375,
                    -36.693912506103516,
                    30.834409713745117,
                    -22.541528701782227,
                    -6.974090576171875,
                    -30.9128475189209,
                    -5.409261703491211,
                    15.908714294433594,
                    47.41387939453125,
                    -32.57402801513672,
                    -42.841468811035156,
                    -9.315728187561035,
                    -47.29449462890625,
                    6.461559772491455,
                    -14.35346508026123,
                    -37.795082092285156,
                    -16.683412551879883,
                    1.207233190536499,
                    -33.90388488769531,
                    61.33004379272461,
                    -12.754210472106934,
                    3.7307825088500977,
                    -14.61909008026123,
                    55.99416732788086,
                    17.28374671936035,
                    -3.971419095993042,
                    26.682785034179688,
                    27.87981605529785,
                    39.276336669921875,
                    32.49586868286133,
                    -41.933349609375,
                    27.342370986938477,
                    -27.434803009033203,
                    -33.523399353027344,
                    56.66201400756836,
                    -5.361640453338623,
                    13.296538352966309,
                    56.54937744140625,
                    -48.1482048034668,
                    56.23924255371094,
                    0.5339339375495911,
                    -13.526628494262695,
                    -11.40247631072998,
                    -33.73122024536133,
                    11.446277618408203,
                    -30.707691192626953,
                    -4.650167465209961,
                    -31.087955474853516,
                    -14.302166938781738,
                    -32.93195343017578,
                    56.54686737060547,
                    45.53675842285156,
                    25.149118423461914,
                    15.113014221191406,
                    40.2548942565918,
                    -7.71295166015625,
                    -22.914953231811523,
                    45.790653228759766,
                    58.75613784790039,
                    26.022689819335938,
                    50.025081634521484,
                    -26.028411865234375,
                    -44.999393463134766,
                    -22.999929428100586,
                    13.916391372680664,
                    36.071929931640625,
                    -29.858734130859375,
                    -14.72999382019043,
                    34.30668258666992,
                    -21.838485717773438,
                    -47.907806396484375,
                    -40.06376266479492,
                    -39.191497802734375,
                    27.54949188232422,
                    -13.72247314453125,
                    45.155643463134766,
                    -32.965457916259766,
                    1.419525146484375,
                    -33.367366790771484,
                    -12.594297409057617,
                    10.665642738342285,
                    -32.552833557128906,
                    -11.558782577514648,
                    -13.045966148376465,
                    20.320541381835938,
                    22.180667877197266,
                    20.282569885253906,
                    54.462947845458984,
                    12.450197219848633,
                    -35.15365982055664,
                    14.585208892822266,
                    50.002471923828125,
                    8.048996925354004,
                    1.7791932821273804,
                    -49.89830017089844,
                    -2.027963638305664,
                    -2.06845760345459,
                    -11.97728443145752,
                    26.74407958984375,
                    3.0488121509552,
                    -33.19517517089844,
                    -23.13377571105957,
                    38.58673095703125,
                    17.722274780273438,
                    0.7966152429580688,
                    48.858924865722656,
                    30.644296646118164,
                    40.749183654785156,
                    -31.300827026367188,
                    -2.890592098236084,
                    -1.3694785833358765,
                    60.304866790771484,
                    -28.975605010986328,
                    -13.913565635681152,
                    -10.185124397277832,
                    -16.051387786865234,
                    -35.979068756103516,
                    -31.341554641723633,
                    -44.479896545410156,
                    12.32659912109375,
                    -20.14099884033203,
                    -8.199654579162598,
                    -16.488527297973633,
                    45.22431564331055,
                    -12.745438575744629,
                    0.21757009625434875,
                    -29.08445167541504,
                    51.50485610961914,
                    30.475000381469727,
                    48.428009033203125,
                    -2.696230411529541,
                    -34.154563903808594,
                    -26.739030838012695,
                    -6.006741046905518,
                    28.24673080444336,
                    -41.96812438964844,
                    52.46213912963867,
                    -48.818199157714844,
                    -37.576698303222656,
                    -52.1636962890625,
                    45.65082550048828,
                    -23.41988182067871,
                    30.072511672973633,
                    -13.232521057128906,
                    -28.928544998168945,
                    -10.938063621520996,
                    29.599470138549805,
                    19.96574592590332,
                    42.212406158447266,
                    -4.862242221832275,
                    -42.60173416137695,
                    -52.1636848449707,
                    40.81570816040039,
                    -1.4112355709075928,
                    -5.047915935516357,
                    41.785823822021484,
                    -23.88108253479004,
                    7.898272514343262,
                    -54.20189666748047,
                    3.645282506942749,
                    34.1937370300293,
                    -27.08067512512207,
                    32.69066619873047,
                    -1.8518568277359009,
                    13.543561935424805,
                    14.589179992675781,
                    45.43510437011719,
                    -29.10323715209961,
                    46.482994079589844,
                    48.37674331665039,
                    28.53045082092285,
                    45.67898178100586,
                    -29.031511306762695,
                    -23.508956909179688,
                    40.41722869873047,
                    -29.221261978149414,
                    -3.9386725425720215,
                    28.9830265045166,
                    33.14691925048828,
                    -0.3441775143146515,
                    54.88642883300781,
                    26.528491973876953,
                    -33.93601989746094,
                    -25.9117488861084,
                    19.287363052368164,
                    18.708885192871094,
                    -21.647869110107422,
                    11.097509384155273,
                    -7.226304054260254,
                    37.89638900756836,
                    5.822866439819336,
                    7.339710712432861,
                    6.3409318923950195,
                    -5.136997699737549,
                    7.8494768142700195,
                    -46.32030487060547,
                    26.972240447998047,
                    -26.472902297973633,
                    9.654476165771484,
                    -1.897379755973816,
                    8.194978713989258,
                    -20.005258560180664,
                    10.476932525634766,
                    14.646495819091797,
                    -32.00447463989258,
                    22.613882064819336,
                    32.4148063659668,
                    -20.77658462524414,
                    28.179332733154297,
                    -27.092702865600586,
                    14.746149063110352,
                    28.61331558227539,
                    31.592031478881836,
                    -24.845932006835938,
                    31.555522918701172,
                    -21.77257537841797,
                    -9.417519569396973,
                    -28.35533905029297,
                    -34.51014709472656,
                    -3.890925407409668,
                    -29.861230850219727,
                    -36.24994659423828,
                    29.86196517944336,
                    -31.10588836669922,
                    48.85134506225586,
                    -49.216270446777344,
                    -30.754243850708008,
                    -11.925883293151855,
                    -40.48662567138672,
                    54.309268951416016,
                    -46.21061706542969,
                    -33.089847564697266,
                    -17.88668441772461,
                    -18.636369705200195,
                    59.465084075927734,
                    -18.302165985107422,
                    10.822713851928711,
                    -22.43703842163086,
                    37.89622497558594,
                    -22.209749221801758,
                    -17.63416862487793,
                    -41.286964416503906,
                    32.59333801269531,
                    35.47658157348633,
                    23.575355529785156,
                    -35.08435821533203,
                    -5.637441635131836,
                    -1.6707568168640137,
                    18.047409057617188,
                    57.4975700378418,
                    -1.363806128501892,
                    10.929905891418457,
                    42.055274963378906,
                    17.927034378051758,
                    0.33774706721305847,
                    55.41402816772461,
                    5.143446445465088,
                    -28.64051055908203,
                    7.906509876251221,
                    8.267036437988281,
                    7.445538520812988,
                    1.1605381965637207,
                    -3.801406145095825,
                    -1.6703052520751953,
                    34.26935577392578,
                    -16.625411987304688,
                    -14.289519309997559,
                    -13.489351272583008,
                    -21.361530303955078,
                    -12.516550064086914,
                    -44.42333984375,
                    8.172710418701172,
                    -31.544158935546875,
                    49.51116180419922,
                    50.87290573120117,
                    9.403253555297852,
                    -51.98849868774414,
                    45.11170196533203,
                    56.40427780151367,
                    -34.63774871826172,
                    -33.166603088378906,
                    -31.83069610595703,
                    -51.24095916748047,
                    -28.682113647460938,
                    42.68784713745117,
                    -15.01806640625,
                    -35.46236801147461,
                    -20.860445022583008,
                    -20.193574905395508,
                    56.22807693481445,
                    -14.31663703918457,
                    -29.4276123046875,
                    -31.228076934814453,
                    -44.50835418701172,
                    -9.40303897857666,
                    8.040268898010254,
                    2.819788694381714,
                    -5.385239601135254,
                    1.978533387184143,
                    36.16337585449219,
                    -29.91434669494629,
                    -16.470666885375977,
                    19.501903533935547,
                    46.38153839111328,
                    32.9396858215332,
                    52.30997848510742,
                    1.0372930765151978,
                    14.31425666809082,
                    48.663856506347656,
                    48.47465515136719,
                    50.260414123535156,
                    14.73495101928711,
                    -21.149707794189453,
                    -48.821876525878906,
                    -11.697768211364746,
                    -41.01546096801758,
                    54.961063385009766,
                    42.034698486328125,
                    13.357125282287598,
                    25.492225646972656,
                    51.01601791381836,
                    -7.81349515914917,
                    7.667083740234375,
                    -45.39474105834961,
                    -44.88314437866211,
                    51.772010803222656,
                    -29.083805084228516,
                    -2.84834885597229,
                    -35.862586975097656,
                    46.85098648071289,
                    -18.37556266784668,
                    -45.51492691040039,
                    45.97998046875,
                    -49.601348876953125,
                    40.50106430053711,
                    41.44082260131836,
                    46.62767028808594,
                    -43.81460189819336,
                    16.384845733642578,
                    -5.366181373596191,
                    -6.313013553619385,
                    -41.54689407348633,
                    -39.89362335205078,
                    -22.56094741821289,
                    29.428739547729492,
                    9.089378356933594,
                    -34.76728820800781,
                    -5.215401649475098,
                    43.46366500854492,
                    43.98518753051758,
                    -19.107162475585938,
                    40.04060363769531,
                    19.354476928710938,
                    -19.942989349365234,
                    -32.19232177734375,
                    -15.147725105285645,
                    -51.67262268066406,
                    42.815887451171875,
                    -21.02460289001465,
                    -36.00242233276367,
                    -5.1347479820251465,
                    -15.081910133361816,
                    -44.153656005859375,
                    -17.776348114013672,
                    4.422340393066406,
                    21.074399948120117,
                    49.09161376953125,
                    -32.140987396240234,
                    -33.346195220947266,
                    -3.1334662437438965,
                    -10.565462112426758,
                    -7.989712238311768,
                    46.88042449951172,
                    -39.907894134521484,
                    -33.903289794921875,
                    -3.1359753608703613,
                    35.58169174194336,
                    -9.230183601379395,
                    0.7402189373970032,
                    4.503292560577393,
                    13.724263191223145,
                    -42.19154739379883,
                    -50.71527099609375,
                    2.718498706817627,
                    -45.805328369140625,
                    -35.335147857666016,
                    -29.717483520507812,
                    -43.82990264892578,
                    32.283111572265625,
                    40.0009880065918,
                    -7.648653984069824,
                    54.753692626953125,
                    49.82007598876953,
                    12.42594051361084,
                    45.94865417480469,
                    12.450684547424316,
                    -40.27069091796875,
                    11.948853492736816,
                    -0.11544004082679749,
                    36.604679107666016,
                    14.522801399230957,
                    -28.612472534179688,
                    21.238582611083984,
                    20.104623794555664,
                    19.47746467590332,
                    15.846714973449707,
                    26.60630989074707,
                    9.872358322143555,
                    11.538978576660156,
                    57.441749572753906,
                    13.056276321411133,
                    5.162644386291504,
                    3.37752366065979,
                    9.687097549438477,
                    14.620881080627441,
                    42.30926513671875,
                    48.659339904785156,
                    3.626762628555298,
                    35.905517578125,
                    -41.19923782348633,
                    -34.40617752075195,
                    -49.000247955322266,
                    -2.021580696105957,
                    -47.5308837890625,
                    -6.4479594230651855,
                    -7.7830610275268555,
                    16.223045349121094,
                    -46.530303955078125,
                    40.897029876708984,
                    2.171229124069214,
                    40.515625,
                    6.223618030548096,
                    -20.548797607421875,
                    -48.84750747680664,
                    -26.887144088745117,
                    -4.686146259307861,
                    7.13307523727417,
                    21.130186080932617,
                    34.32405090332031,
                    8.93842887878418,
                    -38.298038482666016,
                    -15.987738609313965,
                    26.470962524414062,
                    7.072050094604492,
                    50.73283767700195,
                    -27.807432174682617,
                    41.824607849121094,
                    -39.56952667236328,
                    57.4122200012207,
                    -28.31764030456543,
                    -28.080724716186523,
                    -28.239896774291992,
                    6.923787593841553,
                    42.239646911621094,
                    2.146681785583496,
                    -7.427828311920166,
                    -39.64033126831055,
                    0.9890079498291016,
                    51.437477111816406,
                    40.047645568847656,
                    23.837793350219727,
                    22.620346069335938,
                    -50.50061798095703,
                    -4.877232074737549,
                    50.346214294433594,
                    -47.60018539428711,
                    -25.893451690673828,
                    -17.3998966217041,
                    40.86178970336914,
                    26.41971206665039,
                    29.81513786315918,
                    7.743408203125,
                    7.475222110748291,
                    -48.05080032348633,
                    -49.742393493652344,
                    45.22690963745117,
                    -17.76710319519043,
                    -18.94572639465332,
                    -10.548713684082031,
                    -16.871944427490234,
                    54.576026916503906,
                    -4.439825057983398,
                    53.90695571899414,
                    1.0554982423782349,
                    45.64595413208008,
                    54.242366790771484,
                    -18.248655319213867,
                    -3.039604902267456,
                    48.529075622558594,
                    57.82278060913086,
                    48.61967849731445,
                    44.91173553466797,
                    24.95580291748047,
                    -9.798224449157715,
                    -28.974164962768555,
                    -31.33473014831543,
                    -25.12677001953125,
                    10.218769073486328,
                    -11.107006072998047
                  ],
                  "xaxis": "x",
                  "y": [
                    21.928142547607422,
                    -0.1397143006324768,
                    -19.129661560058594,
                    28.896366119384766,
                    21.766300201416016,
                    5.2713494300842285,
                    25.855833053588867,
                    54.63936996459961,
                    9.378005981445312,
                    1.294618010520935,
                    11.319160461425781,
                    -42.949405670166016,
                    -32.600276947021484,
                    -5.5733747482299805,
                    -46.07950973510742,
                    -26.190229415893555,
                    21.54401397705078,
                    33.497005462646484,
                    -23.77227783203125,
                    -11.401629447937012,
                    0.11487489193677902,
                    -17.756149291992188,
                    9.048164367675781,
                    32.13521957397461,
                    -52.18999481201172,
                    4.16238260269165,
                    24.085498809814453,
                    25.796918869018555,
                    4.050676345825195,
                    42.12031936645508,
                    4.391838073730469,
                    9.75903606414795,
                    30.307035446166992,
                    18.195528030395508,
                    15.068531036376953,
                    -22.40349006652832,
                    0.09678949415683746,
                    -44.69414520263672,
                    2.517488956451416,
                    39.567115783691406,
                    -3.481717109680176,
                    14.461849212646484,
                    -35.325313568115234,
                    23.216562271118164,
                    -44.92274475097656,
                    -36.37479782104492,
                    9.422714233398438,
                    -12.126023292541504,
                    22.648326873779297,
                    26.63088607788086,
                    -54.515018463134766,
                    -36.19139099121094,
                    11.310392379760742,
                    -38.27543258666992,
                    -2.1323742866516113,
                    13.634663581848145,
                    20.273807525634766,
                    22.029254913330078,
                    -5.115111827850342,
                    -7.913734436035156,
                    28.110027313232422,
                    -9.544755935668945,
                    -9.9208402633667,
                    8.235197067260742,
                    47.7176513671875,
                    -8.788481712341309,
                    15.227485656738281,
                    -18.982040405273438,
                    49.04201889038086,
                    7.404853820800781,
                    -28.824827194213867,
                    -52.284889221191406,
                    1.5215319395065308,
                    -35.353267669677734,
                    12.200693130493164,
                    0.0037392601370811462,
                    12.479853630065918,
                    -2.790966272354126,
                    -41.581790924072266,
                    17.44415283203125,
                    12.899158477783203,
                    21.379140853881836,
                    26.885820388793945,
                    15.083039283752441,
                    17.902498245239258,
                    27.423398971557617,
                    12.591607093811035,
                    -33.156829833984375,
                    -34.243167877197266,
                    24.16303253173828,
                    -43.496246337890625,
                    19.531810760498047,
                    5.238949775695801,
                    5.127777099609375,
                    20.832002639770508,
                    -25.225934982299805,
                    -22.44359588623047,
                    -19.23989486694336,
                    28.23827362060547,
                    -26.272916793823242,
                    -9.279180526733398,
                    -9.971059799194336,
                    -6.8189778327941895,
                    8.970248222351074,
                    2.1188039779663086,
                    -7.79661226272583,
                    -2.775500535964966,
                    20.604679107666016,
                    29.52850914001465,
                    0.7125943303108215,
                    32.61383056640625,
                    -50.84074401855469,
                    -40.77470779418945,
                    17.56596565246582,
                    -17.10358428955078,
                    -25.313188552856445,
                    18.0020809173584,
                    33.2991828918457,
                    -11.019332885742188,
                    13.677034378051758,
                    -4.867765426635742,
                    20.387298583984375,
                    15.898944854736328,
                    -17.19478988647461,
                    -0.8099054098129272,
                    38.46571731567383,
                    11.8026762008667,
                    11.745636940002441,
                    -12.025346755981445,
                    26.619964599609375,
                    -38.78830337524414,
                    11.534567832946777,
                    10.636507034301758,
                    -6.489813804626465,
                    -2.0492632389068604,
                    27.14151954650879,
                    -25.51561737060547,
                    48.53214645385742,
                    -17.91986656188965,
                    -22.46024513244629,
                    -9.871041297912598,
                    51.01800537109375,
                    -44.45222473144531,
                    -46.46822738647461,
                    -9.665119171142578,
                    -20.42466163635254,
                    19.239879608154297,
                    -28.8248291015625,
                    36.96492004394531,
                    -28.417268753051758,
                    -48.10778045654297,
                    -27.937515258789062,
                    -9.474773406982422,
                    23.1484317779541,
                    -22.72150993347168,
                    -30.66925621032715,
                    7.452773094177246,
                    -2.5813968181610107,
                    12.125590324401855,
                    -42.542964935302734,
                    -9.933029174804688,
                    11.535379409790039,
                    -0.6336074471473694,
                    -20.312469482421875,
                    6.018754482269287,
                    16.659072875976562,
                    3.644129991531372,
                    7.814324378967285,
                    2.465390205383301,
                    -38.91667556762695,
                    -10.28777027130127,
                    19.322772979736328,
                    -39.07303237915039,
                    -5.759203910827637,
                    16.00286293029785,
                    -15.1427583694458,
                    -48.627166748046875,
                    -16.573156356811523,
                    8.559589385986328,
                    -13.477964401245117,
                    -1.7664192914962769,
                    -9.360377311706543,
                    5.1881256103515625,
                    -26.551822662353516,
                    -5.76839017868042,
                    30.49162483215332,
                    -34.694740295410156,
                    -39.88639831542969,
                    32.30034255981445,
                    -19.027332305908203,
                    32.12325668334961,
                    15.39260196685791,
                    18.042827606201172,
                    -25.436798095703125,
                    -53.499610900878906,
                    24.326705932617188,
                    -13.726676940917969,
                    -17.302444458007812,
                    -23.77132797241211,
                    18.553823471069336,
                    18.603883743286133,
                    -26.482961654663086,
                    14.824119567871094,
                    -20.06496238708496,
                    54.403602600097656,
                    0.32719936966896057,
                    4.8066911697387695,
                    26.11845588684082,
                    -17.73332977294922,
                    -16.171110153198242,
                    1.2184213399887085,
                    35.932743072509766,
                    4.860774040222168,
                    36.00541687011719,
                    -37.996463775634766,
                    41.545555114746094,
                    32.95318603515625,
                    -43.9503059387207,
                    -18.406023025512695,
                    -5.670046329498291,
                    -48.995853424072266,
                    12.351232528686523,
                    26.034543991088867,
                    21.881967544555664,
                    -43.57184982299805,
                    -15.939522743225098,
                    24.236085891723633,
                    24.68589973449707,
                    30.99578857421875,
                    41.68824005126953,
                    45.6177864074707,
                    31.312597274780273,
                    35.19186782836914,
                    30.94167137145996,
                    11.266560554504395,
                    31.144081115722656,
                    27.329769134521484,
                    9.050625801086426,
                    -17.644180297851562,
                    57.201805114746094,
                    53.860565185546875,
                    57.39284133911133,
                    12.105952262878418,
                    21.347633361816406,
                    16.982921600341797,
                    13.51109790802002,
                    19.92411231994629,
                    -2.834193229675293,
                    28.334644317626953,
                    22.133378982543945,
                    38.58430099487305,
                    -42.83052444458008,
                    -26.153444290161133,
                    -4.022402286529541,
                    -40.593563079833984,
                    0.5316565632820129,
                    -3.436795473098755,
                    12.422863960266113,
                    50.88673400878906,
                    52.34789276123047,
                    55.200225830078125,
                    -14.64645767211914,
                    -38.8736686706543,
                    0.23078329861164093,
                    22.593488693237305,
                    -0.31037816405296326,
                    53.884464263916016,
                    32.22072982788086,
                    -0.6968377828598022,
                    -48.86587142944336,
                    20.15862274169922,
                    -0.14684288203716278,
                    0.30857038497924805,
                    -33.5516357421875,
                    -6.264147758483887,
                    -16.77754020690918,
                    16.994300842285156,
                    11.054533004760742,
                    -39.61227035522461,
                    -45.75016784667969,
                    13.054675102233887,
                    -51.23214340209961,
                    8.80232048034668,
                    -22.761009216308594,
                    -36.680091857910156,
                    -39.044708251953125,
                    -18.444604873657227,
                    -20.929960250854492,
                    -46.99769973754883,
                    4.077585220336914,
                    -19.49932861328125,
                    35.546897888183594,
                    36.777339935302734,
                    21.075029373168945,
                    -48.3696403503418,
                    6.419748306274414,
                    28.38747787475586,
                    1.0369764566421509,
                    -7.904716491699219,
                    27.442081451416016,
                    -6.879487991333008,
                    -41.35227966308594,
                    7.39253568649292,
                    -39.872154235839844,
                    -41.86452865600586,
                    -20.59116554260254,
                    -2.724576234817505,
                    -28.203399658203125,
                    57.681114196777344,
                    -23.845022201538086,
                    -19.005945205688477,
                    -34.377159118652344,
                    -24.267723083496094,
                    -29.07288932800293,
                    -24.366352081298828,
                    -21.74138641357422,
                    17.44284439086914,
                    -44.21491622924805,
                    29.01538848876953,
                    29.158987045288086,
                    31.93580436706543,
                    32.059234619140625,
                    -8.79680347442627,
                    -15.251994132995605,
                    -1.7123667001724243,
                    3.792614698410034,
                    -51.064788818359375,
                    25.54059410095215,
                    30.17589569091797,
                    25.294147491455078,
                    35.099002838134766,
                    31.15457534790039,
                    21.171833038330078,
                    11.316851615905762,
                    -41.490081787109375,
                    -54.35897445678711,
                    26.35059928894043,
                    19.706470489501953,
                    23.132488250732422,
                    -15.141474723815918,
                    25.211240768432617,
                    13.590716361999512,
                    -10.771064758300781,
                    -8.163421630859375,
                    -6.413604259490967,
                    31.738746643066406,
                    -31.288782119750977,
                    33.02253341674805,
                    3.15981388092041,
                    -1.571103572845459,
                    27.186010360717773,
                    14.999216079711914,
                    -23.368677139282227,
                    -10.519759178161621,
                    24.9177188873291,
                    20.706459045410156,
                    13.394550323486328,
                    -54.24585723876953,
                    -31.762147903442383,
                    22.952747344970703,
                    11.115300178527832,
                    13.581836700439453,
                    3.6469762325286865,
                    -25.353967666625977,
                    -37.83991241455078,
                    -52.18999099731445,
                    -40.15361785888672,
                    -25.733850479125977,
                    36.088253021240234,
                    26.370147705078125,
                    25.335969924926758,
                    -31.82621192932129,
                    42.855979919433594,
                    53.25546646118164,
                    30.325836181640625,
                    13.957425117492676,
                    -36.41785430908203,
                    -30.080238342285156,
                    -44.62376022338867,
                    -52.087303161621094,
                    -25.733753204345703,
                    -43.613304138183594,
                    -17.303712844848633,
                    -47.868141174316406,
                    -7.241048336029053,
                    29.59095001220703,
                    -51.6058349609375,
                    -28.075712203979492,
                    -32.01450729370117,
                    -5.695634365081787,
                    -25.67351531982422,
                    -1.5829271078109741,
                    -10.79753589630127,
                    33.12223815917969,
                    27.10682487487793,
                    9.801971435546875,
                    28.724016189575195,
                    -4.285490989685059,
                    36.810462951660156,
                    -26.9581241607666,
                    -0.09675823152065277,
                    23.31781578063965,
                    -26.87598991394043,
                    12.906608581542969,
                    0.5691019296646118,
                    29.432811737060547,
                    3.252201557159424,
                    25.57144546508789,
                    15.711822509765625,
                    -40.7504768371582,
                    -34.682979583740234,
                    6.6712188720703125,
                    15.30322551727295,
                    13.122305870056152,
                    -6.379704475402832,
                    5.4305219650268555,
                    20.201311111450195,
                    29.848764419555664,
                    -44.132808685302734,
                    -2.0584375858306885,
                    -12.191689491271973,
                    -24.811059951782227,
                    -20.345386505126953,
                    -34.49735641479492,
                    -3.058285713195801,
                    16.637460708618164,
                    29.521896362304688,
                    15.358399391174316,
                    -31.738906860351562,
                    -49.32709503173828,
                    -1.542409062385559,
                    -22.296228408813477,
                    38.88614273071289,
                    -21.692264556884766,
                    18.36297035217285,
                    -8.316451072692871,
                    13.764705657958984,
                    5.704159736633301,
                    -31.492046356201172,
                    51.955379486083984,
                    1.9899821281433105,
                    41.05448532104492,
                    -4.965354919433594,
                    27.125398635864258,
                    -26.219242095947266,
                    -17.64967918395996,
                    14.679508209228516,
                    -32.43921661376953,
                    26.15073013305664,
                    34.09236526489258,
                    28.56133460998535,
                    -11.92365837097168,
                    12.936159133911133,
                    54.13127517700195,
                    10.721895217895508,
                    12.220296859741211,
                    26.641239166259766,
                    -38.923248291015625,
                    -1.394677996635437,
                    -17.892778396606445,
                    18.041772842407227,
                    -25.45338249206543,
                    49.697959899902344,
                    -1.3694167137145996,
                    20.2620906829834,
                    31.201566696166992,
                    46.158748626708984,
                    -13.482259750366211,
                    -30.6302547454834,
                    7.8025689125061035,
                    -5.630154609680176,
                    -8.850858688354492,
                    -3.174670696258545,
                    11.98678970336914,
                    -11.359161376953125,
                    -3.639183521270752,
                    -34.83115005493164,
                    22.137643814086914,
                    14.800467491149902,
                    30.095191955566406,
                    24.078176498413086,
                    55.20265579223633,
                    -5.073246955871582,
                    -23.45171356201172,
                    21.671161651611328,
                    38.69456100463867,
                    6.966220378875732,
                    -17.72124481201172,
                    18.38115692138672,
                    4.473473072052002,
                    27.062715530395508,
                    34.06303405761719,
                    36.64845657348633,
                    -37.37252426147461,
                    15.401519775390625,
                    -1.222740650177002,
                    34.7325553894043,
                    36.905765533447266,
                    34.710323333740234,
                    -34.53276062011719,
                    24.759721755981445,
                    27.443899154663086,
                    22.2479190826416,
                    6.120059967041016,
                    -2.4758460521698,
                    -33.565345764160156,
                    17.383228302001953,
                    6.110969543457031,
                    11.700578689575195,
                    -6.660580635070801,
                    4.005941390991211,
                    2.310950994491577,
                    35.828861236572266,
                    -18.170814514160156,
                    -22.296241760253906,
                    -19.172927856445312,
                    28.70934295654297,
                    4.419769763946533,
                    -28.111413955688477,
                    14.200349807739258,
                    1.113021731376648,
                    10.491788864135742,
                    10.676800727844238,
                    -37.2667121887207,
                    18.9864501953125,
                    23.081045150756836,
                    -29.810224533081055,
                    -37.385032653808594,
                    35.556983947753906,
                    -29.035673141479492,
                    4.692253112792969,
                    -22.842166900634766,
                    10.474247932434082,
                    49.879234313964844,
                    -35.61566925048828,
                    -46.23481750488281,
                    -7.3717451095581055,
                    -8.619850158691406,
                    -10.773133277893066,
                    51.05634307861328,
                    7.51849889755249,
                    -11.94287109375,
                    52.887550354003906,
                    -30.93439483642578,
                    -10.823266983032227,
                    5.381818771362305,
                    48.94392776489258,
                    48.826045989990234,
                    52.83277130126953,
                    5.26378059387207,
                    24.667470932006836,
                    -27.355497360229492,
                    5.640430450439453,
                    -50.36063003540039,
                    30.560453414916992,
                    -42.36013412475586,
                    36.55195999145508,
                    13.849339485168457,
                    0.0673542246222496,
                    -20.825849533081055,
                    -5.048584938049316,
                    18.333223342895508,
                    7.92346715927124,
                    -5.808099269866943,
                    12.450786590576172,
                    -37.28947067260742,
                    15.275047302246094,
                    -42.1527214050293,
                    24.526765823364258,
                    -11.870288848876953,
                    8.037095069885254,
                    18.667001724243164,
                    7.923283576965332,
                    24.675302505493164,
                    51.168479919433594,
                    -1.9201067686080933,
                    54.03508758544922,
                    27.221961975097656,
                    34.531837463378906,
                    -4.949026584625244,
                    -35.73102951049805,
                    33.436588287353516,
                    -2.478884696960449,
                    -14.19775390625,
                    -10.662036895751953,
                    46.56476593017578,
                    -2.25583553314209,
                    -12.979092597961426,
                    -11.903042793273926,
                    -1.146697998046875,
                    -2.247849702835083,
                    20.92552947998047,
                    -5.370792865753174,
                    17.877111434936523,
                    -6.081960201263428,
                    46.511966705322266,
                    -11.653535842895508,
                    14.898561477661133,
                    20.556222915649414,
                    28.094633102416992,
                    0.6344918608665466,
                    -38.64797592163086,
                    -16.456348419189453,
                    -46.2878303527832,
                    -27.013511657714844,
                    36.737548828125,
                    2.202528238296509,
                    8.228608131408691,
                    25.198904037475586,
                    8.56883430480957,
                    -33.20145034790039,
                    34.2488899230957,
                    2.9744391441345215,
                    18.324472427368164,
                    22.574758529663086,
                    35.14274597167969,
                    27.48765754699707,
                    26.825056076049805,
                    37.371337890625,
                    -40.83932113647461,
                    34.51054763793945,
                    -29.23476219177246,
                    24.005924224853516,
                    29.47541046142578,
                    7.185212135314941,
                    -22.58161735534668,
                    -39.01255798339844,
                    56.441715240478516,
                    -26.916257858276367,
                    -16.822959899902344,
                    -26.642520904541016,
                    9.06775951385498,
                    34.676605224609375,
                    5.230514049530029,
                    -6.031650543212891,
                    -41.20414733886719,
                    22.098745346069336,
                    15.279881477355957,
                    34.77712631225586,
                    -14.115778923034668,
                    17.94893455505371,
                    32.963401794433594,
                    15.094925880432129,
                    3.7753689289093018,
                    32.61174011230469,
                    -23.60143280029297,
                    41.419673919677734,
                    8.343851089477539,
                    18.99195671081543,
                    -30.5738468170166,
                    12.391504287719727,
                    35.60617446899414,
                    -1.6592884063720703,
                    -22.3253231048584,
                    -5.139110565185547,
                    12.063643455505371,
                    25.840654373168945,
                    20.52652359008789,
                    27.515581130981445,
                    -17.686534881591797,
                    38.95404815673828,
                    8.937189102172852,
                    24.703100204467773,
                    31.554405212402344,
                    19.662050247192383,
                    -5.464539527893066,
                    32.79854965209961,
                    31.35358428955078,
                    13.96682071685791,
                    9.371072769165039,
                    27.12555694580078,
                    -8.178370475769043,
                    22.153366088867188,
                    9.163986206054688,
                    10.1461181640625,
                    8.728798866271973,
                    11.239114761352539,
                    9.407463073730469,
                    21.407272338867188,
                    32.37491226196289,
                    12.321656227111816,
                    16.11757469177246,
                    9.310184478759766,
                    9.904661178588867,
                    17.522520065307617,
                    -6.429255962371826,
                    13.780604362487793,
                    32.629981994628906,
                    32.61420440673828,
                    10.974542617797852,
                    22.965835571289062,
                    34.720603942871094,
                    57.715003967285156,
                    -20.207250595092773,
                    36.50154495239258,
                    4.385224342346191,
                    33.71318054199219,
                    -15.28514575958252,
                    -42.46967697143555,
                    -53.31372833251953,
                    -50.3754997253418,
                    -43.391719818115234,
                    -48.07097244262695,
                    -0.9944888949394226,
                    31.526857376098633,
                    -44.62376022338867,
                    57.55720520019531,
                    27.69729232788086,
                    -3.524479866027832,
                    50.96977615356445,
                    -14.574024200439453,
                    -53.57074737548828,
                    -32.62210464477539,
                    14.472808837890625,
                    -11.526894569396973,
                    -15.801197052001953,
                    51.82796859741211,
                    34.311771392822266,
                    18.54543685913086,
                    21.647594451904297,
                    9.166088104248047,
                    21.621963500976562,
                    -14.373522758483887,
                    16.128202438354492,
                    19.599767684936523,
                    7.015450954437256,
                    10.122130393981934,
                    20.267290115356445,
                    16.150075912475586,
                    24.99852180480957,
                    -34.14084243774414,
                    27.315916061401367,
                    28.3765926361084,
                    -28.56090545654297,
                    27.862640380859375,
                    -32.53951644897461,
                    -31.644834518432617,
                    -33.45102310180664,
                    10.314837455749512,
                    12.630563735961914,
                    37.12294387817383,
                    9.360797882080078,
                    12.964239120483398,
                    8.654294967651367,
                    15.396471977233887,
                    21.938379287719727,
                    9.334936141967773,
                    24.725183486938477,
                    37.03278350830078,
                    25.714595794677734,
                    -5.342807292938232,
                    -8.053451538085938,
                    -55.06916427612305,
                    35.97417068481445,
                    -34.65203094482422,
                    8.747597694396973,
                    -26.947782516479492,
                    -21.95840835571289,
                    52.336917877197266,
                    -20.85826301574707,
                    23.714984893798828,
                    20.17300033569336,
                    35.34116744995117,
                    32.726749420166016,
                    28.524456024169922,
                    30.28974151611328,
                    32.90292739868164,
                    26.243825912475586,
                    -32.61301040649414,
                    -33.24202346801758,
                    28.020402908325195,
                    31.959318161010742,
                    35.80295181274414,
                    42.16166305541992,
                    29.633981704711914,
                    26.873184204101562,
                    32.2286491394043,
                    -23.540708541870117,
                    -14.672414779663086,
                    32.48732376098633,
                    20.25200843811035,
                    19.465089797973633,
                    25.22339630126953,
                    28.759077072143555,
                    -45.13972473144531,
                    -45.00802993774414,
                    -20.721435546875,
                    -16.895645141601562,
                    -42.51942443847656,
                    33.34740447998047,
                    -11.739758491516113,
                    -2.150089979171753,
                    2.4335250854492188,
                    -6.794317722320557,
                    29.04178237915039,
                    -9.388882637023926,
                    -39.41006851196289,
                    22.35284423828125,
                    -46.290687561035156,
                    -37.6224365234375,
                    -44.70765686035156,
                    -46.38545227050781,
                    22.444616317749023,
                    15.133199691772461,
                    -16.94746208190918,
                    19.507417678833008,
                    -15.367969512939453,
                    -29.500537872314453,
                    -9.004371643066406,
                    -29.500713348388672,
                    -46.38545227050781,
                    3.2825698852539062,
                    3.5256476402282715,
                    42.682106018066406,
                    3.537706136703491,
                    -6.696103572845459,
                    -35.83112716674805,
                    -45.822998046875,
                    -36.44676971435547,
                    -3.3978960514068604,
                    13.73793888092041,
                    -47.04924774169922,
                    -43.53169250488281,
                    -49.80771255493164,
                    -53.872257232666016,
                    -50.040279388427734,
                    50.25695037841797,
                    -8.112726211547852,
                    -46.39234924316406,
                    -28.88321304321289,
                    -7.757965087890625,
                    -21.490314483642578,
                    -23.483657836914062,
                    -26.741432189941406,
                    -19.395038604736328,
                    -24.627965927124023,
                    -25.740209579467773,
                    -26.28434944152832,
                    -13.163396835327148,
                    -28.949249267578125,
                    -36.376461029052734,
                    27.437847137451172,
                    -40.25527572631836,
                    -10.686844825744629,
                    -12.56885814666748,
                    3.241466760635376,
                    -1.198020339012146,
                    57.469825744628906,
                    25.44727325439453,
                    4.5615057945251465,
                    -23.744962692260742,
                    -51.51338195800781,
                    -54.28130340576172,
                    34.44081497192383,
                    18.18423080444336,
                    -49.91727066040039,
                    -49.915706634521484,
                    -49.59110641479492,
                    26.682174682617188,
                    -53.0583610534668,
                    -45.26551055908203,
                    -38.41972732543945,
                    54.36601638793945,
                    1.7209075689315796,
                    21.749465942382812,
                    -49.67885208129883,
                    29.968780517578125,
                    -45.52399826049805,
                    -43.65083312988281,
                    -22.897584915161133,
                    -40.573265075683594,
                    -32.92409896850586,
                    -41.26249313354492,
                    -46.90754318237305,
                    22.830493927001953,
                    36.65798568725586,
                    27.378957748413086,
                    12.399535179138184,
                    -55.767799377441406,
                    -32.599388122558594,
                    -29.314096450805664,
                    -41.228546142578125,
                    -48.627010345458984,
                    -49.757530212402344,
                    41.35447692871094,
                    20.564491271972656,
                    -3.440079927444458,
                    31.168594360351562,
                    -16.731937408447266,
                    -23.868581771850586,
                    -50.189273834228516,
                    -37.10755157470703,
                    -33.7982177734375,
                    -5.662103652954102,
                    -42.62495422363281,
                    30.640289306640625,
                    24.419921875,
                    -16.167497634887695,
                    15.335741996765137,
                    -47.00688552856445,
                    27.642963409423828,
                    34.367332458496094,
                    53.88323974609375,
                    8.832343101501465,
                    -53.19019317626953,
                    -46.45995330810547,
                    -15.290605545043945,
                    -41.844120025634766,
                    -41.44215393066406,
                    -44.204463958740234,
                    12.557609558105469,
                    32.5220947265625,
                    -27.775114059448242,
                    18.910200119018555,
                    -28.10348892211914,
                    -32.53951644897461,
                    -16.0270938873291,
                    -26.230079650878906,
                    22.055076599121094,
                    22.953144073486328,
                    -43.526485443115234,
                    28.130929946899414,
                    -40.168670654296875,
                    -0.011435559950768948,
                    -51.70779037475586,
                    -41.12594985961914,
                    4.836341857910156,
                    -21.099552154541016,
                    52.77870559692383,
                    40.909263610839844,
                    1.2225531339645386,
                    -32.04438781738281,
                    15.817880630493164,
                    52.261985778808594,
                    54.97148895263672,
                    22.850006103515625,
                    -41.92090606689453,
                    6.247615337371826,
                    41.81609344482422,
                    17.965951919555664,
                    36.21501541137695,
                    -25.324302673339844,
                    -8.336165428161621,
                    -40.644100189208984,
                    26.20005989074707,
                    31.541175842285156,
                    29.790252685546875,
                    -22.306156158447266,
                    -32.14070510864258,
                    -46.4080696105957,
                    -11.106701850891113,
                    9.314229965209961,
                    -37.531009674072266,
                    48.34914016723633,
                    9.37015438079834,
                    -35.79844665527344,
                    -20.69916534423828,
                    -7.885331630706787,
                    -3.1280298233032227,
                    49.94689178466797,
                    -19.54884910583496,
                    7.171963691711426,
                    4.842501163482666,
                    -35.125144958496094,
                    -35.0481071472168,
                    29.922550201416016,
                    -28.92671775817871,
                    -48.256187438964844,
                    -49.25463104248047,
                    4.423733711242676,
                    -28.957801818847656,
                    -38.03781509399414,
                    -45.10783004760742,
                    11.53463077545166,
                    1.1760529279708862,
                    1.7988026142120361,
                    50.23764419555664,
                    -28.824323654174805,
                    23.779409408569336,
                    -46.09736633300781,
                    21.95266342163086,
                    -32.18903350830078,
                    10.979320526123047,
                    -21.896703720092773,
                    -39.12748336791992,
                    -48.65665817260742,
                    -26.139835357666016,
                    -31.008928298950195,
                    -45.94427490234375,
                    17.583473205566406,
                    -32.694801330566406,
                    -7.074177265167236,
                    -14.795856475830078,
                    -53.73556137084961,
                    -12.174556732177734,
                    -32.26982879638672,
                    -14.351202011108398,
                    -12.420238494873047,
                    -45.05543899536133,
                    -34.7571907043457,
                    38.40870666503906,
                    53.51336669921875,
                    20.33557891845703,
                    21.524551391601562,
                    27.686626434326172,
                    19.945842742919922,
                    37.82868576049805,
                    23.186033248901367,
                    -3.9246606826782227,
                    -15.884801864624023,
                    52.83888626098633,
                    29.74136734008789,
                    -3.121602773666382,
                    9.597134590148926,
                    -2.4681777954101562,
                    6.549592018127441,
                    -37.27057647705078,
                    8.306629180908203,
                    19.488948822021484,
                    23.781452178955078,
                    1.8202229738235474,
                    -3.8557076454162598,
                    20.421504974365234,
                    28.360153198242188,
                    -33.34120178222656,
                    7.054633140563965,
                    23.01033592224121,
                    26.728092193603516,
                    30.489410400390625,
                    1.8878636360168457,
                    20.8697509765625,
                    -43.46541213989258,
                    21.484052658081055,
                    -45.34814453125,
                    -39.304744720458984,
                    -41.14039611816406,
                    29.629899978637695,
                    -18.813880920410156,
                    17.457483291625977,
                    2.811180830001831,
                    -5.3154683113098145,
                    -36.47995376586914,
                    -54.885215759277344,
                    -47.85438919067383,
                    -26.55143928527832,
                    8.644022941589355,
                    -0.6310214400291443,
                    13.598396301269531,
                    -4.020244121551514,
                    -10.530192375183105,
                    -9.386284828186035,
                    -13.701369285583496,
                    48.593441009521484,
                    -25.764814376831055,
                    26.07492446899414,
                    18.034332275390625,
                    26.0837345123291,
                    32.41775131225586,
                    -18.043428421020508,
                    -23.355941772460938,
                    9.097566604614258,
                    -15.612227439880371,
                    -50.56195831298828,
                    21.45081329345703,
                    18.090770721435547,
                    12.435701370239258,
                    -10.597926139831543,
                    8.421921730041504,
                    12.929553031921387,
                    -1.8671696186065674,
                    9.910719871520996,
                    28.452890396118164,
                    -53.06960678100586,
                    5.6264214515686035,
                    -38.759090423583984,
                    -51.702754974365234,
                    -4.270224094390869,
                    -37.368980407714844,
                    16.870147705078125,
                    -15.275550842285156,
                    -40.04729461669922,
                    25.78851318359375,
                    2.0389907360076904,
                    13.789400100708008,
                    -48.24931716918945,
                    20.63055419921875,
                    4.010706424713135,
                    -44.24242401123047,
                    -46.796722412109375,
                    7.612852096557617,
                    -42.59313201904297,
                    -3.622013568878174,
                    8.791539192199707,
                    17.284774780273438,
                    25.686166763305664,
                    -44.84447479248047,
                    -16.344823837280273,
                    -19.134145736694336,
                    -35.446556091308594,
                    -39.09530258178711,
                    36.03702163696289,
                    -41.80030822753906,
                    -28.33200454711914,
                    9.31715202331543,
                    14.397480010986328,
                    1.238574504852295,
                    -35.868263244628906,
                    -35.93012237548828,
                    24.790969848632812,
                    -32.132259368896484,
                    -35.869590759277344,
                    -41.3560905456543,
                    -51.619346618652344,
                    -8.973531723022461,
                    -30.498682022094727,
                    -30.772775650024414,
                    -32.85295104980469,
                    37.80112838745117,
                    -24.1566104888916,
                    22.979001998901367,
                    -48.03242874145508,
                    -15.83070182800293,
                    28.385780334472656,
                    53.0418586730957,
                    -50.957313537597656,
                    -22.583494186401367,
                    -40.892066955566406,
                    -19.269933700561523,
                    2.0300941467285156,
                    0.5672154426574707,
                    -51.003971099853516,
                    -32.61729431152344,
                    40.246376037597656,
                    41.62138366699219,
                    -20.558570861816406,
                    35.84499740600586,
                    -18.85114288330078,
                    51.11689758300781,
                    23.817399978637695,
                    -25.15599822998047,
                    -2.621842861175537,
                    25.010080337524414,
                    8.509403228759766,
                    9.043954849243164,
                    21.376882553100586,
                    -29.035497665405273,
                    36.019683837890625,
                    -14.303224563598633,
                    -3.186741828918457,
                    53.85435104370117,
                    33.093048095703125,
                    23.426610946655273,
                    -3.4401607513427734,
                    -40.647117614746094,
                    42.38189697265625,
                    42.88890838623047,
                    -12.832803726196289,
                    7.325960636138916,
                    -2.5657477378845215,
                    11.788007736206055,
                    -50.950958251953125,
                    11.143747329711914,
                    -5.253970623016357,
                    -32.028785705566406,
                    18.388080596923828,
                    18.571619033813477,
                    22.145620346069336,
                    -12.11008071899414,
                    11.33902645111084,
                    24.74764060974121,
                    -24.7301082611084,
                    -40.89744186401367,
                    -26.361064910888672,
                    18.965290069580078,
                    -4.6091227531433105,
                    25.495943069458008,
                    -26.524581909179688,
                    -15.753335952758789,
                    25.300338745117188,
                    9.302379608154297,
                    4.243927478790283,
                    -36.13445281982422,
                    -20.112804412841797,
                    27.033754348754883,
                    25.26228141784668,
                    25.18419075012207,
                    -8.948960304260254,
                    27.767942428588867,
                    16.613792419433594,
                    -52.593074798583984,
                    -49.569435119628906,
                    -29.417072296142578,
                    31.70880699157715,
                    -48.82427215576172,
                    -0.8912711143493652,
                    -27.242341995239258,
                    24.080698013305664,
                    35.94459533691406,
                    4.6623382568359375,
                    -7.748863697052002,
                    -8.760882377624512,
                    35.94459533691406,
                    -32.42978286743164,
                    1.541436791419983,
                    -48.821434020996094,
                    -50.815128326416016,
                    -50.89319610595703,
                    -11.542282104492188,
                    -6.791575908660889,
                    -45.055484771728516,
                    0.8073229193687439,
                    -14.331110954284668,
                    -35.43482208251953,
                    52.66972732543945,
                    -30.392175674438477,
                    -5.7824602127075195,
                    -25.34156608581543,
                    -6.664460182189941,
                    -28.51346778869629,
                    24.131385803222656,
                    19.34654998779297,
                    -25.72222900390625,
                    0.7371101975440979,
                    52.41819381713867,
                    -42.9835090637207,
                    -10.720067024230957,
                    -3.8601887226104736,
                    -21.26338768005371,
                    -23.84656524658203,
                    -7.595785140991211,
                    -3.2232401371002197,
                    7.13105583190918,
                    -7.425393581390381,
                    -32.13968276977539,
                    -2.294267416000366,
                    -49.58718490600586,
                    2.8058624267578125,
                    -29.166301727294922,
                    8.665645599365234,
                    -32.539493560791016,
                    26.023502349853516,
                    14.576900482177734,
                    17.301462173461914,
                    20.024017333984375,
                    -51.925270080566406,
                    -42.55469512939453,
                    -28.574291229248047,
                    -31.252166748046875,
                    -35.167236328125,
                    46.587608337402344,
                    -44.2174186706543,
                    -36.746437072753906,
                    -42.6244010925293,
                    -11.754796028137207,
                    56.36488723754883,
                    -30.402179718017578,
                    -24.197965621948242,
                    -23.9791202545166,
                    24.596467971801758,
                    21.28472137451172,
                    -1.2269374132156372,
                    -0.6095161437988281,
                    -24.61331558227539,
                    -33.976627349853516,
                    -13.011162757873535,
                    -14.062874794006348,
                    28.63026237487793,
                    -16.132034301757812,
                    22.793188095092773,
                    -20.261695861816406,
                    33.785430908203125,
                    -26.10607147216797,
                    14.234216690063477,
                    -21.9089412689209,
                    -34.746238708496094,
                    -45.86406707763672,
                    -38.288230895996094,
                    -23.79667854309082,
                    -42.063568115234375,
                    48.35421371459961,
                    25.815753936767578,
                    -46.952064514160156,
                    53.470462799072266,
                    34.17511749267578,
                    -51.23214340209961,
                    4.8182053565979,
                    -47.17726516723633,
                    17.90774917602539,
                    -5.797316074371338,
                    -14.693597793579102,
                    -2.7753593921661377,
                    12.051627159118652,
                    3.1452488899230957,
                    -22.595291137695312,
                    -6.645519733428955,
                    -19.504602432250977,
                    -50.6097297668457,
                    -31.851171493530273,
                    -49.0329704284668,
                    -49.95577621459961,
                    -48.57084655761719,
                    -9.471428871154785,
                    34.36324691772461,
                    32.32876205444336,
                    55.59609603881836,
                    -13.744020462036133,
                    28.736358642578125,
                    32.225582122802734,
                    -29.188255310058594,
                    8.919078826904297,
                    -24.400835037231445,
                    -36.25120162963867,
                    0.9024205803871155,
                    -31.473920822143555,
                    -21.34234046936035,
                    -29.11848258972168,
                    -8.255146980285645,
                    -17.56818389892578,
                    22.457740783691406,
                    -9.28530502319336,
                    -43.228492736816406,
                    -38.85204315185547,
                    32.956748962402344,
                    16.146867752075195,
                    42.79043960571289,
                    31.327970504760742,
                    -52.10081100463867,
                    -50.53858184814453,
                    32.434303283691406,
                    -22.681838989257812,
                    -48.93532180786133,
                    -52.10087203979492,
                    25.964780807495117,
                    21.215805053710938,
                    -48.591148376464844,
                    -26.473485946655273,
                    -14.736251831054688,
                    -38.77520751953125,
                    -13.373557090759277,
                    -41.466434478759766,
                    27.264123916625977,
                    28.219192504882812,
                    -33.205875396728516,
                    -39.97499084472656,
                    -53.593170166015625,
                    9.487948417663574,
                    56.970726013183594,
                    -22.134193420410156,
                    27.01351547241211,
                    -6.177544116973877,
                    -15.95096206665039,
                    -19.568740844726562,
                    -1.7048457860946655,
                    -31.722919464111328,
                    41.279701232910156,
                    34.94829177856445,
                    -19.945802688598633,
                    17.251991271972656,
                    37.101463317871094,
                    -40.39329528808594,
                    5.416226863861084,
                    39.3881721496582,
                    -44.960323333740234,
                    46.587608337402344,
                    -48.1192512512207,
                    -6.930502891540527,
                    -3.7593271732330322,
                    -41.09789276123047,
                    -33.29276657104492,
                    -16.612558364868164,
                    -29.983123779296875,
                    19.93670082092285,
                    -34.545555114746094,
                    -16.969646453857422,
                    -35.987754821777344,
                    -48.93915557861328,
                    -5.843899726867676,
                    27.692480087280273,
                    -33.064640045166016,
                    -25.048343658447266,
                    52.692237854003906,
                    -12.148876190185547,
                    -21.581396102905273,
                    -33.51429748535156,
                    -30.127233505249023,
                    -50.67911911010742,
                    28.664735794067383,
                    12.273128509521484,
                    33.0304069519043,
                    -14.6072416305542,
                    12.846538543701172,
                    22.263837814331055,
                    22.831388473510742,
                    24.917293548583984,
                    15.47221851348877,
                    34.97322463989258,
                    6.390594005584717,
                    -1.2166696786880493,
                    23.385412216186523,
                    2.703963279724121,
                    44.46515655517578,
                    -32.018436431884766,
                    16.69575309753418,
                    15.681061744689941,
                    41.19657516479492,
                    51.79264450073242,
                    -18.834148406982422,
                    22.460960388183594,
                    49.142555236816406,
                    -1.7381868362426758,
                    21.854915618896484,
                    23.048791885375977,
                    17.967599868774414,
                    21.248746871948242,
                    14.555938720703125,
                    19.90747833251953,
                    56.6069221496582,
                    -14.489232063293457,
                    21.64105796813965,
                    43.05881118774414,
                    42.821781158447266,
                    33.10117721557617,
                    35.17777633666992,
                    17.142911911010742,
                    -11.838754653930664,
                    -27.392333984375,
                    31.61223030090332,
                    -42.47023010253906,
                    -50.824134826660156,
                    53.58183670043945,
                    32.085845947265625,
                    3.694375514984131,
                    11.033961296081543,
                    -29.234703063964844,
                    12.25604248046875,
                    14.015902519226074,
                    10.166833877563477,
                    7.6429314613342285,
                    -51.11821365356445,
                    56.441715240478516,
                    29.598243713378906,
                    -14.063836097717285,
                    -50.21792221069336,
                    -19.081064224243164,
                    -4.629960060119629,
                    53.51864242553711,
                    10.898796081542969,
                    13.883360862731934,
                    -13.046462059020996,
                    13.43744945526123,
                    -12.123591423034668,
                    -23.831438064575195,
                    -20.091022491455078,
                    16.83668327331543,
                    -17.211807250976562,
                    -23.357454299926758,
                    32.76850128173828,
                    18.661954879760742,
                    35.07301330566406,
                    -32.018211364746094,
                    -26.614309310913086,
                    9.358345031738281,
                    21.07058334350586,
                    30.229434967041016,
                    -17.630868911743164,
                    10.125701904296875,
                    -50.035457611083984,
                    26.350820541381836,
                    -34.22343063354492,
                    18.639204025268555,
                    16.548179626464844,
                    -21.492237091064453,
                    1.6873736381530762,
                    -5.79417085647583,
                    -3.408529758453369,
                    0.5856396555900574,
                    -35.209842681884766,
                    18.352949142456055,
                    6.041563987731934,
                    -43.125492095947266,
                    17.37824821472168,
                    8.720230102539062,
                    50.48089599609375,
                    8.004240036010742,
                    4.032278537750244,
                    -12.551563262939453,
                    24.242040634155273,
                    14.018113136291504,
                    7.001132011413574,
                    10.096522331237793,
                    -38.374267578125,
                    -39.09074020385742,
                    47.39634704589844,
                    -7.494221210479736,
                    -38.53253936767578,
                    12.972991943359375,
                    -0.6723124980926514,
                    -5.062372207641602,
                    12.00410270690918,
                    -36.847599029541016,
                    -45.43093490600586,
                    5.313939571380615,
                    -4.010533332824707,
                    -4.598016738891602,
                    -13.794051170349121,
                    -20.347640991210938,
                    -19.221805572509766,
                    -36.93334197998047,
                    -31.663475036621094,
                    28.331804275512695,
                    -10.372458457946777,
                    -12.745159149169922,
                    -43.0020866394043,
                    -24.68067169189453,
                    14.409558296203613,
                    29.05921745300293,
                    -2.9761712551116943,
                    -44.725772857666016,
                    3.5995051860809326,
                    -24.660348892211914,
                    -27.53717041015625,
                    23.0651798248291,
                    -2.849827527999878,
                    -15.439274787902832,
                    -20.174640655517578,
                    36.36800003051758,
                    16.343103408813477,
                    34.7472038269043,
                    -19.31913185119629,
                    23.72025489807129,
                    24.932348251342773,
                    -26.304643630981445,
                    -42.43714904785156,
                    -38.121734619140625,
                    32.12800598144531,
                    -16.1879825592041,
                    30.34737777709961,
                    28.274677276611328,
                    7.0282511711120605,
                    15.555830001831055,
                    42.791446685791016,
                    -1.4388622045516968,
                    17.065860748291016,
                    -44.304466247558594,
                    -29.234703063964844,
                    47.14657211303711,
                    -2.297863006591797,
                    12.979952812194824,
                    29.31716537475586,
                    -35.7188835144043,
                    -47.558589935302734,
                    -33.643775939941406,
                    8.718774795532227,
                    26.314008712768555,
                    -37.26625061035156,
                    4.695735931396484,
                    29.5809268951416,
                    33.77903747558594,
                    20.81193733215332,
                    16.3929386138916,
                    29.07052993774414,
                    -25.342702865600586,
                    -19.45146369934082,
                    9.33564281463623,
                    9.765873908996582,
                    0.2035861760377884,
                    -5.464593410491943,
                    -25.31746482849121,
                    18.559301376342773,
                    -15.781274795532227,
                    -12.136646270751953,
                    -12.136646270751953,
                    -51.35867691040039,
                    -32.05992889404297,
                    15.579962730407715,
                    1.2360426187515259,
                    -11.898138999938965,
                    -23.02752685546875,
                    32.01738739013672,
                    -22.552541732788086,
                    -41.087005615234375,
                    33.79538345336914,
                    32.14289474487305,
                    -51.80601119995117,
                    16.29652214050293,
                    -24.156707763671875,
                    -27.649599075317383,
                    -21.22426986694336,
                    -18.430898666381836,
                    12.97297477722168,
                    24.225255966186523,
                    25.15625,
                    12.972975730895996,
                    33.46412658691406,
                    -10.667668342590332,
                    -54.637943267822266,
                    -51.656436920166016,
                    33.863956451416016,
                    -34.31229019165039,
                    12.244098663330078,
                    -36.28339385986328,
                    -35.46553421020508,
                    -13.595210075378418,
                    3.100370407104492,
                    -26.443445205688477,
                    -36.232093811035156,
                    -9.283645629882812,
                    0.761169970035553,
                    -42.09652328491211,
                    -11.774606704711914,
                    -15.76693344116211,
                    -1.138026475906372,
                    -40.8818244934082,
                    8.737908363342285,
                    -9.626561164855957,
                    -29.254287719726562,
                    -37.110206604003906,
                    -32.38030242919922,
                    -10.539867401123047,
                    5.433691501617432,
                    21.75353240966797,
                    21.86307716369629,
                    -5.167164325714111,
                    9.422471046447754,
                    -17.853450775146484,
                    15.558488845825195,
                    12.5826416015625,
                    22.26691436767578,
                    13.880843162536621,
                    9.742669105529785,
                    19.293142318725586,
                    -22.98750877380371,
                    3.1002907752990723,
                    -0.5094671845436096,
                    -10.60949420928955,
                    22.137117385864258,
                    0.9196661710739136,
                    -22.489837646484375,
                    -22.4898624420166,
                    -17.659423828125,
                    -17.016366958618164,
                    3.100398063659668,
                    20.219768524169922,
                    -10.732401847839355,
                    14.91171932220459,
                    22.01720428466797,
                    18.82642364501953,
                    10.665485382080078,
                    -20.60291290283203,
                    -26.976404190063477,
                    40.700904846191406,
                    -4.021339416503906,
                    -38.3486328125,
                    -10.322003364562988,
                    -36.48054504394531,
                    -11.148371696472168,
                    -23.899333953857422,
                    0.04864496737718582,
                    -13.00674819946289,
                    2.157932758331299,
                    -37.606956481933594,
                    4.255202770233154,
                    10.034046173095703,
                    -48.486385345458984,
                    -37.29680633544922,
                    14.598528861999512,
                    18.295351028442383,
                    -34.405601501464844,
                    17.38339614868164,
                    26.13030242919922,
                    20.046592712402344,
                    31.015993118286133,
                    26.27349090576172,
                    17.70648956298828,
                    22.297006607055664,
                    41.3939323425293,
                    26.551219940185547,
                    -29.830095291137695,
                    21.33928108215332,
                    8.408577919006348,
                    19.038782119750977,
                    8.231584548950195,
                    20.30547523498535,
                    19.132617950439453,
                    8.51551342010498,
                    33.122657775878906,
                    -28.035316467285156,
                    20.714963912963867,
                    25.511518478393555,
                    20.580209732055664,
                    21.080808639526367,
                    16.98518180847168,
                    26.92252540588379,
                    28.75159454345703,
                    -1.3516530990600586,
                    19.585264205932617,
                    22.412715911865234,
                    36.2078857421875,
                    26.618154525756836,
                    30.862213134765625,
                    33.86141586303711,
                    24.773754119873047,
                    27.424917221069336,
                    9.543296813964844,
                    1.7440438270568848,
                    -2.2120847702026367,
                    -45.98783874511719,
                    -17.27839469909668,
                    -37.601776123046875,
                    34.198177337646484,
                    -4.783692359924316,
                    1.7440439462661743,
                    30.42527961730957,
                    -33.31972122192383,
                    30.490489959716797,
                    -33.82564163208008,
                    -53.15568161010742,
                    -47.011322021484375,
                    -42.23488998413086,
                    2.1278955936431885,
                    10.267130851745605,
                    18.165130615234375,
                    6.217862129211426,
                    55.018524169921875,
                    -15.977760314941406,
                    -17.275646209716797,
                    28.851938247680664,
                    39.39039611816406,
                    54.7907829284668,
                    -35.954742431640625,
                    20.011463165283203,
                    44.274131774902344,
                    -4.790266513824463,
                    -10.996219635009766,
                    1.5327337980270386,
                    -46.28639602661133,
                    -8.989630699157715,
                    -31.814537048339844,
                    26.99601936340332,
                    23.382030487060547,
                    -50.21702575683594,
                    34.92356872558594,
                    -50.14265060424805,
                    14.45960521697998,
                    28.663911819458008,
                    -18.490705490112305,
                    -5.128720760345459,
                    -45.85703659057617,
                    22.400365829467773,
                    5.784109115600586,
                    48.895511627197266,
                    3.753993511199951,
                    6.01998233795166,
                    -1.1972134113311768,
                    -5.782403469085693,
                    56.77956771850586,
                    13.671616554260254,
                    13.740141868591309,
                    29.398550033569336,
                    34.83692169189453,
                    41.13261413574219,
                    -30.89484214782715,
                    26.834257125854492,
                    1.62431800365448,
                    -6.318720817565918,
                    7.434950351715088,
                    -16.67186737060547,
                    -48.67826843261719,
                    -36.477352142333984,
                    -12.403385162353516,
                    1.0367423295974731,
                    11.593951225280762,
                    52.93894577026367,
                    -10.592620849609375,
                    6.302601337432861,
                    9.374680519104004,
                    -2.5844836235046387,
                    -3.760638952255249,
                    19.862316131591797,
                    -50.067020416259766,
                    -22.844511032104492,
                    13.669148445129395,
                    21.0885009765625,
                    -0.8144882917404175,
                    16.128314971923828,
                    14.032734870910645,
                    14.8530855178833,
                    -2.2483766078948975,
                    -12.721026420593262,
                    23.805736541748047,
                    31.538270950317383,
                    47.9138298034668,
                    -46.152835845947266,
                    31.23491859436035,
                    -7.439164638519287,
                    -0.4902171194553375,
                    12.8492431640625,
                    27.787315368652344,
                    -15.946435928344727,
                    18.8201847076416,
                    -47.154762268066406,
                    -1.5488407611846924,
                    -10.025450706481934,
                    57.608951568603516,
                    -37.3756217956543,
                    24.80974578857422,
                    -52.823909759521484,
                    34.776729583740234,
                    31.9814453125,
                    -31.369476318359375,
                    19.52369499206543,
                    -20.66037940979004,
                    -29.45400619506836,
                    9.979911804199219,
                    -11.948590278625488,
                    -42.64453125,
                    9.507410049438477,
                    -22.588571548461914,
                    11.648828506469727,
                    -17.421112060546875,
                    23.249340057373047,
                    19.135046005249023,
                    -35.0893669128418,
                    -45.459590911865234,
                    -14.503254890441895,
                    17.94057846069336,
                    8.731725692749023,
                    27.29415512084961,
                    9.606887817382812,
                    15.4864501953125,
                    17.87468147277832,
                    1.0187828540802002,
                    10.229998588562012,
                    14.936095237731934,
                    11.077707290649414,
                    50.97162628173828,
                    -44.901649475097656,
                    32.259944915771484,
                    -15.090696334838867,
                    -23.116178512573242,
                    -26.110836029052734,
                    24.213003158569336,
                    -41.77751159667969,
                    27.973535537719727,
                    9.6905517578125,
                    3.7891242504119873,
                    25.950496673583984,
                    -43.16585922241211,
                    -14.543243408203125,
                    -31.63490104675293,
                    -1.5903873443603516,
                    25.218563079833984,
                    56.441715240478516,
                    53.386192321777344,
                    -42.04621887207031,
                    4.212191581726074,
                    4.142227649688721,
                    -36.90827941894531,
                    31.773717880249023,
                    -31.979961395263672,
                    27.078027725219727,
                    -11.137951850891113,
                    35.111549377441406,
                    -0.07112954556941986,
                    -23.925018310546875,
                    26.900447845458984,
                    17.825912475585938,
                    29.104862213134766,
                    27.358915328979492,
                    -16.43118667602539,
                    -35.91227340698242,
                    -42.99564743041992,
                    41.534942626953125,
                    34.0949592590332,
                    8.296309471130371,
                    23.309152603149414,
                    22.148263931274414,
                    -22.537397384643555,
                    -44.019874572753906,
                    -19.074417114257812,
                    12.038217544555664,
                    -37.5624885559082,
                    -33.30833053588867,
                    27.748502731323242,
                    8.412032127380371,
                    -54.94483947753906,
                    14.359854698181152,
                    -23.33939552307129,
                    10.048551559448242,
                    -16.191591262817383,
                    2.962538480758667,
                    45.810420989990234,
                    -40.41632080078125,
                    -7.837767124176025,
                    24.014638900756836,
                    -27.011457443237305,
                    -11.879018783569336,
                    -24.073715209960938,
                    -13.67569351196289,
                    -3.4948863983154297,
                    -11.541720390319824,
                    -34.101741790771484,
                    -14.968926429748535,
                    49.753597259521484,
                    -51.6019401550293,
                    -15.855239868164062,
                    -48.19688034057617,
                    51.39628219604492,
                    18.950376510620117,
                    34.395668029785156,
                    52.80104446411133,
                    7.6889448165893555,
                    41.529632568359375,
                    25.29343032836914,
                    22.862789154052734,
                    29.672409057617188,
                    18.563657760620117,
                    -20.2209415435791,
                    -47.33710479736328,
                    -31.762298583984375,
                    -32.584938049316406,
                    -26.97353744506836,
                    -25.733139038085938,
                    -14.9266357421875,
                    -28.405668258666992,
                    6.664751052856445,
                    19.42671775817871,
                    17.304229736328125,
                    -33.78109359741211,
                    23.31011962890625,
                    -37.1220817565918,
                    -33.1951789855957,
                    10.86585521697998,
                    -9.386284828186035,
                    -5.120744705200195,
                    29.28471565246582,
                    -47.450870513916016,
                    -23.616775512695312,
                    32.253196716308594,
                    53.768985748291016,
                    21.73053741455078,
                    34.765655517578125,
                    -28.395530700683594,
                    1.7108124494552612,
                    -41.85322189331055,
                    23.26991844177246,
                    -6.240172386169434,
                    -18.490711212158203,
                    -14.63702392578125,
                    -9.19308853149414,
                    13.36439037322998,
                    9.166528701782227,
                    12.146173477172852,
                    -17.881881713867188,
                    10.277301788330078,
                    -47.998863220214844,
                    -38.10002517700195,
                    -48.53485107421875,
                    -52.246917724609375,
                    -45.604515075683594,
                    -42.824119567871094,
                    9.938324928283691,
                    -4.536518096923828,
                    -4.6052374839782715,
                    -20.065338134765625,
                    17.353290557861328,
                    -44.6395378112793,
                    13.861842155456543,
                    -36.36456298828125,
                    -9.76998519897461,
                    -24.359350204467773,
                    -9.507158279418945,
                    -40.39521408081055,
                    -6.212362289428711,
                    -15.938420295715332,
                    23.16414451599121,
                    7.554569721221924,
                    23.0473575592041,
                    15.033604621887207,
                    9.2183198928833,
                    -4.814796447753906,
                    -0.8854121565818787,
                    -3.5586352348327637,
                    -5.318575859069824,
                    13.894145011901855,
                    7.6055684089660645,
                    1.8320409059524536,
                    -8.529240608215332,
                    22.443721771240234,
                    -8.817925453186035,
                    -35.229793548583984,
                    28.955150604248047,
                    7.553339004516602,
                    0.7221769690513611,
                    -7.917145252227783,
                    -1.456967830657959,
                    17.474506378173828,
                    -20.244497299194336,
                    -10.506856918334961,
                    -23.400724411010742,
                    -51.2846565246582,
                    17.569671630859375,
                    42.313533782958984,
                    -38.93182373046875,
                    -38.931766510009766,
                    -35.5909309387207,
                    18.59784698486328,
                    8.50204849243164,
                    -12.167560577392578,
                    -4.624962329864502,
                    15.401519775390625,
                    8.238761901855469,
                    56.27163314819336,
                    6.582977294921875,
                    28.968677520751953,
                    6.085134506225586,
                    6.970810890197754,
                    9.867515563964844,
                    -44.967308044433594,
                    31.759870529174805,
                    44.047279357910156,
                    -11.282292366027832,
                    25.614351272583008,
                    -23.447519302368164,
                    40.246421813964844,
                    -2.3105673789978027,
                    17.424774169921875,
                    -34.35633087158203,
                    3.694375514984131,
                    32.463417053222656,
                    -21.989662170410156,
                    0.07049292325973511,
                    26.578622817993164,
                    18.89999008178711,
                    -18.422832489013672,
                    36.23527145385742,
                    30.020673751831055,
                    38.000572204589844,
                    -22.97140884399414,
                    34.98995590209961,
                    31.53346061706543,
                    26.99445915222168,
                    44.23387145996094,
                    20.850561141967773,
                    -17.349720001220703,
                    31.708866119384766,
                    39.06861114501953,
                    24.73356056213379,
                    -25.58531951904297,
                    38.32556915283203,
                    32.02501678466797,
                    46.93064498901367,
                    -20.347198486328125,
                    33.74834442138672,
                    17.673234939575195,
                    -21.657533645629883,
                    6.721224308013916,
                    4.181204795837402,
                    14.216578483581543,
                    -16.360172271728516,
                    18.02389144897461,
                    6.055762767791748,
                    -1.738141655921936,
                    -50.028419494628906,
                    35.62482833862305,
                    -27.582172393798828,
                    -21.440547943115234,
                    -18.335140228271484,
                    -16.89884376525879,
                    -14.450173377990723,
                    20.49180793762207,
                    23.44972801208496,
                    -3.0902700424194336,
                    20.46065330505371,
                    25.365774154663086,
                    -10.734451293945312,
                    15.422496795654297,
                    -7.3901286125183105,
                    -8.401596069335938,
                    -13.132170677185059,
                    -33.58149337768555,
                    7.602333068847656,
                    -33.70017623901367,
                    9.45708179473877,
                    -15.06112003326416,
                    -1.1768428087234497,
                    -45.24481964111328,
                    15.83674430847168,
                    8.952923774719238,
                    -35.20425796508789,
                    -53.31378936767578,
                    28.44011116027832,
                    -19.252466201782227,
                    -4.679532051086426,
                    -12.745174407958984,
                    0.23442120850086212,
                    -5.3685832023620605,
                    -18.780502319335938,
                    5.6501240730285645,
                    14.41824722290039,
                    3.5163733959198,
                    24.25920295715332,
                    -22.293359756469727,
                    -3.1533362865448,
                    -20.68465805053711,
                    -20.684263229370117,
                    33.55756378173828,
                    -22.904808044433594,
                    -32.2646598815918,
                    13.465437889099121,
                    -33.238067626953125,
                    14.633848190307617,
                    14.512796401977539,
                    20.85503578186035,
                    -37.155208587646484,
                    57.42844772338867,
                    32.49463653564453,
                    -7.6230974197387695,
                    -10.028624534606934,
                    -41.11557388305664,
                    -16.627477645874023,
                    16.022750854492188,
                    -17.82506561279297,
                    -7.405011177062988,
                    -17.79955291748047,
                    28.9580078125,
                    32.870323181152344,
                    11.809539794921875,
                    22.96269416809082,
                    30.04296112060547,
                    34.45571517944336,
                    -43.78650665283203,
                    -5.164933204650879,
                    3.3128132820129395,
                    2.616680383682251,
                    2.7808921337127686,
                    -24.3868350982666,
                    3.3708550930023193,
                    2.948040008544922,
                    -26.740005493164062,
                    -48.10635757446289,
                    -1.8055979013442993,
                    34.98931884765625,
                    -19.968963623046875,
                    2.234598159790039,
                    -14.202618598937988,
                    -27.635007858276367,
                    -1.7708594799041748,
                    -9.361477851867676,
                    -23.30870819091797,
                    34.86967849731445,
                    -6.9710588455200195,
                    -9.039344787597656,
                    -29.42882537841797,
                    -20.550012588500977,
                    12.132353782653809,
                    22.97688865661621,
                    -21.500904083251953,
                    -25.331836700439453,
                    -40.671024322509766,
                    5.443979740142822,
                    -16.616313934326172,
                    -20.4209041595459,
                    37.13462448120117,
                    -16.703182220458984,
                    27.048084259033203,
                    31.241703033447266,
                    -8.282252311706543,
                    29.75937271118164,
                    19.720582962036133,
                    -13.096403121948242,
                    23.36615753173828,
                    38.47223663330078,
                    -39.126197814941406,
                    -8.064080238342285,
                    -16.97466468811035,
                    7.1763129234313965,
                    -17.78276824951172,
                    -29.616214752197266,
                    -9.230236053466797,
                    22.15357208251953,
                    9.6787691116333,
                    -29.07288932800293,
                    -3.978170871734619,
                    -37.04702377319336,
                    20.795900344848633,
                    12.929275512695312,
                    -29.565204620361328,
                    -32.57809829711914,
                    -38.10609817504883,
                    -20.828262329101562,
                    -20.82826042175293,
                    -26.504045486450195,
                    -51.85584259033203,
                    -30.0401668548584,
                    25.723804473876953,
                    23.4904727935791,
                    8.35743522644043,
                    24.273807525634766,
                    39.583980560302734,
                    -15.753588676452637,
                    8.613525390625,
                    9.517001152038574,
                    -9.550471305847168,
                    -45.25084686279297,
                    21.7822208404541,
                    -2.3476850986480713,
                    28.360092163085938,
                    22.25420379638672,
                    29.616405487060547,
                    -35.50957107543945,
                    28.214567184448242,
                    3.5011768341064453,
                    27.54686737060547,
                    -12.840598106384277,
                    8.642620086669922,
                    -19.2417049407959,
                    -17.062244415283203,
                    -28.909255981445312,
                    20.955322265625,
                    -4.935145854949951,
                    -44.68026351928711,
                    -20.099775314331055,
                    -50.7337532043457,
                    -4.522373676300049,
                    -1.5259430408477783,
                    16.996593475341797,
                    -1.4141541719436646,
                    28.14533805847168,
                    -28.14133644104004,
                    -6.362074851989746,
                    -13.228537559509277,
                    16.503183364868164,
                    -41.27290344238281,
                    4.9111857414245605,
                    -16.610881805419922,
                    -26.905723571777344,
                    -0.8642805218696594,
                    26.07557487487793,
                    9.147961616516113,
                    29.877464294433594,
                    -41.43724822998047,
                    30.51015281677246,
                    53.39509201049805,
                    -22.155532836914062,
                    19.55318260192871,
                    -23.964826583862305,
                    30.976369857788086,
                    39.71139144897461,
                    -3.956394672393799,
                    14.753920555114746,
                    31.519330978393555,
                    24.540559768676758,
                    32.64434051513672,
                    28.408273696899414,
                    -30.75728988647461,
                    17.919172286987305,
                    30.57763671875,
                    17.749141693115234,
                    48.812442779541016,
                    19.338054656982422,
                    9.476690292358398,
                    14.74461555480957,
                    -48.23847198486328,
                    -45.996055603027344,
                    -16.129493713378906,
                    -2.2779266834259033,
                    32.3154411315918,
                    -43.03152084350586,
                    37.456451416015625,
                    12.456427574157715,
                    -30.383291244506836,
                    -40.95323944091797,
                    -43.01158905029297,
                    16.165935516357422,
                    34.043540954589844,
                    24.963531494140625,
                    2.573650598526001,
                    22.550920486450195,
                    30.07163429260254,
                    -6.819891452789307,
                    -31.421438217163086,
                    -28.158693313598633,
                    28.852039337158203,
                    -18.741117477416992,
                    -14.972111701965332,
                    25.976774215698242,
                    43.610984802246094,
                    37.414974212646484,
                    38.248252868652344,
                    -12.610701560974121,
                    22.431442260742188,
                    13.184562683105469,
                    14.610411643981934,
                    2.2548904418945312,
                    39.58869171142578,
                    -45.10557556152344,
                    19.637937545776367,
                    -3.221062421798706,
                    49.54448318481445,
                    -48.89495086669922,
                    25.538799285888672,
                    -21.49288558959961,
                    -17.477306365966797,
                    -46.2568473815918,
                    23.788293838500977,
                    -21.023387908935547,
                    -7.164133548736572,
                    30.250272750854492,
                    25.441455841064453,
                    49.68830871582031,
                    23.207881927490234,
                    11.479684829711914,
                    24.657957077026367,
                    -26.105518341064453,
                    -1.9976667165756226,
                    -6.930498123168945,
                    32.85439682006836,
                    30.203777313232422,
                    -15.330385208129883,
                    -37.01423263549805,
                    -10.344502449035645,
                    -22.53543472290039,
                    17.968549728393555,
                    18.599897384643555,
                    -13.874528884887695,
                    35.168094635009766,
                    28.103540420532227,
                    -40.488033294677734,
                    -37.90473937988281,
                    20.171289443969727,
                    -2.9582860469818115,
                    -29.672069549560547,
                    55.521026611328125,
                    0.6343375444412231,
                    -10.969951629638672,
                    -33.09978103637695,
                    18.115774154663086,
                    16.61128044128418,
                    -1.8753706216812134,
                    -28.250211715698242,
                    7.56735372543335,
                    -33.10016632080078,
                    -46.019779205322266,
                    51.785377502441406,
                    33.68894577026367,
                    -45.383358001708984,
                    29.091806411743164,
                    28.52324867248535,
                    -38.44113540649414,
                    10.378625869750977,
                    7.355309963226318,
                    13.212608337402344,
                    -0.507209300994873,
                    6.899082183837891,
                    1.2516695261001587,
                    -36.4798469543457,
                    -3.0059778690338135,
                    1.906477928161621,
                    -28.437047958374023,
                    -44.778507232666016,
                    1.7476999759674072,
                    1.9659687280654907,
                    30.924556732177734,
                    -8.494097709655762,
                    15.396480560302734,
                    21.794822692871094,
                    49.85125732421875,
                    24.338611602783203,
                    8.562481880187988,
                    7.29474401473999,
                    24.480710983276367,
                    13.240680694580078,
                    -19.012792587280273,
                    -5.53120756149292,
                    -20.10042953491211,
                    10.87047004699707,
                    18.735233306884766,
                    22.799808502197266,
                    13.07731819152832,
                    15.602644920349121,
                    22.955554962158203,
                    -44.165462493896484,
                    14.620362281799316,
                    8.23275089263916,
                    28.695940017700195,
                    7.848167896270752,
                    -15.890938758850098,
                    -34.3770637512207,
                    22.189130783081055,
                    21.47620964050293,
                    -34.79024124145508,
                    -6.009655952453613,
                    -13.896255493164062,
                    -35.20238494873047,
                    15.334134101867676,
                    -26.721813201904297,
                    -6.940921306610107,
                    11.59383773803711,
                    3.7539222240448,
                    21.862293243408203,
                    -14.730342864990234,
                    9.96377944946289,
                    9.340709686279297,
                    -33.767478942871094,
                    -9.141758918762207,
                    -23.05190086364746,
                    -10.411307334899902,
                    -40.307861328125,
                    -8.716412544250488,
                    30.773595809936523,
                    16.087486267089844,
                    38.06885528564453,
                    22.036434173583984,
                    14.813913345336914,
                    -21.929264068603516,
                    28.481876373291016,
                    -52.704193115234375,
                    -24.057973861694336,
                    -37.56450653076172,
                    -34.14267349243164,
                    -35.73054504394531,
                    -26.769941329956055,
                    -41.2102165222168,
                    9.043051719665527,
                    -21.323625564575195,
                    -4.60523796081543,
                    -35.5865478515625,
                    -32.94157791137695,
                    -47.858299255371094,
                    -18.65007209777832,
                    -29.401235580444336,
                    -32.979148864746094,
                    -47.0401725769043,
                    -33.90524673461914,
                    -46.88431930541992,
                    -15.363648414611816,
                    -5.451109886169434,
                    35.35072708129883,
                    6.191999435424805,
                    -43.49241638183594,
                    -20.26207160949707,
                    -2.0211803913116455,
                    -24.50371551513672,
                    22.40938949584961,
                    19.379331588745117,
                    50.9766960144043,
                    0.41457369923591614,
                    -41.54719161987305,
                    -5.4453511238098145,
                    5.661803722381592,
                    -48.47712326049805,
                    2.5097930431365967,
                    -12.066093444824219,
                    -4.8305535316467285,
                    35.12493896484375,
                    0.693572998046875,
                    -19.534412384033203,
                    39.954139709472656,
                    -47.06362533569336,
                    -11.084874153137207,
                    -15.645868301391602,
                    -11.118216514587402,
                    -22.016592025756836,
                    -25.346162796020508,
                    -9.386231422424316,
                    -25.7421932220459,
                    36.23543930053711,
                    36.235389709472656,
                    10.441612243652344,
                    24.38182830810547,
                    19.21626091003418,
                    -23.881582260131836,
                    -10.363777160644531,
                    28.057504653930664,
                    12.55982780456543,
                    8.767245292663574,
                    24.38831901550293,
                    47.14645004272461,
                    -1.2608344554901123,
                    -39.080135345458984,
                    35.706207275390625,
                    16.80827522277832,
                    28.478710174560547,
                    -29.081369400024414,
                    26.70039176940918,
                    51.472965240478516,
                    -38.492919921875,
                    30.352705001831055,
                    15.049097061157227,
                    23.372716903686523,
                    -16.26451873779297,
                    32.846954345703125,
                    -40.83326721191406,
                    -41.371315002441406,
                    23.548187255859375,
                    27.846338272094727,
                    33.29925537109375,
                    -10.382000923156738,
                    30.806140899658203,
                    -9.438725471496582,
                    -38.871849060058594,
                    26.47234344482422,
                    22.293916702270508,
                    -7.4460601806640625,
                    50.97166442871094,
                    -38.69881820678711,
                    -44.46507263183594,
                    55.84843063354492,
                    -25.85488510131836,
                    -29.611465454101562,
                    42.79159164428711,
                    11.899713516235352,
                    8.418102264404297,
                    9.20091724395752,
                    29.86532211303711,
                    -32.43537902832031,
                    22.72034454345703,
                    22.885835647583008,
                    -29.0813045501709,
                    -46.25654983520508,
                    17.849760055541992,
                    47.59614181518555,
                    21.070955276489258,
                    -10.554816246032715,
                    -41.291969299316406,
                    27.11902618408203,
                    -20.1884708404541,
                    -40.386444091796875,
                    26.26426124572754,
                    19.666065216064453,
                    -17.78289222717285,
                    38.61642837524414,
                    -52.08612823486328,
                    1.1778368949890137,
                    -41.25604248046875,
                    30.583187103271484,
                    -31.228633880615234,
                    29.633716583251953,
                    -19.925418853759766,
                    -24.32853126525879,
                    -10.958070755004883,
                    -17.324892044067383,
                    -52.90201950073242,
                    -18.767221450805664,
                    -5.580984115600586,
                    -3.7898740768432617,
                    -15.858052253723145,
                    27.692590713500977,
                    38.51939010620117,
                    5.172581195831299,
                    11.818717956542969,
                    -22.016592025756836,
                    9.489720344543457,
                    -12.783543586730957,
                    0.23025530576705933,
                    12.800240516662598,
                    7.294743537902832,
                    -2.995231866836548,
                    -3.1941750049591064,
                    11.258207321166992,
                    -1.3274247646331787,
                    36.02559280395508,
                    -20.298095703125,
                    30.24837875366211,
                    -3.3260557651519775,
                    -13.91641902923584,
                    29.920198440551758,
                    30.27082633972168,
                    30.27544593811035,
                    37.92617416381836,
                    16.42184829711914,
                    -3.4606997966766357,
                    13.184562683105469,
                    29.286418914794922,
                    29.113677978515625,
                    23.86298942565918,
                    -53.221923828125,
                    2.1946682929992676,
                    29.853750228881836,
                    23.815547943115234,
                    -0.38700973987579346,
                    26.803340911865234,
                    -2.680148124694824,
                    -48.032379150390625,
                    56.46826171875,
                    19.787817001342773,
                    1.4325075149536133,
                    19.126142501831055,
                    -9.60533618927002,
                    -20.757862091064453,
                    12.668437004089355,
                    10.058910369873047,
                    -12.332500457763672,
                    -23.350116729736328,
                    -37.3930778503418,
                    -46.084224700927734,
                    -39.449222564697266,
                    -21.252666473388672,
                    -27.074535369873047,
                    -46.28633499145508,
                    21.119916915893555,
                    -20.54169273376465,
                    -33.227256774902344,
                    23.18161392211914,
                    14.777392387390137,
                    -38.08915710449219,
                    -5.546745300292969,
                    -34.304664611816406,
                    5.085646152496338,
                    -33.22727584838867,
                    -22.982868194580078,
                    19.810436248779297,
                    8.808539390563965,
                    -50.552391052246094,
                    -22.3183650970459,
                    -32.76686477661133,
                    37.63471984863281,
                    24.227693557739258,
                    35.131996154785156,
                    27.565372467041016,
                    -4.873544216156006,
                    15.622498512268066,
                    15.056700706481934,
                    31.19887351989746,
                    29.17371940612793,
                    29.198923110961914,
                    -12.165656089782715,
                    11.06744384765625,
                    31.49180793762207,
                    -31.47079849243164,
                    31.03380584716797,
                    4.042703151702881,
                    31.405582427978516,
                    11.642126083374023,
                    6.66439962387085,
                    -19.679420471191406,
                    26.4757022857666,
                    -29.566436767578125,
                    -51.79355239868164,
                    -10.984030723571777,
                    15.824015617370605,
                    11.637043952941895,
                    -21.63336753845215,
                    -31.105623245239258,
                    7.92241907119751,
                    -20.62500762939453,
                    -22.33699607849121,
                    51.816368103027344,
                    -14.626251220703125,
                    10.599910736083984,
                    1.5830401182174683,
                    53.78860855102539,
                    -14.260931968688965,
                    -52.02659225463867,
                    14.052350997924805,
                    29.85573959350586,
                    -43.98734664916992,
                    22.99098014831543,
                    9.94872760772705,
                    -9.139412879943848,
                    -17.73128890991211,
                    -6.497474670410156,
                    -42.2681884765625,
                    2.0082175731658936,
                    -1.197812557220459,
                    24.425901412963867,
                    -29.618091583251953,
                    50.852027893066406,
                    -45.231201171875,
                    -14.75104808807373,
                    20.908615112304688,
                    -2.48818302154541,
                    -42.23914337158203,
                    -15.567946434020996,
                    -23.192176818847656,
                    -27.775272369384766,
                    -47.5014762878418,
                    -47.009559631347656,
                    19.161760330200195,
                    27.885299682617188,
                    27.963560104370117,
                    14.215319633483887,
                    27.891050338745117,
                    51.83420181274414,
                    -17.57178497314453,
                    3.9773964881896973,
                    38.735042572021484,
                    15.131882667541504,
                    15.158700942993164,
                    39.29463577270508,
                    -4.987510681152344,
                    21.41545295715332,
                    -5.872996807098389,
                    -37.561214447021484,
                    2.681579113006592,
                    8.381525039672852,
                    -33.29093551635742,
                    21.70613670349121,
                    -27.963504791259766,
                    -14.099918365478516,
                    24.430355072021484,
                    -49.84769821166992,
                    15.002650260925293,
                    15.025679588317871,
                    1.3236850500106812,
                    22.00922393798828,
                    -49.51829528808594,
                    18.923847198486328,
                    22.565675735473633,
                    26.680206298828125,
                    18.71488380432129,
                    -21.657634735107422,
                    5.263789176940918,
                    -39.890220642089844,
                    -37.20529556274414,
                    -8.205348014831543,
                    26.869667053222656,
                    32.468353271484375,
                    -10.927519798278809,
                    13.834941864013672,
                    -10.595735549926758,
                    -39.89025115966797,
                    22.32430076599121,
                    -10.708450317382812,
                    -37.38337326049805,
                    -10.813150405883789,
                    -11.330392837524414,
                    -1.0426726341247559,
                    -9.511414527893066,
                    -17.30281639099121,
                    -48.950496673583984,
                    34.341129302978516,
                    -44.65877914428711,
                    33.96487808227539,
                    -36.271583557128906,
                    53.75904083251953,
                    12.2656831741333,
                    -22.127851486206055,
                    9.58853816986084,
                    20.23579978942871,
                    -29.030803680419922,
                    15.61117172241211,
                    21.924238204956055,
                    -8.501602172851562,
                    13.090093612670898,
                    43.31531524658203,
                    24.096179962158203,
                    7.198009014129639,
                    27.605167388916016,
                    36.5624885559082,
                    13.84542465209961,
                    -29.234703063964844,
                    4.372794151306152,
                    6.373140811920166,
                    26.197725296020508,
                    -42.51161575317383,
                    20.14381980895996,
                    29.768362045288086,
                    -17.884265899658203,
                    -17.815467834472656,
                    -44.18234634399414,
                    14.282413482666016,
                    21.336362838745117,
                    27.69872283935547,
                    32.913734436035156,
                    54.655311584472656,
                    -36.04718780517578,
                    32.561397552490234,
                    -19.293928146362305,
                    -36.181800842285156,
                    18.919458389282227,
                    -39.3859748840332,
                    1.9911348819732666,
                    -10.821232795715332,
                    12.389446258544922,
                    26.23151969909668,
                    -16.191162109375,
                    51.63615036010742,
                    -7.093250274658203,
                    0.6146757006645203,
                    26.259061813354492,
                    15.618062973022461,
                    -34.49906539916992,
                    -37.876712799072266,
                    -17.72187042236328,
                    25.745901107788086,
                    13.806819915771484,
                    7.608224391937256,
                    -43.293861389160156,
                    -11.728497505187988,
                    -22.82232093811035,
                    35.6363639831543,
                    8.554930686950684,
                    -46.630165100097656,
                    -6.660580635070801,
                    -13.3555269241333,
                    6.848891735076904,
                    -35.19632339477539,
                    24.486433029174805,
                    -47.179447174072266,
                    -35.83721923828125,
                    -48.96299362182617,
                    1.1271436214447021,
                    14.221869468688965,
                    14.756854057312012,
                    -47.337093353271484,
                    -21.771480560302734,
                    12.65110969543457,
                    3.9160239696502686,
                    37.317989349365234,
                    5.904883861541748,
                    -46.22002029418945,
                    -19.54191017150879,
                    -21.676254272460938,
                    -31.648197174072266,
                    -50.914093017578125,
                    18.20257568359375,
                    33.007179260253906,
                    23.99549102783203,
                    -42.806949615478516,
                    17.89579200744629,
                    -6.643232345581055,
                    24.327117919921875,
                    -23.25579833984375,
                    0.8743464350700378,
                    -0.3918003737926483,
                    -1.9233466386795044,
                    -24.325233459472656,
                    -24.302261352539062,
                    -24.90273666381836,
                    15.941895484924316,
                    -15.565009117126465,
                    -16.209495544433594,
                    12.972977638244629,
                    19.510257720947266,
                    25.325454711914062,
                    31.118581771850586,
                    -9.662077903747559,
                    20.114709854125977,
                    19.382144927978516,
                    1.159409999847412,
                    -37.20899963378906,
                    36.04498291015625,
                    -23.357406616210938,
                    -43.60102844238281,
                    -44.49843978881836,
                    29.676023483276367,
                    -48.93479919433594,
                    -8.032123565673828,
                    -9.055816650390625,
                    -16.93252182006836,
                    -19.05625343322754,
                    32.68085861206055,
                    31.88241958618164,
                    25.868499755859375,
                    -34.28644561767578,
                    -10.00413990020752,
                    16.21026039123535,
                    -24.951007843017578,
                    -5.079370021820068,
                    -56.426963806152344,
                    -2.2322521209716797,
                    1.9615546464920044,
                    32.39183807373047,
                    -23.905071258544922,
                    -23.355934143066406,
                    -54.258792877197266,
                    5.853754043579102,
                    -38.0920524597168,
                    -0.06908227503299713,
                    -17.146181106567383,
                    9.892557144165039,
                    -18.865346908569336,
                    -49.36726760864258,
                    -55.28440475463867,
                    13.61705207824707,
                    -4.9627509117126465,
                    -9.162925720214844,
                    20.396759033203125,
                    41.615631103515625,
                    -34.41440963745117,
                    -26.654529571533203,
                    17.083932876586914,
                    9.89255428314209,
                    -34.040164947509766,
                    -20.1138858795166,
                    -23.372100830078125,
                    -49.068389892578125,
                    14.642684936523438,
                    1.2080808877944946,
                    -14.626252174377441,
                    39.00151824951172,
                    -39.89776611328125,
                    -5.010345935821533,
                    -52.018470764160156,
                    4.507525444030762,
                    27.6082820892334,
                    33.72089767456055,
                    -40.09387969970703,
                    -30.593074798583984,
                    17.21179962158203,
                    22.614017486572266,
                    9.964214324951172,
                    11.286974906921387,
                    -29.757568359375,
                    -40.99470520019531,
                    -47.8265266418457,
                    -14.822211265563965,
                    -36.19974899291992,
                    -38.10395431518555,
                    -30.49136734008789,
                    -18.54310417175293,
                    -31.821426391601562,
                    -52.727542877197266,
                    3.374873161315918,
                    -40.980037689208984,
                    33.0092658996582,
                    -16.474950790405273,
                    20.167526245117188,
                    -14.507088661193848,
                    25.157215118408203,
                    12.8632230758667,
                    19.09043312072754,
                    -8.151633262634277,
                    3.335142135620117,
                    19.606212615966797,
                    42.100406646728516,
                    9.977987289428711,
                    -54.51493453979492,
                    31.48349380493164,
                    39.40092468261719,
                    36.961578369140625,
                    40.7340202331543,
                    50.21697998046875,
                    37.053688049316406,
                    44.85013198852539,
                    -8.746384620666504,
                    -14.544168472290039,
                    -51.516658782958984,
                    -34.465763092041016,
                    -46.96044158935547,
                    -24.63481330871582,
                    45.36473846435547,
                    -49.73325729370117,
                    -35.8231201171875,
                    -23.8815860748291,
                    -35.96222686767578,
                    -45.0400390625,
                    -48.525142669677734,
                    0.8261691927909851,
                    23.42751121520996,
                    -4.239202976226807,
                    26.768007278442383,
                    -29.885360717773438,
                    -29.693557739257812,
                    7.589652061462402,
                    -22.387950897216797,
                    23.3214054107666,
                    28.07912826538086,
                    27.030635833740234,
                    9.912639617919922,
                    -43.144874572753906,
                    -1.848228096961975,
                    -7.304083347320557,
                    -17.65235137939453,
                    -17.2999324798584,
                    -32.82965087890625,
                    -16.807790756225586,
                    22.49632453918457,
                    -15.53665542602539,
                    16.22022819519043,
                    -15.178154945373535,
                    -17.95543670654297,
                    -24.660818099975586,
                    20.316478729248047,
                    1.8455241918563843,
                    -11.943326950073242,
                    -21.069828033447266,
                    -26.69379425048828,
                    50.865013122558594,
                    34.790496826171875,
                    -26.48212432861328,
                    -24.900346755981445,
                    40.968318939208984,
                    8.111590385437012,
                    34.64883041381836,
                    2.3984317779541016,
                    -40.56261444091797,
                    38.24700927734375,
                    40.47700119018555,
                    34.522769927978516,
                    12.192893981933594,
                    24.933637619018555,
                    33.00510025024414,
                    34.659095764160156,
                    24.96475601196289,
                    10.349711418151855,
                    34.517330169677734,
                    -3.9810385704040527,
                    18.02743911743164,
                    -33.54248809814453,
                    -47.41892623901367,
                    -15.54831600189209,
                    -3.9091720581054688,
                    51.25439453125,
                    -41.095149993896484,
                    -42.72408676147461,
                    -18.30202293395996,
                    33.32784652709961,
                    -51.31797790527344,
                    -39.46516418457031,
                    37.88383483886719,
                    50.7022819519043,
                    48.794708251953125,
                    20.42167091369629,
                    47.054595947265625,
                    -37.828556060791016,
                    -8.058408737182617,
                    -12.362961769104004,
                    -45.709938049316406,
                    36.0426025390625,
                    -24.197675704956055,
                    9.42648696899414,
                    20.85772705078125,
                    27.686046600341797,
                    6.357080936431885,
                    26.408845901489258,
                    5.119147300720215,
                    20.22644805908203,
                    37.86785888671875,
                    -14.824727058410645,
                    -27.0277099609375,
                    38.956111907958984,
                    -3.276228189468384,
                    -16.611406326293945,
                    13.86051082611084,
                    -52.76701354980469,
                    -30.713951110839844,
                    22.11958122253418,
                    31.455223083496094,
                    -7.916187763214111,
                    -22.37244415283203,
                    -22.197587966918945,
                    -21.142820358276367,
                    -40.272151947021484,
                    29.54673194885254,
                    29.48365592956543,
                    -23.58907127380371,
                    -26.044702529907227,
                    8.141863822937012,
                    -5.782459735870361,
                    23.217941284179688,
                    -41.72579574584961,
                    -15.258857727050781,
                    2.020883083343506,
                    11.795670509338379,
                    17.954715728759766,
                    -34.27006149291992,
                    -33.397090911865234,
                    -23.628307342529297,
                    -25.68576431274414,
                    -49.254356384277344,
                    -43.22821807861328,
                    20.7096004486084,
                    -47.894657135009766,
                    15.431453704833984,
                    -38.972496032714844,
                    -31.46270179748535,
                    -43.248985290527344,
                    11.00955867767334,
                    23.82223129272461,
                    -10.146306037902832,
                    -12.99317455291748,
                    28.77247428894043,
                    -22.613861083984375,
                    12.290427207946777,
                    -52.897403717041016,
                    -10.667415618896484,
                    -16.696571350097656,
                    -29.81319808959961,
                    21.261512756347656,
                    15.889097213745117,
                    -49.128684997558594,
                    -37.0110969543457,
                    26.18089485168457,
                    50.37322998046875,
                    51.170772552490234,
                    -8.843204498291016,
                    28.48517608642578,
                    29.343042373657227,
                    -33.524051666259766,
                    -30.088788986206055,
                    -1.202127456665039,
                    -0.5791261792182922,
                    -17.328449249267578,
                    -36.19925308227539,
                    39.76922607421875,
                    36.65525436401367,
                    -30.50851821899414,
                    25.758955001831055,
                    23.401504516601562,
                    16.377355575561523,
                    -30.14026641845703,
                    -4.399868488311768,
                    -29.188016891479492,
                    7.8621320724487305,
                    51.139556884765625,
                    -5.3983683586120605,
                    -44.47415542602539,
                    17.83669662475586,
                    43.48524856567383,
                    9.456482887268066,
                    42.32560348510742,
                    -4.833667755126953,
                    -13.330587387084961,
                    34.447505950927734,
                    27.874027252197266,
                    30.579208374023438,
                    26.32158660888672,
                    14.451093673706055,
                    -53.1592903137207,
                    19.986957550048828,
                    10.024201393127441,
                    -30.067018508911133,
                    -25.108367919921875,
                    -28.2435245513916,
                    -21.500789642333984,
                    -27.087526321411133,
                    29.732145309448242,
                    40.02745056152344,
                    22.186485290527344,
                    32.99616622924805,
                    43.678714752197266,
                    -4.824544429779053,
                    34.76654052734375,
                    27.122854232788086,
                    34.497737884521484,
                    41.192134857177734,
                    10.613092422485352,
                    36.66817855834961,
                    37.039085388183594,
                    -26.74236488342285,
                    42.251094818115234,
                    38.571815490722656,
                    34.975975036621094,
                    38.45035934448242,
                    43.443721771240234,
                    16.016508102416992,
                    -14.70964241027832,
                    23.589794158935547,
                    23.04555892944336,
                    -1.8966481685638428,
                    51.21516799926758,
                    20.559825897216797,
                    -1.023188591003418,
                    22.13165283203125,
                    -27.273300170898438,
                    -13.132603645324707,
                    34.55856704711914,
                    -10.59144115447998,
                    26.749862670898438,
                    26.800073623657227,
                    -41.939491271972656,
                    23.98661231994629,
                    -32.254398345947266,
                    0.46541187167167664,
                    38.20674514770508,
                    -34.3770751953125,
                    39.2067756652832,
                    -17.34226417541504,
                    33.23343276977539,
                    10.915852546691895,
                    4.167544364929199,
                    28.347888946533203,
                    -18.330913543701172,
                    -19.623611450195312,
                    -9.468748092651367,
                    -13.67099666595459,
                    -29.232820510864258,
                    -9.33535385131836,
                    -25.693069458007812,
                    52.488094329833984,
                    25.403188705444336,
                    53.376747131347656,
                    23.522245407104492,
                    -28.24213981628418,
                    -29.546112060546875,
                    33.3032112121582,
                    -12.468085289001465,
                    35.35107421875,
                    7.370708465576172,
                    5.6290411949157715,
                    -14.248486518859863,
                    -11.272848129272461,
                    22.146404266357422,
                    20.803091049194336,
                    -28.772968292236328,
                    -19.571657180786133,
                    10.163008689880371,
                    22.451416015625,
                    -35.89909362792969,
                    15.357548713684082,
                    6.196756839752197,
                    -11.123427391052246,
                    -11.310037612915039,
                    -2.9116320610046387,
                    31.869739532470703,
                    -35.52566909790039,
                    14.640761375427246,
                    49.783164978027344,
                    -31.412708282470703,
                    24.748567581176758,
                    -37.35304641723633,
                    24.38797378540039,
                    -16.831649780273438,
                    32.41596984863281,
                    18.986862182617188,
                    -9.230245590209961,
                    13.359816551208496,
                    15.096741676330566,
                    22.644258499145508,
                    -30.886520385742188,
                    -34.56509017944336,
                    -44.33743667602539,
                    9.204643249511719,
                    19.005353927612305,
                    -43.60087585449219,
                    -2.4714980125427246,
                    21.80232048034668,
                    45.35096740722656,
                    34.828582763671875
                  ],
                  "yaxis": "y"
                }
              ],
              "layout": {
                "coloraxis": {
                  "colorbar": {
                    "title": {
                      "text": "cluster"
                    }
                  },
                  "colorscale": [
                    [
                      0,
                      "#0d0887"
                    ],
                    [
                      0.1111111111111111,
                      "#46039f"
                    ],
                    [
                      0.2222222222222222,
                      "#7201a8"
                    ],
                    [
                      0.3333333333333333,
                      "#9c179e"
                    ],
                    [
                      0.4444444444444444,
                      "#bd3786"
                    ],
                    [
                      0.5555555555555556,
                      "#d8576b"
                    ],
                    [
                      0.6666666666666666,
                      "#ed7953"
                    ],
                    [
                      0.7777777777777778,
                      "#fb9f3a"
                    ],
                    [
                      0.8888888888888888,
                      "#fdca26"
                    ],
                    [
                      1,
                      "#f0f921"
                    ]
                  ]
                },
                "legend": {
                  "tracegroupgap": 0
                },
                "margin": {
                  "t": 60
                },
                "template": {
                  "data": {
                    "bar": [
                      {
                        "error_x": {
                          "color": "#2a3f5f"
                        },
                        "error_y": {
                          "color": "#2a3f5f"
                        },
                        "marker": {
                          "line": {
                            "color": "#E5ECF6",
                            "width": 0.5
                          }
                        },
                        "type": "bar"
                      }
                    ],
                    "barpolar": [
                      {
                        "marker": {
                          "line": {
                            "color": "#E5ECF6",
                            "width": 0.5
                          }
                        },
                        "type": "barpolar"
                      }
                    ],
                    "carpet": [
                      {
                        "aaxis": {
                          "endlinecolor": "#2a3f5f",
                          "gridcolor": "white",
                          "linecolor": "white",
                          "minorgridcolor": "white",
                          "startlinecolor": "#2a3f5f"
                        },
                        "baxis": {
                          "endlinecolor": "#2a3f5f",
                          "gridcolor": "white",
                          "linecolor": "white",
                          "minorgridcolor": "white",
                          "startlinecolor": "#2a3f5f"
                        },
                        "type": "carpet"
                      }
                    ],
                    "choropleth": [
                      {
                        "colorbar": {
                          "outlinewidth": 0,
                          "ticks": ""
                        },
                        "type": "choropleth"
                      }
                    ],
                    "contour": [
                      {
                        "colorbar": {
                          "outlinewidth": 0,
                          "ticks": ""
                        },
                        "colorscale": [
                          [
                            0,
                            "#0d0887"
                          ],
                          [
                            0.1111111111111111,
                            "#46039f"
                          ],
                          [
                            0.2222222222222222,
                            "#7201a8"
                          ],
                          [
                            0.3333333333333333,
                            "#9c179e"
                          ],
                          [
                            0.4444444444444444,
                            "#bd3786"
                          ],
                          [
                            0.5555555555555556,
                            "#d8576b"
                          ],
                          [
                            0.6666666666666666,
                            "#ed7953"
                          ],
                          [
                            0.7777777777777778,
                            "#fb9f3a"
                          ],
                          [
                            0.8888888888888888,
                            "#fdca26"
                          ],
                          [
                            1,
                            "#f0f921"
                          ]
                        ],
                        "type": "contour"
                      }
                    ],
                    "contourcarpet": [
                      {
                        "colorbar": {
                          "outlinewidth": 0,
                          "ticks": ""
                        },
                        "type": "contourcarpet"
                      }
                    ],
                    "heatmap": [
                      {
                        "colorbar": {
                          "outlinewidth": 0,
                          "ticks": ""
                        },
                        "colorscale": [
                          [
                            0,
                            "#0d0887"
                          ],
                          [
                            0.1111111111111111,
                            "#46039f"
                          ],
                          [
                            0.2222222222222222,
                            "#7201a8"
                          ],
                          [
                            0.3333333333333333,
                            "#9c179e"
                          ],
                          [
                            0.4444444444444444,
                            "#bd3786"
                          ],
                          [
                            0.5555555555555556,
                            "#d8576b"
                          ],
                          [
                            0.6666666666666666,
                            "#ed7953"
                          ],
                          [
                            0.7777777777777778,
                            "#fb9f3a"
                          ],
                          [
                            0.8888888888888888,
                            "#fdca26"
                          ],
                          [
                            1,
                            "#f0f921"
                          ]
                        ],
                        "type": "heatmap"
                      }
                    ],
                    "heatmapgl": [
                      {
                        "colorbar": {
                          "outlinewidth": 0,
                          "ticks": ""
                        },
                        "colorscale": [
                          [
                            0,
                            "#0d0887"
                          ],
                          [
                            0.1111111111111111,
                            "#46039f"
                          ],
                          [
                            0.2222222222222222,
                            "#7201a8"
                          ],
                          [
                            0.3333333333333333,
                            "#9c179e"
                          ],
                          [
                            0.4444444444444444,
                            "#bd3786"
                          ],
                          [
                            0.5555555555555556,
                            "#d8576b"
                          ],
                          [
                            0.6666666666666666,
                            "#ed7953"
                          ],
                          [
                            0.7777777777777778,
                            "#fb9f3a"
                          ],
                          [
                            0.8888888888888888,
                            "#fdca26"
                          ],
                          [
                            1,
                            "#f0f921"
                          ]
                        ],
                        "type": "heatmapgl"
                      }
                    ],
                    "histogram": [
                      {
                        "marker": {
                          "colorbar": {
                            "outlinewidth": 0,
                            "ticks": ""
                          }
                        },
                        "type": "histogram"
                      }
                    ],
                    "histogram2d": [
                      {
                        "colorbar": {
                          "outlinewidth": 0,
                          "ticks": ""
                        },
                        "colorscale": [
                          [
                            0,
                            "#0d0887"
                          ],
                          [
                            0.1111111111111111,
                            "#46039f"
                          ],
                          [
                            0.2222222222222222,
                            "#7201a8"
                          ],
                          [
                            0.3333333333333333,
                            "#9c179e"
                          ],
                          [
                            0.4444444444444444,
                            "#bd3786"
                          ],
                          [
                            0.5555555555555556,
                            "#d8576b"
                          ],
                          [
                            0.6666666666666666,
                            "#ed7953"
                          ],
                          [
                            0.7777777777777778,
                            "#fb9f3a"
                          ],
                          [
                            0.8888888888888888,
                            "#fdca26"
                          ],
                          [
                            1,
                            "#f0f921"
                          ]
                        ],
                        "type": "histogram2d"
                      }
                    ],
                    "histogram2dcontour": [
                      {
                        "colorbar": {
                          "outlinewidth": 0,
                          "ticks": ""
                        },
                        "colorscale": [
                          [
                            0,
                            "#0d0887"
                          ],
                          [
                            0.1111111111111111,
                            "#46039f"
                          ],
                          [
                            0.2222222222222222,
                            "#7201a8"
                          ],
                          [
                            0.3333333333333333,
                            "#9c179e"
                          ],
                          [
                            0.4444444444444444,
                            "#bd3786"
                          ],
                          [
                            0.5555555555555556,
                            "#d8576b"
                          ],
                          [
                            0.6666666666666666,
                            "#ed7953"
                          ],
                          [
                            0.7777777777777778,
                            "#fb9f3a"
                          ],
                          [
                            0.8888888888888888,
                            "#fdca26"
                          ],
                          [
                            1,
                            "#f0f921"
                          ]
                        ],
                        "type": "histogram2dcontour"
                      }
                    ],
                    "mesh3d": [
                      {
                        "colorbar": {
                          "outlinewidth": 0,
                          "ticks": ""
                        },
                        "type": "mesh3d"
                      }
                    ],
                    "parcoords": [
                      {
                        "line": {
                          "colorbar": {
                            "outlinewidth": 0,
                            "ticks": ""
                          }
                        },
                        "type": "parcoords"
                      }
                    ],
                    "pie": [
                      {
                        "automargin": true,
                        "type": "pie"
                      }
                    ],
                    "scatter": [
                      {
                        "marker": {
                          "colorbar": {
                            "outlinewidth": 0,
                            "ticks": ""
                          }
                        },
                        "type": "scatter"
                      }
                    ],
                    "scatter3d": [
                      {
                        "line": {
                          "colorbar": {
                            "outlinewidth": 0,
                            "ticks": ""
                          }
                        },
                        "marker": {
                          "colorbar": {
                            "outlinewidth": 0,
                            "ticks": ""
                          }
                        },
                        "type": "scatter3d"
                      }
                    ],
                    "scattercarpet": [
                      {
                        "marker": {
                          "colorbar": {
                            "outlinewidth": 0,
                            "ticks": ""
                          }
                        },
                        "type": "scattercarpet"
                      }
                    ],
                    "scattergeo": [
                      {
                        "marker": {
                          "colorbar": {
                            "outlinewidth": 0,
                            "ticks": ""
                          }
                        },
                        "type": "scattergeo"
                      }
                    ],
                    "scattergl": [
                      {
                        "marker": {
                          "colorbar": {
                            "outlinewidth": 0,
                            "ticks": ""
                          }
                        },
                        "type": "scattergl"
                      }
                    ],
                    "scattermapbox": [
                      {
                        "marker": {
                          "colorbar": {
                            "outlinewidth": 0,
                            "ticks": ""
                          }
                        },
                        "type": "scattermapbox"
                      }
                    ],
                    "scatterpolar": [
                      {
                        "marker": {
                          "colorbar": {
                            "outlinewidth": 0,
                            "ticks": ""
                          }
                        },
                        "type": "scatterpolar"
                      }
                    ],
                    "scatterpolargl": [
                      {
                        "marker": {
                          "colorbar": {
                            "outlinewidth": 0,
                            "ticks": ""
                          }
                        },
                        "type": "scatterpolargl"
                      }
                    ],
                    "scatterternary": [
                      {
                        "marker": {
                          "colorbar": {
                            "outlinewidth": 0,
                            "ticks": ""
                          }
                        },
                        "type": "scatterternary"
                      }
                    ],
                    "surface": [
                      {
                        "colorbar": {
                          "outlinewidth": 0,
                          "ticks": ""
                        },
                        "colorscale": [
                          [
                            0,
                            "#0d0887"
                          ],
                          [
                            0.1111111111111111,
                            "#46039f"
                          ],
                          [
                            0.2222222222222222,
                            "#7201a8"
                          ],
                          [
                            0.3333333333333333,
                            "#9c179e"
                          ],
                          [
                            0.4444444444444444,
                            "#bd3786"
                          ],
                          [
                            0.5555555555555556,
                            "#d8576b"
                          ],
                          [
                            0.6666666666666666,
                            "#ed7953"
                          ],
                          [
                            0.7777777777777778,
                            "#fb9f3a"
                          ],
                          [
                            0.8888888888888888,
                            "#fdca26"
                          ],
                          [
                            1,
                            "#f0f921"
                          ]
                        ],
                        "type": "surface"
                      }
                    ],
                    "table": [
                      {
                        "cells": {
                          "fill": {
                            "color": "#EBF0F8"
                          },
                          "line": {
                            "color": "white"
                          }
                        },
                        "header": {
                          "fill": {
                            "color": "#C8D4E3"
                          },
                          "line": {
                            "color": "white"
                          }
                        },
                        "type": "table"
                      }
                    ]
                  },
                  "layout": {
                    "annotationdefaults": {
                      "arrowcolor": "#2a3f5f",
                      "arrowhead": 0,
                      "arrowwidth": 1
                    },
                    "autotypenumbers": "strict",
                    "coloraxis": {
                      "colorbar": {
                        "outlinewidth": 0,
                        "ticks": ""
                      }
                    },
                    "colorscale": {
                      "diverging": [
                        [
                          0,
                          "#8e0152"
                        ],
                        [
                          0.1,
                          "#c51b7d"
                        ],
                        [
                          0.2,
                          "#de77ae"
                        ],
                        [
                          0.3,
                          "#f1b6da"
                        ],
                        [
                          0.4,
                          "#fde0ef"
                        ],
                        [
                          0.5,
                          "#f7f7f7"
                        ],
                        [
                          0.6,
                          "#e6f5d0"
                        ],
                        [
                          0.7,
                          "#b8e186"
                        ],
                        [
                          0.8,
                          "#7fbc41"
                        ],
                        [
                          0.9,
                          "#4d9221"
                        ],
                        [
                          1,
                          "#276419"
                        ]
                      ],
                      "sequential": [
                        [
                          0,
                          "#0d0887"
                        ],
                        [
                          0.1111111111111111,
                          "#46039f"
                        ],
                        [
                          0.2222222222222222,
                          "#7201a8"
                        ],
                        [
                          0.3333333333333333,
                          "#9c179e"
                        ],
                        [
                          0.4444444444444444,
                          "#bd3786"
                        ],
                        [
                          0.5555555555555556,
                          "#d8576b"
                        ],
                        [
                          0.6666666666666666,
                          "#ed7953"
                        ],
                        [
                          0.7777777777777778,
                          "#fb9f3a"
                        ],
                        [
                          0.8888888888888888,
                          "#fdca26"
                        ],
                        [
                          1,
                          "#f0f921"
                        ]
                      ],
                      "sequentialminus": [
                        [
                          0,
                          "#0d0887"
                        ],
                        [
                          0.1111111111111111,
                          "#46039f"
                        ],
                        [
                          0.2222222222222222,
                          "#7201a8"
                        ],
                        [
                          0.3333333333333333,
                          "#9c179e"
                        ],
                        [
                          0.4444444444444444,
                          "#bd3786"
                        ],
                        [
                          0.5555555555555556,
                          "#d8576b"
                        ],
                        [
                          0.6666666666666666,
                          "#ed7953"
                        ],
                        [
                          0.7777777777777778,
                          "#fb9f3a"
                        ],
                        [
                          0.8888888888888888,
                          "#fdca26"
                        ],
                        [
                          1,
                          "#f0f921"
                        ]
                      ]
                    },
                    "colorway": [
                      "#636efa",
                      "#EF553B",
                      "#00cc96",
                      "#ab63fa",
                      "#FFA15A",
                      "#19d3f3",
                      "#FF6692",
                      "#B6E880",
                      "#FF97FF",
                      "#FECB52"
                    ],
                    "font": {
                      "color": "#2a3f5f"
                    },
                    "geo": {
                      "bgcolor": "white",
                      "lakecolor": "white",
                      "landcolor": "#E5ECF6",
                      "showlakes": true,
                      "showland": true,
                      "subunitcolor": "white"
                    },
                    "hoverlabel": {
                      "align": "left"
                    },
                    "hovermode": "closest",
                    "mapbox": {
                      "style": "light"
                    },
                    "paper_bgcolor": "white",
                    "plot_bgcolor": "#E5ECF6",
                    "polar": {
                      "angularaxis": {
                        "gridcolor": "white",
                        "linecolor": "white",
                        "ticks": ""
                      },
                      "bgcolor": "#E5ECF6",
                      "radialaxis": {
                        "gridcolor": "white",
                        "linecolor": "white",
                        "ticks": ""
                      }
                    },
                    "scene": {
                      "xaxis": {
                        "backgroundcolor": "#E5ECF6",
                        "gridcolor": "white",
                        "gridwidth": 2,
                        "linecolor": "white",
                        "showbackground": true,
                        "ticks": "",
                        "zerolinecolor": "white"
                      },
                      "yaxis": {
                        "backgroundcolor": "#E5ECF6",
                        "gridcolor": "white",
                        "gridwidth": 2,
                        "linecolor": "white",
                        "showbackground": true,
                        "ticks": "",
                        "zerolinecolor": "white"
                      },
                      "zaxis": {
                        "backgroundcolor": "#E5ECF6",
                        "gridcolor": "white",
                        "gridwidth": 2,
                        "linecolor": "white",
                        "showbackground": true,
                        "ticks": "",
                        "zerolinecolor": "white"
                      }
                    },
                    "shapedefaults": {
                      "line": {
                        "color": "#2a3f5f"
                      }
                    },
                    "ternary": {
                      "aaxis": {
                        "gridcolor": "white",
                        "linecolor": "white",
                        "ticks": ""
                      },
                      "baxis": {
                        "gridcolor": "white",
                        "linecolor": "white",
                        "ticks": ""
                      },
                      "bgcolor": "#E5ECF6",
                      "caxis": {
                        "gridcolor": "white",
                        "linecolor": "white",
                        "ticks": ""
                      }
                    },
                    "title": {
                      "x": 0.05
                    },
                    "xaxis": {
                      "automargin": true,
                      "gridcolor": "white",
                      "linecolor": "white",
                      "ticks": "",
                      "title": {
                        "standoff": 15
                      },
                      "zerolinecolor": "white",
                      "zerolinewidth": 2
                    },
                    "yaxis": {
                      "automargin": true,
                      "gridcolor": "white",
                      "linecolor": "white",
                      "ticks": "",
                      "title": {
                        "standoff": 15
                      },
                      "zerolinecolor": "white",
                      "zerolinewidth": 2
                    }
                  }
                },
                "xaxis": {
                  "anchor": "y",
                  "domain": [
                    0,
                    1
                  ],
                  "title": {
                    "text": "x"
                  }
                },
                "yaxis": {
                  "anchor": "x",
                  "domain": [
                    0,
                    1
                  ],
                  "title": {
                    "text": "y"
                  }
                }
              }
            }
          },
          "metadata": {}
        }
      ]
    },
    {
      "cell_type": "code",
      "metadata": {
        "colab": {
          "base_uri": "https://localhost:8080/"
        },
        "id": "0rR6ssc42qQI",
        "outputId": "bc0bcdcd-2bd1-41d3-d80d-e0cff01e25e8",
        "tags": [
          "outputPrepend"
        ]
      },
      "source": [
        "song_cluster_pipeline = Pipeline([('scaler', StandardScaler()),\r\n",
        "                                  ('kmeans', KMeans(n_clusters=20,\r\n",
        "                                                    verbose=2, n_jobs=-1))], verbose=True)\r\n",
        "X = df.select_dtypes(np.number)\r\n",
        "number_cols = list(X.columns)\r\n",
        "song_cluster_pipeline.fit(X)\r\n",
        "song_cluster_labels = song_cluster_pipeline.predict(X)\r\n",
        "df['cluster_label'] = song_cluster_labels"
      ],
      "execution_count": 19,
      "outputs": [
        {
          "output_type": "stream",
          "name": "stdout",
          "text": [
            "inertia 1129836.4380921596\n",
            "Iteration 17, inertia 1128466.3963794902\n",
            "Iteration 18, inertia 1127713.8936848799\n",
            "Iteration 19, inertia 1127250.8925300597\n",
            "Iteration 20, inertia 1126891.7608000084\n",
            "Iteration 21, inertia 1126706.785007255\n",
            "Iteration 22, inertia 1126555.9870608156\n",
            "Iteration 23, inertia 1126365.220545629\n",
            "Iteration 24, inertia 1126187.67550452\n",
            "Iteration 25, inertia 1125963.8333912077\n",
            "Iteration 26, inertia 1125798.512254445\n",
            "Iteration 27, inertia 1125662.2623232212\n",
            "Iteration 28, inertia 1125511.8186746691\n",
            "Iteration 29, inertia 1125367.1201407507\n",
            "Iteration 30, inertia 1125230.7312804393\n",
            "Iteration 31, inertia 1125145.7269572103\n",
            "Iteration 32, inertia 1125070.5105915833\n",
            "Iteration 33, inertia 1125006.135640854\n",
            "Iteration 34, inertia 1124950.9105776069\n",
            "Iteration 35, inertia 1124893.6110541513\n",
            "Iteration 36, inertia 1124832.56793077\n",
            "Iteration 37, inertia 1124773.9032692479\n",
            "Iteration 38, inertia 1124714.4289126948\n",
            "Iteration 39, inertia 1124645.5395061276\n",
            "Iteration 40, inertia 1124563.6660715863\n",
            "Iteration 41, inertia 1124480.8717536204\n",
            "Iteration 42, inertia 1124394.9762810995\n",
            "Iteration 43, inertia 1124290.048746506\n",
            "Iteration 44, inertia 1124143.0120506973\n",
            "Iteration 45, inertia 1123891.9816710956\n",
            "Iteration 46, inertia 1123442.5955775327\n",
            "Iteration 47, inertia 1122654.5943169824\n",
            "Iteration 48, inertia 1121283.0459394094\n",
            "Iteration 49, inertia 1119219.7311889478\n",
            "Iteration 50, inertia 1117345.342112631\n",
            "Iteration 51, inertia 1116346.0824577478\n",
            "Iteration 52, inertia 1115782.946761706\n",
            "Iteration 53, inertia 1115357.07226147\n",
            "Iteration 54, inertia 1115002.5661018426\n",
            "Iteration 55, inertia 1114891.393339281\n",
            "Iteration 56, inertia 1114848.357928644\n",
            "Iteration 57, inertia 1114820.428377991\n",
            "Iteration 58, inertia 1114797.563089872\n",
            "Iteration 59, inertia 1114781.9359683655\n",
            "Iteration 60, inertia 1114768.922401319\n",
            "Iteration 61, inertia 1114758.6811450222\n",
            "Iteration 62, inertia 1114749.9017461718\n",
            "Iteration 63, inertia 1114738.8031404358\n",
            "Iteration 64, inertia 1114725.1188324788\n",
            "Iteration 65, inertia 1114707.5368713534\n",
            "Iteration 66, inertia 1114687.292702279\n",
            "Iteration 67, inertia 1114662.4425376668\n",
            "Iteration 68, inertia 1114635.285644932\n",
            "Iteration 69, inertia 1114601.2664813786\n",
            "Iteration 70, inertia 1114565.2287020674\n",
            "Iteration 71, inertia 1114529.469941044\n",
            "Iteration 72, inertia 1114494.0261674838\n",
            "Iteration 73, inertia 1114454.9841111894\n",
            "Iteration 74, inertia 1114421.967011616\n",
            "Iteration 75, inertia 1114390.827004637\n",
            "Iteration 76, inertia 1114360.3395144343\n",
            "Iteration 77, inertia 1114330.25969093\n",
            "Iteration 78, inertia 1114298.078117865\n",
            "Iteration 79, inertia 1114266.8459839597\n",
            "Iteration 80, inertia 1114232.2230555115\n",
            "Iteration 81, inertia 1114197.0454328784\n",
            "Iteration 82, inertia 1114156.1329089461\n",
            "Iteration 83, inertia 1114112.2636435821\n",
            "Iteration 84, inertia 1114070.4706756328\n",
            "Iteration 85, inertia 1114029.2339514934\n",
            "Iteration 86, inertia 1113984.8700154987\n",
            "Iteration 87, inertia 1113939.177158264\n",
            "Iteration 88, inertia 1113898.705840356\n",
            "Iteration 89, inertia 1113860.2374529361\n",
            "Iteration 90, inertia 1113827.772110562\n",
            "Iteration 91, inertia 1113793.8874296853\n",
            "Iteration 92, inertia 1113767.3867558676\n",
            "Iteration 93, inertia 1113745.4334218802\n",
            "Iteration 94, inertia 1113725.0595382948\n",
            "Iteration 95, inertia 1113705.2202466843\n",
            "Iteration 96, inertia 1113689.0532011562\n",
            "Iteration 97, inertia 1113675.7531246135\n",
            "Iteration 98, inertia 1113663.2881878205\n",
            "Iteration 99, inertia 1113652.128450015\n",
            "Iteration 100, inertia 1113641.7634331442\n",
            "Iteration 101, inertia 1113632.819689892\n",
            "Iteration 102, inertia 1113623.297350458\n",
            "Iteration 103, inertia 1113614.6165002675\n",
            "Iteration 104, inertia 1113607.9442753831\n",
            "Iteration 105, inertia 1113601.8782477193\n",
            "Iteration 106, inertia 1113597.1508872854\n",
            "Iteration 107, inertia 1113594.0482971838\n",
            "Iteration 108, inertia 1113591.6994147315\n",
            "Iteration 109, inertia 1113589.9905650031\n",
            "Iteration 110, inertia 1113588.296506638\n",
            "Iteration 111, inertia 1113586.9409833667\n",
            "Converged at iteration 111: center shift 5.4480583108422015e-05 within tolerance 0.0001000000000000023.\n",
            "Initialization complete\n",
            "Iteration 0, inertia 1578967.2072200053\n",
            "Iteration 1, inertia 1187051.373406459\n",
            "Iteration 2, inertia 1159696.8775646333\n",
            "Iteration 3, inertia 1150092.5691564507\n",
            "Iteration 4, inertia 1143996.0661381914\n",
            "Iteration 5, inertia 1138525.518573656\n",
            "Iteration 6, inertia 1132875.5727908486\n",
            "Iteration 7, inertia 1127462.975837347\n",
            "Iteration 8, inertia 1123821.123641567\n",
            "Iteration 9, inertia 1121373.350888413\n",
            "Iteration 10, inertia 1119429.5469435593\n",
            "Iteration 11, inertia 1117850.0937892257\n",
            "Iteration 12, inertia 1116800.3490973043\n",
            "Iteration 13, inertia 1115963.0072236508\n",
            "Iteration 14, inertia 1115247.0609770345\n",
            "Iteration 15, inertia 1114589.2066899708\n",
            "Iteration 16, inertia 1113957.4122552222\n",
            "Iteration 17, inertia 1113376.8533923584\n",
            "Iteration 18, inertia 1112881.1622988167\n",
            "Iteration 19, inertia 1112504.8719124703\n",
            "Iteration 20, inertia 1112270.2563438271\n",
            "Iteration 21, inertia 1112122.5778686057\n",
            "Iteration 22, inertia 1112009.3823390456\n",
            "Iteration 23, inertia 1111918.8597993564\n",
            "Iteration 24, inertia 1111837.4314791705\n",
            "Iteration 25, inertia 1111760.7927536224\n",
            "Iteration 26, inertia 1111686.2828955578\n",
            "Iteration 27, inertia 1111600.2298412551\n",
            "Iteration 28, inertia 1111506.5386828375\n",
            "Iteration 29, inertia 1111411.8482047124\n",
            "Iteration 30, inertia 1111298.4481452208\n",
            "Iteration 31, inertia 1111160.893464891\n",
            "Iteration 32, inertia 1111000.0190829886\n",
            "Iteration 33, inertia 1110796.5174998748\n",
            "Iteration 34, inertia 1110547.569097699\n",
            "Iteration 35, inertia 1110272.796775037\n",
            "Iteration 36, inertia 1109950.3311864566\n",
            "Iteration 37, inertia 1109584.1381019107\n",
            "Iteration 38, inertia 1109167.4492440063\n",
            "Iteration 39, inertia 1108747.9752767829\n",
            "Iteration 40, inertia 1108353.5810158567\n",
            "Iteration 41, inertia 1108014.3740784994\n",
            "Iteration 42, inertia 1107699.2041456595\n",
            "Iteration 43, inertia 1107434.9113352182\n",
            "Iteration 44, inertia 1107232.0145941817\n",
            "Iteration 45, inertia 1107079.5906896507\n",
            "Iteration 46, inertia 1106964.9979936266\n",
            "Iteration 47, inertia 1106880.782776883\n",
            "Iteration 48, inertia 1106815.9150350736\n",
            "Iteration 49, inertia 1106771.6589660114\n",
            "Iteration 50, inertia 1106741.1651107192\n",
            "Iteration 51, inertia 1106725.0120267868\n",
            "Iteration 52, inertia 1106715.5961376796\n",
            "Iteration 53, inertia 1106708.8964712026\n",
            "Iteration 54, inertia 1106703.0315108283\n",
            "Iteration 55, inertia 1106698.646898006\n",
            "Iteration 56, inertia 1106694.7180224215\n",
            "Iteration 57, inertia 1106691.4061678234\n",
            "Iteration 58, inertia 1106689.03839768\n",
            "Iteration 59, inertia 1106686.7674492027\n",
            "Converged at iteration 59: center shift 9.913965677908466e-05 within tolerance 0.0001000000000000023.\n",
            "Initialization complete\n",
            "Iteration 0, inertia 1661969.7413107825\n",
            "Iteration 1, inertia 1187646.4953816496\n",
            "Iteration 2, inertia 1143080.2579124337\n",
            "Iteration 3, inertia 1129687.873854865\n",
            "Iteration 4, inertia 1121447.5240263673\n",
            "Iteration 5, inertia 1115648.47212309\n",
            "Iteration 6, inertia 1112587.8346352316\n",
            "Iteration 7, inertia 1110633.5648013924\n",
            "Iteration 8, inertia 1109282.3278401045\n",
            "Iteration 9, inertia 1108459.5797758189\n",
            "Iteration 10, inertia 1107962.2999051248\n",
            "Iteration 11, inertia 1107619.4551608916\n",
            "Iteration 12, inertia 1107353.1947976022\n",
            "Iteration 13, inertia 1107152.7465841915\n",
            "Iteration 14, inertia 1106996.792661809\n",
            "Iteration 15, inertia 1106874.0599532733\n",
            "Iteration 16, inertia 1106793.6871988191\n",
            "Iteration 17, inertia 1106732.2816697704\n",
            "Iteration 18, inertia 1106671.4678118112\n",
            "Iteration 19, inertia 1106619.333308279\n",
            "Iteration 20, inertia 1106582.4823429694\n",
            "Iteration 21, inertia 1106549.406207468\n",
            "Iteration 22, inertia 1106518.2660461967\n",
            "Iteration 23, inertia 1106483.172242619\n",
            "Iteration 24, inertia 1106443.0171299826\n",
            "Iteration 25, inertia 1106400.2088931107\n",
            "Iteration 26, inertia 1106355.8024891997\n",
            "Iteration 27, inertia 1106310.5292542824\n",
            "Iteration 28, inertia 1106261.1974080435\n",
            "Iteration 29, inertia 1106200.5066462685\n",
            "Iteration 30, inertia 1106117.4936687772\n",
            "Iteration 31, inertia 1106000.028108722\n",
            "Iteration 32, inertia 1105824.9113031456\n",
            "Iteration 33, inertia 1105574.329655034\n",
            "Iteration 34, inertia 1105273.3073424222\n",
            "Iteration 35, inertia 1104881.4892278383\n",
            "Iteration 36, inertia 1104373.3464548138\n",
            "Iteration 37, inertia 1103805.1126397809\n",
            "Iteration 38, inertia 1103242.7902141602\n",
            "Iteration 39, inertia 1102781.335304125\n",
            "Iteration 40, inertia 1102374.12670819\n",
            "Iteration 41, inertia 1102057.423611752\n",
            "Iteration 42, inertia 1101813.5774568727\n",
            "Iteration 43, inertia 1101614.1601028836\n",
            "Iteration 44, inertia 1101464.890713529\n",
            "Iteration 45, inertia 1101356.499306263\n",
            "Iteration 46, inertia 1101278.9705698567\n",
            "Iteration 47, inertia 1101222.2544691616\n",
            "Iteration 48, inertia 1101183.108091337\n",
            "Iteration 49, inertia 1101150.786803301\n",
            "Iteration 50, inertia 1101129.4682461887\n",
            "Iteration 51, inertia 1101115.086983125\n",
            "Iteration 52, inertia 1101105.8180618086\n",
            "Iteration 53, inertia 1101100.6718567146\n",
            "Iteration 54, inertia 1101097.9107923796\n",
            "Iteration 55, inertia 1101095.5019276605\n",
            "Iteration 56, inertia 1101093.8344535064\n",
            "Converged at iteration 56: center shift 9.585943236779093e-05 within tolerance 0.0001000000000000023.\n",
            "Initialization complete\n",
            "Iteration 0, inertia 1626110.944161538\n",
            "Iteration 1, inertia 1209130.4269542568\n",
            "Iteration 2, inertia 1178746.3306019565\n",
            "Iteration 3, inertia 1164207.187785303\n",
            "Iteration 4, inertia 1154210.6209732809\n",
            "Iteration 5, inertia 1148399.700114131\n",
            "Iteration 6, inertia 1143339.1508435453\n",
            "Iteration 7, inertia 1134764.3877481972\n",
            "Iteration 8, inertia 1125268.1090434403\n",
            "Iteration 9, inertia 1121538.6134145742\n",
            "Iteration 10, inertia 1120502.0828773167\n",
            "Iteration 11, inertia 1120051.4470455302\n",
            "Iteration 12, inertia 1119737.2297976033\n",
            "Iteration 13, inertia 1119508.7305175865\n",
            "Iteration 14, inertia 1119309.0886432908\n",
            "Iteration 15, inertia 1119112.6128694315\n",
            "Iteration 16, inertia 1118917.8632659016\n",
            "Iteration 17, inertia 1118719.9687078767\n",
            "Iteration 18, inertia 1118500.9205341232\n",
            "Iteration 19, inertia 1118280.5183185113\n",
            "Iteration 20, inertia 1118082.0593811602\n",
            "Iteration 21, inertia 1117895.367800738\n",
            "Iteration 22, inertia 1117720.6149011895\n",
            "Iteration 23, inertia 1117537.9085998402\n",
            "Iteration 24, inertia 1117346.2589937933\n",
            "Iteration 25, inertia 1117152.692032634\n",
            "Iteration 26, inertia 1116966.5230207576\n",
            "Iteration 27, inertia 1116799.7219547692\n",
            "Iteration 28, inertia 1116644.3404143315\n",
            "Iteration 29, inertia 1116483.417790119\n",
            "Iteration 30, inertia 1116339.232362573\n",
            "Iteration 31, inertia 1116209.0998793335\n",
            "Iteration 32, inertia 1116086.156274486\n",
            "Iteration 33, inertia 1115974.1220579706\n",
            "Iteration 34, inertia 1115864.2520907992\n",
            "Iteration 35, inertia 1115770.44022731\n",
            "Iteration 36, inertia 1115678.8168250949\n",
            "Iteration 37, inertia 1115582.8515999813\n",
            "Iteration 38, inertia 1115481.2900013106\n",
            "Iteration 39, inertia 1115359.6623906032\n",
            "Iteration 40, inertia 1115212.832517954\n",
            "Iteration 41, inertia 1115066.5643632563\n",
            "Iteration 42, inertia 1114911.522406974\n",
            "Iteration 43, inertia 1114752.2746259796\n",
            "Iteration 44, inertia 1114607.6115549225\n",
            "Iteration 45, inertia 1114501.3990066848\n",
            "Iteration 46, inertia 1114422.5022431947\n",
            "Iteration 47, inertia 1114367.5323929223\n",
            "Iteration 48, inertia 1114328.7536899433\n",
            "Iteration 49, inertia 1114305.6512691244\n",
            "Iteration 50, inertia 1114287.3437220878\n",
            "Iteration 51, inertia 1114273.111868165\n",
            "Iteration 52, inertia 1114262.8358274987\n",
            "Iteration 53, inertia 1114255.3006536183\n",
            "Iteration 54, inertia 1114248.8837259354\n",
            "Iteration 55, inertia 1114242.8204780165\n",
            "Iteration 56, inertia 1114237.23409537\n",
            "Iteration 57, inertia 1114233.0734561447\n",
            "Iteration 58, inertia 1114229.8759120444\n",
            "Iteration 59, inertia 1114227.8739632666\n",
            "Converged at iteration 59: center shift 9.31366766021667e-05 within tolerance 0.0001000000000000023.\n",
            "Initialization complete\n",
            "Iteration 0, inertia 1587874.8519440119\n",
            "Iteration 1, inertia 1197314.131344037\n",
            "Iteration 2, inertia 1165692.4421363194\n",
            "Iteration 3, inertia 1153426.0825960408\n",
            "Iteration 4, inertia 1145742.01592121\n",
            "Iteration 5, inertia 1139653.634966744\n",
            "Iteration 6, inertia 1134341.9667206458\n",
            "Iteration 7, inertia 1129623.916595881\n",
            "Iteration 8, inertia 1125796.2708043635\n",
            "Iteration 9, inertia 1122951.2033156042\n",
            "Iteration 10, inertia 1120086.568833\n",
            "Iteration 11, inertia 1116383.7369832539\n",
            "Iteration 12, inertia 1112006.5867916236\n",
            "Iteration 13, inertia 1109456.9024276354\n",
            "Iteration 14, inertia 1108516.0015208903\n",
            "Iteration 15, inertia 1107972.109294562\n",
            "Iteration 16, inertia 1107629.00000576\n",
            "Iteration 17, inertia 1107404.497413278\n",
            "Iteration 18, inertia 1107230.0426682215\n",
            "Iteration 19, inertia 1107109.046119059\n",
            "Iteration 20, inertia 1107022.1163404235\n",
            "Iteration 21, inertia 1106954.8908810567\n",
            "Iteration 22, inertia 1106890.3635271967\n",
            "Iteration 23, inertia 1106833.7279122823\n",
            "Iteration 24, inertia 1106784.4803251065\n",
            "Iteration 25, inertia 1106736.860276019\n",
            "Iteration 26, inertia 1106690.569122242\n",
            "Iteration 27, inertia 1106646.6405634568\n",
            "Iteration 28, inertia 1106608.09590035\n",
            "Iteration 29, inertia 1106574.6820640953\n",
            "Iteration 30, inertia 1106544.4318280704\n",
            "Iteration 31, inertia 1106518.1671214306\n",
            "Iteration 32, inertia 1106493.4581066587\n",
            "Iteration 33, inertia 1106468.6159244475\n",
            "Iteration 34, inertia 1106439.7641730716\n",
            "Iteration 35, inertia 1106411.150991732\n",
            "Iteration 36, inertia 1106379.9825698147\n",
            "Iteration 37, inertia 1106346.6695557765\n",
            "Iteration 38, inertia 1106311.0118349397\n",
            "Iteration 39, inertia 1106274.0525834255\n",
            "Iteration 40, inertia 1106232.597557851\n",
            "Iteration 41, inertia 1106191.8199203413\n",
            "Iteration 42, inertia 1106147.4340439616\n",
            "Iteration 43, inertia 1106093.9462980393\n",
            "Iteration 44, inertia 1106034.9741538684\n",
            "Iteration 45, inertia 1105966.8915361746\n",
            "Iteration 46, inertia 1105891.0132832665\n",
            "Iteration 47, inertia 1105809.7866879834\n",
            "Iteration 48, inertia 1105719.7618833045\n",
            "Iteration 49, inertia 1105626.550419631\n",
            "Iteration 50, inertia 1105539.1885093695\n",
            "Iteration 51, inertia 1105457.426286275\n",
            "Iteration 52, inertia 1105380.2573362729\n",
            "Iteration 53, inertia 1105311.5322520689\n",
            "Iteration 54, inertia 1105242.6919690007\n",
            "Iteration 55, inertia 1105180.6323741477\n",
            "Iteration 56, inertia 1105130.325535131\n",
            "Iteration 57, inertia 1105092.9200766266\n",
            "Iteration 58, inertia 1105063.9117204226\n",
            "Iteration 59, inertia 1105042.096321894\n",
            "Iteration 60, inertia 1105026.5862110402\n",
            "Iteration 61, inertia 1105014.8473430506\n",
            "Iteration 62, inertia 1105005.440888273\n",
            "Iteration 63, inertia 1104997.5632840618\n",
            "Iteration 64, inertia 1104990.7847959357\n",
            "Iteration 65, inertia 1104983.4349082331\n",
            "Iteration 66, inertia 1104976.7708837378\n",
            "Iteration 67, inertia 1104970.6770581477\n",
            "Iteration 68, inertia 1104965.4107500936\n",
            "Iteration 69, inertia 1104961.324156092\n",
            "Iteration 70, inertia 1104958.4693712988\n",
            "Converged at iteration 70: center shift 8.534280419845686e-05 within tolerance 0.0001000000000000023.\n",
            "Initialization complete\n",
            "Iteration 0, inertia 1600984.2658386778\n",
            "Iteration 1, inertia 1195593.224989811\n",
            "Iteration 2, inertia 1153718.555643663\n",
            "Iteration 3, inertia 1137314.287131004\n",
            "Iteration 4, inertia 1127540.9564795536\n",
            "Iteration 5, inertia 1121817.511262559\n",
            "Iteration 6, inertia 1119617.4105457675\n",
            "Iteration 7, inertia 1118429.7200405484\n",
            "Iteration 8, inertia 1117363.1314212594\n",
            "Iteration 9, inertia 1116160.8213393842\n",
            "Iteration 10, inertia 1114424.9825357506\n",
            "Iteration 11, inertia 1112021.7517014958\n",
            "Iteration 12, inertia 1109910.0126993258\n",
            "Iteration 13, inertia 1108542.980584678\n",
            "Iteration 14, inertia 1107459.4163678573\n",
            "Iteration 15, inertia 1106545.3910107312\n",
            "Iteration 16, inertia 1105648.812759502\n",
            "Iteration 17, inertia 1104964.3310741128\n",
            "Iteration 18, inertia 1104408.1658867341\n",
            "Iteration 19, inertia 1103987.4129871603\n",
            "Iteration 20, inertia 1103646.5716549973\n",
            "Iteration 21, inertia 1103368.1578716675\n",
            "Iteration 22, inertia 1103121.8145215025\n",
            "Iteration 23, inertia 1102932.7864241689\n",
            "Iteration 24, inertia 1102777.9318382263\n",
            "Iteration 25, inertia 1102656.6505571252\n",
            "Iteration 26, inertia 1102562.0490456189\n",
            "Iteration 27, inertia 1102486.5500576252\n",
            "Iteration 28, inertia 1102423.3855552291\n",
            "Iteration 29, inertia 1102380.8384701668\n",
            "Iteration 30, inertia 1102348.8170395736\n",
            "Iteration 31, inertia 1102326.833954935\n",
            "Iteration 32, inertia 1102312.000933482\n",
            "Iteration 33, inertia 1102302.9113965724\n",
            "Iteration 34, inertia 1102297.0828405058\n",
            "Iteration 35, inertia 1102292.4547501148\n",
            "Iteration 36, inertia 1102289.3392166342\n",
            "Iteration 37, inertia 1102287.2071927062\n",
            "Iteration 38, inertia 1102285.4318104205\n",
            "Converged at iteration 38: center shift 9.064067007581656e-05 within tolerance 0.0001000000000000023.\n",
            "Initialization complete\n",
            "Iteration 0, inertia 1618239.0343936873\n",
            "Iteration 1, inertia 1224058.0404257406\n",
            "Iteration 2, inertia 1192196.619555361\n",
            "Iteration 3, inertia 1180561.377995636\n",
            "Iteration 4, inertia 1173238.2523996516\n",
            "Iteration 5, inertia 1168096.8927992738\n",
            "Iteration 6, inertia 1163973.64157328\n",
            "Iteration 7, inertia 1160163.1578445332\n",
            "Iteration 8, inertia 1156083.0533053374\n",
            "Iteration 9, inertia 1151567.2508470295\n",
            "Iteration 10, inertia 1146329.628710967\n",
            "Iteration 11, inertia 1141245.6567904735\n",
            "Iteration 12, inertia 1137276.0636490954\n",
            "Iteration 13, inertia 1134418.7407697276\n",
            "Iteration 14, inertia 1131791.1613580466\n",
            "Iteration 15, inertia 1129271.9599705366\n",
            "Iteration 16, inertia 1127509.9944563708\n",
            "Iteration 17, inertia 1126352.2180544997\n",
            "Iteration 18, inertia 1125588.9228391724\n",
            "Iteration 19, inertia 1125106.6459289556\n",
            "Iteration 20, inertia 1124795.2771708006\n",
            "Iteration 21, inertia 1124588.5618469794\n",
            "Iteration 22, inertia 1124440.0264689096\n",
            "Iteration 23, inertia 1124336.8863809244\n",
            "Iteration 24, inertia 1124258.273661243\n",
            "Iteration 25, inertia 1124190.6370232785\n",
            "Iteration 26, inertia 1124130.128910509\n",
            "Iteration 27, inertia 1124085.3771079383\n",
            "Iteration 28, inertia 1124051.7160750087\n",
            "Iteration 29, inertia 1124024.2182677123\n",
            "Iteration 30, inertia 1124002.5903844056\n",
            "Iteration 31, inertia 1123986.3696899987\n",
            "Iteration 32, inertia 1123973.2693243886\n",
            "Iteration 33, inertia 1123962.686377295\n",
            "Iteration 34, inertia 1123954.7025629224\n",
            "Iteration 35, inertia 1123948.613682283\n",
            "Iteration 36, inertia 1123943.028908532\n",
            "Iteration 37, inertia 1123937.756760164\n",
            "Iteration 38, inertia 1123933.365030145\n",
            "Iteration 39, inertia 1123929.9625071713\n",
            "Iteration 40, inertia 1123927.1609439498\n",
            "Iteration 41, inertia 1123924.6231005972\n",
            "Iteration 42, inertia 1123922.0886512846\n",
            "Iteration 43, inertia 1123919.9586559152\n",
            "Iteration 44, inertia 1123917.8463333566\n",
            "Iteration 45, inertia 1123915.1480699643\n",
            "Iteration 46, inertia 1123912.4735508687\n",
            "Iteration 47, inertia 1123909.7780249603\n",
            "Iteration 48, inertia 1123907.140478746\n",
            "Iteration 49, inertia 1123904.7504612664\n",
            "Iteration 50, inertia 1123902.7937789285\n",
            "Converged at iteration 50: center shift 7.886593482439367e-05 within tolerance 0.0001000000000000023.\n",
            "Initialization complete\n",
            "Iteration 0, inertia 1612375.3752705455\n",
            "Iteration 1, inertia 1231402.8096402392\n",
            "Iteration 2, inertia 1186788.792995622\n",
            "Iteration 3, inertia 1161605.0035343699\n",
            "Iteration 4, inertia 1146803.3453912358\n",
            "Iteration 5, inertia 1136434.86356654\n",
            "Iteration 6, inertia 1128683.7411185594\n",
            "Iteration 7, inertia 1123350.2851729812\n",
            "Iteration 8, inertia 1119724.7145498886\n",
            "Iteration 9, inertia 1117333.1503681361\n",
            "Iteration 10, inertia 1115667.6350993773\n",
            "Iteration 11, inertia 1114425.7422373577\n",
            "Iteration 12, inertia 1113484.6519280819\n",
            "Iteration 13, inertia 1112852.2904655652\n",
            "Iteration 14, inertia 1112432.3638174664\n",
            "Iteration 15, inertia 1112142.2527131801\n",
            "Iteration 16, inertia 1111948.4437906998\n",
            "Iteration 17, inertia 1111806.0332323618\n",
            "Iteration 18, inertia 1111721.018093414\n",
            "Iteration 19, inertia 1111658.0899759387\n",
            "Iteration 20, inertia 1111613.215167914\n",
            "Iteration 21, inertia 1111582.3768380433\n",
            "Iteration 22, inertia 1111555.5016963514\n",
            "Iteration 23, inertia 1111534.2828532842\n",
            "Iteration 24, inertia 1111519.9394882175\n",
            "Iteration 25, inertia 1111507.765635588\n",
            "Iteration 26, inertia 1111498.7985329141\n",
            "Iteration 27, inertia 1111491.8647151014\n",
            "Iteration 28, inertia 1111486.5166286312\n",
            "Iteration 29, inertia 1111482.7042922133\n",
            "Iteration 30, inertia 1111478.4569088272\n",
            "Iteration 31, inertia 1111474.6577635787\n",
            "Iteration 32, inertia 1111472.2780986105\n",
            "Converged at iteration 32: center shift 9.976401655960849e-05 within tolerance 0.0001000000000000023.\n",
            "[Pipeline] ............ (step 2 of 2) Processing kmeans, total=  28.4s\n"
          ]
        }
      ]
    },
    {
      "cell_type": "code",
      "metadata": {
        "id": "vJ00JHpT6DTU"
      },
      "source": [
        "import spotipy\n",
        "from spotipy.oauth2 import SpotifyClientCredentials\n",
        "from collections import defaultdict\n",
        "import os\n",
        "from os import getenv\n",
        "\n",
        "SPOTIPY_CLIENT_ID = getenv('SPOTIPY_CLIENT_ID')\n",
        "SPOTIPY_SECRET_ID = getenv('SECRET_ID')\n",
        "\n",
        "sp = spotipy.Spotify(auth_manager=SpotifyClientCredentials(client_id=SPOTIPY_CLIENT_ID,\n",
        "                                                           client_secret=SPOTIPY_SECRET_ID))\n",
        "\n",
        "def find_song(name, year):\n",
        "  song_data = defaultdict()\n",
        "  results = sp.search(q= 'track: {} year: {}'.format(name,year), limit=1)\n",
        "  if results['tracks']['items'] == []:\n",
        "    return None\n",
        "\n",
        "  results = results['tracks']['items'][0]\n",
        "  track_id = results['id']\n",
        "  audio_features = sp.audio_features(track_id)[0]\n",
        "\n",
        "  song_data['name'] = [name]\n",
        "  song_data['year'] = [year]\n",
        "  song_data['explicit'] = [int(results['explicit'])]\n",
        "  song_data['duration_ms'] = [results['duration_ms']]\n",
        "  song_data['popularity'] = [results['popularity']]\n",
        "\n",
        "  for key, value in audio_features.items():\n",
        "    song_data[key] = value\n",
        "\n",
        "  return pd.DataFrame(song_data)"
      ],
      "execution_count": 22,
      "outputs": []
    },
    {
      "cell_type": "code",
      "metadata": {
        "id": "N45l31F176vp"
      },
      "source": [
        "from sklearn.metrics import euclidean_distances\n",
        "from scipy.spatial.distance import cdist\n",
        "import difflib\n",
        "\n",
        "def get_song_data(song, df):\n",
        "\n",
        "  try:\n",
        "    song_data = df[(df['name'] == song['name'])].iloc[0]\n",
        "    # & (df['year'] == song['year'])\n",
        "    return song_data\n",
        "  \n",
        "  except IndexError:\n",
        "    return find_song(song['name']) # , song['year']\n",
        "\n",
        "def get_mean_vector(song_list, df):\n",
        "  \n",
        "  song_vectors = []\n",
        "\n",
        "  for song in song_list:\n",
        "    song_data = get_song_data(song, df)\n",
        "    if song_data is None:\n",
        "      print('Warning: {} does not exist in Spotify or in database'.format(song['name']))\n",
        "      continue\n",
        "    song_vector = song_data[number_cols].values\n",
        "    song_vectors.append(song_vector)\n",
        "\n",
        "  song_matrix = np.array(list(song_vectors))\n",
        "  return np.mean(song_matrix, axis=0)\n",
        "\n",
        "def flatten_dict_list(dict_list):\n",
        "  flattened_dict = defaultdict()\n",
        "  for key in dict_list[0].keys():\n",
        "    flattened_dict[key] = []\n",
        "  \n",
        "  for dictionary in dict_list:\n",
        "    for key, value in dictionary.items():\n",
        "      flattened_dict[key].append(value)\n",
        "  return flattened_dict\n",
        "\n",
        "def recommend_songs(song_list, df=df, n_songs=10):\n",
        "  metadata_cols = ['name', 'year', 'artists']\n",
        "  song_dict = flatten_dict_list(song_list)\n",
        "\n",
        "  song_center = get_mean_vector(song_list, df)\n",
        "  scaler = song_cluster_pipeline.steps[0][1]\n",
        "  scaled_data = scaler.transform(df[number_cols])\n",
        "  scaled_song_center = scaler.transform(song_center.reshape(1,-1))\n",
        "  distances = cdist(scaled_song_center, scaled_data, 'cosine')\n",
        "  index = list(np.argsort(distances)[:, :n_songs][0])\n",
        "\n",
        "  rec_songs = df.iloc[index]\n",
        "  rec_songs = rec_songs[~rec_songs['name'].isin(song_dict['name'])]\n",
        "  return rec_songs[metadata_cols].to_dict(orient='records')"
      ],
      "execution_count": 23,
      "outputs": []
    },
    {
      "cell_type": "code",
      "metadata": {
        "colab": {
          "base_uri": "https://localhost:8080/"
        },
        "id": "hC5X1F8__wow",
        "outputId": "f1a9acea-1b61-4569-9ca7-234a7059c2b2"
      },
      "source": [
        "recommend_songs([{'name': 'thriller',\r\n",
        "                  'year': 1984}])"
      ],
      "execution_count": 24,
      "outputs": [
        {
          "output_type": "execute_result",
          "data": {
            "text/plain": [
              "[{'name': \"We're a Winner - Live @ Bitter End, NYC\",\n",
              "  'year': 1971,\n",
              "  'artists': 'Curtis Mayfield'},\n",
              " {'name': 'My Life Domino - Live in Krakow 2009',\n",
              "  'year': 2010,\n",
              "  'artists': 'Millenium'},\n",
              " {'name': \"I'm Not in Love - 2004 Remaster\",\n",
              "  'year': 1982,\n",
              "  'artists': 'Talking Heads'},\n",
              " {'name': 'Drunken Angels - Live in Krakow 2009',\n",
              "  'year': 2010,\n",
              "  'artists': 'Millenium'},\n",
              " {'name': 'Inspire Me - Live at Bonn, Germany, 2005',\n",
              "  'year': 2020,\n",
              "  'artists': 'Paul Carrack'},\n",
              " {'name': 'Lullaby - Live at Wembley 07/89 - Remix 07/09',\n",
              "  'year': 1989,\n",
              "  'artists': 'The Cure'},\n",
              " {'name': 'Let Us Love - Live at Carnegie Hall, New York, NY - October 1972',\n",
              "  'year': 1973,\n",
              "  'artists': 'Bill Withers'},\n",
              " {'name': 'Officer', 'year': 1992, 'artists': 'The Pharcyde'},\n",
              " {'name': \"Jammin' - Live At The Pavillon De Paris, 1977\",\n",
              "  'year': 1978,\n",
              "  'artists': 'Bob Marley & The Wailers'},\n",
              " {'name': 'Another Cup of Coffee - Live at Buxton Opera House, 2004',\n",
              "  'year': 2020,\n",
              "  'artists': 'Paul Carrack'}]"
            ]
          },
          "metadata": {},
          "execution_count": 24
        }
      ]
    },
    {
      "cell_type": "code",
      "metadata": {
        "colab": {
          "base_uri": "https://localhost:8080/"
        },
        "id": "Jua6mvjdAHkx",
        "outputId": "8b8d8556-fd5e-4933-8f81-7596be896012"
      },
      "source": [
        "user_input = input('enter a song')\n",
        "user_input = user_input.strip()\n",
        "input_dict = {'name': user_input[0]}\n",
        "recommend_songs([input_dict])"
      ],
      "execution_count": 27,
      "outputs": [
        {
          "output_type": "error",
          "ename": "KeyError",
          "evalue": "'year'",
          "traceback": [
            "\u001b[1;31m---------------------------------------------------------------------------\u001b[0m",
            "\u001b[1;31mKeyError\u001b[0m                                  Traceback (most recent call last)",
            "\u001b[1;32m<ipython-input-27-fbf0cdbfdbde>\u001b[0m in \u001b[0;36m<module>\u001b[1;34m\u001b[0m\n\u001b[0;32m      2\u001b[0m \u001b[0muser_input\u001b[0m \u001b[1;33m=\u001b[0m \u001b[0muser_input\u001b[0m\u001b[1;33m.\u001b[0m\u001b[0mstrip\u001b[0m\u001b[1;33m(\u001b[0m\u001b[1;33m)\u001b[0m\u001b[1;33m\u001b[0m\u001b[1;33m\u001b[0m\u001b[0m\n\u001b[0;32m      3\u001b[0m \u001b[0minput_dict\u001b[0m \u001b[1;33m=\u001b[0m \u001b[1;33m{\u001b[0m\u001b[1;34m'name'\u001b[0m\u001b[1;33m:\u001b[0m \u001b[0muser_input\u001b[0m\u001b[1;33m[\u001b[0m\u001b[1;36m0\u001b[0m\u001b[1;33m]\u001b[0m\u001b[1;33m}\u001b[0m\u001b[1;33m\u001b[0m\u001b[1;33m\u001b[0m\u001b[0m\n\u001b[1;32m----> 4\u001b[1;33m \u001b[0mrecommend_songs\u001b[0m\u001b[1;33m(\u001b[0m\u001b[1;33m[\u001b[0m\u001b[0minput_dict\u001b[0m\u001b[1;33m]\u001b[0m\u001b[1;33m)\u001b[0m\u001b[1;33m\u001b[0m\u001b[1;33m\u001b[0m\u001b[0m\n\u001b[0m",
            "\u001b[1;32m<ipython-input-23-193c6dcb9d9d>\u001b[0m in \u001b[0;36mrecommend_songs\u001b[1;34m(song_list, df, n_songs)\u001b[0m\n\u001b[0;32m     42\u001b[0m   \u001b[0msong_dict\u001b[0m \u001b[1;33m=\u001b[0m \u001b[0mflatten_dict_list\u001b[0m\u001b[1;33m(\u001b[0m\u001b[0msong_list\u001b[0m\u001b[1;33m)\u001b[0m\u001b[1;33m\u001b[0m\u001b[1;33m\u001b[0m\u001b[0m\n\u001b[0;32m     43\u001b[0m \u001b[1;33m\u001b[0m\u001b[0m\n\u001b[1;32m---> 44\u001b[1;33m   \u001b[0msong_center\u001b[0m \u001b[1;33m=\u001b[0m \u001b[0mget_mean_vector\u001b[0m\u001b[1;33m(\u001b[0m\u001b[0msong_list\u001b[0m\u001b[1;33m,\u001b[0m \u001b[0mdf\u001b[0m\u001b[1;33m)\u001b[0m\u001b[1;33m\u001b[0m\u001b[1;33m\u001b[0m\u001b[0m\n\u001b[0m\u001b[0;32m     45\u001b[0m   \u001b[0mscaler\u001b[0m \u001b[1;33m=\u001b[0m \u001b[0msong_cluster_pipeline\u001b[0m\u001b[1;33m.\u001b[0m\u001b[0msteps\u001b[0m\u001b[1;33m[\u001b[0m\u001b[1;36m0\u001b[0m\u001b[1;33m]\u001b[0m\u001b[1;33m[\u001b[0m\u001b[1;36m1\u001b[0m\u001b[1;33m]\u001b[0m\u001b[1;33m\u001b[0m\u001b[1;33m\u001b[0m\u001b[0m\n\u001b[0;32m     46\u001b[0m   \u001b[0mscaled_data\u001b[0m \u001b[1;33m=\u001b[0m \u001b[0mscaler\u001b[0m\u001b[1;33m.\u001b[0m\u001b[0mtransform\u001b[0m\u001b[1;33m(\u001b[0m\u001b[0mdf\u001b[0m\u001b[1;33m[\u001b[0m\u001b[0mnumber_cols\u001b[0m\u001b[1;33m]\u001b[0m\u001b[1;33m)\u001b[0m\u001b[1;33m\u001b[0m\u001b[1;33m\u001b[0m\u001b[0m\n",
            "\u001b[1;32m<ipython-input-23-193c6dcb9d9d>\u001b[0m in \u001b[0;36mget_mean_vector\u001b[1;34m(song_list, df)\u001b[0m\n\u001b[0;32m     18\u001b[0m \u001b[1;33m\u001b[0m\u001b[0m\n\u001b[0;32m     19\u001b[0m   \u001b[1;32mfor\u001b[0m \u001b[0msong\u001b[0m \u001b[1;32min\u001b[0m \u001b[0msong_list\u001b[0m\u001b[1;33m:\u001b[0m\u001b[1;33m\u001b[0m\u001b[1;33m\u001b[0m\u001b[0m\n\u001b[1;32m---> 20\u001b[1;33m     \u001b[0msong_data\u001b[0m \u001b[1;33m=\u001b[0m \u001b[0mget_song_data\u001b[0m\u001b[1;33m(\u001b[0m\u001b[0msong\u001b[0m\u001b[1;33m,\u001b[0m \u001b[0mdf\u001b[0m\u001b[1;33m)\u001b[0m\u001b[1;33m\u001b[0m\u001b[1;33m\u001b[0m\u001b[0m\n\u001b[0m\u001b[0;32m     21\u001b[0m     \u001b[1;32mif\u001b[0m \u001b[0msong_data\u001b[0m \u001b[1;32mis\u001b[0m \u001b[1;32mNone\u001b[0m\u001b[1;33m:\u001b[0m\u001b[1;33m\u001b[0m\u001b[1;33m\u001b[0m\u001b[0m\n\u001b[0;32m     22\u001b[0m       \u001b[0mprint\u001b[0m\u001b[1;33m(\u001b[0m\u001b[1;34m'Warning: {} does not exist in Spotify or in database'\u001b[0m\u001b[1;33m.\u001b[0m\u001b[0mformat\u001b[0m\u001b[1;33m(\u001b[0m\u001b[0msong\u001b[0m\u001b[1;33m[\u001b[0m\u001b[1;34m'name'\u001b[0m\u001b[1;33m]\u001b[0m\u001b[1;33m)\u001b[0m\u001b[1;33m)\u001b[0m\u001b[1;33m\u001b[0m\u001b[1;33m\u001b[0m\u001b[0m\n",
            "\u001b[1;32m<ipython-input-23-193c6dcb9d9d>\u001b[0m in \u001b[0;36mget_song_data\u001b[1;34m(song, df)\u001b[0m\n\u001b[0;32m      7\u001b[0m   \u001b[1;32mtry\u001b[0m\u001b[1;33m:\u001b[0m\u001b[1;33m\u001b[0m\u001b[1;33m\u001b[0m\u001b[0m\n\u001b[0;32m      8\u001b[0m     song_data = df[(df['name'] == song['name'])\n\u001b[1;32m----> 9\u001b[1;33m                    & (df['year'] == song['year'])].iloc[0]\n\u001b[0m\u001b[0;32m     10\u001b[0m     \u001b[1;32mreturn\u001b[0m \u001b[0msong_data\u001b[0m\u001b[1;33m\u001b[0m\u001b[1;33m\u001b[0m\u001b[0m\n\u001b[0;32m     11\u001b[0m \u001b[1;33m\u001b[0m\u001b[0m\n",
            "\u001b[1;31mKeyError\u001b[0m: 'year'"
          ]
        }
      ]
    },
    {
      "cell_type": "code",
      "metadata": {
        "id": "B40WGYlDDDpd"
      },
      "source": [],
      "execution_count": 173,
      "outputs": []
    },
    {
      "cell_type": "code",
      "metadata": {
        "colab": {
          "base_uri": "https://localhost:8080/"
        },
        "id": "7daKNEsgEDfr",
        "outputId": "a4d54ef9-1708-47d6-8161-8300c59966c7"
      },
      "source": [],
      "execution_count": 172,
      "outputs": [
        {
          "output_type": "execute_result",
          "data": {
            "text/plain": [
              "[{'artists': 'Curtis Mayfield',\n",
              "  'name': \"We're a Winner - Live @ Bitter End, NYC\",\n",
              "  'year': 1971},\n",
              " {'artists': 'Millenium',\n",
              "  'name': 'My Life Domino - Live in Krakow 2009',\n",
              "  'year': 2010},\n",
              " {'artists': 'Talking Heads',\n",
              "  'name': \"I'm Not in Love - 2004 Remaster\",\n",
              "  'year': 1982},\n",
              " {'artists': 'Millenium',\n",
              "  'name': 'Drunken Angels - Live in Krakow 2009',\n",
              "  'year': 2010},\n",
              " {'artists': 'Paul Carrack',\n",
              "  'name': 'Inspire Me - Live at Bonn, Germany, 2005',\n",
              "  'year': 2020},\n",
              " {'artists': 'The Cure',\n",
              "  'name': 'Lullaby - Live at Wembley 07/89 - Remix 07/09',\n",
              "  'year': 1989},\n",
              " {'artists': 'Bill Withers',\n",
              "  'name': 'Let Us Love - Live at Carnegie Hall, New York, NY - October 1972',\n",
              "  'year': 1973},\n",
              " {'artists': 'The Pharcyde', 'name': 'Officer', 'year': 1992},\n",
              " {'artists': 'Bob Marley & The Wailers',\n",
              "  'name': \"Jammin' - Live At The Pavillon De Paris, 1977\",\n",
              "  'year': 1978},\n",
              " {'artists': 'Paul Carrack',\n",
              "  'name': 'Another Cup of Coffee - Live at Buxton Opera House, 2004',\n",
              "  'year': 2020}]"
            ]
          },
          "metadata": {
            "tags": []
          },
          "execution_count": 172
        }
      ]
    },
    {
      "cell_type": "code",
      "metadata": {
        "id": "7ZTaA4a_DJut"
      },
      "source": [],
      "execution_count": 143,
      "outputs": []
    },
    {
      "cell_type": "code",
      "metadata": {
        "id": "LjD7s_PxDVLI"
      },
      "source": [],
      "execution_count": null,
      "outputs": []
    }
  ]
}