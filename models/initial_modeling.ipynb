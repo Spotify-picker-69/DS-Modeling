{
  "nbformat": 4,
  "nbformat_minor": 0,
  "metadata": {
    "colab": {
      "name": "initial modeling.ipynb",
      "provenance": []
    },
    "kernelspec": {
      "name": "python3",
      "display_name": "Python 3",
      "language": "python"
    }
  },
  "cells": [
    {
      "cell_type": "code",
      "metadata": {
        "id": "2g4thf0ZiEJc"
      },
      "source": [
        "import pandas as pd\n",
        "from sklearn.metrics import euclidean_distances\n",
        "from scipy.spatial.distance import cdist\n",
        "import difflib\n",
        "from sklearn.cluster import KMeans\n",
        "from sklearn.preprocessing import StandardScaler\n",
        "from sklearn.pipeline import Pipeline\n",
        "import numpy as np\n",
        "from sklearn.manifold import TSNE\n",
        "import plotly.express as px\n",
        "import spotipy\n",
        "from spotipy.oauth2 import SpotifyClientCredentials\n",
        "from collections import defaultdict\n",
        "import os\n",
        "from os import getenv"
      ],
      "execution_count": 1,
      "outputs": []
    },
    {
      "cell_type": "code",
      "metadata": {
        "id": "LiuBlOWsiHqT"
      },
      "source": [
        "df = pd.read_csv('../data/data.csv')\n",
        "data_artist_df = pd.read_csv('../data/data_by_artist.csv')\n",
        "data_genre_df = pd.read_csv('../data/data_by_genres.csv')\n",
        "data_year_df = pd.read_csv('../data/data_by_year.csv')\n",
        "data_w_genre_df = pd.read_csv('../data/data_w_genres.csv')"
      ],
      "execution_count": 2,
      "outputs": []
    },
    {
      "cell_type": "code",
      "metadata": {
        "colab": {
          "base_uri": "https://localhost:8080/",
          "height": 417
        },
        "id": "VAu1txaqiV1E",
        "outputId": "f2a2f614-ed02-46c2-e79c-8a246440e94e"
      },
      "source": [
        "df.head()"
      ],
      "execution_count": 3,
      "outputs": [
        {
          "output_type": "execute_result",
          "data": {
            "text/plain": [
              "   acousticness                    artists  danceability  duration_ms  energy  \\\n",
              "0      0.991000            ['Mamie Smith']         0.598       168333   0.224   \n",
              "1      0.643000  [\"Screamin' Jay Hawkins\"]         0.852       150200   0.517   \n",
              "2      0.993000            ['Mamie Smith']         0.647       163827   0.186   \n",
              "3      0.000173        ['Oscar Velazquez']         0.730       422087   0.798   \n",
              "4      0.295000                   ['Mixe']         0.704       165224   0.707   \n",
              "\n",
              "   explicit                      id  instrumentalness  key  liveness  \\\n",
              "0         0  0cS0A1fUEUd1EW3FcF8AEI          0.000522    5    0.3790   \n",
              "1         0  0hbkKFIJm7Z05H8Zl9w30f          0.026400    5    0.0809   \n",
              "2         0  11m7laMUgmOKqI3oYzuhne          0.000018    0    0.5190   \n",
              "3         0  19Lc5SfJJ5O1oaxY0fpwfh          0.801000    2    0.1280   \n",
              "4         1  2hJjbsLCytGsnAHfdsLejp          0.000246   10    0.4020   \n",
              "\n",
              "   loudness  mode                                               name  \\\n",
              "0   -12.628     0                           Keep A Song In Your Soul   \n",
              "1    -7.261     0                               I Put A Spell On You   \n",
              "2   -12.098     1                                       Golfing Papa   \n",
              "3    -7.311     1  True House Music - Xavier Santos & Carlos Gomi...   \n",
              "4    -6.036     0                                          Xuniverxe   \n",
              "\n",
              "   popularity release_date  speechiness    tempo  valence  year  \n",
              "0          12         1920       0.0936  149.976   0.6340  1920  \n",
              "1           7   1920-01-05       0.0534   86.889   0.9500  1920  \n",
              "2           4         1920       0.1740   97.600   0.6890  1920  \n",
              "3          17   1920-01-01       0.0425  127.997   0.0422  1920  \n",
              "4           2   1920-10-01       0.0768  122.076   0.2990  1920  "
            ],
            "text/html": "<div>\n<style scoped>\n    .dataframe tbody tr th:only-of-type {\n        vertical-align: middle;\n    }\n\n    .dataframe tbody tr th {\n        vertical-align: top;\n    }\n\n    .dataframe thead th {\n        text-align: right;\n    }\n</style>\n<table border=\"1\" class=\"dataframe\">\n  <thead>\n    <tr style=\"text-align: right;\">\n      <th></th>\n      <th>acousticness</th>\n      <th>artists</th>\n      <th>danceability</th>\n      <th>duration_ms</th>\n      <th>energy</th>\n      <th>explicit</th>\n      <th>id</th>\n      <th>instrumentalness</th>\n      <th>key</th>\n      <th>liveness</th>\n      <th>loudness</th>\n      <th>mode</th>\n      <th>name</th>\n      <th>popularity</th>\n      <th>release_date</th>\n      <th>speechiness</th>\n      <th>tempo</th>\n      <th>valence</th>\n      <th>year</th>\n    </tr>\n  </thead>\n  <tbody>\n    <tr>\n      <th>0</th>\n      <td>0.991000</td>\n      <td>['Mamie Smith']</td>\n      <td>0.598</td>\n      <td>168333</td>\n      <td>0.224</td>\n      <td>0</td>\n      <td>0cS0A1fUEUd1EW3FcF8AEI</td>\n      <td>0.000522</td>\n      <td>5</td>\n      <td>0.3790</td>\n      <td>-12.628</td>\n      <td>0</td>\n      <td>Keep A Song In Your Soul</td>\n      <td>12</td>\n      <td>1920</td>\n      <td>0.0936</td>\n      <td>149.976</td>\n      <td>0.6340</td>\n      <td>1920</td>\n    </tr>\n    <tr>\n      <th>1</th>\n      <td>0.643000</td>\n      <td>[\"Screamin' Jay Hawkins\"]</td>\n      <td>0.852</td>\n      <td>150200</td>\n      <td>0.517</td>\n      <td>0</td>\n      <td>0hbkKFIJm7Z05H8Zl9w30f</td>\n      <td>0.026400</td>\n      <td>5</td>\n      <td>0.0809</td>\n      <td>-7.261</td>\n      <td>0</td>\n      <td>I Put A Spell On You</td>\n      <td>7</td>\n      <td>1920-01-05</td>\n      <td>0.0534</td>\n      <td>86.889</td>\n      <td>0.9500</td>\n      <td>1920</td>\n    </tr>\n    <tr>\n      <th>2</th>\n      <td>0.993000</td>\n      <td>['Mamie Smith']</td>\n      <td>0.647</td>\n      <td>163827</td>\n      <td>0.186</td>\n      <td>0</td>\n      <td>11m7laMUgmOKqI3oYzuhne</td>\n      <td>0.000018</td>\n      <td>0</td>\n      <td>0.5190</td>\n      <td>-12.098</td>\n      <td>1</td>\n      <td>Golfing Papa</td>\n      <td>4</td>\n      <td>1920</td>\n      <td>0.1740</td>\n      <td>97.600</td>\n      <td>0.6890</td>\n      <td>1920</td>\n    </tr>\n    <tr>\n      <th>3</th>\n      <td>0.000173</td>\n      <td>['Oscar Velazquez']</td>\n      <td>0.730</td>\n      <td>422087</td>\n      <td>0.798</td>\n      <td>0</td>\n      <td>19Lc5SfJJ5O1oaxY0fpwfh</td>\n      <td>0.801000</td>\n      <td>2</td>\n      <td>0.1280</td>\n      <td>-7.311</td>\n      <td>1</td>\n      <td>True House Music - Xavier Santos &amp; Carlos Gomi...</td>\n      <td>17</td>\n      <td>1920-01-01</td>\n      <td>0.0425</td>\n      <td>127.997</td>\n      <td>0.0422</td>\n      <td>1920</td>\n    </tr>\n    <tr>\n      <th>4</th>\n      <td>0.295000</td>\n      <td>['Mixe']</td>\n      <td>0.704</td>\n      <td>165224</td>\n      <td>0.707</td>\n      <td>1</td>\n      <td>2hJjbsLCytGsnAHfdsLejp</td>\n      <td>0.000246</td>\n      <td>10</td>\n      <td>0.4020</td>\n      <td>-6.036</td>\n      <td>0</td>\n      <td>Xuniverxe</td>\n      <td>2</td>\n      <td>1920-10-01</td>\n      <td>0.0768</td>\n      <td>122.076</td>\n      <td>0.2990</td>\n      <td>1920</td>\n    </tr>\n  </tbody>\n</table>\n</div>"
          },
          "metadata": {},
          "execution_count": 3
        }
      ]
    },
    {
      "cell_type": "code",
      "metadata": {
        "colab": {
          "base_uri": "https://localhost:8080/"
        },
        "id": "OZ_mJjxiinjZ",
        "outputId": "45d5086b-17ad-477f-e0bf-3fae91c94606"
      },
      "source": [
        "data_artist_df.shape"
      ],
      "execution_count": 4,
      "outputs": [
        {
          "output_type": "execute_result",
          "data": {
            "text/plain": [
              "(32539, 15)"
            ]
          },
          "metadata": {},
          "execution_count": 4
        }
      ]
    },
    {
      "cell_type": "code",
      "metadata": {
        "id": "A8fmrNpPjNos"
      },
      "source": [
        "df['artists'] = df['artists'].str.strip('[]')"
      ],
      "execution_count": 5,
      "outputs": []
    },
    {
      "cell_type": "code",
      "metadata": {
        "id": "L5IChFawopXA"
      },
      "source": [
        "df['artists'] = df['artists'].str.strip('\"')"
      ],
      "execution_count": 6,
      "outputs": []
    },
    {
      "cell_type": "code",
      "metadata": {
        "id": "_Gs4wbBuotjl"
      },
      "source": [
        "df['artists'] = df['artists'].str.strip(\"'\")"
      ],
      "execution_count": 7,
      "outputs": []
    },
    {
      "cell_type": "code",
      "metadata": {
        "colab": {
          "base_uri": "https://localhost:8080/"
        },
        "id": "ghKQIvsSp5j1",
        "outputId": "a990fbd7-221b-4da5-df2e-54c788a73dbe"
      },
      "source": [
        "df[\"artists\"]"
      ],
      "execution_count": 8,
      "outputs": [
        {
          "output_type": "execute_result",
          "data": {
            "text/plain": [
              "0                            Mamie Smith\n",
              "1                  Screamin' Jay Hawkins\n",
              "2                            Mamie Smith\n",
              "3                        Oscar Velazquez\n",
              "4                                   Mixe\n",
              "                       ...              \n",
              "174384    DJ Combo', 'Sander-7', 'Tony T\n",
              "174385                      Alessia Cara\n",
              "174386                         Roger Fly\n",
              "174387                      Taylor Swift\n",
              "174388                         Roger Fly\n",
              "Name: artists, Length: 174389, dtype: object"
            ]
          },
          "metadata": {},
          "execution_count": 8
        }
      ]
    },
    {
      "cell_type": "code",
      "metadata": {
        "id": "DIQ68d53p8z3"
      },
      "source": [
        "df = df.drop(columns='release_date')\n",
        "df = df.drop(columns='year')\n"
      ],
      "execution_count": 9,
      "outputs": []
    },
    {
      "cell_type": "code",
      "metadata": {
        "colab": {
          "base_uri": "https://localhost:8080/",
          "height": 417
        },
        "id": "nCpaYwvGqUM2",
        "outputId": "786a87a5-39d2-4921-bbfb-94540b97360d"
      },
      "source": [
        "df.head()\n",
        "path = r'C:/Users/Megal/OneDrive/Documents/Github/build week spotify/ds-modeling/spotify_df.csv'"
      ],
      "execution_count": 10,
      "outputs": []
    },
    {
      "cell_type": "code",
      "execution_count": 11,
      "metadata": {},
      "outputs": [],
      "source": [
        "df.to_csv(path_or_buf=path)"
      ]
    },
    {
      "cell_type": "code",
      "metadata": {
        "id": "lM87ave_qvTc"
      },
      "source": [
        "number_cols = ['acousticness', 'danceability', 'duration_ms', 'energy', 'explicit', 'instrumentalness', 'key', 'liveness', 'loudness', 'mode',\n",
        "               'popularity', 'speechiness', 'tempo', 'valence'] # year"
      ],
      "execution_count": 12,
      "outputs": []
    },
    {
      "cell_type": "code",
      "metadata": {
        "id": "3XLD1Fihvgjx"
      },
      "source": [
        "\n",
        "cluster_pipeline = Pipeline([('scaler', StandardScaler()),('kmeans',\n",
        "                                                           KMeans(n_clusters=10, n_jobs=-1))])\n",
        "X = data_genre_df.select_dtypes(np.number)\n",
        "cluster_pipeline.fit(X)\n",
        "data_genre_df['cluster'] = cluster_pipeline.predict(X)"
      ],
      "execution_count": 13,
      "outputs": []
    },
    {
      "cell_type": "code",
      "metadata": {
        "colab": {
          "base_uri": "https://localhost:8080/",
          "height": 1000
        },
        "id": "6jZb_azv1eHy",
        "outputId": "513ca734-3b75-402b-c2e1-05f54bad3877"
      },
      "source": [
        "\n",
        "tsne_pipeline = Pipeline([('scaler', StandardScaler()), ('tsne', TSNE(n_components=2, verbose=2))])\n",
        "\n",
        "genre_embedding = tsne_pipeline.fit_transform(X)\n",
        "\n",
        "projection = pd.DataFrame(columns=['x', 'y'], data=genre_embedding)\n",
        "projection['genres'] = data_genre_df['genres']\n",
        "projection['cluster'] = data_genre_df['cluster']\n",
        "\n",
        "fig = px.scatter(\n",
        "    projection, x='x', y='y', color='cluster', hover_data=['x', 'y', 'genres'])\n",
        "fig.show()\n"
      ],
      "execution_count": 14,
      "outputs": [
        {
          "output_type": "stream",
          "name": "stdout",
          "text": [
            "[t-SNE] Computing 91 nearest neighbors...\n",
            "[t-SNE] Indexed 3232 samples in 0.022s...\n",
            "[t-SNE] Computed neighbors for 3232 samples in 0.764s...\n",
            "[t-SNE] Computed conditional probabilities for sample 1000 / 3232\n",
            "[t-SNE] Computed conditional probabilities for sample 2000 / 3232\n",
            "[t-SNE] Computed conditional probabilities for sample 3000 / 3232\n",
            "[t-SNE] Computed conditional probabilities for sample 3232 / 3232\n",
            "[t-SNE] Mean sigma: 0.789973\n",
            "[t-SNE] Computed conditional probabilities in 0.189s\n",
            "[t-SNE] Iteration 50: error = 82.8492813, gradient norm = 0.0297146 (50 iterations in 2.576s)\n",
            "[t-SNE] Iteration 100: error = 77.7379074, gradient norm = 0.0149348 (50 iterations in 1.932s)\n",
            "[t-SNE] Iteration 150: error = 76.6442795, gradient norm = 0.0183082 (50 iterations in 1.712s)\n",
            "[t-SNE] Iteration 200: error = 76.2951202, gradient norm = 0.0058751 (50 iterations in 1.569s)\n",
            "[t-SNE] Iteration 250: error = 76.2184753, gradient norm = 0.0023559 (50 iterations in 1.364s)\n",
            "[t-SNE] KL divergence after 250 iterations with early exaggeration: 76.218475\n",
            "[t-SNE] Iteration 300: error = 1.8925316, gradient norm = 0.0010788 (50 iterations in 1.351s)\n",
            "[t-SNE] Iteration 350: error = 1.6422597, gradient norm = 0.0003931 (50 iterations in 1.310s)\n",
            "[t-SNE] Iteration 400: error = 1.5450799, gradient norm = 0.0002336 (50 iterations in 1.409s)\n",
            "[t-SNE] Iteration 450: error = 1.4978018, gradient norm = 0.0001609 (50 iterations in 1.418s)\n",
            "[t-SNE] Iteration 500: error = 1.4702415, gradient norm = 0.0001571 (50 iterations in 1.582s)\n",
            "[t-SNE] Iteration 550: error = 1.4535934, gradient norm = 0.0001054 (50 iterations in 1.483s)\n",
            "[t-SNE] Iteration 600: error = 1.4435272, gradient norm = 0.0000859 (50 iterations in 1.402s)\n",
            "[t-SNE] Iteration 650: error = 1.4350823, gradient norm = 0.0000771 (50 iterations in 1.782s)\n",
            "[t-SNE] Iteration 700: error = 1.4299898, gradient norm = 0.0000735 (50 iterations in 1.404s)\n",
            "[t-SNE] Iteration 750: error = 1.4259527, gradient norm = 0.0000650 (50 iterations in 1.377s)\n",
            "[t-SNE] Iteration 800: error = 1.4229051, gradient norm = 0.0000579 (50 iterations in 1.557s)\n",
            "[t-SNE] Iteration 850: error = 1.4201299, gradient norm = 0.0000550 (50 iterations in 1.278s)\n",
            "[t-SNE] Iteration 900: error = 1.4176445, gradient norm = 0.0000559 (50 iterations in 1.208s)\n",
            "[t-SNE] Iteration 950: error = 1.4157917, gradient norm = 0.0000504 (50 iterations in 1.516s)\n",
            "[t-SNE] Iteration 1000: error = 1.4143378, gradient norm = 0.0000454 (50 iterations in 1.301s)\n",
            "[t-SNE] KL divergence after 1000 iterations: 1.414338\n"
          ]
        },
        {
          "output_type": "display_data",
          "data": {
            "application/vnd.plotly.v1+json": {
              "config": {
                "plotlyServerURL": "https://plot.ly"
              },
              "data": [
                {
                  "customdata": [
                    [
                      "21st century classical"
                    ],
                    [
                      "432hz"
                    ],
                    [
                      "8-bit"
                    ],
                    [
                      "[]"
                    ],
                    [
                      "a cappella"
                    ],
                    [
                      "abstract"
                    ],
                    [
                      "abstract beats"
                    ],
                    [
                      "abstract hip hop"
                    ],
                    [
                      "abstract idm"
                    ],
                    [
                      "accordeon"
                    ],
                    [
                      "accordion"
                    ],
                    [
                      "acid house"
                    ],
                    [
                      "acid jazz"
                    ],
                    [
                      "acid rock"
                    ],
                    [
                      "acid techno"
                    ],
                    [
                      "acid trance"
                    ],
                    [
                      "acousmatic"
                    ],
                    [
                      "acoustic blues"
                    ],
                    [
                      "acoustic chill"
                    ],
                    [
                      "acoustic guitar cover"
                    ],
                    [
                      "acoustic pop"
                    ],
                    [
                      "acoustic punk"
                    ],
                    [
                      "acoustic rock"
                    ],
                    [
                      "action rock"
                    ],
                    [
                      "adoracao"
                    ],
                    [
                      "adoracion"
                    ],
                    [
                      "adult standards"
                    ],
                    [
                      "adventista"
                    ],
                    [
                      "afghan pop"
                    ],
                    [
                      "afghan traditional"
                    ],
                    [
                      "african gospel"
                    ],
                    [
                      "african percussion"
                    ],
                    [
                      "african reggae"
                    ],
                    [
                      "african rock"
                    ],
                    [
                      "african-american classical"
                    ],
                    [
                      "afrikaans"
                    ],
                    [
                      "afro dancehall"
                    ],
                    [
                      "afro house"
                    ],
                    [
                      "afro psych"
                    ],
                    [
                      "afro-funk"
                    ],
                    [
                      "afrobeat"
                    ],
                    [
                      "afrofuturism"
                    ],
                    [
                      "afrofuturismo brasileiro"
                    ],
                    [
                      "afropop"
                    ],
                    [
                      "afroswing"
                    ],
                    [
                      "aggrotech"
                    ],
                    [
                      "alabama indie"
                    ],
                    [
                      "alabama metal"
                    ],
                    [
                      "alabama rap"
                    ],
                    [
                      "alaska indie"
                    ],
                    [
                      "albanian hip hop"
                    ],
                    [
                      "albanian pop"
                    ],
                    [
                      "alberta country"
                    ],
                    [
                      "alberta hip hop"
                    ],
                    [
                      "album rock"
                    ],
                    [
                      "albuquerque indie"
                    ],
                    [
                      "alternative americana"
                    ],
                    [
                      "alternative country"
                    ],
                    [
                      "alternative dance"
                    ],
                    [
                      "alternative emo"
                    ],
                    [
                      "alternative hip hop"
                    ],
                    [
                      "alternative metal"
                    ],
                    [
                      "alternative pop"
                    ],
                    [
                      "alternative pop rock"
                    ],
                    [
                      "alternative r&b"
                    ],
                    [
                      "alternative rock"
                    ],
                    [
                      "alternative roots rock"
                    ],
                    [
                      "amapiano"
                    ],
                    [
                      "ambeat"
                    ],
                    [
                      "ambient"
                    ],
                    [
                      "ambient black metal"
                    ],
                    [
                      "ambient dub techno"
                    ],
                    [
                      "ambient folk"
                    ],
                    [
                      "ambient house"
                    ],
                    [
                      "ambient idm"
                    ],
                    [
                      "ambient industrial"
                    ],
                    [
                      "ambient pop"
                    ],
                    [
                      "ambient psychill"
                    ],
                    [
                      "ambient techno"
                    ],
                    [
                      "ambient trance"
                    ],
                    [
                      "ambient worship"
                    ],
                    [
                      "american 21st century classical"
                    ],
                    [
                      "american choir"
                    ],
                    [
                      "american classical piano"
                    ],
                    [
                      "american contemporary classical"
                    ],
                    [
                      "american early music"
                    ],
                    [
                      "american folk revival"
                    ],
                    [
                      "american grindcore"
                    ],
                    [
                      "american metalcore"
                    ],
                    [
                      "american modern classical"
                    ],
                    [
                      "american oi"
                    ],
                    [
                      "american orchestra"
                    ],
                    [
                      "american post-rock"
                    ],
                    [
                      "american primitive"
                    ],
                    [
                      "american romanticism"
                    ],
                    [
                      "american shoegaze"
                    ],
                    [
                      "anadolu rock"
                    ],
                    [
                      "anarcho-punk"
                    ],
                    [
                      "anglican liturgy"
                    ],
                    [
                      "animal singing"
                    ],
                    [
                      "anime"
                    ],
                    [
                      "anime latino"
                    ],
                    [
                      "anime rock"
                    ],
                    [
                      "anime score"
                    ],
                    [
                      "ann arbor indie"
                    ],
                    [
                      "anthem emo"
                    ],
                    [
                      "anthem worship"
                    ],
                    [
                      "anti-folk"
                    ],
                    [
                      "antilliaanse folklore"
                    ],
                    [
                      "antiviral pop"
                    ],
                    [
                      "appalachian folk"
                    ],
                    [
                      "arab alternative"
                    ],
                    [
                      "arab electronic"
                    ],
                    [
                      "arab folk"
                    ],
                    [
                      "arab groove"
                    ],
                    [
                      "arab pop"
                    ],
                    [
                      "arabesk"
                    ],
                    [
                      "arabic hip hop"
                    ],
                    [
                      "arabic jazz"
                    ],
                    [
                      "argentine ambient"
                    ],
                    [
                      "argentine heavy metal"
                    ],
                    [
                      "argentine hip hop"
                    ],
                    [
                      "argentine indie"
                    ],
                    [
                      "argentine metal"
                    ],
                    [
                      "argentine punk"
                    ],
                    [
                      "argentine reggae"
                    ],
                    [
                      "argentine rock"
                    ],
                    [
                      "argentine telepop"
                    ],
                    [
                      "arizona punk"
                    ],
                    [
                      "arkansas country"
                    ],
                    [
                      "arkansas hip hop"
                    ],
                    [
                      "armenian folk"
                    ],
                    [
                      "art pop"
                    ],
                    [
                      "art punk"
                    ],
                    [
                      "art rock"
                    ],
                    [
                      "art song"
                    ],
                    [
                      "asbury park indie"
                    ],
                    [
                      "asian american hip hop"
                    ],
                    [
                      "asmr"
                    ],
                    [
                      "assyrian pop"
                    ],
                    [
                      "athens indie"
                    ],
                    [
                      "atl hip hop"
                    ],
                    [
                      "atl trap"
                    ],
                    [
                      "atlanta indie"
                    ],
                    [
                      "atlanta metal"
                    ],
                    [
                      "atlanta punk"
                    ],
                    [
                      "atmosphere"
                    ],
                    [
                      "atmospheric black metal"
                    ],
                    [
                      "atmospheric dnb"
                    ],
                    [
                      "atmospheric post-metal"
                    ],
                    [
                      "atmospheric post-rock"
                    ],
                    [
                      "atmospheric sludge"
                    ],
                    [
                      "auckland indie"
                    ],
                    [
                      "audiophile vocal"
                    ],
                    [
                      "aussie emo"
                    ],
                    [
                      "aussietronica"
                    ],
                    [
                      "austin americana"
                    ],
                    [
                      "austin singer-songwriter"
                    ],
                    [
                      "austindie"
                    ],
                    [
                      "australian alternative pop"
                    ],
                    [
                      "australian alternative rock"
                    ],
                    [
                      "australian ambient"
                    ],
                    [
                      "australian americana"
                    ],
                    [
                      "australian black metal"
                    ],
                    [
                      "australian children's music"
                    ],
                    [
                      "australian classical"
                    ],
                    [
                      "australian classical piano"
                    ],
                    [
                      "australian country"
                    ],
                    [
                      "australian dance"
                    ],
                    [
                      "australian electropop"
                    ],
                    [
                      "australian garage punk"
                    ],
                    [
                      "australian hip hop"
                    ],
                    [
                      "australian house"
                    ],
                    [
                      "australian indie"
                    ],
                    [
                      "australian indie folk"
                    ],
                    [
                      "australian indigenous"
                    ],
                    [
                      "australian metal"
                    ],
                    [
                      "australian metalcore"
                    ],
                    [
                      "australian pop"
                    ],
                    [
                      "australian post-hardcore"
                    ],
                    [
                      "australian post-punk"
                    ],
                    [
                      "australian psych"
                    ],
                    [
                      "australian r&b"
                    ],
                    [
                      "australian reggae fusion"
                    ],
                    [
                      "australian rock"
                    ],
                    [
                      "australian singer-songwriter"
                    ],
                    [
                      "australian ska"
                    ],
                    [
                      "australian talent show"
                    ],
                    [
                      "australian trap"
                    ],
                    [
                      "australian underground hip hop"
                    ],
                    [
                      "austrian choir"
                    ],
                    [
                      "austrian classical piano"
                    ],
                    [
                      "austrian orchestra"
                    ],
                    [
                      "austrian punk"
                    ],
                    [
                      "austrian techno"
                    ],
                    [
                      "austro-german modernism"
                    ],
                    [
                      "auteur-compositeur-interprete quebecois"
                    ],
                    [
                      "autoharp"
                    ],
                    [
                      "autonomous black metal"
                    ],
                    [
                      "avant-garde"
                    ],
                    [
                      "avant-garde jazz"
                    ],
                    [
                      "avant-garde metal"
                    ],
                    [
                      "axe"
                    ],
                    [
                      "azeri traditional"
                    ],
                    [
                      "azonto"
                    ],
                    [
                      "azontobeats"
                    ],
                    [
                      "bachata"
                    ],
                    [
                      "bachata dominicana"
                    ],
                    [
                      "background jazz"
                    ],
                    [
                      "background music"
                    ],
                    [
                      "background piano"
                    ],
                    [
                      "baglama"
                    ],
                    [
                      "bahai"
                    ],
                    [
                      "bahamian folk"
                    ],
                    [
                      "bahamian pop"
                    ],
                    [
                      "baiao"
                    ],
                    [
                      "bakersfield sound"
                    ],
                    [
                      "balearic"
                    ],
                    [
                      "balkan brass"
                    ],
                    [
                      "balkan classical piano"
                    ],
                    [
                      "balkan hip hop"
                    ],
                    [
                      "ballet class"
                    ],
                    [
                      "ballroom"
                    ],
                    [
                      "baltic classical"
                    ],
                    [
                      "baltimore hip hop"
                    ],
                    [
                      "baltimore indie"
                    ],
                    [
                      "banda"
                    ],
                    [
                      "banda caliente"
                    ],
                    [
                      "banda carnavalera"
                    ],
                    [
                      "bandinhas"
                    ],
                    [
                      "bandolim"
                    ],
                    [
                      "bandoneon"
                    ],
                    [
                      "bangla"
                    ],
                    [
                      "banjo"
                    ],
                    [
                      "bansuri"
                    ],
                    [
                      "barbadian pop"
                    ],
                    [
                      "barbershop"
                    ],
                    [
                      "bard"
                    ],
                    [
                      "bardcore"
                    ],
                    [
                      "barnemusikk"
                    ],
                    [
                      "barnmusik"
                    ],
                    [
                      "barnsagor"
                    ],
                    [
                      "barockinterpreten"
                    ],
                    [
                      "baroque"
                    ],
                    [
                      "baroque brass"
                    ],
                    [
                      "baroque cello"
                    ],
                    [
                      "baroque ensemble"
                    ],
                    [
                      "baroque pop"
                    ],
                    [
                      "baroque singing"
                    ],
                    [
                      "baroque violin"
                    ],
                    [
                      "barrelhouse piano"
                    ],
                    [
                      "bass house"
                    ],
                    [
                      "bass music"
                    ],
                    [
                      "bass trap"
                    ],
                    [
                      "basshall"
                    ],
                    [
                      "bassline"
                    ],
                    [
                      "bath indie"
                    ],
                    [
                      "batida"
                    ],
                    [
                      "baton rouge rap"
                    ],
                    [
                      "battle rap"
                    ],
                    [
                      "bay area hip hop"
                    ],
                    [
                      "bay area indie"
                    ],
                    [
                      "bboy"
                    ],
                    [
                      "bc underground hip hop"
                    ],
                    [
                      "beach music"
                    ],
                    [
                      "beat italiano"
                    ],
                    [
                      "beat poetry"
                    ],
                    [
                      "beatboxing"
                    ],
                    [
                      "beatlesque"
                    ],
                    [
                      "beats"
                    ],
                    [
                      "bebop"
                    ],
                    [
                      "bedroom pop"
                    ],
                    [
                      "bedroom soul"
                    ],
                    [
                      "belarusian electronic"
                    ],
                    [
                      "belarusian indie"
                    ],
                    [
                      "belarusian pop"
                    ],
                    [
                      "belgian classical piano"
                    ],
                    [
                      "belgian contemporary classical"
                    ],
                    [
                      "belgian dance"
                    ],
                    [
                      "belgian edm"
                    ],
                    [
                      "belgian indie"
                    ],
                    [
                      "belgian indie rock"
                    ],
                    [
                      "belgian jazz"
                    ],
                    [
                      "belgian metal"
                    ],
                    [
                      "belgian new wave"
                    ],
                    [
                      "belgian pop"
                    ],
                    [
                      "belgian rock"
                    ],
                    [
                      "belgian singer-songwriter"
                    ],
                    [
                      "belgian techno"
                    ],
                    [
                      "belly dance"
                    ],
                    [
                      "belo horizonte indie"
                    ],
                    [
                      "bengali folk"
                    ],
                    [
                      "beninese pop"
                    ],
                    [
                      "bergen indie"
                    ],
                    [
                      "berlin minimal techno"
                    ],
                    [
                      "berlin school"
                    ],
                    [
                      "bhajan"
                    ],
                    [
                      "bhangra"
                    ],
                    [
                      "bible"
                    ],
                    [
                      "big band"
                    ],
                    [
                      "big beat"
                    ],
                    [
                      "big room"
                    ],
                    [
                      "binaural"
                    ],
                    [
                      "birmingham grime"
                    ],
                    [
                      "birmingham hip hop"
                    ],
                    [
                      "birmingham metal"
                    ],
                    [
                      "bitpop"
                    ],
                    [
                      "black 'n' roll"
                    ],
                    [
                      "black comedy"
                    ],
                    [
                      "black metal"
                    ],
                    [
                      "black punk"
                    ],
                    [
                      "black sludge"
                    ],
                    [
                      "black thrash"
                    ],
                    [
                      "blackened crust"
                    ],
                    [
                      "blackened deathcore"
                    ],
                    [
                      "blackgaze"
                    ],
                    [
                      "blasmusik"
                    ],
                    [
                      "bleep techno"
                    ],
                    [
                      "bluegrass"
                    ],
                    [
                      "bluegrass fiddle"
                    ],
                    [
                      "bluegrass gospel"
                    ],
                    [
                      "blues"
                    ],
                    [
                      "blues latinoamericano"
                    ],
                    [
                      "blues mexicano"
                    ],
                    [
                      "blues rock"
                    ],
                    [
                      "bmore"
                    ],
                    [
                      "bohemian baroque"
                    ],
                    [
                      "bolero"
                    ],
                    [
                      "bolero cubano"
                    ],
                    [
                      "bolero mexicano"
                    ],
                    [
                      "bomba y plena"
                    ],
                    [
                      "boogaloo"
                    ],
                    [
                      "boogie"
                    ],
                    [
                      "boogie-woogie"
                    ],
                    [
                      "boom bap"
                    ],
                    [
                      "bosnian electronic"
                    ],
                    [
                      "bossa nova"
                    ],
                    [
                      "bossa nova jazz"
                    ],
                    [
                      "boston folk"
                    ],
                    [
                      "boston hardcore"
                    ],
                    [
                      "boston hip hop"
                    ],
                    [
                      "boston indie"
                    ],
                    [
                      "boston metal"
                    ],
                    [
                      "boston punk"
                    ],
                    [
                      "boston rock"
                    ],
                    [
                      "bounce"
                    ],
                    [
                      "bouncy house"
                    ],
                    [
                      "bouzouki"
                    ],
                    [
                      "bow pop"
                    ],
                    [
                      "boy band"
                    ],
                    [
                      "boy pop"
                    ],
                    [
                      "boy soprano"
                    ],
                    [
                      "brain waves"
                    ],
                    [
                      "braindance"
                    ],
                    [
                      "brass band"
                    ],
                    [
                      "brass ensemble"
                    ],
                    [
                      "brass quintet"
                    ],
                    [
                      "brazilian bass"
                    ],
                    [
                      "brazilian black metal"
                    ],
                    [
                      "brazilian boogie"
                    ],
                    [
                      "brazilian classical"
                    ],
                    [
                      "brazilian classical piano"
                    ],
                    [
                      "brazilian contemporary classical"
                    ],
                    [
                      "brazilian doom metal"
                    ],
                    [
                      "brazilian edm"
                    ],
                    [
                      "brazilian gospel"
                    ],
                    [
                      "brazilian grindcore"
                    ],
                    [
                      "brazilian groove metal"
                    ],
                    [
                      "brazilian hip hop"
                    ],
                    [
                      "brazilian indie"
                    ],
                    [
                      "brazilian jazz"
                    ],
                    [
                      "brazilian metal"
                    ],
                    [
                      "brazilian percussion"
                    ],
                    [
                      "brazilian punk"
                    ],
                    [
                      "brazilian reggae"
                    ],
                    [
                      "brazilian rock"
                    ],
                    [
                      "brazilian ska"
                    ],
                    [
                      "brazilian soul"
                    ],
                    [
                      "brazilian tech house"
                    ],
                    [
                      "brazilian techno"
                    ],
                    [
                      "brazilian thrash metal"
                    ],
                    [
                      "breakbeat"
                    ],
                    [
                      "breakcore"
                    ],
                    [
                      "breaks"
                    ],
                    [
                      "brighton indie"
                    ],
                    [
                      "brill building pop"
                    ],
                    [
                      "bristol electronic"
                    ],
                    [
                      "bristol indie"
                    ],
                    [
                      "brit funk"
                    ],
                    [
                      "british alternative rock"
                    ],
                    [
                      "british black metal"
                    ],
                    [
                      "british blues"
                    ],
                    [
                      "british brass band"
                    ],
                    [
                      "british children's music"
                    ],
                    [
                      "british choir"
                    ],
                    [
                      "british classical piano"
                    ],
                    [
                      "british comedy"
                    ],
                    [
                      "british contemporary classical"
                    ],
                    [
                      "british dance band"
                    ],
                    [
                      "british death metal"
                    ],
                    [
                      "british experimental"
                    ],
                    [
                      "british folk"
                    ],
                    [
                      "british grindcore"
                    ],
                    [
                      "british indie rock"
                    ],
                    [
                      "british industrial"
                    ],
                    [
                      "british invasion"
                    ],
                    [
                      "british jazz"
                    ],
                    [
                      "british modern classical"
                    ],
                    [
                      "british orchestra"
                    ],
                    [
                      "british post-rock"
                    ],
                    [
                      "british power metal"
                    ],
                    [
                      "british singer-songwriter"
                    ],
                    [
                      "british soul"
                    ],
                    [
                      "british soundtrack"
                    ],
                    [
                      "britpop"
                    ],
                    [
                      "broadway"
                    ],
                    [
                      "broken beat"
                    ],
                    [
                      "bronx hip hop"
                    ],
                    [
                      "brooklyn drill"
                    ],
                    [
                      "brooklyn indie"
                    ],
                    [
                      "brostep"
                    ],
                    [
                      "brutal death metal"
                    ],
                    [
                      "brutal deathcore"
                    ],
                    [
                      "bubble trance"
                    ],
                    [
                      "bubblegrunge"
                    ],
                    [
                      "bubblegum dance"
                    ],
                    [
                      "bubblegum pop"
                    ],
                    [
                      "buffalo ny indie"
                    ],
                    [
                      "buffalo ny metal"
                    ],
                    [
                      "bulgarian electronic"
                    ],
                    [
                      "bulgarian experimental"
                    ],
                    [
                      "bulgarian pop"
                    ],
                    [
                      "burmese traditional"
                    ],
                    [
                      "bush ballad"
                    ],
                    [
                      "c-pop"
                    ],
                    [
                      "c86"
                    ],
                    [
                      "cabaret"
                    ],
                    [
                      "cajun"
                    ],
                    [
                      "calgary indie"
                    ],
                    [
                      "cali rap"
                    ],
                    [
                      "calming instrumental"
                    ],
                    [
                      "calypso"
                    ],
                    [
                      "cambodian rock"
                    ],
                    [
                      "cambridge choir"
                    ],
                    [
                      "cambridgeshire indie"
                    ],
                    [
                      "canadian americana"
                    ],
                    [
                      "canadian blues"
                    ],
                    [
                      "canadian ccm"
                    ],
                    [
                      "canadian celtic"
                    ],
                    [
                      "canadian children's music"
                    ],
                    [
                      "canadian choir"
                    ],
                    [
                      "canadian classical"
                    ],
                    [
                      "canadian classical piano"
                    ],
                    [
                      "canadian comedy"
                    ],
                    [
                      "canadian contemporary country"
                    ],
                    [
                      "canadian contemporary r&b"
                    ],
                    [
                      "canadian country"
                    ],
                    [
                      "canadian electronic"
                    ],
                    [
                      "canadian electropop"
                    ],
                    [
                      "canadian experimental"
                    ],
                    [
                      "canadian folk"
                    ],
                    [
                      "canadian hardcore"
                    ],
                    [
                      "canadian hip hop"
                    ],
                    [
                      "canadian indie"
                    ],
                    [
                      "canadian indie folk"
                    ],
                    [
                      "canadian indigenous"
                    ],
                    [
                      "canadian latin"
                    ],
                    [
                      "canadian metal"
                    ],
                    [
                      "canadian modern jazz"
                    ],
                    [
                      "canadian pop"
                    ],
                    [
                      "canadian pop punk"
                    ],
                    [
                      "canadian post-hardcore"
                    ],
                    [
                      "canadian post-rock"
                    ],
                    [
                      "canadian psychedelic"
                    ],
                    [
                      "canadian punk"
                    ],
                    [
                      "canadian rock"
                    ],
                    [
                      "canadian rockabilly"
                    ],
                    [
                      "canadian singer-songwriter"
                    ],
                    [
                      "canadian soundtrack"
                    ],
                    [
                      "cancion infantil mexicana"
                    ],
                    [
                      "cancion melodica"
                    ],
                    [
                      "candomble"
                    ],
                    [
                      "candy pop"
                    ],
                    [
                      "cantaditas"
                    ],
                    [
                      "cantautor"
                    ],
                    [
                      "cante flamenco"
                    ],
                    [
                      "canterbury scene"
                    ],
                    [
                      "canto popular uruguayo"
                    ],
                    [
                      "cantopop"
                    ],
                    [
                      "canzone d'autore"
                    ],
                    [
                      "canzone genovese"
                    ],
                    [
                      "canzone napoletana"
                    ],
                    [
                      "cape breton folk"
                    ],
                    [
                      "cape town indie"
                    ],
                    [
                      "cape verdean folk"
                    ],
                    [
                      "caracas indie"
                    ],
                    [
                      "carnatic"
                    ],
                    [
                      "carnatic instrumental"
                    ],
                    [
                      "carnatic vocal"
                    ],
                    [
                      "carnaval"
                    ],
                    [
                      "cartoon"
                    ],
                    [
                      "cathedral choir"
                    ],
                    [
                      "caucasian classical"
                    ],
                    [
                      "caucasian classical piano"
                    ],
                    [
                      "ccm"
                    ],
                    [
                      "cedm"
                    ],
                    [
                      "cello"
                    ],
                    [
                      "celtic"
                    ],
                    [
                      "celtic harp"
                    ],
                    [
                      "celtic metal"
                    ],
                    [
                      "celtic punk"
                    ],
                    [
                      "celtic rock"
                    ],
                    [
                      "cha-cha-cha"
                    ],
                    [
                      "chakra"
                    ],
                    [
                      "chalga"
                    ],
                    [
                      "chamame"
                    ],
                    [
                      "chamber choir"
                    ],
                    [
                      "chamber ensemble"
                    ],
                    [
                      "chamber folk"
                    ],
                    [
                      "chamber orchestra"
                    ],
                    [
                      "chamber pop"
                    ],
                    [
                      "chamber psych"
                    ],
                    [
                      "champeta"
                    ],
                    [
                      "channel islands indie"
                    ],
                    [
                      "channel pop"
                    ],
                    [
                      "chanson"
                    ],
                    [
                      "chanson paillarde"
                    ],
                    [
                      "chaotic hardcore"
                    ],
                    [
                      "charanga"
                    ],
                    [
                      "charango"
                    ],
                    [
                      "charlotte nc indie"
                    ],
                    [
                      "charlottesville indie"
                    ],
                    [
                      "chicago blues"
                    ],
                    [
                      "chicago drill"
                    ],
                    [
                      "chicago hardcore"
                    ],
                    [
                      "chicago house"
                    ],
                    [
                      "chicago indie"
                    ],
                    [
                      "chicago pop punk"
                    ],
                    [
                      "chicago punk"
                    ],
                    [
                      "chicago rap"
                    ],
                    [
                      "chicago soul"
                    ],
                    [
                      "chicano punk"
                    ],
                    [
                      "chicano rap"
                    ],
                    [
                      "chicha"
                    ],
                    [
                      "chihuahua indie"
                    ],
                    [
                      "children's choir"
                    ],
                    [
                      "children's folk"
                    ],
                    [
                      "children's music"
                    ],
                    [
                      "children's story"
                    ],
                    [
                      "chilean hardcore"
                    ],
                    [
                      "chilean indie"
                    ],
                    [
                      "chilean rock"
                    ],
                    [
                      "chilena"
                    ],
                    [
                      "chill groove"
                    ],
                    [
                      "chill guitar"
                    ],
                    [
                      "chill lounge"
                    ],
                    [
                      "chill pop"
                    ],
                    [
                      "chill r&b"
                    ],
                    [
                      "chillhop"
                    ],
                    [
                      "chillstep"
                    ],
                    [
                      "chillwave"
                    ],
                    [
                      "chinese audiophile"
                    ],
                    [
                      "chinese classical"
                    ],
                    [
                      "chinese classical performance"
                    ],
                    [
                      "chinese classical piano"
                    ],
                    [
                      "chinese electropop"
                    ],
                    [
                      "chinese hip hop"
                    ],
                    [
                      "chinese idol pop"
                    ],
                    [
                      "chinese indie"
                    ],
                    [
                      "chinese indie rock"
                    ],
                    [
                      "chinese instrumental"
                    ],
                    [
                      "chinese r&b"
                    ],
                    [
                      "chinese soundtrack"
                    ],
                    [
                      "chinese traditional"
                    ],
                    [
                      "chip hop"
                    ],
                    [
                      "chiptune"
                    ],
                    [
                      "chopped and screwed"
                    ],
                    [
                      "choral"
                    ],
                    [
                      "choro"
                    ],
                    [
                      "christchurch indie"
                    ],
                    [
                      "christelijk"
                    ],
                    [
                      "christian a cappella"
                    ],
                    [
                      "christian alternative rock"
                    ],
                    [
                      "christian hard rock"
                    ],
                    [
                      "christian hardcore"
                    ],
                    [
                      "christian hip hop"
                    ],
                    [
                      "christian indie"
                    ],
                    [
                      "christian metal"
                    ],
                    [
                      "christian metalcore"
                    ],
                    [
                      "christian music"
                    ],
                    [
                      "christian pop"
                    ],
                    [
                      "christian power metal"
                    ],
                    [
                      "christian punk"
                    ],
                    [
                      "christian relaxative"
                    ],
                    [
                      "christian rock"
                    ],
                    [
                      "christian trap"
                    ],
                    [
                      "christian uplift"
                    ],
                    [
                      "christmas instrumental"
                    ],
                    [
                      "christmas product"
                    ],
                    [
                      "chunchaca"
                    ],
                    [
                      "chutney"
                    ],
                    [
                      "cincinnati rap"
                    ],
                    [
                      "cinematic post-rock"
                    ],
                    [
                      "circuit"
                    ],
                    [
                      "circus"
                    ],
                    [
                      "city pop"
                    ],
                    [
                      "classic afrobeat"
                    ],
                    [
                      "classic arab pop"
                    ],
                    [
                      "classic australian country"
                    ],
                    [
                      "classic belgian pop"
                    ],
                    [
                      "classic bhangra"
                    ],
                    [
                      "classic bollywood"
                    ],
                    [
                      "classic canadian rock"
                    ],
                    [
                      "classic cantopop"
                    ],
                    [
                      "classic city pop"
                    ],
                    [
                      "classic colombian pop"
                    ],
                    [
                      "classic country pop"
                    ],
                    [
                      "classic czech pop"
                    ],
                    [
                      "classic danish pop"
                    ],
                    [
                      "classic dubstep"
                    ],
                    [
                      "classic eurovision"
                    ],
                    [
                      "classic finnish pop"
                    ],
                    [
                      "classic french pop"
                    ],
                    [
                      "classic garage rock"
                    ],
                    [
                      "classic girl group"
                    ],
                    [
                      "classic greek pop"
                    ],
                    [
                      "classic hardstyle"
                    ],
                    [
                      "classic hungarian pop"
                    ],
                    [
                      "classic icelandic pop"
                    ],
                    [
                      "classic indo pop"
                    ],
                    [
                      "classic iskelma"
                    ],
                    [
                      "classic israeli pop"
                    ],
                    [
                      "classic italian folk pop"
                    ],
                    [
                      "classic italian pop"
                    ],
                    [
                      "classic j-pop"
                    ],
                    [
                      "classic j-rock"
                    ],
                    [
                      "classic japanese jazz"
                    ],
                    [
                      "classic korean pop"
                    ],
                    [
                      "classic latvian pop"
                    ],
                    [
                      "classic luk thung"
                    ],
                    [
                      "classic mandopop"
                    ],
                    [
                      "classic norwegian pop"
                    ],
                    [
                      "classic nz pop"
                    ],
                    [
                      "classic opm"
                    ],
                    [
                      "classic pakistani pop"
                    ],
                    [
                      "classic persian pop"
                    ],
                    [
                      "classic peruvian pop"
                    ],
                    [
                      "classic polish pop"
                    ],
                    [
                      "classic praise"
                    ],
                    [
                      "classic progressive house"
                    ],
                    [
                      "classic psychedelic rock"
                    ],
                    [
                      "classic punjabi pop"
                    ],
                    [
                      "classic rock"
                    ],
                    [
                      "classic russian pop"
                    ],
                    [
                      "classic russian rock"
                    ],
                    [
                      "classic schlager"
                    ],
                    [
                      "classic soul"
                    ],
                    [
                      "classic soundtrack"
                    ],
                    [
                      "classic swedish pop"
                    ],
                    [
                      "classic thai pop"
                    ],
                    [
                      "classic tunisian pop"
                    ],
                    [
                      "classic turkish pop"
                    ],
                    [
                      "classic uk pop"
                    ],
                    [
                      "classic venezuelan pop"
                    ],
                    [
                      "classical"
                    ],
                    [
                      "classical accordion"
                    ],
                    [
                      "classical baritone"
                    ],
                    [
                      "classical bass"
                    ],
                    [
                      "classical cello"
                    ],
                    [
                      "classical clarinet"
                    ],
                    [
                      "classical contralto"
                    ],
                    [
                      "classical countertenor"
                    ],
                    [
                      "classical era"
                    ],
                    [
                      "classical flute"
                    ],
                    [
                      "classical guitar"
                    ],
                    [
                      "classical guitar quartet"
                    ],
                    [
                      "classical harp"
                    ],
                    [
                      "classical horn"
                    ],
                    [
                      "classical mandolin"
                    ],
                    [
                      "classical mezzo-soprano"
                    ],
                    [
                      "classical oboe"
                    ],
                    [
                      "classical organ"
                    ],
                    [
                      "classical performance"
                    ],
                    [
                      "classical piano"
                    ],
                    [
                      "classical piano duo"
                    ],
                    [
                      "classical piano trio"
                    ],
                    [
                      "classical saxophone"
                    ],
                    [
                      "classical soprano"
                    ],
                    [
                      "classical tenor"
                    ],
                    [
                      "classical trumpet"
                    ],
                    [
                      "classify"
                    ],
                    [
                      "clawhammer banjo"
                    ],
                    [
                      "clean comedy"
                    ],
                    [
                      "cleveland metal"
                    ],
                    [
                      "coco"
                    ],
                    [
                      "collage pop"
                    ],
                    [
                      "college a cappella"
                    ],
                    [
                      "college marching band"
                    ],
                    [
                      "cologne electronic"
                    ],
                    [
                      "cologne indie"
                    ],
                    [
                      "colombian electronic"
                    ],
                    [
                      "colombian hip hop"
                    ],
                    [
                      "colombian indie"
                    ],
                    [
                      "colombian pop"
                    ],
                    [
                      "colombian rock"
                    ],
                    [
                      "comedia"
                    ],
                    [
                      "comedy"
                    ],
                    [
                      "comedy rap"
                    ],
                    [
                      "comedy rock"
                    ],
                    [
                      "comic"
                    ],
                    [
                      "comic metal"
                    ],
                    [
                      "commons"
                    ],
                    [
                      "complextro"
                    ],
                    [
                      "compositional ambient"
                    ],
                    [
                      "concert band"
                    ],
                    [
                      "connecticut hardcore"
                    ],
                    [
                      "conscious hip hop"
                    ],
                    [
                      "contemporary choir"
                    ],
                    [
                      "contemporary classical"
                    ],
                    [
                      "contemporary classical piano"
                    ],
                    [
                      "contemporary country"
                    ],
                    [
                      "contemporary folk"
                    ],
                    [
                      "contemporary gospel"
                    ],
                    [
                      "contemporary jazz"
                    ],
                    [
                      "contemporary post-bop"
                    ],
                    [
                      "contemporary vocal jazz"
                    ],
                    [
                      "contrabass"
                    ],
                    [
                      "cool jazz"
                    ],
                    [
                      "copla"
                    ],
                    [
                      "cornish folk"
                    ],
                    [
                      "cornwall indie"
                    ],
                    [
                      "corrido"
                    ],
                    [
                      "corridos tumbados"
                    ],
                    [
                      "corrosion"
                    ],
                    [
                      "cosmic american"
                    ],
                    [
                      "cosmic black metal"
                    ],
                    [
                      "cosmic post-rock"
                    ],
                    [
                      "cosmic uplifting trance"
                    ],
                    [
                      "country"
                    ],
                    [
                      "country blues"
                    ],
                    [
                      "country boogie"
                    ],
                    [
                      "country dawn"
                    ],
                    [
                      "country gospel"
                    ],
                    [
                      "country pop"
                    ],
                    [
                      "country quebecois"
                    ],
                    [
                      "country rap"
                    ],
                    [
                      "country road"
                    ],
                    [
                      "country rock"
                    ],
                    [
                      "coverchill"
                    ],
                    [
                      "cowboy western"
                    ],
                    [
                      "cowpunk"
                    ],
                    [
                      "crack rock steady"
                    ],
                    [
                      "croatian electronic"
                    ],
                    [
                      "croatian folk"
                    ],
                    [
                      "croatian pop"
                    ],
                    [
                      "croatian rock"
                    ],
                    [
                      "crossover prog"
                    ],
                    [
                      "crossover thrash"
                    ],
                    [
                      "crunk"
                    ],
                    [
                      "crust punk"
                    ],
                    [
                      "cuarteto"
                    ],
                    [
                      "cuatro venezolano"
                    ],
                    [
                      "cuban rumba"
                    ],
                    [
                      "cubaton"
                    ],
                    [
                      "cumbia"
                    ],
                    [
                      "cumbia andina mexicana"
                    ],
                    [
                      "cumbia chilena"
                    ],
                    [
                      "cumbia colombiana regia"
                    ],
                    [
                      "cumbia ecuatoriana"
                    ],
                    [
                      "cumbia funk"
                    ],
                    [
                      "cumbia lagunera"
                    ],
                    [
                      "cumbia paraguaya"
                    ],
                    [
                      "cumbia peruana"
                    ],
                    [
                      "cumbia ranchera"
                    ],
                    [
                      "cumbia salvadorena"
                    ],
                    [
                      "cumbia sonidera"
                    ],
                    [
                      "cumbia villera"
                    ],
                    [
                      "cyberpunk"
                    ],
                    [
                      "cymraeg"
                    ],
                    [
                      "cypriot pop"
                    ],
                    [
                      "czech classical"
                    ],
                    [
                      "czech classical piano"
                    ],
                    [
                      "czech contemporary classical"
                    ],
                    [
                      "czech folk"
                    ],
                    [
                      "czech hip hop"
                    ],
                    [
                      "czsk hip hop"
                    ],
                    [
                      "d-beat"
                    ],
                    [
                      "dabke"
                    ],
                    [
                      "dakke dak"
                    ],
                    [
                      "dalarna indie"
                    ],
                    [
                      "dallas indie"
                    ],
                    [
                      "dance pop"
                    ],
                    [
                      "dance rock"
                    ],
                    [
                      "dance-punk"
                    ],
                    [
                      "dancehall"
                    ],
                    [
                      "dangdut"
                    ],
                    [
                      "danish alternative rock"
                    ],
                    [
                      "danish classical"
                    ],
                    [
                      "danish electro"
                    ],
                    [
                      "danish electronic"
                    ],
                    [
                      "danish electropop"
                    ],
                    [
                      "danish experimental"
                    ],
                    [
                      "danish hip hop"
                    ],
                    [
                      "danish jazz"
                    ],
                    [
                      "danish metal"
                    ],
                    [
                      "danish pop"
                    ],
                    [
                      "danish pop rock"
                    ],
                    [
                      "danish post-punk"
                    ],
                    [
                      "danish rock"
                    ],
                    [
                      "danish singer-songwriter"
                    ],
                    [
                      "danish techno"
                    ],
                    [
                      "dansband"
                    ],
                    [
                      "danseband"
                    ],
                    [
                      "dansktop"
                    ],
                    [
                      "danspunk"
                    ],
                    [
                      "dark cabaret"
                    ],
                    [
                      "dark clubbing"
                    ],
                    [
                      "dark disco"
                    ],
                    [
                      "dark electro"
                    ],
                    [
                      "dark hardcore"
                    ],
                    [
                      "dark jazz"
                    ],
                    [
                      "dark minimal techno"
                    ],
                    [
                      "dark post-punk"
                    ],
                    [
                      "dark progressive house"
                    ],
                    [
                      "dark psytrance"
                    ],
                    [
                      "dark techno"
                    ],
                    [
                      "dark trap"
                    ],
                    [
                      "dark wave"
                    ],
                    [
                      "darkstep"
                    ],
                    [
                      "darksynth"
                    ],
                    [
                      "dayton indie"
                    ],
                    [
                      "dc hardcore"
                    ],
                    [
                      "death 'n' roll"
                    ],
                    [
                      "death metal"
                    ],
                    [
                      "deathcore"
                    ],
                    [
                      "deathgrass"
                    ],
                    [
                      "deathgrind"
                    ],
                    [
                      "deathrash"
                    ],
                    [
                      "deathrock"
                    ],
                    [
                      "deathstep"
                    ],
                    [
                      "deep acoustic pop"
                    ],
                    [
                      "deep adult standards"
                    ],
                    [
                      "deep big room"
                    ],
                    [
                      "deep ccm"
                    ],
                    [
                      "deep chill"
                    ],
                    [
                      "deep christian rock"
                    ],
                    [
                      "deep classic garage rock"
                    ],
                    [
                      "deep comedy"
                    ],
                    [
                      "deep contemporary country"
                    ],
                    [
                      "deep dance pop"
                    ],
                    [
                      "deep darkpsy"
                    ],
                    [
                      "deep deep house"
                    ],
                    [
                      "deep deep tech house"
                    ],
                    [
                      "deep delta blues"
                    ],
                    [
                      "deep disco"
                    ],
                    [
                      "deep disco house"
                    ],
                    [
                      "deep dnb"
                    ],
                    [
                      "deep dubstep"
                    ],
                    [
                      "deep east coast hip hop"
                    ],
                    [
                      "deep euro house"
                    ],
                    [
                      "deep eurodance"
                    ],
                    [
                      "deep filthstep"
                    ],
                    [
                      "deep flow"
                    ],
                    [
                      "deep free jazz"
                    ],
                    [
                      "deep freestyle"
                    ],
                    [
                      "deep full on"
                    ],
                    [
                      "deep funk"
                    ],
                    [
                      "deep funk house"
                    ],
                    [
                      "deep g funk"
                    ],
                    [
                      "deep german punk"
                    ],
                    [
                      "deep groove house"
                    ],
                    [
                      "deep happy hardcore"
                    ],
                    [
                      "deep hardtechno"
                    ],
                    [
                      "deep house"
                    ],
                    [
                      "deep idm"
                    ],
                    [
                      "deep indian pop"
                    ],
                    [
                      "deep latin alternative"
                    ],
                    [
                      "deep latin christian"
                    ],
                    [
                      "deep latin jazz"
                    ],
                    [
                      "deep liquid bass"
                    ],
                    [
                      "deep melodic hard rock"
                    ],
                    [
                      "deep melodic metalcore"
                    ],
                    [
                      "deep metalcore"
                    ],
                    [
                      "deep minimal techno"
                    ],
                    [
                      "deep motown"
                    ],
                    [
                      "deep new americana"
                    ],
                    [
                      "deep new wave"
                    ],
                    [
                      "deep norteno"
                    ],
                    [
                      "deep pop edm"
                    ],
                    [
                      "deep power-pop punk"
                    ],
                    [
                      "deep progressive house"
                    ],
                    [
                      "deep progressive trance"
                    ],
                    [
                      "deep psychobilly"
                    ],
                    [
                      "deep punk rock"
                    ],
                    [
                      "deep r&b"
                    ],
                    [
                      "deep ragga"
                    ],
                    [
                      "deep regional mexican"
                    ],
                    [
                      "deep smooth jazz"
                    ],
                    [
                      "deep soft rock"
                    ],
                    [
                      "deep soul house"
                    ],
                    [
                      "deep soundtrack"
                    ],
                    [
                      "deep southern soul"
                    ],
                    [
                      "deep southern trap"
                    ],
                    [
                      "deep talent show"
                    ],
                    [
                      "deep tech house"
                    ],
                    [
                      "deep techno"
                    ],
                    [
                      "deep tropical house"
                    ],
                    [
                      "deep underground hip hop"
                    ],
                    [
                      "deep uplifting trance"
                    ],
                    [
                      "deep vocal house"
                    ],
                    [
                      "delta blues"
                    ],
                    [
                      "dembow"
                    ],
                    [
                      "denpa-kei"
                    ],
                    [
                      "denton tx indie"
                    ],
                    [
                      "denver indie"
                    ],
                    [
                      "depressive black metal"
                    ],
                    [
                      "derby indie"
                    ],
                    [
                      "desert blues"
                    ],
                    [
                      "desi hip hop"
                    ],
                    [
                      "desi pop"
                    ],
                    [
                      "destroy techno"
                    ],
                    [
                      "detroit hip hop"
                    ],
                    [
                      "detroit house"
                    ],
                    [
                      "detroit rock"
                    ],
                    [
                      "detroit techno"
                    ],
                    [
                      "detroit trap"
                    ],
                    [
                      "detske pisnicky"
                    ],
                    [
                      "detskie pesni"
                    ],
                    [
                      "dfw rap"
                    ],
                    [
                      "dhrupad"
                    ],
                    [
                      "didgeridoo"
                    ],
                    [
                      "digital hardcore"
                    ],
                    [
                      "dinner jazz"
                    ],
                    [
                      "dirty south rap"
                    ],
                    [
                      "dirty texas rap"
                    ],
                    [
                      "disco"
                    ],
                    [
                      "disco house"
                    ],
                    [
                      "disney"
                    ],
                    [
                      "disney svenska"
                    ],
                    [
                      "diva house"
                    ],
                    [
                      "dixieland"
                    ],
                    [
                      "diy emo"
                    ],
                    [
                      "djent"
                    ],
                    [
                      "dmv rap"
                    ],
                    [
                      "dominican pop"
                    ],
                    [
                      "dong-yo"
                    ],
                    [
                      "doo-wop"
                    ],
                    [
                      "doom metal"
                    ],
                    [
                      "doomcore"
                    ],
                    [
                      "dortmund indie"
                    ],
                    [
                      "double drumming"
                    ],
                    [
                      "downtempo"
                    ],
                    [
                      "downtempo bass"
                    ],
                    [
                      "drama"
                    ],
                    [
                      "dream pop"
                    ],
                    [
                      "dream trance"
                    ],
                    [
                      "dreamgaze"
                    ],
                    [
                      "dreamo"
                    ],
                    [
                      "drift"
                    ],
                    [
                      "drill"
                    ],
                    [
                      "drill and bass"
                    ],
                    [
                      "drone"
                    ],
                    [
                      "drone folk"
                    ],
                    [
                      "drone metal"
                    ],
                    [
                      "drum and bass"
                    ],
                    [
                      "dub"
                    ],
                    [
                      "dub metal"
                    ],
                    [
                      "dub poetry"
                    ],
                    [
                      "dub reggae"
                    ],
                    [
                      "dub techno"
                    ],
                    [
                      "dubstep"
                    ],
                    [
                      "dubstep product"
                    ],
                    [
                      "dubsteppe"
                    ],
                    [
                      "duduk"
                    ],
                    [
                      "duluth indie"
                    ],
                    [
                      "dunedin indie"
                    ],
                    [
                      "dunedin sound"
                    ],
                    [
                      "dungeon synth"
                    ],
                    [
                      "duranguense"
                    ],
                    [
                      "dusseldorf electronic"
                    ],
                    [
                      "dutch americana"
                    ],
                    [
                      "dutch blues"
                    ],
                    [
                      "dutch classical piano"
                    ],
                    [
                      "dutch death metal"
                    ],
                    [
                      "dutch edm"
                    ],
                    [
                      "dutch experimental electronic"
                    ],
                    [
                      "dutch folk"
                    ],
                    [
                      "dutch hip hop"
                    ],
                    [
                      "dutch house"
                    ],
                    [
                      "dutch indie"
                    ],
                    [
                      "dutch indie rock"
                    ],
                    [
                      "dutch jazz"
                    ],
                    [
                      "dutch metal"
                    ],
                    [
                      "dutch moombahton"
                    ],
                    [
                      "dutch pop"
                    ],
                    [
                      "dutch prog"
                    ],
                    [
                      "dutch rap pop"
                    ],
                    [
                      "dutch rock"
                    ],
                    [
                      "dutch tech house"
                    ],
                    [
                      "dutch trance"
                    ],
                    [
                      "early american folk"
                    ],
                    [
                      "early avant garde"
                    ],
                    [
                      "early modern classical"
                    ],
                    [
                      "early music"
                    ],
                    [
                      "early music choir"
                    ],
                    [
                      "early music ensemble"
                    ],
                    [
                      "early reggae"
                    ],
                    [
                      "early romantic era"
                    ],
                    [
                      "early synthpop"
                    ],
                    [
                      "early us punk"
                    ],
                    [
                      "east coast hip hop"
                    ],
                    [
                      "east coast reggae"
                    ],
                    [
                      "eastern bloc groove"
                    ],
                    [
                      "easy listening"
                    ],
                    [
                      "easycore"
                    ],
                    [
                      "eau claire indie"
                    ],
                    [
                      "ebm"
                    ],
                    [
                      "ecm-style jazz"
                    ],
                    [
                      "ectofolk"
                    ],
                    [
                      "ecuadorian pop"
                    ],
                    [
                      "edm"
                    ],
                    [
                      "edmonton indie"
                    ],
                    [
                      "egyptian pop"
                    ],
                    [
                      "egyptian traditional"
                    ],
                    [
                      "el paso indie"
                    ],
                    [
                      "electra"
                    ],
                    [
                      "electric bass"
                    ],
                    [
                      "electric blues"
                    ],
                    [
                      "electro"
                    ],
                    [
                      "electro house"
                    ],
                    [
                      "electro jazz"
                    ],
                    [
                      "electro latino"
                    ],
                    [
                      "electro swing"
                    ],
                    [
                      "electro trash"
                    ],
                    [
                      "electro-industrial"
                    ],
                    [
                      "electroclash"
                    ],
                    [
                      "electrofox"
                    ],
                    [
                      "electronic djent"
                    ],
                    [
                      "electronic rock"
                    ],
                    [
                      "electronic trap"
                    ],
                    [
                      "electronica"
                    ],
                    [
                      "electronica argentina"
                    ],
                    [
                      "electronica chilena"
                    ],
                    [
                      "electronica venezuela"
                    ],
                    [
                      "electronicore"
                    ],
                    [
                      "electropop"
                    ],
                    [
                      "electropowerpop"
                    ],
                    [
                      "elektropunk"
                    ],
                    [
                      "elephant 6"
                    ],
                    [
                      "emo"
                    ],
                    [
                      "emo mexicano"
                    ],
                    [
                      "emo punk"
                    ],
                    [
                      "emo rap"
                    ],
                    [
                      "emocore"
                    ],
                    [
                      "english baroque"
                    ],
                    [
                      "english indie rock"
                    ],
                    [
                      "english renaissance"
                    ],
                    [
                      "entehno"
                    ],
                    [
                      "environmental"
                    ],
                    [
                      "epic doom"
                    ],
                    [
                      "epicore"
                    ],
                    [
                      "erhu"
                    ],
                    [
                      "erotica"
                    ],
                    [
                      "escape room"
                    ],
                    [
                      "esperanto"
                    ],
                    [
                      "estonian hip hop"
                    ],
                    [
                      "estonian pop"
                    ],
                    [
                      "ethereal wave"
                    ],
                    [
                      "etherpop"
                    ],
                    [
                      "ethio-jazz"
                    ],
                    [
                      "ethiopian pop"
                    ],
                    [
                      "ethnomusicology"
                    ],
                    [
                      "ethnotronica"
                    ],
                    [
                      "eugene indie"
                    ],
                    [
                      "euphoric hardstyle"
                    ],
                    [
                      "euro hi-nrg"
                    ],
                    [
                      "eurobeat"
                    ],
                    [
                      "eurodance"
                    ],
                    [
                      "europop"
                    ],
                    [
                      "euroska"
                    ],
                    [
                      "eurovision"
                    ],
                    [
                      "exotica"
                    ],
                    [
                      "experimental"
                    ],
                    [
                      "experimental ambient"
                    ],
                    [
                      "experimental dub"
                    ],
                    [
                      "experimental folk"
                    ],
                    [
                      "experimental guitar"
                    ],
                    [
                      "experimental hip hop"
                    ],
                    [
                      "experimental house"
                    ],
                    [
                      "experimental indie rock"
                    ],
                    [
                      "experimental jazz"
                    ],
                    [
                      "experimental pop"
                    ],
                    [
                      "experimental rock"
                    ],
                    [
                      "experimental vocal"
                    ],
                    [
                      "fado"
                    ],
                    [
                      "fake"
                    ],
                    [
                      "family gospel"
                    ],
                    [
                      "faroese pop"
                    ],
                    [
                      "fast melodic punk"
                    ],
                    [
                      "fidget house"
                    ],
                    [
                      "filmi"
                    ],
                    [
                      "filter house"
                    ],
                    [
                      "filthstep"
                    ],
                    [
                      "final fantasy"
                    ],
                    [
                      "fingerstyle"
                    ],
                    [
                      "finnish alternative rock"
                    ],
                    [
                      "finnish black metal"
                    ],
                    [
                      "finnish classical"
                    ],
                    [
                      "finnish contemporary classical"
                    ],
                    [
                      "finnish death metal"
                    ],
                    [
                      "finnish doom metal"
                    ],
                    [
                      "finnish edm"
                    ],
                    [
                      "finnish electro"
                    ],
                    [
                      "finnish hard rock"
                    ],
                    [
                      "finnish melodeath"
                    ],
                    [
                      "finnish metal"
                    ],
                    [
                      "finnish power metal"
                    ],
                    [
                      "finnish soul"
                    ],
                    [
                      "firenze indie"
                    ],
                    [
                      "flamenco"
                    ],
                    [
                      "flamenco fusion"
                    ],
                    [
                      "flamenco guitar"
                    ],
                    [
                      "flick hop"
                    ],
                    [
                      "flint hip hop"
                    ],
                    [
                      "float house"
                    ],
                    [
                      "florida death metal"
                    ],
                    [
                      "florida rap"
                    ],
                    [
                      "fo jing"
                    ],
                    [
                      "focus"
                    ],
                    [
                      "focus beats"
                    ],
                    [
                      "focus trance"
                    ],
                    [
                      "folclor afrocolombiano"
                    ],
                    [
                      "folclor colombiano"
                    ],
                    [
                      "folclore extremeno"
                    ],
                    [
                      "folclore jujeno"
                    ],
                    [
                      "folclore navarra"
                    ],
                    [
                      "folclore salteno"
                    ],
                    [
                      "folclore tucumano"
                    ],
                    [
                      "folk"
                    ],
                    [
                      "folk metal"
                    ],
                    [
                      "folk punk"
                    ],
                    [
                      "folk rock"
                    ],
                    [
                      "folk rock italiano"
                    ],
                    [
                      "folk-pop"
                    ],
                    [
                      "folklore argentino"
                    ],
                    [
                      "folklore boliviano"
                    ],
                    [
                      "folklore chileno"
                    ],
                    [
                      "folklore ecuatoriano"
                    ],
                    [
                      "folklore peruano"
                    ],
                    [
                      "folklore quebecois"
                    ],
                    [
                      "folklore venezolano"
                    ],
                    [
                      "folkmusik"
                    ],
                    [
                      "folktronica"
                    ],
                    [
                      "footwork"
                    ],
                    [
                      "forro"
                    ],
                    [
                      "forro tradicional"
                    ],
                    [
                      "fort worth indie"
                    ],
                    [
                      "fourth world"
                    ],
                    [
                      "franco-flemish school"
                    ],
                    [
                      "francoton"
                    ],
                    [
                      "frankfurt electronic"
                    ],
                    [
                      "freak folk"
                    ],
                    [
                      "freakbeat"
                    ],
                    [
                      "free folk"
                    ],
                    [
                      "free improvisation"
                    ],
                    [
                      "free jazz"
                    ],
                    [
                      "freestyle"
                    ],
                    [
                      "french baroque"
                    ],
                    [
                      "french classical piano"
                    ],
                    [
                      "french contemporary classical"
                    ],
                    [
                      "french death metal"
                    ],
                    [
                      "french hip hop"
                    ],
                    [
                      "french indie folk"
                    ],
                    [
                      "french indie pop"
                    ],
                    [
                      "french indietronica"
                    ],
                    [
                      "french jazz"
                    ],
                    [
                      "french metal"
                    ],
                    [
                      "french movie tunes"
                    ],
                    [
                      "french opera"
                    ],
                    [
                      "french orchestra"
                    ],
                    [
                      "french pop"
                    ],
                    [
                      "french post-punk"
                    ],
                    [
                      "french punk"
                    ],
                    [
                      "french reggae"
                    ],
                    [
                      "french rock"
                    ],
                    [
                      "french romanticism"
                    ],
                    [
                      "french shoegaze"
                    ],
                    [
                      "french soundtrack"
                    ],
                    [
                      "french synthpop"
                    ],
                    [
                      "french tech house"
                    ],
                    [
                      "french techno"
                    ],
                    [
                      "frenchcore"
                    ],
                    [
                      "frevo"
                    ],
                    [
                      "full on"
                    ],
                    [
                      "funana"
                    ],
                    [
                      "funeral doom"
                    ],
                    [
                      "funk"
                    ],
                    [
                      "funk 150 bpm"
                    ],
                    [
                      "funk carioca"
                    ],
                    [
                      "funk metal"
                    ],
                    [
                      "funk mexicano"
                    ],
                    [
                      "funk ostentacao"
                    ],
                    [
                      "funk pop"
                    ],
                    [
                      "funk rock"
                    ],
                    [
                      "funky breaks"
                    ],
                    [
                      "funky tech house"
                    ],
                    [
                      "future ambient"
                    ],
                    [
                      "future bass"
                    ],
                    [
                      "future funk"
                    ],
                    [
                      "future garage"
                    ],
                    [
                      "future house"
                    ],
                    [
                      "future rock"
                    ],
                    [
                      "futurepop"
                    ],
                    [
                      "g funk"
                    ],
                    [
                      "gabba"
                    ],
                    [
                      "gabonese pop"
                    ],
                    [
                      "gaian doom"
                    ],
                    [
                      "gainesville indie"
                    ],
                    [
                      "gaita zuliana"
                    ],
                    [
                      "galante era"
                    ],
                    [
                      "gamelan"
                    ],
                    [
                      "gaming dubstep"
                    ],
                    [
                      "gaming edm"
                    ],
                    [
                      "gangster rap"
                    ],
                    [
                      "garage house"
                    ],
                    [
                      "garage pop"
                    ],
                    [
                      "garage psych"
                    ],
                    [
                      "garage punk"
                    ],
                    [
                      "garage punk blues"
                    ],
                    [
                      "garage rock"
                    ],
                    [
                      "garage rock revival"
                    ],
                    [
                      "gauze pop"
                    ],
                    [
                      "gbvfi"
                    ],
                    [
                      "geek folk"
                    ],
                    [
                      "geek rock"
                    ],
                    [
                      "georgian electronic"
                    ],
                    [
                      "georgian folk"
                    ],
                    [
                      "german alternative rock"
                    ],
                    [
                      "german baroque"
                    ],
                    [
                      "german black metal"
                    ],
                    [
                      "german choir"
                    ],
                    [
                      "german classical piano"
                    ],
                    [
                      "german country"
                    ],
                    [
                      "german dance"
                    ],
                    [
                      "german dark minimal techno"
                    ],
                    [
                      "german electronica"
                    ],
                    [
                      "german grindcore"
                    ],
                    [
                      "german hard rock"
                    ],
                    [
                      "german heavy metal"
                    ],
                    [
                      "german hip hop"
                    ],
                    [
                      "german house"
                    ],
                    [
                      "german indie"
                    ],
                    [
                      "german indie pop"
                    ],
                    [
                      "german jazz"
                    ],
                    [
                      "german literature"
                    ],
                    [
                      "german metal"
                    ],
                    [
                      "german metalcore"
                    ],
                    [
                      "german oi"
                    ],
                    [
                      "german opera"
                    ],
                    [
                      "german orchestra"
                    ],
                    [
                      "german pop"
                    ],
                    [
                      "german pop rock"
                    ],
                    [
                      "german post-rock"
                    ],
                    [
                      "german power metal"
                    ],
                    [
                      "german punk"
                    ],
                    [
                      "german punk rock"
                    ],
                    [
                      "german renaissance"
                    ],
                    [
                      "german rock"
                    ],
                    [
                      "german romanticism"
                    ],
                    [
                      "german shoegaze"
                    ],
                    [
                      "german show tunes"
                    ],
                    [
                      "german ska"
                    ],
                    [
                      "german soundtrack"
                    ],
                    [
                      "german stoner rock"
                    ],
                    [
                      "german street punk"
                    ],
                    [
                      "german tech house"
                    ],
                    [
                      "german techno"
                    ],
                    [
                      "german thrash metal"
                    ],
                    [
                      "german trance"
                    ],
                    [
                      "german underground rap"
                    ],
                    [
                      "ghanaian hip hop"
                    ],
                    [
                      "ghanaian pop"
                    ],
                    [
                      "ghanaian traditional"
                    ],
                    [
                      "ghazal"
                    ],
                    [
                      "ghent indie"
                    ],
                    [
                      "ghettotech"
                    ],
                    [
                      "ghoststep"
                    ],
                    [
                      "girl group"
                    ],
                    [
                      "glam metal"
                    ],
                    [
                      "glam punk"
                    ],
                    [
                      "glam rock"
                    ],
                    [
                      "glee club"
                    ],
                    [
                      "glitch"
                    ],
                    [
                      "glitch hop"
                    ],
                    [
                      "glitch pop"
                    ],
                    [
                      "glitchcore"
                    ],
                    [
                      "glitter trance"
                    ],
                    [
                      "go-go"
                    ],
                    [
                      "goa psytrance"
                    ],
                    [
                      "goa trance"
                    ],
                    [
                      "goregrind"
                    ],
                    [
                      "gospel"
                    ],
                    [
                      "gospel antigas"
                    ],
                    [
                      "gospel blues"
                    ],
                    [
                      "gospel italiano"
                    ],
                    [
                      "gospel r&b"
                    ],
                    [
                      "gospel singers"
                    ],
                    [
                      "gospel soul"
                    ],
                    [
                      "gothabilly"
                    ],
                    [
                      "gothenburg indie"
                    ],
                    [
                      "gothenburg metal"
                    ],
                    [
                      "gothic alternative"
                    ],
                    [
                      "gothic americana"
                    ],
                    [
                      "gothic black metal"
                    ],
                    [
                      "gothic metal"
                    ],
                    [
                      "gothic post-punk"
                    ],
                    [
                      "gothic rock"
                    ],
                    [
                      "gothic symphonic metal"
                    ],
                    [
                      "gqom"
                    ],
                    [
                      "grand rapids indie"
                    ],
                    [
                      "grave wave"
                    ],
                    [
                      "greek black metal"
                    ],
                    [
                      "greek clarinet"
                    ],
                    [
                      "greek contemporary classical"
                    ],
                    [
                      "greek folk"
                    ],
                    [
                      "greek guitar"
                    ],
                    [
                      "greek hip hop"
                    ],
                    [
                      "greek house"
                    ],
                    [
                      "greek pop"
                    ],
                    [
                      "greek swing"
                    ],
                    [
                      "greek techno"
                    ],
                    [
                      "greek underground rap"
                    ],
                    [
                      "gregorian chant"
                    ],
                    [
                      "grime"
                    ],
                    [
                      "grindcore"
                    ],
                    [
                      "griot"
                    ],
                    [
                      "groove metal"
                    ],
                    [
                      "groove room"
                    ],
                    [
                      "grunge"
                    ],
                    [
                      "grunge pop"
                    ],
                    [
                      "grupera"
                    ],
                    [
                      "gruperas inmortales"
                    ],
                    [
                      "guadalajara indie"
                    ],
                    [
                      "guam indie"
                    ],
                    [
                      "guaracha"
                    ],
                    [
                      "guatemalan pop"
                    ],
                    [
                      "guidance"
                    ],
                    [
                      "guinean pop"
                    ],
                    [
                      "guitarra argentina"
                    ],
                    [
                      "guitarra clasica"
                    ],
                    [
                      "guitarra portuguesa"
                    ],
                    [
                      "gujarati garba"
                    ],
                    [
                      "guzheng"
                    ],
                    [
                      "gymcore"
                    ],
                    [
                      "gypsy"
                    ],
                    [
                      "gypsy jazz"
                    ],
                    [
                      "gypsy punk"
                    ],
                    [
                      "haitian dance"
                    ],
                    [
                      "haitian traditional"
                    ],
                    [
                      "halftime dnb"
                    ],
                    [
                      "halifax indie"
                    ],
                    [
                      "halloween"
                    ],
                    [
                      "hamburg electronic"
                    ],
                    [
                      "hamburg hip hop"
                    ],
                    [
                      "hamilton on indie"
                    ],
                    [
                      "hammered dulcimer"
                    ],
                    [
                      "hammond organ"
                    ],
                    [
                      "hands up"
                    ],
                    [
                      "happy hardcore"
                    ],
                    [
                      "hard alternative"
                    ],
                    [
                      "hard bass"
                    ],
                    [
                      "hard bop"
                    ],
                    [
                      "hard dance"
                    ],
                    [
                      "hard glam"
                    ],
                    [
                      "hard house"
                    ],
                    [
                      "hard minimal techno"
                    ],
                    [
                      "hard rock"
                    ],
                    [
                      "hard rock brasileiro"
                    ],
                    [
                      "hard trance"
                    ],
                    [
                      "hardcore"
                    ],
                    [
                      "hardcore hip hop"
                    ],
                    [
                      "hardcore punk"
                    ],
                    [
                      "hardcore punk espanol"
                    ],
                    [
                      "hardcore techno"
                    ],
                    [
                      "hardstyle"
                    ],
                    [
                      "hardvapour"
                    ],
                    [
                      "harlem hip hop"
                    ],
                    [
                      "harlem renaissance"
                    ],
                    [
                      "harmonica blues"
                    ],
                    [
                      "harmonica jazz"
                    ],
                    [
                      "harp"
                    ],
                    [
                      "harpsichord"
                    ],
                    [
                      "haryanvi pop"
                    ],
                    [
                      "hawaiian"
                    ],
                    [
                      "hawaiian hip hop"
                    ],
                    [
                      "hawaiian indie"
                    ],
                    [
                      "healing"
                    ],
                    [
                      "heartland rock"
                    ],
                    [
                      "hi-nrg"
                    ],
                    [
                      "highlife"
                    ],
                    [
                      "hindi hip hop"
                    ],
                    [
                      "hindi indie"
                    ],
                    [
                      "hindustani classical"
                    ],
                    [
                      "hindustani instrumental"
                    ],
                    [
                      "hindustani vocal"
                    ],
                    [
                      "hip hop"
                    ],
                    [
                      "hip hop cubano"
                    ],
                    [
                      "hip house"
                    ],
                    [
                      "hip pop"
                    ],
                    [
                      "histoire pour enfants"
                    ],
                    [
                      "historic classical performance"
                    ],
                    [
                      "historic orchestral performance"
                    ],
                    [
                      "historic piano performance"
                    ],
                    [
                      "historic string quartet"
                    ],
                    [
                      "historical keyboard"
                    ],
                    [
                      "historically informed performance"
                    ],
                    [
                      "hoerspiel"
                    ],
                    [
                      "hokkien pop"
                    ],
                    [
                      "hollywood"
                    ],
                    [
                      "hong kong indie"
                    ],
                    [
                      "hong kong rock"
                    ],
                    [
                      "honky tonk"
                    ],
                    [
                      "honky-tonk piano"
                    ],
                    [
                      "hopebeat"
                    ],
                    [
                      "horror punk"
                    ],
                    [
                      "horror synth"
                    ],
                    [
                      "horrorcore"
                    ],
                    [
                      "house"
                    ],
                    [
                      "house argentino"
                    ],
                    [
                      "houston rap"
                    ],
                    [
                      "huapango"
                    ],
                    [
                      "huayno"
                    ],
                    [
                      "hula"
                    ],
                    [
                      "humppa"
                    ],
                    [
                      "hungarian choir"
                    ],
                    [
                      "hungarian classical performance"
                    ],
                    [
                      "hungarian classical piano"
                    ],
                    [
                      "hungarian contemporary classical"
                    ],
                    [
                      "hungarian edm"
                    ],
                    [
                      "hungarian folk"
                    ],
                    [
                      "hungarian pop"
                    ],
                    [
                      "hungarian rock"
                    ],
                    [
                      "hungarian techno"
                    ],
                    [
                      "hurdy-gurdy"
                    ],
                    [
                      "hyperpop"
                    ],
                    [
                      "hyphy"
                    ],
                    [
                      "icelandic classical"
                    ],
                    [
                      "icelandic experimental"
                    ],
                    [
                      "icelandic folk"
                    ],
                    [
                      "icelandic indie"
                    ],
                    [
                      "icelandic pop"
                    ],
                    [
                      "icelandic rock"
                    ],
                    [
                      "idaho indie"
                    ],
                    [
                      "idol"
                    ],
                    [
                      "idol rock"
                    ],
                    [
                      "ilahiler"
                    ],
                    [
                      "ilocano pop"
                    ],
                    [
                      "impressionism"
                    ],
                    [
                      "indian classical"
                    ],
                    [
                      "indian edm"
                    ],
                    [
                      "indian folk"
                    ],
                    [
                      "indian fusion"
                    ],
                    [
                      "indian indie"
                    ],
                    [
                      "indian instrumental"
                    ],
                    [
                      "indian jazz"
                    ],
                    [
                      "indian rock"
                    ],
                    [
                      "indian singer-songwriter"
                    ],
                    [
                      "indiana hip hop"
                    ],
                    [
                      "indiana indie"
                    ],
                    [
                      "indie anthem-folk"
                    ],
                    [
                      "indie cafe pop"
                    ],
                    [
                      "indie catala"
                    ],
                    [
                      "indie dream pop"
                    ],
                    [
                      "indie electronica"
                    ],
                    [
                      "indie electropop"
                    ],
                    [
                      "indie folk"
                    ],
                    [
                      "indie fuzzpop"
                    ],
                    [
                      "indie game soundtrack"
                    ],
                    [
                      "indie garage rock"
                    ],
                    [
                      "indie hip hop"
                    ],
                    [
                      "indie jazz"
                    ],
                    [
                      "indie pop"
                    ],
                    [
                      "indie pop rap"
                    ],
                    [
                      "indie poptimism"
                    ],
                    [
                      "indie psych-pop"
                    ],
                    [
                      "indie punk"
                    ],
                    [
                      "indie quebecois"
                    ],
                    [
                      "indie r&b"
                    ],
                    [
                      "indie rock"
                    ],
                    [
                      "indie rockism"
                    ],
                    [
                      "indie shoegaze"
                    ],
                    [
                      "indie singer-songwriter"
                    ],
                    [
                      "indie soul"
                    ],
                    [
                      "indie surf"
                    ],
                    [
                      "indie tabasqueno"
                    ],
                    [
                      "indie veneto"
                    ],
                    [
                      "indiecoustica"
                    ],
                    [
                      "indietronica"
                    ],
                    [
                      "indonesian alternative rock"
                    ],
                    [
                      "indonesian edm"
                    ],
                    [
                      "indonesian folk"
                    ],
                    [
                      "indonesian hip hop"
                    ],
                    [
                      "indonesian indie"
                    ],
                    [
                      "indonesian pop"
                    ],
                    [
                      "indonesian r&b"
                    ],
                    [
                      "indonesian rock"
                    ],
                    [
                      "industrial"
                    ],
                    [
                      "industrial black metal"
                    ],
                    [
                      "industrial hardcore"
                    ],
                    [
                      "industrial hip hop"
                    ],
                    [
                      "industrial metal"
                    ],
                    [
                      "industrial rock"
                    ],
                    [
                      "industrial techno"
                    ],
                    [
                      "indy indie"
                    ],
                    [
                      "instrumental acoustic guitar"
                    ],
                    [
                      "instrumental bluegrass"
                    ],
                    [
                      "instrumental funk"
                    ],
                    [
                      "instrumental grime"
                    ],
                    [
                      "instrumental post-rock"
                    ],
                    [
                      "instrumental progressive metal"
                    ],
                    [
                      "instrumental rock"
                    ],
                    [
                      "instrumental soul"
                    ],
                    [
                      "instrumental stoner rock"
                    ],
                    [
                      "instrumental surf"
                    ],
                    [
                      "intelligent dance music"
                    ],
                    [
                      "inuit traditional"
                    ],
                    [
                      "iowa indie"
                    ],
                    [
                      "irish ballad"
                    ],
                    [
                      "irish banjo"
                    ],
                    [
                      "irish classical"
                    ],
                    [
                      "irish country"
                    ],
                    [
                      "irish dance"
                    ],
                    [
                      "irish electronic"
                    ],
                    [
                      "irish experimental electronic"
                    ],
                    [
                      "irish fiddle"
                    ],
                    [
                      "irish flute"
                    ],
                    [
                      "irish folk"
                    ],
                    [
                      "irish hip hop"
                    ],
                    [
                      "irish indie"
                    ],
                    [
                      "irish pop"
                    ],
                    [
                      "irish pub song"
                    ],
                    [
                      "irish rock"
                    ],
                    [
                      "irish singer-songwriter"
                    ],
                    [
                      "irish techno"
                    ],
                    [
                      "iskelma"
                    ],
                    [
                      "islamic recitation"
                    ],
                    [
                      "israeli classical"
                    ],
                    [
                      "israeli classical piano"
                    ],
                    [
                      "israeli folk"
                    ],
                    [
                      "israeli hip hop"
                    ],
                    [
                      "israeli mediterranean"
                    ],
                    [
                      "israeli pop"
                    ],
                    [
                      "israeli rock"
                    ],
                    [
                      "israeli singer-songwriter"
                    ],
                    [
                      "israeli techno"
                    ],
                    [
                      "italian adult pop"
                    ],
                    [
                      "italian alternative"
                    ],
                    [
                      "italian baritone"
                    ],
                    [
                      "italian baroque"
                    ],
                    [
                      "italian baroque ensemble"
                    ],
                    [
                      "italian bass"
                    ],
                    [
                      "italian black metal"
                    ],
                    [
                      "italian blues"
                    ],
                    [
                      "italian classical guitar"
                    ],
                    [
                      "italian classical piano"
                    ],
                    [
                      "italian contemporary classical"
                    ],
                    [
                      "italian contemporary jazz"
                    ],
                    [
                      "italian death metal"
                    ],
                    [
                      "italian disco"
                    ],
                    [
                      "italian electronica"
                    ],
                    [
                      "italian gothic"
                    ],
                    [
                      "italian gothic metal"
                    ],
                    [
                      "italian hip hop"
                    ],
                    [
                      "italian indie pop"
                    ],
                    [
                      "italian jazz"
                    ],
                    [
                      "italian library music"
                    ],
                    [
                      "italian mandolin"
                    ],
                    [
                      "italian metal"
                    ],
                    [
                      "italian mezzo-soprano"
                    ],
                    [
                      "italian modern prog"
                    ],
                    [
                      "italian new wave"
                    ],
                    [
                      "italian opera"
                    ],
                    [
                      "italian orchestra"
                    ],
                    [
                      "italian pop"
                    ],
                    [
                      "italian pop rock"
                    ],
                    [
                      "italian post punk"
                    ],
                    [
                      "italian power metal"
                    ],
                    [
                      "italian progressive metal"
                    ],
                    [
                      "italian progressive rock"
                    ],
                    [
                      "italian punk"
                    ],
                    [
                      "italian renaissance"
                    ],
                    [
                      "italian romanticism"
                    ],
                    [
                      "italian ska"
                    ],
                    [
                      "italian soprano"
                    ],
                    [
                      "italian soundtrack"
                    ],
                    [
                      "italian tech house"
                    ],
                    [
                      "italian techno"
                    ],
                    [
                      "italian tenor"
                    ],
                    [
                      "italian trance"
                    ],
                    [
                      "italian violin"
                    ],
                    [
                      "italo dance"
                    ],
                    [
                      "italo house"
                    ],
                    [
                      "j-acoustic"
                    ],
                    [
                      "j-ambient"
                    ],
                    [
                      "j-core"
                    ],
                    [
                      "j-dance"
                    ],
                    [
                      "j-division"
                    ],
                    [
                      "j-idol"
                    ],
                    [
                      "j-indie"
                    ],
                    [
                      "j-metal"
                    ],
                    [
                      "j-pixie"
                    ],
                    [
                      "j-pop"
                    ],
                    [
                      "j-pop boy group"
                    ],
                    [
                      "j-pop girl group"
                    ],
                    [
                      "j-poprock"
                    ],
                    [
                      "j-punk"
                    ],
                    [
                      "j-rap"
                    ],
                    [
                      "j-reggae"
                    ],
                    [
                      "j-rock"
                    ],
                    [
                      "jacksonville indie"
                    ],
                    [
                      "jam band"
                    ],
                    [
                      "jamgrass"
                    ],
                    [
                      "jangle pop"
                    ],
                    [
                      "japanese alternative pop"
                    ],
                    [
                      "japanese alternative rock"
                    ],
                    [
                      "japanese chillhop"
                    ],
                    [
                      "japanese classical"
                    ],
                    [
                      "japanese classical performance"
                    ],
                    [
                      "japanese classical piano"
                    ],
                    [
                      "japanese concert band"
                    ],
                    [
                      "japanese contemporary classical"
                    ],
                    [
                      "japanese dream pop"
                    ],
                    [
                      "japanese electronic"
                    ],
                    [
                      "japanese electropop"
                    ],
                    [
                      "japanese emo"
                    ],
                    [
                      "japanese experimental"
                    ],
                    [
                      "japanese folk"
                    ],
                    [
                      "japanese garage rock"
                    ],
                    [
                      "japanese girl punk"
                    ],
                    [
                      "japanese heavy metal"
                    ],
                    [
                      "japanese house"
                    ],
                    [
                      "japanese idm"
                    ],
                    [
                      "japanese indie pop"
                    ],
                    [
                      "japanese indie rock"
                    ],
                    [
                      "japanese instrumental"
                    ],
                    [
                      "japanese jazz"
                    ],
                    [
                      "japanese jazz fusion"
                    ],
                    [
                      "japanese jazztronica"
                    ],
                    [
                      "japanese metalcore"
                    ],
                    [
                      "japanese new wave"
                    ],
                    [
                      "japanese old school hip hop"
                    ],
                    [
                      "japanese orchestra"
                    ],
                    [
                      "japanese piano"
                    ],
                    [
                      "japanese pop punk"
                    ],
                    [
                      "japanese post-hardcore"
                    ],
                    [
                      "japanese power metal"
                    ],
                    [
                      "japanese prog"
                    ],
                    [
                      "japanese psychedelic"
                    ],
                    [
                      "japanese punk rock"
                    ],
                    [
                      "japanese r&b"
                    ],
                    [
                      "japanese shoegaze"
                    ],
                    [
                      "japanese singer-songwriter"
                    ],
                    [
                      "japanese soundtrack"
                    ],
                    [
                      "japanese techno"
                    ],
                    [
                      "japanese teen pop"
                    ],
                    [
                      "japanese traditional"
                    ],
                    [
                      "japanese vgm"
                    ],
                    [
                      "japanese vocal jazz"
                    ],
                    [
                      "japanese vtuber"
                    ],
                    [
                      "jawaiian"
                    ],
                    [
                      "jazz"
                    ],
                    [
                      "jazz accordion"
                    ],
                    [
                      "jazz blues"
                    ],
                    [
                      "jazz boom bap"
                    ],
                    [
                      "jazz brass"
                    ],
                    [
                      "jazz chileno"
                    ],
                    [
                      "jazz clarinet"
                    ],
                    [
                      "jazz colombiano"
                    ],
                    [
                      "jazz cubano"
                    ],
                    [
                      "jazz double bass"
                    ],
                    [
                      "jazz drums"
                    ],
                    [
                      "jazz flute"
                    ],
                    [
                      "jazz funk"
                    ],
                    [
                      "jazz fusion"
                    ],
                    [
                      "jazz guitar"
                    ],
                    [
                      "jazz harp"
                    ],
                    [
                      "jazz metal"
                    ],
                    [
                      "jazz mexicano"
                    ],
                    [
                      "jazz orchestra"
                    ],
                    [
                      "jazz organ"
                    ],
                    [
                      "jazz piano"
                    ],
                    [
                      "jazz pop"
                    ],
                    [
                      "jazz quartet"
                    ],
                    [
                      "jazz rap"
                    ],
                    [
                      "jazz rock"
                    ],
                    [
                      "jazz saxophone"
                    ],
                    [
                      "jazz trio"
                    ],
                    [
                      "jazz trombone"
                    ],
                    [
                      "jazz trumpet"
                    ],
                    [
                      "jazz tuba"
                    ],
                    [
                      "jazz venezolano"
                    ],
                    [
                      "jazz vibraphone"
                    ],
                    [
                      "jazz violin"
                    ],
                    [
                      "jazztronica"
                    ],
                    [
                      "jewish a capella"
                    ],
                    [
                      "jewish cantorial"
                    ],
                    [
                      "jewish hip hop"
                    ],
                    [
                      "jig and reel"
                    ],
                    [
                      "jordanian pop"
                    ],
                    [
                      "joropo"
                    ],
                    [
                      "jovem guarda"
                    ],
                    [
                      "judaica"
                    ],
                    [
                      "jug band"
                    ],
                    [
                      "juju"
                    ],
                    [
                      "jump blues"
                    ],
                    [
                      "jump up"
                    ],
                    [
                      "jumpstyle"
                    ],
                    [
                      "jumptek"
                    ],
                    [
                      "jungle"
                    ],
                    [
                      "k-indie"
                    ],
                    [
                      "k-pop"
                    ],
                    [
                      "k-pop boy group"
                    ],
                    [
                      "k-pop girl group"
                    ],
                    [
                      "k-rap"
                    ],
                    [
                      "kabarett"
                    ],
                    [
                      "kabyle"
                    ],
                    [
                      "kaneka"
                    ],
                    [
                      "kannada bhava geethe"
                    ],
                    [
                      "kansas city hip hop"
                    ],
                    [
                      "karadeniz halk muzigi"
                    ],
                    [
                      "karaoke"
                    ],
                    [
                      "kashmiri pop"
                    ],
                    [
                      "kawaii future bass"
                    ],
                    [
                      "kawaii metal"
                    ],
                    [
                      "kayokyoku"
                    ],
                    [
                      "kazakh pop"
                    ],
                    [
                      "kc indie"
                    ],
                    [
                      "kent indie"
                    ],
                    [
                      "kentucky hip hop"
                    ],
                    [
                      "kentucky indie"
                    ],
                    [
                      "kentucky metal"
                    ],
                    [
                      "kentucky mountain folk"
                    ],
                    [
                      "kentucky punk"
                    ],
                    [
                      "kentucky roots"
                    ],
                    [
                      "keroncong"
                    ],
                    [
                      "khaleeji iraqi"
                    ],
                    [
                      "khmer"
                    ],
                    [
                      "kids dance party"
                    ],
                    [
                      "kinderchor"
                    ],
                    [
                      "kindermusik"
                    ],
                    [
                      "kindie rock"
                    ],
                    [
                      "kingston on indie"
                    ],
                    [
                      "kirtan"
                    ],
                    [
                      "kiwi rock"
                    ],
                    [
                      "kizomba antigas"
                    ],
                    [
                      "kleine hoerspiel"
                    ],
                    [
                      "klezmer"
                    ],
                    [
                      "knoxville indie"
                    ],
                    [
                      "kodomo no ongaku"
                    ],
                    [
                      "kolsche karneval"
                    ],
                    [
                      "komedi"
                    ],
                    [
                      "kompa"
                    ],
                    [
                      "kora"
                    ],
                    [
                      "korean city pop"
                    ],
                    [
                      "korean classical performance"
                    ],
                    [
                      "korean classical piano"
                    ],
                    [
                      "korean electropop"
                    ],
                    [
                      "korean indie rock"
                    ],
                    [
                      "korean mask singer"
                    ],
                    [
                      "korean ost"
                    ],
                    [
                      "korean pop"
                    ],
                    [
                      "korean r&b"
                    ],
                    [
                      "korean trap"
                    ],
                    [
                      "koto"
                    ],
                    [
                      "krautrock"
                    ],
                    [
                      "kundiman"
                    ],
                    [
                      "la indie"
                    ],
                    [
                      "la pop"
                    ],
                    [
                      "laboratorio"
                    ],
                    [
                      "lafayette indie"
                    ],
                    [
                      "laiko"
                    ],
                    [
                      "lancaster pa indie"
                    ],
                    [
                      "late romantic era"
                    ],
                    [
                      "latin"
                    ],
                    [
                      "latin afrobeat"
                    ],
                    [
                      "latin alternative"
                    ],
                    [
                      "latin american classical piano"
                    ],
                    [
                      "latin arena pop"
                    ],
                    [
                      "latin christian"
                    ],
                    [
                      "latin classical"
                    ],
                    [
                      "latin funk"
                    ],
                    [
                      "latin hip hop"
                    ],
                    [
                      "latin house"
                    ],
                    [
                      "latin jazz"
                    ],
                    [
                      "latin metal"
                    ],
                    [
                      "latin pop"
                    ],
                    [
                      "latin rock"
                    ],
                    [
                      "latin ska"
                    ],
                    [
                      "latin soundtrack"
                    ],
                    [
                      "latin talent show"
                    ],
                    [
                      "latin tech house"
                    ],
                    [
                      "latin viral pop"
                    ],
                    [
                      "latin worship"
                    ],
                    [
                      "latino comedy"
                    ],
                    [
                      "latintronica"
                    ],
                    [
                      "latinx alternative"
                    ],
                    [
                      "latvian metal"
                    ],
                    [
                      "latvian pop"
                    ],
                    [
                      "lds"
                    ],
                    [
                      "lds youth"
                    ],
                    [
                      "lebanese indie"
                    ],
                    [
                      "lebanese pop"
                    ],
                    [
                      "leicester indie"
                    ],
                    [
                      "levenslied"
                    ],
                    [
                      "lexington ky indie"
                    ],
                    [
                      "lgbtq+ hip hop"
                    ],
                    [
                      "library music"
                    ],
                    [
                      "libyan pop"
                    ],
                    [
                      "liechtenstein"
                    ],
                    [
                      "liedermacher"
                    ],
                    [
                      "light music"
                    ],
                    [
                      "lilith"
                    ],
                    [
                      "liquid funk"
                    ],
                    [
                      "lithuanian electronic"
                    ],
                    [
                      "lithuanian folk"
                    ],
                    [
                      "liverpool indie"
                    ],
                    [
                      "livetronica"
                    ],
                    [
                      "lldm"
                    ],
                    [
                      "lo-fi"
                    ],
                    [
                      "lo-fi beats"
                    ],
                    [
                      "lo-fi chill"
                    ],
                    [
                      "lo-fi cover"
                    ],
                    [
                      "lo-fi emo"
                    ],
                    [
                      "lo-fi house"
                    ],
                    [
                      "lo-fi indie"
                    ],
                    [
                      "lo-fi vgm"
                    ],
                    [
                      "london rap"
                    ],
                    [
                      "louisiana blues"
                    ],
                    [
                      "louisiana metal"
                    ],
                    [
                      "louisville indie"
                    ],
                    [
                      "louisville underground"
                    ],
                    [
                      "lounge"
                    ],
                    [
                      "lounge house"
                    ],
                    [
                      "lovers rock"
                    ],
                    [
                      "lullaby"
                    ],
                    [
                      "lund indie"
                    ],
                    [
                      "lute"
                    ],
                    [
                      "macedonian electronic"
                    ],
                    [
                      "macedonian folk"
                    ],
                    [
                      "macedonian pop"
                    ],
                    [
                      "madchester"
                    ],
                    [
                      "madrigal"
                    ],
                    [
                      "magyar alternative"
                    ],
                    [
                      "maine hip hop"
                    ],
                    [
                      "maine indie"
                    ],
                    [
                      "mainland chinese pop"
                    ],
                    [
                      "makossa"
                    ],
                    [
                      "malaysian hip hop"
                    ],
                    [
                      "malaysian mandopop"
                    ],
                    [
                      "malaysian pop"
                    ],
                    [
                      "malian blues"
                    ],
                    [
                      "mallet"
                    ],
                    [
                      "mambo"
                    ],
                    [
                      "manchester hip hop"
                    ],
                    [
                      "mande pop"
                    ],
                    [
                      "mandolin"
                    ],
                    [
                      "mandopop"
                    ],
                    [
                      "manguebeat"
                    ],
                    [
                      "manila sound"
                    ],
                    [
                      "manitoba indie"
                    ],
                    [
                      "mantra"
                    ],
                    [
                      "marathi pop"
                    ],
                    [
                      "marathi traditional"
                    ],
                    [
                      "marching band"
                    ],
                    [
                      "mariachi"
                    ],
                    [
                      "mariachi cristiano"
                    ],
                    [
                      "marimba orquesta"
                    ],
                    [
                      "martial industrial"
                    ],
                    [
                      "mashup"
                    ],
                    [
                      "math pop"
                    ],
                    [
                      "math rock"
                    ],
                    [
                      "mathcore"
                    ],
                    [
                      "mathgrind"
                    ],
                    [
                      "mbalax"
                    ],
                    [
                      "medieval"
                    ],
                    [
                      "medieval ensemble"
                    ],
                    [
                      "medieval folk"
                    ],
                    [
                      "medieval rock"
                    ],
                    [
                      "meditation"
                    ],
                    [
                      "medway sound"
                    ],
                    [
                      "melancholia"
                    ],
                    [
                      "melbourne bounce"
                    ],
                    [
                      "melbourne bounce international"
                    ],
                    [
                      "melbourne indie"
                    ],
                    [
                      "mellow gold"
                    ],
                    [
                      "melodic death metal"
                    ],
                    [
                      "melodic deathcore"
                    ],
                    [
                      "melodic dubstep"
                    ],
                    [
                      "melodic groove metal"
                    ],
                    [
                      "melodic hard rock"
                    ],
                    [
                      "melodic hardcore"
                    ],
                    [
                      "melodic metal"
                    ],
                    [
                      "melodic metalcore"
                    ],
                    [
                      "melodic rap"
                    ],
                    [
                      "melodic techno"
                    ],
                    [
                      "melodic thrash"
                    ],
                    [
                      "melodipop"
                    ],
                    [
                      "meme rap"
                    ],
                    [
                      "memphis americana"
                    ],
                    [
                      "memphis blues"
                    ],
                    [
                      "memphis hip hop"
                    ],
                    [
                      "memphis soul"
                    ],
                    [
                      "mento"
                    ],
                    [
                      "merengue"
                    ],
                    [
                      "merengue tipico"
                    ],
                    [
                      "merseybeat"
                    ],
                    [
                      "messianic praise"
                    ],
                    [
                      "metal"
                    ],
                    [
                      "metal catala"
                    ],
                    [
                      "metal catarinense"
                    ],
                    [
                      "metal gotico"
                    ],
                    [
                      "metal guitar"
                    ],
                    [
                      "metal mineiro"
                    ],
                    [
                      "metalcore"
                    ],
                    [
                      "metallic hardcore"
                    ],
                    [
                      "metropopolis"
                    ],
                    [
                      "mexican classic rock"
                    ],
                    [
                      "mexican classical"
                    ],
                    [
                      "mexican edm"
                    ],
                    [
                      "mexican hip hop"
                    ],
                    [
                      "mexican indie"
                    ],
                    [
                      "mexican metal"
                    ],
                    [
                      "mexican pop"
                    ],
                    [
                      "mexican pop punk"
                    ],
                    [
                      "mexican rock"
                    ],
                    [
                      "mexican rock-and-roll"
                    ],
                    [
                      "mexican tech house"
                    ],
                    [
                      "mexican techno"
                    ],
                    [
                      "mexican traditional"
                    ],
                    [
                      "miami bass"
                    ],
                    [
                      "miami hip hop"
                    ],
                    [
                      "miami indie"
                    ],
                    [
                      "miami metal"
                    ],
                    [
                      "michigan indie"
                    ],
                    [
                      "microhouse"
                    ],
                    [
                      "microtonal"
                    ],
                    [
                      "middle earth"
                    ],
                    [
                      "middle eastern traditional"
                    ],
                    [
                      "midwest americana"
                    ],
                    [
                      "midwest emo"
                    ],
                    [
                      "military cadence"
                    ],
                    [
                      "military rap"
                    ],
                    [
                      "milwaukee indie"
                    ],
                    [
                      "mindfulness"
                    ],
                    [
                      "minecraft"
                    ],
                    [
                      "minimal dub"
                    ],
                    [
                      "minimal dubstep"
                    ],
                    [
                      "minimal melodic techno"
                    ],
                    [
                      "minimal tech house"
                    ],
                    [
                      "minimal techno"
                    ],
                    [
                      "minimal wave"
                    ],
                    [
                      "minimalism"
                    ],
                    [
                      "minneapolis indie"
                    ],
                    [
                      "minneapolis metal"
                    ],
                    [
                      "minneapolis punk"
                    ],
                    [
                      "minneapolis sound"
                    ],
                    [
                      "minnesota hip hop"
                    ],
                    [
                      "mississippi hip hop"
                    ],
                    [
                      "mississippi indie"
                    ],
                    [
                      "mizrahi"
                    ],
                    [
                      "mluvene slovo"
                    ],
                    [
                      "mod revival"
                    ],
                    [
                      "modern alternative pop"
                    ],
                    [
                      "modern alternative rock"
                    ],
                    [
                      "modern big band"
                    ],
                    [
                      "modern blues"
                    ],
                    [
                      "modern blues rock"
                    ],
                    [
                      "modern bollywood"
                    ],
                    [
                      "modern cello"
                    ],
                    [
                      "modern country rock"
                    ],
                    [
                      "modern dream pop"
                    ],
                    [
                      "modern folk rock"
                    ],
                    [
                      "modern funk"
                    ],
                    [
                      "modern hard rock"
                    ],
                    [
                      "modern indie pop"
                    ],
                    [
                      "modern jazz piano"
                    ],
                    [
                      "modern jazz trio"
                    ],
                    [
                      "modern old-time"
                    ],
                    [
                      "modern performance"
                    ],
                    [
                      "modern power pop"
                    ],
                    [
                      "modern psychedelic folk"
                    ],
                    [
                      "modern reggae"
                    ],
                    [
                      "modern rock"
                    ],
                    [
                      "modern salsa"
                    ],
                    [
                      "modern ska punk"
                    ],
                    [
                      "modern southern rock"
                    ],
                    [
                      "modern string quartet"
                    ],
                    [
                      "modern swing"
                    ],
                    [
                      "modern uplift"
                    ],
                    [
                      "modular synth"
                    ],
                    [
                      "modular techno"
                    ],
                    [
                      "moldovan pop"
                    ],
                    [
                      "mollywood"
                    ],
                    [
                      "mongolian hip hop"
                    ],
                    [
                      "mongolian pop"
                    ],
                    [
                      "monterrey indie"
                    ],
                    [
                      "montreal indie"
                    ],
                    [
                      "moog"
                    ],
                    [
                      "moombahton"
                    ],
                    [
                      "moravian folk"
                    ],
                    [
                      "morna"
                    ],
                    [
                      "moroccan pop"
                    ],
                    [
                      "motivation"
                    ],
                    [
                      "motown"
                    ],
                    [
                      "mountain dulcimer"
                    ],
                    [
                      "movie tunes"
                    ],
                    [
                      "mpb"
                    ],
                    [
                      "mumbai indie"
                    ],
                    [
                      "munich electronic"
                    ],
                    [
                      "music box"
                    ],
                    [
                      "music hall"
                    ],
                    [
                      "musica afroperuana"
                    ],
                    [
                      "musica alagoana"
                    ],
                    [
                      "musica andina"
                    ],
                    [
                      "musica andina colombiana"
                    ],
                    [
                      "musica andorra"
                    ],
                    [
                      "musica antigua"
                    ],
                    [
                      "musica aragonesa"
                    ],
                    [
                      "musica ayacuchana"
                    ],
                    [
                      "musica canaria"
                    ],
                    [
                      "musica catalana"
                    ],
                    [
                      "musica costarricense"
                    ],
                    [
                      "musica costena"
                    ],
                    [
                      "musica cristiana guatemalteca"
                    ],
                    [
                      "musica de fondo"
                    ],
                    [
                      "musica hondurena"
                    ],
                    [
                      "musica indigena brasileira"
                    ],
                    [
                      "musica infantil"
                    ],
                    [
                      "musica jibara"
                    ],
                    [
                      "musica juiz-forana"
                    ],
                    [
                      "musica llanera"
                    ],
                    [
                      "musica nicaraguense"
                    ],
                    [
                      "musica para criancas"
                    ],
                    [
                      "musica para ninos"
                    ],
                    [
                      "musica paraibana"
                    ],
                    [
                      "musica pernambucana"
                    ],
                    [
                      "musica piemonteisa"
                    ],
                    [
                      "musica popular colombiana"
                    ],
                    [
                      "musica popular mineira"
                    ],
                    [
                      "musica popular paraense"
                    ],
                    [
                      "musica potosina"
                    ],
                    [
                      "musica prehispanica"
                    ],
                    [
                      "musica sarda"
                    ],
                    [
                      "musica tradicional cubana"
                    ],
                    [
                      "musica tropical guatemalteca"
                    ],
                    [
                      "musica valenciana"
                    ],
                    [
                      "musica yucateca"
                    ],
                    [
                      "musical advocacy"
                    ],
                    [
                      "musikkorps"
                    ],
                    [
                      "musique ancienne"
                    ],
                    [
                      "musique concrete"
                    ],
                    [
                      "musique pour enfant quebecois"
                    ],
                    [
                      "musique pour enfants"
                    ],
                    [
                      "muzica crestina"
                    ],
                    [
                      "muzica populara"
                    ],
                    [
                      "muziek voor kinderen"
                    ],
                    [
                      "muzika l'yeladim"
                    ],
                    [
                      "naija worship"
                    ],
                    [
                      "nantes indie"
                    ],
                    [
                      "narodna muzika"
                    ],
                    [
                      "nashville americana"
                    ],
                    [
                      "nashville hip hop"
                    ],
                    [
                      "nashville indie"
                    ],
                    [
                      "nashville singer-songwriter"
                    ],
                    [
                      "nashville sound"
                    ],
                    [
                      "native american"
                    ],
                    [
                      "native american contemporary"
                    ],
                    [
                      "native american flute"
                    ],
                    [
                      "native american spiritual"
                    ],
                    [
                      "navajo"
                    ],
                    [
                      "nederlandse hardstyle"
                    ],
                    [
                      "nederpop"
                    ],
                    [
                      "neo classical metal"
                    ],
                    [
                      "neo honky tonk"
                    ],
                    [
                      "neo kyma"
                    ],
                    [
                      "neo mellow"
                    ],
                    [
                      "neo r&b"
                    ],
                    [
                      "neo soul"
                    ],
                    [
                      "neo-classical"
                    ],
                    [
                      "neo-crust"
                    ],
                    [
                      "neo-kraut"
                    ],
                    [
                      "neo-pagan"
                    ],
                    [
                      "neo-progressive"
                    ],
                    [
                      "neo-psychedelic"
                    ],
                    [
                      "neo-rockabilly"
                    ],
                    [
                      "neo-singer-songwriter"
                    ],
                    [
                      "neo-synthpop"
                    ],
                    [
                      "neo-trad metal"
                    ],
                    [
                      "neo-traditional bluegrass"
                    ],
                    [
                      "neo-traditional country"
                    ],
                    [
                      "neoclassical darkwave"
                    ],
                    [
                      "neoclassicism"
                    ],
                    [
                      "neofolk"
                    ],
                    [
                      "neon pop punk"
                    ],
                    [
                      "nepali indie"
                    ],
                    [
                      "nepali pop"
                    ],
                    [
                      "nerdcore"
                    ],
                    [
                      "neue deutsche harte"
                    ],
                    [
                      "neue deutsche todeskunst"
                    ],
                    [
                      "neue deutsche welle"
                    ],
                    [
                      "neurofunk"
                    ],
                    [
                      "new age"
                    ],
                    [
                      "new age piano"
                    ],
                    [
                      "new americana"
                    ],
                    [
                      "new beat"
                    ],
                    [
                      "new comedy"
                    ],
                    [
                      "new england americana"
                    ],
                    [
                      "new england emo"
                    ],
                    [
                      "new england metal"
                    ],
                    [
                      "new french touch"
                    ],
                    [
                      "new isolationism"
                    ],
                    [
                      "new jack swing"
                    ],
                    [
                      "new jersey hardcore"
                    ],
                    [
                      "new jersey indie"
                    ],
                    [
                      "new jersey punk"
                    ],
                    [
                      "new jersey rap"
                    ],
                    [
                      "new mexico music"
                    ],
                    [
                      "new orleans blues"
                    ],
                    [
                      "new orleans funk"
                    ],
                    [
                      "new orleans indie"
                    ],
                    [
                      "new orleans jazz"
                    ],
                    [
                      "new orleans rap"
                    ],
                    [
                      "new rave"
                    ],
                    [
                      "new romantic"
                    ],
                    [
                      "new tribe"
                    ],
                    [
                      "new wave"
                    ],
                    [
                      "new wave of thrash metal"
                    ],
                    [
                      "new wave pop"
                    ],
                    [
                      "new weird america"
                    ],
                    [
                      "new york death metal"
                    ],
                    [
                      "new york drill"
                    ],
                    [
                      "new zealand classical"
                    ],
                    [
                      "newcastle nsw indie"
                    ],
                    [
                      "nigerian hip hop"
                    ],
                    [
                      "nigerian pop"
                    ],
                    [
                      "nightcore"
                    ],
                    [
                      "nightrun"
                    ],
                    [
                      "ninja"
                    ],
                    [
                      "nintendocore"
                    ],
                    [
                      "nisiotika"
                    ],
                    [
                      "nl folk"
                    ],
                    [
                      "no wave"
                    ],
                    [
                      "noise pop"
                    ],
                    [
                      "noise punk"
                    ],
                    [
                      "noise rock"
                    ],
                    [
                      "nordic classical piano"
                    ],
                    [
                      "nordic contemporary classical"
                    ],
                    [
                      "nordic folk"
                    ],
                    [
                      "nordic folk metal"
                    ],
                    [
                      "nordic house"
                    ],
                    [
                      "nordic orchestra"
                    ],
                    [
                      "nordic post-rock"
                    ],
                    [
                      "nordic soundtrack"
                    ],
                    [
                      "norman ok indie"
                    ],
                    [
                      "norsk lovsang"
                    ],
                    [
                      "norteno"
                    ],
                    [
                      "norteno-sax"
                    ],
                    [
                      "north carolina emo"
                    ],
                    [
                      "north carolina hip hop"
                    ],
                    [
                      "north carolina indie"
                    ],
                    [
                      "north carolina metal"
                    ],
                    [
                      "north carolina roots"
                    ],
                    [
                      "north dakota indie"
                    ],
                    [
                      "north east england indie"
                    ],
                    [
                      "northern irish indie"
                    ],
                    [
                      "northern irish punk"
                    ],
                    [
                      "northern soul"
                    ],
                    [
                      "northumbrian folk"
                    ],
                    [
                      "norwegian black metal"
                    ],
                    [
                      "norwegian choir"
                    ],
                    [
                      "norwegian classical"
                    ],
                    [
                      "norwegian contemporary jazz"
                    ],
                    [
                      "norwegian death metal"
                    ],
                    [
                      "norwegian experimental"
                    ],
                    [
                      "norwegian hip hop"
                    ],
                    [
                      "norwegian indie"
                    ],
                    [
                      "norwegian jazz"
                    ],
                    [
                      "norwegian metal"
                    ],
                    [
                      "norwegian pop"
                    ],
                    [
                      "norwegian pop rap"
                    ],
                    [
                      "norwegian punk rock"
                    ],
                    [
                      "norwegian rock"
                    ],
                    [
                      "norwegian singer-songwriter"
                    ],
                    [
                      "norwegian space disco"
                    ],
                    [
                      "nottingham indie"
                    ],
                    [
                      "nouvelle chanson francaise"
                    ],
                    [
                      "nova canco"
                    ],
                    [
                      "nova mpb"
                    ],
                    [
                      "nova musica pernambucana"
                    ],
                    [
                      "novelty"
                    ],
                    [
                      "nu disco"
                    ],
                    [
                      "nu gaze"
                    ],
                    [
                      "nu jazz"
                    ],
                    [
                      "nu metal"
                    ],
                    [
                      "nu skool breaks"
                    ],
                    [
                      "nu-cumbia"
                    ],
                    [
                      "nu-metalcore"
                    ],
                    [
                      "nubian traditional"
                    ],
                    [
                      "nueva cancion"
                    ],
                    [
                      "nueva ola chilena"
                    ],
                    [
                      "nueva ola peruana"
                    ],
                    [
                      "nuevo flamenco"
                    ],
                    [
                      "nuevo folklore mexicano"
                    ],
                    [
                      "nuevo regional mexicano"
                    ],
                    [
                      "nuevo tango"
                    ],
                    [
                      "nursery"
                    ],
                    [
                      "nwobhm"
                    ],
                    [
                      "nwocr"
                    ],
                    [
                      "nwothm"
                    ],
                    [
                      "ny roots"
                    ],
                    [
                      "nyc pop"
                    ],
                    [
                      "nyc rap"
                    ],
                    [
                      "nyhc"
                    ],
                    [
                      "nz hip hop"
                    ],
                    [
                      "nz indie"
                    ],
                    [
                      "nz pop"
                    ],
                    [
                      "nz reggae"
                    ],
                    [
                      "nz singer-songwriter"
                    ],
                    [
                      "oakland hip hop"
                    ],
                    [
                      "oakland indie"
                    ],
                    [
                      "oc indie"
                    ],
                    [
                      "oc rap"
                    ],
                    [
                      "oceania soundtrack"
                    ],
                    [
                      "ohio hip hop"
                    ],
                    [
                      "ohio indie"
                    ],
                    [
                      "oi"
                    ],
                    [
                      "okc indie"
                    ],
                    [
                      "okinawan pop"
                    ],
                    [
                      "oklahoma country"
                    ],
                    [
                      "oktoberfest"
                    ],
                    [
                      "old school dancehall"
                    ],
                    [
                      "old school hard trance"
                    ],
                    [
                      "old school hip hop"
                    ],
                    [
                      "old school rap francais"
                    ],
                    [
                      "old school thrash"
                    ],
                    [
                      "old school uk hip hop"
                    ],
                    [
                      "old west"
                    ],
                    [
                      "old-time"
                    ],
                    [
                      "old-time fiddle"
                    ],
                    [
                      "olympia wa indie"
                    ],
                    [
                      "omaha indie"
                    ],
                    [
                      "one-person band"
                    ],
                    [
                      "ontario indie"
                    ],
                    [
                      "opera"
                    ],
                    [
                      "opera chorus"
                    ],
                    [
                      "opera metal"
                    ],
                    [
                      "operatic pop"
                    ],
                    [
                      "operetta"
                    ],
                    [
                      "opm"
                    ],
                    [
                      "oratory"
                    ],
                    [
                      "orchestra"
                    ],
                    [
                      "orchestral performance"
                    ],
                    [
                      "organic ambient"
                    ],
                    [
                      "organic electronic"
                    ],
                    [
                      "organic house"
                    ],
                    [
                      "orgcore"
                    ],
                    [
                      "oriental classical"
                    ],
                    [
                      "orkney and shetland folk"
                    ],
                    [
                      "orlando indie"
                    ],
                    [
                      "orquesta tipica"
                    ],
                    [
                      "orthodox chant"
                    ],
                    [
                      "otacore"
                    ],
                    [
                      "oth indie"
                    ],
                    [
                      "ottawa rap"
                    ],
                    [
                      "oud"
                    ],
                    [
                      "outer hip hop"
                    ],
                    [
                      "outlaw country"
                    ],
                    [
                      "outsider"
                    ],
                    [
                      "outsider house"
                    ],
                    [
                      "oxford choir"
                    ],
                    [
                      "oxford indie"
                    ],
                    [
                      "p funk"
                    ],
                    [
                      "pagan black metal"
                    ],
                    [
                      "pagode"
                    ],
                    [
                      "pagode baiano"
                    ],
                    [
                      "paisley underground"
                    ],
                    [
                      "pakistani folk"
                    ],
                    [
                      "pakistani hip hop"
                    ],
                    [
                      "pakistani indie"
                    ],
                    [
                      "pakistani pop"
                    ],
                    [
                      "palm desert scene"
                    ],
                    [
                      "panamanian pop"
                    ],
                    [
                      "panpipe"
                    ],
                    [
                      "papuri"
                    ],
                    [
                      "parody"
                    ],
                    [
                      "partido alto"
                    ],
                    [
                      "partyschlager"
                    ],
                    [
                      "pei indie"
                    ],
                    [
                      "permanent wave"
                    ],
                    [
                      "perreo"
                    ],
                    [
                      "persian hip hop"
                    ],
                    [
                      "persian pop"
                    ],
                    [
                      "persian traditional"
                    ],
                    [
                      "perth indie"
                    ],
                    [
                      "peruvian hip hop"
                    ],
                    [
                      "peruvian rock"
                    ],
                    [
                      "pet calming"
                    ],
                    [
                      "philly indie"
                    ],
                    [
                      "philly rap"
                    ],
                    [
                      "philly soul"
                    ],
                    [
                      "phonk"
                    ],
                    [
                      "pianissimo"
                    ],
                    [
                      "piano blues"
                    ],
                    [
                      "piano cover"
                    ],
                    [
                      "piano mpb"
                    ],
                    [
                      "piano rock"
                    ],
                    [
                      "pibroch"
                    ],
                    [
                      "piedmont blues"
                    ],
                    [
                      "pinoy hip hop"
                    ],
                    [
                      "pinoy indie"
                    ],
                    [
                      "pinoy pop punk"
                    ],
                    [
                      "pinoy praise"
                    ],
                    [
                      "pinoy r&b"
                    ],
                    [
                      "pinoy reggae"
                    ],
                    [
                      "pinoy rock"
                    ],
                    [
                      "pinoy traditional"
                    ],
                    [
                      "pinoy trap"
                    ],
                    [
                      "pirate"
                    ],
                    [
                      "pittsburgh indie"
                    ],
                    [
                      "pittsburgh rap"
                    ],
                    [
                      "pittsburgh rock"
                    ],
                    [
                      "pixie"
                    ],
                    [
                      "plunderphonics"
                    ],
                    [
                      "poetry"
                    ],
                    [
                      "pokemon"
                    ],
                    [
                      "polca paraguaya"
                    ],
                    [
                      "polish blues"
                    ],
                    [
                      "polish classical"
                    ],
                    [
                      "polish classical piano"
                    ],
                    [
                      "polish contemporary classical"
                    ],
                    [
                      "polish jazz"
                    ],
                    [
                      "polish pop"
                    ],
                    [
                      "polish rock"
                    ],
                    [
                      "polish techno"
                    ],
                    [
                      "political hip hop"
                    ],
                    [
                      "polka"
                    ],
                    [
                      "polynesian hip hop"
                    ],
                    [
                      "polynesian pop"
                    ],
                    [
                      "polyphony"
                    ],
                    [
                      "pony"
                    ],
                    [
                      "pop"
                    ],
                    [
                      "pop ambient"
                    ],
                    [
                      "pop argentino"
                    ],
                    [
                      "pop chileno"
                    ],
                    [
                      "pop dance"
                    ],
                    [
                      "pop edm"
                    ],
                    [
                      "pop electronico"
                    ],
                    [
                      "pop emo"
                    ],
                    [
                      "pop flamenco"
                    ],
                    [
                      "pop folk"
                    ],
                    [
                      "pop house"
                    ],
                    [
                      "pop nacional"
                    ],
                    [
                      "pop nacional antigas"
                    ],
                    [
                      "pop peruano"
                    ],
                    [
                      "pop punk"
                    ],
                    [
                      "pop quebecois"
                    ],
                    [
                      "pop r&b"
                    ],
                    [
                      "pop rap"
                    ],
                    [
                      "pop reggaeton"
                    ],
                    [
                      "pop rock"
                    ],
                    [
                      "pop rock brasileiro"
                    ],
                    [
                      "pop romantico"
                    ],
                    [
                      "pop soul"
                    ],
                    [
                      "pop urbaine"
                    ],
                    [
                      "pop venezolano"
                    ],
                    [
                      "pop violin"
                    ],
                    [
                      "popgaze"
                    ],
                    [
                      "popping"
                    ],
                    [
                      "pops orchestra"
                    ],
                    [
                      "popwave"
                    ],
                    [
                      "pornogrind"
                    ],
                    [
                      "porro"
                    ],
                    [
                      "portland hip hop"
                    ],
                    [
                      "portland indie"
                    ],
                    [
                      "portland punk"
                    ],
                    [
                      "portuguese early music"
                    ],
                    [
                      "portuguese indie rock"
                    ],
                    [
                      "portuguese jazz"
                    ],
                    [
                      "post-black metal"
                    ],
                    [
                      "post-disco"
                    ],
                    [
                      "post-disco soul"
                    ],
                    [
                      "post-doom metal"
                    ],
                    [
                      "post-grunge"
                    ],
                    [
                      "post-hardcore"
                    ],
                    [
                      "post-metal"
                    ],
                    [
                      "post-minimalism"
                    ],
                    [
                      "post-post-hardcore"
                    ],
                    [
                      "post-punk"
                    ],
                    [
                      "post-punk argentina"
                    ],
                    [
                      "post-rock"
                    ],
                    [
                      "post-romantic era"
                    ],
                    [
                      "post-screamo"
                    ],
                    [
                      "post-teen pop"
                    ],
                    [
                      "power blues-rock"
                    ],
                    [
                      "power metal"
                    ],
                    [
                      "power pop"
                    ],
                    [
                      "power thrash"
                    ],
                    [
                      "power-pop punk"
                    ],
                    [
                      "powerviolence"
                    ],
                    [
                      "praise"
                    ],
                    [
                      "pre-war blues"
                    ],
                    [
                      "prepared piano"
                    ],
                    [
                      "preschool children's music"
                    ],
                    [
                      "prog metal"
                    ],
                    [
                      "prog quebec"
                    ],
                    [
                      "progressive black metal"
                    ],
                    [
                      "progressive bluegrass"
                    ],
                    [
                      "progressive breaks"
                    ],
                    [
                      "progressive death metal"
                    ],
                    [
                      "progressive deathcore"
                    ],
                    [
                      "progressive doom"
                    ],
                    [
                      "progressive electro house"
                    ],
                    [
                      "progressive groove metal"
                    ],
                    [
                      "progressive house"
                    ],
                    [
                      "progressive jazz fusion"
                    ],
                    [
                      "progressive metal"
                    ],
                    [
                      "progressive metalcore"
                    ],
                    [
                      "progressive post-hardcore"
                    ],
                    [
                      "progressive power metal"
                    ],
                    [
                      "progressive psytrance"
                    ],
                    [
                      "progressive rock"
                    ],
                    [
                      "progressive sludge"
                    ],
                    [
                      "progressive trance"
                    ],
                    [
                      "progressive trance house"
                    ],
                    [
                      "progressive uplifting trance"
                    ],
                    [
                      "proto-rap"
                    ],
                    [
                      "proto-techno"
                    ],
                    [
                      "protopunk"
                    ],
                    [
                      "psalmen"
                    ],
                    [
                      "psicodelia brasileira"
                    ],
                    [
                      "psybreaks"
                    ],
                    [
                      "psych gaze"
                    ],
                    [
                      "psychedelic blues-rock"
                    ],
                    [
                      "psychedelic doom"
                    ],
                    [
                      "psychedelic folk"
                    ],
                    [
                      "psychedelic folk rock"
                    ],
                    [
                      "psychedelic hip hop"
                    ],
                    [
                      "psychedelic pop"
                    ],
                    [
                      "psychedelic punk"
                    ],
                    [
                      "psychedelic rock"
                    ],
                    [
                      "psychedelic soul"
                    ],
                    [
                      "psychedelic trance"
                    ],
                    [
                      "psychill"
                    ],
                    [
                      "psychobilly"
                    ],
                    [
                      "pub rock"
                    ],
                    [
                      "puerto rican folk"
                    ],
                    [
                      "puerto rican pop"
                    ],
                    [
                      "puerto rican rock"
                    ],
                    [
                      "punjabi folk"
                    ],
                    [
                      "punjabi pop"
                    ],
                    [
                      "punk"
                    ],
                    [
                      "punk 'n' roll"
                    ],
                    [
                      "punk blues"
                    ],
                    [
                      "punk catala"
                    ],
                    [
                      "punk rock italiano"
                    ],
                    [
                      "punk rock mexicano"
                    ],
                    [
                      "punk tuga"
                    ],
                    [
                      "punta"
                    ],
                    [
                      "punta rock"
                    ],
                    [
                      "qawwali"
                    ],
                    [
                      "quartetto d'archi"
                    ],
                    [
                      "quatuor a cordes"
                    ],
                    [
                      "quebec death metal"
                    ],
                    [
                      "quebec indie"
                    ],
                    [
                      "queens hip hop"
                    ],
                    [
                      "queer country"
                    ],
                    [
                      "queercore"
                    ],
                    [
                      "quiet storm"
                    ],
                    [
                      "quran"
                    ],
                    [
                      "r&b"
                    ],
                    [
                      "r&b en espanol"
                    ],
                    [
                      "rabindra sangeet"
                    ],
                    [
                      "radio symphony"
                    ],
                    [
                      "ragtime"
                    ],
                    [
                      "rai"
                    ],
                    [
                      "ranchera"
                    ],
                    [
                      "rap"
                    ],
                    [
                      "rap boricua"
                    ],
                    [
                      "rap chileno"
                    ],
                    [
                      "rap conciencia"
                    ],
                    [
                      "rap conscient"
                    ],
                    [
                      "rap cristiano"
                    ],
                    [
                      "rap dominicano"
                    ],
                    [
                      "rap francais"
                    ],
                    [
                      "rap inde"
                    ],
                    [
                      "rap kreyol"
                    ],
                    [
                      "rap latina"
                    ],
                    [
                      "rap maroc"
                    ],
                    [
                      "rap metal"
                    ],
                    [
                      "rap napoletano"
                    ],
                    [
                      "rap rock"
                    ],
                    [
                      "rap romantico"
                    ],
                    [
                      "rap underground mexicano"
                    ],
                    [
                      "rare groove"
                    ],
                    [
                      "rave"
                    ],
                    [
                      "rave funk"
                    ],
                    [
                      "rawstyle"
                    ],
                    [
                      "re:techno"
                    ],
                    [
                      "reading"
                    ],
                    [
                      "reading indie"
                    ],
                    [
                      "rebel blues"
                    ],
                    [
                      "rebetiko"
                    ],
                    [
                      "recorder"
                    ],
                    [
                      "red dirt"
                    ],
                    [
                      "redneck"
                    ],
                    [
                      "reggae"
                    ],
                    [
                      "reggae cover"
                    ],
                    [
                      "reggae en espanol"
                    ],
                    [
                      "reggae fusion"
                    ],
                    [
                      "reggae maghreb"
                    ],
                    [
                      "reggae peruano"
                    ],
                    [
                      "reggae rock"
                    ],
                    [
                      "reggaeton"
                    ],
                    [
                      "reggaeton colombiano"
                    ],
                    [
                      "reggaeton cristiano"
                    ],
                    [
                      "reggaeton flow"
                    ],
                    [
                      "regional mexican"
                    ],
                    [
                      "relaxative"
                    ],
                    [
                      "remix product"
                    ],
                    [
                      "renaissance"
                    ],
                    [
                      "rennes indie"
                    ],
                    [
                      "retro metal"
                    ],
                    [
                      "retro soul"
                    ],
                    [
                      "reunion pop"
                    ],
                    [
                      "rhode island indie"
                    ],
                    [
                      "rhode island rap"
                    ],
                    [
                      "rhythm and blues"
                    ],
                    [
                      "rhythm game"
                    ],
                    [
                      "riddim"
                    ],
                    [
                      "riddim dubstep"
                    ],
                    [
                      "rif"
                    ],
                    [
                      "riot grrrl"
                    ],
                    [
                      "ritmo kombina"
                    ],
                    [
                      "rkt"
                    ],
                    [
                      "rochester mn indie"
                    ],
                    [
                      "rochester ny indie"
                    ],
                    [
                      "rock"
                    ],
                    [
                      "rock alternatif francais"
                    ],
                    [
                      "rock alternativo brasileiro"
                    ],
                    [
                      "rock andaluz"
                    ],
                    [
                      "rock baiano"
                    ],
                    [
                      "rock brasiliense"
                    ],
                    [
                      "rock catala"
                    ],
                    [
                      "rock chapin"
                    ],
                    [
                      "rock cristiano"
                    ],
                    [
                      "rock drums"
                    ],
                    [
                      "rock en espanol"
                    ],
                    [
                      "rock gaucho"
                    ],
                    [
                      "rock independant francais"
                    ],
                    [
                      "rock keyboard"
                    ],
                    [
                      "rock nacional"
                    ],
                    [
                      "rock nacional brasileiro"
                    ],
                    [
                      "rock pernambucano"
                    ],
                    [
                      "rock progressif francais"
                    ],
                    [
                      "rock steady"
                    ],
                    [
                      "rock urbano mexicano"
                    ],
                    [
                      "rock uruguayo"
                    ],
                    [
                      "rock-and-roll"
                    ],
                    [
                      "rockabilly"
                    ],
                    [
                      "rockabilly en espanol"
                    ],
                    [
                      "roda de samba"
                    ],
                    [
                      "romanian classical piano"
                    ],
                    [
                      "romanian electronic"
                    ],
                    [
                      "romanian folk"
                    ],
                    [
                      "romanian pop"
                    ],
                    [
                      "romanian rock"
                    ],
                    [
                      "romantico"
                    ],
                    [
                      "rominimal"
                    ],
                    [
                      "roots americana"
                    ],
                    [
                      "roots reggae"
                    ],
                    [
                      "roots rock"
                    ],
                    [
                      "roots worship"
                    ],
                    [
                      "rosary"
                    ],
                    [
                      "rumba"
                    ],
                    [
                      "rumba catalana"
                    ],
                    [
                      "rumba congolaise"
                    ],
                    [
                      "rune folk"
                    ],
                    [
                      "russelater"
                    ],
                    [
                      "russian alternative rock"
                    ],
                    [
                      "russian ccm"
                    ],
                    [
                      "russian chanson"
                    ],
                    [
                      "russian choir"
                    ],
                    [
                      "russian classical piano"
                    ],
                    [
                      "russian contemporary classical"
                    ],
                    [
                      "russian dance"
                    ],
                    [
                      "russian dance pop"
                    ],
                    [
                      "russian dnb"
                    ],
                    [
                      "russian edm"
                    ],
                    [
                      "russian folk"
                    ],
                    [
                      "russian folk rock"
                    ],
                    [
                      "russian gangster rap"
                    ],
                    [
                      "russian hip hop"
                    ],
                    [
                      "russian jazz"
                    ],
                    [
                      "russian metal"
                    ],
                    [
                      "russian modern classical"
                    ],
                    [
                      "russian orchestra"
                    ],
                    [
                      "russian pop"
                    ],
                    [
                      "russian post-punk"
                    ],
                    [
                      "russian power metal"
                    ],
                    [
                      "russian punk"
                    ],
                    [
                      "russian punk rock"
                    ],
                    [
                      "russian rock"
                    ],
                    [
                      "russian romanticism"
                    ],
                    [
                      "russian ska"
                    ],
                    [
                      "russian techno"
                    ],
                    [
                      "russian thrash metal"
                    ],
                    [
                      "russian trance"
                    ],
                    [
                      "rva indie"
                    ],
                    [
                      "rwandan traditional"
                    ],
                    [
                      "ryukyu ongaku"
                    ],
                    [
                      "sacramento hip hop"
                    ],
                    [
                      "sacramento indie"
                    ],
                    [
                      "sacred steel"
                    ],
                    [
                      "sad rap"
                    ],
                    [
                      "salsa"
                    ],
                    [
                      "salsa choke"
                    ],
                    [
                      "salsa colombiana"
                    ],
                    [
                      "salsa cristiana"
                    ],
                    [
                      "salsa cubana"
                    ],
                    [
                      "salsa international"
                    ],
                    [
                      "salsa peruana"
                    ],
                    [
                      "salsa puertorriquena"
                    ],
                    [
                      "salsa venezolana"
                    ],
                    [
                      "samba"
                    ],
                    [
                      "samba de roda"
                    ],
                    [
                      "samba moderno"
                    ],
                    [
                      "samba-enredo"
                    ],
                    [
                      "samba-jazz"
                    ],
                    [
                      "samba-rock"
                    ],
                    [
                      "samoan pop"
                    ],
                    [
                      "san diego indie"
                    ],
                    [
                      "san diego rap"
                    ],
                    [
                      "san marcos tx indie"
                    ],
                    [
                      "sandalwood"
                    ],
                    [
                      "santa fe indie"
                    ],
                    [
                      "sarod"
                    ],
                    [
                      "saskatchewan indie"
                    ],
                    [
                      "saxony metal"
                    ],
                    [
                      "scam rap"
                    ],
                    [
                      "scandinavian r&b"
                    ],
                    [
                      "scandipop"
                    ],
                    [
                      "schlager"
                    ],
                    [
                      "school choir"
                    ],
                    [
                      "school ensemble"
                    ],
                    [
                      "schranz"
                    ],
                    [
                      "scorecore"
                    ],
                    [
                      "scottish americana"
                    ],
                    [
                      "scottish electronic"
                    ],
                    [
                      "scottish fiddle"
                    ],
                    [
                      "scottish folk"
                    ],
                    [
                      "scottish indie"
                    ],
                    [
                      "scottish indie folk"
                    ],
                    [
                      "scottish jazz"
                    ],
                    [
                      "scottish metal"
                    ],
                    [
                      "scottish new wave"
                    ],
                    [
                      "scottish rock"
                    ],
                    [
                      "scottish singer-songwriter"
                    ],
                    [
                      "scottish techno"
                    ],
                    [
                      "scratch"
                    ],
                    [
                      "scream rap"
                    ],
                    [
                      "screamo"
                    ],
                    [
                      "seattle hip hop"
                    ],
                    [
                      "seattle indie"
                    ],
                    [
                      "seattle metal"
                    ],
                    [
                      "second line"
                    ],
                    [
                      "sefardi"
                    ],
                    [
                      "seiyu"
                    ],
                    [
                      "serbian electronic"
                    ],
                    [
                      "serbian hip hop"
                    ],
                    [
                      "serialism"
                    ],
                    [
                      "sertanejo"
                    ],
                    [
                      "sertanejo pop"
                    ],
                    [
                      "sertanejo tradicional"
                    ],
                    [
                      "sertanejo universitario"
                    ],
                    [
                      "sesame street"
                    ],
                    [
                      "sevdah"
                    ],
                    [
                      "shaabi"
                    ],
                    [
                      "shabad"
                    ],
                    [
                      "shakuhachi"
                    ],
                    [
                      "shamanic"
                    ],
                    [
                      "shanty"
                    ],
                    [
                      "sheffield indie"
                    ],
                    [
                      "shibuya-kei"
                    ],
                    [
                      "shimmer pop"
                    ],
                    [
                      "shimmer psych"
                    ],
                    [
                      "shiver pop"
                    ],
                    [
                      "shoegaze"
                    ],
                    [
                      "shonen"
                    ],
                    [
                      "show tunes"
                    ],
                    [
                      "shred"
                    ],
                    [
                      "shush"
                    ],
                    [
                      "sierreno"
                    ],
                    [
                      "singaporean electronic"
                    ],
                    [
                      "singaporean mandopop"
                    ],
                    [
                      "singaporean pop"
                    ],
                    [
                      "singaporean singer-songwriter"
                    ],
                    [
                      "singer-songwriter"
                    ],
                    [
                      "sinhala pop"
                    ],
                    [
                      "sinogaze"
                    ],
                    [
                      "sitar"
                    ],
                    [
                      "ska"
                    ],
                    [
                      "ska argentino"
                    ],
                    [
                      "ska catala"
                    ],
                    [
                      "ska chileno"
                    ],
                    [
                      "ska jazz"
                    ],
                    [
                      "ska mexicano"
                    ],
                    [
                      "ska punk"
                    ],
                    [
                      "ska revival"
                    ],
                    [
                      "skanska musik"
                    ],
                    [
                      "skate punk"
                    ],
                    [
                      "skiffle"
                    ],
                    [
                      "skramz"
                    ],
                    [
                      "sky room"
                    ],
                    [
                      "slack-key guitar"
                    ],
                    [
                      "slam poetry"
                    ],
                    [
                      "slamming deathcore"
                    ],
                    [
                      "slavic folk metal"
                    ],
                    [
                      "slayer"
                    ],
                    [
                      "slc indie"
                    ],
                    [
                      "sleaze rock"
                    ],
                    [
                      "sleep"
                    ],
                    [
                      "slovak electronic"
                    ],
                    [
                      "slovak hip hop"
                    ],
                    [
                      "slovak pop"
                    ],
                    [
                      "slovenian electronic"
                    ],
                    [
                      "slovenian metal"
                    ],
                    [
                      "slow game"
                    ],
                    [
                      "slowcore"
                    ],
                    [
                      "sludge metal"
                    ],
                    [
                      "small room"
                    ],
                    [
                      "smooth jazz"
                    ],
                    [
                      "smooth saxophone"
                    ],
                    [
                      "smooth soul"
                    ],
                    [
                      "soca"
                    ],
                    [
                      "socal pop punk"
                    ],
                    [
                      "social media pop"
                    ],
                    [
                      "soda pop"
                    ],
                    [
                      "soft rock"
                    ],
                    [
                      "solipsynthm"
                    ],
                    [
                      "son cubano"
                    ],
                    [
                      "son cubano clasico"
                    ],
                    [
                      "sophisti-pop"
                    ],
                    [
                      "sotalaulut"
                    ],
                    [
                      "soukous"
                    ],
                    [
                      "soul"
                    ],
                    [
                      "soul blues"
                    ],
                    [
                      "soul flow"
                    ],
                    [
                      "soul jazz"
                    ],
                    [
                      "souldies"
                    ],
                    [
                      "sound"
                    ],
                    [
                      "sound effects"
                    ],
                    [
                      "sound team"
                    ],
                    [
                      "soundtrack"
                    ],
                    [
                      "south african alternative"
                    ],
                    [
                      "south african choral"
                    ],
                    [
                      "south african country"
                    ],
                    [
                      "south african hip hop"
                    ],
                    [
                      "south african house"
                    ],
                    [
                      "south african jazz"
                    ],
                    [
                      "south african pop"
                    ],
                    [
                      "south african pop dance"
                    ],
                    [
                      "south african rock"
                    ],
                    [
                      "south carolina hip hop"
                    ],
                    [
                      "south carolina indie"
                    ],
                    [
                      "south dakota indie"
                    ],
                    [
                      "southampton indie"
                    ],
                    [
                      "southern americana"
                    ],
                    [
                      "southern gospel"
                    ],
                    [
                      "southern hip hop"
                    ],
                    [
                      "southern metal"
                    ],
                    [
                      "southern rock"
                    ],
                    [
                      "southern soul"
                    ],
                    [
                      "southern soul blues"
                    ],
                    [
                      "soviet synthpop"
                    ],
                    [
                      "sovietwave"
                    ],
                    [
                      "spa"
                    ],
                    [
                      "space age pop"
                    ],
                    [
                      "space ambient"
                    ],
                    [
                      "space rock"
                    ],
                    [
                      "spacewave"
                    ],
                    [
                      "spanish baroque"
                    ],
                    [
                      "spanish blues"
                    ],
                    [
                      "spanish classical"
                    ],
                    [
                      "spanish classical piano"
                    ],
                    [
                      "spanish electronic"
                    ],
                    [
                      "spanish folk metal"
                    ],
                    [
                      "spanish hip hop"
                    ],
                    [
                      "spanish indie pop"
                    ],
                    [
                      "spanish indie rock"
                    ],
                    [
                      "spanish invasion"
                    ],
                    [
                      "spanish jazz"
                    ],
                    [
                      "spanish metal"
                    ],
                    [
                      "spanish modern rock"
                    ],
                    [
                      "spanish new wave"
                    ],
                    [
                      "spanish pop"
                    ],
                    [
                      "spanish pop rock"
                    ],
                    [
                      "spanish post-rock"
                    ],
                    [
                      "spanish punk"
                    ],
                    [
                      "spanish renaissance"
                    ],
                    [
                      "spanish rock"
                    ],
                    [
                      "spanish rockabilly"
                    ],
                    [
                      "spanish synthpop"
                    ],
                    [
                      "spanish techno"
                    ],
                    [
                      "speed garage"
                    ],
                    [
                      "speed metal"
                    ],
                    [
                      "speedcore"
                    ],
                    [
                      "spiritual hip hop"
                    ],
                    [
                      "spiritual jazz"
                    ],
                    [
                      "spirituals"
                    ],
                    [
                      "spytrack"
                    ],
                    [
                      "st louis rap"
                    ],
                    [
                      "starogradska"
                    ],
                    [
                      "steampunk"
                    ],
                    [
                      "steel guitar"
                    ],
                    [
                      "steelpan"
                    ],
                    [
                      "stomp and flutter"
                    ],
                    [
                      "stomp and holler"
                    ],
                    [
                      "stomp pop"
                    ],
                    [
                      "stoner metal"
                    ],
                    [
                      "stoner rock"
                    ],
                    [
                      "straight edge"
                    ],
                    [
                      "straight-ahead jazz"
                    ],
                    [
                      "street band"
                    ],
                    [
                      "street punk"
                    ],
                    [
                      "street punk espanol"
                    ],
                    [
                      "streichquartett"
                    ],
                    [
                      "stride"
                    ],
                    [
                      "string band"
                    ],
                    [
                      "string folk"
                    ],
                    [
                      "string orchestra"
                    ],
                    [
                      "string quartet"
                    ],
                    [
                      "strut"
                    ],
                    [
                      "substep"
                    ],
                    [
                      "sufi"
                    ],
                    [
                      "sufi chant"
                    ],
                    [
                      "sungura"
                    ],
                    [
                      "sunset lounge"
                    ],
                    [
                      "sunshine pop"
                    ],
                    [
                      "suomisaundi"
                    ],
                    [
                      "supergroup"
                    ],
                    [
                      "surf music"
                    ],
                    [
                      "surf punk"
                    ],
                    [
                      "svensk progg"
                    ],
                    [
                      "swamp blues"
                    ],
                    [
                      "swamp pop"
                    ],
                    [
                      "swamp rock"
                    ],
                    [
                      "swancore"
                    ],
                    [
                      "swedish alternative rock"
                    ],
                    [
                      "swedish americana"
                    ],
                    [
                      "swedish black metal"
                    ],
                    [
                      "swedish choir"
                    ],
                    [
                      "swedish classical"
                    ],
                    [
                      "swedish contemporary classical"
                    ],
                    [
                      "swedish country"
                    ],
                    [
                      "swedish dancehall"
                    ],
                    [
                      "swedish death metal"
                    ],
                    [
                      "swedish doom metal"
                    ],
                    [
                      "swedish electronic"
                    ],
                    [
                      "swedish electropop"
                    ],
                    [
                      "swedish eurodance"
                    ],
                    [
                      "swedish garage rock"
                    ],
                    [
                      "swedish hard rock"
                    ],
                    [
                      "swedish hardcore"
                    ],
                    [
                      "swedish heavy metal"
                    ],
                    [
                      "swedish house"
                    ],
                    [
                      "swedish idol pop"
                    ],
                    [
                      "swedish indie folk"
                    ],
                    [
                      "swedish indie pop"
                    ],
                    [
                      "swedish indie rock"
                    ],
                    [
                      "swedish jazz"
                    ],
                    [
                      "swedish jazz orkester"
                    ],
                    [
                      "swedish melodic rock"
                    ],
                    [
                      "swedish metal"
                    ],
                    [
                      "swedish pop"
                    ],
                    [
                      "swedish post-hardcore"
                    ],
                    [
                      "swedish power metal"
                    ],
                    [
                      "swedish prog"
                    ],
                    [
                      "swedish progressive metal"
                    ],
                    [
                      "swedish punk"
                    ],
                    [
                      "swedish rock-and-roll"
                    ],
                    [
                      "swedish singer-songwriter"
                    ],
                    [
                      "swedish soul"
                    ],
                    [
                      "swedish stoner rock"
                    ],
                    [
                      "swedish synth"
                    ],
                    [
                      "swedish synthpop"
                    ],
                    [
                      "swedish techno"
                    ],
                    [
                      "swedish tropical house"
                    ],
                    [
                      "swing"
                    ],
                    [
                      "swing italiano"
                    ],
                    [
                      "swing revival"
                    ],
                    [
                      "swiss black metal"
                    ],
                    [
                      "swiss classical piano"
                    ],
                    [
                      "swiss contemporary classical"
                    ],
                    [
                      "swiss country"
                    ],
                    [
                      "swiss jazz"
                    ],
                    [
                      "swiss metal"
                    ],
                    [
                      "swiss pop"
                    ],
                    [
                      "swiss punk"
                    ],
                    [
                      "swiss rock"
                    ],
                    [
                      "symphonic black metal"
                    ],
                    [
                      "symphonic death metal"
                    ],
                    [
                      "symphonic metal"
                    ],
                    [
                      "symphonic rock"
                    ],
                    [
                      "synth funk"
                    ],
                    [
                      "synth punk"
                    ],
                    [
                      "synthpop"
                    ],
                    [
                      "synthwave"
                    ],
                    [
                      "syrian pop"
                    ],
                    [
                      "tabla"
                    ],
                    [
                      "tagalog rap"
                    ],
                    [
                      "tagalog worship"
                    ],
                    [
                      "taiwan campus folk"
                    ],
                    [
                      "taiwan classical performance"
                    ],
                    [
                      "taiwan hip hop"
                    ],
                    [
                      "taiwan indie"
                    ],
                    [
                      "taiwan pop"
                    ],
                    [
                      "taiwan singer-songwriter"
                    ],
                    [
                      "tajik pop"
                    ],
                    [
                      "talent show"
                    ],
                    [
                      "tallava"
                    ],
                    [
                      "tamborazo"
                    ],
                    [
                      "tamil hip hop"
                    ],
                    [
                      "tamil pop"
                    ],
                    [
                      "tamil worship"
                    ],
                    [
                      "tampa indie"
                    ],
                    [
                      "tango"
                    ],
                    [
                      "tango cancion"
                    ],
                    [
                      "tape club"
                    ],
                    [
                      "tavern"
                    ],
                    [
                      "tech house"
                    ],
                    [
                      "tech trance"
                    ],
                    [
                      "technical brutal death metal"
                    ],
                    [
                      "technical death metal"
                    ],
                    [
                      "technical deathcore"
                    ],
                    [
                      "technical grindcore"
                    ],
                    [
                      "technical groove metal"
                    ],
                    [
                      "technical melodic death metal"
                    ],
                    [
                      "technical thrash"
                    ],
                    [
                      "techno"
                    ],
                    [
                      "techno argentina"
                    ],
                    [
                      "techno kayo"
                    ],
                    [
                      "tecnobanda"
                    ],
                    [
                      "teen pop"
                    ],
                    [
                      "tejano"
                    ],
                    [
                      "tekk"
                    ],
                    [
                      "tekno"
                    ],
                    [
                      "tempe indie"
                    ],
                    [
                      "tennessee experimental"
                    ],
                    [
                      "tennessee hip hop"
                    ],
                    [
                      "tex-mex"
                    ],
                    [
                      "texas blues"
                    ],
                    [
                      "texas country"
                    ],
                    [
                      "texas latin rap"
                    ],
                    [
                      "texas pop punk"
                    ],
                    [
                      "texas punk"
                    ],
                    [
                      "thai folk pop"
                    ],
                    [
                      "thai folk rock"
                    ],
                    [
                      "thai hip hop"
                    ],
                    [
                      "thai idol"
                    ],
                    [
                      "thai indie"
                    ],
                    [
                      "thai indie rock"
                    ],
                    [
                      "thai instrumental"
                    ],
                    [
                      "thai pop"
                    ],
                    [
                      "thai rock"
                    ],
                    [
                      "thall"
                    ],
                    [
                      "theme"
                    ],
                    [
                      "therapy"
                    ],
                    [
                      "theremin"
                    ],
                    [
                      "thrash core"
                    ],
                    [
                      "thrash metal"
                    ],
                    [
                      "timba"
                    ],
                    [
                      "tin pan alley"
                    ],
                    [
                      "tipico"
                    ],
                    [
                      "tolkien metal"
                    ],
                    [
                      "tollywood"
                    ],
                    [
                      "tone"
                    ],
                    [
                      "torch song"
                    ],
                    [
                      "toronto indie"
                    ],
                    [
                      "toronto rap"
                    ],
                    [
                      "trad jazz catala"
                    ],
                    [
                      "trad quebecois"
                    ],
                    [
                      "traditional bluegrass"
                    ],
                    [
                      "traditional blues"
                    ],
                    [
                      "traditional british folk"
                    ],
                    [
                      "traditional country"
                    ],
                    [
                      "traditional english folk"
                    ],
                    [
                      "traditional folk"
                    ],
                    [
                      "traditional irish singing"
                    ],
                    [
                      "traditional rockabilly"
                    ],
                    [
                      "traditional ska"
                    ],
                    [
                      "traditional soul"
                    ],
                    [
                      "trance"
                    ],
                    [
                      "trance mexicano"
                    ],
                    [
                      "trancecore"
                    ],
                    [
                      "transpop"
                    ],
                    [
                      "trap"
                    ],
                    [
                      "trap argentino"
                    ],
                    [
                      "trap boricua"
                    ],
                    [
                      "trap dominicano"
                    ],
                    [
                      "trap funk"
                    ],
                    [
                      "trap italiana"
                    ],
                    [
                      "trap latino"
                    ],
                    [
                      "trap mexicano"
                    ],
                    [
                      "trap queen"
                    ],
                    [
                      "trap soul"
                    ],
                    [
                      "trap triste"
                    ],
                    [
                      "trap venezolano"
                    ],
                    [
                      "traprun"
                    ],
                    [
                      "trash rock"
                    ],
                    [
                      "triangle indie"
                    ],
                    [
                      "tribal house"
                    ],
                    [
                      "trinidadian reggae"
                    ],
                    [
                      "trio cubano"
                    ],
                    [
                      "trip hop"
                    ],
                    [
                      "trival"
                    ],
                    [
                      "tropical"
                    ],
                    [
                      "tropical house"
                    ],
                    [
                      "tropicalia"
                    ],
                    [
                      "trova"
                    ],
                    [
                      "trova mexicana"
                    ],
                    [
                      "truck-driving country"
                    ],
                    [
                      "tucson indie"
                    ],
                    [
                      "tulsa indie"
                    ],
                    [
                      "tunisian pop"
                    ],
                    [
                      "turbo folk"
                    ],
                    [
                      "turkish classical"
                    ],
                    [
                      "turkish classical performance"
                    ],
                    [
                      "turkish edm"
                    ],
                    [
                      "turkish experimental"
                    ],
                    [
                      "turkish folk"
                    ],
                    [
                      "turkish jazz"
                    ],
                    [
                      "turkish modern jazz"
                    ],
                    [
                      "turkish pop"
                    ],
                    [
                      "turkish psych"
                    ],
                    [
                      "turkish trap"
                    ],
                    [
                      "turkish trap pop"
                    ],
                    [
                      "turntablism"
                    ],
                    [
                      "twee pop"
                    ],
                    [
                      "twin cities indie"
                    ],
                    [
                      "twoubadou"
                    ],
                    [
                      "tzadik"
                    ],
                    [
                      "ugandan pop"
                    ],
                    [
                      "uilleann pipes"
                    ],
                    [
                      "uk alternative hip hop"
                    ],
                    [
                      "uk alternative pop"
                    ],
                    [
                      "uk americana"
                    ],
                    [
                      "uk contemporary r&b"
                    ],
                    [
                      "uk dance"
                    ],
                    [
                      "uk dancehall"
                    ],
                    [
                      "uk dnb"
                    ],
                    [
                      "uk doom metal"
                    ],
                    [
                      "uk drill"
                    ],
                    [
                      "uk dub"
                    ],
                    [
                      "uk experimental electronic"
                    ],
                    [
                      "uk funky"
                    ],
                    [
                      "uk garage"
                    ],
                    [
                      "uk hip hop"
                    ],
                    [
                      "uk house"
                    ],
                    [
                      "uk metalcore"
                    ],
                    [
                      "uk noise rock"
                    ],
                    [
                      "uk pop"
                    ],
                    [
                      "uk pop punk"
                    ],
                    [
                      "uk post-hardcore"
                    ],
                    [
                      "uk post-punk"
                    ],
                    [
                      "uk reggae"
                    ],
                    [
                      "uk rockabilly"
                    ],
                    [
                      "uk stoner rock"
                    ],
                    [
                      "uk tech house"
                    ],
                    [
                      "uk worship"
                    ],
                    [
                      "uk82"
                    ],
                    [
                      "ukhc"
                    ],
                    [
                      "ukrainian classical"
                    ],
                    [
                      "ukrainian classical piano"
                    ],
                    [
                      "ukrainian electronic"
                    ],
                    [
                      "ukrainian pop"
                    ],
                    [
                      "ukulele"
                    ],
                    [
                      "umbanda"
                    ],
                    [
                      "underground hip hop"
                    ],
                    [
                      "underground power pop"
                    ],
                    [
                      "underground rap"
                    ],
                    [
                      "university choir"
                    ],
                    [
                      "uplifting trance"
                    ],
                    [
                      "uptempo hardcore"
                    ],
                    [
                      "urban contemporary"
                    ],
                    [
                      "urbano espanol"
                    ],
                    [
                      "us power metal"
                    ],
                    [
                      "utah indie"
                    ],
                    [
                      "uzbek pop"
                    ],
                    [
                      "uzbek traditional"
                    ],
                    [
                      "v-pop"
                    ],
                    [
                      "vallenato"
                    ],
                    [
                      "vallenato moderno"
                    ],
                    [
                      "vancouver indie"
                    ],
                    [
                      "vancouver metal"
                    ],
                    [
                      "vancouver punk"
                    ],
                    [
                      "vapor pop"
                    ],
                    [
                      "vapor soul"
                    ],
                    [
                      "vapor trap"
                    ],
                    [
                      "vapor twitch"
                    ],
                    [
                      "vaporwave"
                    ],
                    [
                      "variete francaise"
                    ],
                    [
                      "vaudeville"
                    ],
                    [
                      "vbs"
                    ],
                    [
                      "veena"
                    ],
                    [
                      "vegan straight edge"
                    ],
                    [
                      "vegas indie"
                    ],
                    [
                      "velha guarda"
                    ],
                    [
                      "venezuelan hip hop"
                    ],
                    [
                      "venezuelan indie"
                    ],
                    [
                      "venezuelan rock"
                    ],
                    [
                      "veracruz indie"
                    ],
                    [
                      "vgm instrumental"
                    ],
                    [
                      "victorian britain"
                    ],
                    [
                      "video game music"
                    ],
                    [
                      "vietnamese bolero"
                    ],
                    [
                      "vietnamese pop"
                    ],
                    [
                      "viking black metal"
                    ],
                    [
                      "viking folk"
                    ],
                    [
                      "viking metal"
                    ],
                    [
                      "villancicos"
                    ],
                    [
                      "vintage chanson"
                    ],
                    [
                      "vintage chinese pop"
                    ],
                    [
                      "vintage classical singing"
                    ],
                    [
                      "vintage country folk"
                    ],
                    [
                      "vintage french electronic"
                    ],
                    [
                      "vintage gospel"
                    ],
                    [
                      "vintage hawaiian"
                    ],
                    [
                      "vintage hollywood"
                    ],
                    [
                      "vintage italian pop"
                    ],
                    [
                      "vintage italian soundtrack"
                    ],
                    [
                      "vintage jazz"
                    ],
                    [
                      "vintage old-time"
                    ],
                    [
                      "vintage rockabilly"
                    ],
                    [
                      "vintage schlager"
                    ],
                    [
                      "vintage spanish pop"
                    ],
                    [
                      "vintage swedish pop"
                    ],
                    [
                      "vintage swing"
                    ],
                    [
                      "vintage tango"
                    ],
                    [
                      "viola"
                    ],
                    [
                      "violao"
                    ],
                    [
                      "violao classico"
                    ],
                    [
                      "violin"
                    ],
                    [
                      "viral pop"
                    ],
                    [
                      "viral rap"
                    ],
                    [
                      "viral trap"
                    ],
                    [
                      "virgin islands reggae"
                    ],
                    [
                      "virginia hip hop"
                    ],
                    [
                      "virginia metal"
                    ],
                    [
                      "virginia punk"
                    ],
                    [
                      "visor"
                    ],
                    [
                      "visual kei"
                    ],
                    [
                      "vocal ensemble"
                    ],
                    [
                      "vocal harmony group"
                    ],
                    [
                      "vocal house"
                    ],
                    [
                      "vocal jazz"
                    ],
                    [
                      "vocal trance"
                    ],
                    [
                      "vocaloid"
                    ],
                    [
                      "vogue"
                    ],
                    [
                      "voidgaze"
                    ],
                    [
                      "volksmusik"
                    ],
                    [
                      "warm drone"
                    ],
                    [
                      "warrington indie"
                    ],
                    [
                      "washboard"
                    ],
                    [
                      "washington indie"
                    ],
                    [
                      "wassoulou"
                    ],
                    [
                      "water"
                    ],
                    [
                      "wave"
                    ],
                    [
                      "welsh folk"
                    ],
                    [
                      "welsh indie"
                    ],
                    [
                      "welsh metal"
                    ],
                    [
                      "welsh rock"
                    ],
                    [
                      "west african jazz"
                    ],
                    [
                      "west coast rap"
                    ],
                    [
                      "west coast reggae"
                    ],
                    [
                      "west coast trap"
                    ],
                    [
                      "west end"
                    ],
                    [
                      "west virginia indie"
                    ],
                    [
                      "west virginia metal"
                    ],
                    [
                      "western americana"
                    ],
                    [
                      "western mass indie"
                    ],
                    [
                      "western swing"
                    ],
                    [
                      "white noise"
                    ],
                    [
                      "wind ensemble"
                    ],
                    [
                      "wind quintet"
                    ],
                    [
                      "wind symphony"
                    ],
                    [
                      "witch house"
                    ],
                    [
                      "women's music"
                    ],
                    [
                      "wonky"
                    ],
                    [
                      "worcester ma indie"
                    ],
                    [
                      "workout product"
                    ],
                    [
                      "world"
                    ],
                    [
                      "world chill"
                    ],
                    [
                      "world fusion"
                    ],
                    [
                      "world meditation"
                    ],
                    [
                      "world worship"
                    ],
                    [
                      "worship"
                    ],
                    [
                      "wrestling"
                    ],
                    [
                      "wu fam"
                    ],
                    [
                      "wyoming indie"
                    ],
                    [
                      "wyoming roots"
                    ],
                    [
                      "xhosa"
                    ],
                    [
                      "xtra raw"
                    ],
                    [
                      "yacht rock"
                    ],
                    [
                      "yaoi"
                    ],
                    [
                      "ye ye"
                    ],
                    [
                      "yiddish folk"
                    ],
                    [
                      "yodeling"
                    ],
                    [
                      "yoga"
                    ],
                    [
                      "yoik"
                    ],
                    [
                      "york indie"
                    ],
                    [
                      "yorkshire folk"
                    ],
                    [
                      "youth orchestra"
                    ],
                    [
                      "yugoslav new wave"
                    ],
                    [
                      "yugoslav rock"
                    ],
                    [
                      "zambian pop"
                    ],
                    [
                      "zen"
                    ],
                    [
                      "zhongguo feng"
                    ],
                    [
                      "zim urban groove"
                    ],
                    [
                      "zolo"
                    ],
                    [
                      "zouk"
                    ],
                    [
                      "zurich indie"
                    ],
                    [
                      "zydeco"
                    ]
                  ],
                  "hovertemplate": "x=%{x}<br>y=%{y}<br>genres=%{customdata[0]}<br>cluster=%{marker.color}<extra></extra>",
                  "legendgroup": "",
                  "marker": {
                    "color": [
                      2,
                      2,
                      0,
                      1,
                      1,
                      2,
                      6,
                      5,
                      2,
                      1,
                      1,
                      7,
                      7,
                      5,
                      0,
                      4,
                      2,
                      1,
                      8,
                      2,
                      5,
                      6,
                      6,
                      1,
                      0,
                      6,
                      1,
                      1,
                      5,
                      1,
                      5,
                      6,
                      6,
                      6,
                      1,
                      8,
                      5,
                      0,
                      5,
                      5,
                      5,
                      6,
                      7,
                      6,
                      7,
                      4,
                      6,
                      4,
                      6,
                      6,
                      0,
                      7,
                      6,
                      7,
                      6,
                      6,
                      1,
                      6,
                      5,
                      5,
                      6,
                      5,
                      4,
                      6,
                      5,
                      6,
                      6,
                      5,
                      5,
                      2,
                      4,
                      0,
                      1,
                      7,
                      6,
                      5,
                      2,
                      2,
                      0,
                      2,
                      2,
                      6,
                      2,
                      2,
                      2,
                      2,
                      1,
                      4,
                      7,
                      1,
                      7,
                      2,
                      2,
                      2,
                      2,
                      4,
                      7,
                      4,
                      2,
                      7,
                      5,
                      6,
                      6,
                      6,
                      5,
                      5,
                      6,
                      6,
                      1,
                      6,
                      1,
                      0,
                      0,
                      1,
                      7,
                      7,
                      6,
                      6,
                      2,
                      2,
                      5,
                      6,
                      6,
                      5,
                      6,
                      5,
                      6,
                      6,
                      4,
                      6,
                      7,
                      2,
                      6,
                      6,
                      6,
                      2,
                      8,
                      5,
                      2,
                      8,
                      4,
                      5,
                      7,
                      7,
                      5,
                      6,
                      2,
                      4,
                      5,
                      8,
                      7,
                      8,
                      5,
                      1,
                      4,
                      7,
                      6,
                      5,
                      6,
                      7,
                      4,
                      2,
                      5,
                      0,
                      5,
                      2,
                      2,
                      6,
                      6,
                      7,
                      4,
                      6,
                      7,
                      5,
                      6,
                      5,
                      7,
                      4,
                      6,
                      4,
                      6,
                      5,
                      5,
                      7,
                      5,
                      6,
                      4,
                      7,
                      6,
                      4,
                      2,
                      2,
                      2,
                      4,
                      0,
                      2,
                      6,
                      8,
                      4,
                      2,
                      1,
                      8,
                      6,
                      1,
                      5,
                      5,
                      5,
                      6,
                      5,
                      2,
                      1,
                      1,
                      1,
                      1,
                      7,
                      1,
                      1,
                      0,
                      8,
                      2,
                      0,
                      2,
                      1,
                      2,
                      7,
                      4,
                      6,
                      6,
                      5,
                      1,
                      1,
                      1,
                      1,
                      1,
                      2,
                      6,
                      1,
                      1,
                      5,
                      9,
                      8,
                      9,
                      2,
                      2,
                      2,
                      2,
                      2,
                      6,
                      2,
                      1,
                      1,
                      7,
                      4,
                      5,
                      5,
                      5,
                      5,
                      6,
                      5,
                      5,
                      5,
                      5,
                      0,
                      5,
                      1,
                      5,
                      1,
                      8,
                      6,
                      7,
                      1,
                      5,
                      5,
                      4,
                      5,
                      6,
                      2,
                      2,
                      7,
                      7,
                      6,
                      0,
                      1,
                      4,
                      0,
                      7,
                      5,
                      7,
                      0,
                      5,
                      5,
                      1,
                      6,
                      6,
                      0,
                      2,
                      1,
                      5,
                      2,
                      1,
                      6,
                      7,
                      2,
                      7,
                      0,
                      4,
                      5,
                      4,
                      9,
                      4,
                      4,
                      4,
                      4,
                      4,
                      8,
                      2,
                      2,
                      7,
                      1,
                      1,
                      6,
                      1,
                      5,
                      4,
                      6,
                      6,
                      0,
                      1,
                      1,
                      1,
                      6,
                      6,
                      6,
                      1,
                      7,
                      0,
                      1,
                      1,
                      1,
                      5,
                      6,
                      6,
                      4,
                      6,
                      6,
                      6,
                      4,
                      1,
                      1,
                      5,
                      6,
                      2,
                      7,
                      2,
                      1,
                      2,
                      2,
                      0,
                      8,
                      6,
                      2,
                      2,
                      2,
                      4,
                      0,
                      0,
                      4,
                      4,
                      6,
                      6,
                      1,
                      4,
                      1,
                      5,
                      6,
                      6,
                      7,
                      7,
                      0,
                      7,
                      4,
                      7,
                      7,
                      0,
                      5,
                      1,
                      0,
                      4,
                      7,
                      6,
                      4,
                      6,
                      2,
                      6,
                      2,
                      2,
                      6,
                      2,
                      1,
                      4,
                      5,
                      1,
                      4,
                      6,
                      5,
                      6,
                      1,
                      2,
                      2,
                      0,
                      4,
                      1,
                      6,
                      2,
                      5,
                      1,
                      6,
                      6,
                      7,
                      5,
                      5,
                      4,
                      4,
                      0,
                      6,
                      6,
                      6,
                      1,
                      4,
                      0,
                      3,
                      5,
                      1,
                      1,
                      1,
                      6,
                      1,
                      6,
                      7,
                      5,
                      1,
                      1,
                      5,
                      2,
                      7,
                      7,
                      6,
                      7,
                      6,
                      1,
                      2,
                      2,
                      2,
                      8,
                      6,
                      6,
                      6,
                      4,
                      6,
                      8,
                      6,
                      4,
                      5,
                      5,
                      1,
                      1,
                      5,
                      4,
                      7,
                      6,
                      6,
                      5,
                      2,
                      6,
                      4,
                      6,
                      7,
                      6,
                      2,
                      6,
                      6,
                      8,
                      6,
                      8,
                      6,
                      6,
                      1,
                      1,
                      1,
                      5,
                      1,
                      1,
                      1,
                      0,
                      1,
                      5,
                      1,
                      1,
                      1,
                      4,
                      6,
                      2,
                      2,
                      2,
                      6,
                      7,
                      2,
                      1,
                      2,
                      6,
                      6,
                      6,
                      1,
                      8,
                      5,
                      1,
                      2,
                      2,
                      4,
                      2,
                      5,
                      6,
                      6,
                      7,
                      1,
                      1,
                      7,
                      7,
                      1,
                      7,
                      6,
                      8,
                      1,
                      5,
                      7,
                      7,
                      5,
                      4,
                      4,
                      5,
                      5,
                      4,
                      5,
                      7,
                      6,
                      1,
                      1,
                      5,
                      0,
                      6,
                      6,
                      7,
                      5,
                      0,
                      1,
                      0,
                      1,
                      6,
                      1,
                      4,
                      6,
                      1,
                      2,
                      2,
                      2,
                      7,
                      6,
                      0,
                      6,
                      4,
                      2,
                      1,
                      2,
                      1,
                      1,
                      5,
                      5,
                      2,
                      1,
                      5,
                      7,
                      1,
                      6,
                      4,
                      5,
                      5,
                      6,
                      4,
                      4,
                      5,
                      6,
                      6,
                      6,
                      2,
                      6,
                      5,
                      6,
                      2,
                      1,
                      6,
                      5,
                      7,
                      5,
                      0,
                      7,
                      5,
                      5,
                      1,
                      1,
                      6,
                      7,
                      1,
                      6,
                      1,
                      6,
                      6,
                      1,
                      2,
                      1,
                      4,
                      1,
                      7,
                      6,
                      6,
                      5,
                      1,
                      7,
                      9,
                      8,
                      4,
                      7,
                      1,
                      1,
                      1,
                      6,
                      0,
                      1,
                      1,
                      1,
                      6,
                      1,
                      6,
                      6,
                      5,
                      1,
                      7,
                      1,
                      5,
                      1,
                      8,
                      1,
                      6,
                      6,
                      7,
                      5,
                      1,
                      6,
                      2,
                      6,
                      5,
                      5,
                      1,
                      6,
                      6,
                      2,
                      5,
                      2,
                      2,
                      2,
                      2,
                      2,
                      2,
                      2,
                      2,
                      2,
                      2,
                      2,
                      2,
                      1,
                      2,
                      2,
                      2,
                      2,
                      2,
                      2,
                      2,
                      2,
                      2,
                      2,
                      2,
                      1,
                      1,
                      9,
                      4,
                      6,
                      6,
                      1,
                      1,
                      0,
                      0,
                      0,
                      7,
                      0,
                      5,
                      5,
                      0,
                      9,
                      6,
                      5,
                      5,
                      5,
                      0,
                      4,
                      2,
                      2,
                      4,
                      5,
                      2,
                      2,
                      2,
                      6,
                      1,
                      6,
                      2,
                      1,
                      1,
                      2,
                      1,
                      1,
                      1,
                      4,
                      6,
                      6,
                      4,
                      1,
                      4,
                      0,
                      4,
                      6,
                      1,
                      1,
                      6,
                      1,
                      6,
                      6,
                      6,
                      6,
                      6,
                      1,
                      1,
                      6,
                      6,
                      0,
                      8,
                      7,
                      6,
                      8,
                      4,
                      5,
                      4,
                      6,
                      6,
                      1,
                      6,
                      6,
                      6,
                      6,
                      6,
                      7,
                      7,
                      6,
                      6,
                      1,
                      1,
                      6,
                      6,
                      6,
                      4,
                      5,
                      1,
                      2,
                      2,
                      2,
                      1,
                      7,
                      7,
                      4,
                      1,
                      8,
                      8,
                      4,
                      5,
                      6,
                      6,
                      6,
                      4,
                      7,
                      2,
                      0,
                      0,
                      0,
                      0,
                      6,
                      1,
                      4,
                      6,
                      8,
                      0,
                      5,
                      0,
                      0,
                      5,
                      6,
                      1,
                      5,
                      4,
                      4,
                      7,
                      4,
                      3,
                      2,
                      0,
                      7,
                      0,
                      0,
                      0,
                      5,
                      6,
                      0,
                      7,
                      5,
                      4,
                      4,
                      4,
                      4,
                      4,
                      4,
                      4,
                      4,
                      4,
                      7,
                      1,
                      7,
                      4,
                      0,
                      1,
                      5,
                      9,
                      6,
                      5,
                      8,
                      0,
                      0,
                      1,
                      6,
                      0,
                      0,
                      0,
                      6,
                      0,
                      7,
                      7,
                      5,
                      2,
                      6,
                      0,
                      5,
                      0,
                      7,
                      4,
                      6,
                      4,
                      0,
                      7,
                      1,
                      1,
                      1,
                      6,
                      0,
                      8,
                      8,
                      0,
                      7,
                      0,
                      1,
                      6,
                      5,
                      6,
                      4,
                      4,
                      0,
                      0,
                      4,
                      5,
                      7,
                      6,
                      6,
                      7,
                      6,
                      0,
                      1,
                      6,
                      5,
                      6,
                      0,
                      0,
                      5,
                      7,
                      7,
                      0,
                      1,
                      6,
                      7,
                      6,
                      7,
                      4,
                      7,
                      7,
                      5,
                      6,
                      7,
                      6,
                      7,
                      6,
                      0,
                      7,
                      2,
                      1,
                      5,
                      1,
                      2,
                      4,
                      2,
                      5,
                      5,
                      6,
                      7,
                      1,
                      1,
                      6,
                      1,
                      4,
                      4,
                      7,
                      6,
                      6,
                      1,
                      4,
                      4,
                      7,
                      4,
                      6,
                      4,
                      1,
                      6,
                      4,
                      4,
                      6,
                      2,
                      5,
                      7,
                      2,
                      2,
                      4,
                      4,
                      6,
                      8,
                      7,
                      7,
                      0,
                      4,
                      0,
                      0,
                      2,
                      5,
                      5,
                      5,
                      4,
                      6,
                      0,
                      1,
                      7,
                      2,
                      4,
                      0,
                      0,
                      7,
                      8,
                      7,
                      1,
                      7,
                      8,
                      4,
                      0,
                      5,
                      8,
                      5,
                      5,
                      0,
                      0,
                      1,
                      9,
                      2,
                      2,
                      2,
                      2,
                      6,
                      2,
                      5,
                      4,
                      5,
                      6,
                      5,
                      1,
                      6,
                      1,
                      6,
                      2,
                      1,
                      6,
                      6,
                      5,
                      6,
                      1,
                      7,
                      6,
                      1,
                      6,
                      6,
                      6,
                      6,
                      7,
                      6,
                      0,
                      4,
                      6,
                      6,
                      4,
                      6,
                      6,
                      6,
                      7,
                      0,
                      0,
                      4,
                      6,
                      6,
                      6,
                      5,
                      4,
                      6,
                      4,
                      5,
                      4,
                      2,
                      1,
                      2,
                      1,
                      8,
                      4,
                      4,
                      8,
                      0,
                      6,
                      2,
                      1,
                      6,
                      4,
                      6,
                      5,
                      2,
                      1,
                      0,
                      4,
                      7,
                      7,
                      5,
                      7,
                      6,
                      4,
                      7,
                      1,
                      1,
                      2,
                      7,
                      1,
                      2,
                      7,
                      0,
                      6,
                      8,
                      6,
                      4,
                      1,
                      1,
                      0,
                      8,
                      4,
                      7,
                      7,
                      1,
                      7,
                      4,
                      4,
                      2,
                      5,
                      4,
                      0,
                      2,
                      7,
                      4,
                      7,
                      0,
                      5,
                      8,
                      8,
                      8,
                      5,
                      4,
                      6,
                      0,
                      7,
                      2,
                      5,
                      0,
                      4,
                      7,
                      7,
                      1,
                      5,
                      0,
                      7,
                      5,
                      1,
                      7,
                      1,
                      1,
                      5,
                      1,
                      8,
                      5,
                      6,
                      5,
                      6,
                      1,
                      7,
                      1,
                      1,
                      5,
                      9,
                      5,
                      1,
                      6,
                      0,
                      1,
                      5,
                      8,
                      2,
                      2,
                      6,
                      0,
                      6,
                      5,
                      6,
                      1,
                      1,
                      6,
                      2,
                      2,
                      2,
                      4,
                      7,
                      4,
                      6,
                      5,
                      1,
                      4,
                      1,
                      2,
                      2,
                      5,
                      4,
                      4,
                      6,
                      6,
                      2,
                      4,
                      1,
                      6,
                      0,
                      0,
                      4,
                      5,
                      0,
                      5,
                      4,
                      6,
                      1,
                      6,
                      6,
                      6,
                      1,
                      4,
                      6,
                      7,
                      0,
                      0,
                      5,
                      6,
                      7,
                      5,
                      4,
                      4,
                      5,
                      4,
                      5,
                      4,
                      5,
                      7,
                      1,
                      2,
                      8,
                      4,
                      5,
                      0,
                      6,
                      6,
                      4,
                      4,
                      6,
                      6,
                      6,
                      6,
                      7,
                      5,
                      0,
                      5,
                      7,
                      1,
                      4,
                      2,
                      2,
                      6,
                      6,
                      0,
                      0,
                      4,
                      8,
                      7,
                      1,
                      0,
                      6,
                      7,
                      2,
                      9,
                      8,
                      4,
                      4,
                      2,
                      2,
                      6,
                      5,
                      8,
                      7,
                      6,
                      4,
                      2,
                      4,
                      2,
                      4,
                      2,
                      8,
                      2,
                      8,
                      4,
                      0,
                      0,
                      4,
                      7,
                      5,
                      6,
                      7,
                      9,
                      1,
                      0,
                      4,
                      0,
                      6,
                      6,
                      4,
                      6,
                      6,
                      1,
                      4,
                      6,
                      6,
                      0,
                      7,
                      0,
                      0,
                      0,
                      5,
                      1,
                      1,
                      9,
                      6,
                      1,
                      6,
                      4,
                      6,
                      4,
                      7,
                      6,
                      4,
                      4,
                      4,
                      6,
                      4,
                      6,
                      6,
                      7,
                      0,
                      1,
                      2,
                      1,
                      1,
                      7,
                      0,
                      1,
                      1,
                      0,
                      7,
                      2,
                      6,
                      0,
                      7,
                      4,
                      0,
                      4,
                      7,
                      6,
                      6,
                      7,
                      7,
                      0,
                      5,
                      9,
                      7,
                      1,
                      2,
                      1,
                      8,
                      2,
                      7,
                      1,
                      1,
                      7,
                      6,
                      1,
                      8,
                      6,
                      6,
                      0,
                      1,
                      0,
                      2,
                      5,
                      7,
                      4,
                      4,
                      4,
                      1,
                      4,
                      4,
                      0,
                      0,
                      6,
                      5,
                      4,
                      4,
                      5,
                      4,
                      4,
                      4,
                      4,
                      0,
                      6,
                      1,
                      1,
                      5,
                      2,
                      2,
                      1,
                      1,
                      6,
                      6,
                      2,
                      6,
                      6,
                      5,
                      1,
                      7,
                      1,
                      2,
                      1,
                      5,
                      4,
                      6,
                      5,
                      3,
                      2,
                      2,
                      2,
                      2,
                      2,
                      2,
                      9,
                      8,
                      6,
                      1,
                      1,
                      1,
                      1,
                      6,
                      4,
                      4,
                      6,
                      7,
                      0,
                      5,
                      6,
                      5,
                      1,
                      7,
                      2,
                      2,
                      2,
                      2,
                      0,
                      9,
                      1,
                      0,
                      0,
                      8,
                      5,
                      5,
                      2,
                      6,
                      8,
                      2,
                      4,
                      4,
                      4,
                      6,
                      4,
                      7,
                      1,
                      2,
                      1,
                      7,
                      7,
                      2,
                      6,
                      1,
                      7,
                      6,
                      7,
                      6,
                      4,
                      6,
                      6,
                      4,
                      5,
                      0,
                      6,
                      5,
                      4,
                      6,
                      6,
                      7,
                      6,
                      6,
                      5,
                      6,
                      5,
                      4,
                      6,
                      6,
                      6,
                      6,
                      0,
                      7,
                      5,
                      5,
                      0,
                      6,
                      5,
                      5,
                      6,
                      4,
                      7,
                      5,
                      5,
                      6,
                      5,
                      6,
                      5,
                      4,
                      4,
                      5,
                      4,
                      5,
                      0,
                      7,
                      2,
                      1,
                      5,
                      7,
                      0,
                      4,
                      4,
                      6,
                      5,
                      4,
                      7,
                      1,
                      1,
                      1,
                      8,
                      2,
                      1,
                      4,
                      0,
                      4,
                      1,
                      8,
                      1,
                      6,
                      2,
                      6,
                      1,
                      5,
                      1,
                      0,
                      7,
                      1,
                      1,
                      2,
                      2,
                      7,
                      0,
                      7,
                      1,
                      1,
                      7,
                      5,
                      6,
                      2,
                      2,
                      2,
                      2,
                      4,
                      5,
                      2,
                      2,
                      2,
                      5,
                      8,
                      6,
                      0,
                      4,
                      4,
                      7,
                      8,
                      2,
                      1,
                      2,
                      4,
                      2,
                      4,
                      0,
                      2,
                      2,
                      7,
                      1,
                      4,
                      7,
                      4,
                      4,
                      6,
                      2,
                      2,
                      6,
                      2,
                      2,
                      0,
                      0,
                      1,
                      4,
                      1,
                      7,
                      7,
                      4,
                      2,
                      8,
                      7,
                      6,
                      5,
                      0,
                      4,
                      5,
                      6,
                      7,
                      6,
                      5,
                      4,
                      7,
                      7,
                      5,
                      6,
                      6,
                      6,
                      6,
                      1,
                      4,
                      1,
                      2,
                      2,
                      2,
                      2,
                      2,
                      6,
                      2,
                      5,
                      4,
                      1,
                      5,
                      4,
                      4,
                      4,
                      0,
                      2,
                      1,
                      6,
                      2,
                      1,
                      1,
                      6,
                      4,
                      7,
                      5,
                      2,
                      4,
                      5,
                      7,
                      4,
                      4,
                      0,
                      6,
                      6,
                      0,
                      6,
                      6,
                      0,
                      7,
                      2,
                      6,
                      7,
                      2,
                      6,
                      1,
                      1,
                      1,
                      6,
                      1,
                      1,
                      1,
                      7,
                      1,
                      1,
                      1,
                      1,
                      1,
                      1,
                      1,
                      1,
                      4,
                      2,
                      1,
                      1,
                      1,
                      1,
                      1,
                      6,
                      6,
                      1,
                      2,
                      1,
                      1,
                      1,
                      1,
                      1,
                      1,
                      6,
                      5,
                      2,
                      7,
                      8,
                      7,
                      6,
                      6,
                      5,
                      1,
                      7,
                      1,
                      4,
                      0,
                      0,
                      8,
                      6,
                      6,
                      6,
                      6,
                      5,
                      1,
                      1,
                      6,
                      1,
                      5,
                      0,
                      1,
                      1,
                      5,
                      4,
                      5,
                      0,
                      4,
                      7,
                      5,
                      1,
                      7,
                      1,
                      7,
                      6,
                      1,
                      8,
                      5,
                      7,
                      2,
                      5,
                      5,
                      6,
                      2,
                      6,
                      5,
                      9,
                      1,
                      6,
                      2,
                      1,
                      1,
                      7,
                      2,
                      5,
                      2,
                      2,
                      5,
                      7,
                      7,
                      4,
                      6,
                      6,
                      5,
                      2,
                      2,
                      5,
                      6,
                      6,
                      1,
                      7,
                      7,
                      5,
                      2,
                      5,
                      6,
                      6,
                      2,
                      5,
                      6,
                      1,
                      6,
                      5,
                      0,
                      6,
                      5,
                      5,
                      6,
                      6,
                      7,
                      1,
                      0,
                      5,
                      5,
                      9,
                      7,
                      6,
                      0,
                      1,
                      1,
                      7,
                      2,
                      1,
                      4,
                      6,
                      6,
                      7,
                      1,
                      7,
                      2,
                      8,
                      2,
                      6,
                      4,
                      0,
                      8,
                      1,
                      6,
                      1,
                      6,
                      1,
                      1,
                      1,
                      6,
                      1,
                      1,
                      6,
                      7,
                      1,
                      4,
                      4,
                      4,
                      1,
                      0,
                      6,
                      2,
                      2,
                      2,
                      0,
                      1,
                      8,
                      6,
                      2,
                      9,
                      8,
                      7,
                      5,
                      5,
                      4,
                      6,
                      7,
                      6,
                      2,
                      1,
                      5,
                      7,
                      1,
                      6,
                      6,
                      1,
                      4,
                      7,
                      7,
                      1,
                      1,
                      5,
                      6,
                      6,
                      7,
                      7,
                      5,
                      1,
                      7,
                      4,
                      1,
                      1,
                      0,
                      1,
                      8,
                      2,
                      6,
                      5,
                      5,
                      0,
                      5,
                      6,
                      4,
                      6,
                      4,
                      4,
                      6,
                      4,
                      7,
                      4,
                      5,
                      0,
                      4,
                      0,
                      5,
                      6,
                      1,
                      5,
                      5,
                      1,
                      6,
                      6,
                      6,
                      1,
                      4,
                      0,
                      8,
                      7,
                      4,
                      4,
                      4,
                      4,
                      5,
                      6,
                      2,
                      8,
                      6,
                      7,
                      4,
                      6,
                      6,
                      5,
                      6,
                      0,
                      8,
                      5,
                      5,
                      6,
                      6,
                      7,
                      5,
                      0,
                      2,
                      2,
                      8,
                      1,
                      6,
                      1,
                      6,
                      1,
                      8,
                      6,
                      0,
                      0,
                      0,
                      0,
                      0,
                      7,
                      2,
                      6,
                      4,
                      4,
                      6,
                      7,
                      6,
                      7,
                      2,
                      7,
                      4,
                      7,
                      5,
                      8,
                      6,
                      6,
                      6,
                      2,
                      6,
                      5,
                      5,
                      5,
                      6,
                      5,
                      2,
                      1,
                      6,
                      2,
                      5,
                      7,
                      6,
                      6,
                      5,
                      5,
                      6,
                      2,
                      1,
                      6,
                      8,
                      0,
                      6,
                      1,
                      0,
                      0,
                      7,
                      6,
                      2,
                      5,
                      1,
                      1,
                      6,
                      9,
                      5,
                      1,
                      1,
                      5,
                      6,
                      0,
                      1,
                      1,
                      6,
                      6,
                      7,
                      5,
                      3,
                      2,
                      7,
                      5,
                      6,
                      4,
                      5,
                      6,
                      6,
                      1,
                      5,
                      1,
                      6,
                      7,
                      6,
                      6,
                      1,
                      5,
                      1,
                      8,
                      5,
                      1,
                      6,
                      7,
                      6,
                      6,
                      1,
                      7,
                      1,
                      6,
                      4,
                      1,
                      5,
                      1,
                      8,
                      2,
                      5,
                      3,
                      7,
                      1,
                      4,
                      7,
                      8,
                      4,
                      1,
                      1,
                      6,
                      5,
                      6,
                      1,
                      2,
                      6,
                      2,
                      2,
                      1,
                      0,
                      6,
                      7,
                      1,
                      1,
                      5,
                      7,
                      6,
                      2,
                      2,
                      0,
                      2,
                      4,
                      5,
                      6,
                      5,
                      5,
                      4,
                      6,
                      6,
                      2,
                      2,
                      2,
                      5,
                      1,
                      1,
                      6,
                      8,
                      8,
                      6,
                      4,
                      2,
                      2,
                      6,
                      7,
                      9,
                      6,
                      5,
                      4,
                      7,
                      8,
                      6,
                      4,
                      6,
                      4,
                      6,
                      1,
                      1,
                      6,
                      6,
                      1,
                      7,
                      6,
                      6,
                      2,
                      6,
                      4,
                      6,
                      1,
                      4,
                      7,
                      2,
                      6,
                      5,
                      6,
                      5,
                      7,
                      5,
                      5,
                      1,
                      6,
                      6,
                      4,
                      4,
                      4,
                      2,
                      2,
                      7,
                      8,
                      7,
                      2,
                      5,
                      7,
                      1,
                      4,
                      6,
                      6,
                      5,
                      5,
                      6,
                      4,
                      6,
                      1,
                      4,
                      5,
                      4,
                      5,
                      8,
                      4,
                      2,
                      2,
                      2,
                      4,
                      2,
                      7,
                      6,
                      2,
                      4,
                      7,
                      7,
                      4,
                      4,
                      7,
                      0,
                      7,
                      5,
                      6,
                      5,
                      6,
                      6,
                      5,
                      4,
                      6,
                      5,
                      0,
                      6,
                      4,
                      1,
                      1,
                      1,
                      7,
                      6,
                      1,
                      6,
                      1,
                      1,
                      4,
                      4,
                      4,
                      6,
                      5,
                      7,
                      4,
                      7,
                      5,
                      5,
                      6,
                      5,
                      6,
                      7,
                      4,
                      5,
                      2,
                      7,
                      6,
                      4,
                      7,
                      6,
                      6,
                      6,
                      6,
                      0,
                      6,
                      5,
                      4,
                      6,
                      7,
                      1,
                      1,
                      6,
                      6,
                      6,
                      6,
                      2,
                      2,
                      8,
                      1,
                      2,
                      1,
                      2,
                      2,
                      2,
                      2,
                      0,
                      0,
                      4,
                      1,
                      2,
                      7,
                      1,
                      2,
                      7,
                      6,
                      7,
                      1,
                      6,
                      6,
                      1,
                      1,
                      2,
                      6,
                      7,
                      8,
                      6,
                      4,
                      4,
                      1,
                      1,
                      1,
                      1,
                      4,
                      6,
                      2,
                      1,
                      6,
                      5,
                      7,
                      1,
                      6,
                      5,
                      0,
                      5,
                      7,
                      6,
                      7,
                      6,
                      1,
                      6,
                      6,
                      6,
                      5,
                      1,
                      1,
                      1,
                      7,
                      5,
                      2,
                      1,
                      5,
                      5,
                      7,
                      4,
                      1,
                      6,
                      6,
                      7,
                      6,
                      6,
                      7,
                      7,
                      6,
                      6,
                      8,
                      9,
                      5,
                      2,
                      7,
                      2,
                      2,
                      2,
                      8,
                      1,
                      7,
                      0,
                      5,
                      1,
                      7,
                      6,
                      2,
                      7,
                      6,
                      0,
                      6,
                      5,
                      6,
                      6,
                      7,
                      5,
                      5,
                      4,
                      7,
                      5,
                      5,
                      6,
                      5,
                      6,
                      6,
                      5,
                      6,
                      6,
                      6,
                      6,
                      6,
                      9,
                      5,
                      4,
                      6,
                      6,
                      2,
                      6,
                      1,
                      6,
                      7,
                      6,
                      6,
                      2,
                      6,
                      2,
                      4,
                      6,
                      6,
                      4,
                      6,
                      4,
                      0,
                      2,
                      4,
                      6,
                      6,
                      2,
                      2,
                      4,
                      6,
                      1,
                      7,
                      5,
                      4,
                      4,
                      4,
                      5,
                      1,
                      2,
                      6,
                      1,
                      1,
                      8,
                      1,
                      0,
                      4,
                      4,
                      7,
                      5,
                      4,
                      7,
                      6,
                      4,
                      4,
                      7,
                      4,
                      0,
                      5,
                      8,
                      4,
                      0,
                      4,
                      7,
                      5,
                      6,
                      1,
                      1,
                      0,
                      4,
                      4,
                      4,
                      1,
                      5,
                      5,
                      6,
                      0,
                      5,
                      5,
                      0,
                      2,
                      4,
                      6,
                      6,
                      5,
                      6,
                      6,
                      7,
                      4,
                      4,
                      6,
                      4,
                      4,
                      6,
                      4,
                      5,
                      5,
                      2,
                      1,
                      2,
                      4,
                      4,
                      6,
                      5,
                      6,
                      6,
                      1,
                      5,
                      7,
                      1,
                      2,
                      1,
                      7,
                      6,
                      5,
                      7,
                      6,
                      6,
                      6,
                      5,
                      6,
                      8,
                      0,
                      6,
                      6,
                      6,
                      4,
                      1,
                      5,
                      7,
                      6,
                      6,
                      6,
                      6,
                      7,
                      0,
                      9,
                      4,
                      7,
                      1,
                      1,
                      6,
                      6,
                      6,
                      7,
                      6,
                      6,
                      7,
                      7,
                      6,
                      5,
                      6,
                      5,
                      7,
                      6,
                      8,
                      7,
                      2,
                      6,
                      6,
                      5,
                      0,
                      6,
                      7,
                      1,
                      8,
                      6,
                      8,
                      7,
                      6,
                      5,
                      0,
                      4,
                      5,
                      6,
                      4,
                      5,
                      6,
                      6,
                      6,
                      4,
                      5,
                      8,
                      6,
                      6,
                      6,
                      6,
                      6,
                      6,
                      6,
                      6,
                      7,
                      6,
                      6,
                      1,
                      6,
                      6,
                      6,
                      6,
                      2,
                      3,
                      2,
                      5,
                      1,
                      1,
                      0,
                      5,
                      6,
                      6,
                      5,
                      2,
                      5,
                      0,
                      5,
                      1,
                      4,
                      6,
                      4,
                      7,
                      2,
                      2,
                      8,
                      8,
                      7,
                      0,
                      7,
                      7,
                      7,
                      0,
                      1,
                      7,
                      7,
                      2,
                      2,
                      7,
                      6,
                      7,
                      6,
                      7,
                      7,
                      2,
                      6,
                      0,
                      4,
                      4,
                      1,
                      2,
                      1,
                      6,
                      6,
                      6,
                      6,
                      6,
                      6,
                      6,
                      6,
                      6,
                      6,
                      7,
                      6,
                      5,
                      1,
                      1,
                      5,
                      8,
                      1,
                      7,
                      7,
                      5,
                      6,
                      1,
                      1,
                      4,
                      2,
                      7,
                      4,
                      5,
                      5,
                      6,
                      1,
                      2,
                      8,
                      0,
                      2,
                      1,
                      7,
                      2,
                      1,
                      6,
                      1,
                      2,
                      7,
                      6,
                      6,
                      1,
                      8,
                      5,
                      7,
                      4,
                      6,
                      5,
                      8,
                      5,
                      7,
                      7,
                      0,
                      7,
                      2,
                      6,
                      6,
                      1,
                      6,
                      1,
                      8,
                      5,
                      1,
                      2,
                      2,
                      1,
                      6,
                      6,
                      5,
                      7,
                      5,
                      4,
                      7,
                      6,
                      4,
                      7,
                      6,
                      0,
                      6,
                      1,
                      6,
                      1,
                      0,
                      2,
                      2,
                      6,
                      6,
                      4,
                      6,
                      7,
                      7,
                      5,
                      6,
                      1,
                      4,
                      1,
                      1,
                      7,
                      1,
                      6,
                      8,
                      4,
                      4,
                      5,
                      4,
                      2,
                      0,
                      5,
                      7,
                      6,
                      4,
                      8,
                      1,
                      4,
                      6,
                      1,
                      7,
                      6,
                      6,
                      5,
                      6,
                      1,
                      6,
                      6,
                      6,
                      1,
                      6,
                      7,
                      5,
                      5,
                      6,
                      7,
                      1,
                      1,
                      2,
                      2,
                      7,
                      2,
                      6,
                      1,
                      5,
                      5,
                      7,
                      6,
                      8,
                      7,
                      6,
                      7,
                      5,
                      4,
                      6,
                      6,
                      8,
                      5,
                      5,
                      6,
                      6,
                      6,
                      7,
                      7,
                      2,
                      1,
                      2,
                      4,
                      0,
                      2,
                      7,
                      1,
                      2,
                      0,
                      6,
                      6,
                      1,
                      7,
                      6,
                      0,
                      7,
                      0,
                      6,
                      6,
                      6,
                      0,
                      4,
                      2,
                      6,
                      1,
                      6,
                      0,
                      6,
                      4,
                      4,
                      0,
                      1,
                      1,
                      1,
                      7,
                      1,
                      6,
                      1,
                      7,
                      1,
                      5,
                      5,
                      4,
                      4,
                      4,
                      2,
                      8,
                      4,
                      6,
                      2,
                      1,
                      1,
                      2,
                      2,
                      2,
                      6,
                      4,
                      1,
                      7,
                      0,
                      0,
                      6,
                      0,
                      6,
                      6,
                      4,
                      8,
                      6,
                      6,
                      6,
                      7,
                      5,
                      1,
                      4,
                      2,
                      0,
                      2,
                      5,
                      6,
                      4,
                      4,
                      0,
                      6,
                      7,
                      6,
                      4,
                      6,
                      7,
                      0,
                      0,
                      6,
                      6,
                      5,
                      2,
                      1,
                      7,
                      4,
                      6,
                      6,
                      7,
                      4,
                      4,
                      7,
                      6,
                      1,
                      5,
                      1,
                      7,
                      6,
                      0,
                      5,
                      1,
                      1,
                      7,
                      4,
                      2,
                      2,
                      2,
                      2,
                      4,
                      0,
                      7,
                      4,
                      4,
                      4,
                      4,
                      5,
                      7,
                      0,
                      6,
                      6,
                      1,
                      8,
                      6,
                      1,
                      6,
                      2,
                      1,
                      6,
                      5,
                      6,
                      1,
                      6,
                      0,
                      5,
                      1,
                      1,
                      1,
                      5,
                      1,
                      1,
                      4,
                      8,
                      0,
                      4,
                      0,
                      4,
                      1,
                      0,
                      7,
                      4,
                      4,
                      0,
                      0,
                      6,
                      6,
                      5,
                      6,
                      4,
                      8,
                      6,
                      7,
                      6,
                      6,
                      6,
                      6,
                      7,
                      6,
                      6,
                      4,
                      6,
                      7,
                      4,
                      1,
                      6,
                      2,
                      6,
                      5,
                      4,
                      2,
                      2,
                      2,
                      4,
                      4,
                      6,
                      1,
                      7,
                      4,
                      1,
                      2,
                      1,
                      5,
                      7,
                      1,
                      5,
                      1,
                      1,
                      1,
                      1,
                      1,
                      1,
                      2,
                      6,
                      5,
                      6,
                      4,
                      0,
                      4,
                      5,
                      5,
                      7,
                      7,
                      6,
                      6,
                      7,
                      7,
                      6,
                      5,
                      5,
                      6,
                      5,
                      7,
                      5,
                      4,
                      0,
                      1,
                      1,
                      6,
                      6,
                      6,
                      6,
                      6,
                      1,
                      1,
                      1,
                      5,
                      8,
                      5,
                      5,
                      8,
                      2,
                      0,
                      7,
                      1,
                      1,
                      2,
                      7,
                      7,
                      8,
                      0,
                      6,
                      6,
                      4,
                      7,
                      2,
                      5,
                      1,
                      7,
                      4,
                      5,
                      6,
                      6,
                      7,
                      0,
                      4,
                      4,
                      7,
                      0,
                      6,
                      7,
                      6,
                      7,
                      7,
                      7,
                      6,
                      1,
                      5,
                      5,
                      6,
                      4,
                      6,
                      0,
                      6,
                      4,
                      4,
                      2,
                      2,
                      0,
                      7,
                      1,
                      5,
                      5,
                      5,
                      6,
                      2,
                      4,
                      4,
                      5,
                      5,
                      4,
                      4,
                      1,
                      1,
                      7,
                      6,
                      6,
                      1,
                      4,
                      5,
                      7,
                      6,
                      5,
                      5,
                      7,
                      6,
                      8,
                      1,
                      1,
                      6,
                      6,
                      1,
                      5,
                      6,
                      6,
                      6,
                      0,
                      2,
                      1,
                      7,
                      7,
                      8,
                      7,
                      8,
                      6,
                      1,
                      1,
                      2,
                      1,
                      6,
                      1,
                      1,
                      1,
                      1,
                      2,
                      1,
                      1,
                      7,
                      1,
                      1,
                      1,
                      1,
                      1,
                      2,
                      1,
                      1,
                      2,
                      6,
                      5,
                      6,
                      5,
                      6,
                      4,
                      5,
                      1,
                      4,
                      2,
                      1,
                      7,
                      1,
                      4,
                      6,
                      5,
                      4,
                      1,
                      8,
                      2,
                      1,
                      6,
                      6,
                      8,
                      8,
                      2,
                      4,
                      7,
                      6,
                      7,
                      5,
                      6,
                      5,
                      1,
                      7,
                      4,
                      6,
                      4,
                      1,
                      2,
                      2,
                      2,
                      8,
                      6,
                      6,
                      7,
                      4,
                      6,
                      1,
                      7,
                      2,
                      2,
                      4,
                      6,
                      6,
                      5,
                      7,
                      6,
                      5,
                      8,
                      6,
                      7,
                      1,
                      1,
                      1,
                      2,
                      2,
                      6,
                      1,
                      2,
                      7,
                      7,
                      7,
                      2,
                      6,
                      0,
                      6,
                      6,
                      1,
                      6
                    ],
                    "coloraxis": "coloraxis",
                    "symbol": "circle"
                  },
                  "mode": "markers",
                  "name": "",
                  "showlegend": false,
                  "type": "scattergl",
                  "x": [
                    55.08644104003906,
                    34.73657989501953,
                    -56.873966217041016,
                    30.591014862060547,
                    13.826912879943848,
                    28.4011287689209,
                    -5.437813758850098,
                    -6.053827285766602,
                    54.92501449584961,
                    17.969532012939453,
                    15.429012298583984,
                    3.7258894443511963,
                    23.7338809967041,
                    2.514160633087158,
                    -46.23796463012695,
                    -33.638916015625,
                    52.07787322998047,
                    23.756540298461914,
                    0.3230142295360565,
                    28.33445167541504,
                    3.344120502471924,
                    -27.59750747680664,
                    -21.898303985595703,
                    36.978370666503906,
                    -6.376103401184082,
                    -31.932695388793945,
                    15.261521339416504,
                    19.78069496154785,
                    -4.732058048248291,
                    42.21795654296875,
                    -9.126084327697754,
                    -16.12779998779297,
                    -10.583416938781738,
                    -22.415380477905273,
                    35.37416458129883,
                    1.159942865371704,
                    -12.935070991516113,
                    -47.70341491699219,
                    -8.662850379943848,
                    -2.335394859313965,
                    8.52747917175293,
                    -33.470611572265625,
                    14.317322731018066,
                    0.09058400988578796,
                    17.35845184326172,
                    -32.98566436767578,
                    -25.673336029052734,
                    -41.015865325927734,
                    -26.6106014251709,
                    -14.578295707702637,
                    -13.670951843261719,
                    19.63490867614746,
                    -27.591386795043945,
                    25.447912216186523,
                    -27.42776107788086,
                    -22.75963592529297,
                    10.083373069763184,
                    3.834681272506714,
                    -8.080363273620605,
                    -6.92531681060791,
                    -3.4737274646759033,
                    -11.441500663757324,
                    -34.52135467529297,
                    -33.542823791503906,
                    -1.2510930299758911,
                    -34.60874938964844,
                    -5.925644874572754,
                    -21.96095085144043,
                    -10.15772533416748,
                    32.11099624633789,
                    -18.293962478637695,
                    -52.79228591918945,
                    13.452954292297363,
                    10.977030754089355,
                    -3.8065309524536133,
                    14.765777587890625,
                    37.203147888183594,
                    36.87456130981445,
                    -42.978004455566406,
                    48.58098220825195,
                    19.073532104492188,
                    -30.346515655517578,
                    49.216819763183594,
                    51.87326431274414,
                    49.524776458740234,
                    49.4786376953125,
                    18.735729217529297,
                    -27.41224479675293,
                    6.414473056793213,
                    44.924198150634766,
                    -1.1902899742126465,
                    47.77656173706055,
                    28.92698097229004,
                    31.19662857055664,
                    46.0510368347168,
                    -14.9160737991333,
                    25.043033599853516,
                    -51.20515441894531,
                    58.624786376953125,
                    31.501686096191406,
                    -12.711359024047852,
                    -45.604984283447266,
                    -37.880821228027344,
                    -4.13197135925293,
                    2.3115899562835693,
                    -6.771212100982666,
                    -33.4100227355957,
                    4.150751113891602,
                    32.818458557128906,
                    -40.214351654052734,
                    23.212177276611328,
                    -10.044347763061523,
                    -39.758384704589844,
                    29.891876220703125,
                    28.542232513427734,
                    24.672454833984375,
                    0.2693081796169281,
                    -6.982681751251221,
                    32.810237884521484,
                    39.741859436035156,
                    -6.649486541748047,
                    -29.528881072998047,
                    -3.4428040981292725,
                    -55.48763656616211,
                    -29.634370803833008,
                    -14.502715110778809,
                    -25.686119079589844,
                    -22.14453125,
                    -43.63616180419922,
                    9.617653846740723,
                    14.13853645324707,
                    46.46111297607422,
                    -1.9189339876174927,
                    -28.94695281982422,
                    -25.794599533081055,
                    49.66365432739258,
                    -3.685093402862549,
                    -11.856560707092285,
                    11.568016052246094,
                    -0.5546314716339111,
                    -34.67251205444336,
                    -11.822107315063477,
                    15.042618751525879,
                    -1.0801880359649658,
                    -10.764485359191895,
                    -28.60506820678711,
                    44.580997467041016,
                    -18.2939510345459,
                    -1.3996517658233643,
                    -7.061727523803711,
                    5.485302925109863,
                    -6.1619720458984375,
                    -8.338780403137207,
                    16.1326961517334,
                    -19.743574142456055,
                    13.807373046875,
                    -32.11086654663086,
                    4.591413974761963,
                    -30.586162567138672,
                    14.438568115234375,
                    -17.644641876220703,
                    54.78599548339844,
                    15.278149604797363,
                    20.599205017089844,
                    -2.766000986099243,
                    41.39588928222656,
                    36.56334686279297,
                    -1.5661182403564453,
                    -35.93888854980469,
                    10.54779052734375,
                    -38.40765380859375,
                    -27.191720962524414,
                    7.0003981590271,
                    -6.0479960441589355,
                    1.159955382347107,
                    -18.299165725708008,
                    1.6038213968276978,
                    -42.788822174072266,
                    -30.876873016357422,
                    -35.129249572753906,
                    -24.245336532592773,
                    -8.647933959960938,
                    1.4287042617797852,
                    19.646862030029297,
                    -9.623842239379883,
                    10.399256706237793,
                    1.298302412033081,
                    14.803430557250977,
                    -4.206037521362305,
                    -58.50170135498047,
                    55.839202880859375,
                    52.31926345825195,
                    47.94135284423828,
                    -28.98370361328125,
                    -12.50770378112793,
                    51.322662353515625,
                    4.48123025894165,
                    4.194120407104492,
                    -38.39910125732422,
                    49.83644104003906,
                    30.604915618896484,
                    -31.974193572998047,
                    -25.695894241333008,
                    27.65265655517578,
                    -7.623745441436768,
                    -13.130430221557617,
                    -2.668855667114258,
                    -11.740662574768066,
                    -13.033120155334473,
                    25.764429092407227,
                    14.546353340148926,
                    40.912567138671875,
                    -10.795092582702637,
                    24.830896377563477,
                    18.228548049926758,
                    43.94594955444336,
                    19.743167877197266,
                    -38.7037353515625,
                    0.9250003695487976,
                    35.0282096862793,
                    -52.902740478515625,
                    51.76456069946289,
                    38.11461639404297,
                    55.86580276489258,
                    19.323348999023438,
                    -14.928197860717773,
                    -15.445158004760742,
                    -13.996131896972656,
                    -4.387704849243164,
                    44.64038848876953,
                    41.49951171875,
                    31.442462921142578,
                    39.19077682495117,
                    20.330890655517578,
                    53.251808166503906,
                    -11.039466857910156,
                    24.107900619506836,
                    15.15300178527832,
                    -23.148155212402344,
                    9.948907852172852,
                    11.502837181091309,
                    10.93667221069336,
                    30.73609733581543,
                    46.29571533203125,
                    40.06660079956055,
                    54.672447204589844,
                    36.04171371459961,
                    -28.41072654724121,
                    60.90761947631836,
                    37.23286056518555,
                    27.00052261352539,
                    1.9935153722763062,
                    -33.572322845458984,
                    -6.58547830581665,
                    -46.831764221191406,
                    -13.075638771057129,
                    -3.9021389484405518,
                    -15.036409378051758,
                    -11.327920913696289,
                    -6.826038360595703,
                    -7.679321765899658,
                    -7.754843235015869,
                    -47.05345153808594,
                    -12.429165840148926,
                    15.436659812927246,
                    -7.26694917678833,
                    11.440171241760254,
                    -1.5817601680755615,
                    -27.140884399414062,
                    10.67354965209961,
                    30.675222396850586,
                    0.038469865918159485,
                    -1.3190457820892334,
                    -27.63408851623535,
                    -19.47565460205078,
                    -28.844806671142578,
                    52.24394607543945,
                    33.89473342895508,
                    3.3276946544647217,
                    -0.14958511292934418,
                    -3.6798784732818604,
                    -11.133868217468262,
                    27.29273223876953,
                    -19.59992218017578,
                    -34.68830490112305,
                    20.99712562561035,
                    -11.836089134216309,
                    28.430500030517578,
                    -52.140384674072266,
                    -7.713007926940918,
                    -21.418453216552734,
                    38.27865219116211,
                    1.247793436050415,
                    -15.293463706970215,
                    -48.35420227050781,
                    31.108110427856445,
                    29.077316284179688,
                    -13.060867309570312,
                    35.520076751708984,
                    28.9417667388916,
                    -22.800504684448242,
                    2.6774723529815674,
                    51.64256286621094,
                    15.338330268859863,
                    -2.5222740173339844,
                    -14.125033378601074,
                    -5.750776290893555,
                    -21.678617477416992,
                    11.861102104187012,
                    -39.25700378417969,
                    -36.475406646728516,
                    -25.106401443481445,
                    -39.33219528198242,
                    -23.634706497192383,
                    -2.392545223236084,
                    21.158443450927734,
                    45.383907318115234,
                    -0.17823413014411926,
                    16.637990951538086,
                    19.388105392456055,
                    14.401535987854004,
                    17.10078239440918,
                    -8.015945434570312,
                    -50.22529983520508,
                    -26.409923553466797,
                    -35.58631896972656,
                    -51.098854064941406,
                    17.97565460205078,
                    21.231725692749023,
                    18.031309127807617,
                    9.00693416595459,
                    4.549891948699951,
                    -7.684944152832031,
                    16.86078643798828,
                    17.684280395507812,
                    -10.021453857421875,
                    18.77630615234375,
                    24.628023147583008,
                    13.039859771728516,
                    -18.239736557006836,
                    -3.8745365142822266,
                    -5.571930885314941,
                    -42.99686050415039,
                    -39.34150695800781,
                    -30.07120132446289,
                    -5.251349925994873,
                    -46.75033950805664,
                    28.45579719543457,
                    16.93822479248047,
                    -4.034340858459473,
                    -17.262975692749023,
                    55.89337158203125,
                    21.857431411743164,
                    30.677934646606445,
                    26.716205596923828,
                    45.26769256591797,
                    35.030941009521484,
                    -9.551977157592773,
                    -23.477602005004883,
                    -3.9904000759124756,
                    30.544828414916992,
                    49.56865310668945,
                    37.15666198730469,
                    -40.58762741088867,
                    -45.10609436035156,
                    -6.376399517059326,
                    -2.4788966178894043,
                    -21.632566452026367,
                    -12.255804061889648,
                    9.560648918151855,
                    21.16671371459961,
                    -38.83423614501953,
                    32.09484100341797,
                    -3.2492763996124268,
                    -8.440983772277832,
                    -22.628257751464844,
                    -3.099076509475708,
                    26.186311721801758,
                    -49.32460403442383,
                    3.556304931640625,
                    -21.63249969482422,
                    0.9922929406166077,
                    24.341466903686523,
                    -35.364261627197266,
                    -12.146570205688477,
                    14.14030933380127,
                    -8.887248039245605,
                    -41.91307067871094,
                    23.858047485351562,
                    -23.62520408630371,
                    -19.913471221923828,
                    -25.609012603759766,
                    12.58225154876709,
                    -12.377527236938477,
                    62.40087127685547,
                    53.721214294433594,
                    -8.589127540588379,
                    38.696983337402344,
                    38.57032012939453,
                    -18.84535789489746,
                    14.772897720336914,
                    18.659372329711914,
                    -18.878902435302734,
                    -29.020309448242188,
                    14.837811470031738,
                    10.33298397064209,
                    16.53774070739746,
                    57.082183837890625,
                    49.037010192871094,
                    -42.71942901611328,
                    1.285085916519165,
                    16.995336532592773,
                    -19.723037719726562,
                    38.455108642578125,
                    -9.873703956604004,
                    13.645058631896973,
                    -7.626306056976318,
                    -6.384307384490967,
                    16.233949661254883,
                    0.50226891040802,
                    -14.335859298706055,
                    -37.74366760253906,
                    -41.95222473144531,
                    -40.17261505126953,
                    -3.147516965866089,
                    -22.923673629760742,
                    12.606075286865234,
                    6.36672830581665,
                    11.125082015991211,
                    -3.564969539642334,
                    35.63357162475586,
                    -27.42182159423828,
                    25.140169143676758,
                    29.823713302612305,
                    9.206868171691895,
                    -30.751436233520508,
                    19.67843246459961,
                    -11.295731544494629,
                    20.678409576416016,
                    -9.121870994567871,
                    16.43584632873535,
                    32.35750961303711,
                    -13.970600128173828,
                    62.792510986328125,
                    19.498680114746094,
                    29.595754623413086,
                    -16.472881317138672,
                    17.41807746887207,
                    2.0680580139160156,
                    24.08951187133789,
                    59.93797302246094,
                    12.393841743469238,
                    51.7444953918457,
                    11.873753547668457,
                    -28.44321632385254,
                    -0.7683786153793335,
                    7.99697208404541,
                    -43.97602081298828,
                    -32.137203216552734,
                    7.608766555786133,
                    1.111180305480957,
                    -23.478954315185547,
                    -13.714580535888672,
                    1.141235113143921,
                    15.945384979248047,
                    41.460975646972656,
                    -13.133313179016113,
                    -39.0179557800293,
                    19.114946365356445,
                    -29.920419692993164,
                    -39.74492645263672,
                    -9.186346054077148,
                    35.18897247314453,
                    2.9689698219299316,
                    -37.39857864379883,
                    -32.11878967285156,
                    16.544591903686523,
                    9.680351257324219,
                    38.37709045410156,
                    -17.92955207824707,
                    8.450108528137207,
                    10.998015403747559,
                    -36.81618881225586,
                    -0.2875622808933258,
                    4.260480880737305,
                    2.401930809020996,
                    -0.9589318037033081,
                    30.487443923950195,
                    8.980208396911621,
                    11.211037635803223,
                    23.761314392089844,
                    55.618648529052734,
                    42.016090393066406,
                    -42.78736114501953,
                    10.657175064086914,
                    -10.959731101989746,
                    34.043819427490234,
                    29.61880874633789,
                    34.10530471801758,
                    -31.955812454223633,
                    -4.299000263214111,
                    61.86662292480469,
                    49.3078727722168,
                    52.36243438720703,
                    -33.776485443115234,
                    14.877679824829102,
                    38.3276252746582,
                    12.2832612991333,
                    31.5415096282959,
                    -41.439964294433594,
                    -20.062623977661133,
                    -22.60455894470215,
                    24.30333709716797,
                    7.2582621574401855,
                    -27.42194938659668,
                    28.748279571533203,
                    59.499324798583984,
                    35.5755729675293,
                    -13.81235408782959,
                    48.11839294433594,
                    4.122946739196777,
                    -2.273979902267456,
                    -18.95366096496582,
                    24.76964569091797,
                    6.787053108215332,
                    11.844233512878418,
                    25.753028869628906,
                    0.9542515873908997,
                    8.546141624450684,
                    24.819568634033203,
                    -22.17121696472168,
                    -5.760173320770264,
                    14.38654613494873,
                    -13.96174430847168,
                    2.8859124183654785,
                    0.9427739381790161,
                    -10.809725761413574,
                    3.31252384185791,
                    -20.635833740234375,
                    -12.5623140335083,
                    9.274292945861816,
                    -20.84224510192871,
                    -8.01632308959961,
                    25.339824676513672,
                    -50.1477165222168,
                    14.234626770019531,
                    12.81506061553955,
                    12.893515586853027,
                    5.724735736846924,
                    -39.34056854248047,
                    -21.554271697998047,
                    21.53538703918457,
                    -6.247704029083252,
                    -45.223121643066406,
                    39.471229553222656,
                    -39.759117126464844,
                    11.655304908752441,
                    -33.85647201538086,
                    12.707430839538574,
                    -15.692102432250977,
                    -23.634069442749023,
                    13.22639274597168,
                    43.11380386352539,
                    35.19385528564453,
                    52.30834197998047,
                    14.127013206481934,
                    -0.15484948456287384,
                    -47.308963775634766,
                    7.885140419006348,
                    -28.782657623291016,
                    41.656272888183594,
                    10.560090065002441,
                    43.11389923095703,
                    36.063472747802734,
                    6.095654487609863,
                    2.7579784393310547,
                    -10.027586936950684,
                    62.404727935791016,
                    23.264245986938477,
                    -16.276708602905273,
                    7.880404472351074,
                    43.053733825683594,
                    -34.03889465332031,
                    -46.35300064086914,
                    -12.804540634155273,
                    -14.564127922058105,
                    -34.10386657714844,
                    -38.9793815612793,
                    -43.764404296875,
                    2.608016014099121,
                    -33.252464294433594,
                    35.85714340209961,
                    -38.00907897949219,
                    37.68115234375,
                    -39.1004638671875,
                    -14.847623825073242,
                    0.6892268061637878,
                    36.34645462036133,
                    33.806888580322266,
                    -12.444316864013672,
                    -12.614091873168945,
                    14.097718238830566,
                    -11.044671058654785,
                    -46.781925201416016,
                    16.7455997467041,
                    -1.4665453433990479,
                    -7.559523582458496,
                    24.690935134887695,
                    16.794893264770508,
                    -19.83884048461914,
                    24.16830062866211,
                    32.42584991455078,
                    -25.40766716003418,
                    9.140934944152832,
                    -12.870494842529297,
                    11.12199878692627,
                    13.628063201904297,
                    46.98391342163086,
                    21.626073837280273,
                    -42.18614959716797,
                    41.73832321166992,
                    30.864675521850586,
                    -10.682655334472656,
                    10.113316535949707,
                    8.476398468017578,
                    26.45662498474121,
                    2.557107448577881,
                    8.605623245239258,
                    -4.269462585449219,
                    -35.947021484375,
                    30.605388641357422,
                    13.486228942871094,
                    40.51631546020508,
                    11.914387702941895,
                    -35.83700180053711,
                    -35.364349365234375,
                    33.79619216918945,
                    6.752593517303467,
                    54.71710968017578,
                    -27.691112518310547,
                    9.107816696166992,
                    13.772150039672852,
                    -10.479080200195312,
                    11.066513061523438,
                    31.481653213500977,
                    27.58793830871582,
                    29.35259246826172,
                    7.845174312591553,
                    14.11052417755127,
                    -30.134506225585938,
                    4.278266429901123,
                    14.856427192687988,
                    -26.43183135986328,
                    30.054275512695312,
                    -12.025872230529785,
                    15.350985527038574,
                    4.5283002853393555,
                    42.884498596191406,
                    10.403313636779785,
                    -23.638896942138672,
                    -14.007464408874512,
                    7.982763290405273,
                    4.136647701263428,
                    6.005469799041748,
                    50.32748031616211,
                    0.0919860377907753,
                    55.393192291259766,
                    54.22468948364258,
                    50.10602569580078,
                    43.745994567871094,
                    50.41154861450195,
                    35.109920501708984,
                    45.765506744384766,
                    45.382728576660156,
                    51.25249099731445,
                    49.82258987426758,
                    50.08073806762695,
                    54.01913070678711,
                    18.28083038330078,
                    55.24154281616211,
                    47.74427795410156,
                    48.19816970825195,
                    43.40495300292969,
                    53.69955062866211,
                    40.86763381958008,
                    35.396575927734375,
                    30.864368438720703,
                    55.62959671020508,
                    55.8061637878418,
                    31.595935821533203,
                    34.04063034057617,
                    29.741853713989258,
                    11.890632629394531,
                    -34.614463806152344,
                    2.354663848876953,
                    -33.917030334472656,
                    43.79108810424805,
                    26.343788146972656,
                    -41.580238342285156,
                    -49.14923095703125,
                    -51.0026969909668,
                    10.461350440979004,
                    -42.62229919433594,
                    -5.134115219116211,
                    -5.991559982299805,
                    -49.324459075927734,
                    11.98124885559082,
                    -6.719274044036865,
                    -8.349075317382812,
                    10.983155250549316,
                    -15.567635536193848,
                    -8.466631889343262,
                    -31.545427322387695,
                    39.52666473388672,
                    12.586368560791016,
                    -43.63265609741211,
                    -8.121302604675293,
                    55.16326141357422,
                    50.155059814453125,
                    55.87855911254883,
                    -30.794897079467773,
                    17.332242965698242,
                    -0.7061359882354736,
                    34.14312744140625,
                    30.98126792907715,
                    16.235416412353516,
                    45.7997932434082,
                    31.03266716003418,
                    19.517505645751953,
                    22.22475814819336,
                    -25.694332122802734,
                    -13.129082679748535,
                    -14.015954971313477,
                    -41.84441375732422,
                    10.863933563232422,
                    -21.707414627075195,
                    -36.52737045288086,
                    -37.88991165161133,
                    -27.703659057617188,
                    17.29553985595703,
                    26.6092586517334,
                    -28.804841995239258,
                    17.09372901916504,
                    -32.40801239013672,
                    2.3856759071350098,
                    -26.41805648803711,
                    -29.96721076965332,
                    4.273718357086182,
                    32.89926528930664,
                    19.24469566345215,
                    -28.22136116027832,
                    -39.184749603271484,
                    -14.078619956970215,
                    53.86927795410156,
                    15.625526428222656,
                    -24.132902145385742,
                    -3.669339418411255,
                    -40.89730453491211,
                    -10.22465705871582,
                    -42.15391159057617,
                    -18.55976676940918,
                    -1.6454452276229858,
                    22.545490264892578,
                    -9.891401290893555,
                    -10.539124488830566,
                    -9.52816390991211,
                    -14.035250663757324,
                    -17.43044662475586,
                    22.117647171020508,
                    20.836889266967773,
                    -12.560243606567383,
                    -14.54582691192627,
                    46.75382614135742,
                    40.029781341552734,
                    -10.084778785705566,
                    -12.425335884094238,
                    -14.39101791381836,
                    -16.636947631835938,
                    -52.033226013183594,
                    33.399986267089844,
                    49.64994430541992,
                    51.228302001953125,
                    40.13835906982422,
                    23.220361709594727,
                    8.24325180053711,
                    8.42647933959961,
                    -42.69010925292969,
                    26.315282821655273,
                    -4.306812763214111,
                    -2.7697670459747314,
                    -18.09295082092285,
                    -4.969006538391113,
                    -25.223934173583984,
                    -35.41595458984375,
                    -8.072064399719238,
                    -3.278486967086792,
                    6.339676380157471,
                    51.430999755859375,
                    -52.254520416259766,
                    -45.402198791503906,
                    -38.273738861083984,
                    -41.49707794189453,
                    -27.578195571899414,
                    28.06090545654297,
                    -42.975955963134766,
                    -24.322776794433594,
                    3.2989864349365234,
                    -41.04463577270508,
                    -9.446882247924805,
                    -41.04463195800781,
                    -41.49696350097656,
                    -5.419715404510498,
                    -12.054180145263672,
                    38.376808166503906,
                    -4.989563465118408,
                    -32.18608474731445,
                    -36.85868453979492,
                    4.845881462097168,
                    -33.122982025146484,
                    34.427181243896484,
                    46.28915786743164,
                    -41.17959976196289,
                    0.412409245967865,
                    -39.35129928588867,
                    -7.887237548828125,
                    -49.28040313720703,
                    -13.89284610748291,
                    -28.697290420532227,
                    -6.057200908660889,
                    9.485515594482422,
                    -10.656110763549805,
                    -42.00809097290039,
                    -36.77375793457031,
                    -20.35352325439453,
                    -40.22795104980469,
                    -25.03856086730957,
                    -37.10908126831055,
                    -19.63970375061035,
                    -36.05195999145508,
                    -26.921655654907227,
                    4.628681182861328,
                    21.126953125,
                    2.1403253078460693,
                    1.9343904256820679,
                    27.788331985473633,
                    10.761497497558594,
                    -9.020742416381836,
                    11.470643043518066,
                    7.311680793762207,
                    -36.158992767333984,
                    0.11807103455066681,
                    -51.353736877441406,
                    -11.418014526367188,
                    41.182044982910156,
                    -15.830883979797363,
                    -5.9539618492126465,
                    -46.75613784790039,
                    -7.66823148727417,
                    -4.518347263336182,
                    -9.49224853515625,
                    4.594293594360352,
                    7.261693477630615,
                    -5.470170021057129,
                    35.87455749511719,
                    -8.586029052734375,
                    -46.30687713623047,
                    -6.065016746520996,
                    -44.725406646728516,
                    11.99156665802002,
                    -26.520484924316406,
                    -47.078208923339844,
                    -48.34339141845703,
                    -2.899256467819214,
                    -0.10344760119915009,
                    28.599599838256836,
                    22.089757919311523,
                    16.95359992980957,
                    -6.274902820587158,
                    -14.676406860351562,
                    -44.6918830871582,
                    2.8576602935791016,
                    -3.385594129562378,
                    1.6041890382766724,
                    -51.375694274902344,
                    29.69735336303711,
                    3.3378655910491943,
                    -14.396173477172852,
                    -9.393678665161133,
                    -23.984943389892578,
                    -27.69684600830078,
                    -7.305276870727539,
                    -31.775197982788086,
                    -47.800010681152344,
                    11.008866310119629,
                    -0.8541635870933533,
                    -8.4635591506958,
                    -15.984064102172852,
                    26.610897064208984,
                    -16.567646026611328,
                    -50.753543853759766,
                    39.03450393676758,
                    8.585086822509766,
                    -10.366852760314941,
                    -24.125043869018555,
                    -12.488362312316895,
                    -45.374290466308594,
                    -23.106891632080078,
                    16.195459365844727,
                    0.6162198781967163,
                    -49.349090576171875,
                    16.88956642150879,
                    -15.382222175598145,
                    13.174612045288086,
                    -28.693449020385742,
                    17.72050666809082,
                    -21.70720672607422,
                    26.526256561279297,
                    23.66360855102539,
                    -1.7971348762512207,
                    -0.9084467887878418,
                    11.249091148376465,
                    -2.87809157371521,
                    6.346219062805176,
                    -26.582948684692383,
                    -11.880318641662598,
                    15.403688430786133,
                    39.18991470336914,
                    30.567583084106445,
                    -12.986648559570312,
                    41.332950592041016,
                    35.41367721557617,
                    -38.48780059814453,
                    44.132320404052734,
                    -10.660877227783203,
                    -8.436883926391602,
                    -6.5138773918151855,
                    5.2264275550842285,
                    14.22584342956543,
                    37.03883361816406,
                    -15.143916130065918,
                    30.359045028686523,
                    -17.787002563476562,
                    -32.76420211791992,
                    18.222658157348633,
                    -11.644784927368164,
                    -15.854009628295898,
                    14.885398864746094,
                    -38.86684036254883,
                    -35.55613708496094,
                    4.20662260055542,
                    0.4146026074886322,
                    -7.242471218109131,
                    -31.45291519165039,
                    35.170738220214844,
                    -2.708740234375,
                    -36.382991790771484,
                    -13.45283317565918,
                    -36.312198638916016,
                    36.530616760253906,
                    -14.02895450592041,
                    21.972061157226562,
                    32.401432037353516,
                    31.281423568725586,
                    -23.03767204284668,
                    -45.423526763916016,
                    -7.863607883453369,
                    -8.262456893920898,
                    12.186870574951172,
                    6.828217506408691,
                    26.407764434814453,
                    -34.85451889038086,
                    5.498186111450195,
                    -41.95485305786133,
                    46.460845947265625,
                    -4.636813640594482,
                    12.736064910888672,
                    11.881827354431152,
                    -18.294105529785156,
                    -15.372665405273438,
                    -40.24169158935547,
                    37.4676399230957,
                    15.023999214172363,
                    52.1746711730957,
                    -23.130674362182617,
                    -45.51600646972656,
                    -50.14045333862305,
                    25.370304107666016,
                    -29.2947998046875,
                    0.27577751874923706,
                    6.741184234619141,
                    8.52490520477295,
                    10.957650184631348,
                    -41.686798095703125,
                    -11.466215133666992,
                    -16.04644012451172,
                    3.0051357746124268,
                    -53.323265075683594,
                    -16.978466033935547,
                    -39.55839920043945,
                    -40.34641647338867,
                    19.698463439941406,
                    6.800199031829834,
                    50.81275177001953,
                    46.96001052856445,
                    62.14825439453125,
                    35.77294158935547,
                    4.5438008308410645,
                    52.6635856628418,
                    6.414163589477539,
                    -39.244998931884766,
                    -7.0947136878967285,
                    -8.60023307800293,
                    -3.4473462104797363,
                    19.461130142211914,
                    -39.64321517944336,
                    17.078947067260742,
                    -45.943702697753906,
                    33.44890213012695,
                    8.262093544006348,
                    -17.374418258666992,
                    -36.0059814453125,
                    -9.952369689941406,
                    -9.312117576599121,
                    43.97684860229492,
                    4.583355903625488,
                    -28.837635040283203,
                    33.361454010009766,
                    6.402276039123535,
                    -6.994851112365723,
                    -36.02550506591797,
                    -3.3017024993896484,
                    2.1383185386657715,
                    -4.715488433837891,
                    -39.835052490234375,
                    -44.975852966308594,
                    -48.046607971191406,
                    -6.337751388549805,
                    -6.020370960235596,
                    -26.52558135986328,
                    -36.046077728271484,
                    -23.14134979248047,
                    25.78310775756836,
                    -14.304221153259277,
                    -46.08952331542969,
                    -46.602169036865234,
                    -31.699665069580078,
                    -40.250389099121094,
                    -11.600443840026855,
                    4.377441883087158,
                    -41.58671951293945,
                    -48.99594497680664,
                    -38.34191131591797,
                    -15.24343490600586,
                    -23.97487449645996,
                    56.02770233154297,
                    29.85030174255371,
                    56.990753173828125,
                    32.05026626586914,
                    10.94957160949707,
                    -18.961915969848633,
                    -1.9142053127288818,
                    8.808440208435059,
                    -9.264510154724121,
                    -26.680809020996094,
                    45.372501373291016,
                    17.403379440307617,
                    -47.14210891723633,
                    -1.3235282897949219,
                    -3.2983834743499756,
                    10.439290046691895,
                    34.65332794189453,
                    33.42483901977539,
                    -8.388246536254883,
                    -10.186667442321777,
                    1.5052279233932495,
                    -4.952215671539307,
                    -41.132049560546875,
                    17.759601593017578,
                    -23.160297393798828,
                    -31.71295738220215,
                    9.588839530944824,
                    29.644081115722656,
                    14.54519271850586,
                    40.05203628540039,
                    12.166396141052246,
                    33.38662338256836,
                    38.392459869384766,
                    13.924454689025879,
                    -46.42291259765625,
                    -20.10163688659668,
                    -6.317088603973389,
                    -23.13076400756836,
                    -3.61641788482666,
                    34.22483444213867,
                    19.6970272064209,
                    -36.60579299926758,
                    1.0328272581100464,
                    -25.375091552734375,
                    5.052929401397705,
                    15.813663482666016,
                    22.112197875976562,
                    4.2543864250183105,
                    -34.120243072509766,
                    -0.0873308926820755,
                    36.88260269165039,
                    -45.58901596069336,
                    -30.677547454833984,
                    -23.307613372802734,
                    56.85798645019531,
                    11.23770809173584,
                    -30.677614212036133,
                    1.6556514501571655,
                    -53.22660446166992,
                    -17.596071243286133,
                    5.760993480682373,
                    4.916344165802002,
                    3.6144771575927734,
                    -1.4703620672225952,
                    -45.98896408081055,
                    -3.008242607116699,
                    -45.01689910888672,
                    28.034555435180664,
                    58.511375427246094,
                    -5.498606204986572,
                    -7.907413959503174,
                    -40.66897201538086,
                    18.276010513305664,
                    29.938674926757812,
                    15.667543411254883,
                    13.186585426330566,
                    -7.332308292388916,
                    20.546607971191406,
                    -2.951997995376587,
                    32.073974609375,
                    29.49879264831543,
                    43.70851135253906,
                    28.451091766357422,
                    10.601045608520508,
                    12.909213066101074,
                    -2.114285945892334,
                    1.0220098495483398,
                    4.955606937408447,
                    12.857264518737793,
                    -27.52960205078125,
                    13.005702018737793,
                    24.81960105895996,
                    45.11888885498047,
                    29.892322540283203,
                    -8.410944938659668,
                    7.891294479370117,
                    5.619280815124512,
                    19.452669143676758,
                    -22.206928253173828,
                    -44.3355827331543,
                    32.44060516357422,
                    32.03899383544922,
                    4.973325729370117,
                    32.410030364990234,
                    41.7578239440918,
                    -28.679807662963867,
                    -8.35832405090332,
                    -1.3082319498062134,
                    2.4753599166870117,
                    -36.1694221496582,
                    30.35132598876953,
                    30.330026626586914,
                    -8.14026165008545,
                    30.699966430664062,
                    51.43558883666992,
                    54.931095123291016,
                    -20.14630889892578,
                    8.668594360351562,
                    -12.769430160522461,
                    -16.988265991210938,
                    8.687708854675293,
                    30.977455139160156,
                    -15.897608757019043,
                    4.207367420196533,
                    55.124874114990234,
                    42.98054504394531,
                    9.79939079284668,
                    -44.89402770996094,
                    -27.88475227355957,
                    -12.36794376373291,
                    1.3442860841751099,
                    55.10009765625,
                    -3.6174471378326416,
                    38.982017517089844,
                    -21.648075103759766,
                    -8.581382751464844,
                    -49.33835983276367,
                    -48.12479782104492,
                    13.97436237335205,
                    -41.178749084472656,
                    -15.640027046203613,
                    -23.904129028320312,
                    0.7449834942817688,
                    57.78723907470703,
                    -17.497081756591797,
                    -37.3531608581543,
                    -17.29652214050293,
                    57.787296295166016,
                    -36.63199234008789,
                    -26.468406677246094,
                    -2.436129093170166,
                    -5.946331024169922,
                    -50.18680191040039,
                    -12.456348419189453,
                    -22.65645980834961,
                    0.7992337942123413,
                    -45.830936431884766,
                    -40.425201416015625,
                    -40.50056838989258,
                    -7.6019487380981445,
                    -47.99016571044922,
                    10.147934913635254,
                    -14.245109558105469,
                    -2.954155921936035,
                    26.186227798461914,
                    38.211273193359375,
                    44.70915603637695,
                    -4.070916652679443,
                    -36.658687591552734,
                    -8.952675819396973,
                    -47.913631439208984,
                    -32.649169921875,
                    -23.351648330688477,
                    -41.63544845581055,
                    -41.75913619995117,
                    -35.72267532348633,
                    -38.95964050292969,
                    -27.97842788696289,
                    -30.466989517211914,
                    17.653806686401367,
                    -15.908156394958496,
                    -43.32862854003906,
                    -6.784239292144775,
                    14.706330299377441,
                    28.051469802856445,
                    -21.707271575927734,
                    48.36069107055664,
                    51.90214538574219,
                    3.6323437690734863,
                    -24.45117950439453,
                    -50.66889572143555,
                    -38.97639083862305,
                    -44.682491302490234,
                    4.022474765777588,
                    3.1604385375976562,
                    20.92142677307129,
                    -45.028133392333984,
                    -46.36865997314453,
                    5.112644195556641,
                    33.7673225402832,
                    9.77601146697998,
                    6.140715599060059,
                    -27.64047622680664,
                    -25.536678314208984,
                    50.60215759277344,
                    50.2317008972168,
                    -19.928569793701172,
                    -0.6522665023803711,
                    -4.370129585266113,
                    3.1207728385925293,
                    -32.530704498291016,
                    -33.484046936035156,
                    61.860328674316406,
                    -35.14071273803711,
                    52.250118255615234,
                    -30.031871795654297,
                    58.18499755859375,
                    -31.40623664855957,
                    38.217769622802734,
                    2.8199782371520996,
                    -41.77647018432617,
                    -40.36001968383789,
                    -46.38043975830078,
                    -21.784778594970703,
                    0.41044628620147705,
                    -10.630400657653809,
                    -20.59819984436035,
                    6.535703182220459,
                    7.504524230957031,
                    32.49689483642578,
                    -11.133855819702148,
                    -16.57198715209961,
                    -38.56130599975586,
                    -22.876773834228516,
                    -33.60176086425781,
                    -38.78977584838867,
                    -29.39651107788086,
                    -29.411788940429688,
                    28.436832427978516,
                    -14.944336891174316,
                    -24.324604034423828,
                    -18.36240005493164,
                    -44.60311508178711,
                    21.49660301208496,
                    -41.8155632019043,
                    -45.956298828125,
                    -5.0264458656311035,
                    -1.027971625328064,
                    43.48775863647461,
                    22.301605224609375,
                    9.253203392028809,
                    -0.15080980956554413,
                    23.087146759033203,
                    12.425387382507324,
                    -41.90601348876953,
                    -23.36321258544922,
                    -37.06709289550781,
                    24.97687339782715,
                    -28.23553466796875,
                    11.173206329345703,
                    -39.48273468017578,
                    -28.417837142944336,
                    -29.002058029174805,
                    -47.26741409301758,
                    -23.631254196166992,
                    -43.721290588378906,
                    -0.6701059341430664,
                    -27.847213745117188,
                    33.01858139038086,
                    38.92401885986328,
                    42.9931526184082,
                    33.49459457397461,
                    0.6557665467262268,
                    -6.969477653503418,
                    28.301313400268555,
                    31.593061447143555,
                    -42.46184158325195,
                    0.6557890176773071,
                    48.949607849121094,
                    -25.76822280883789,
                    -5.116576194763184,
                    27.0253849029541,
                    -43.151947021484375,
                    -46.52359390258789,
                    -38.14723587036133,
                    9.260516166687012,
                    -9.721770286560059,
                    -9.568985939025879,
                    25.17438316345215,
                    21.373960494995117,
                    -12.19825267791748,
                    -29.418569564819336,
                    9.527701377868652,
                    19.02067756652832,
                    35.484989166259766,
                    34.43586349487305,
                    27.413515090942383,
                    3.5920586585998535,
                    33.90946960449219,
                    12.88521957397461,
                    39.82112121582031,
                    27.274642944335938,
                    27.643905639648438,
                    -9.725353240966797,
                    32.199642181396484,
                    -6.075048446655273,
                    -11.71168327331543,
                    18.222509384155273,
                    -39.383548736572266,
                    20.921377182006836,
                    -39.96630859375,
                    31.599130630493164,
                    9.011313438415527,
                    0.5080879330635071,
                    -31.152801513671875,
                    -46.02507019042969,
                    -48.9788932800293,
                    30.37993049621582,
                    -46.70680618286133,
                    -29.729639053344727,
                    -42.69752502441406,
                    -48.383392333984375,
                    -33.46412658691406,
                    1.131844162940979,
                    -37.856773376464844,
                    -24.525123596191406,
                    -7.075279235839844,
                    -20.298465728759766,
                    -25.06580924987793,
                    -31.469919204711914,
                    -48.28264617919922,
                    -9.991435050964355,
                    -3.437746047973633,
                    18.019498825073242,
                    21.12936782836914,
                    -6.780028343200684,
                    48.194339752197266,
                    46.60456848144531,
                    36.81246566772461,
                    21.13396644592285,
                    -31.0297908782959,
                    10.099800109863281,
                    41.27552795410156,
                    -26.93673324584961,
                    -7.7878241539001465,
                    -7.687638282775879,
                    36.36473083496094,
                    26.073944091796875,
                    28.717010498046875,
                    28.54958724975586,
                    41.95296096801758,
                    -9.06296157836914,
                    -58.146793365478516,
                    -8.522016525268555,
                    -11.897315979003906,
                    35.32498550415039,
                    50.08757400512695,
                    54.17692184448242,
                    52.425926208496094,
                    43.13884735107422,
                    53.95622634887695,
                    35.951839447021484,
                    9.588313102722168,
                    4.054824352264404,
                    7.927791118621826,
                    25.24106216430664,
                    24.740447998046875,
                    20.46489715576172,
                    28.216035842895508,
                    -26.341609954833984,
                    -19.39818572998047,
                    -13.441011428833008,
                    -1.798346996307373,
                    3.3269217014312744,
                    -49.94890594482422,
                    -10.144734382629395,
                    -9.226789474487305,
                    -1.2445188760757446,
                    18.820711135864258,
                    30.864734649658203,
                    46.44441223144531,
                    48.486328125,
                    53.52743148803711,
                    51.89942932128906,
                    -49.738346099853516,
                    8.605623245239258,
                    32.76529312133789,
                    -25.732635498046875,
                    -48.945640563964844,
                    0.5831702351570129,
                    -9.8345308303833,
                    -7.469648838043213,
                    33.829429626464844,
                    4.680363655090332,
                    3.273103952407837,
                    11.2234525680542,
                    2.2087857723236084,
                    -38.63260269165039,
                    -34.51892852783203,
                    4.280704021453857,
                    -44.21062469482422,
                    33.594783782958984,
                    26.4196834564209,
                    51.77306365966797,
                    33.291648864746094,
                    26.07413101196289,
                    17.24790382385254,
                    49.12995147705078,
                    -4.546308517456055,
                    32.22975540161133,
                    29.484664916992188,
                    -14.936107635498047,
                    10.517030715942383,
                    -6.253171920776367,
                    -31.757287979125977,
                    4.8459062576293945,
                    1.973183512687683,
                    -24.568256378173828,
                    16.711332321166992,
                    8.190892219543457,
                    -35.860267639160156,
                    3.673189163208008,
                    -41.62944793701172,
                    -12.041155815124512,
                    -30.31055450439453,
                    16.73614501953125,
                    -18.22382354736328,
                    -28.04594612121582,
                    -12.127813339233398,
                    -31.711149215698242,
                    2.5319106578826904,
                    -37.23019790649414,
                    1.6718165874481201,
                    -33.82758331298828,
                    -30.244417190551758,
                    -33.56758117675781,
                    -32.06242752075195,
                    5.828671932220459,
                    -1.3371559381484985,
                    -11.638976097106934,
                    -26.801294326782227,
                    -10.537115097045898,
                    2.6108264923095703,
                    -8.233488082885742,
                    -24.198551177978516,
                    -30.097747802734375,
                    8.117354393005371,
                    1.5075554847717285,
                    -0.3566286563873291,
                    -34.29587173461914,
                    -53.879520416259766,
                    -28.880008697509766,
                    -13.260692596435547,
                    -27.142677307128906,
                    -28.98053741455078,
                    -7.804433345794678,
                    -38.79533004760742,
                    -13.437023162841797,
                    -45.370182037353516,
                    22.13842010498047,
                    35.654685974121094,
                    19.03176498413086,
                    9.229235649108887,
                    16.817983627319336,
                    28.134004592895508,
                    -49.109962463378906,
                    -39.12753677368164,
                    34.04243469238281,
                    12.298078536987305,
                    -37.936988830566406,
                    21.020971298217773,
                    44.04152297973633,
                    19.724824905395508,
                    42.82925033569336,
                    2.713654041290283,
                    46.2880744934082,
                    21.65072250366211,
                    -12.721780776977539,
                    -45.9508056640625,
                    -25.953584671020508,
                    31.90239906311035,
                    4.027884483337402,
                    17.866945266723633,
                    -8.892999649047852,
                    18.455402374267578,
                    0.41439351439476013,
                    24.686492919921875,
                    2.864382743835449,
                    9.974397659301758,
                    -38.61377716064453,
                    30.864728927612305,
                    34.2078971862793,
                    42.5654296875,
                    53.74453353881836,
                    49.497676849365234,
                    12.636220932006836,
                    -6.1722917556762695,
                    14.856976509094238,
                    13.495598793029785,
                    17.567676544189453,
                    7.074768543243408,
                    9.24330997467041,
                    0.2399672567844391,
                    56.1453857421875,
                    47.356388092041016,
                    38.90850830078125,
                    51.42564010620117,
                    -40.51606369018555,
                    -26.873924255371094,
                    51.9001350402832,
                    53.86631393432617,
                    35.7501335144043,
                    0.09192490577697754,
                    -4.454710006713867,
                    -15.624944686889648,
                    17.51683235168457,
                    -7.221275329589844,
                    -7.221275329589844,
                    3.691767454147339,
                    -31.699832916259766,
                    29.265050888061523,
                    16.763090133666992,
                    28.286285400390625,
                    -40.041961669921875,
                    53.9337158203125,
                    -18.028034210205078,
                    -35.90311050415039,
                    56.81633377075195,
                    55.39409637451172,
                    1.831504464149475,
                    -2.8126490116119385,
                    -45.989097595214844,
                    14.5750150680542,
                    -28.775623321533203,
                    -10.475374221801758,
                    -10.537114143371582,
                    47.435604095458984,
                    50.712520599365234,
                    -10.537114143371582,
                    56.16916275024414,
                    31.052080154418945,
                    -11.696126937866211,
                    -50.656158447265625,
                    55.705562591552734,
                    -39.537837982177734,
                    29.948637008666992,
                    18.12632942199707,
                    22.790937423706055,
                    -31.161052703857422,
                    37.82398986816406,
                    -5.699523448944092,
                    2.9792897701263428,
                    -38.75647735595703,
                    -45.9246940612793,
                    -4.523255825042725,
                    -43.900840759277344,
                    -52.40009689331055,
                    -39.4732780456543,
                    9.778424263000488,
                    -18.88399314880371,
                    -13.828679084777832,
                    -28.376020431518555,
                    20.616971969604492,
                    17.899303436279297,
                    -13.929018020629883,
                    -30.38094139099121,
                    1.3697409629821777,
                    1.4795664548873901,
                    -29.437833786010742,
                    18.97500991821289,
                    -46.215091705322266,
                    24.205602645874023,
                    36.374210357666016,
                    44.961795806884766,
                    52.60772705078125,
                    45.532310485839844,
                    38.591896057128906,
                    -7.809721946716309,
                    37.82395553588867,
                    -43.00980758666992,
                    -45.76327133178711,
                    34.834354400634766,
                    -5.898614883422852,
                    -54.39885711669922,
                    -54.39909362792969,
                    -43.80345153808594,
                    24.093393325805664,
                    37.82393264770508,
                    32.84014892578125,
                    -32.82950210571289,
                    37.8264045715332,
                    33.500247955322266,
                    26.568201065063477,
                    -18.884864807128906,
                    -49.93867874145508,
                    21.136194229125977,
                    -13.71973705291748,
                    39.02012252807617,
                    -44.26561737060547,
                    -15.271303176879883,
                    -3.116823434829712,
                    -44.511104583740234,
                    -8.88995361328125,
                    33.999427795410156,
                    -32.82541275024414,
                    -18.868745803833008,
                    -41.08366012573242,
                    -32.34042739868164,
                    -0.8794604539871216,
                    -50.70393753051758,
                    19.963857650756836,
                    48.937469482421875,
                    -11.863980293273926,
                    21.92283058166504,
                    45.152225494384766,
                    2.531989097595215,
                    30.655969619750977,
                    41.6219367980957,
                    19.258899688720703,
                    -18.59571075439453,
                    32.35157775878906,
                    29.723920822143555,
                    30.906028747558594,
                    27.34553337097168,
                    25.704647064208984,
                    25.9470272064209,
                    29.966848373413086,
                    25.89943504333496,
                    26.107229232788086,
                    29.047353744506836,
                    26.509479522705078,
                    42.63810729980469,
                    -39.37279510498047,
                    40.09700393676758,
                    26.67679214477539,
                    25.982357025146484,
                    31.75901222229004,
                    10.084033012390137,
                    27.7346134185791,
                    -5.0962395668029785,
                    -24.61865997314453,
                    29.96718978881836,
                    36.242698669433594,
                    32.43340301513672,
                    28.890642166137695,
                    38.739986419677734,
                    18.99951171875,
                    29.962949752807617,
                    29.863615036010742,
                    -7.712595462799072,
                    -13.213370323181152,
                    42.37222671508789,
                    15.984821319580078,
                    2.39260196685791,
                    21.393619537353516,
                    5.861532688140869,
                    -25.746007919311523,
                    -13.213358879089355,
                    26.472856521606445,
                    23.200048446655273,
                    21.443880081176758,
                    -46.088069915771484,
                    -49.27907943725586,
                    -48.19300842285156,
                    -6.524320125579834,
                    -18.876171112060547,
                    -32.05553436279297,
                    -25.35898208618164,
                    -34.93016052246094,
                    -9.979607582092285,
                    28.535110473632812,
                    31.467384338378906,
                    -13.35498046875,
                    41.631553649902344,
                    -10.978764533996582,
                    -39.84963607788086,
                    34.412296295166016,
                    38.852813720703125,
                    -9.966479301452637,
                    -43.9009895324707,
                    -5.491191864013672,
                    -36.07094192504883,
                    4.3628644943237305,
                    13.875106811523438,
                    -6.744874000549316,
                    9.316025733947754,
                    12.398676872253418,
                    36.533836364746094,
                    12.221380233764648,
                    -21.272008895874023,
                    24.248538970947266,
                    5.708590030670166,
                    -14.03050422668457,
                    14.048201560974121,
                    44.440940856933594,
                    -2.541311502456665,
                    12.879410743713379,
                    -20.115936279296875,
                    40.77923583984375,
                    -19.945310592651367,
                    10.147668838500977,
                    9.976397514343262,
                    18.28960609436035,
                    -9.77957820892334,
                    63.11826705932617,
                    56.94770431518555,
                    36.053192138671875,
                    22.373403549194336,
                    44.862060546875,
                    -12.99807071685791,
                    35.39775848388672,
                    51.51674270629883,
                    -12.443105697631836,
                    1.6415935754776,
                    16.66260528564453,
                    -27.85886573791504,
                    -21.222524642944336,
                    -33.71715545654297,
                    -11.5282621383667,
                    33.33418273925781,
                    30.900510787963867,
                    11.065279960632324,
                    -35.15230178833008,
                    -34.97018814086914,
                    35.21137237548828,
                    7.266359329223633,
                    30.3338623046875,
                    4.403075218200684,
                    50.13998031616211,
                    -4.845935821533203,
                    -25.002727508544922,
                    -24.803791046142578,
                    51.71718978881836,
                    -1.0657029151916504,
                    0.9619041681289673,
                    37.330074310302734,
                    -14.698752403259277,
                    -12.314078330993652,
                    -48.626888275146484,
                    4.811264514923096,
                    -6.700967311859131,
                    -4.551868438720703,
                    -25.845123291015625,
                    -18.119979858398438,
                    28.314876556396484,
                    10.985251426696777,
                    -39.87027359008789,
                    -5.348221778869629,
                    -1.5550339221954346,
                    12.149163246154785,
                    25.242948532104492,
                    -21.844900131225586,
                    -8.571236610412598,
                    54.71733856201172,
                    40.21879577636719,
                    16.71442413330078,
                    55.83652877807617,
                    26.62954330444336,
                    -15.277815818786621,
                    -16.112194061279297,
                    -41.23830795288086,
                    15.679203033447266,
                    27.869632720947266,
                    28.69678497314453,
                    46.898162841796875,
                    1.42027747631073,
                    48.422325134277344,
                    5.278692722320557,
                    -45.459556579589844,
                    -40.8499755859375,
                    9.83814525604248,
                    29.599706649780273,
                    -7.184913158416748,
                    44.15313720703125,
                    -3.04339861869812,
                    24.455490112304688,
                    13.171189308166504,
                    17.451438903808594,
                    -3.0726606845855713,
                    24.31449317932129,
                    0.47304022312164307,
                    3.4342949390411377,
                    17.240402221679688,
                    18.65233612060547,
                    -40.4834098815918,
                    -28.00399398803711,
                    -15.471939086914062,
                    20.926301956176758,
                    -39.66361999511719,
                    -9.196191787719727,
                    33.40214157104492,
                    20.50885009765625,
                    36.096595764160156,
                    -7.108002662658691,
                    -2.2163138389587402,
                    7.412021636962891,
                    -30.03424835205078,
                    48.60086441040039,
                    8.605623245239258,
                    -2.60905385017395,
                    1.669741153717041,
                    -10.918603897094727,
                    -8.25897216796875,
                    -30.197755813598633,
                    -7.491881370544434,
                    16.672988891601562,
                    4.321051120758057,
                    33.751258850097656,
                    23.214946746826172,
                    -3.5610878467559814,
                    26.350706100463867,
                    15.378847122192383,
                    8.293052673339844,
                    2.6154067516326904,
                    16.837173461914062,
                    -51.5816764831543,
                    8.412075996398926,
                    7.228165626525879,
                    42.148292541503906,
                    27.823286056518555,
                    10.247814178466797,
                    1.749459981918335,
                    -16.495805740356445,
                    21.40209197998047,
                    1.7671363353729248,
                    -22.133594512939453,
                    -0.5017651319503784,
                    0.741279125213623,
                    -27.359132766723633,
                    21.620037078857422,
                    28.275800704956055,
                    -13.884708404541016,
                    8.830137252807617,
                    -0.24057593941688538,
                    46.38909149169922,
                    -28.694562911987305,
                    10.540031433105469,
                    -14.534018516540527,
                    -45.716400146484375,
                    -8.908031463623047,
                    3.724583625793457,
                    -21.28951072692871,
                    -40.34946060180664,
                    -8.973093032836914,
                    -43.38517379760742,
                    -33.50017166137695,
                    -20.027938842773438,
                    3.478501081466675,
                    -43.6477165222168,
                    -14.34583854675293,
                    -8.313058853149414,
                    -44.70372772216797,
                    -51.6572151184082,
                    -14.0153169631958,
                    6.011318206787109,
                    22.36014175415039,
                    -11.075233459472656,
                    9.940631866455078,
                    32.16549301147461,
                    -11.794861793518066,
                    -14.429340362548828,
                    13.004399299621582,
                    13.579774856567383,
                    -39.17246627807617,
                    -8.064647674560547,
                    -23.477540969848633,
                    8.554492950439453,
                    -38.527931213378906,
                    -21.632461547851562,
                    -43.033321380615234,
                    -47.6464729309082,
                    -31.864105224609375,
                    0.191316619515419,
                    55.482364654541016,
                    -37.49748229980469,
                    -24.1865177154541,
                    17.495704650878906,
                    -24.568256378173828,
                    -28.802614212036133,
                    -48.99589920043945,
                    -11.968978881835938,
                    14.254633903503418,
                    -42.14543533325195,
                    -4.329972743988037,
                    16.3337345123291,
                    -9.392524719238281,
                    -26.974550247192383,
                    -17.650596618652344,
                    15.02226734161377,
                    -7.286013603210449,
                    -42.33829116821289,
                    55.011474609375,
                    36.34200668334961,
                    5.708554744720459,
                    0.6611913442611694,
                    -35.602413177490234,
                    19.035966873168945,
                    -38.50922393798828,
                    3.731984853744507,
                    9.294648170471191,
                    -0.7496274709701538,
                    -47.27495193481445,
                    -26.87350082397461,
                    -50.16020584106445,
                    -7.43730354309082,
                    -39.6540641784668,
                    0.6592459082603455,
                    46.525489807128906,
                    -27.273488998413086,
                    -46.57067108154297,
                    -43.51511764526367,
                    -16.694116592407227,
                    15.651089668273926,
                    -33.11302947998047,
                    8.005170822143555,
                    32.20619583129883,
                    31.384191513061523,
                    -19.144176483154297,
                    10.833260536193848,
                    -8.444878578186035,
                    -1.4133530855178833,
                    5.625431060791016,
                    -30.74403190612793,
                    -0.938882052898407,
                    40.34292984008789,
                    -30.74871253967285,
                    -2.092372417449951,
                    1.2753171920776367,
                    8.63764476776123,
                    -34.71550369262695,
                    -31.5054874420166,
                    40.921268463134766,
                    18.893123626708984,
                    -46.0736083984375,
                    57.17243957519531,
                    -16.394943237304688,
                    20.911495208740234,
                    -8.13969898223877,
                    -31.29754638671875,
                    -4.4012675285339355,
                    -14.164304733276367,
                    -33.62009048461914,
                    50.48012161254883,
                    26.203296661376953,
                    -46.75394821166992,
                    -3.9802451133728027,
                    -49.060943603515625,
                    -27.691923141479492,
                    36.56686782836914,
                    -50.237918853759766,
                    -50.238037109375,
                    8.264419555664062,
                    -5.585757732391357,
                    32.32866668701172,
                    -14.561161994934082,
                    31.24993133544922,
                    10.65717601776123,
                    -26.375303268432617,
                    9.179783821105957,
                    8.805153846740723,
                    51.0913200378418,
                    14.0520601272583,
                    10.512316703796387,
                    -14.510178565979004,
                    -40.695716857910156,
                    42.49546813964844,
                    38.35798645019531,
                    -32.06352615356445,
                    1.19967520236969,
                    27.582151412963867,
                    -2.951997756958008,
                    34.58924865722656,
                    55.70391845703125,
                    14.337575912475586,
                    -1.2445188760757446,
                    -14.951398849487305,
                    -24.85883140563965,
                    5.14790153503418,
                    -17.35741424560547,
                    2.93336820602417,
                    25.892066955566406,
                    -4.254576206207275,
                    50.679161071777344,
                    19.713197708129883,
                    29.747032165527344,
                    11.2471284866333,
                    6.045178413391113,
                    21.122652053833008,
                    -16.674726486206055,
                    10.958199501037598,
                    4.078174114227295,
                    13.974355697631836,
                    27.07645606994629,
                    -13.309956550598145,
                    24.537498474121094,
                    19.10032081604004,
                    -9.353094100952148,
                    32.444637298583984,
                    30.086002349853516,
                    20.96790885925293,
                    -9.548044204711914,
                    -24.85883140563965,
                    14.995518684387207,
                    3.0108582973480225,
                    16.9324951171875,
                    0.7149344682693481,
                    31.051090240478516,
                    -2.947643518447876,
                    35.325172424316406,
                    11.245525360107422,
                    39.288291931152344,
                    -33.387577056884766,
                    30.647701263427734,
                    -2.582932949066162,
                    -52.20201873779297,
                    -1.6021530628204346,
                    10.374258995056152,
                    -25.316911697387695,
                    -28.705886840820312,
                    5.772189140319824,
                    16.0231876373291,
                    32.01954650878906,
                    -16.803558349609375,
                    34.30166244506836,
                    30.909305572509766,
                    30.875917434692383,
                    -32.25995635986328,
                    -21.920766830444336,
                    4.200790882110596,
                    26.7835636138916,
                    28.4956111907959,
                    0.768690824508667,
                    14.469389915466309,
                    -19.062950134277344,
                    32.95600128173828,
                    -21.9222354888916,
                    -49.14916229248047,
                    62.819087982177734,
                    -11.363536834716797,
                    -3.5931172370910645,
                    -31.21943473815918,
                    1.38037109375,
                    -7.696878910064697,
                    -38.33197784423828,
                    -10.404378890991211,
                    -28.180200576782227,
                    17.538835525512695,
                    54.73817443847656,
                    20.68950843811035,
                    -40.27790451049805,
                    33.62879943847656,
                    33.62870788574219,
                    0.4210605323314667,
                    0.28716808557510376,
                    2.6838624477386475,
                    -18.928638458251953,
                    -46.16944122314453,
                    37.9605712890625,
                    37.26148986816406,
                    3.880950927734375,
                    18.448701858520508,
                    11.562605857849121,
                    12.549975395202637,
                    -5.859442710876465,
                    -42.37482452392578,
                    5.865901470184326,
                    8.108534812927246,
                    -18.28245735168457,
                    -49.16550064086914,
                    -34.65578079223633,
                    -49.11222839355469,
                    -7.035877227783203,
                    18.86810874938965,
                    16.235614776611328,
                    -4.022145748138428,
                    -17.95326042175293,
                    26.46149444580078,
                    12.096318244934082,
                    -36.365501403808594,
                    -24.728477478027344,
                    33.19221496582031,
                    -24.884611129760742,
                    -21.587425231933594,
                    -25.248483657836914,
                    11.742425918579102,
                    -18.134662628173828,
                    13.033703804016113,
                    34.252017974853516,
                    -18.69877815246582,
                    -52.33767318725586,
                    -17.72102165222168,
                    -51.82192611694336,
                    15.94416618347168,
                    12.364253044128418,
                    -13.48389720916748,
                    31.139930725097656,
                    13.04454517364502,
                    -28.248672485351562,
                    -34.609657287597656,
                    -42.0088005065918,
                    -40.33529281616211,
                    52.27942657470703,
                    55.06684875488281,
                    22.488903045654297,
                    -2.2091641426086426,
                    15.77185344696045,
                    40.773685455322266,
                    -11.236791610717773,
                    20.602008819580078,
                    38.68571090698242,
                    -51.1047477722168,
                    -12.659714698791504,
                    -8.260237693786621,
                    -8.93260669708252,
                    -7.490198135375977,
                    5.014058589935303,
                    -41.33965301513672,
                    7.246272563934326,
                    36.11933517456055,
                    -28.34099006652832,
                    -12.763139724731445,
                    -40.931758880615234,
                    8.940006256103516,
                    4.228047847747803,
                    -19.761531829833984,
                    37.42609405517578,
                    49.300785064697266,
                    34.26676559448242,
                    -23.63471794128418,
                    36.13729476928711,
                    19.31006622314453,
                    -15.570769309997559,
                    35.71086120605469,
                    -19.946733474731445,
                    17.579641342163086,
                    13.959955215454102,
                    -49.149593353271484,
                    -49.1499137878418,
                    21.245853424072266,
                    -40.11098861694336,
                    17.220338821411133,
                    -0.6888672113418579,
                    8.56233024597168,
                    12.6111421585083,
                    -22.762928009033203,
                    18.032365798950195,
                    -10.069668769836426,
                    -2.6923673152923584,
                    -8.464376449584961,
                    -11.505631446838379,
                    -46.2239875793457,
                    -12.987292289733887,
                    -41.66958999633789,
                    43.9765739440918,
                    10.753130912780762,
                    17.631216049194336,
                    13.996269226074219,
                    1.7809128761291504,
                    -11.860665321350098,
                    -13.497271537780762,
                    28.075220108032227,
                    15.08176040649414,
                    -38.864524841308594,
                    -29.165430068969727,
                    -26.82798957824707,
                    -11.510642051696777,
                    -9.635098457336426,
                    14.618853569030762,
                    -40.91912841796875,
                    4.12887716293335,
                    3.89151668548584,
                    -0.23390629887580872,
                    -23.926708221435547,
                    -8.515195846557617,
                    -4.388850688934326,
                    17.628293991088867,
                    -19.69662857055664,
                    -53.95368576049805,
                    41.26132583618164,
                    16.60190200805664,
                    -18.064170837402344,
                    -40.0224609375,
                    23.3467960357666,
                    -42.02516555786133,
                    13.019843101501465,
                    -15.219882011413574,
                    -7.90204381942749,
                    -44.81193923950195,
                    -6.69964599609375,
                    -5.0184831619262695,
                    -40.29965591430664,
                    -25.840749740600586,
                    17.63193702697754,
                    20.684398651123047,
                    42.474308013916016,
                    -25.274438858032227,
                    -5.300275802612305,
                    10.791092872619629,
                    3.60736083984375,
                    55.71712875366211,
                    51.06464767456055,
                    4.408000946044922,
                    12.779925346374512,
                    53.469207763671875,
                    8.306241989135742,
                    35.27227020263672,
                    49.721038818359375,
                    43.22101974487305,
                    33.24620056152344,
                    -49.28770446777344,
                    -39.880130767822266,
                    -39.796382904052734,
                    42.463253021240234,
                    54.0737190246582,
                    20.330297470092773,
                    29.914899826049805,
                    54.67335510253906,
                    14.831466674804688,
                    -49.378150939941406,
                    14.367262840270996,
                    28.276229858398438,
                    0.9945282936096191,
                    3.620436191558838,
                    13.306197166442871,
                    34.350406646728516,
                    59.87870407104492,
                    -25.0952205657959,
                    23.48068618774414,
                    -6.289177894592285,
                    2.641892194747925,
                    -57.27881622314453,
                    -32.9564094543457,
                    34.45198059082031,
                    35.3158073425293,
                    38.60390853881836,
                    27.58938980102539,
                    -35.38920211791992,
                    -25.142087936401367,
                    39.587711334228516,
                    9.018823623657227,
                    -22.294633865356445,
                    2.4902966022491455,
                    2.9803409576416016,
                    8.994651794433594,
                    -30.22393798828125,
                    -10.779865264892578,
                    -6.78837776184082,
                    -0.2501954138278961,
                    26.425853729248047,
                    -26.3609561920166,
                    7.206852436065674,
                    -13.81502914428711,
                    24.30555534362793,
                    -35.380714416503906,
                    -6.5732598304748535,
                    3.060969591140747,
                    -15.081270217895508,
                    23.916900634765625,
                    16.75693130493164,
                    36.504364013671875,
                    24.693492889404297,
                    1.1241599321365356,
                    31.59916114807129,
                    24.647123336791992,
                    -5.216495513916016,
                    -11.792784690856934,
                    -2.981682300567627,
                    3.3424830436706543,
                    32.036136627197266,
                    2.881774425506592,
                    1.8666549921035767,
                    25.995664596557617,
                    8.50435733795166,
                    6.027301788330078,
                    11.140664100646973,
                    10.150033950805664,
                    -6.818758487701416,
                    -39.89634323120117,
                    3.3877463340759277,
                    8.67537784576416,
                    -44.39479446411133,
                    32.8306884765625,
                    21.88547706604004,
                    52.43967056274414,
                    51.837459564208984,
                    34.37104797363281,
                    7.103425025939941,
                    16.091754913330078,
                    21.885541915893555,
                    -44.98631286621094,
                    -7.798123836517334,
                    23.61883544921875,
                    12.862627029418945,
                    -9.764162063598633,
                    59.91579818725586,
                    22.255155563354492,
                    -30.868906021118164,
                    28.500286102294922,
                    -29.556446075439453,
                    3.978517770767212,
                    -33.619625091552734,
                    -35.75019454956055,
                    25.78263282775879,
                    -40.390541076660156,
                    -3.273825168609619,
                    -14.10306453704834,
                    2.0169460773468018,
                    -16.876583099365234,
                    1.1895132064819336,
                    -8.087325096130371,
                    -12.442499160766602,
                    2.385676622390747,
                    -26.93589210510254,
                    -12.227439880371094,
                    -12.787686347961426,
                    -30.216995239257812,
                    -36.47737121582031,
                    11.191299438476562,
                    -32.1895866394043,
                    -58.56710433959961,
                    -6.230020046234131,
                    -16.393461227416992,
                    -19.961668014526367,
                    -16.711275100708008,
                    45.72809982299805,
                    -3.074744939804077,
                    7.861939430236816,
                    -16.36853790283203,
                    13.32565689086914,
                    -5.298089027404785,
                    -27.027204513549805,
                    61.94404220581055,
                    -13.049081802368164,
                    27.24896812438965,
                    -25.10628890991211,
                    -7.2863078117370605,
                    -7.724671840667725,
                    -23.190135955810547,
                    -39.087135314941406,
                    -38.58432388305664,
                    -23.167646408081055,
                    37.09132766723633,
                    -46.862449645996094,
                    -29.020008087158203,
                    -25.347740173339844,
                    28.40387535095215,
                    51.71910858154297,
                    -44.09929656982422,
                    -31.693246841430664,
                    14.989123344421387,
                    4.075745105743408,
                    -17.385147094726562,
                    -41.39600372314453,
                    -19.772058486938477,
                    -2.755784749984741,
                    -0.40425214171409607,
                    26.336647033691406,
                    44.089447021484375,
                    19.431541442871094,
                    36.785518646240234,
                    6.45497465133667,
                    2.8089776039123535,
                    16.177505493164062,
                    -11.902052879333496,
                    -12.732370376586914,
                    -2.5755131244659424,
                    7.095462799072266,
                    -33.50322341918945,
                    -21.545583724975586,
                    1.235060214996338,
                    -6.445312023162842,
                    -15.829689025878906,
                    -46.57068634033203,
                    2.9625301361083984,
                    -0.15431417524814606,
                    -46.59038543701172,
                    -11.1228666305542,
                    -18.55255126953125,
                    -38.42517852783203,
                    -47.12065887451172,
                    -39.06037902832031,
                    13.200296401977539,
                    -9.350573539733887,
                    -29.005062103271484,
                    54.56991958618164,
                    11.287431716918945,
                    -7.445290565490723,
                    -30.03054428100586,
                    -24.769136428833008,
                    -16.34943962097168,
                    18.846698760986328,
                    0.1886288970708847,
                    -8.575045585632324,
                    -20.874980926513672,
                    -42.648746490478516,
                    2.499537229537964,
                    8.288022994995117,
                    -39.7108039855957,
                    33.983341217041016,
                    -21.55535316467285,
                    -28.570249557495117,
                    9.767414093017578,
                    -5.375034332275391,
                    -1.7606979608535767,
                    15.662936210632324,
                    3.9750866889953613,
                    -19.844980239868164,
                    -39.31879806518555,
                    -35.96550750732422,
                    -24.85883140563965,
                    -29.843849182128906,
                    -48.995872497558594,
                    -45.79483413696289,
                    -4.25553560256958,
                    -4.255361080169678,
                    49.422096252441406,
                    42.532066345214844,
                    54.97744369506836,
                    -34.68037796020508,
                    -9.42996597290039,
                    -3.7422971725463867,
                    -27.678028106689453,
                    -22.013145446777344,
                    1.3291537761688232,
                    34.20800018310547,
                    -3.089843511581421,
                    13.943818092346191,
                    44.88323974609375,
                    49.19840621948242,
                    33.30423355102539,
                    15.964000701904297,
                    7.962587833404541,
                    -10.35163402557373,
                    22.021821975708008,
                    -6.084579944610596,
                    -33.879798889160156,
                    -26.491077423095703,
                    -12.24555492401123,
                    -15.471380233764648,
                    -7.029568672180176,
                    -0.36708131432533264,
                    -23.822879791259766,
                    -10.055550575256348,
                    -6.982644081115723,
                    -39.33598327636719,
                    41.147457122802734,
                    -11.932391166687012,
                    22.208541870117188,
                    -10.684216499328613,
                    -3.761897563934326,
                    -23.328899383544922,
                    3.434293270111084,
                    1.3391200304031372,
                    -38.42586135864258,
                    8.65904712677002,
                    -16.4456844329834,
                    14.993135452270508,
                    40.644012451171875,
                    17.43231964111328,
                    -29.5074520111084,
                    -31.581050872802734,
                    -7.9091572761535645,
                    26.44962501525879,
                    -19.022003173828125,
                    -25.308671951293945,
                    15.96415901184082,
                    7.206809043884277,
                    -23.035720825195312,
                    -12.707983016967773,
                    -23.48102378845215,
                    -1.8999583721160889,
                    16.04503631591797,
                    -12.921661376953125,
                    -16.511375427246094,
                    -1.317775845527649,
                    56.6172981262207,
                    -14.787970542907715,
                    -27.548826217651367,
                    -2.146195888519287,
                    -52.11899948120117,
                    -20.046680450439453,
                    2.5132896900177,
                    15.117668151855469,
                    -27.47523307800293,
                    -7.421518325805664,
                    6.391552448272705,
                    27.19208335876465,
                    -34.585784912109375,
                    -55.69143295288086,
                    -7.585874557495117,
                    -5.968202114105225,
                    9.776909828186035,
                    -31.188182830810547,
                    -33.10778045654297,
                    1.131994605064392,
                    2.091073989868164,
                    -19.678030014038086,
                    -24.59034538269043,
                    -24.85883140563965,
                    -29.418380737304688,
                    3.275153636932373,
                    -24.569034576416016,
                    -25.955604553222656,
                    -36.47599411010742,
                    -36.41986846923828,
                    -27.76654052734375,
                    -25.64998435974121,
                    -28.313474655151367,
                    7.499402046203613,
                    20.720720291137695,
                    -7.262970924377441,
                    -31.960124969482422,
                    31.827945709228516,
                    13.600366592407227,
                    11.7374849319458,
                    12.096794128417969,
                    4.0758843421936035,
                    52.754905700683594,
                    34.40550231933594,
                    39.58771514892578,
                    -5.75732421875,
                    30.66937255859375,
                    26.913135528564453,
                    -12.600605964660645,
                    4.977209091186523,
                    -7.950588226318359,
                    3.696296215057373,
                    3.5884172916412354,
                    47.1995735168457,
                    10.062603950500488,
                    -45.01675033569336,
                    -7.819518566131592,
                    33.086002349853516,
                    -16.67577362060547,
                    -20.304460525512695,
                    -2.9324448108673096,
                    27.936494827270508,
                    54.03056716918945,
                    54.16075897216797,
                    10.795514106750488,
                    -3.6970863342285156,
                    5.034005641937256,
                    -5.751375675201416,
                    4.384345054626465,
                    28.3673095703125,
                    21.181711196899414,
                    -36.070858001708984,
                    36.09434509277344,
                    30.72760772705078,
                    13.470664978027344,
                    54.12867736816406,
                    50.75056457519531,
                    6.180339336395264,
                    -21.737606048583984,
                    6.916673183441162,
                    -19.673181533813477,
                    13.470701217651367,
                    27.557918548583984,
                    50.7170295715332,
                    -18.760635375976562,
                    -7.512063980102539,
                    -27.366668701171875,
                    -37.71992492675781,
                    26.83965301513672,
                    56.92775344848633,
                    43.721012115478516,
                    -4.667733669281006,
                    -31.72263526916504,
                    -5.599474906921387,
                    -31.199399948120117,
                    4.210179328918457,
                    -2.429006338119507,
                    -6.617586612701416,
                    -26.20153045654297,
                    -13.114233016967773,
                    4.536719799041748,
                    24.66763687133789,
                    3.633131980895996,
                    -4.2641282081604,
                    17.70795440673828,
                    18.251354217529297,
                    -2.2784295082092285,
                    2.3231887817382812,
                    19.066621780395508,
                    26.3162841796875,
                    1.92582106590271,
                    -4.061210632324219,
                    -33.83068084716797,
                    1.0394426584243774,
                    32.66466522216797,
                    -31.17678451538086,
                    41.773956298828125,
                    28.86942481994629,
                    -19.989652633666992,
                    -14.303159713745117,
                    -54.36217498779297,
                    -30.093795776367188,
                    6.160651683807373,
                    12.819515228271484,
                    12.215859413146973,
                    -10.005208015441895,
                    37.88105010986328,
                    26.572641372680664,
                    1.5123212337493896,
                    48.15996551513672,
                    20.402307510375977,
                    -34.20345687866211,
                    -23.247817993164062,
                    29.468107223510742,
                    9.709053039550781,
                    -25.721261978149414,
                    -28.22417449951172,
                    12.420433044433594,
                    3.043159246444702,
                    -8.129674911499023,
                    12.845782279968262,
                    -44.23047637939453,
                    -25.6300048828125,
                    -0.568168044090271,
                    -5.9431281089782715,
                    -5.941727638244629,
                    26.233787536621094,
                    13.174260139465332,
                    -45.704689025878906,
                    6.388370990753174,
                    51.78293991088867,
                    5.566587448120117,
                    8.839003562927246,
                    18.863740921020508,
                    5.526067733764648,
                    4.839022636413574,
                    1.3033778667449951,
                    3.5442981719970703,
                    34.28654861450195,
                    47.87452697753906,
                    40.21916580200195,
                    18.812644958496094,
                    -31.551664352416992,
                    -3.0398740768432617,
                    -8.135254859924316,
                    23.575590133666992,
                    3.2857956886291504,
                    -2.182840347290039,
                    13.843199729919434,
                    7.874159812927246,
                    -40.014652252197266,
                    25.181169509887695,
                    -16.770849227905273,
                    -4.423122882843018,
                    4.478610038757324,
                    4.513731479644775,
                    -21.512357711791992,
                    9.816107749938965,
                    -41.6269645690918,
                    44.9475212097168,
                    37.6640739440918,
                    -8.608831405639648,
                    -21.294498443603516,
                    -24.884273529052734,
                    -39.34065246582031,
                    13.13060474395752,
                    11.590959548950195,
                    -14.192570686340332,
                    -8.656159400939941,
                    41.17840576171875,
                    -20.03142738342285,
                    16.954044342041016,
                    25.973817825317383,
                    2.2393617630004883,
                    18.69411849975586,
                    -31.153806686401367,
                    -2.7087271213531494,
                    -46.36970138549805,
                    -39.14152526855469,
                    13.788569450378418,
                    -36.7802619934082,
                    11.487382888793945,
                    -45.70668411254883,
                    -4.821169853210449,
                    8.852327346801758,
                    -16.587736129760742,
                    0.20678478479385376,
                    -1.3728911876678467,
                    1.6676793098449707,
                    -38.7850227355957,
                    -1.9142762422561646,
                    25.544570922851562,
                    18.8823184967041,
                    -17.41564178466797,
                    -22.489891052246094,
                    -12.173480033874512,
                    -31.767120361328125,
                    33.31888961791992,
                    3.5187582969665527,
                    -26.971052169799805,
                    4.154637336730957,
                    26.04296875,
                    -19.787612915039062,
                    30.864702224731445,
                    -8.764081954956055,
                    8.760119438171387,
                    4.818489074707031,
                    16.922773361206055,
                    26.922983169555664,
                    15.954174041748047,
                    11.195195198059082,
                    12.21371841430664,
                    2.9196953773498535,
                    38.24418258666992,
                    -22.1090145111084,
                    44.05305862426758,
                    -5.655959606170654,
                    -11.119709014892578,
                    22.5252685546875,
                    16.387496948242188,
                    0.4392830729484558,
                    22.340124130249023,
                    -28.64472007751465,
                    19.924711227416992,
                    3.2784295082092285,
                    -17.23635482788086,
                    -6.276392936706543,
                    -13.152826309204102,
                    1.20057213306427,
                    -10.82596492767334,
                    -7.1883463859558105,
                    -24.390291213989258,
                    5.253722190856934,
                    -17.742633819580078,
                    23.358654022216797,
                    7.06715726852417,
                    10.325579643249512,
                    29.646385192871094,
                    46.42267990112305,
                    -1.3121458292007446,
                    -47.30544662475586,
                    28.639028549194336,
                    32.5885124206543,
                    45.311912536621094,
                    53.14476776123047,
                    -52.14663314819336,
                    -41.439964294433594,
                    -27.000015258789062,
                    18.940471649169922,
                    4.630944728851318,
                    -10.97077465057373,
                    -44.351409912109375,
                    3.208810567855835,
                    -49.95741271972656,
                    -39.51738739013672,
                    -24.8756046295166,
                    -23.728267669677734,
                    -8.064643859863281,
                    -24.389949798583984,
                    50.825931549072266,
                    -23.85288429260254,
                    27.242055892944336,
                    -23.300878524780273,
                    -39.61033248901367,
                    -1.8307677507400513,
                    -39.9349250793457,
                    -29.067703247070312,
                    -40.06956481933594,
                    28.644054412841797,
                    40.57854461669922,
                    35.188575744628906,
                    18.47456932067871,
                    30.78989601135254,
                    -32.63102722167969,
                    28.242761611938477,
                    24.55546760559082,
                    9.644614219665527,
                    2.407534122467041,
                    -41.669647216796875,
                    -16.156227111816406,
                    -16.2266902923584,
                    -24.8363037109375,
                    33.893009185791016,
                    -5.963390350341797,
                    -38.85503387451172,
                    -10.537114143371582,
                    47.5854606628418,
                    31.37934112548828,
                    21.09000015258789,
                    32.40568542480469,
                    40.031917572021484,
                    49.435523986816406,
                    -24.224411010742188,
                    -26.153799057006836,
                    21.943593978881836,
                    33.594852447509766,
                    -52.64877700805664,
                    -40.264793395996094,
                    10.427666664123535,
                    -46.43052291870117,
                    -34.0936164855957,
                    -30.790443420410156,
                    -47.18375778198242,
                    -0.16457946598529816,
                    6.411072731018066,
                    13.47242259979248,
                    3.033679962158203,
                    13.555862426757812,
                    -16.06414222717285,
                    10.192328453063965,
                    -39.14810562133789,
                    37.67044448852539,
                    -11.807108879089355,
                    37.53640365600586,
                    1.0898213386535645,
                    -12.920578002929688,
                    -36.54188537597656,
                    -18.9619140625,
                    -13.243612289428711,
                    -31.92070960998535,
                    17.485942840576172,
                    -41.24832534790039,
                    -36.38174057006836,
                    -38.0186882019043,
                    24.010507583618164,
                    -51.619686126708984,
                    -11.430978775024414,
                    -2.3355753421783447,
                    -26.214902877807617,
                    -13.990053176879883,
                    39.21073532104492,
                    44.03900146484375,
                    11.122550010681152,
                    -19.939123153686523,
                    -25.140392303466797,
                    -38.01826477050781,
                    10.14737319946289,
                    -13.110440254211426,
                    -13.058337211608887,
                    1.6953381299972534,
                    -10.47042179107666,
                    9.817964553833008,
                    -54.362083435058594,
                    27.400455474853516,
                    0.8190616965293884,
                    -24.942325592041016,
                    -7.7226386070251465,
                    3.416107416152954,
                    28.8220157623291,
                    30.15850257873535,
                    10.441644668579102,
                    -43.31298065185547,
                    53.96318435668945,
                    57.92251968383789,
                    31.633655548095703,
                    50.778167724609375,
                    -42.40523910522461,
                    -46.166908264160156,
                    1.3552809953689575,
                    -33.08019256591797,
                    -26.202594757080078,
                    -2.5623950958251953,
                    6.201426029205322,
                    -11.064474105834961,
                    23.573286056518555,
                    -13.433077812194824,
                    -24.655319213867188,
                    -48.28109359741211,
                    35.39433288574219,
                    6.473937511444092,
                    -4.7967400550842285,
                    1.6817137002944946,
                    9.907974243164062,
                    41.82806396484375,
                    14.566753387451172,
                    3.4889681339263916,
                    10.0333251953125,
                    7.831093788146973,
                    31.305299758911133,
                    -33.12895584106445,
                    -13.6709566116333,
                    -4.768433570861816,
                    29.777790069580078,
                    22.145244598388672,
                    32.55709457397461,
                    11.10051155090332,
                    31.418060302734375,
                    41.02207565307617,
                    -31.13072395324707,
                    11.110185623168945,
                    -7.64220666885376,
                    -39.329933166503906,
                    -7.259742736816406,
                    -37.29429244995117,
                    41.2889289855957,
                    -8.974994659423828,
                    1.1575607061386108,
                    -34.680423736572266,
                    1.0281727313995361,
                    -47.47452163696289,
                    -43.063236236572266,
                    -21.59774398803711,
                    -16.030834197998047,
                    -4.777248859405518,
                    -10.199952125549316,
                    -48.58842468261719,
                    4.475555419921875,
                    -20.53058433532715,
                    23.9459285736084,
                    -26.054672241210938,
                    -10.364036560058594,
                    7.0280375480651855,
                    -28.03006935119629,
                    17.653175354003906,
                    -42.54130172729492,
                    -31.105518341064453,
                    -25.50403594970703,
                    -25.943849563598633,
                    27.097454071044922,
                    -25.350252151489258,
                    36.90751647949219,
                    -28.07939910888672,
                    45.12943649291992,
                    -27.627832412719727,
                    -25.446670532226562,
                    -49.1099967956543,
                    42.24359130859375,
                    53.542213439941406,
                    13.059019088745117,
                    -41.84019088745117,
                    -20.59888458251953,
                    3.3393473625183105,
                    37.93586730957031,
                    29.309988021850586,
                    -15.897795677185059,
                    35.71016311645508,
                    44.775352478027344,
                    37.695831298828125,
                    3.4879729747772217,
                    18.32181167602539,
                    26.85817527770996,
                    -3.1687755584716797,
                    27.69162940979004,
                    17.119802474975586,
                    22.128150939941406,
                    23.529037475585938,
                    18.900379180908203,
                    14.612095832824707,
                    44.222084045410156,
                    9.310420036315918,
                    -13.597432136535645,
                    -0.22978061437606812,
                    -39.199554443359375,
                    -40.32418441772461,
                    -46.29771041870117,
                    6.755248069763184,
                    -11.782306671142578,
                    12.848272323608398,
                    13.338433265686035,
                    -2.488626003265381,
                    -0.36963799595832825,
                    3.775987386703491,
                    20.0087947845459,
                    0.8030117154121399,
                    -13.56530475616455,
                    -12.84520149230957,
                    -29.52912139892578,
                    -12.796757698059082,
                    9.386992454528809,
                    -16.657644271850586,
                    -36.554447174072266,
                    -47.03008270263672,
                    7.793906211853027,
                    29.589624404907227,
                    -7.211665153503418,
                    -11.239660263061523,
                    -11.127764701843262,
                    -33.795841217041016,
                    9.000432014465332,
                    12.473020553588867,
                    15.944414138793945,
                    19.954730987548828,
                    -6.502712249755859,
                    10.812124252319336,
                    -14.007176399230957,
                    -14.673653602600098,
                    6.994655132293701,
                    52.593101501464844,
                    -8.182628631591797,
                    22.06963348388672,
                    15.081762313842773,
                    34.122398376464844,
                    33.391563415527344,
                    23.657230377197266,
                    25.331314086914062,
                    0.2954019010066986,
                    -43.70875930786133,
                    -6.643744468688965,
                    9.06406307220459,
                    -48.26032257080078,
                    26.91421127319336,
                    44.79530715942383,
                    10.147933959960938,
                    38.49386215209961,
                    14.067381858825684,
                    -15.833171844482422,
                    10.398320198059082,
                    -31.11309814453125,
                    -26.53304100036621,
                    19.313488006591797,
                    -45.547386169433594,
                    -16.673789978027344,
                    -45.67007827758789,
                    6.994653701782227,
                    -43.2802848815918,
                    -25.153961181640625,
                    6.040653228759766,
                    -32.62862014770508,
                    7.123046398162842,
                    12.466315269470215,
                    10.041672706604004,
                    -30.258544921875,
                    29.201723098754883,
                    -10.05403995513916,
                    -12.637750625610352,
                    -8.525752067565918,
                    -46.44027328491211,
                    -10.082544326782227,
                    -11.078242301940918,
                    2.9708738327026367,
                    -40.173072814941406,
                    -22.278289794921875,
                    53.20012283325195,
                    51.01453399658203,
                    -47.53807830810547,
                    7.56652307510376,
                    34.69742202758789,
                    11.295232772827148,
                    -12.447946548461914,
                    -17.335786819458008,
                    -3.2138242721557617,
                    60.39753723144531,
                    -38.88427734375,
                    -48.49838638305664,
                    -3.2523610591888428,
                    -13.547392845153809,
                    -47.0559196472168,
                    -37.53691864013672,
                    28.65045738220215,
                    41.74665069580078,
                    19.217988967895508,
                    -12.33897876739502,
                    -14.813170433044434,
                    7.471973419189453,
                    -27.14044952392578,
                    -8.347822189331055,
                    18.29413604736328,
                    -28.743457794189453,
                    -13.816802978515625,
                    -4.768199920654297,
                    -0.5295677185058594,
                    3.17789626121521,
                    26.200048446655273,
                    10.98671817779541,
                    39.20607376098633,
                    -37.565303802490234,
                    -50.57585906982422,
                    22.750810623168945,
                    -10.138886451721191,
                    -15.213786125183105,
                    -10.28983211517334,
                    -27.89051055908203,
                    -9.008788108825684,
                    49.08269500732422,
                    -0.3429742753505707,
                    24.55162811279297,
                    23.541629791259766,
                    -6.17987060546875,
                    22.488876342773438,
                    -5.50517463684082,
                    -6.95412540435791,
                    36.12122344970703,
                    14.20069694519043,
                    54.9901008605957,
                    40.50397491455078,
                    -25.82622528076172,
                    40.829010009765625,
                    35.921627044677734,
                    38.88108825683594,
                    41.304107666015625,
                    30.339599609375,
                    30.65018653869629,
                    32.27397537231445,
                    29.122163772583008,
                    38.518890380859375,
                    27.142438888549805,
                    23.681873321533203,
                    29.149959564208984,
                    40.51280975341797,
                    49.517948150634766,
                    29.45934295654297,
                    18.561248779296875,
                    46.40876770019531,
                    -34.909305572509766,
                    -14.268234252929688,
                    -28.2097110748291,
                    -1.4120771884918213,
                    -25.867996215820312,
                    -21.721038818359375,
                    -14.070158004760742,
                    36.22170639038086,
                    -45.16748046875,
                    62.43655014038086,
                    20.74112319946289,
                    5.354857444763184,
                    20.509790420532227,
                    -37.56589889526367,
                    -40.908287048339844,
                    -1.4775267839431763,
                    -25.106271743774414,
                    31.764142990112305,
                    7.737427234649658,
                    53.83961868286133,
                    16.411550521850586,
                    -31.767414093017578,
                    3.7937583923339844,
                    10.653823852539062,
                    -18.08394432067871,
                    34.2420768737793,
                    -31.231054306030273,
                    14.077884674072266,
                    -38.09172439575195,
                    29.688968658447266,
                    -8.10227108001709,
                    -8.730541229248047,
                    -7.411975383758545,
                    20.62575912475586,
                    15.042059898376465,
                    -15.29030704498291,
                    14.928150177001953,
                    -40.300594329833984,
                    21.554962158203125,
                    53.880027770996094,
                    35.261722564697266,
                    12.440312385559082,
                    12.141905784606934,
                    -27.515779495239258,
                    8.878727912902832,
                    21.585424423217773,
                    -51.560142517089844,
                    -14.280607223510742,
                    0.026434900239109993,
                    9.136786460876465,
                    33.38853073120117,
                    29.781599044799805,
                    1.5873966217041016,
                    1.2123538255691528,
                    -39.50533676147461,
                    -3.7818543910980225,
                    12.734016418457031,
                    -5.747062683105469,
                    11.713224411010742,
                    -28.065292358398438,
                    2.1180808544158936,
                    19.90587043762207,
                    11.8262939453125,
                    26.337730407714844,
                    22.81265640258789,
                    54.04551696777344,
                    37.42619323730469,
                    -6.947136878967285,
                    6.2058844566345215,
                    58.05603790283203,
                    26.762144088745117,
                    16.167842864990234,
                    8.888650894165039,
                    27.37065315246582,
                    3.356022834777832,
                    -52.6484489440918,
                    -26.561294555664062,
                    -6.460947513580322,
                    37.237361907958984,
                    13.030451774597168
                  ],
                  "xaxis": "x",
                  "y": [
                    5.986850738525391,
                    20.9566593170166,
                    -16.979459762573242,
                    -17.32984733581543,
                    -19.443618774414062,
                    12.110501289367676,
                    -63.45320129394531,
                    -70.41744232177734,
                    21.357336044311523,
                    9.206364631652832,
                    -7.79179048538208,
                    65.32888793945312,
                    66.39032745361328,
                    7.391261100769043,
                    25.448270797729492,
                    7.292079448699951,
                    5.148453712463379,
                    -27.403749465942383,
                    30.992929458618164,
                    40.961158752441406,
                    1.1840167045593262,
                    -9.832335472106934,
                    -28.8550968170166,
                    -19.106550216674805,
                    70.60643005371094,
                    -28.400671005249023,
                    -21.528390884399414,
                    -20.123214721679688,
                    -9.332099914550781,
                    -28.387861251831055,
                    -12.130939483642578,
                    -25.245296478271484,
                    -47.47221374511719,
                    -41.32944869995117,
                    2.990567684173584,
                    29.763803482055664,
                    -11.714394569396973,
                    22.71257972717285,
                    -9.793474197387695,
                    -49.721736907958984,
                    8.725499153137207,
                    -43.569969177246094,
                    63.458091735839844,
                    -33.34846496582031,
                    77.44719696044922,
                    22.879247665405273,
                    -32.31151580810547,
                    -15.216299057006836,
                    -50.942718505859375,
                    -46.88092803955078,
                    68.01468658447266,
                    68.04498291015625,
                    -35.9871826171875,
                    71.5674057006836,
                    -18.979143142700195,
                    -35.42547607421875,
                    -20.221479415893555,
                    -27.970842361450195,
                    -0.02388070710003376,
                    5.143953800201416,
                    -61.55463790893555,
                    3.679567813873291,
                    -13.367192268371582,
                    -35.953224182128906,
                    -3.638906478881836,
                    -15.084278106689453,
                    -25.8172664642334,
                    8.22684097290039,
                    -69.15697479248047,
                    11.055587768554688,
                    24.13246726989746,
                    28.94390869140625,
                    5.297832489013672,
                    60.506412506103516,
                    -20.052467346191406,
                    8.373934745788574,
                    8.444656372070312,
                    36.36328887939453,
                    21.945573806762695,
                    8.352884292602539,
                    3.5701797008514404,
                    -50.6224250793457,
                    -3.2980868816375732,
                    12.577832221984863,
                    8.196798324584961,
                    -3.986335277557373,
                    -6.429781436920166,
                    23.052705764770508,
                    57.907997131347656,
                    -1.8768497705459595,
                    62.591609954833984,
                    4.959513187408447,
                    12.388861656188965,
                    13.43489933013916,
                    2.5410919189453125,
                    21.45981216430664,
                    54.24517822265625,
                    -12.955092430114746,
                    2.108807325363159,
                    63.30998229980469,
                    2.1473047733306885,
                    -21.074953079223633,
                    -19.80059051513672,
                    -15.259526252746582,
                    -2.545713186264038,
                    5.114853382110596,
                    -22.083599090576172,
                    -25.37948226928711,
                    -12.919896125793457,
                    -27.34756851196289,
                    -27.416791915893555,
                    64.59275817871094,
                    22.809606552124023,
                    -2.9626011848449707,
                    47.507957458496094,
                    57.02616500854492,
                    -24.912395477294922,
                    -49.5136833190918,
                    44.46176528930664,
                    10.380453109741211,
                    0.9725359082221985,
                    -51.75927734375,
                    -24.584991455078125,
                    -18.53706932067871,
                    -22.03173065185547,
                    -55.31770706176758,
                    -35.28764724731445,
                    -32.332759857177734,
                    -17.031204223632812,
                    -28.974727630615234,
                    67.56535339355469,
                    15.98839282989502,
                    -15.611577987670898,
                    -14.330681800842285,
                    -17.988433837890625,
                    -3.242476224899292,
                    30.178808212280273,
                    -70.55168151855469,
                    34.166900634765625,
                    28.39934730529785,
                    -13.543684005737305,
                    -73.66287231445312,
                    75.49634552001953,
                    66.60938262939453,
                    3.55481219291687,
                    5.1330413818359375,
                    3.5224807262420654,
                    24.13263702392578,
                    -47.11140823364258,
                    31.6868839263916,
                    72.70844268798828,
                    31.668607711791992,
                    6.498111724853516,
                    -19.624696731567383,
                    14.798521995544434,
                    56.399845123291016,
                    -33.88119125366211,
                    1.8121548891067505,
                    -39.201839447021484,
                    72.669677734375,
                    -0.7567039132118225,
                    18.25349235534668,
                    9.62508773803711,
                    43.77463150024414,
                    -41.9160270690918,
                    7.7860589027404785,
                    13.779078483581543,
                    -29.632314682006836,
                    -30.22560691833496,
                    64.81729125976562,
                    -15.577159881591797,
                    -46.644718170166016,
                    62.37938690185547,
                    2.586245059967041,
                    -21.23328399658203,
                    5.551755428314209,
                    71.50642395019531,
                    -10.593169212341309,
                    -34.498104095458984,
                    -8.818414688110352,
                    -16.698740005493164,
                    5.572701930999756,
                    -5.352794170379639,
                    55.43697738647461,
                    -0.42278826236724854,
                    -33.6248779296875,
                    52.362205505371094,
                    69.52851867675781,
                    -65.40140533447266,
                    -18.06128692626953,
                    -1.8660167455673218,
                    12.390628814697266,
                    7.282920837402344,
                    11.771854400634766,
                    66.107421875,
                    0.533653974533081,
                    20.391231536865234,
                    25.219640731811523,
                    2.365910768508911,
                    7.52592658996582,
                    -3.8936848640441895,
                    11.013336181640625,
                    -39.251853942871094,
                    52.801658630371094,
                    -74.439208984375,
                    -12.48607349395752,
                    -44.176414489746094,
                    -43.78329849243164,
                    12.445550918579102,
                    45.321964263916016,
                    6.532001495361328,
                    -21.45589828491211,
                    -20.82504653930664,
                    -33.25269317626953,
                    69.32599639892578,
                    -26.161396026611328,
                    -30.73912811279297,
                    29.722763061523438,
                    23.848121643066406,
                    39.12075424194336,
                    24.71938133239746,
                    15.6367769241333,
                    -8.072919845581055,
                    6.335784912109375,
                    77.06265258789062,
                    9.353273391723633,
                    -42.84078598022461,
                    -42.743587493896484,
                    -44.66241455078125,
                    -25.839191436767578,
                    -33.53364944458008,
                    -21.144939422607422,
                    -21.393972396850586,
                    -27.88831329345703,
                    17.700435638427734,
                    -48.65330123901367,
                    -22.752988815307617,
                    -4.096841812133789,
                    5.401788234710693,
                    -68.65718078613281,
                    -62.609375,
                    -67.68389129638672,
                    4.8148040771484375,
                    1.7688220739364624,
                    3.9667179584503174,
                    15.71318531036377,
                    -0.5717734098434448,
                    -18.771774291992188,
                    3.7409238815307617,
                    -2.75077748298645,
                    -29.252342224121094,
                    63.96646499633789,
                    7.282153606414795,
                    -0.1559092253446579,
                    17.90787696838379,
                    -12.837292671203613,
                    1.117261528968811,
                    -28.293285369873047,
                    -73.09906768798828,
                    -71.72594451904297,
                    -75.91131591796875,
                    13.934252738952637,
                    15.414566993713379,
                    -11.168370246887207,
                    -19.379364013671875,
                    -5.619792461395264,
                    -62.5479736328125,
                    -65.02279663085938,
                    -20.64057159423828,
                    79.61990356445312,
                    -6.102341651916504,
                    -0.970849335193634,
                    -2.5821728706359863,
                    23.46961784362793,
                    -6.308730602264404,
                    0.15622849762439728,
                    10.481661796569824,
                    6.517248630523682,
                    60.7148323059082,
                    66.29953002929688,
                    -21.314525604248047,
                    73.41148376464844,
                    6.509884834289551,
                    14.912352561950684,
                    21.820051193237305,
                    72.91121673583984,
                    14.940608978271484,
                    54.32399368286133,
                    22.607345581054688,
                    -11.211284637451172,
                    9.429067611694336,
                    -22.640079498291016,
                    -51.277130126953125,
                    -45.394309997558594,
                    26.837932586669922,
                    11.83091926574707,
                    -16.024423599243164,
                    -13.939610481262207,
                    42.26079559326172,
                    -14.382773399353027,
                    -9.420572280883789,
                    62.50075149536133,
                    21.745527267456055,
                    69.77491760253906,
                    60.63151931762695,
                    15.946974754333496,
                    -1.2535046339035034,
                    20.654619216918945,
                    -66.97052001953125,
                    2.018338918685913,
                    -2.2773854732513428,
                    26.605627059936523,
                    2.521061897277832,
                    20.42279815673828,
                    29.59955596923828,
                    49.6318359375,
                    6.578103065490723,
                    64.28639221191406,
                    -27.367305755615234,
                    -25.933794021606445,
                    -32.7302131652832,
                    -31.025602340698242,
                    4.811605930328369,
                    -17.392498016357422,
                    -18.860767364501953,
                    -31.62264060974121,
                    28.52768898010254,
                    -21.576152801513672,
                    -23.98935317993164,
                    -20.98099708557129,
                    -43.183204650878906,
                    -40.73756790161133,
                    -36.91945266723633,
                    -6.369107723236084,
                    73.43074798583984,
                    70.08868408203125,
                    -22.870685577392578,
                    -8.988199234008789,
                    -21.75845718383789,
                    5.60289192199707,
                    -59.39255142211914,
                    -23.059003829956055,
                    -18.275230407714844,
                    -19.009458541870117,
                    -15.252565383911133,
                    -58.50998306274414,
                    6.338793754577637,
                    -22.69911003112793,
                    5.585084915161133,
                    -1.9847687482833862,
                    -47.48816680908203,
                    14.603693962097168,
                    52.8864860534668,
                    42.1752815246582,
                    -12.357707023620605,
                    2.095792293548584,
                    4.745299816131592,
                    70.48310852050781,
                    24.218887329101562,
                    -36.49208450317383,
                    6.126969814300537,
                    13.615354537963867,
                    13.447975158691406,
                    2.9864416122436523,
                    15.52661418914795,
                    70.60645294189453,
                    56.568748474121094,
                    17.399030685424805,
                    -52.712608337402344,
                    -28.642208099365234,
                    -17.12909507751465,
                    12.194657325744629,
                    -37.33213806152344,
                    -71.12057495117188,
                    -55.54345703125,
                    -35.77532958984375,
                    51.33085250854492,
                    64.83889770507812,
                    21.46499252319336,
                    74.69173431396484,
                    17.399080276489258,
                    64.40701293945312,
                    45.359230041503906,
                    32.49433517456055,
                    -0.22865979373455048,
                    -29.910619735717773,
                    67.0063705444336,
                    7.523932456970215,
                    65.67118072509766,
                    -11.02897834777832,
                    18.526790618896484,
                    -18.52418327331543,
                    24.692049026489258,
                    -50.998905181884766,
                    3.5668959617614746,
                    19.93012046813965,
                    -44.8538818359375,
                    39.804996490478516,
                    -23.927820205688477,
                    21.236831665039062,
                    8.508959770202637,
                    -18.000835418701172,
                    21.09772300720215,
                    -38.98057174682617,
                    7.618402481079102,
                    -32.30697250366211,
                    5.249492168426514,
                    3.220431089401245,
                    10.511995315551758,
                    21.044137954711914,
                    52.33429718017578,
                    0.7844175100326538,
                    -35.08502960205078,
                    8.461745262145996,
                    0.22424161434173584,
                    -0.4383111298084259,
                    -35.7093505859375,
                    -60.998626708984375,
                    75.73921203613281,
                    1.9787794351577759,
                    4.858621597290039,
                    4.357987403869629,
                    -4.934662342071533,
                    14.82630443572998,
                    -17.873184204101562,
                    -39.60476303100586,
                    -30.832473754882812,
                    -15.855631828308105,
                    55.734771728515625,
                    68.93814086914062,
                    22.717496871948242,
                    8.663026809692383,
                    -16.848726272583008,
                    56.04624938964844,
                    -17.950849533081055,
                    -13.072450637817383,
                    -7.421228408813477,
                    -22.341049194335938,
                    62.59885025024414,
                    -72.96204376220703,
                    6.890266418457031,
                    -34.014610290527344,
                    -5.133546352386475,
                    3.5690271854400635,
                    54.86763000488281,
                    48.44705581665039,
                    -32.134517669677734,
                    61.93195724487305,
                    -38.389366149902344,
                    -26.43651008605957,
                    3.1663012504577637,
                    25.875450134277344,
                    14.963306427001953,
                    -62.531803131103516,
                    -35.72111511230469,
                    -16.524526596069336,
                    -30.471847534179688,
                    17.791973114013672,
                    -23.025861740112305,
                    29.82042694091797,
                    -24.240266799926758,
                    15.682388305664062,
                    -73.77893829345703,
                    1.342747688293457,
                    -16.07476234436035,
                    -14.635132789611816,
                    -68.11384582519531,
                    -11.78589153289795,
                    60.74506378173828,
                    -32.88069152832031,
                    -22.245346069335938,
                    4.216519832611084,
                    35.31001281738281,
                    -13.489421844482422,
                    -13.494603157043457,
                    -20.086523056030273,
                    64.45658874511719,
                    -23.005836486816406,
                    6.292990684509277,
                    -50.4356575012207,
                    -26.435503005981445,
                    -61.675533294677734,
                    -21.226490020751953,
                    30.016599655151367,
                    -26.734750747680664,
                    -52.846248626708984,
                    -10.839729309082031,
                    49.5211067199707,
                    -18.28594970703125,
                    -0.6038616895675659,
                    -21.99197006225586,
                    -5.671494483947754,
                    -21.666784286499023,
                    16.704666137695312,
                    -10.066839218139648,
                    -6.545292854309082,
                    -24.95145606994629,
                    -27.990373611450195,
                    -24.93535041809082,
                    21.205326080322266,
                    -56.42048645019531,
                    4.212579250335693,
                    2.3814098834991455,
                    23.461244583129883,
                    -22.734394073486328,
                    61.35740661621094,
                    2.3018693923950195,
                    -1.9611934423446655,
                    5.863920211791992,
                    -22.16657257080078,
                    -21.173744201660156,
                    -21.170337677001953,
                    -30.936182022094727,
                    29.94371795654297,
                    8.662956237792969,
                    52.07720184326172,
                    2.5430655479431152,
                    13.026124954223633,
                    25.67970085144043,
                    12.223855018615723,
                    0.23292866349220276,
                    -15.383816719055176,
                    -28.598003387451172,
                    73.3616943359375,
                    -20.778518676757812,
                    -22.689311981201172,
                    64.1977767944336,
                    56.03925704956055,
                    -43.94791793823242,
                    62.55583572387695,
                    -23.98160743713379,
                    24.761985778808594,
                    -7.082167148590088,
                    -72.71118927001953,
                    54.94462966918945,
                    67.66065979003906,
                    0.8839852809906006,
                    12.314874649047852,
                    -1.8625051975250244,
                    -74.16358184814453,
                    -4.983706474304199,
                    -0.43069830536842346,
                    -73.26441955566406,
                    65.407958984375,
                    -23.209423065185547,
                    -0.013716574758291245,
                    -56.04066848754883,
                    -55.825218200683594,
                    -65.77161407470703,
                    -36.78696823120117,
                    -50.79027557373047,
                    58.03158950805664,
                    -3.2885279655456543,
                    31.649003982543945,
                    -15.664685249328613,
                    24.955974578857422,
                    -41.13296890258789,
                    -43.05022430419922,
                    6.747567653656006,
                    15.260919570922852,
                    -11.809296607971191,
                    -13.528043746948242,
                    6.138808250427246,
                    39.402244567871094,
                    15.771682739257812,
                    65.70109558105469,
                    -21.474905014038086,
                    19.580110549926758,
                    -27.375961303710938,
                    -6.039394855499268,
                    14.111178398132324,
                    -17.73615264892578,
                    6.138803005218506,
                    -7.962055683135986,
                    -62.54855728149414,
                    4.011632442474365,
                    -76.29811096191406,
                    3.56656813621521,
                    -30.810474395751953,
                    -7.854541778564453,
                    58.502960205078125,
                    -16.563735961914062,
                    -22.9429988861084,
                    -16.05462074279785,
                    4.016561985015869,
                    -70.4687728881836,
                    -23.31492805480957,
                    -12.382102966308594,
                    -17.292129516601562,
                    2.6294097900390625,
                    -22.736053466796875,
                    -14.900923728942871,
                    -21.73125457763672,
                    1.6836374998092651,
                    -21.47553253173828,
                    -70.7795181274414,
                    14.399602890014648,
                    3.968350648880005,
                    -16.600250244140625,
                    -47.48860549926758,
                    -12.291797637939453,
                    67.36567687988281,
                    12.476675033569336,
                    25.359542846679688,
                    53.743324279785156,
                    -46.90156936645508,
                    -9.149191856384277,
                    3.52591609954834,
                    -21.890901565551758,
                    -26.78329086303711,
                    67.38933563232422,
                    -24.323884963989258,
                    -24.603010177612305,
                    -17.981769561767578,
                    -40.00753402709961,
                    -39.43360137939453,
                    -27.437774658203125,
                    -4.137205600738525,
                    -35.35325622558594,
                    21.50548553466797,
                    -19.107370376586914,
                    66.9012680053711,
                    -40.29896545410156,
                    -32.49660873413086,
                    -4.961711406707764,
                    54.972408294677734,
                    59.358642578125,
                    -68.89134216308594,
                    31.591432571411133,
                    -5.008586883544922,
                    63.16633987426758,
                    -5.308919429779053,
                    -20.1505126953125,
                    -1.1139342784881592,
                    -19.437110900878906,
                    26.220142364501953,
                    -6.220617771148682,
                    -15.707098007202148,
                    -8.445235252380371,
                    -2.5187666416168213,
                    -17.396760940551758,
                    -34.39455795288086,
                    -30.90814208984375,
                    0.11549998819828033,
                    -22.821121215820312,
                    57.65309524536133,
                    -38.57381820678711,
                    -6.710627555847168,
                    -13.983780860900879,
                    17.264230728149414,
                    -12.753971099853516,
                    -37.85683059692383,
                    -18.94659996032715,
                    57.108036041259766,
                    -2.9073538780212402,
                    -9.356792449951172,
                    -32.921470642089844,
                    1.2208653688430786,
                    -29.579477310180664,
                    5.11463737487793,
                    -56.43138885498047,
                    -7.354034423828125,
                    -31.593158721923828,
                    -40.19621276855469,
                    6.3806562423706055,
                    5.596691131591797,
                    -3.7191317081451416,
                    -2.5157699584960938,
                    13.143631935119629,
                    13.43729019165039,
                    -2.3077690601348877,
                    42.3128547668457,
                    0.9354991316795349,
                    13.032984733581543,
                    18.007583618164062,
                    19.09726905822754,
                    16.11224937438965,
                    20.768714904785156,
                    -15.20301342010498,
                    -2.357541084289551,
                    15.348159790039062,
                    9.9293212890625,
                    13.264793395996094,
                    19.7634334564209,
                    3.886340618133545,
                    40.30101776123047,
                    2.369415044784546,
                    -3.049607515335083,
                    -2.801131248474121,
                    6.816590785980225,
                    -7.210953235626221,
                    -25.841035842895508,
                    -66.91162872314453,
                    0.0219267550855875,
                    -50.421539306640625,
                    -30.906213760375977,
                    -16.3690242767334,
                    44.62356185913086,
                    24.070180892944336,
                    34.53127670288086,
                    27.732873916625977,
                    71.54833984375,
                    30.794294357299805,
                    -2.797644853591919,
                    -45.94439697265625,
                    21.464975357055664,
                    -66.46037292480469,
                    -62.88154220581055,
                    -2.4884586334228516,
                    -60.33984375,
                    8.14756965637207,
                    70.62871551513672,
                    18.850778579711914,
                    6.9131951332092285,
                    25.515478134155273,
                    -12.10659122467041,
                    -71.92750549316406,
                    -7.022549629211426,
                    7.661828994750977,
                    6.938198566436768,
                    -35.25894546508789,
                    -16.736652374267578,
                    17.007980346679688,
                    2.2730231285095215,
                    -4.89661979675293,
                    -0.21603325009346008,
                    17.340682983398438,
                    -5.787477016448975,
                    -11.753873825073242,
                    -15.095833778381348,
                    25.665292739868164,
                    -44.54771423339844,
                    -45.32884979248047,
                    6.871735095977783,
                    -29.71393394470215,
                    26.74110984802246,
                    7.708866119384766,
                    15.335512161254883,
                    -34.758636474609375,
                    -8.067098617553711,
                    -30.849782943725586,
                    -34.21272277832031,
                    -8.901887893676758,
                    -35.707427978515625,
                    -19.33720588684082,
                    -50.05089569091797,
                    -34.920291900634766,
                    -31.487594604492188,
                    -26.889034271240234,
                    -21.276891708374023,
                    -15.418853759765625,
                    -19.071735382080078,
                    66.91320037841797,
                    -11.214951515197754,
                    63.51730728149414,
                    -30.426496505737305,
                    32.095237731933594,
                    -1.643701195716858,
                    -74.16458129882812,
                    -4.179767608642578,
                    -43.53944778442383,
                    -30.08341407775879,
                    -32.01111602783203,
                    -49.84760665893555,
                    -45.6157341003418,
                    -47.1897087097168,
                    -51.597198486328125,
                    -46.482234954833984,
                    65.06462097167969,
                    65.16378021240234,
                    -47.405738830566406,
                    -50.96888732910156,
                    -16.83216094970703,
                    -29.969812393188477,
                    -46.642967224121094,
                    -44.91727066040039,
                    -51.18757247924805,
                    18.38330078125,
                    -19.284955978393555,
                    -22.431793212890625,
                    5.300327301025391,
                    7.049640655517578,
                    -5.6970672607421875,
                    -19.63042640686035,
                    75.5680160522461,
                    75.67835235595703,
                    -4.862308502197266,
                    50.91345977783203,
                    58.60299301147461,
                    -66.03579711914062,
                    1.3438382148742676,
                    -1.6344544887542725,
                    -23.826692581176758,
                    -18.148086547851562,
                    -59.41263961791992,
                    8.74791145324707,
                    62.50701141357422,
                    3.6002297401428223,
                    21.565170288085938,
                    14.970104217529297,
                    28.595783233642578,
                    29.659460067749023,
                    -52.909629821777344,
                    -0.9786261320114136,
                    -10.225958824157715,
                    -44.777374267578125,
                    21.82628631591797,
                    10.319299697875977,
                    4.090362548828125,
                    10.31930923461914,
                    29.659467697143555,
                    -7.330867767333984,
                    -20.10610008239746,
                    -30.7768611907959,
                    -7.516484260559082,
                    -16.017515182495117,
                    18.82347869873047,
                    69.79878234863281,
                    22.8738956451416,
                    24.409259796142578,
                    11.022344589233398,
                    30.840187072753906,
                    63.773765563964844,
                    34.140357971191406,
                    71.65611267089844,
                    28.346195220947266,
                    -74.12130737304688,
                    -11.930587768554688,
                    61.953189849853516,
                    50.95489501953125,
                    1.5382953882217407,
                    -2.9476633071899414,
                    3.320779800415039,
                    19.646427154541016,
                    -4.251706123352051,
                    13.396316528320312,
                    6.156372547149658,
                    19.49998664855957,
                    -9.872188568115234,
                    17.840225219726562,
                    58.2454948425293,
                    -21.992172241210938,
                    60.68593978881836,
                    13.999485969543457,
                    42.10947799682617,
                    0.6517251133918762,
                    -6.180363178253174,
                    -66.92633056640625,
                    -31.87253761291504,
                    -33.301387786865234,
                    30.782316207885742,
                    28.966981887817383,
                    65.73155212402344,
                    -19.381099700927734,
                    -36.14565658569336,
                    67.36323547363281,
                    29.826505661010742,
                    65.42271423339844,
                    -62.20130920410156,
                    68.34505462646484,
                    68.8886489868164,
                    61.630821228027344,
                    -70.5943832397461,
                    19.023956298828125,
                    -38.14546585083008,
                    31.087295532226562,
                    -44.405094146728516,
                    25.968177795410156,
                    72.26551055908203,
                    10.136287689208984,
                    17.721105575561523,
                    6.304931163787842,
                    57.84357833862305,
                    67.78456115722656,
                    -8.783931732177734,
                    -34.290992736816406,
                    -24.625459671020508,
                    -19.18556022644043,
                    66.3805923461914,
                    8.51717472076416,
                    45.736087799072266,
                    57.32725143432617,
                    71.5039291381836,
                    26.739261627197266,
                    -37.70140075683594,
                    -25.983139038085938,
                    -7.718235969543457,
                    -48.06013488769531,
                    3.3591084480285645,
                    10.566872596740723,
                    66.61544036865234,
                    24.884756088256836,
                    8.412559509277344,
                    13.217016220092773,
                    61.61143493652344,
                    -56.11423110961914,
                    -43.272212982177734,
                    45.891605377197266,
                    -33.0316162109375,
                    23.558046340942383,
                    -9.193523406982422,
                    -42.346744537353516,
                    -76.3553237915039,
                    -30.45952796936035,
                    67.78361511230469,
                    26.778411865234375,
                    2.1414573192596436,
                    73.11351776123047,
                    61.18758773803711,
                    20.82728385925293,
                    -8.419281959533691,
                    -52.6178092956543,
                    52.03337478637695,
                    -47.24553680419922,
                    56.04290008544922,
                    26.74108123779297,
                    45.721893310546875,
                    57.6743278503418,
                    -33.57925033569336,
                    -34.12458038330078,
                    72.09549713134766,
                    -61.9178352355957,
                    63.43076705932617,
                    -21.192859649658203,
                    69.0850601196289,
                    71.3688735961914,
                    16.95540428161621,
                    55.814544677734375,
                    -76.90201568603516,
                    -27.049007415771484,
                    20.000263214111328,
                    12.82344913482666,
                    8.364044189453125,
                    -74.40240478515625,
                    -76.18701171875,
                    -38.2107048034668,
                    65.08260345458984,
                    -1.1736769676208496,
                    -29.193973541259766,
                    -35.51813507080078,
                    -26.680700302124023,
                    19.952308654785156,
                    -14.095657348632812,
                    72.66116333007812,
                    -43.606658935546875,
                    -51.48039627075195,
                    -29.650203704833984,
                    0.21024829149246216,
                    15.5210542678833,
                    70.1540298461914,
                    13.106810569763184,
                    -16.091970443725586,
                    25.749149322509766,
                    -31.42238426208496,
                    -14.460285186767578,
                    19.19061851501465,
                    16.738750457763672,
                    -17.30219268798828,
                    36.55459976196289,
                    -73.17750549316406,
                    47.06104278564453,
                    11.487144470214844,
                    13.77858829498291,
                    29.771413803100586,
                    11.201702117919922,
                    -54.897037506103516,
                    31.482423782348633,
                    79.28221893310547,
                    71.5770263671875,
                    12.151076316833496,
                    11.966740608215332,
                    60.469154357910156,
                    27.04136085510254,
                    15.988384246826172,
                    -5.299128532409668,
                    4.454176425933838,
                    -58.472679138183594,
                    24.13263702392578,
                    -42.26736831665039,
                    30.30224609375,
                    -15.012617111206055,
                    59.61119842529297,
                    17.441471099853516,
                    11.250784873962402,
                    16.983840942382812,
                    26.094058990478516,
                    59.244754791259766,
                    18.635494232177734,
                    66.84575653076172,
                    -18.39380645751953,
                    55.981048583984375,
                    22.86886215209961,
                    -12.191630363464355,
                    66.38111877441406,
                    3.4982399940490723,
                    50.36367416381836,
                    -20.677845001220703,
                    3.034038782119751,
                    29.30144691467285,
                    15.08896255493164,
                    -37.03892517089844,
                    -66.05792236328125,
                    5.770610809326172,
                    1.962228775024414,
                    3.1136152744293213,
                    -0.9359759092330933,
                    -46.37306594848633,
                    2.8692421913146973,
                    7.770424842834473,
                    -7.80369758605957,
                    -72.59178161621094,
                    -46.01046371459961,
                    1.057306170463562,
                    -2.065451145172119,
                    -24.859140396118164,
                    1.047383189201355,
                    14.09914493560791,
                    10.665749549865723,
                    -20.420719146728516,
                    -43.0871696472168,
                    -29.453325271606445,
                    -3.34625244140625,
                    -36.83833312988281,
                    -11.714126586914062,
                    53.060577392578125,
                    -31.197765350341797,
                    -7.098477840423584,
                    -30.32387924194336,
                    -57.35993576049805,
                    -29.532493591308594,
                    -33.06346130371094,
                    64.88890838623047,
                    -35.04500961303711,
                    27.879066467285156,
                    17.5347843170166,
                    17.816965103149414,
                    -43.49118423461914,
                    11.691513061523438,
                    -43.734230041503906,
                    -30.701990127563477,
                    -11.305667877197266,
                    73.47213745117188,
                    68.7886962890625,
                    28.08260726928711,
                    -0.34198588132858276,
                    -35.126285552978516,
                    -28.44889259338379,
                    -29.582433700561523,
                    6.548292636871338,
                    -17.64807891845703,
                    -24.291547775268555,
                    -10.942145347595215,
                    -73.1806869506836,
                    15.77724552154541,
                    0.8301922678947449,
                    -18.853172302246094,
                    2.538663625717163,
                    -22.38278579711914,
                    33.785614013671875,
                    16.282251358032227,
                    -13.721967697143555,
                    27.548912048339844,
                    65.02439880371094,
                    -48.927852630615234,
                    5.53853702545166,
                    -3.743713617324829,
                    -21.37591552734375,
                    -12.649215698242188,
                    -20.669878005981445,
                    7.747417449951172,
                    9.609426498413086,
                    -11.899715423583984,
                    69.94356536865234,
                    -21.483863830566406,
                    58.329708099365234,
                    71.22834014892578,
                    -32.5433464050293,
                    68.20230102539062,
                    -40.1229248046875,
                    -3.3437628746032715,
                    65.32196807861328,
                    -11.97592544555664,
                    5.383476734161377,
                    10.040074348449707,
                    79.26905059814453,
                    -16.827674865722656,
                    11.940321922302246,
                    74.50654602050781,
                    26.290735244750977,
                    -25.74827003479004,
                    57.96331787109375,
                    -12.978529930114746,
                    -14.301340103149414,
                    0.77854984998703,
                    -20.116064071655273,
                    29.390827178955078,
                    20.950584411621094,
                    6.1030473709106445,
                    57.4166374206543,
                    69.09632873535156,
                    -33.372528076171875,
                    64.2140884399414,
                    11.730242729187012,
                    -13.231404304504395,
                    5.250617980957031,
                    -36.2935791015625,
                    24.05121612548828,
                    30.68398666381836,
                    4.1656622886657715,
                    56.3070182800293,
                    24.051212310791016,
                    61.77008056640625,
                    27.771799087524414,
                    -2.0332255363464355,
                    50.179847717285156,
                    49.85158920288086,
                    51.64973449707031,
                    -48.13374710083008,
                    -3.9844186305999756,
                    -35.68244552612305,
                    34.47673797607422,
                    46.04249954223633,
                    1.7262451648712158,
                    -72.11112213134766,
                    67.2486801147461,
                    -0.6340994238853455,
                    73.03871154785156,
                    52.26773452758789,
                    6.262134075164795,
                    6.4127936363220215,
                    67.8333511352539,
                    64.01742553710938,
                    -50.94623947143555,
                    -34.8482666015625,
                    54.426300048828125,
                    -19.497037887573242,
                    51.63530349731445,
                    -57.069313049316406,
                    -22.82485580444336,
                    30.87796401977539,
                    2.9604694843292236,
                    -31.316984176635742,
                    -5.0435380935668945,
                    -32.91029739379883,
                    -19.568086624145508,
                    62.555660247802734,
                    -18.549745559692383,
                    46.21983337402344,
                    -3.002843141555786,
                    -65.53112030029297,
                    -42.70415115356445,
                    -17.351015090942383,
                    -12.977643013000488,
                    19.891939163208008,
                    -35.95261001586914,
                    -37.43584442138672,
                    19.4715518951416,
                    11.323990821838379,
                    39.02229690551758,
                    -37.293304443359375,
                    66.5982666015625,
                    -15.729270935058594,
                    6.922470569610596,
                    8.450485229492188,
                    -3.750375747680664,
                    -4.01085090637207,
                    -38.436683654785156,
                    44.22418212890625,
                    16.703222274780273,
                    1.717666506767273,
                    17.181100845336914,
                    65.5085220336914,
                    24.137012481689453,
                    -37.86660385131836,
                    10.273841857910156,
                    -9.47092342376709,
                    22.40569496154785,
                    22.989530563354492,
                    0.4604257643222809,
                    13.124492645263672,
                    -1.1075210571289062,
                    13.36877155303955,
                    5.254835605621338,
                    -45.839599609375,
                    -35.02648162841797,
                    0.10440107434988022,
                    8.064888000488281,
                    -9.319005012512207,
                    -38.48078155517578,
                    68.87126159667969,
                    27.750478744506836,
                    2.315905809402466,
                    -45.14468002319336,
                    32.95460891723633,
                    -14.866724967956543,
                    17.7992000579834,
                    -33.94651794433594,
                    -6.224796772003174,
                    -20.249935150146484,
                    -18.241254806518555,
                    -5.993717193603516,
                    -6.224794387817383,
                    14.975536346435547,
                    -23.42759132385254,
                    69.09139251708984,
                    68.78630065917969,
                    28.820289611816406,
                    5.450450420379639,
                    -9.453807830810547,
                    66.04769134521484,
                    -35.80039596557617,
                    -11.953948974609375,
                    15.892827033996582,
                    -72.58506774902344,
                    3.91192626953125,
                    12.81442642211914,
                    21.98700714111328,
                    4.562957763671875,
                    62.81715774536133,
                    -5.458340167999268,
                    3.409810781478882,
                    30.194957733154297,
                    -28.17454719543457,
                    -73.36512756347656,
                    20.283449172973633,
                    -11.052475929260254,
                    -13.056305885314941,
                    -2.911856174468994,
                    0.25725409388542175,
                    -17.30902671813965,
                    -24.084604263305664,
                    -30.84627342224121,
                    -14.162212371826172,
                    61.683536529541016,
                    -13.177082061767578,
                    32.07855224609375,
                    -9.616354942321777,
                    55.11327362060547,
                    7.360762119293213,
                    26.7410888671875,
                    -2.962618827819824,
                    13.218095779418945,
                    -20.948457717895508,
                    -45.666385650634766,
                    29.888633728027344,
                    25.584680557250977,
                    2.7614893913269043,
                    49.8000373840332,
                    54.46531295776367,
                    -50.44260787963867,
                    24.005651473999023,
                    12.973655700683594,
                    65.98722839355469,
                    46.12765121459961,
                    -67.26594543457031,
                    50.3750114440918,
                    11.031160354614258,
                    12.275775909423828,
                    0.17176514863967896,
                    4.27010440826416,
                    -13.54538345336914,
                    -0.5924563407897949,
                    28.559852600097656,
                    52.82984924316406,
                    -7.314225673675537,
                    -6.657399654388428,
                    1.0927170515060425,
                    -5.290952205657959,
                    3.2369158267974854,
                    3.6091294288635254,
                    -3.2149760723114014,
                    10.950831413269043,
                    7.094541072845459,
                    30.732027053833008,
                    13.915258407592773,
                    29.91957664489746,
                    15.098670959472656,
                    14.730002403259277,
                    61.83201217651367,
                    -68.4078598022461,
                    -51.941768646240234,
                    76.8439712524414,
                    -65.34420776367188,
                    -24.2081356048584,
                    73.41152954101562,
                    -19.96510124206543,
                    32.10247039794922,
                    -41.311092376708984,
                    -18.183177947998047,
                    -9.232918739318848,
                    -19.3715763092041,
                    -38.11027908325195,
                    14.419734001159668,
                    18.15288543701172,
                    -10.285669326782227,
                    8.75635814666748,
                    31.762969970703125,
                    63.67393112182617,
                    32.74824142456055,
                    31.230648040771484,
                    66.33680725097656,
                    10.100342750549316,
                    -17.47526741027832,
                    -27.22724151611328,
                    -66.62263488769531,
                    16.617637634277344,
                    -19.78070068359375,
                    -34.385650634765625,
                    6.080382347106934,
                    -29.700706481933594,
                    4.325693130493164,
                    74.33039093017578,
                    -23.275732040405273,
                    55.385711669921875,
                    -1.495540738105774,
                    16.75581932067871,
                    -11.98118782043457,
                    -12.259973526000977,
                    -48.23824691772461,
                    -20.642223358154297,
                    62.61830139160156,
                    30.855220794677734,
                    -22.832687377929688,
                    4.3418965339660645,
                    -28.793210983276367,
                    -20.274242401123047,
                    75.3135757446289,
                    67.49305725097656,
                    -22.10626983642578,
                    58.632835388183594,
                    32.18706130981445,
                    75.31411743164062,
                    -2.0353729724884033,
                    -48.02227020263672,
                    66.30055236816406,
                    61.37558364868164,
                    -13.192619323730469,
                    15.730175971984863,
                    -11.28354263305664,
                    67.95986938476562,
                    -43.608642578125,
                    -44.769832611083984,
                    68.33126831054688,
                    74.81072998046875,
                    66.51990509033203,
                    -27.111501693725586,
                    -68.65839385986328,
                    48.430702209472656,
                    -10.586371421813965,
                    39.41640090942383,
                    48.47850799560547,
                    28.099376678466797,
                    33.424381256103516,
                    57.06821060180664,
                    -28.91478157043457,
                    -25.5026912689209,
                    52.72429656982422,
                    -33.535823822021484,
                    -29.01161003112793,
                    54.64096450805664,
                    -22.185951232910156,
                    -38.18764877319336,
                    29.146190643310547,
                    -50.44057083129883,
                    32.77254104614258,
                    37.4434700012207,
                    9.3811616897583,
                    60.65864562988281,
                    20.131147384643555,
                    -12.693331718444824,
                    2.445549726486206,
                    -5.991278171539307,
                    9.622312545776367,
                    -0.3092338442802429,
                    14.872652053833008,
                    27.590682983398438,
                    -18.024133682250977,
                    -40.32010269165039,
                    14.787699699401855,
                    14.278326034545898,
                    -72.35540008544922,
                    0.23963628709316254,
                    9.614561080932617,
                    20.153873443603516,
                    3.2520644664764404,
                    64.4140625,
                    -60.81620788574219,
                    -6.714312553405762,
                    -28.606813430786133,
                    14.749329566955566,
                    13.45299243927002,
                    0.9032292366027832,
                    -16.6765193939209,
                    -17.70225715637207,
                    -43.89008712768555,
                    -42.67362594604492,
                    17.071613311767578,
                    -19.83944320678711,
                    -39.94392776489258,
                    -9.727987289428711,
                    -34.01995849609375,
                    67.37319946289062,
                    -2.6060991287231445,
                    -1.326095700263977,
                    -27.033203125,
                    -72.5881118774414,
                    -18.25811195373535,
                    -39.176048278808594,
                    -71.24725341796875,
                    22.858972549438477,
                    3.410325288772583,
                    3.6393589973449707,
                    9.39616870880127,
                    -1.786284327507019,
                    14.151540756225586,
                    -0.6473061442375183,
                    -67.98435974121094,
                    21.145381927490234,
                    -23.501041412353516,
                    -38.29148483276367,
                    -38.380043029785156,
                    -30.365066528320312,
                    -26.268678665161133,
                    -43.1224479675293,
                    0.4687674939632416,
                    25.007986068725586,
                    -64.2796859741211,
                    64.44933319091797,
                    28.886926651000977,
                    -75.71881103515625,
                    -49.020164489746094,
                    -7.451348304748535,
                    -4.3347697257995605,
                    66.90140533447266,
                    15.014836311340332,
                    12.519412994384766,
                    19.310352325439453,
                    21.556522369384766,
                    29.40465545654297,
                    -68.8913345336914,
                    -12.985902786254883,
                    -1.1108863353729248,
                    28.768939971923828,
                    24.53684425354004,
                    -2.0209293365478516,
                    -73.73945617675781,
                    6.7286272048950195,
                    -15.530778884887695,
                    18.80034828186035,
                    -13.393865585327148,
                    16.37831687927246,
                    2.5301177501678467,
                    -0.05166244134306908,
                    -19.667871475219727,
                    -10.739465713500977,
                    60.998817443847656,
                    -26.8853759765625,
                    8.262290000915527,
                    -25.140552520751953,
                    67.37384796142578,
                    53.52007293701172,
                    17.74993133544922,
                    -34.300357818603516,
                    -18.400012969970703,
                    48.220027923583984,
                    -24.933990478515625,
                    80.86064147949219,
                    -63.566749572753906,
                    20.934627532958984,
                    -21.738168716430664,
                    -21.19629669189453,
                    9.589003562927246,
                    7.525218963623047,
                    11.564160346984863,
                    -22.959997177124023,
                    0.7683651447296143,
                    14.691214561462402,
                    -35.402034759521484,
                    -30.960548400878906,
                    74.94815063476562,
                    -36.66213607788086,
                    -32.84714889526367,
                    -73.17282104492188,
                    -34.34904479980469,
                    -4.855065822601318,
                    -11.807222366333008,
                    -33.021202087402344,
                    -43.2385139465332,
                    -32.07461166381836,
                    -38.365745544433594,
                    26.39565086364746,
                    61.835384368896484,
                    -3.728070020675659,
                    0.5117270946502686,
                    31.379051208496094,
                    -28.42461395263672,
                    1.6114226579666138,
                    -0.20605581998825073,
                    -34.523529052734375,
                    25.90964126586914,
                    76.15374755859375,
                    -5.543480396270752,
                    3.7745468616485596,
                    -20.26400375366211,
                    -21.856855392456055,
                    4.820650100708008,
                    14.692214012145996,
                    28.68048667907715,
                    19.898229598999023,
                    -62.84470748901367,
                    -15.771541595458984,
                    6.4423828125,
                    22.22928237915039,
                    54.79704284667969,
                    3.9808554649353027,
                    -26.015365600585938,
                    8.495957374572754,
                    76.90198516845703,
                    13.855633735656738,
                    -4.793580532073975,
                    7.2138895988464355,
                    -8.021787643432617,
                    10.379201889038086,
                    -6.3785200119018555,
                    47.246177673339844,
                    -19.978008270263672,
                    -11.712163925170898,
                    -18.60154151916504,
                    26.87269401550293,
                    -2.0070104598999023,
                    -18.524755477905273,
                    24.09174156188965,
                    21.11749267578125,
                    31.54083251953125,
                    -21.990386962890625,
                    23.472522735595703,
                    -28.62258529663086,
                    -60.80624771118164,
                    1.467705488204956,
                    -21.335617065429688,
                    -38.351600646972656,
                    3.097837448120117,
                    -16.042438507080078,
                    28.018877029418945,
                    66.9012451171875,
                    -30.5644474029541,
                    39.02531814575195,
                    15.90247917175293,
                    -6.172015190124512,
                    62.73093795776367,
                    63.5593376159668,
                    61.432857513427734,
                    -4.851167678833008,
                    -22.965560913085938,
                    59.9865608215332,
                    -1.8878726959228516,
                    -43.917110443115234,
                    -4.521668910980225,
                    2.968989372253418,
                    3.8711581230163574,
                    -3.7021541595458984,
                    3.0190529823303223,
                    5.094529151916504,
                    19.410886764526367,
                    20.003524780273438,
                    20.933345794677734,
                    5.596700668334961,
                    29.420394897460938,
                    -36.529052734375,
                    44.46129608154297,
                    8.340789794921875,
                    8.340790748596191,
                    75.60169982910156,
                    17.969608306884766,
                    -0.50291508436203,
                    8.255434036254883,
                    41.647132873535156,
                    0.345035195350647,
                    -4.04838752746582,
                    16.094884872436523,
                    26.035253524780273,
                    -2.3269076347351074,
                    -2.23003888130188,
                    76.03652954101562,
                    -24.658374786376953,
                    -3.984340190887451,
                    52.82130813598633,
                    6.072596549987793,
                    16.461658477783203,
                    -28.424619674682617,
                    -0.5212997794151306,
                    -0.711695671081543,
                    -28.424619674682617,
                    -3.9776546955108643,
                    42.804595947265625,
                    65.42987823486328,
                    29.54258918762207,
                    -5.253338813781738,
                    15.136582374572754,
                    4.170322895050049,
                    67.0036392211914,
                    69.38797760009766,
                    -5.327105522155762,
                    12.750818252563477,
                    30.06817626953125,
                    56.05356979370117,
                    -17.272262573242188,
                    -35.768795013427734,
                    57.46327590942383,
                    -17.5426082611084,
                    -18.135696411132812,
                    -29.053083419799805,
                    67.45848846435547,
                    -26.384174346923828,
                    1.7731454372406006,
                    16.996610641479492,
                    69.92130279541016,
                    62.20663833618164,
                    2.9371471405029297,
                    -30.220123291015625,
                    -29.752971649169922,
                    -29.80847930908203,
                    -16.453794479370117,
                    -1.9878628253936768,
                    -11.087254524230957,
                    -4.568935871124268,
                    7.508852481842041,
                    -0.515022873878479,
                    14.268048286437988,
                    17.633808135986328,
                    0.28644707798957825,
                    21.03937339782715,
                    12.750931739807129,
                    -33.36278533935547,
                    -20.322509765625,
                    -6.483598709106445,
                    -4.475649356842041,
                    -10.92272663116455,
                    -10.922941207885742,
                    -9.871363639831543,
                    45.02654266357422,
                    12.750829696655273,
                    -17.273235321044922,
                    -11.16417407989502,
                    5.337004661560059,
                    -5.992486476898193,
                    -7.286691665649414,
                    -28.533710479736328,
                    -10.316304206848145,
                    57.12298583984375,
                    -64.7752456665039,
                    39.647708892822266,
                    16.82366943359375,
                    1.5925112962722778,
                    51.4284553527832,
                    -18.75579833984375,
                    21.501522064208984,
                    20.399181365966797,
                    -7.705462455749512,
                    -17.97125244140625,
                    18.399274826049805,
                    -30.16486930847168,
                    -18.04558563232422,
                    25.567951202392578,
                    69.68669891357422,
                    11.799781799316406,
                    -35.202117919921875,
                    67.40281677246094,
                    6.558690547943115,
                    -35.35943603515625,
                    -5.764148712158203,
                    -14.407154083251953,
                    -22.595029830932617,
                    -37.32427215576172,
                    -6.870707035064697,
                    -37.77958297729492,
                    -8.565061569213867,
                    65.27050018310547,
                    -10.287912368774414,
                    4.787769794464111,
                    -4.90226411819458,
                    5.230319499969482,
                    -8.951492309570312,
                    -5.404530048370361,
                    5.629753589630127,
                    -16.396181106567383,
                    7.8680267333984375,
                    0.011542946100234985,
                    -13.189264297485352,
                    -9.379215240478516,
                    -6.116347789764404,
                    -15.882874488830566,
                    -14.549209594726562,
                    -60.31318283081055,
                    -18.237964630126953,
                    -5.7584733963012695,
                    -4.503961563110352,
                    -26.2055606842041,
                    -13.010087966918945,
                    -17.15964126586914,
                    -32.26415252685547,
                    -10.033662796020508,
                    -13.677594184875488,
                    -16.56587791442871,
                    -18.430925369262695,
                    38.76605987548828,
                    77.9888687133789,
                    23.578298568725586,
                    71.25448608398438,
                    -44.0531120300293,
                    -13.973627090454102,
                    -18.430871963500977,
                    -20.461103439331055,
                    66.9581298828125,
                    -24.226598739624023,
                    9.112913131713867,
                    33.41575622558594,
                    25.29465675354004,
                    56.62738037109375,
                    -18.23583221435547,
                    -37.61722946166992,
                    -43.77376937866211,
                    -34.265174865722656,
                    -71.29762268066406,
                    50.1651611328125,
                    50.55971145629883,
                    -47.988014221191406,
                    -25.180652618408203,
                    -78.10830688476562,
                    17.141742706298828,
                    -15.926441192626953,
                    -32.42765426635742,
                    -1.8494561910629272,
                    -18.563901901245117,
                    -5.703394889831543,
                    31.237224578857422,
                    13.790196418762207,
                    57.949092864990234,
                    -64.47144317626953,
                    -24.858339309692383,
                    81.42155456542969,
                    -23.455228805541992,
                    81.30790710449219,
                    -35.280460357666016,
                    -17.51409149169922,
                    28.692577362060547,
                    -4.964308261871338,
                    76.62532806396484,
                    -4.944150924682617,
                    -42.58919143676758,
                    -55.969322204589844,
                    -20.906492233276367,
                    17.20216178894043,
                    -13.529353141784668,
                    12.814460754394531,
                    -67.7917709350586,
                    -8.757829666137695,
                    -29.041357040405273,
                    1.6568857431411743,
                    -5.3654303550720215,
                    -29.450536727905273,
                    63.017372131347656,
                    -10.104389190673828,
                    -14.913107872009277,
                    40.17292404174805,
                    21.624235153198242,
                    11.383866310119629,
                    71.61200714111328,
                    66.30455017089844,
                    -4.824548721313477,
                    -16.255645751953125,
                    -40.49433898925781,
                    -75.95387268066406,
                    44.16324996948242,
                    11.892207145690918,
                    -6.375070571899414,
                    -23.715930938720703,
                    -21.882078170776367,
                    -1.5301328897476196,
                    72.43556213378906,
                    57.90510177612305,
                    -15.481428146362305,
                    4.476262092590332,
                    -3.1965203285217285,
                    -40.390628814697266,
                    -37.58140563964844,
                    12.776182174682617,
                    0.9805548787117004,
                    16.139787673950195,
                    -5.620719909667969,
                    -50.50956726074219,
                    -69.69454956054688,
                    23.959211349487305,
                    -40.772647857666016,
                    4.529691696166992,
                    -3.4912338256835938,
                    -36.773014068603516,
                    -48.22947692871094,
                    46.32242965698242,
                    -17.681636810302734,
                    31.88223648071289,
                    -2.423919677734375,
                    10.493416786193848,
                    -66.26338195800781,
                    72.65967559814453,
                    -50.865325927734375,
                    69.43470764160156,
                    -8.445259094238281,
                    -16.626771926879883,
                    59.822479248046875,
                    9.420435905456543,
                    53.027774810791016,
                    26.361127853393555,
                    -25.337909698486328,
                    -15.662099838256836,
                    73.72177124023438,
                    5.97039794921875,
                    56.217323303222656,
                    15.990601539611816,
                    22.633710861206055,
                    0.9470946788787842,
                    -22.098478317260742,
                    11.224773406982422,
                    28.83555793762207,
                    26.952470779418945,
                    -18.646503448486328,
                    -15.370784759521484,
                    -10.191919326782227,
                    -14.996434211730957,
                    -4.243874549865723,
                    -16.75554847717285,
                    9.18350887298584,
                    -15.95057201385498,
                    -3.593953847885132,
                    -14.84593391418457,
                    -63.70659255981445,
                    77.35014343261719,
                    -30.398395538330078,
                    -10.751721382141113,
                    9.371331214904785,
                    22.233135223388672,
                    -16.51238441467285,
                    24.19932746887207,
                    -53.64053726196289,
                    8.716014862060547,
                    5.357380390167236,
                    -9.363868713378906,
                    57.50468826293945,
                    15.842899322509766,
                    53.378013610839844,
                    -21.21202278137207,
                    -1.2530916929244995,
                    -68.89134216308594,
                    -70.80107879638672,
                    62.72319030761719,
                    -19.892030715942383,
                    -11.476408004760742,
                    25.91608428955078,
                    -47.914337158203125,
                    60.65385437011719,
                    -34.24105453491211,
                    45.31796646118164,
                    -32.14224624633789,
                    -4.005189895629883,
                    57.2186279296875,
                    -25.710458755493164,
                    -18.21646499633789,
                    -44.24678039550781,
                    -24.778024673461914,
                    -16.761201858520508,
                    58.98260498046875,
                    68.57743072509766,
                    -27.354124069213867,
                    -24.354379653930664,
                    -5.367198944091797,
                    -31.51732635498047,
                    -40.70674133300781,
                    51.00166702270508,
                    65.36995697021484,
                    8.231534957885742,
                    -16.242971420288086,
                    56.125099182128906,
                    23.314252853393555,
                    -19.907434463500977,
                    7.746395587921143,
                    66.92610931396484,
                    -13.127299308776855,
                    29.880807876586914,
                    13.088269233703613,
                    -0.5249553322792053,
                    0.9644256234169006,
                    -68.91822814941406,
                    18.514122009277344,
                    2.9117038249969482,
                    -30.956287384033203,
                    19.3544921875,
                    -15.000154495239258,
                    21.604581832885742,
                    -14.748019218444824,
                    -21.208908081054688,
                    -0.38948506116867065,
                    53.28029251098633,
                    -13.200246810913086,
                    -73.88777160644531,
                    67.70086669921875,
                    -12.739130973815918,
                    24.532167434692383,
                    -75.87957763671875,
                    -21.283634185791016,
                    -29.995676040649414,
                    -75.42436218261719,
                    -4.716304779052734,
                    -34.60255813598633,
                    -42.477203369140625,
                    -40.59225082397461,
                    -30.76004409790039,
                    -13.636518478393555,
                    -2.6911888122558594,
                    61.58430862426758,
                    24.218904495239258,
                    55.659706115722656,
                    6.943362236022949,
                    17.399030685424805,
                    -12.863788604736328,
                    1.3449755907058716,
                    -32.67634963989258,
                    -27.148818969726562,
                    11.864351272583008,
                    16.134822845458984,
                    -49.620872497558594,
                    67.69132232666016,
                    25.333148956298828,
                    -36.10271072387695,
                    -24.291536331176758,
                    -2.8894197940826416,
                    -29.37462615966797,
                    30.47454833984375,
                    27.26793670654297,
                    -44.65252685546875,
                    -75.41648864746094,
                    -49.248313903808594,
                    -54.13991928100586,
                    54.320777893066406,
                    -8.361784934997559,
                    22.754640579223633,
                    4.1032304763793945,
                    40.76904296875,
                    28.692598342895508,
                    18.456634521484375,
                    -15.348115921020508,
                    -7.419496536254883,
                    -41.29759216308594,
                    -12.986348152160645,
                    31.51807975769043,
                    -18.621898651123047,
                    27.2421817779541,
                    30.653331756591797,
                    25.899900436401367,
                    69.7044448852539,
                    29.911518096923828,
                    63.016536712646484,
                    13.350346565246582,
                    -15.85192584991455,
                    -29.68412208557129,
                    -6.748451232910156,
                    -35.64066696166992,
                    76.36434936523438,
                    -42.75830841064453,
                    59.46874237060547,
                    42.40407943725586,
                    60.666629791259766,
                    -2.4801602363586426,
                    67.36483001708984,
                    1.2277588844299316,
                    18.902956008911133,
                    -29.539657592773438,
                    -33.11382293701172,
                    -34.39940643310547,
                    6.669010162353516,
                    -35.308231353759766,
                    3.0346767902374268,
                    0.7544876933097839,
                    8.888675689697266,
                    -19.619577407836914,
                    -42.07880401611328,
                    13.796570777893066,
                    9.18953800201416,
                    -23.510784149169922,
                    7.165559768676758,
                    -1.355457067489624,
                    67.73915100097656,
                    -59.2316780090332,
                    -33.464202880859375,
                    -6.1159820556640625,
                    -0.7914562225341797,
                    -24.10261344909668,
                    9.099928855895996,
                    52.76508331298828,
                    -21.19656753540039,
                    27.217334747314453,
                    29.923690795898438,
                    -44.63068389892578,
                    -30.574783325195312,
                    12.931198120117188,
                    12.931199073791504,
                    57.730873107910156,
                    -31.734506607055664,
                    9.695202827453613,
                    4.651880264282227,
                    -0.2903658151626587,
                    -10.066831588745117,
                    -31.299715042114258,
                    -67.84378051757812,
                    -4.06127405166626,
                    -4.269618511199951,
                    -1.054499864578247,
                    -3.795759677886963,
                    -25.81159210205078,
                    27.627552032470703,
                    -14.762566566467285,
                    -32.21938705444336,
                    -9.51572036743164,
                    -35.811851501464844,
                    57.368431091308594,
                    -50.946170806884766,
                    23.201374053955078,
                    11.822307586669922,
                    62.06880569458008,
                    -7.451348304748535,
                    -52.456661224365234,
                    10.161101341247559,
                    3.0363311767578125,
                    -46.86561965942383,
                    -23.704620361328125,
                    48.4532470703125,
                    -48.3486213684082,
                    -6.1124773025512695,
                    -38.43431091308594,
                    57.64756774902344,
                    -38.90390396118164,
                    -40.146339416503906,
                    -20.372844696044922,
                    -70.450439453125,
                    -20.35495376586914,
                    25.166311264038086,
                    -45.14472961425781,
                    -28.898893356323242,
                    -42.43913650512695,
                    57.84029769897461,
                    -39.54344177246094,
                    -48.98234939575195,
                    -30.155424118041992,
                    54.453834533691406,
                    -31.48011589050293,
                    -33.98605728149414,
                    10.161101341247559,
                    -1.3944077491760254,
                    -5.38109016418457,
                    -11.094030380249023,
                    21.495712280273438,
                    -2.8939430713653564,
                    -42.468379974365234,
                    22.858890533447266,
                    80.96807861328125,
                    -21.972307205200195,
                    11.318934440612793,
                    56.404300689697266,
                    21.411314010620117,
                    -16.5184268951416,
                    16.29091453552246,
                    -20.30126953125,
                    -50.772438049316406,
                    -28.217010498046875,
                    -23.467845916748047,
                    -22.710006713867188,
                    43.56815719604492,
                    -33.29800033569336,
                    40.815948486328125,
                    38.97431945800781,
                    45.56898498535156,
                    19.616004943847656,
                    -27.22075843811035,
                    53.31117630004883,
                    7.233613014221191,
                    45.339561462402344,
                    1.0539028644561768,
                    76.17110443115234,
                    -35.307899475097656,
                    9.506060600280762,
                    30.744712829589844,
                    34.53147888183594,
                    2.4288558959960938,
                    16.734086990356445,
                    2.808593511581421,
                    -6.6523051261901855,
                    -0.3859543204307556,
                    0.6515101790428162,
                    -4.007506847381592,
                    -21.725711822509766,
                    -40.61739730834961,
                    5.495286464691162,
                    2.424055814743042,
                    50.079185485839844,
                    -31.088600158691406,
                    57.42533493041992,
                    57.42509078979492,
                    -60.87007141113281,
                    29.690298080444336,
                    50.09000778198242,
                    -32.04907989501953,
                    8.155316352844238,
                    5.945950031280518,
                    5.454023838043213,
                    -25.93718910217285,
                    68.43000030517578,
                    -66.57162475585938,
                    -34.64542007446289,
                    5.677309036254883,
                    -18.80426025390625,
                    64.39568328857422,
                    28.345178604125977,
                    -35.02494812011719,
                    -13.335498809814453,
                    -16.7536678314209,
                    -13.332487106323242,
                    -61.679569244384766,
                    -31.15471076965332,
                    -7.833748817443848,
                    -36.529441833496094,
                    -50.392120361328125,
                    -25.283845901489258,
                    72.6214370727539,
                    -20.85483169555664,
                    -24.668140411376953,
                    16.13912582397461,
                    -24.059412002563477,
                    15.646613121032715,
                    -25.110027313232422,
                    1.9631330966949463,
                    21.498708724975586,
                    79.29501342773438,
                    33.472557067871094,
                    -54.42939376831055,
                    -12.768736839294434,
                    -17.26789093017578,
                    -19.757129669189453,
                    53.92889404296875,
                    9.023897171020508,
                    1.6616610288619995,
                    59.16970443725586,
                    -37.47119140625,
                    -13.15343189239502,
                    -14.789782524108887,
                    5.675678730010986,
                    -2.9195098876953125,
                    16.14932632446289,
                    4.57299280166626,
                    50.33286666870117,
                    31.033721923828125,
                    70.90371704101562,
                    17.90772819519043,
                    12.561424255371094,
                    47.27538299560547,
                    -24.371042251586914,
                    -16.108808517456055,
                    -44.44770050048828,
                    -47.54875183105469,
                    3.521559000015259,
                    -61.56648254394531,
                    -23.09074592590332,
                    -14.141830444335938,
                    -26.338476181030273,
                    -26.542865753173828,
                    30.82346534729004,
                    0.44571396708488464,
                    -7.49589204788208,
                    -4.720372200012207,
                    26.132898330688477,
                    24.102331161499023,
                    45.2114143371582,
                    2.702986001968384,
                    9.634638786315918,
                    20.42279624938965,
                    37.50354766845703,
                    68.89659881591797,
                    -45.503963470458984,
                    6.42169713973999,
                    23.90169906616211,
                    62.26775360107422,
                    66.59093475341797,
                    -9.465657234191895,
                    -9.46570873260498,
                    56.53197479248047,
                    35.75874328613281,
                    58.411556243896484,
                    -38.135032653808594,
                    -25.584030151367188,
                    -4.8458051681518555,
                    -50.56179428100586,
                    -38.051090240478516,
                    12.388741493225098,
                    -13.491751670837402,
                    -16.687063217163086,
                    3.5412955284118652,
                    24.386558532714844,
                    -39.161563873291016,
                    -30.424259185791016,
                    -11.714427947998047,
                    -22.34876251220703,
                    -26.934499740600586,
                    63.479820251464844,
                    -42.63957214355469,
                    -19.80058479309082,
                    -44.664249420166016,
                    42.975399017333984,
                    -3.571476697921753,
                    -3.7108662128448486,
                    0.32488173246383667,
                    17.868858337402344,
                    -38.0076789855957,
                    -1.5464606285095215,
                    75.47857666015625,
                    -3.971393346786499,
                    76.133056640625,
                    6.8770623207092285,
                    0.7707216143608093,
                    -40.85911560058594,
                    -5.50291109085083,
                    -60.61366271972656,
                    56.014347076416016,
                    -6.281919479370117,
                    -22.6517276763916,
                    7.80226993560791,
                    72.6303482055664,
                    -21.0225772857666,
                    -7.264927864074707,
                    58.4718132019043,
                    -28.168323516845703,
                    -25.99148178100586,
                    -26.18745231628418,
                    -55.97370529174805,
                    20.568023681640625,
                    -58.312992095947266,
                    -71.8106460571289,
                    -0.9655203223228455,
                    -45.964317321777344,
                    50.1191520690918,
                    -27.608226776123047,
                    -24.854534149169922,
                    -14.78248405456543,
                    -24.59366226196289,
                    -34.68364715576172,
                    -29.438430786132812,
                    -2.946077585220337,
                    -3.1482274532318115,
                    49.38376235961914,
                    -13.220499038696289,
                    -1.0746192932128906,
                    -18.04252815246582,
                    -32.03639602661133,
                    6.504493713378906,
                    12.97787857055664,
                    3.6472747325897217,
                    26.13241958618164,
                    30.380210876464844,
                    -7.860404014587402,
                    38.93696975708008,
                    -4.82300329208374,
                    77.05950927734375,
                    -28.52589988708496,
                    16.990772247314453,
                    56.79812240600586,
                    16.54006004333496,
                    73.28688049316406,
                    -2.19523549079895,
                    -59.86140441894531,
                    -32.386844635009766,
                    3.7692837715148926,
                    -5.541891098022461,
                    1.0799490213394165,
                    -10.771900177001953,
                    64.60066986083984,
                    31.903221130371094,
                    -43.786136627197266,
                    -17.759634017944336,
                    -4.880494117736816,
                    -9.773420333862305,
                    -34.42924118041992,
                    -24.936115264892578,
                    -34.566871643066406,
                    -10.256208419799805,
                    -48.87148666381836,
                    8.740785598754883,
                    -13.279314041137695,
                    -20.819772720336914,
                    -53.87861251831055,
                    67.66865539550781,
                    -20.317296981811523,
                    -19.331682205200195,
                    -70.58698272705078,
                    65.32929992675781,
                    -37.442691802978516,
                    53.84004592895508,
                    2.9562582969665527,
                    75.80814361572266,
                    -41.50503158569336,
                    51.48768997192383,
                    -17.66211700439453,
                    -61.41086959838867,
                    -33.63170623779297,
                    -74.28955841064453,
                    -11.931161880493164,
                    -6.761050224304199,
                    -7.581726551055908,
                    58.634151458740234,
                    2.2313177585601807,
                    37.44377136230469,
                    -27.860151290893555,
                    -44.244590759277344,
                    10.063023567199707,
                    52.2537727355957,
                    14.811924934387207,
                    58.741981506347656,
                    -22.493980407714844,
                    -24.353742599487305,
                    42.69709777832031,
                    -43.50725173950195,
                    -37.0627555847168,
                    67.64134216308594,
                    63.498985290527344,
                    -35.26294708251953,
                    -30.880285263061523,
                    46.73998260498047,
                    -67.18319702148438,
                    -35.17718505859375,
                    44.54499435424805,
                    65.6461410522461,
                    9.200160026550293,
                    10.74674129486084,
                    33.48401641845703,
                    47.9449577331543,
                    -1.595348596572876,
                    65.64581298828125,
                    26.479026794433594,
                    -71.61893463134766,
                    -29.628393173217773,
                    75.27592468261719,
                    -45.90031051635742,
                    3.4098854064941406,
                    73.54988098144531,
                    -36.9940299987793,
                    9.467758178710938,
                    -40.16887664794922,
                    3.0296943187713623,
                    -34.253761291503906,
                    -28.84845542907715,
                    73.47175598144531,
                    -30.95891571044922,
                    -6.044102191925049,
                    25.89573860168457,
                    66.54692077636719,
                    -16.453346252441406,
                    -3.085297107696533,
                    -46.982391357421875,
                    1.257399320602417,
                    -19.338600158691406,
                    -50.27590560913086,
                    -72.516845703125,
                    -41.673675537109375,
                    -34.06985092163086,
                    -36.825809478759766,
                    -25.07159996032715,
                    -41.56327438354492,
                    -18.37870216369629,
                    2.2076377868652344,
                    11.296425819396973,
                    -29.545381546020508,
                    -37.403587341308594,
                    0.2075648307800293,
                    -20.67650032043457,
                    -14.926758766174316,
                    -41.58940124511719,
                    74.06097412109375,
                    -24.39885711669922,
                    -31.647586822509766,
                    0.08700020611286163,
                    -23.868541717529297,
                    47.94554138183594,
                    26.60551643371582,
                    -37.95515823364258,
                    -37.33408737182617,
                    29.13646697998047,
                    -21.54258918762207,
                    -10.91958236694336,
                    29.763700485229492,
                    4.04318380355835,
                    -0.27445727586746216,
                    -13.723084449768066,
                    -34.777923583984375,
                    13.758378028869629,
                    4.498898983001709,
                    -13.828642845153809,
                    -36.97321701049805,
                    -5.155405521392822,
                    53.29100799560547,
                    -1.629884123802185,
                    -0.5450023412704468,
                    -1.7425227165222168,
                    56.57634735107422,
                    9.570208549499512,
                    -20.9708194732666,
                    7.881235122680664,
                    -39.17759704589844,
                    -15.717267036437988,
                    -13.874887466430664,
                    30.752973556518555,
                    -26.98543930053711,
                    67.69435119628906,
                    21.119800567626953,
                    53.314937591552734,
                    56.9351692199707,
                    21.513248443603516,
                    18.849687576293945,
                    61.287628173828125,
                    -15.520537376403809,
                    15.83737564086914,
                    -29.684219360351562,
                    54.90800857543945,
                    48.58639907836914,
                    27.55539321899414,
                    15.975903511047363,
                    24.798175811767578,
                    14.158965110778809,
                    26.098249435424805,
                    14.976741790771484,
                    77.14197540283203,
                    12.213624954223633,
                    -15.752788543701172,
                    -9.575695037841797,
                    -2.615679979324341,
                    57.5660400390625,
                    3.610337734222412,
                    -16.643648147583008,
                    19.758806228637695,
                    -16.475446701049805,
                    -27.194238662719727,
                    -71.18073272705078,
                    -15.590137481689453,
                    22.121997833251953,
                    7.209920406341553,
                    -3.195607900619507,
                    33.10911560058594,
                    16.63184356689453,
                    -0.7788128852844238,
                    -16.269256591796875,
                    -41.387367248535156,
                    -4.833010673522949,
                    23.319738388061523,
                    -38.174888610839844,
                    70.87454986572266,
                    -0.8666700124740601,
                    -8.260465621948242,
                    -12.91855239868164,
                    10.161101341247559,
                    11.019007682800293,
                    -24.291603088378906,
                    -0.9680516123771667,
                    -48.348697662353516,
                    -48.34781265258789,
                    16.76533317565918,
                    -2.3274788856506348,
                    9.27003288269043,
                    4.4313249588012695,
                    6.949992656707764,
                    -61.45436477661133,
                    -37.63983154296875,
                    -28.631555557250977,
                    -33.819061279296875,
                    -30.564407348632812,
                    -2.3375377655029297,
                    67.84918975830078,
                    -18.261701583862305,
                    9.359784126281738,
                    -11.941031455993652,
                    55.8275146484375,
                    -30.587852478027344,
                    -73.14275360107422,
                    72.68598175048828,
                    -59.72330093383789,
                    -44.52821731567383,
                    -51.925209045410156,
                    11.003055572509766,
                    -52.911460876464844,
                    54.661094665527344,
                    60.36885452270508,
                    -49.71239471435547,
                    -59.60610580444336,
                    -49.51342010498047,
                    -16.199003219604492,
                    -13.234850883483887,
                    2.8819875717163086,
                    73.97905731201172,
                    -58.04228973388672,
                    -35.37520217895508,
                    -8.974254608154297,
                    -63.70650100708008,
                    58.12690734863281,
                    30.268346786499023,
                    -67.7667236328125,
                    21.366037368774414,
                    55.909664154052734,
                    -30.5771541595459,
                    -2.3746283054351807,
                    -33.407569885253906,
                    -35.88801193237305,
                    -54.77130889892578,
                    68.13725280761719,
                    -42.53371810913086,
                    -49.67860412597656,
                    55.82782745361328,
                    75.80805206298828,
                    -41.34734344482422,
                    -69.66980743408203,
                    -45.99028396606445,
                    10.966150283813477,
                    72.08287811279297,
                    -44.399532318115234,
                    11.302934646606445,
                    59.33877944946289,
                    1.6746721267700195,
                    -37.406497955322266,
                    -9.656515121459961,
                    -48.79221725463867,
                    29.16973114013672,
                    -18.39991569519043,
                    62.232810974121094,
                    -30.501245498657227,
                    20.521913528442383,
                    -59.86717224121094,
                    31.81172752380371,
                    58.25175094604492,
                    -11.994338989257812,
                    -18.507226943969727,
                    70.48661804199219,
                    11.666244506835938,
                    12.24830436706543,
                    -19.29941177368164,
                    -3.758434295654297,
                    -40.32024002075195,
                    -52.96348190307617,
                    -22.44588851928711,
                    -34.54131317138672,
                    10.161101341247559,
                    -27.11167335510254,
                    18.245128631591797,
                    -20.227142333984375,
                    -36.7783088684082,
                    -36.825714111328125,
                    -24.02800941467285,
                    -17.84933090209961,
                    -34.50666809082031,
                    -20.600910186767578,
                    -45.05731964111328,
                    47.188446044921875,
                    -54.177528381347656,
                    -20.408187866210938,
                    47.959503173828125,
                    -30.694377899169922,
                    -32.43934631347656,
                    -32.25367736816406,
                    -45.90915298461914,
                    11.418028831481934,
                    24.473386764526367,
                    8.740785598754883,
                    -43.03522872924805,
                    -17.535642623901367,
                    -11.3251314163208,
                    67.1346664428711,
                    -0.9966326355934143,
                    -55.26115036010742,
                    -30.754262924194336,
                    2.43477725982666,
                    -6.172652721405029,
                    8.609196662902832,
                    34.47688293457031,
                    -77.66431427001953,
                    -2.9749510288238525,
                    -15.77885627746582,
                    -40.44501876831055,
                    9.171488761901855,
                    53.38133239746094,
                    16.384077072143555,
                    19.760093688964844,
                    25.500661849975586,
                    27.357311248779297,
                    59.386024475097656,
                    61.78068542480469,
                    61.35327911376953,
                    54.774993896484375,
                    57.2763786315918,
                    31.23721694946289,
                    -14.730278015136719,
                    55.16130828857422,
                    59.77450942993164,
                    3.649496555328369,
                    12.434440612792969,
                    60.92978286743164,
                    -10.530074119567871,
                    57.11905288696289,
                    -22.31184959411621,
                    59.774837493896484,
                    56.82782745361328,
                    6.3748016357421875,
                    -26.4169979095459,
                    66.94998168945312,
                    8.72276496887207,
                    14.431038856506348,
                    -32.10817337036133,
                    5.466875076293945,
                    -18.385339736938477,
                    -61.509254455566406,
                    -18.166187286376953,
                    -26.1867618560791,
                    -43.41405487060547,
                    -41.20820236206055,
                    -61.07310104370117,
                    -44.34744644165039,
                    -4.0965256690979,
                    -26.827560424804688,
                    -41.41541290283203,
                    65.61914825439453,
                    -41.252384185791016,
                    -8.614912033081055,
                    -29.95335578918457,
                    -4.7802653312683105,
                    -41.30282974243164,
                    27.033071517944336,
                    -23.403303146362305,
                    64.25867462158203,
                    76.31356048583984,
                    5.256556034088135,
                    -45.66614532470703,
                    -15.032207489013672,
                    58.018089294433594,
                    17.044729232788086,
                    14.735090255737305,
                    53.23288345336914,
                    14.098888397216797,
                    -76.68084716796875,
                    -21.046470642089844,
                    -36.66261672973633,
                    0.9054751992225647,
                    -62.640323638916016,
                    28.446043014526367,
                    66.84387969970703,
                    7.0508551597595215,
                    -19.727243423461914,
                    65.16545867919922,
                    1.1324589252471924,
                    -2.2365212440490723,
                    -14.269906997680664,
                    5.442100524902344,
                    0.40254026651382446,
                    69.07288360595703,
                    -23.56680679321289,
                    -20.71554183959961,
                    -24.22075843811035,
                    46.47197341918945,
                    -70.31505584716797,
                    75.12063598632812,
                    -13.886988639831543,
                    -47.49578094482422,
                    1.6906408071517944,
                    56.7135009765625,
                    16.45151710510254,
                    55.50189208984375,
                    52.033233642578125,
                    27.906484603881836,
                    76.06486511230469,
                    7.667276859283447,
                    -35.548343658447266,
                    -31.38666534423828,
                    -9.105621337890625,
                    -35.558738708496094,
                    -64.66046905517578,
                    23.013078689575195,
                    -4.261991024017334,
                    -28.34685516357422,
                    11.253350257873535,
                    5.963074684143066,
                    -37.29936218261719,
                    -17.885251998901367,
                    -33.601619720458984,
                    1.0162843465805054,
                    73.35340118408203,
                    -2.348876714706421,
                    -12.980585098266602,
                    60.16426467895508,
                    -23.62610626220703,
                    6.857537269592285,
                    42.39218521118164,
                    -43.657188415527344,
                    69.06977844238281,
                    -17.403406143188477,
                    -17.387624740600586,
                    -16.447729110717773,
                    -22.719200134277344,
                    33.476715087890625,
                    4.119561672210693,
                    -2.704918384552002,
                    -42.950775146484375,
                    -41.51312255859375,
                    9.51763916015625,
                    -36.78699493408203,
                    68.36429595947266,
                    63.96562194824219,
                    -0.4307076930999756,
                    -43.197296142578125,
                    -16.6434383392334,
                    -1.2170023918151855,
                    -10.510635375976562,
                    37.23553466796875,
                    60.27010726928711,
                    -16.413352966308594,
                    -9.512018203735352,
                    52.9357795715332,
                    -20.45458984375,
                    -14.696695327758789,
                    9.038529396057129,
                    -15.530155181884766,
                    33.1614990234375,
                    33.15830993652344,
                    -68.48452758789062,
                    75.91194152832031,
                    -53.571746826171875,
                    53.68512725830078,
                    -70.17491149902344,
                    -15.435279846191406,
                    -0.0014228946529328823,
                    -18.303285598754883,
                    -8.962529182434082,
                    58.335079193115234,
                    -33.91211700439453,
                    -46.18047332763672,
                    1.4539715051651,
                    -41.08497619628906,
                    -36.46458435058594,
                    -31.224994659423828,
                    -30.410425186157227,
                    -35.915748596191406,
                    -30.92548179626465,
                    -33.12083435058594,
                    66.90139770507812,
                    -11.938920021057129,
                    -3.832409143447876,
                    -33.149009704589844,
                    74.29560089111328,
                    -8.314352035522461,
                    -29.020488739013672,
                    33.774566650390625,
                    34.602413177490234,
                    66.3888931274414,
                    6.8422675132751465,
                    -45.268733978271484,
                    -10.81316089630127,
                    -46.88136672973633,
                    -78.0240249633789,
                    70.01333618164062,
                    -32.1199836730957,
                    24.72698402404785,
                    70.05974578857422,
                    -47.21556854248047,
                    72.49491882324219,
                    -1.333163857460022,
                    0.7226858735084534,
                    -19.192625045776367,
                    -46.18796157836914,
                    20.831941604614258,
                    -73.69759368896484,
                    3.4965574741363525,
                    -20.61871337890625,
                    -32.99217224121094,
                    -34.12602233886719,
                    68.52761840820312,
                    65.73351287841797,
                    32.38518524169922,
                    -11.948993682861328,
                    10.827499389648438,
                    -11.72684097290039,
                    21.188377380371094,
                    41.658023834228516,
                    59.540443420410156,
                    -17.815479278564453,
                    21.190940856933594,
                    22.10167121887207,
                    -22.166580200195312,
                    -3.0549476146698,
                    1.0877784490585327,
                    56.73707962036133,
                    -41.02836990356445,
                    35.02012252807617,
                    55.64381408691406,
                    26.669198989868164,
                    -27.476009368896484,
                    -37.90193176269531,
                    -37.65795135498047,
                    61.5845947265625,
                    9.87217903137207,
                    14.807604789733887,
                    -24.050357818603516,
                    -31.083755493164062,
                    -26.37436294555664,
                    31.018918991088867,
                    23.284900665283203,
                    -1.3505383729934692,
                    19.791223526000977,
                    35.00022888183594,
                    -4.535706520080566,
                    -17.966726303100586,
                    -7.70475959777832,
                    75.24059295654297,
                    -19.478940963745117,
                    -16.42435073852539,
                    -11.460573196411133,
                    54.87494659423828,
                    3.220453977584839,
                    1.1885089874267578,
                    -30.895977020263672,
                    19.579792022705078,
                    19.53957176208496,
                    13.872322082519531,
                    2.38739013671875,
                    16.425790786743164,
                    -6.351013660430908,
                    -28.42461585998535,
                    4.874919414520264,
                    -7.960524559020996,
                    -27.2601318359375,
                    42.36448669433594,
                    0.6104087829589844,
                    6.391678810119629,
                    -21.330862045288086,
                    30.026147842407227,
                    -33.525089263916016,
                    61.001617431640625,
                    17.783315658569336,
                    27.030481338500977,
                    -32.58460235595703,
                    33.02610778808594,
                    -15.73304271697998,
                    -12.00890064239502,
                    -13.105008125305176,
                    23.822851181030273,
                    -41.45609664916992,
                    -33.25470733642578,
                    -34.20948791503906,
                    61.3611946105957,
                    0.5178530216217041,
                    -14.962379455566406,
                    3.533029079437256,
                    40.2779541015625,
                    62.922550201416016,
                    36.080589294433594,
                    -3.124960422515869,
                    -50.74686813354492,
                    4.060351371765137,
                    16.282251358032227,
                    66.36466217041016,
                    -31.662860870361328,
                    69.01111602783203,
                    -27.37252426147461,
                    -7.421947479248047,
                    -41.93359375,
                    47.64154052734375,
                    26.07932472229004,
                    64.15690612792969,
                    -20.7840518951416,
                    -14.122682571411133,
                    0.9867045879364014,
                    -0.5674402117729187,
                    -26.178884506225586,
                    59.34629821777344,
                    19.95897674560547,
                    -42.13994598388672,
                    -41.93362045288086,
                    58.113155364990234,
                    16.201007843017578,
                    20.603729248046875,
                    72.21305084228516,
                    -30.34888458251953,
                    2.8560214042663574,
                    -21.04629135131836,
                    -36.23030090332031,
                    59.36227798461914,
                    -12.614394187927246,
                    68.90475463867188,
                    -5.439084529876709,
                    -14.730165481567383,
                    -25.028942108154297,
                    66.72374725341797,
                    5.794025897979736,
                    11.100675582885742,
                    7.75301456451416,
                    8.003118515014648,
                    16.41843032836914,
                    5.486023426055908,
                    18.963712692260742,
                    70.19149780273438,
                    -5.165722370147705,
                    28.480623245239258,
                    54.066551208496094,
                    50.557342529296875,
                    15.853808403015137,
                    65.20118713378906,
                    64.90982818603516,
                    -24.87994384765625,
                    17.323326110839844,
                    -20.420499801635742,
                    26.54459571838379,
                    -33.21512222290039,
                    19.206579208374023,
                    -26.744813919067383,
                    10.199584007263184,
                    -13.888873100280762,
                    11.738892555236816,
                    0.12663225829601288,
                    -20.785585403442383,
                    -34.645721435546875,
                    -37.932884216308594,
                    68.0147705078125,
                    -45.39010238647461,
                    -30.579206466674805,
                    -34.699100494384766,
                    -33.40238571166992,
                    -58.69035339355469,
                    -27.533037185668945,
                    -32.77322006225586,
                    -12.749100685119629,
                    28.051904678344727,
                    68.28400421142578,
                    15.564155578613281,
                    61.732906341552734,
                    4.521733283996582,
                    -33.28802490234375,
                    63.99259948730469,
                    53.83867263793945,
                    4.431325435638428,
                    53.92599868774414,
                    23.343421936035156,
                    30.89693832397461,
                    -18.496931076049805,
                    -42.0008430480957,
                    1.5836056470870972,
                    -43.28679275512695,
                    2.693654775619507,
                    47.65024185180664,
                    -26.041479110717773,
                    53.32847213745117,
                    -51.253292083740234,
                    -44.96833038330078,
                    -30.66098976135254,
                    -34.414920806884766,
                    75.27120208740234,
                    -28.282939910888672,
                    -14.80050277709961,
                    3.7311840057373047,
                    2.9798641204833984,
                    68.9469985961914,
                    2.698761463165283,
                    -16.19815444946289,
                    -0.90694260597229,
                    7.890073299407959,
                    -1.0404269695281982,
                    4.194273948669434,
                    -4.793542861938477,
                    1.0978657007217407,
                    4.1753621101379395,
                    26.114931106567383,
                    -3.4598655700683594,
                    19.3796329498291,
                    -63.54026794433594,
                    -21.8779239654541,
                    61.975616455078125,
                    20.524614334106445,
                    -29.51117515563965,
                    19.63880729675293,
                    -21.857450485229492,
                    -1.7851252555847168,
                    72.62263488769531,
                    -34.630001068115234,
                    -51.45728302001953,
                    -24.967208862304688,
                    -7.515150547027588,
                    -16.113794326782227,
                    -27.96337890625,
                    -33.23997116088867,
                    -23.136667251586914,
                    15.674263000488281,
                    -40.987831115722656,
                    -6.151547908782959,
                    -25.39080238342285,
                    14.310981750488281,
                    31.905315399169922,
                    -14.22594165802002,
                    7.984051704406738,
                    -73.9981918334961,
                    69.92786407470703,
                    72.10906219482422,
                    21.422147750854492,
                    -64.92476654052734,
                    75.66437530517578,
                    72.61041259765625,
                    -53.35212707519531,
                    -74.51805114746094,
                    -72.21014404296875,
                    -51.628177642822266,
                    -68.93934631347656,
                    62.79566955566406,
                    -2.5837831497192383,
                    -11.612408638000488,
                    24.439315795898438,
                    -44.92559814453125,
                    59.15068054199219,
                    -16.207338333129883,
                    -37.840885162353516,
                    -44.88418197631836,
                    -33.672542572021484,
                    -29.223953247070312,
                    -0.5927097797393799,
                    -16.015336990356445,
                    -37.94138717651367,
                    15.20422649383545,
                    49.384403228759766,
                    -56.43095779418945,
                    -8.14739990234375,
                    27.234682083129883,
                    14.28171157836914,
                    69.63090515136719,
                    62.54391860961914,
                    -18.98040008544922,
                    -20.374217987060547,
                    40.87043762207031,
                    53.045814514160156,
                    54.13235092163086,
                    27.229625701904297,
                    19.78835105895996,
                    -61.014041900634766,
                    -33.250362396240234,
                    -5.699470520019531,
                    60.653141021728516,
                    19.59261131286621,
                    12.814427375793457,
                    -4.204434871673584,
                    71.14850616455078,
                    9.54768180847168,
                    2.137864828109741,
                    -38.98397445678711,
                    -44.40347671508789,
                    65.25897979736328,
                    8.954901695251465,
                    18.48777198791504,
                    -0.9632044434547424,
                    72.06785583496094,
                    24.005046844482422,
                    -46.99510955810547,
                    73.3609390258789,
                    -44.11978530883789,
                    62.2913932800293,
                    56.38438415527344,
                    75.51338958740234,
                    -37.38492965698242,
                    -9.659740447998047,
                    5.2516913414001465,
                    7.248425006866455,
                    -53.36884689331055,
                    -5.995927333831787,
                    -27.528865814208984,
                    67.38080596923828,
                    14.978759765625,
                    -7.251818656921387,
                    22.406753540039062,
                    6.113853454589844,
                    11.191389083862305,
                    28.492124557495117,
                    60.027462005615234,
                    -9.95867919921875,
                    -58.831417083740234,
                    -74.34010314941406,
                    -2.0146913528442383,
                    -61.84162139892578,
                    2.441079616546631,
                    14.559709548950195,
                    3.034614086151123,
                    -2.3713667392730713,
                    -11.255642890930176,
                    -12.507355690002441,
                    18.77253532409668,
                    -35.46337890625,
                    -21.848377227783203,
                    60.65372848510742,
                    -43.308326721191406,
                    -41.750118255615234,
                    -16.702625274658203,
                    19.276290893554688,
                    -1.255790114402771,
                    58.112911224365234,
                    -32.196197509765625,
                    -75.36833190917969,
                    2.988150119781494,
                    64.4358901977539,
                    -22.07771110534668,
                    -37.8626823425293,
                    -6.259829521179199,
                    -30.13382911682129,
                    -22.270343780517578,
                    -20.002132415771484,
                    -30.454853057861328,
                    -59.93779754638672,
                    -49.53264617919922,
                    -42.72699737548828,
                    -40.44155502319336,
                    69.35871887207031,
                    5.342535972595215,
                    -14.119014739990234,
                    63.71950912475586,
                    56.32823944091797,
                    32.11976623535156,
                    50.332855224609375,
                    31.0192813873291,
                    -52.26994323730469,
                    -27.91904067993164,
                    -19.865816116333008,
                    -4.631624221801758,
                    -31.640560150146484,
                    -13.933279991149902,
                    -20.10506820678711,
                    -10.607871055603027,
                    -20.78961753845215,
                    -29.39847755432129,
                    6.731122970581055,
                    -27.22395896911621,
                    -26.81903839111328,
                    62.16447448730469,
                    -30.19964027404785,
                    -35.017391204833984,
                    -30.668949127197266,
                    -30.151391983032227,
                    -31.352176666259766,
                    10.328551292419434,
                    46.211143493652344,
                    -18.605350494384766,
                    0.05626147985458374,
                    -24.47113037109375,
                    -75.75254821777344,
                    -49.32273483276367,
                    -0.3919282853603363,
                    -49.129215240478516,
                    19.406190872192383,
                    6.5456743240356445,
                    -23.20736312866211,
                    -19.91585350036621,
                    4.898475170135498,
                    -21.602081298828125,
                    65.20002746582031,
                    -16.69066619873047,
                    13.834429740905762,
                    -26.96453094482422,
                    -48.70625305175781,
                    26.60547637939453,
                    -31.61423110961914,
                    29.049999237060547,
                    -6.8949503898620605,
                    -6.135453701019287,
                    -28.048583984375,
                    -37.07646942138672,
                    33.98889923095703,
                    9.033860206604004,
                    43.38624954223633,
                    -5.260540962219238,
                    54.77394485473633,
                    -16.637495040893555,
                    61.20999526977539,
                    -72.732666015625,
                    -41.60235595703125,
                    -73.41014099121094,
                    -15.649940490722656,
                    54.137367248535156,
                    26.468263626098633,
                    -34.086647033691406,
                    -14.140779495239258,
                    -30.206146240234375,
                    23.06021499633789,
                    12.038912773132324,
                    28.585420608520508,
                    25.058597564697266,
                    -51.86296081542969,
                    -21.7263240814209,
                    59.82948684692383,
                    -12.751025199890137,
                    -26.230934143066406,
                    -32.27639389038086,
                    59.9162483215332,
                    2.9758527278900146,
                    11.503352165222168,
                    14.360196113586426,
                    14.329977989196777,
                    -30.633813858032227,
                    -65.12378692626953,
                    62.44891357421875,
                    -24.81902313232422,
                    -57.66377639770508,
                    20.33335304260254,
                    -33.42674255371094,
                    69.71175384521484,
                    -24.47707748413086,
                    50.835548400878906,
                    -27.72036361694336,
                    9.069418907165527,
                    45.21065139770508,
                    -24.137340545654297,
                    -14.842655181884766,
                    7.888896942138672,
                    66.32630157470703,
                    63.782527923583984,
                    73.53551483154297,
                    7.786741256713867,
                    -23.52644157409668,
                    17.783315658569336,
                    -17.907428741455078,
                    -37.02858352661133,
                    -34.40930938720703,
                    -37.418663024902344
                  ],
                  "yaxis": "y"
                }
              ],
              "layout": {
                "coloraxis": {
                  "colorbar": {
                    "title": {
                      "text": "cluster"
                    }
                  },
                  "colorscale": [
                    [
                      0,
                      "#0d0887"
                    ],
                    [
                      0.1111111111111111,
                      "#46039f"
                    ],
                    [
                      0.2222222222222222,
                      "#7201a8"
                    ],
                    [
                      0.3333333333333333,
                      "#9c179e"
                    ],
                    [
                      0.4444444444444444,
                      "#bd3786"
                    ],
                    [
                      0.5555555555555556,
                      "#d8576b"
                    ],
                    [
                      0.6666666666666666,
                      "#ed7953"
                    ],
                    [
                      0.7777777777777778,
                      "#fb9f3a"
                    ],
                    [
                      0.8888888888888888,
                      "#fdca26"
                    ],
                    [
                      1,
                      "#f0f921"
                    ]
                  ]
                },
                "legend": {
                  "tracegroupgap": 0
                },
                "margin": {
                  "t": 60
                },
                "template": {
                  "data": {
                    "bar": [
                      {
                        "error_x": {
                          "color": "#2a3f5f"
                        },
                        "error_y": {
                          "color": "#2a3f5f"
                        },
                        "marker": {
                          "line": {
                            "color": "#E5ECF6",
                            "width": 0.5
                          }
                        },
                        "type": "bar"
                      }
                    ],
                    "barpolar": [
                      {
                        "marker": {
                          "line": {
                            "color": "#E5ECF6",
                            "width": 0.5
                          }
                        },
                        "type": "barpolar"
                      }
                    ],
                    "carpet": [
                      {
                        "aaxis": {
                          "endlinecolor": "#2a3f5f",
                          "gridcolor": "white",
                          "linecolor": "white",
                          "minorgridcolor": "white",
                          "startlinecolor": "#2a3f5f"
                        },
                        "baxis": {
                          "endlinecolor": "#2a3f5f",
                          "gridcolor": "white",
                          "linecolor": "white",
                          "minorgridcolor": "white",
                          "startlinecolor": "#2a3f5f"
                        },
                        "type": "carpet"
                      }
                    ],
                    "choropleth": [
                      {
                        "colorbar": {
                          "outlinewidth": 0,
                          "ticks": ""
                        },
                        "type": "choropleth"
                      }
                    ],
                    "contour": [
                      {
                        "colorbar": {
                          "outlinewidth": 0,
                          "ticks": ""
                        },
                        "colorscale": [
                          [
                            0,
                            "#0d0887"
                          ],
                          [
                            0.1111111111111111,
                            "#46039f"
                          ],
                          [
                            0.2222222222222222,
                            "#7201a8"
                          ],
                          [
                            0.3333333333333333,
                            "#9c179e"
                          ],
                          [
                            0.4444444444444444,
                            "#bd3786"
                          ],
                          [
                            0.5555555555555556,
                            "#d8576b"
                          ],
                          [
                            0.6666666666666666,
                            "#ed7953"
                          ],
                          [
                            0.7777777777777778,
                            "#fb9f3a"
                          ],
                          [
                            0.8888888888888888,
                            "#fdca26"
                          ],
                          [
                            1,
                            "#f0f921"
                          ]
                        ],
                        "type": "contour"
                      }
                    ],
                    "contourcarpet": [
                      {
                        "colorbar": {
                          "outlinewidth": 0,
                          "ticks": ""
                        },
                        "type": "contourcarpet"
                      }
                    ],
                    "heatmap": [
                      {
                        "colorbar": {
                          "outlinewidth": 0,
                          "ticks": ""
                        },
                        "colorscale": [
                          [
                            0,
                            "#0d0887"
                          ],
                          [
                            0.1111111111111111,
                            "#46039f"
                          ],
                          [
                            0.2222222222222222,
                            "#7201a8"
                          ],
                          [
                            0.3333333333333333,
                            "#9c179e"
                          ],
                          [
                            0.4444444444444444,
                            "#bd3786"
                          ],
                          [
                            0.5555555555555556,
                            "#d8576b"
                          ],
                          [
                            0.6666666666666666,
                            "#ed7953"
                          ],
                          [
                            0.7777777777777778,
                            "#fb9f3a"
                          ],
                          [
                            0.8888888888888888,
                            "#fdca26"
                          ],
                          [
                            1,
                            "#f0f921"
                          ]
                        ],
                        "type": "heatmap"
                      }
                    ],
                    "heatmapgl": [
                      {
                        "colorbar": {
                          "outlinewidth": 0,
                          "ticks": ""
                        },
                        "colorscale": [
                          [
                            0,
                            "#0d0887"
                          ],
                          [
                            0.1111111111111111,
                            "#46039f"
                          ],
                          [
                            0.2222222222222222,
                            "#7201a8"
                          ],
                          [
                            0.3333333333333333,
                            "#9c179e"
                          ],
                          [
                            0.4444444444444444,
                            "#bd3786"
                          ],
                          [
                            0.5555555555555556,
                            "#d8576b"
                          ],
                          [
                            0.6666666666666666,
                            "#ed7953"
                          ],
                          [
                            0.7777777777777778,
                            "#fb9f3a"
                          ],
                          [
                            0.8888888888888888,
                            "#fdca26"
                          ],
                          [
                            1,
                            "#f0f921"
                          ]
                        ],
                        "type": "heatmapgl"
                      }
                    ],
                    "histogram": [
                      {
                        "marker": {
                          "colorbar": {
                            "outlinewidth": 0,
                            "ticks": ""
                          }
                        },
                        "type": "histogram"
                      }
                    ],
                    "histogram2d": [
                      {
                        "colorbar": {
                          "outlinewidth": 0,
                          "ticks": ""
                        },
                        "colorscale": [
                          [
                            0,
                            "#0d0887"
                          ],
                          [
                            0.1111111111111111,
                            "#46039f"
                          ],
                          [
                            0.2222222222222222,
                            "#7201a8"
                          ],
                          [
                            0.3333333333333333,
                            "#9c179e"
                          ],
                          [
                            0.4444444444444444,
                            "#bd3786"
                          ],
                          [
                            0.5555555555555556,
                            "#d8576b"
                          ],
                          [
                            0.6666666666666666,
                            "#ed7953"
                          ],
                          [
                            0.7777777777777778,
                            "#fb9f3a"
                          ],
                          [
                            0.8888888888888888,
                            "#fdca26"
                          ],
                          [
                            1,
                            "#f0f921"
                          ]
                        ],
                        "type": "histogram2d"
                      }
                    ],
                    "histogram2dcontour": [
                      {
                        "colorbar": {
                          "outlinewidth": 0,
                          "ticks": ""
                        },
                        "colorscale": [
                          [
                            0,
                            "#0d0887"
                          ],
                          [
                            0.1111111111111111,
                            "#46039f"
                          ],
                          [
                            0.2222222222222222,
                            "#7201a8"
                          ],
                          [
                            0.3333333333333333,
                            "#9c179e"
                          ],
                          [
                            0.4444444444444444,
                            "#bd3786"
                          ],
                          [
                            0.5555555555555556,
                            "#d8576b"
                          ],
                          [
                            0.6666666666666666,
                            "#ed7953"
                          ],
                          [
                            0.7777777777777778,
                            "#fb9f3a"
                          ],
                          [
                            0.8888888888888888,
                            "#fdca26"
                          ],
                          [
                            1,
                            "#f0f921"
                          ]
                        ],
                        "type": "histogram2dcontour"
                      }
                    ],
                    "mesh3d": [
                      {
                        "colorbar": {
                          "outlinewidth": 0,
                          "ticks": ""
                        },
                        "type": "mesh3d"
                      }
                    ],
                    "parcoords": [
                      {
                        "line": {
                          "colorbar": {
                            "outlinewidth": 0,
                            "ticks": ""
                          }
                        },
                        "type": "parcoords"
                      }
                    ],
                    "pie": [
                      {
                        "automargin": true,
                        "type": "pie"
                      }
                    ],
                    "scatter": [
                      {
                        "marker": {
                          "colorbar": {
                            "outlinewidth": 0,
                            "ticks": ""
                          }
                        },
                        "type": "scatter"
                      }
                    ],
                    "scatter3d": [
                      {
                        "line": {
                          "colorbar": {
                            "outlinewidth": 0,
                            "ticks": ""
                          }
                        },
                        "marker": {
                          "colorbar": {
                            "outlinewidth": 0,
                            "ticks": ""
                          }
                        },
                        "type": "scatter3d"
                      }
                    ],
                    "scattercarpet": [
                      {
                        "marker": {
                          "colorbar": {
                            "outlinewidth": 0,
                            "ticks": ""
                          }
                        },
                        "type": "scattercarpet"
                      }
                    ],
                    "scattergeo": [
                      {
                        "marker": {
                          "colorbar": {
                            "outlinewidth": 0,
                            "ticks": ""
                          }
                        },
                        "type": "scattergeo"
                      }
                    ],
                    "scattergl": [
                      {
                        "marker": {
                          "colorbar": {
                            "outlinewidth": 0,
                            "ticks": ""
                          }
                        },
                        "type": "scattergl"
                      }
                    ],
                    "scattermapbox": [
                      {
                        "marker": {
                          "colorbar": {
                            "outlinewidth": 0,
                            "ticks": ""
                          }
                        },
                        "type": "scattermapbox"
                      }
                    ],
                    "scatterpolar": [
                      {
                        "marker": {
                          "colorbar": {
                            "outlinewidth": 0,
                            "ticks": ""
                          }
                        },
                        "type": "scatterpolar"
                      }
                    ],
                    "scatterpolargl": [
                      {
                        "marker": {
                          "colorbar": {
                            "outlinewidth": 0,
                            "ticks": ""
                          }
                        },
                        "type": "scatterpolargl"
                      }
                    ],
                    "scatterternary": [
                      {
                        "marker": {
                          "colorbar": {
                            "outlinewidth": 0,
                            "ticks": ""
                          }
                        },
                        "type": "scatterternary"
                      }
                    ],
                    "surface": [
                      {
                        "colorbar": {
                          "outlinewidth": 0,
                          "ticks": ""
                        },
                        "colorscale": [
                          [
                            0,
                            "#0d0887"
                          ],
                          [
                            0.1111111111111111,
                            "#46039f"
                          ],
                          [
                            0.2222222222222222,
                            "#7201a8"
                          ],
                          [
                            0.3333333333333333,
                            "#9c179e"
                          ],
                          [
                            0.4444444444444444,
                            "#bd3786"
                          ],
                          [
                            0.5555555555555556,
                            "#d8576b"
                          ],
                          [
                            0.6666666666666666,
                            "#ed7953"
                          ],
                          [
                            0.7777777777777778,
                            "#fb9f3a"
                          ],
                          [
                            0.8888888888888888,
                            "#fdca26"
                          ],
                          [
                            1,
                            "#f0f921"
                          ]
                        ],
                        "type": "surface"
                      }
                    ],
                    "table": [
                      {
                        "cells": {
                          "fill": {
                            "color": "#EBF0F8"
                          },
                          "line": {
                            "color": "white"
                          }
                        },
                        "header": {
                          "fill": {
                            "color": "#C8D4E3"
                          },
                          "line": {
                            "color": "white"
                          }
                        },
                        "type": "table"
                      }
                    ]
                  },
                  "layout": {
                    "annotationdefaults": {
                      "arrowcolor": "#2a3f5f",
                      "arrowhead": 0,
                      "arrowwidth": 1
                    },
                    "autotypenumbers": "strict",
                    "coloraxis": {
                      "colorbar": {
                        "outlinewidth": 0,
                        "ticks": ""
                      }
                    },
                    "colorscale": {
                      "diverging": [
                        [
                          0,
                          "#8e0152"
                        ],
                        [
                          0.1,
                          "#c51b7d"
                        ],
                        [
                          0.2,
                          "#de77ae"
                        ],
                        [
                          0.3,
                          "#f1b6da"
                        ],
                        [
                          0.4,
                          "#fde0ef"
                        ],
                        [
                          0.5,
                          "#f7f7f7"
                        ],
                        [
                          0.6,
                          "#e6f5d0"
                        ],
                        [
                          0.7,
                          "#b8e186"
                        ],
                        [
                          0.8,
                          "#7fbc41"
                        ],
                        [
                          0.9,
                          "#4d9221"
                        ],
                        [
                          1,
                          "#276419"
                        ]
                      ],
                      "sequential": [
                        [
                          0,
                          "#0d0887"
                        ],
                        [
                          0.1111111111111111,
                          "#46039f"
                        ],
                        [
                          0.2222222222222222,
                          "#7201a8"
                        ],
                        [
                          0.3333333333333333,
                          "#9c179e"
                        ],
                        [
                          0.4444444444444444,
                          "#bd3786"
                        ],
                        [
                          0.5555555555555556,
                          "#d8576b"
                        ],
                        [
                          0.6666666666666666,
                          "#ed7953"
                        ],
                        [
                          0.7777777777777778,
                          "#fb9f3a"
                        ],
                        [
                          0.8888888888888888,
                          "#fdca26"
                        ],
                        [
                          1,
                          "#f0f921"
                        ]
                      ],
                      "sequentialminus": [
                        [
                          0,
                          "#0d0887"
                        ],
                        [
                          0.1111111111111111,
                          "#46039f"
                        ],
                        [
                          0.2222222222222222,
                          "#7201a8"
                        ],
                        [
                          0.3333333333333333,
                          "#9c179e"
                        ],
                        [
                          0.4444444444444444,
                          "#bd3786"
                        ],
                        [
                          0.5555555555555556,
                          "#d8576b"
                        ],
                        [
                          0.6666666666666666,
                          "#ed7953"
                        ],
                        [
                          0.7777777777777778,
                          "#fb9f3a"
                        ],
                        [
                          0.8888888888888888,
                          "#fdca26"
                        ],
                        [
                          1,
                          "#f0f921"
                        ]
                      ]
                    },
                    "colorway": [
                      "#636efa",
                      "#EF553B",
                      "#00cc96",
                      "#ab63fa",
                      "#FFA15A",
                      "#19d3f3",
                      "#FF6692",
                      "#B6E880",
                      "#FF97FF",
                      "#FECB52"
                    ],
                    "font": {
                      "color": "#2a3f5f"
                    },
                    "geo": {
                      "bgcolor": "white",
                      "lakecolor": "white",
                      "landcolor": "#E5ECF6",
                      "showlakes": true,
                      "showland": true,
                      "subunitcolor": "white"
                    },
                    "hoverlabel": {
                      "align": "left"
                    },
                    "hovermode": "closest",
                    "mapbox": {
                      "style": "light"
                    },
                    "paper_bgcolor": "white",
                    "plot_bgcolor": "#E5ECF6",
                    "polar": {
                      "angularaxis": {
                        "gridcolor": "white",
                        "linecolor": "white",
                        "ticks": ""
                      },
                      "bgcolor": "#E5ECF6",
                      "radialaxis": {
                        "gridcolor": "white",
                        "linecolor": "white",
                        "ticks": ""
                      }
                    },
                    "scene": {
                      "xaxis": {
                        "backgroundcolor": "#E5ECF6",
                        "gridcolor": "white",
                        "gridwidth": 2,
                        "linecolor": "white",
                        "showbackground": true,
                        "ticks": "",
                        "zerolinecolor": "white"
                      },
                      "yaxis": {
                        "backgroundcolor": "#E5ECF6",
                        "gridcolor": "white",
                        "gridwidth": 2,
                        "linecolor": "white",
                        "showbackground": true,
                        "ticks": "",
                        "zerolinecolor": "white"
                      },
                      "zaxis": {
                        "backgroundcolor": "#E5ECF6",
                        "gridcolor": "white",
                        "gridwidth": 2,
                        "linecolor": "white",
                        "showbackground": true,
                        "ticks": "",
                        "zerolinecolor": "white"
                      }
                    },
                    "shapedefaults": {
                      "line": {
                        "color": "#2a3f5f"
                      }
                    },
                    "ternary": {
                      "aaxis": {
                        "gridcolor": "white",
                        "linecolor": "white",
                        "ticks": ""
                      },
                      "baxis": {
                        "gridcolor": "white",
                        "linecolor": "white",
                        "ticks": ""
                      },
                      "bgcolor": "#E5ECF6",
                      "caxis": {
                        "gridcolor": "white",
                        "linecolor": "white",
                        "ticks": ""
                      }
                    },
                    "title": {
                      "x": 0.05
                    },
                    "xaxis": {
                      "automargin": true,
                      "gridcolor": "white",
                      "linecolor": "white",
                      "ticks": "",
                      "title": {
                        "standoff": 15
                      },
                      "zerolinecolor": "white",
                      "zerolinewidth": 2
                    },
                    "yaxis": {
                      "automargin": true,
                      "gridcolor": "white",
                      "linecolor": "white",
                      "ticks": "",
                      "title": {
                        "standoff": 15
                      },
                      "zerolinecolor": "white",
                      "zerolinewidth": 2
                    }
                  }
                },
                "xaxis": {
                  "anchor": "y",
                  "domain": [
                    0,
                    1
                  ],
                  "title": {
                    "text": "x"
                  }
                },
                "yaxis": {
                  "anchor": "x",
                  "domain": [
                    0,
                    1
                  ],
                  "title": {
                    "text": "y"
                  }
                }
              }
            }
          },
          "metadata": {}
        }
      ]
    },
    {
      "cell_type": "code",
      "metadata": {
        "colab": {
          "base_uri": "https://localhost:8080/"
        },
        "id": "0rR6ssc42qQI",
        "outputId": "bc0bcdcd-2bd1-41d3-d80d-e0cff01e25e8",
        "tags": [
          "outputPrepend"
        ]
      },
      "source": [
        "song_cluster_pipeline = Pipeline([('scaler', StandardScaler()),\n",
        "                                  ('kmeans', KMeans(n_clusters=20,\n",
        "                                                    verbose=2, n_jobs=-1))], verbose=True)\n",
        "X = df.select_dtypes(np.number)\n",
        "number_cols = list(X.columns)\n",
        "song_cluster_fitted = song_cluster_pipeline.fit(X)\n",
        "song_cluster_labels = song_cluster_pipeline.predict(X)\n",
        "df['cluster_label'] = song_cluster_labels"
      ],
      "execution_count": 15,
      "outputs": [
        {
          "output_type": "stream",
          "name": "stdout",
          "text": [
            "1, inertia 1046846.357476191\n",
            "Iteration 22, inertia 1046820.2064556519\n",
            "Iteration 23, inertia 1046804.2827641711\n",
            "Iteration 24, inertia 1046794.5313635863\n",
            "Iteration 25, inertia 1046789.2167879049\n",
            "Iteration 26, inertia 1046786.1450824946\n",
            "Converged at iteration 26: center shift 7.797439737144258e-05 within tolerance 9.999999999999879e-05.\n",
            "Initialization complete\n",
            "Iteration 0, inertia 1504205.461564059\n",
            "Iteration 1, inertia 1127234.6312071322\n",
            "Iteration 2, inertia 1092846.8541427704\n",
            "Iteration 3, inertia 1078344.0487455432\n",
            "Iteration 4, inertia 1070953.1350223029\n",
            "Iteration 5, inertia 1066843.3874103578\n",
            "Iteration 6, inertia 1064354.063430977\n",
            "Iteration 7, inertia 1062890.4264164658\n",
            "Iteration 8, inertia 1061854.0745945727\n",
            "Iteration 9, inertia 1061097.049567107\n",
            "Iteration 10, inertia 1060486.7891881175\n",
            "Iteration 11, inertia 1059916.5099633383\n",
            "Iteration 12, inertia 1059215.8179936903\n",
            "Iteration 13, inertia 1057930.532513715\n",
            "Iteration 14, inertia 1052800.6619332207\n",
            "Iteration 15, inertia 1040348.0332198648\n",
            "Iteration 16, inertia 1039390.6620494485\n",
            "Iteration 17, inertia 1039279.0472748934\n",
            "Iteration 18, inertia 1039185.8356212081\n",
            "Iteration 19, inertia 1039099.816490589\n",
            "Iteration 20, inertia 1039022.5189299192\n",
            "Iteration 21, inertia 1038950.876511664\n",
            "Iteration 22, inertia 1038890.0496702073\n",
            "Iteration 23, inertia 1038843.1899319511\n",
            "Iteration 24, inertia 1038810.287404865\n",
            "Iteration 25, inertia 1038784.1280776875\n",
            "Iteration 26, inertia 1038762.4994034723\n",
            "Iteration 27, inertia 1038744.7001139307\n",
            "Iteration 28, inertia 1038729.1132698199\n",
            "Iteration 29, inertia 1038713.5542487134\n",
            "Iteration 30, inertia 1038700.59556321\n",
            "Iteration 31, inertia 1038689.5374782092\n",
            "Iteration 32, inertia 1038678.0867100486\n",
            "Iteration 33, inertia 1038666.0953336192\n",
            "Iteration 34, inertia 1038655.6615066086\n",
            "Iteration 35, inertia 1038646.1481399132\n",
            "Iteration 36, inertia 1038636.6183631181\n",
            "Iteration 37, inertia 1038626.985844886\n",
            "Iteration 38, inertia 1038617.7638634505\n",
            "Iteration 39, inertia 1038609.093119694\n",
            "Iteration 40, inertia 1038600.2379000405\n",
            "Iteration 41, inertia 1038590.8127693402\n",
            "Iteration 42, inertia 1038579.2839647515\n",
            "Iteration 43, inertia 1038568.9229504738\n",
            "Iteration 44, inertia 1038558.5954100378\n",
            "Iteration 45, inertia 1038549.4486391566\n",
            "Iteration 46, inertia 1038540.2040379539\n",
            "Iteration 47, inertia 1038530.5058159216\n",
            "Iteration 48, inertia 1038520.0374938227\n",
            "Iteration 49, inertia 1038508.846645835\n",
            "Iteration 50, inertia 1038495.7696854247\n",
            "Iteration 51, inertia 1038479.9198530754\n",
            "Iteration 52, inertia 1038460.4139604229\n",
            "Iteration 53, inertia 1038441.8985532379\n",
            "Iteration 54, inertia 1038425.8891907416\n",
            "Iteration 55, inertia 1038408.0459730533\n",
            "Iteration 56, inertia 1038387.4371543156\n",
            "Iteration 57, inertia 1038361.8998948727\n",
            "Iteration 58, inertia 1038331.6837065786\n",
            "Iteration 59, inertia 1038301.7050056502\n",
            "Iteration 60, inertia 1038275.1427096057\n",
            "Iteration 61, inertia 1038251.5475913457\n",
            "Iteration 62, inertia 1038227.7788454683\n",
            "Iteration 63, inertia 1038202.239150414\n",
            "Iteration 64, inertia 1038177.5068256308\n",
            "Iteration 65, inertia 1038148.8854704179\n",
            "Iteration 66, inertia 1038123.8888519987\n",
            "Iteration 67, inertia 1038103.618091879\n",
            "Iteration 68, inertia 1038086.2349310451\n",
            "Iteration 69, inertia 1038069.9611605736\n",
            "Iteration 70, inertia 1038054.9904466525\n",
            "Iteration 71, inertia 1038040.0300929174\n",
            "Iteration 72, inertia 1038026.9569262867\n",
            "Iteration 73, inertia 1038017.1523810938\n",
            "Iteration 74, inertia 1038005.3956829455\n",
            "Iteration 75, inertia 1037993.7550574252\n",
            "Iteration 76, inertia 1037982.9415647017\n",
            "Iteration 77, inertia 1037971.5128791675\n",
            "Iteration 78, inertia 1037963.4699269884\n",
            "Iteration 79, inertia 1037956.4151414614\n",
            "Iteration 80, inertia 1037949.8587725278\n",
            "Iteration 81, inertia 1037942.051505389\n",
            "Iteration 82, inertia 1037934.2836657525\n",
            "Iteration 83, inertia 1037926.3632768866\n",
            "Iteration 84, inertia 1037917.7934701458\n",
            "Iteration 85, inertia 1037911.0463232205\n",
            "Iteration 86, inertia 1037905.0369514988\n",
            "Iteration 87, inertia 1037898.751031719\n",
            "Iteration 88, inertia 1037892.749430121\n",
            "Iteration 89, inertia 1037886.4183721966\n",
            "Iteration 90, inertia 1037879.5512670841\n",
            "Iteration 91, inertia 1037874.7212225335\n",
            "Iteration 92, inertia 1037871.2019527665\n",
            "Iteration 93, inertia 1037868.2325358939\n",
            "Iteration 94, inertia 1037865.1578561096\n",
            "Iteration 95, inertia 1037861.7258825917\n",
            "Iteration 96, inertia 1037857.8810428194\n",
            "Iteration 97, inertia 1037854.965452832\n",
            "Iteration 98, inertia 1037852.0631987182\n",
            "Iteration 99, inertia 1037849.4960317631\n",
            "Iteration 100, inertia 1037847.1713900403\n",
            "Iteration 101, inertia 1037845.2466600429\n",
            "Converged at iteration 101: center shift 9.027986768011204e-05 within tolerance 9.999999999999879e-05.\n",
            "Initialization complete\n",
            "Iteration 0, inertia 1481643.4435440642\n",
            "Iteration 1, inertia 1143396.7063313709\n",
            "Iteration 2, inertia 1096240.66946951\n",
            "Iteration 3, inertia 1064689.2860768968\n",
            "Iteration 4, inertia 1050664.590325624\n",
            "Iteration 5, inertia 1041128.1994916442\n",
            "Iteration 6, inertia 1031639.4122243923\n",
            "Iteration 7, inertia 1027240.6933279124\n",
            "Iteration 8, inertia 1025349.8546288912\n",
            "Iteration 9, inertia 1024130.4190871546\n",
            "Iteration 10, inertia 1023079.0613499199\n",
            "Iteration 11, inertia 1022205.7377942436\n",
            "Iteration 12, inertia 1021376.825257928\n",
            "Iteration 13, inertia 1020491.4599253454\n",
            "Iteration 14, inertia 1019654.7124439504\n",
            "Iteration 15, inertia 1018981.7395772493\n",
            "Iteration 16, inertia 1018508.7997079847\n",
            "Iteration 17, inertia 1018191.7626472644\n",
            "Iteration 18, inertia 1017958.1111772993\n",
            "Iteration 19, inertia 1017775.0874721151\n",
            "Iteration 20, inertia 1017629.8237158082\n",
            "Iteration 21, inertia 1017508.1799206728\n",
            "Iteration 22, inertia 1017403.0732691278\n",
            "Iteration 23, inertia 1017312.4734798433\n",
            "Iteration 24, inertia 1017236.960293576\n",
            "Iteration 25, inertia 1017178.6625234304\n",
            "Iteration 26, inertia 1017126.9015241713\n",
            "Iteration 27, inertia 1017080.747088116\n",
            "Iteration 28, inertia 1017042.6942280058\n",
            "Iteration 29, inertia 1017011.3107090808\n",
            "Iteration 30, inertia 1016981.6130580653\n",
            "Iteration 31, inertia 1016956.4608047274\n",
            "Iteration 32, inertia 1016930.8100133127\n",
            "Iteration 33, inertia 1016904.844083494\n",
            "Iteration 34, inertia 1016883.5052865298\n",
            "Iteration 35, inertia 1016862.3613435698\n",
            "Iteration 36, inertia 1016839.4451655976\n",
            "Iteration 37, inertia 1016820.7625585069\n",
            "Iteration 38, inertia 1016801.9213604062\n",
            "Iteration 39, inertia 1016781.2637966123\n",
            "Iteration 40, inertia 1016760.6620333731\n",
            "Iteration 41, inertia 1016738.3876855095\n",
            "Iteration 42, inertia 1016716.4934421587\n",
            "Iteration 43, inertia 1016696.3183037871\n",
            "Iteration 44, inertia 1016678.066228133\n",
            "Iteration 45, inertia 1016661.1656775246\n",
            "Iteration 46, inertia 1016645.2487697318\n",
            "Iteration 47, inertia 1016631.8299187797\n",
            "Iteration 48, inertia 1016618.2008491241\n",
            "Iteration 49, inertia 1016605.2773590018\n",
            "Iteration 50, inertia 1016595.5808613894\n",
            "Iteration 51, inertia 1016586.7150887222\n",
            "Iteration 52, inertia 1016576.7136645392\n",
            "Iteration 53, inertia 1016565.7396117577\n",
            "Iteration 54, inertia 1016553.9525793842\n",
            "Iteration 55, inertia 1016541.962857661\n",
            "Iteration 56, inertia 1016530.7664933114\n",
            "Iteration 57, inertia 1016520.8856204094\n",
            "Iteration 58, inertia 1016511.4740891044\n",
            "Iteration 59, inertia 1016503.705138708\n",
            "Iteration 60, inertia 1016496.8406187535\n",
            "Iteration 61, inertia 1016490.4824147819\n",
            "Iteration 62, inertia 1016485.6420916319\n",
            "Iteration 63, inertia 1016480.5015297988\n",
            "Iteration 64, inertia 1016474.0443785546\n",
            "Iteration 65, inertia 1016468.1073966953\n",
            "Iteration 66, inertia 1016463.0249926321\n",
            "Iteration 67, inertia 1016457.714332779\n",
            "Iteration 68, inertia 1016452.7269278661\n",
            "Iteration 69, inertia 1016447.3664086807\n",
            "Iteration 70, inertia 1016441.8431558374\n",
            "Iteration 71, inertia 1016437.7385154695\n",
            "Iteration 72, inertia 1016434.4692399959\n",
            "Iteration 73, inertia 1016430.3361776558\n",
            "Iteration 74, inertia 1016426.087773545\n",
            "Iteration 75, inertia 1016421.5007076827\n",
            "Iteration 76, inertia 1016417.2895771909\n",
            "Iteration 77, inertia 1016414.2470707936\n",
            "Iteration 78, inertia 1016411.6866383379\n",
            "Iteration 79, inertia 1016409.7223962159\n",
            "Converged at iteration 79: center shift 8.403759528584602e-05 within tolerance 9.999999999999879e-05.\n",
            "Initialization complete\n",
            "Iteration 0, inertia 1470304.7349058585\n",
            "Iteration 1, inertia 1136013.3833748188\n",
            "Iteration 2, inertia 1095619.6031065534\n",
            "Iteration 3, inertia 1077890.523470386\n",
            "Iteration 4, inertia 1068064.4954243116\n",
            "Iteration 5, inertia 1062081.1592589058\n",
            "Iteration 6, inertia 1058164.4020509184\n",
            "Iteration 7, inertia 1055654.745593882\n",
            "Iteration 8, inertia 1053917.810453295\n",
            "Iteration 9, inertia 1052596.1077454574\n",
            "Iteration 10, inertia 1051457.387860702\n",
            "Iteration 11, inertia 1050487.4295045652\n",
            "Iteration 12, inertia 1049695.1805296363\n",
            "Iteration 13, inertia 1049027.9240422654\n",
            "Iteration 14, inertia 1048512.1995469715\n",
            "Iteration 15, inertia 1048143.5354227336\n",
            "Iteration 16, inertia 1047880.0902864202\n",
            "Iteration 17, inertia 1047682.1291554515\n",
            "Iteration 18, inertia 1047548.4063381898\n",
            "Iteration 19, inertia 1047459.6052272469\n",
            "Iteration 20, inertia 1047398.6671891141\n",
            "Iteration 21, inertia 1047358.4060380409\n",
            "Iteration 22, inertia 1047334.7334708476\n",
            "Iteration 23, inertia 1047319.1921341358\n",
            "Iteration 24, inertia 1047310.0123991561\n",
            "Iteration 25, inertia 1047302.1689623081\n",
            "Iteration 26, inertia 1047295.9634976443\n",
            "Iteration 27, inertia 1047291.7377629215\n",
            "Iteration 28, inertia 1047289.152936761\n",
            "Converged at iteration 28: center shift 9.282870418815278e-05 within tolerance 9.999999999999879e-05.\n",
            "Initialization complete\n",
            "Iteration 0, inertia 1502538.0048387884\n",
            "Iteration 1, inertia 1109730.1075027655\n",
            "Iteration 2, inertia 1062257.056236975\n",
            "Iteration 3, inertia 1044490.8090377388\n",
            "Iteration 4, inertia 1038199.8773000843\n",
            "Iteration 5, inertia 1035233.7386259909\n",
            "Iteration 6, inertia 1032804.4982867843\n",
            "Iteration 7, inertia 1030428.7159213141\n",
            "Iteration 8, inertia 1027804.2106690165\n",
            "Iteration 9, inertia 1024615.8117873162\n",
            "Iteration 10, inertia 1021459.3954237534\n",
            "Iteration 11, inertia 1019763.7411639292\n",
            "Iteration 12, inertia 1018984.6686715703\n",
            "Iteration 13, inertia 1018559.9518175251\n",
            "Iteration 14, inertia 1018305.4433707475\n",
            "Iteration 15, inertia 1018143.4064875211\n",
            "Iteration 16, inertia 1018036.4995661931\n",
            "Iteration 17, inertia 1017962.7228757704\n",
            "Iteration 18, inertia 1017908.2688431779\n",
            "Iteration 19, inertia 1017873.696665732\n",
            "Iteration 20, inertia 1017851.2635600304\n",
            "Iteration 21, inertia 1017835.7527967569\n",
            "Iteration 22, inertia 1017824.2365517919\n",
            "Iteration 23, inertia 1017815.8442258062\n",
            "Iteration 24, inertia 1017808.4347995525\n",
            "Iteration 25, inertia 1017801.298774411\n",
            "Iteration 26, inertia 1017796.4119606797\n",
            "Iteration 27, inertia 1017792.6176002728\n",
            "Iteration 28, inertia 1017789.3547935862\n",
            "Iteration 29, inertia 1017787.3023963188\n",
            "Converged at iteration 29: center shift 9.380391317287286e-05 within tolerance 9.999999999999879e-05.\n",
            "Initialization complete\n",
            "Iteration 0, inertia 1430648.0497724174\n",
            "Iteration 1, inertia 1113177.3711105646\n",
            "Iteration 2, inertia 1072301.0315473008\n",
            "Iteration 3, inertia 1060794.8566557548\n",
            "Iteration 4, inertia 1055512.232522902\n",
            "Iteration 5, inertia 1051606.5271068397\n",
            "Iteration 6, inertia 1048788.0688067805\n",
            "Iteration 7, inertia 1046610.5553818772\n",
            "Iteration 8, inertia 1044553.2497596985\n",
            "Iteration 9, inertia 1042707.6331340595\n",
            "Iteration 10, inertia 1041330.914589926\n",
            "Iteration 11, inertia 1040515.3016736265\n",
            "Iteration 12, inertia 1039962.145721332\n",
            "Iteration 13, inertia 1039525.2952577552\n",
            "Iteration 14, inertia 1039017.9616404491\n",
            "Iteration 15, inertia 1038163.9616703795\n",
            "Iteration 16, inertia 1036511.3139317436\n",
            "Iteration 17, inertia 1034627.1545602081\n",
            "Iteration 18, inertia 1034106.7640377728\n",
            "Iteration 19, inertia 1033950.4126999978\n",
            "Iteration 20, inertia 1033868.2152709883\n",
            "Iteration 21, inertia 1033812.1539819287\n",
            "Iteration 22, inertia 1033770.5073514738\n",
            "Iteration 23, inertia 1033730.9649576385\n",
            "Iteration 24, inertia 1033692.1781937719\n",
            "Iteration 25, inertia 1033655.102696087\n",
            "Iteration 26, inertia 1033616.9046893959\n",
            "Iteration 27, inertia 1033572.4591619518\n",
            "Iteration 28, inertia 1033502.237594577\n",
            "Iteration 29, inertia 1033429.9313632223\n",
            "Iteration 30, inertia 1033374.392024027\n",
            "Iteration 31, inertia 1033332.7672388798\n",
            "Iteration 32, inertia 1033300.8609402013\n",
            "Iteration 33, inertia 1033272.3087729979\n",
            "Iteration 34, inertia 1033251.0973135922\n",
            "Iteration 35, inertia 1033238.0630278687\n",
            "Iteration 36, inertia 1033228.7177593875\n",
            "Iteration 37, inertia 1033220.7593230288\n",
            "Iteration 38, inertia 1033214.5571180023\n",
            "Iteration 39, inertia 1033209.2911967748\n",
            "Iteration 40, inertia 1033204.7180085637\n",
            "Iteration 41, inertia 1033202.067935321\n",
            "Converged at iteration 41: center shift 9.902834464922473e-05 within tolerance 9.999999999999879e-05.\n",
            "Initialization complete\n",
            "Iteration 0, inertia 1465965.8832015244\n",
            "Iteration 1, inertia 1113260.4230897345\n",
            "Iteration 2, inertia 1073103.0957240493\n",
            "Iteration 3, inertia 1057883.2830422854\n",
            "Iteration 4, inertia 1048825.32656208\n",
            "Iteration 5, inertia 1042736.7032428354\n",
            "Iteration 6, inertia 1038378.0154169255\n",
            "Iteration 7, inertia 1035333.7860276351\n",
            "Iteration 8, inertia 1033152.5022890969\n",
            "Iteration 9, inertia 1031311.1708269092\n",
            "Iteration 10, inertia 1029284.6808597983\n",
            "Iteration 11, inertia 1027188.5032641218\n",
            "Iteration 12, inertia 1025696.9890218314\n",
            "Iteration 13, inertia 1024917.607653452\n",
            "Iteration 14, inertia 1024498.8308694363\n",
            "Iteration 15, inertia 1024202.1162228467\n",
            "Iteration 16, inertia 1023920.8362286855\n",
            "Iteration 17, inertia 1023692.673848735\n",
            "Iteration 18, inertia 1023541.3666112398\n",
            "Iteration 19, inertia 1023465.0958477674\n",
            "Iteration 20, inertia 1023428.1008305687\n",
            "Iteration 21, inertia 1023402.0511175649\n",
            "Iteration 22, inertia 1023379.0244383562\n",
            "Iteration 23, inertia 1023359.7934375037\n",
            "Iteration 24, inertia 1023336.9290993726\n",
            "Iteration 25, inertia 1023307.2815152269\n",
            "Iteration 26, inertia 1023265.0706076754\n",
            "Iteration 27, inertia 1023194.9393411543\n",
            "Iteration 28, inertia 1023082.1752746275\n",
            "Iteration 29, inertia 1022912.161669192\n",
            "Iteration 30, inertia 1022680.7194006708\n",
            "Iteration 31, inertia 1022396.1428709334\n",
            "Iteration 32, inertia 1022104.4792535406\n",
            "Iteration 33, inertia 1021822.0431255979\n",
            "Iteration 34, inertia 1021608.0743045196\n",
            "Iteration 35, inertia 1021485.17066349\n",
            "Iteration 36, inertia 1021415.5256859221\n",
            "Iteration 37, inertia 1021376.9852877383\n",
            "Iteration 38, inertia 1021355.0842748357\n",
            "Iteration 39, inertia 1021341.1435882868\n",
            "Iteration 40, inertia 1021333.000741589\n",
            "Iteration 41, inertia 1021328.308715876\n",
            "Iteration 42, inertia 1021325.1806502573\n",
            "Iteration 43, inertia 1021323.1114092307\n",
            "Converged at iteration 43: center shift 8.809418961195029e-05 within tolerance 9.999999999999879e-05.\n",
            "Initialization complete\n",
            "Iteration 0, inertia 1459150.1976420654\n",
            "Iteration 1, inertia 1116081.5543320237\n",
            "Iteration 2, inertia 1082233.0061709723\n",
            "Iteration 3, inertia 1066181.623958968\n",
            "Iteration 4, inertia 1056696.0574209595\n",
            "Iteration 5, inertia 1050342.7662866013\n",
            "Iteration 6, inertia 1045755.8504576994\n",
            "Iteration 7, inertia 1042255.5638807431\n",
            "Iteration 8, inertia 1039704.9772640876\n",
            "Iteration 9, inertia 1038031.6306814301\n",
            "Iteration 10, inertia 1036941.323644999\n",
            "Iteration 11, inertia 1036241.9574078079\n",
            "Iteration 12, inertia 1035799.2552585506\n",
            "Iteration 13, inertia 1035452.1287611745\n",
            "Iteration 14, inertia 1035171.1898479722\n",
            "Iteration 15, inertia 1034929.9769149373\n",
            "Iteration 16, inertia 1034713.711016824\n",
            "Iteration 17, inertia 1034474.2211994787\n",
            "Iteration 18, inertia 1034131.0462031835\n",
            "Iteration 19, inertia 1033562.1689599219\n",
            "Iteration 20, inertia 1032349.6599482119\n",
            "Iteration 21, inertia 1029465.4328737115\n",
            "Iteration 22, inertia 1026358.5319022192\n",
            "Iteration 23, inertia 1025397.9382438004\n",
            "Iteration 24, inertia 1025014.4224446579\n",
            "Iteration 25, inertia 1024855.0069770016\n",
            "Iteration 26, inertia 1024772.2232014035\n",
            "Iteration 27, inertia 1024720.3471005502\n",
            "Iteration 28, inertia 1024686.9665780087\n",
            "Iteration 29, inertia 1024659.9540454594\n",
            "Iteration 30, inertia 1024636.2890189275\n",
            "Iteration 31, inertia 1024614.4404961991\n",
            "Iteration 32, inertia 1024596.1331401488\n",
            "Iteration 33, inertia 1024582.2046172895\n",
            "Iteration 34, inertia 1024570.2110500669\n",
            "Iteration 35, inertia 1024557.3901385393\n",
            "Iteration 36, inertia 1024544.8777179379\n",
            "Iteration 37, inertia 1024535.81565296\n",
            "Iteration 38, inertia 1024528.3970587116\n",
            "Iteration 39, inertia 1024521.6369825732\n",
            "Iteration 40, inertia 1024514.1917266959\n",
            "Iteration 41, inertia 1024507.3313289166\n",
            "Iteration 42, inertia 1024503.2678810783\n",
            "Iteration 43, inertia 1024500.7902675561\n",
            "Iteration 44, inertia 1024498.2495835054\n",
            "Iteration 45, inertia 1024495.9880743086\n",
            "Converged at iteration 45: center shift 8.321414364556028e-05 within tolerance 9.999999999999879e-05.\n",
            "Initialization complete\n",
            "Iteration 0, inertia 1454960.0087874257\n",
            "Iteration 1, inertia 1129181.1921250012\n",
            "Iteration 2, inertia 1099086.6944286695\n",
            "Iteration 3, inertia 1082870.3857801682\n",
            "Iteration 4, inertia 1073177.7305206729\n",
            "Iteration 5, inertia 1067815.893338484\n",
            "Iteration 6, inertia 1064672.2143825395\n",
            "Iteration 7, inertia 1062373.3628212335\n",
            "Iteration 8, inertia 1060219.1011274103\n",
            "Iteration 9, inertia 1057566.4669285752\n",
            "Iteration 10, inertia 1053706.3789663068\n",
            "Iteration 11, inertia 1050169.6509458115\n",
            "Iteration 12, inertia 1048550.9938540029\n",
            "Iteration 13, inertia 1047366.4612434886\n",
            "Iteration 14, inertia 1046008.9794630697\n",
            "Iteration 15, inertia 1044296.0979608283\n",
            "Iteration 16, inertia 1042917.2494969576\n",
            "Iteration 17, inertia 1040908.2690963844\n",
            "Iteration 18, inertia 1038076.1283102118\n",
            "Iteration 19, inertia 1036013.4314374247\n",
            "Iteration 20, inertia 1034731.0093030886\n",
            "Iteration 21, inertia 1033749.2792063011\n",
            "Iteration 22, inertia 1032808.021582361\n",
            "Iteration 23, inertia 1031961.2594756881\n",
            "Iteration 24, inertia 1031143.2755148183\n",
            "Iteration 25, inertia 1030213.5316003923\n",
            "Iteration 26, inertia 1028921.3558985171\n",
            "Iteration 27, inertia 1026013.341850379\n",
            "Iteration 28, inertia 1022062.0396115346\n",
            "Iteration 29, inertia 1019918.8711880622\n",
            "Iteration 30, inertia 1019238.4769400075\n",
            "Iteration 31, inertia 1018948.5679040143\n",
            "Iteration 32, inertia 1018711.7185453189\n",
            "Iteration 33, inertia 1018510.889493809\n",
            "Iteration 34, inertia 1018318.2483120457\n",
            "Iteration 35, inertia 1018093.948012237\n",
            "Iteration 36, inertia 1017878.6435186367\n",
            "Iteration 37, inertia 1017689.5918210928\n",
            "Iteration 38, inertia 1017524.9889765206\n",
            "Iteration 39, inertia 1017379.5732874889\n",
            "Iteration 40, inertia 1017249.7349322084\n",
            "Iteration 41, inertia 1017141.7728997648\n",
            "Iteration 42, inertia 1017061.1936719674\n",
            "Iteration 43, inertia 1017000.0720293474\n",
            "Iteration 44, inertia 1016956.9887663039\n",
            "Iteration 45, inertia 1016922.9767197407\n",
            "Iteration 46, inertia 1016897.0835250531\n",
            "Iteration 47, inertia 1016873.6453463066\n",
            "Iteration 48, inertia 1016856.4628422019\n",
            "Iteration 49, inertia 1016842.3031034758\n",
            "Iteration 50, inertia 1016832.181852212\n",
            "Iteration 51, inertia 1016823.1316078021\n",
            "Iteration 52, inertia 1016815.5741039225\n",
            "Iteration 53, inertia 1016809.4790599425\n",
            "Iteration 54, inertia 1016804.4309129377\n",
            "Iteration 55, inertia 1016800.6481740241\n",
            "Iteration 56, inertia 1016798.0262860582\n",
            "Iteration 57, inertia 1016796.2541951223\n",
            "Converged at iteration 57: center shift 4.873707846441506e-05 within tolerance 9.999999999999879e-05.\n",
            "Initialization complete\n",
            "Iteration 0, inertia 1525599.6423030384\n",
            "Iteration 1, inertia 1146252.5431366118\n",
            "Iteration 2, inertia 1103412.215159709\n",
            "Iteration 3, inertia 1070276.8099170746\n",
            "Iteration 4, inertia 1052074.9275404497\n",
            "Iteration 5, inertia 1042588.7506502899\n",
            "Iteration 6, inertia 1035990.0595173696\n",
            "Iteration 7, inertia 1031349.0695271369\n",
            "Iteration 8, inertia 1028830.0730666867\n",
            "Iteration 9, inertia 1027468.5484826537\n",
            "Iteration 10, inertia 1026613.5120888957\n",
            "Iteration 11, inertia 1025984.8230405059\n",
            "Iteration 12, inertia 1025721.3083076347\n",
            "Iteration 13, inertia 1025605.2225725398\n",
            "Iteration 14, inertia 1025536.3129545742\n",
            "Iteration 15, inertia 1025492.4007283966\n",
            "Iteration 16, inertia 1025464.5470150706\n",
            "Iteration 17, inertia 1025446.9065586298\n",
            "Iteration 18, inertia 1025435.0168774761\n",
            "Iteration 19, inertia 1025427.1475512752\n",
            "Iteration 20, inertia 1025421.9156146417\n",
            "Iteration 21, inertia 1025417.676668845\n",
            "Iteration 22, inertia 1025414.9574275477\n",
            "Converged at iteration 22: center shift 9.04694068208441e-05 within tolerance 9.999999999999879e-05.\n",
            "[Pipeline] ............ (step 2 of 2) Processing kmeans, total=  26.4s\n"
          ]
        }
      ]
    },
    {
      "cell_type": "code",
      "execution_count": 16,
      "metadata": {},
      "outputs": [],
      "source": [
        "import pickle\n",
        "cluster_file = 'cluster.pickle'\n",
        "pickle.dump(song_cluster_pipeline, open(cluster_file, 'wb'))"
      ]
    },
    {
      "cell_type": "code",
      "metadata": {
        "id": "vJ00JHpT6DTU"
      },
      "source": [
        "\n",
        "\n",
        "SPOTIPY_CLIENT_ID = getenv('SPOTIPY_CLIENT_ID')\n",
        "SPOTIPY_SECRET_ID = getenv('SECRET_ID')\n",
        "\n",
        "sp = spotipy.Spotify(auth_manager=SpotifyClientCredentials(client_id=SPOTIPY_CLIENT_ID,\n",
        "                                                           client_secret=SPOTIPY_SECRET_ID))\n",
        "\n",
        "def find_song(name):\n",
        "  song_data = defaultdict()\n",
        "  results = sp.search(q='track: {}'.format(name), limit=1)\n",
        "  if results['tracks']['items'] == []:\n",
        "    return None\n",
        "\n",
        "  results = results['tracks']['items'][0]\n",
        "  track_id = results['id']\n",
        "  audio_features = sp.audio_features(track_id)[0]\n",
        "\n",
        "  song_data['name'] = [name]  \n",
        "  # song_data['year'] = [year]\n",
        "  song_data['explicit'] = [int(results['explicit'])]\n",
        "  song_data['duration_ms'] = [results['duration_ms']]\n",
        "  song_data['popularity'] = [results['popularity']]\n",
        "\n",
        "  for key, value in audio_features.items():\n",
        "    song_data[key] = value\n",
        "\n",
        "  return pd.DataFrame(song_data)"
      ],
      "execution_count": 17,
      "outputs": []
    },
    {
      "cell_type": "code",
      "execution_count": 18,
      "metadata": {},
      "outputs": [],
      "source": [
        "xd = sp.search(q=\"track: michael jackson\")"
      ]
    },
    {
      "cell_type": "code",
      "execution_count": 19,
      "metadata": {},
      "outputs": [],
      "source": [
        "xd = xd['tracks']['items'][0]"
      ]
    },
    {
      "cell_type": "code",
      "execution_count": 20,
      "metadata": {},
      "outputs": [],
      "source": [
        "t_id = xd['id']"
      ]
    },
    {
      "cell_type": "code",
      "execution_count": 21,
      "metadata": {},
      "outputs": [
        {
          "output_type": "execute_result",
          "data": {
            "text/plain": [
              "       name  explicit  duration_ms  popularity  danceability  energy  key  \\\n",
              "0  Thriller         0       358053          67         0.764   0.887   11   \n",
              "\n",
              "   loudness  mode  speechiness  ...  instrumentalness  liveness  valence  \\\n",
              "0    -3.726     1       0.0744  ...           0.00011     0.847     0.72   \n",
              "\n",
              "     tempo            type                      id  \\\n",
              "0  118.427  audio_features  7azo4rpSUh8nXgtonC6Pkq   \n",
              "\n",
              "                                    uri  \\\n",
              "0  spotify:track:7azo4rpSUh8nXgtonC6Pkq   \n",
              "\n",
              "                                          track_href  \\\n",
              "0  https://api.spotify.com/v1/tracks/7azo4rpSUh8n...   \n",
              "\n",
              "                                        analysis_url time_signature  \n",
              "0  https://api.spotify.com/v1/audio-analysis/7azo...              4  \n",
              "\n",
              "[1 rows x 21 columns]"
            ],
            "text/html": "<div>\n<style scoped>\n    .dataframe tbody tr th:only-of-type {\n        vertical-align: middle;\n    }\n\n    .dataframe tbody tr th {\n        vertical-align: top;\n    }\n\n    .dataframe thead th {\n        text-align: right;\n    }\n</style>\n<table border=\"1\" class=\"dataframe\">\n  <thead>\n    <tr style=\"text-align: right;\">\n      <th></th>\n      <th>name</th>\n      <th>explicit</th>\n      <th>duration_ms</th>\n      <th>popularity</th>\n      <th>danceability</th>\n      <th>energy</th>\n      <th>key</th>\n      <th>loudness</th>\n      <th>mode</th>\n      <th>speechiness</th>\n      <th>...</th>\n      <th>instrumentalness</th>\n      <th>liveness</th>\n      <th>valence</th>\n      <th>tempo</th>\n      <th>type</th>\n      <th>id</th>\n      <th>uri</th>\n      <th>track_href</th>\n      <th>analysis_url</th>\n      <th>time_signature</th>\n    </tr>\n  </thead>\n  <tbody>\n    <tr>\n      <th>0</th>\n      <td>Thriller</td>\n      <td>0</td>\n      <td>358053</td>\n      <td>67</td>\n      <td>0.764</td>\n      <td>0.887</td>\n      <td>11</td>\n      <td>-3.726</td>\n      <td>1</td>\n      <td>0.0744</td>\n      <td>...</td>\n      <td>0.00011</td>\n      <td>0.847</td>\n      <td>0.72</td>\n      <td>118.427</td>\n      <td>audio_features</td>\n      <td>7azo4rpSUh8nXgtonC6Pkq</td>\n      <td>spotify:track:7azo4rpSUh8nXgtonC6Pkq</td>\n      <td>https://api.spotify.com/v1/tracks/7azo4rpSUh8n...</td>\n      <td>https://api.spotify.com/v1/audio-analysis/7azo...</td>\n      <td>4</td>\n    </tr>\n  </tbody>\n</table>\n<p>1 rows × 21 columns</p>\n</div>"
          },
          "metadata": {},
          "execution_count": 21
        }
      ],
      "source": [
        "find_song(\"Thriller\")"
      ]
    },
    {
      "cell_type": "code",
      "execution_count": 22,
      "metadata": {},
      "outputs": [],
      "source": [
        "audio_feat = sp.audio_features(t_id)[0]"
      ]
    },
    {
      "cell_type": "code",
      "execution_count": 23,
      "metadata": {},
      "outputs": [
        {
          "output_type": "execute_result",
          "data": {
            "text/plain": [
              "{'danceability': 0.822,\n",
              " 'energy': 0.318,\n",
              " 'key': 10,\n",
              " 'loudness': -12.391,\n",
              " 'mode': 1,\n",
              " 'speechiness': 0.0575,\n",
              " 'acousticness': 0.493,\n",
              " 'instrumentalness': 0.0128,\n",
              " 'liveness': 0.11,\n",
              " 'valence': 0.138,\n",
              " 'tempo': 102.998,\n",
              " 'type': 'audio_features',\n",
              " 'id': '6G8kHiVZ1jW7vHMPVRNZU0',\n",
              " 'uri': 'spotify:track:6G8kHiVZ1jW7vHMPVRNZU0',\n",
              " 'track_href': 'https://api.spotify.com/v1/tracks/6G8kHiVZ1jW7vHMPVRNZU0',\n",
              " 'analysis_url': 'https://api.spotify.com/v1/audio-analysis/6G8kHiVZ1jW7vHMPVRNZU0',\n",
              " 'duration_ms': 245787,\n",
              " 'time_signature': 4}"
            ]
          },
          "metadata": {},
          "execution_count": 23
        }
      ],
      "source": [
        "audio_feat"
      ]
    },
    {
      "cell_type": "code",
      "metadata": {
        "id": "N45l31F176vp"
      },
      "source": [
        "def get_song_data(song, df):\n",
        "\n",
        "  try:\n",
        "    song_data = df[(df['name'] == song['name'])].iloc[0]\n",
        "     \n",
        "    return song_data\n",
        "  \n",
        "  except IndexError:\n",
        "    return find_song(song['name']) # , song['year']\n",
        "\n",
        "\n",
        "def get_mean_vector(song_list, df):\n",
        "  \n",
        "  song_vectors = []\n",
        "\n",
        "  for song in song_list:\n",
        "    song_data = get_song_data(song, df)\n",
        "    if song_data is None:\n",
        "      print('Warning: {} does not exist in Spotify or in database'.format(song['name']))\n",
        "      continue\n",
        "    song_vector = song_data[number_cols].values\n",
        "    song_vectors.append(song_vector)\n",
        "\n",
        "  song_matrix = np.array(list(song_vectors))\n",
        "  return np.mean(song_matrix, axis=0)\n",
        "\n",
        "\n",
        "def flatten_dict_list(dict_list):\n",
        "  flattened_dict = defaultdict()\n",
        "  for key in dict_list[0].keys():\n",
        "    flattened_dict[key] = []\n",
        "  \n",
        "  for dictionary in dict_list:\n",
        "    for key, value in dictionary.items():\n",
        "      flattened_dict[key].append(value)\n",
        "  return flattened_dict\n",
        "  \n",
        "\n",
        "def recommend_songs(song_list, df=df, n_songs=10):\n",
        "  metadata_cols = ['name', 'artists']\n",
        "  song_dict = flatten_dict_list(song_list)\n",
        "\n",
        "  song_center = get_mean_vector(song_list, df)\n",
        "  scaler = song_cluster_pipeline.steps[0][1]\n",
        "  scaled_data = scaler.transform(df[number_cols])\n",
        "  scaled_song_center = scaler.transform(song_center.reshape(1,-1))\n",
        "  distances = cdist(scaled_song_center, scaled_data, 'cosine')\n",
        "  index = list(np.argsort(distances)[:, :n_songs][0])\n",
        "\n",
        "  rec_songs = df.iloc[index]\n",
        "  rec_songs = rec_songs[~rec_songs['name'].isin(song_dict['name'])]\n",
        "  ten_songs = rec_songs[metadata_cols].to_dict(orient='records')\n",
        "  return ten_songs, scaled_song_center, scaled_data"
      ],
      "execution_count": 24,
      "outputs": []
    },
    {
      "cell_type": "code",
      "metadata": {
        "colab": {
          "base_uri": "https://localhost:8080/"
        },
        "id": "hC5X1F8__wow",
        "outputId": "f1a9acea-1b61-4569-9ca7-234a7059c2b2"
      },
      "source": [
        "ten_song, ssc, sd = recommend_songs([{'name': 'DVP'}])"
      ],
      "execution_count": 25,
      "outputs": []
    },
    {
      "cell_type": "code",
      "execution_count": 26,
      "metadata": {},
      "outputs": [
        {
          "output_type": "execute_result",
          "data": {
            "text/plain": [
              "[{'name': 'Tired Of Sex', 'artists': 'Weezer'},\n",
              " {'name': 'How You Love Me Now', 'artists': 'Hey Monday'},\n",
              " {'name': 'Heaven Is Falling', 'artists': 'Bad Religion'},\n",
              " {'name': 'Lost in Space', 'artists': 'Misfits'},\n",
              " {'name': \"You Be Tails, I'll Be Sonic\", 'artists': 'A Day To Remember'},\n",
              " {'name': 'Drowning (Face Down)', 'artists': 'Saving Abel'},\n",
              " {'name': 'Angels Of The Silences', 'artists': 'Counting Crows'},\n",
              " {'name': 'Anarchy in the U.K.', 'artists': 'Sex Pistols'},\n",
              " {'name': 'Search and Destroy - Iggy Pop Mix', 'artists': 'The Stooges'},\n",
              " {'name': 'The Air That I Breathe', 'artists': 'All That Remains'}]"
            ]
          },
          "metadata": {},
          "execution_count": 26
        }
      ],
      "source": [
        "ten_song"
      ]
    },
    {
      "cell_type": "code",
      "execution_count": 27,
      "metadata": {},
      "outputs": [
        {
          "output_type": "execute_result",
          "data": {
            "text/plain": [
              "array([ 0.37841108,  1.79089823, -0.55668873,  0.12570987, -0.27040128,\n",
              "       -0.51065739, -0.05835388, -0.72148905,  0.78886167, -1.53623943,\n",
              "       -0.85464531, -0.28711336, -0.99548519,  1.60871779])"
            ]
          },
          "metadata": {},
          "execution_count": 27
        }
      ],
      "source": [
        "sd[1]"
      ]
    },
    {
      "cell_type": "code",
      "execution_count": 28,
      "metadata": {},
      "outputs": [],
      "source": [
        "r = ssc"
      ]
    },
    {
      "cell_type": "code",
      "execution_count": 29,
      "metadata": {},
      "outputs": [
        {
          "output_type": "execute_result",
          "data": {
            "text/plain": [
              "array([[-1.3023512 , -0.99848224, -0.56549629,  1.88598466, -0.27040128,\n",
              "        -0.5895536 ,  0.22587578,  0.6475452 ,  1.84937665,  0.6509402 ,\n",
              "         1.15699688, -0.03417752,  1.02315088, -1.12498921]])"
            ]
          },
          "metadata": {},
          "execution_count": 29
        }
      ],
      "source": [
        "r"
      ]
    },
    {
      "cell_type": "code",
      "execution_count": 30,
      "metadata": {},
      "outputs": [],
      "source": [
        "import itertools\n",
        "r = list(itertools.chain.from_iterable(ssc))"
      ]
    },
    {
      "cell_type": "code",
      "execution_count": 31,
      "metadata": {},
      "outputs": [
        {
          "output_type": "execute_result",
          "data": {
            "text/plain": [
              "[-1.3023512023072747,\n",
              " -0.9984822438640804,\n",
              " -0.5654962872405377,\n",
              " 1.885984656756196,\n",
              " -0.2704012765337135,\n",
              " -0.5895536000587207,\n",
              " 0.22587577760581226,\n",
              " 0.647545196258879,\n",
              " 1.8493766514951722,\n",
              " 0.6509401971195059,\n",
              " 1.1569968768721903,\n",
              " -0.034177522490510294,\n",
              " 1.0231508827755875,\n",
              " -1.1249892086132696]"
            ]
          },
          "metadata": {},
          "execution_count": 31
        }
      ],
      "source": [
        "r"
      ]
    },
    {
      "cell_type": "code",
      "execution_count": 32,
      "metadata": {},
      "outputs": [],
      "source": [
        "df1 = pd.DataFrame(dict(r=[r], theta=[number_cols]))"
      ]
    },
    {
      "cell_type": "code",
      "execution_count": 33,
      "metadata": {},
      "outputs": [
        {
          "output_type": "execute_result",
          "data": {
            "text/plain": [
              "                                                   r  \\\n",
              "0  [-1.3023512023072747, -0.9984822438640804, -0....   \n",
              "\n",
              "                                               theta  \n",
              "0  [acousticness, danceability, duration_ms, ener...  "
            ],
            "text/html": "<div>\n<style scoped>\n    .dataframe tbody tr th:only-of-type {\n        vertical-align: middle;\n    }\n\n    .dataframe tbody tr th {\n        vertical-align: top;\n    }\n\n    .dataframe thead th {\n        text-align: right;\n    }\n</style>\n<table border=\"1\" class=\"dataframe\">\n  <thead>\n    <tr style=\"text-align: right;\">\n      <th></th>\n      <th>r</th>\n      <th>theta</th>\n    </tr>\n  </thead>\n  <tbody>\n    <tr>\n      <th>0</th>\n      <td>[-1.3023512023072747, -0.9984822438640804, -0....</td>\n      <td>[acousticness, danceability, duration_ms, ener...</td>\n    </tr>\n  </tbody>\n</table>\n</div>"
          },
          "metadata": {},
          "execution_count": 33
        }
      ],
      "source": [
        "df1"
      ]
    },
    {
      "cell_type": "code",
      "metadata": {
        "colab": {
          "base_uri": "https://localhost:8080/"
        },
        "id": "Jua6mvjdAHkx",
        "outputId": "8b8d8556-fd5e-4933-8f81-7596be896012"
      },
      "source": [
        "user_input = input('enter a song, or artist and well suggest 10 new songs:')\n",
        "input_dict = {'name': user_input[0]}\n",
        "recommend_songs([input_dict])"
      ],
      "execution_count": 34,
      "outputs": [
        {
          "output_type": "execute_result",
          "data": {
            "text/plain": [
              "([{'name': 'drivers license', 'artists': 'Olivia Rodrigo'},\n",
              "  {'name': 'Moral of the Story', 'artists': 'Ashe'},\n",
              "  {'name': 'Nikes', 'artists': 'Frank Ocean'},\n",
              "  {'name': 'happiness', 'artists': 'Taylor Swift'},\n",
              "  {'name': 'Moral of the Story (feat. Niall Horan)',\n",
              "   'artists': \"Ashe', 'Niall Horan\"},\n",
              "  {'name': 'Training Wheels', 'artists': 'Melanie Martinez'},\n",
              "  {'name': 'Be Alright', 'artists': 'Dean Lewis'},\n",
              "  {'name': 'gold rush', 'artists': 'Taylor Swift'},\n",
              "  {'name': 'Better Now', 'artists': 'Post Malone'},\n",
              "  {'name': 'Candy', 'artists': 'Doja Cat'}],\n",
              " array([[ 0.58370948,  0.27406608,  0.06202328, -0.17133651,  3.69820739,\n",
              "         -0.58952485,  1.3627944 , -0.58796528,  0.52531422,  0.6509402 ,\n",
              "          3.39723477, -0.25035262,  0.88806172, -1.48418999]]),\n",
              " array([[ 1.29435782,  0.34791933, -0.4344949 , ..., -0.06654892,\n",
              "          1.08975345,  0.41390256],\n",
              "        [ 0.37841108,  1.79089823, -0.55668873, ..., -0.28711336,\n",
              "         -0.99548519,  1.60871779],\n",
              "        [ 1.29962188,  0.62628927, -0.46485973, ...,  0.37457996,\n",
              "         -0.64145043,  0.62186091],\n",
              "        ...,\n",
              "        [ 0.80743211,  0.76263374, -0.09881057, ..., -0.42537764,\n",
              "         -0.29577817,  0.71638743],\n",
              "        [ 1.10748363, -0.4246993 ,  0.07540645, ..., -0.3732542 ,\n",
              "          1.79521175, -0.77335055],\n",
              "        [-0.6849294 ,  0.79671985, -0.2365305 , ..., -0.43854567,\n",
              "         -0.15860664,  0.84116244]]))"
            ]
          },
          "metadata": {},
          "execution_count": 34
        }
      ]
    },
    {
      "cell_type": "code",
      "metadata": {
        "id": "B40WGYlDDDpd"
      },
      "source": [
        "b = list(itertools.chain.from_iterable(ssc))"
      ],
      "execution_count": 35,
      "outputs": []
    },
    {
      "cell_type": "code",
      "metadata": {
        "colab": {
          "base_uri": "https://localhost:8080/"
        },
        "id": "7daKNEsgEDfr",
        "outputId": "a4d54ef9-1708-47d6-8161-8300c59966c7"
      },
      "source": [
        "b[1].dtype"
      ],
      "execution_count": 36,
      "outputs": [
        {
          "output_type": "execute_result",
          "data": {
            "text/plain": [
              "dtype('float64')"
            ]
          },
          "metadata": {},
          "execution_count": 36
        }
      ]
    },
    {
      "cell_type": "code",
      "metadata": {
        "id": "LjD7s_PxDVLI"
      },
      "source": [
        "import plotly.graph_objects as go \n",
        "\n",
        "categories = number_cols\n",
        "\n",
        "fig = go.Figure()\n",
        "\n",
        "fig.add_trace(go.Scatterpolar(\n",
        "    r=r,\n",
        "    theta = categories,\n",
        "    fill='toself',\n",
        "    name='dvp'\n",
        "))\n",
        "fig.add_trace(go.Scatterpolar(\n",
        "    r=r1,\n",
        "    theta = categories,\n",
        "    fill='toself',\n",
        "    name=ten_song[5]['name']\n",
        "\n",
        "))\n",
        "fig.update_layout(\n",
        "    polar=dict(\n",
        "        radialaxis=dict(\n",
        "            visible=True,\n",
        "            range=[0, 2]\n",
        "        )),\n",
        "    showlegend=True\n",
        ")\n",
        "fig.show()"
      ],
      "execution_count": 37,
      "outputs": [
        {
          "output_type": "error",
          "ename": "NameError",
          "evalue": "name 'r1' is not defined",
          "traceback": [
            "\u001b[1;31m---------------------------------------------------------------------------\u001b[0m",
            "\u001b[1;31mNameError\u001b[0m                                 Traceback (most recent call last)",
            "\u001b[1;32m<ipython-input-37-a00051c87427>\u001b[0m in \u001b[0;36m<module>\u001b[1;34m\u001b[0m\n\u001b[0;32m     12\u001b[0m ))\n\u001b[0;32m     13\u001b[0m fig.add_trace(go.Scatterpolar(\n\u001b[1;32m---> 14\u001b[1;33m     \u001b[0mr\u001b[0m\u001b[1;33m=\u001b[0m\u001b[0mr1\u001b[0m\u001b[1;33m,\u001b[0m\u001b[1;33m\u001b[0m\u001b[1;33m\u001b[0m\u001b[0m\n\u001b[0m\u001b[0;32m     15\u001b[0m     \u001b[0mtheta\u001b[0m \u001b[1;33m=\u001b[0m \u001b[0mcategories\u001b[0m\u001b[1;33m,\u001b[0m\u001b[1;33m\u001b[0m\u001b[1;33m\u001b[0m\u001b[0m\n\u001b[0;32m     16\u001b[0m     \u001b[0mfill\u001b[0m\u001b[1;33m=\u001b[0m\u001b[1;34m'toself'\u001b[0m\u001b[1;33m,\u001b[0m\u001b[1;33m\u001b[0m\u001b[1;33m\u001b[0m\u001b[0m\n",
            "\u001b[1;31mNameError\u001b[0m: name 'r1' is not defined"
          ]
        }
      ]
    },
    {
      "cell_type": "code",
      "execution_count": null,
      "metadata": {},
      "outputs": [],
      "source": [
        "fig = px.bar(df1, x=r, y=number_cols , orientation='h')\n",
        "\n",
        "fig.show()"
      ]
    },
    {
      "cell_type": "code",
      "execution_count": null,
      "metadata": {},
      "outputs": [],
      "source": [
        "df2 = pd.DataFrame(dict(r=sd[1], theta=number_cols))"
      ]
    },
    {
      "cell_type": "code",
      "execution_count": null,
      "metadata": {},
      "outputs": [],
      "source": [
        "fig2 = px.bar(df2, x=sd[1], y=number_cols, orientation='h' )\n",
        "fig2.show()"
      ]
    },
    {
      "cell_type": "code",
      "execution_count": null,
      "metadata": {},
      "outputs": [],
      "source": [
        "import matplotlib.pyplot as plt\n"
      ]
    },
    {
      "cell_type": "code",
      "execution_count": null,
      "metadata": {},
      "outputs": [],
      "source": [
        "def graph_against(input, n):\n",
        "    input_dict = {'name': str(input)}\n",
        "    ten_song, ssc, sd = recommend_songs([input_dict])\n",
        "\n",
        "    r = list(itertools.chain.from_iterable(ssc))\n",
        "\n",
        "    df = pd.DataFrame(dict(graph=number_cols, input=r, output=sd[n]))\n",
        "\n",
        "    ind = np.arange(len(df))\n",
        "    width = 0.4\n",
        "\n",
        "    fig, ax = plt.subplots()\n",
        "    ax.barh(ind, df.input, width, color='red', label=str(song))\n",
        "    ax.barh(ind + width, df.output, width, color='blue', label=ten_song[n]['name'])\n",
        "\n",
        "    ax.set(yticks=ind + width, yticklabels=df.graph, ylim=[2*width - 1, len(df)])\n",
        "    ax.legend()\n",
        "\n",
        "    return plt.show()"
      ]
    },
    {
      "cell_type": "code",
      "execution_count": null,
      "metadata": {},
      "outputs": [],
      "source": [
        "graph_against('country roads', n=5)\n"
      ]
    },
    {
      "cell_type": "code",
      "execution_count": 47,
      "metadata": {},
      "outputs": [
        {
          "output_type": "display_data",
          "data": {
            "text/plain": "<Figure size 432x288 with 1 Axes>",
            "image/svg+xml": "<?xml version=\"1.0\" encoding=\"utf-8\" standalone=\"no\"?>\r\n<!DOCTYPE svg PUBLIC \"-//W3C//DTD SVG 1.1//EN\"\r\n  \"http://www.w3.org/Graphics/SVG/1.1/DTD/svg11.dtd\">\r\n<!-- Created with matplotlib (https://matplotlib.org/) -->\r\n<svg height=\"248.518125pt\" version=\"1.1\" viewBox=\"0 0 445.734544 248.518125\" width=\"445.734544pt\" xmlns=\"http://www.w3.org/2000/svg\" xmlns:xlink=\"http://www.w3.org/1999/xlink\">\r\n <metadata>\r\n  <rdf:RDF xmlns:cc=\"http://creativecommons.org/ns#\" xmlns:dc=\"http://purl.org/dc/elements/1.1/\" xmlns:rdf=\"http://www.w3.org/1999/02/22-rdf-syntax-ns#\">\r\n   <cc:Work>\r\n    <dc:type rdf:resource=\"http://purl.org/dc/dcmitype/StillImage\"/>\r\n    <dc:date>2021-02-04T12:06:06.371139</dc:date>\r\n    <dc:format>image/svg+xml</dc:format>\r\n    <dc:creator>\r\n     <cc:Agent>\r\n      <dc:title>Matplotlib v3.3.4, https://matplotlib.org/</dc:title>\r\n     </cc:Agent>\r\n    </dc:creator>\r\n   </cc:Work>\r\n  </rdf:RDF>\r\n </metadata>\r\n <defs>\r\n  <style type=\"text/css\">*{stroke-linecap:butt;stroke-linejoin:round;}</style>\r\n </defs>\r\n <g id=\"figure_1\">\r\n  <g id=\"patch_1\">\r\n   <path d=\"M 0 248.518125 \r\nL 445.734544 248.518125 \r\nL 445.734544 0 \r\nL 0 0 \r\nz\r\n\" style=\"fill:none;\"/>\r\n  </g>\r\n  <g id=\"axes_1\">\r\n   <g id=\"patch_2\">\r\n    <path d=\"M 100.860938 224.64 \r\nL 435.660938 224.64 \r\nL 435.660938 7.2 \r\nL 100.860938 7.2 \r\nz\r\n\" style=\"fill:#ffffff;\"/>\r\n   </g>\r\n   <g id=\"patch_3\">\r\n    <path clip-path=\"url(#p969d229f1d)\" d=\"M 252.708226 224.64 \r\nL 136.880525 224.64 \r\nL 136.880525 218.51493 \r\nL 252.708226 218.51493 \r\nz\r\n\" style=\"fill:#ff0000;\"/>\r\n   </g>\r\n   <g id=\"patch_4\">\r\n    <path clip-path=\"url(#p969d229f1d)\" d=\"M 252.708226 209.327324 \r\nL 163.905834 209.327324 \r\nL 163.905834 203.202254 \r\nL 252.708226 203.202254 \r\nz\r\n\" style=\"fill:#ff0000;\"/>\r\n   </g>\r\n   <g id=\"patch_5\">\r\n    <path clip-path=\"url(#p969d229f1d)\" d=\"M 252.708226 194.014648 \r\nL 202.414469 194.014648 \r\nL 202.414469 187.889577 \r\nL 252.708226 187.889577 \r\nz\r\n\" style=\"fill:#ff0000;\"/>\r\n   </g>\r\n   <g id=\"patch_6\">\r\n    <path clip-path=\"url(#p969d229f1d)\" d=\"M 252.708226 178.701972 \r\nL 420.442756 178.701972 \r\nL 420.442756 172.576901 \r\nL 252.708226 172.576901 \r\nz\r\n\" style=\"fill:#ff0000;\"/>\r\n   </g>\r\n   <g id=\"patch_7\">\r\n    <path clip-path=\"url(#p969d229f1d)\" d=\"M 252.708226 163.389296 \r\nL 228.659446 163.389296 \r\nL 228.659446 157.264225 \r\nL 252.708226 157.264225 \r\nz\r\n\" style=\"fill:#ff0000;\"/>\r\n   </g>\r\n   <g id=\"patch_8\">\r\n    <path clip-path=\"url(#p969d229f1d)\" d=\"M 252.708226 148.07662 \r\nL 200.274875 148.07662 \r\nL 200.274875 141.951549 \r\nL 252.708226 141.951549 \r\nz\r\n\" style=\"fill:#ff0000;\"/>\r\n   </g>\r\n   <g id=\"patch_9\">\r\n    <path clip-path=\"url(#p969d229f1d)\" d=\"M 252.708226 132.763944 \r\nL 272.797025 132.763944 \r\nL 272.797025 126.638873 \r\nL 252.708226 126.638873 \r\nz\r\n\" style=\"fill:#ff0000;\"/>\r\n   </g>\r\n   <g id=\"patch_10\">\r\n    <path clip-path=\"url(#p969d229f1d)\" d=\"M 252.708226 117.451268 \r\nL 310.299198 117.451268 \r\nL 310.299198 111.326197 \r\nL 252.708226 111.326197 \r\nz\r\n\" style=\"fill:#ff0000;\"/>\r\n   </g>\r\n   <g id=\"patch_11\">\r\n    <path clip-path=\"url(#p969d229f1d)\" d=\"M 252.708226 102.138592 \r\nL 417.186936 102.138592 \r\nL 417.186936 96.013521 \r\nL 252.708226 96.013521 \r\nz\r\n\" style=\"fill:#ff0000;\"/>\r\n   </g>\r\n   <g id=\"patch_12\">\r\n    <path clip-path=\"url(#p969d229f1d)\" d=\"M 252.708226 86.825915 \r\nL 310.60114 86.825915 \r\nL 310.60114 80.700845 \r\nL 252.708226 80.700845 \r\nz\r\n\" style=\"fill:#ff0000;\"/>\r\n   </g>\r\n   <g id=\"patch_13\">\r\n    <path clip-path=\"url(#p969d229f1d)\" d=\"M 252.708226 71.513239 \r\nL 355.608494 71.513239 \r\nL 355.608494 65.388169 \r\nL 252.708226 65.388169 \r\nz\r\n\" style=\"fill:#ff0000;\"/>\r\n   </g>\r\n   <g id=\"patch_14\">\r\n    <path clip-path=\"url(#p969d229f1d)\" d=\"M 252.708226 56.200563 \r\nL 249.668567 56.200563 \r\nL 249.668567 50.075493 \r\nL 252.708226 50.075493 \r\nz\r\n\" style=\"fill:#ff0000;\"/>\r\n   </g>\r\n   <g id=\"patch_15\">\r\n    <path clip-path=\"url(#p969d229f1d)\" d=\"M 252.708226 40.887887 \r\nL 343.704582 40.887887 \r\nL 343.704582 34.762817 \r\nL 252.708226 34.762817 \r\nz\r\n\" style=\"fill:#ff0000;\"/>\r\n   </g>\r\n   <g id=\"patch_16\">\r\n    <path clip-path=\"url(#p969d229f1d)\" d=\"M 252.708226 25.575211 \r\nL 152.654636 25.575211 \r\nL 152.654636 19.450141 \r\nL 252.708226 19.450141 \r\nz\r\n\" style=\"fill:#ff0000;\"/>\r\n   </g>\r\n   <g id=\"patch_17\">\r\n    <path clip-path=\"url(#p969d229f1d)\" d=\"M 252.708226 218.51493 \r\nL 286.363115 218.51493 \r\nL 286.363115 212.389859 \r\nL 252.708226 212.389859 \r\nz\r\n\" style=\"fill:#0000ff;\"/>\r\n   </g>\r\n   <g id=\"patch_18\">\r\n    <path clip-path=\"url(#p969d229f1d)\" d=\"M 252.708226 203.202254 \r\nL 411.986018 203.202254 \r\nL 411.986018 197.077183 \r\nL 252.708226 197.077183 \r\nz\r\n\" style=\"fill:#0000ff;\"/>\r\n   </g>\r\n   <g id=\"patch_19\">\r\n    <path clip-path=\"url(#p969d229f1d)\" d=\"M 252.708226 187.889577 \r\nL 203.19779 187.889577 \r\nL 203.19779 181.764507 \r\nL 252.708226 181.764507 \r\nz\r\n\" style=\"fill:#0000ff;\"/>\r\n   </g>\r\n   <g id=\"patch_20\">\r\n    <path clip-path=\"url(#p969d229f1d)\" d=\"M 252.708226 172.576901 \r\nL 263.888532 172.576901 \r\nL 263.888532 166.451831 \r\nL 252.708226 166.451831 \r\nz\r\n\" style=\"fill:#0000ff;\"/>\r\n   </g>\r\n   <g id=\"patch_21\">\r\n    <path clip-path=\"url(#p969d229f1d)\" d=\"M 252.708226 157.264225 \r\nL 228.659446 157.264225 \r\nL 228.659446 151.139155 \r\nL 252.708226 151.139155 \r\nz\r\n\" style=\"fill:#0000ff;\"/>\r\n   </g>\r\n   <g id=\"patch_22\">\r\n    <path clip-path=\"url(#p969d229f1d)\" d=\"M 252.708226 141.951549 \r\nL 207.291696 141.951549 \r\nL 207.291696 135.826479 \r\nL 252.708226 135.826479 \r\nz\r\n\" style=\"fill:#0000ff;\"/>\r\n   </g>\r\n   <g id=\"patch_23\">\r\n    <path clip-path=\"url(#p969d229f1d)\" d=\"M 252.708226 126.638873 \r\nL 247.518385 126.638873 \r\nL 247.518385 120.513803 \r\nL 252.708226 120.513803 \r\nz\r\n\" style=\"fill:#0000ff;\"/>\r\n   </g>\r\n   <g id=\"patch_24\">\r\n    <path clip-path=\"url(#p969d229f1d)\" d=\"M 252.708226 111.326197 \r\nL 188.540882 111.326197 \r\nL 188.540882 105.201127 \r\nL 252.708226 105.201127 \r\nz\r\n\" style=\"fill:#0000ff;\"/>\r\n   </g>\r\n   <g id=\"patch_25\">\r\n    <path clip-path=\"url(#p969d229f1d)\" d=\"M 252.708226 96.013521 \r\nL 322.867515 96.013521 \r\nL 322.867515 89.888451 \r\nL 252.708226 89.888451 \r\nz\r\n\" style=\"fill:#0000ff;\"/>\r\n   </g>\r\n   <g id=\"patch_26\">\r\n    <path clip-path=\"url(#p969d229f1d)\" d=\"M 252.708226 80.700845 \r\nL 116.079119 80.700845 \r\nL 116.079119 74.575775 \r\nL 252.708226 74.575775 \r\nz\r\n\" style=\"fill:#0000ff;\"/>\r\n   </g>\r\n   <g id=\"patch_27\">\r\n    <path clip-path=\"url(#p969d229f1d)\" d=\"M 252.708226 65.388169 \r\nL 176.698313 65.388169 \r\nL 176.698313 59.263099 \r\nL 252.708226 59.263099 \r\nz\r\n\" style=\"fill:#0000ff;\"/>\r\n   </g>\r\n   <g id=\"patch_28\">\r\n    <path clip-path=\"url(#p969d229f1d)\" d=\"M 252.708226 50.075493 \r\nL 227.173116 50.075493 \r\nL 227.173116 43.950423 \r\nL 252.708226 43.950423 \r\nz\r\n\" style=\"fill:#0000ff;\"/>\r\n   </g>\r\n   <g id=\"patch_29\">\r\n    <path clip-path=\"url(#p969d229f1d)\" d=\"M 252.708226 34.762817 \r\nL 164.172384 34.762817 \r\nL 164.172384 28.637746 \r\nL 252.708226 28.637746 \r\nz\r\n\" style=\"fill:#0000ff;\"/>\r\n   </g>\r\n   <g id=\"patch_30\">\r\n    <path clip-path=\"url(#p969d229f1d)\" d=\"M 252.708226 19.450141 \r\nL 395.783368 19.450141 \r\nL 395.783368 13.32507 \r\nL 252.708226 13.32507 \r\nz\r\n\" style=\"fill:#0000ff;\"/>\r\n   </g>\r\n   <g id=\"matplotlib.axis_1\">\r\n    <g id=\"xtick_1\">\r\n     <g id=\"line2d_1\">\r\n      <defs>\r\n       <path d=\"M 0 0 \r\nL 0 3.5 \r\n\" id=\"m35fcd93469\" style=\"stroke:#000000;stroke-width:0.8;\"/>\r\n      </defs>\r\n      <g>\r\n       <use style=\"stroke:#000000;stroke-width:0.8;\" x=\"119.30216\" xlink:href=\"#m35fcd93469\" y=\"224.64\"/>\r\n      </g>\r\n     </g>\r\n     <g id=\"text_1\">\r\n      <!-- −1.5 -->\r\n      <g transform=\"translate(107.160753 239.238437)scale(0.1 -0.1)\">\r\n       <defs>\r\n        <path d=\"M 10.59375 35.5 \r\nL 73.1875 35.5 \r\nL 73.1875 27.203125 \r\nL 10.59375 27.203125 \r\nz\r\n\" id=\"DejaVuSans-8722\"/>\r\n        <path d=\"M 12.40625 8.296875 \r\nL 28.515625 8.296875 \r\nL 28.515625 63.921875 \r\nL 10.984375 60.40625 \r\nL 10.984375 69.390625 \r\nL 28.421875 72.90625 \r\nL 38.28125 72.90625 \r\nL 38.28125 8.296875 \r\nL 54.390625 8.296875 \r\nL 54.390625 0 \r\nL 12.40625 0 \r\nz\r\n\" id=\"DejaVuSans-49\"/>\r\n        <path d=\"M 10.6875 12.40625 \r\nL 21 12.40625 \r\nL 21 0 \r\nL 10.6875 0 \r\nz\r\n\" id=\"DejaVuSans-46\"/>\r\n        <path d=\"M 10.796875 72.90625 \r\nL 49.515625 72.90625 \r\nL 49.515625 64.59375 \r\nL 19.828125 64.59375 \r\nL 19.828125 46.734375 \r\nQ 21.96875 47.46875 24.109375 47.828125 \r\nQ 26.265625 48.1875 28.421875 48.1875 \r\nQ 40.625 48.1875 47.75 41.5 \r\nQ 54.890625 34.8125 54.890625 23.390625 \r\nQ 54.890625 11.625 47.5625 5.09375 \r\nQ 40.234375 -1.421875 26.90625 -1.421875 \r\nQ 22.3125 -1.421875 17.546875 -0.640625 \r\nQ 12.796875 0.140625 7.71875 1.703125 \r\nL 7.71875 11.625 \r\nQ 12.109375 9.234375 16.796875 8.0625 \r\nQ 21.484375 6.890625 26.703125 6.890625 \r\nQ 35.15625 6.890625 40.078125 11.328125 \r\nQ 45.015625 15.765625 45.015625 23.390625 \r\nQ 45.015625 31 40.078125 35.4375 \r\nQ 35.15625 39.890625 26.703125 39.890625 \r\nQ 22.75 39.890625 18.8125 39.015625 \r\nQ 14.890625 38.140625 10.796875 36.28125 \r\nz\r\n\" id=\"DejaVuSans-53\"/>\r\n       </defs>\r\n       <use xlink:href=\"#DejaVuSans-8722\"/>\r\n       <use x=\"83.789062\" xlink:href=\"#DejaVuSans-49\"/>\r\n       <use x=\"147.412109\" xlink:href=\"#DejaVuSans-46\"/>\r\n       <use x=\"179.199219\" xlink:href=\"#DejaVuSans-53\"/>\r\n      </g>\r\n     </g>\r\n    </g>\r\n    <g id=\"xtick_2\">\r\n     <g id=\"line2d_2\">\r\n      <g>\r\n       <use style=\"stroke:#000000;stroke-width:0.8;\" x=\"163.770848\" xlink:href=\"#m35fcd93469\" y=\"224.64\"/>\r\n      </g>\r\n     </g>\r\n     <g id=\"text_2\">\r\n      <!-- −1.0 -->\r\n      <g transform=\"translate(151.629442 239.238437)scale(0.1 -0.1)\">\r\n       <defs>\r\n        <path d=\"M 31.78125 66.40625 \r\nQ 24.171875 66.40625 20.328125 58.90625 \r\nQ 16.5 51.421875 16.5 36.375 \r\nQ 16.5 21.390625 20.328125 13.890625 \r\nQ 24.171875 6.390625 31.78125 6.390625 \r\nQ 39.453125 6.390625 43.28125 13.890625 \r\nQ 47.125 21.390625 47.125 36.375 \r\nQ 47.125 51.421875 43.28125 58.90625 \r\nQ 39.453125 66.40625 31.78125 66.40625 \r\nz\r\nM 31.78125 74.21875 \r\nQ 44.046875 74.21875 50.515625 64.515625 \r\nQ 56.984375 54.828125 56.984375 36.375 \r\nQ 56.984375 17.96875 50.515625 8.265625 \r\nQ 44.046875 -1.421875 31.78125 -1.421875 \r\nQ 19.53125 -1.421875 13.0625 8.265625 \r\nQ 6.59375 17.96875 6.59375 36.375 \r\nQ 6.59375 54.828125 13.0625 64.515625 \r\nQ 19.53125 74.21875 31.78125 74.21875 \r\nz\r\n\" id=\"DejaVuSans-48\"/>\r\n       </defs>\r\n       <use xlink:href=\"#DejaVuSans-8722\"/>\r\n       <use x=\"83.789062\" xlink:href=\"#DejaVuSans-49\"/>\r\n       <use x=\"147.412109\" xlink:href=\"#DejaVuSans-46\"/>\r\n       <use x=\"179.199219\" xlink:href=\"#DejaVuSans-48\"/>\r\n      </g>\r\n     </g>\r\n    </g>\r\n    <g id=\"xtick_3\">\r\n     <g id=\"line2d_3\">\r\n      <g>\r\n       <use style=\"stroke:#000000;stroke-width:0.8;\" x=\"208.239537\" xlink:href=\"#m35fcd93469\" y=\"224.64\"/>\r\n      </g>\r\n     </g>\r\n     <g id=\"text_3\">\r\n      <!-- −0.5 -->\r\n      <g transform=\"translate(196.098131 239.238437)scale(0.1 -0.1)\">\r\n       <use xlink:href=\"#DejaVuSans-8722\"/>\r\n       <use x=\"83.789062\" xlink:href=\"#DejaVuSans-48\"/>\r\n       <use x=\"147.412109\" xlink:href=\"#DejaVuSans-46\"/>\r\n       <use x=\"179.199219\" xlink:href=\"#DejaVuSans-53\"/>\r\n      </g>\r\n     </g>\r\n    </g>\r\n    <g id=\"xtick_4\">\r\n     <g id=\"line2d_4\">\r\n      <g>\r\n       <use style=\"stroke:#000000;stroke-width:0.8;\" x=\"252.708226\" xlink:href=\"#m35fcd93469\" y=\"224.64\"/>\r\n      </g>\r\n     </g>\r\n     <g id=\"text_4\">\r\n      <!-- 0.0 -->\r\n      <g transform=\"translate(244.756664 239.238437)scale(0.1 -0.1)\">\r\n       <use xlink:href=\"#DejaVuSans-48\"/>\r\n       <use x=\"63.623047\" xlink:href=\"#DejaVuSans-46\"/>\r\n       <use x=\"95.410156\" xlink:href=\"#DejaVuSans-48\"/>\r\n      </g>\r\n     </g>\r\n    </g>\r\n    <g id=\"xtick_5\">\r\n     <g id=\"line2d_5\">\r\n      <g>\r\n       <use style=\"stroke:#000000;stroke-width:0.8;\" x=\"297.176915\" xlink:href=\"#m35fcd93469\" y=\"224.64\"/>\r\n      </g>\r\n     </g>\r\n     <g id=\"text_5\">\r\n      <!-- 0.5 -->\r\n      <g transform=\"translate(289.225352 239.238437)scale(0.1 -0.1)\">\r\n       <use xlink:href=\"#DejaVuSans-48\"/>\r\n       <use x=\"63.623047\" xlink:href=\"#DejaVuSans-46\"/>\r\n       <use x=\"95.410156\" xlink:href=\"#DejaVuSans-53\"/>\r\n      </g>\r\n     </g>\r\n    </g>\r\n    <g id=\"xtick_6\">\r\n     <g id=\"line2d_6\">\r\n      <g>\r\n       <use style=\"stroke:#000000;stroke-width:0.8;\" x=\"341.645604\" xlink:href=\"#m35fcd93469\" y=\"224.64\"/>\r\n      </g>\r\n     </g>\r\n     <g id=\"text_6\">\r\n      <!-- 1.0 -->\r\n      <g transform=\"translate(333.694041 239.238437)scale(0.1 -0.1)\">\r\n       <use xlink:href=\"#DejaVuSans-49\"/>\r\n       <use x=\"63.623047\" xlink:href=\"#DejaVuSans-46\"/>\r\n       <use x=\"95.410156\" xlink:href=\"#DejaVuSans-48\"/>\r\n      </g>\r\n     </g>\r\n    </g>\r\n    <g id=\"xtick_7\">\r\n     <g id=\"line2d_7\">\r\n      <g>\r\n       <use style=\"stroke:#000000;stroke-width:0.8;\" x=\"386.114292\" xlink:href=\"#m35fcd93469\" y=\"224.64\"/>\r\n      </g>\r\n     </g>\r\n     <g id=\"text_7\">\r\n      <!-- 1.5 -->\r\n      <g transform=\"translate(378.16273 239.238437)scale(0.1 -0.1)\">\r\n       <use xlink:href=\"#DejaVuSans-49\"/>\r\n       <use x=\"63.623047\" xlink:href=\"#DejaVuSans-46\"/>\r\n       <use x=\"95.410156\" xlink:href=\"#DejaVuSans-53\"/>\r\n      </g>\r\n     </g>\r\n    </g>\r\n    <g id=\"xtick_8\">\r\n     <g id=\"line2d_8\">\r\n      <g>\r\n       <use style=\"stroke:#000000;stroke-width:0.8;\" x=\"430.582981\" xlink:href=\"#m35fcd93469\" y=\"224.64\"/>\r\n      </g>\r\n     </g>\r\n     <g id=\"text_8\">\r\n      <!-- 2.0 -->\r\n      <g transform=\"translate(422.631419 239.238437)scale(0.1 -0.1)\">\r\n       <defs>\r\n        <path d=\"M 19.1875 8.296875 \r\nL 53.609375 8.296875 \r\nL 53.609375 0 \r\nL 7.328125 0 \r\nL 7.328125 8.296875 \r\nQ 12.9375 14.109375 22.625 23.890625 \r\nQ 32.328125 33.6875 34.8125 36.53125 \r\nQ 39.546875 41.84375 41.421875 45.53125 \r\nQ 43.3125 49.21875 43.3125 52.78125 \r\nQ 43.3125 58.59375 39.234375 62.25 \r\nQ 35.15625 65.921875 28.609375 65.921875 \r\nQ 23.96875 65.921875 18.8125 64.3125 \r\nQ 13.671875 62.703125 7.8125 59.421875 \r\nL 7.8125 69.390625 \r\nQ 13.765625 71.78125 18.9375 73 \r\nQ 24.125 74.21875 28.421875 74.21875 \r\nQ 39.75 74.21875 46.484375 68.546875 \r\nQ 53.21875 62.890625 53.21875 53.421875 \r\nQ 53.21875 48.921875 51.53125 44.890625 \r\nQ 49.859375 40.875 45.40625 35.40625 \r\nQ 44.1875 33.984375 37.640625 27.21875 \r\nQ 31.109375 20.453125 19.1875 8.296875 \r\nz\r\n\" id=\"DejaVuSans-50\"/>\r\n       </defs>\r\n       <use xlink:href=\"#DejaVuSans-50\"/>\r\n       <use x=\"63.623047\" xlink:href=\"#DejaVuSans-46\"/>\r\n       <use x=\"95.410156\" xlink:href=\"#DejaVuSans-48\"/>\r\n      </g>\r\n     </g>\r\n    </g>\r\n   </g>\r\n   <g id=\"matplotlib.axis_2\">\r\n    <g id=\"ytick_1\">\r\n     <g id=\"line2d_9\">\r\n      <defs>\r\n       <path d=\"M 0 0 \r\nL -3.5 0 \r\n\" id=\"mce03c70f4f\" style=\"stroke:#000000;stroke-width:0.8;\"/>\r\n      </defs>\r\n      <g>\r\n       <use style=\"stroke:#000000;stroke-width:0.8;\" x=\"100.860938\" xlink:href=\"#mce03c70f4f\" y=\"215.452394\"/>\r\n      </g>\r\n     </g>\r\n     <g id=\"text_9\">\r\n      <!-- acousticness -->\r\n      <g transform=\"translate(29.4625 219.251613)scale(0.1 -0.1)\">\r\n       <defs>\r\n        <path d=\"M 34.28125 27.484375 \r\nQ 23.390625 27.484375 19.1875 25 \r\nQ 14.984375 22.515625 14.984375 16.5 \r\nQ 14.984375 11.71875 18.140625 8.90625 \r\nQ 21.296875 6.109375 26.703125 6.109375 \r\nQ 34.1875 6.109375 38.703125 11.40625 \r\nQ 43.21875 16.703125 43.21875 25.484375 \r\nL 43.21875 27.484375 \r\nz\r\nM 52.203125 31.203125 \r\nL 52.203125 0 \r\nL 43.21875 0 \r\nL 43.21875 8.296875 \r\nQ 40.140625 3.328125 35.546875 0.953125 \r\nQ 30.953125 -1.421875 24.3125 -1.421875 \r\nQ 15.921875 -1.421875 10.953125 3.296875 \r\nQ 6 8.015625 6 15.921875 \r\nQ 6 25.140625 12.171875 29.828125 \r\nQ 18.359375 34.515625 30.609375 34.515625 \r\nL 43.21875 34.515625 \r\nL 43.21875 35.40625 \r\nQ 43.21875 41.609375 39.140625 45 \r\nQ 35.0625 48.390625 27.6875 48.390625 \r\nQ 23 48.390625 18.546875 47.265625 \r\nQ 14.109375 46.140625 10.015625 43.890625 \r\nL 10.015625 52.203125 \r\nQ 14.9375 54.109375 19.578125 55.046875 \r\nQ 24.21875 56 28.609375 56 \r\nQ 40.484375 56 46.34375 49.84375 \r\nQ 52.203125 43.703125 52.203125 31.203125 \r\nz\r\n\" id=\"DejaVuSans-97\"/>\r\n        <path d=\"M 48.78125 52.59375 \r\nL 48.78125 44.1875 \r\nQ 44.96875 46.296875 41.140625 47.34375 \r\nQ 37.3125 48.390625 33.40625 48.390625 \r\nQ 24.65625 48.390625 19.8125 42.84375 \r\nQ 14.984375 37.3125 14.984375 27.296875 \r\nQ 14.984375 17.28125 19.8125 11.734375 \r\nQ 24.65625 6.203125 33.40625 6.203125 \r\nQ 37.3125 6.203125 41.140625 7.25 \r\nQ 44.96875 8.296875 48.78125 10.40625 \r\nL 48.78125 2.09375 \r\nQ 45.015625 0.34375 40.984375 -0.53125 \r\nQ 36.96875 -1.421875 32.421875 -1.421875 \r\nQ 20.0625 -1.421875 12.78125 6.34375 \r\nQ 5.515625 14.109375 5.515625 27.296875 \r\nQ 5.515625 40.671875 12.859375 48.328125 \r\nQ 20.21875 56 33.015625 56 \r\nQ 37.15625 56 41.109375 55.140625 \r\nQ 45.0625 54.296875 48.78125 52.59375 \r\nz\r\n\" id=\"DejaVuSans-99\"/>\r\n        <path d=\"M 30.609375 48.390625 \r\nQ 23.390625 48.390625 19.1875 42.75 \r\nQ 14.984375 37.109375 14.984375 27.296875 \r\nQ 14.984375 17.484375 19.15625 11.84375 \r\nQ 23.34375 6.203125 30.609375 6.203125 \r\nQ 37.796875 6.203125 41.984375 11.859375 \r\nQ 46.1875 17.53125 46.1875 27.296875 \r\nQ 46.1875 37.015625 41.984375 42.703125 \r\nQ 37.796875 48.390625 30.609375 48.390625 \r\nz\r\nM 30.609375 56 \r\nQ 42.328125 56 49.015625 48.375 \r\nQ 55.71875 40.765625 55.71875 27.296875 \r\nQ 55.71875 13.875 49.015625 6.21875 \r\nQ 42.328125 -1.421875 30.609375 -1.421875 \r\nQ 18.84375 -1.421875 12.171875 6.21875 \r\nQ 5.515625 13.875 5.515625 27.296875 \r\nQ 5.515625 40.765625 12.171875 48.375 \r\nQ 18.84375 56 30.609375 56 \r\nz\r\n\" id=\"DejaVuSans-111\"/>\r\n        <path d=\"M 8.5 21.578125 \r\nL 8.5 54.6875 \r\nL 17.484375 54.6875 \r\nL 17.484375 21.921875 \r\nQ 17.484375 14.15625 20.5 10.265625 \r\nQ 23.53125 6.390625 29.59375 6.390625 \r\nQ 36.859375 6.390625 41.078125 11.03125 \r\nQ 45.3125 15.671875 45.3125 23.6875 \r\nL 45.3125 54.6875 \r\nL 54.296875 54.6875 \r\nL 54.296875 0 \r\nL 45.3125 0 \r\nL 45.3125 8.40625 \r\nQ 42.046875 3.421875 37.71875 1 \r\nQ 33.40625 -1.421875 27.6875 -1.421875 \r\nQ 18.265625 -1.421875 13.375 4.4375 \r\nQ 8.5 10.296875 8.5 21.578125 \r\nz\r\nM 31.109375 56 \r\nz\r\n\" id=\"DejaVuSans-117\"/>\r\n        <path d=\"M 44.28125 53.078125 \r\nL 44.28125 44.578125 \r\nQ 40.484375 46.53125 36.375 47.5 \r\nQ 32.28125 48.484375 27.875 48.484375 \r\nQ 21.1875 48.484375 17.84375 46.4375 \r\nQ 14.5 44.390625 14.5 40.28125 \r\nQ 14.5 37.15625 16.890625 35.375 \r\nQ 19.28125 33.59375 26.515625 31.984375 \r\nL 29.59375 31.296875 \r\nQ 39.15625 29.25 43.1875 25.515625 \r\nQ 47.21875 21.78125 47.21875 15.09375 \r\nQ 47.21875 7.46875 41.1875 3.015625 \r\nQ 35.15625 -1.421875 24.609375 -1.421875 \r\nQ 20.21875 -1.421875 15.453125 -0.5625 \r\nQ 10.6875 0.296875 5.421875 2 \r\nL 5.421875 11.28125 \r\nQ 10.40625 8.6875 15.234375 7.390625 \r\nQ 20.0625 6.109375 24.8125 6.109375 \r\nQ 31.15625 6.109375 34.5625 8.28125 \r\nQ 37.984375 10.453125 37.984375 14.40625 \r\nQ 37.984375 18.0625 35.515625 20.015625 \r\nQ 33.0625 21.96875 24.703125 23.78125 \r\nL 21.578125 24.515625 \r\nQ 13.234375 26.265625 9.515625 29.90625 \r\nQ 5.8125 33.546875 5.8125 39.890625 \r\nQ 5.8125 47.609375 11.28125 51.796875 \r\nQ 16.75 56 26.8125 56 \r\nQ 31.78125 56 36.171875 55.265625 \r\nQ 40.578125 54.546875 44.28125 53.078125 \r\nz\r\n\" id=\"DejaVuSans-115\"/>\r\n        <path d=\"M 18.3125 70.21875 \r\nL 18.3125 54.6875 \r\nL 36.8125 54.6875 \r\nL 36.8125 47.703125 \r\nL 18.3125 47.703125 \r\nL 18.3125 18.015625 \r\nQ 18.3125 11.328125 20.140625 9.421875 \r\nQ 21.96875 7.515625 27.59375 7.515625 \r\nL 36.8125 7.515625 \r\nL 36.8125 0 \r\nL 27.59375 0 \r\nQ 17.1875 0 13.234375 3.875 \r\nQ 9.28125 7.765625 9.28125 18.015625 \r\nL 9.28125 47.703125 \r\nL 2.6875 47.703125 \r\nL 2.6875 54.6875 \r\nL 9.28125 54.6875 \r\nL 9.28125 70.21875 \r\nz\r\n\" id=\"DejaVuSans-116\"/>\r\n        <path d=\"M 9.421875 54.6875 \r\nL 18.40625 54.6875 \r\nL 18.40625 0 \r\nL 9.421875 0 \r\nz\r\nM 9.421875 75.984375 \r\nL 18.40625 75.984375 \r\nL 18.40625 64.59375 \r\nL 9.421875 64.59375 \r\nz\r\n\" id=\"DejaVuSans-105\"/>\r\n        <path d=\"M 54.890625 33.015625 \r\nL 54.890625 0 \r\nL 45.90625 0 \r\nL 45.90625 32.71875 \r\nQ 45.90625 40.484375 42.875 44.328125 \r\nQ 39.84375 48.1875 33.796875 48.1875 \r\nQ 26.515625 48.1875 22.3125 43.546875 \r\nQ 18.109375 38.921875 18.109375 30.90625 \r\nL 18.109375 0 \r\nL 9.078125 0 \r\nL 9.078125 54.6875 \r\nL 18.109375 54.6875 \r\nL 18.109375 46.1875 \r\nQ 21.34375 51.125 25.703125 53.5625 \r\nQ 30.078125 56 35.796875 56 \r\nQ 45.21875 56 50.046875 50.171875 \r\nQ 54.890625 44.34375 54.890625 33.015625 \r\nz\r\n\" id=\"DejaVuSans-110\"/>\r\n        <path d=\"M 56.203125 29.59375 \r\nL 56.203125 25.203125 \r\nL 14.890625 25.203125 \r\nQ 15.484375 15.921875 20.484375 11.0625 \r\nQ 25.484375 6.203125 34.421875 6.203125 \r\nQ 39.59375 6.203125 44.453125 7.46875 \r\nQ 49.3125 8.734375 54.109375 11.28125 \r\nL 54.109375 2.78125 \r\nQ 49.265625 0.734375 44.1875 -0.34375 \r\nQ 39.109375 -1.421875 33.890625 -1.421875 \r\nQ 20.796875 -1.421875 13.15625 6.1875 \r\nQ 5.515625 13.8125 5.515625 26.8125 \r\nQ 5.515625 40.234375 12.765625 48.109375 \r\nQ 20.015625 56 32.328125 56 \r\nQ 43.359375 56 49.78125 48.890625 \r\nQ 56.203125 41.796875 56.203125 29.59375 \r\nz\r\nM 47.21875 32.234375 \r\nQ 47.125 39.59375 43.09375 43.984375 \r\nQ 39.0625 48.390625 32.421875 48.390625 \r\nQ 24.90625 48.390625 20.390625 44.140625 \r\nQ 15.875 39.890625 15.1875 32.171875 \r\nz\r\n\" id=\"DejaVuSans-101\"/>\r\n       </defs>\r\n       <use xlink:href=\"#DejaVuSans-97\"/>\r\n       <use x=\"61.279297\" xlink:href=\"#DejaVuSans-99\"/>\r\n       <use x=\"116.259766\" xlink:href=\"#DejaVuSans-111\"/>\r\n       <use x=\"177.441406\" xlink:href=\"#DejaVuSans-117\"/>\r\n       <use x=\"240.820312\" xlink:href=\"#DejaVuSans-115\"/>\r\n       <use x=\"292.919922\" xlink:href=\"#DejaVuSans-116\"/>\r\n       <use x=\"332.128906\" xlink:href=\"#DejaVuSans-105\"/>\r\n       <use x=\"359.912109\" xlink:href=\"#DejaVuSans-99\"/>\r\n       <use x=\"414.892578\" xlink:href=\"#DejaVuSans-110\"/>\r\n       <use x=\"478.271484\" xlink:href=\"#DejaVuSans-101\"/>\r\n       <use x=\"539.794922\" xlink:href=\"#DejaVuSans-115\"/>\r\n       <use x=\"591.894531\" xlink:href=\"#DejaVuSans-115\"/>\r\n      </g>\r\n     </g>\r\n    </g>\r\n    <g id=\"ytick_2\">\r\n     <g id=\"line2d_10\">\r\n      <g>\r\n       <use style=\"stroke:#000000;stroke-width:0.8;\" x=\"100.860938\" xlink:href=\"#mce03c70f4f\" y=\"200.139718\"/>\r\n      </g>\r\n     </g>\r\n     <g id=\"text_10\">\r\n      <!-- danceability -->\r\n      <g transform=\"translate(32.745313 203.938937)scale(0.1 -0.1)\">\r\n       <defs>\r\n        <path d=\"M 45.40625 46.390625 \r\nL 45.40625 75.984375 \r\nL 54.390625 75.984375 \r\nL 54.390625 0 \r\nL 45.40625 0 \r\nL 45.40625 8.203125 \r\nQ 42.578125 3.328125 38.25 0.953125 \r\nQ 33.9375 -1.421875 27.875 -1.421875 \r\nQ 17.96875 -1.421875 11.734375 6.484375 \r\nQ 5.515625 14.40625 5.515625 27.296875 \r\nQ 5.515625 40.1875 11.734375 48.09375 \r\nQ 17.96875 56 27.875 56 \r\nQ 33.9375 56 38.25 53.625 \r\nQ 42.578125 51.265625 45.40625 46.390625 \r\nz\r\nM 14.796875 27.296875 \r\nQ 14.796875 17.390625 18.875 11.75 \r\nQ 22.953125 6.109375 30.078125 6.109375 \r\nQ 37.203125 6.109375 41.296875 11.75 \r\nQ 45.40625 17.390625 45.40625 27.296875 \r\nQ 45.40625 37.203125 41.296875 42.84375 \r\nQ 37.203125 48.484375 30.078125 48.484375 \r\nQ 22.953125 48.484375 18.875 42.84375 \r\nQ 14.796875 37.203125 14.796875 27.296875 \r\nz\r\n\" id=\"DejaVuSans-100\"/>\r\n        <path d=\"M 48.6875 27.296875 \r\nQ 48.6875 37.203125 44.609375 42.84375 \r\nQ 40.53125 48.484375 33.40625 48.484375 \r\nQ 26.265625 48.484375 22.1875 42.84375 \r\nQ 18.109375 37.203125 18.109375 27.296875 \r\nQ 18.109375 17.390625 22.1875 11.75 \r\nQ 26.265625 6.109375 33.40625 6.109375 \r\nQ 40.53125 6.109375 44.609375 11.75 \r\nQ 48.6875 17.390625 48.6875 27.296875 \r\nz\r\nM 18.109375 46.390625 \r\nQ 20.953125 51.265625 25.265625 53.625 \r\nQ 29.59375 56 35.59375 56 \r\nQ 45.5625 56 51.78125 48.09375 \r\nQ 58.015625 40.1875 58.015625 27.296875 \r\nQ 58.015625 14.40625 51.78125 6.484375 \r\nQ 45.5625 -1.421875 35.59375 -1.421875 \r\nQ 29.59375 -1.421875 25.265625 0.953125 \r\nQ 20.953125 3.328125 18.109375 8.203125 \r\nL 18.109375 0 \r\nL 9.078125 0 \r\nL 9.078125 75.984375 \r\nL 18.109375 75.984375 \r\nz\r\n\" id=\"DejaVuSans-98\"/>\r\n        <path d=\"M 9.421875 75.984375 \r\nL 18.40625 75.984375 \r\nL 18.40625 0 \r\nL 9.421875 0 \r\nz\r\n\" id=\"DejaVuSans-108\"/>\r\n        <path d=\"M 32.171875 -5.078125 \r\nQ 28.375 -14.84375 24.75 -17.8125 \r\nQ 21.140625 -20.796875 15.09375 -20.796875 \r\nL 7.90625 -20.796875 \r\nL 7.90625 -13.28125 \r\nL 13.1875 -13.28125 \r\nQ 16.890625 -13.28125 18.9375 -11.515625 \r\nQ 21 -9.765625 23.484375 -3.21875 \r\nL 25.09375 0.875 \r\nL 2.984375 54.6875 \r\nL 12.5 54.6875 \r\nL 29.59375 11.921875 \r\nL 46.6875 54.6875 \r\nL 56.203125 54.6875 \r\nz\r\n\" id=\"DejaVuSans-121\"/>\r\n       </defs>\r\n       <use xlink:href=\"#DejaVuSans-100\"/>\r\n       <use x=\"63.476562\" xlink:href=\"#DejaVuSans-97\"/>\r\n       <use x=\"124.755859\" xlink:href=\"#DejaVuSans-110\"/>\r\n       <use x=\"188.134766\" xlink:href=\"#DejaVuSans-99\"/>\r\n       <use x=\"243.115234\" xlink:href=\"#DejaVuSans-101\"/>\r\n       <use x=\"304.638672\" xlink:href=\"#DejaVuSans-97\"/>\r\n       <use x=\"365.917969\" xlink:href=\"#DejaVuSans-98\"/>\r\n       <use x=\"429.394531\" xlink:href=\"#DejaVuSans-105\"/>\r\n       <use x=\"457.177734\" xlink:href=\"#DejaVuSans-108\"/>\r\n       <use x=\"484.960938\" xlink:href=\"#DejaVuSans-105\"/>\r\n       <use x=\"512.744141\" xlink:href=\"#DejaVuSans-116\"/>\r\n       <use x=\"551.953125\" xlink:href=\"#DejaVuSans-121\"/>\r\n      </g>\r\n     </g>\r\n    </g>\r\n    <g id=\"ytick_3\">\r\n     <g id=\"line2d_11\">\r\n      <g>\r\n       <use style=\"stroke:#000000;stroke-width:0.8;\" x=\"100.860938\" xlink:href=\"#mce03c70f4f\" y=\"184.827042\"/>\r\n      </g>\r\n     </g>\r\n     <g id=\"text_11\">\r\n      <!-- duration_ms -->\r\n      <g transform=\"translate(31.83125 188.626261)scale(0.1 -0.1)\">\r\n       <defs>\r\n        <path d=\"M 41.109375 46.296875 \r\nQ 39.59375 47.171875 37.8125 47.578125 \r\nQ 36.03125 48 33.890625 48 \r\nQ 26.265625 48 22.1875 43.046875 \r\nQ 18.109375 38.09375 18.109375 28.8125 \r\nL 18.109375 0 \r\nL 9.078125 0 \r\nL 9.078125 54.6875 \r\nL 18.109375 54.6875 \r\nL 18.109375 46.1875 \r\nQ 20.953125 51.171875 25.484375 53.578125 \r\nQ 30.03125 56 36.53125 56 \r\nQ 37.453125 56 38.578125 55.875 \r\nQ 39.703125 55.765625 41.0625 55.515625 \r\nz\r\n\" id=\"DejaVuSans-114\"/>\r\n        <path d=\"M 50.984375 -16.609375 \r\nL 50.984375 -23.578125 \r\nL -0.984375 -23.578125 \r\nL -0.984375 -16.609375 \r\nz\r\n\" id=\"DejaVuSans-95\"/>\r\n        <path d=\"M 52 44.1875 \r\nQ 55.375 50.25 60.0625 53.125 \r\nQ 64.75 56 71.09375 56 \r\nQ 79.640625 56 84.28125 50.015625 \r\nQ 88.921875 44.046875 88.921875 33.015625 \r\nL 88.921875 0 \r\nL 79.890625 0 \r\nL 79.890625 32.71875 \r\nQ 79.890625 40.578125 77.09375 44.375 \r\nQ 74.3125 48.1875 68.609375 48.1875 \r\nQ 61.625 48.1875 57.5625 43.546875 \r\nQ 53.515625 38.921875 53.515625 30.90625 \r\nL 53.515625 0 \r\nL 44.484375 0 \r\nL 44.484375 32.71875 \r\nQ 44.484375 40.625 41.703125 44.40625 \r\nQ 38.921875 48.1875 33.109375 48.1875 \r\nQ 26.21875 48.1875 22.15625 43.53125 \r\nQ 18.109375 38.875 18.109375 30.90625 \r\nL 18.109375 0 \r\nL 9.078125 0 \r\nL 9.078125 54.6875 \r\nL 18.109375 54.6875 \r\nL 18.109375 46.1875 \r\nQ 21.1875 51.21875 25.484375 53.609375 \r\nQ 29.78125 56 35.6875 56 \r\nQ 41.65625 56 45.828125 52.96875 \r\nQ 50 49.953125 52 44.1875 \r\nz\r\n\" id=\"DejaVuSans-109\"/>\r\n       </defs>\r\n       <use xlink:href=\"#DejaVuSans-100\"/>\r\n       <use x=\"63.476562\" xlink:href=\"#DejaVuSans-117\"/>\r\n       <use x=\"126.855469\" xlink:href=\"#DejaVuSans-114\"/>\r\n       <use x=\"167.96875\" xlink:href=\"#DejaVuSans-97\"/>\r\n       <use x=\"229.248047\" xlink:href=\"#DejaVuSans-116\"/>\r\n       <use x=\"268.457031\" xlink:href=\"#DejaVuSans-105\"/>\r\n       <use x=\"296.240234\" xlink:href=\"#DejaVuSans-111\"/>\r\n       <use x=\"357.421875\" xlink:href=\"#DejaVuSans-110\"/>\r\n       <use x=\"420.800781\" xlink:href=\"#DejaVuSans-95\"/>\r\n       <use x=\"470.800781\" xlink:href=\"#DejaVuSans-109\"/>\r\n       <use x=\"568.212891\" xlink:href=\"#DejaVuSans-115\"/>\r\n      </g>\r\n     </g>\r\n    </g>\r\n    <g id=\"ytick_4\">\r\n     <g id=\"line2d_12\">\r\n      <g>\r\n       <use style=\"stroke:#000000;stroke-width:0.8;\" x=\"100.860938\" xlink:href=\"#mce03c70f4f\" y=\"169.514366\"/>\r\n      </g>\r\n     </g>\r\n     <g id=\"text_12\">\r\n      <!-- energy -->\r\n      <g transform=\"translate(59.014063 173.313585)scale(0.1 -0.1)\">\r\n       <defs>\r\n        <path d=\"M 45.40625 27.984375 \r\nQ 45.40625 37.75 41.375 43.109375 \r\nQ 37.359375 48.484375 30.078125 48.484375 \r\nQ 22.859375 48.484375 18.828125 43.109375 \r\nQ 14.796875 37.75 14.796875 27.984375 \r\nQ 14.796875 18.265625 18.828125 12.890625 \r\nQ 22.859375 7.515625 30.078125 7.515625 \r\nQ 37.359375 7.515625 41.375 12.890625 \r\nQ 45.40625 18.265625 45.40625 27.984375 \r\nz\r\nM 54.390625 6.78125 \r\nQ 54.390625 -7.171875 48.1875 -13.984375 \r\nQ 42 -20.796875 29.203125 -20.796875 \r\nQ 24.46875 -20.796875 20.265625 -20.09375 \r\nQ 16.0625 -19.390625 12.109375 -17.921875 \r\nL 12.109375 -9.1875 \r\nQ 16.0625 -11.328125 19.921875 -12.34375 \r\nQ 23.78125 -13.375 27.78125 -13.375 \r\nQ 36.625 -13.375 41.015625 -8.765625 \r\nQ 45.40625 -4.15625 45.40625 5.171875 \r\nL 45.40625 9.625 \r\nQ 42.625 4.78125 38.28125 2.390625 \r\nQ 33.9375 0 27.875 0 \r\nQ 17.828125 0 11.671875 7.65625 \r\nQ 5.515625 15.328125 5.515625 27.984375 \r\nQ 5.515625 40.671875 11.671875 48.328125 \r\nQ 17.828125 56 27.875 56 \r\nQ 33.9375 56 38.28125 53.609375 \r\nQ 42.625 51.21875 45.40625 46.390625 \r\nL 45.40625 54.6875 \r\nL 54.390625 54.6875 \r\nz\r\n\" id=\"DejaVuSans-103\"/>\r\n       </defs>\r\n       <use xlink:href=\"#DejaVuSans-101\"/>\r\n       <use x=\"61.523438\" xlink:href=\"#DejaVuSans-110\"/>\r\n       <use x=\"124.902344\" xlink:href=\"#DejaVuSans-101\"/>\r\n       <use x=\"186.425781\" xlink:href=\"#DejaVuSans-114\"/>\r\n       <use x=\"225.789062\" xlink:href=\"#DejaVuSans-103\"/>\r\n       <use x=\"289.265625\" xlink:href=\"#DejaVuSans-121\"/>\r\n      </g>\r\n     </g>\r\n    </g>\r\n    <g id=\"ytick_5\">\r\n     <g id=\"line2d_13\">\r\n      <g>\r\n       <use style=\"stroke:#000000;stroke-width:0.8;\" x=\"100.860938\" xlink:href=\"#mce03c70f4f\" y=\"154.20169\"/>\r\n      </g>\r\n     </g>\r\n     <g id=\"text_13\">\r\n      <!-- explicit -->\r\n      <g transform=\"translate(57.8625 158.000909)scale(0.1 -0.1)\">\r\n       <defs>\r\n        <path d=\"M 54.890625 54.6875 \r\nL 35.109375 28.078125 \r\nL 55.90625 0 \r\nL 45.3125 0 \r\nL 29.390625 21.484375 \r\nL 13.484375 0 \r\nL 2.875 0 \r\nL 24.125 28.609375 \r\nL 4.6875 54.6875 \r\nL 15.28125 54.6875 \r\nL 29.78125 35.203125 \r\nL 44.28125 54.6875 \r\nz\r\n\" id=\"DejaVuSans-120\"/>\r\n        <path d=\"M 18.109375 8.203125 \r\nL 18.109375 -20.796875 \r\nL 9.078125 -20.796875 \r\nL 9.078125 54.6875 \r\nL 18.109375 54.6875 \r\nL 18.109375 46.390625 \r\nQ 20.953125 51.265625 25.265625 53.625 \r\nQ 29.59375 56 35.59375 56 \r\nQ 45.5625 56 51.78125 48.09375 \r\nQ 58.015625 40.1875 58.015625 27.296875 \r\nQ 58.015625 14.40625 51.78125 6.484375 \r\nQ 45.5625 -1.421875 35.59375 -1.421875 \r\nQ 29.59375 -1.421875 25.265625 0.953125 \r\nQ 20.953125 3.328125 18.109375 8.203125 \r\nz\r\nM 48.6875 27.296875 \r\nQ 48.6875 37.203125 44.609375 42.84375 \r\nQ 40.53125 48.484375 33.40625 48.484375 \r\nQ 26.265625 48.484375 22.1875 42.84375 \r\nQ 18.109375 37.203125 18.109375 27.296875 \r\nQ 18.109375 17.390625 22.1875 11.75 \r\nQ 26.265625 6.109375 33.40625 6.109375 \r\nQ 40.53125 6.109375 44.609375 11.75 \r\nQ 48.6875 17.390625 48.6875 27.296875 \r\nz\r\n\" id=\"DejaVuSans-112\"/>\r\n       </defs>\r\n       <use xlink:href=\"#DejaVuSans-101\"/>\r\n       <use x=\"59.773438\" xlink:href=\"#DejaVuSans-120\"/>\r\n       <use x=\"118.953125\" xlink:href=\"#DejaVuSans-112\"/>\r\n       <use x=\"182.429688\" xlink:href=\"#DejaVuSans-108\"/>\r\n       <use x=\"210.212891\" xlink:href=\"#DejaVuSans-105\"/>\r\n       <use x=\"237.996094\" xlink:href=\"#DejaVuSans-99\"/>\r\n       <use x=\"292.976562\" xlink:href=\"#DejaVuSans-105\"/>\r\n       <use x=\"320.759766\" xlink:href=\"#DejaVuSans-116\"/>\r\n      </g>\r\n     </g>\r\n    </g>\r\n    <g id=\"ytick_6\">\r\n     <g id=\"line2d_14\">\r\n      <g>\r\n       <use style=\"stroke:#000000;stroke-width:0.8;\" x=\"100.860938\" xlink:href=\"#mce03c70f4f\" y=\"138.889014\"/>\r\n      </g>\r\n     </g>\r\n     <g id=\"text_14\">\r\n      <!-- instrumentalness -->\r\n      <g transform=\"translate(7.2 142.688233)scale(0.1 -0.1)\">\r\n       <use xlink:href=\"#DejaVuSans-105\"/>\r\n       <use x=\"27.783203\" xlink:href=\"#DejaVuSans-110\"/>\r\n       <use x=\"91.162109\" xlink:href=\"#DejaVuSans-115\"/>\r\n       <use x=\"143.261719\" xlink:href=\"#DejaVuSans-116\"/>\r\n       <use x=\"182.470703\" xlink:href=\"#DejaVuSans-114\"/>\r\n       <use x=\"223.583984\" xlink:href=\"#DejaVuSans-117\"/>\r\n       <use x=\"286.962891\" xlink:href=\"#DejaVuSans-109\"/>\r\n       <use x=\"384.375\" xlink:href=\"#DejaVuSans-101\"/>\r\n       <use x=\"445.898438\" xlink:href=\"#DejaVuSans-110\"/>\r\n       <use x=\"509.277344\" xlink:href=\"#DejaVuSans-116\"/>\r\n       <use x=\"548.486328\" xlink:href=\"#DejaVuSans-97\"/>\r\n       <use x=\"609.765625\" xlink:href=\"#DejaVuSans-108\"/>\r\n       <use x=\"637.548828\" xlink:href=\"#DejaVuSans-110\"/>\r\n       <use x=\"700.927734\" xlink:href=\"#DejaVuSans-101\"/>\r\n       <use x=\"762.451172\" xlink:href=\"#DejaVuSans-115\"/>\r\n       <use x=\"814.550781\" xlink:href=\"#DejaVuSans-115\"/>\r\n      </g>\r\n     </g>\r\n    </g>\r\n    <g id=\"ytick_7\">\r\n     <g id=\"line2d_15\">\r\n      <g>\r\n       <use style=\"stroke:#000000;stroke-width:0.8;\" x=\"100.860938\" xlink:href=\"#mce03c70f4f\" y=\"123.576338\"/>\r\n      </g>\r\n     </g>\r\n     <g id=\"text_15\">\r\n      <!-- key -->\r\n      <g transform=\"translate(76.360938 127.375557)scale(0.1 -0.1)\">\r\n       <defs>\r\n        <path d=\"M 9.078125 75.984375 \r\nL 18.109375 75.984375 \r\nL 18.109375 31.109375 \r\nL 44.921875 54.6875 \r\nL 56.390625 54.6875 \r\nL 27.390625 29.109375 \r\nL 57.625 0 \r\nL 45.90625 0 \r\nL 18.109375 26.703125 \r\nL 18.109375 0 \r\nL 9.078125 0 \r\nz\r\n\" id=\"DejaVuSans-107\"/>\r\n       </defs>\r\n       <use xlink:href=\"#DejaVuSans-107\"/>\r\n       <use x=\"54.285156\" xlink:href=\"#DejaVuSans-101\"/>\r\n       <use x=\"115.808594\" xlink:href=\"#DejaVuSans-121\"/>\r\n      </g>\r\n     </g>\r\n    </g>\r\n    <g id=\"ytick_8\">\r\n     <g id=\"line2d_16\">\r\n      <g>\r\n       <use style=\"stroke:#000000;stroke-width:0.8;\" x=\"100.860938\" xlink:href=\"#mce03c70f4f\" y=\"108.263662\"/>\r\n      </g>\r\n     </g>\r\n     <g id=\"text_16\">\r\n      <!-- liveness -->\r\n      <g transform=\"translate(53.323438 112.062881)scale(0.1 -0.1)\">\r\n       <defs>\r\n        <path d=\"M 2.984375 54.6875 \r\nL 12.5 54.6875 \r\nL 29.59375 8.796875 \r\nL 46.6875 54.6875 \r\nL 56.203125 54.6875 \r\nL 35.6875 0 \r\nL 23.484375 0 \r\nz\r\n\" id=\"DejaVuSans-118\"/>\r\n       </defs>\r\n       <use xlink:href=\"#DejaVuSans-108\"/>\r\n       <use x=\"27.783203\" xlink:href=\"#DejaVuSans-105\"/>\r\n       <use x=\"55.566406\" xlink:href=\"#DejaVuSans-118\"/>\r\n       <use x=\"114.746094\" xlink:href=\"#DejaVuSans-101\"/>\r\n       <use x=\"176.269531\" xlink:href=\"#DejaVuSans-110\"/>\r\n       <use x=\"239.648438\" xlink:href=\"#DejaVuSans-101\"/>\r\n       <use x=\"301.171875\" xlink:href=\"#DejaVuSans-115\"/>\r\n       <use x=\"353.271484\" xlink:href=\"#DejaVuSans-115\"/>\r\n      </g>\r\n     </g>\r\n    </g>\r\n    <g id=\"ytick_9\">\r\n     <g id=\"line2d_17\">\r\n      <g>\r\n       <use style=\"stroke:#000000;stroke-width:0.8;\" x=\"100.860938\" xlink:href=\"#mce03c70f4f\" y=\"92.950986\"/>\r\n      </g>\r\n     </g>\r\n     <g id=\"text_17\">\r\n      <!-- loudness -->\r\n      <g transform=\"translate(49.36875 96.750205)scale(0.1 -0.1)\">\r\n       <use xlink:href=\"#DejaVuSans-108\"/>\r\n       <use x=\"27.783203\" xlink:href=\"#DejaVuSans-111\"/>\r\n       <use x=\"88.964844\" xlink:href=\"#DejaVuSans-117\"/>\r\n       <use x=\"152.34375\" xlink:href=\"#DejaVuSans-100\"/>\r\n       <use x=\"215.820312\" xlink:href=\"#DejaVuSans-110\"/>\r\n       <use x=\"279.199219\" xlink:href=\"#DejaVuSans-101\"/>\r\n       <use x=\"340.722656\" xlink:href=\"#DejaVuSans-115\"/>\r\n       <use x=\"392.822266\" xlink:href=\"#DejaVuSans-115\"/>\r\n      </g>\r\n     </g>\r\n    </g>\r\n    <g id=\"ytick_10\">\r\n     <g id=\"line2d_18\">\r\n      <g>\r\n       <use style=\"stroke:#000000;stroke-width:0.8;\" x=\"100.860938\" xlink:href=\"#mce03c70f4f\" y=\"77.63831\"/>\r\n      </g>\r\n     </g>\r\n     <g id=\"text_18\">\r\n      <!-- mode -->\r\n      <g transform=\"translate(65.5 81.437529)scale(0.1 -0.1)\">\r\n       <use xlink:href=\"#DejaVuSans-109\"/>\r\n       <use x=\"97.412109\" xlink:href=\"#DejaVuSans-111\"/>\r\n       <use x=\"158.59375\" xlink:href=\"#DejaVuSans-100\"/>\r\n       <use x=\"222.070312\" xlink:href=\"#DejaVuSans-101\"/>\r\n      </g>\r\n     </g>\r\n    </g>\r\n    <g id=\"ytick_11\">\r\n     <g id=\"line2d_19\">\r\n      <g>\r\n       <use style=\"stroke:#000000;stroke-width:0.8;\" x=\"100.860938\" xlink:href=\"#mce03c70f4f\" y=\"62.325634\"/>\r\n      </g>\r\n     </g>\r\n     <g id=\"text_19\">\r\n      <!-- popularity -->\r\n      <g transform=\"translate(43.073438 66.124853)scale(0.1 -0.1)\">\r\n       <use xlink:href=\"#DejaVuSans-112\"/>\r\n       <use x=\"63.476562\" xlink:href=\"#DejaVuSans-111\"/>\r\n       <use x=\"124.658203\" xlink:href=\"#DejaVuSans-112\"/>\r\n       <use x=\"188.134766\" xlink:href=\"#DejaVuSans-117\"/>\r\n       <use x=\"251.513672\" xlink:href=\"#DejaVuSans-108\"/>\r\n       <use x=\"279.296875\" xlink:href=\"#DejaVuSans-97\"/>\r\n       <use x=\"340.576172\" xlink:href=\"#DejaVuSans-114\"/>\r\n       <use x=\"381.689453\" xlink:href=\"#DejaVuSans-105\"/>\r\n       <use x=\"409.472656\" xlink:href=\"#DejaVuSans-116\"/>\r\n       <use x=\"448.681641\" xlink:href=\"#DejaVuSans-121\"/>\r\n      </g>\r\n     </g>\r\n    </g>\r\n    <g id=\"ytick_12\">\r\n     <g id=\"line2d_20\">\r\n      <g>\r\n       <use style=\"stroke:#000000;stroke-width:0.8;\" x=\"100.860938\" xlink:href=\"#mce03c70f4f\" y=\"47.012958\"/>\r\n      </g>\r\n     </g>\r\n     <g id=\"text_20\">\r\n      <!-- speechiness -->\r\n      <g transform=\"translate(32.473438 50.812176)scale(0.1 -0.1)\">\r\n       <defs>\r\n        <path d=\"M 54.890625 33.015625 \r\nL 54.890625 0 \r\nL 45.90625 0 \r\nL 45.90625 32.71875 \r\nQ 45.90625 40.484375 42.875 44.328125 \r\nQ 39.84375 48.1875 33.796875 48.1875 \r\nQ 26.515625 48.1875 22.3125 43.546875 \r\nQ 18.109375 38.921875 18.109375 30.90625 \r\nL 18.109375 0 \r\nL 9.078125 0 \r\nL 9.078125 75.984375 \r\nL 18.109375 75.984375 \r\nL 18.109375 46.1875 \r\nQ 21.34375 51.125 25.703125 53.5625 \r\nQ 30.078125 56 35.796875 56 \r\nQ 45.21875 56 50.046875 50.171875 \r\nQ 54.890625 44.34375 54.890625 33.015625 \r\nz\r\n\" id=\"DejaVuSans-104\"/>\r\n       </defs>\r\n       <use xlink:href=\"#DejaVuSans-115\"/>\r\n       <use x=\"52.099609\" xlink:href=\"#DejaVuSans-112\"/>\r\n       <use x=\"115.576172\" xlink:href=\"#DejaVuSans-101\"/>\r\n       <use x=\"177.099609\" xlink:href=\"#DejaVuSans-101\"/>\r\n       <use x=\"238.623047\" xlink:href=\"#DejaVuSans-99\"/>\r\n       <use x=\"293.603516\" xlink:href=\"#DejaVuSans-104\"/>\r\n       <use x=\"356.982422\" xlink:href=\"#DejaVuSans-105\"/>\r\n       <use x=\"384.765625\" xlink:href=\"#DejaVuSans-110\"/>\r\n       <use x=\"448.144531\" xlink:href=\"#DejaVuSans-101\"/>\r\n       <use x=\"509.667969\" xlink:href=\"#DejaVuSans-115\"/>\r\n       <use x=\"561.767578\" xlink:href=\"#DejaVuSans-115\"/>\r\n      </g>\r\n     </g>\r\n    </g>\r\n    <g id=\"ytick_13\">\r\n     <g id=\"line2d_21\">\r\n      <g>\r\n       <use style=\"stroke:#000000;stroke-width:0.8;\" x=\"100.860938\" xlink:href=\"#mce03c70f4f\" y=\"31.700282\"/>\r\n      </g>\r\n     </g>\r\n     <g id=\"text_21\">\r\n      <!-- tempo -->\r\n      <g transform=\"translate(61.579688 35.4995)scale(0.1 -0.1)\">\r\n       <use xlink:href=\"#DejaVuSans-116\"/>\r\n       <use x=\"39.208984\" xlink:href=\"#DejaVuSans-101\"/>\r\n       <use x=\"100.732422\" xlink:href=\"#DejaVuSans-109\"/>\r\n       <use x=\"198.144531\" xlink:href=\"#DejaVuSans-112\"/>\r\n       <use x=\"261.621094\" xlink:href=\"#DejaVuSans-111\"/>\r\n      </g>\r\n     </g>\r\n    </g>\r\n    <g id=\"ytick_14\">\r\n     <g id=\"line2d_22\">\r\n      <g>\r\n       <use style=\"stroke:#000000;stroke-width:0.8;\" x=\"100.860938\" xlink:href=\"#mce03c70f4f\" y=\"16.387606\"/>\r\n      </g>\r\n     </g>\r\n     <g id=\"text_22\">\r\n      <!-- valence -->\r\n      <g transform=\"translate(54.89375 20.186824)scale(0.1 -0.1)\">\r\n       <use xlink:href=\"#DejaVuSans-118\"/>\r\n       <use x=\"59.179688\" xlink:href=\"#DejaVuSans-97\"/>\r\n       <use x=\"120.458984\" xlink:href=\"#DejaVuSans-108\"/>\r\n       <use x=\"148.242188\" xlink:href=\"#DejaVuSans-101\"/>\r\n       <use x=\"209.765625\" xlink:href=\"#DejaVuSans-110\"/>\r\n       <use x=\"273.144531\" xlink:href=\"#DejaVuSans-99\"/>\r\n       <use x=\"328.125\" xlink:href=\"#DejaVuSans-101\"/>\r\n      </g>\r\n     </g>\r\n    </g>\r\n   </g>\r\n   <g id=\"patch_31\">\r\n    <path d=\"M 100.860938 224.64 \r\nL 100.860938 7.2 \r\n\" style=\"fill:none;stroke:#000000;stroke-linecap:square;stroke-linejoin:miter;stroke-width:0.8;\"/>\r\n   </g>\r\n   <g id=\"patch_32\">\r\n    <path d=\"M 435.660938 224.64 \r\nL 435.660938 7.2 \r\n\" style=\"fill:none;stroke:#000000;stroke-linecap:square;stroke-linejoin:miter;stroke-width:0.8;\"/>\r\n   </g>\r\n   <g id=\"patch_33\">\r\n    <path d=\"M 100.860938 224.64 \r\nL 435.660938 224.64 \r\n\" style=\"fill:none;stroke:#000000;stroke-linecap:square;stroke-linejoin:miter;stroke-width:0.8;\"/>\r\n   </g>\r\n   <g id=\"patch_34\">\r\n    <path d=\"M 100.860938 7.2 \r\nL 435.660938 7.2 \r\n\" style=\"fill:none;stroke:#000000;stroke-linecap:square;stroke-linejoin:miter;stroke-width:0.8;\"/>\r\n   </g>\r\n   <g id=\"legend_1\">\r\n    <g id=\"patch_35\">\r\n     <path d=\"M 284.745313 44.55625 \r\nL 428.660938 44.55625 \r\nQ 430.660938 44.55625 430.660938 42.55625 \r\nL 430.660938 14.2 \r\nQ 430.660938 12.2 428.660938 12.2 \r\nL 284.745313 12.2 \r\nQ 282.745313 12.2 282.745313 14.2 \r\nL 282.745313 42.55625 \r\nQ 282.745313 44.55625 284.745313 44.55625 \r\nz\r\n\" style=\"fill:#ffffff;opacity:0.8;stroke:#cccccc;stroke-linejoin:miter;\"/>\r\n    </g>\r\n    <g id=\"patch_36\">\r\n     <path d=\"M 286.745313 23.798437 \r\nL 306.745313 23.798437 \r\nL 306.745313 16.798437 \r\nL 286.745313 16.798437 \r\nz\r\n\" style=\"fill:#ff0000;\"/>\r\n    </g>\r\n    <g id=\"text_23\">\r\n     <!-- dvp -->\r\n     <g transform=\"translate(314.745313 23.798437)scale(0.1 -0.1)\">\r\n      <use xlink:href=\"#DejaVuSans-100\"/>\r\n      <use x=\"63.476562\" xlink:href=\"#DejaVuSans-118\"/>\r\n      <use x=\"122.65625\" xlink:href=\"#DejaVuSans-112\"/>\r\n     </g>\r\n    </g>\r\n    <g id=\"patch_37\">\r\n     <path d=\"M 286.745313 38.476562 \r\nL 306.745313 38.476562 \r\nL 306.745313 31.476562 \r\nL 286.745313 31.476562 \r\nz\r\n\" style=\"fill:#0000ff;\"/>\r\n    </g>\r\n    <g id=\"text_24\">\r\n     <!-- How You Love Me Now -->\r\n     <g transform=\"translate(314.745313 38.476562)scale(0.1 -0.1)\">\r\n      <defs>\r\n       <path d=\"M 9.8125 72.90625 \r\nL 19.671875 72.90625 \r\nL 19.671875 43.015625 \r\nL 55.515625 43.015625 \r\nL 55.515625 72.90625 \r\nL 65.375 72.90625 \r\nL 65.375 0 \r\nL 55.515625 0 \r\nL 55.515625 34.71875 \r\nL 19.671875 34.71875 \r\nL 19.671875 0 \r\nL 9.8125 0 \r\nz\r\n\" id=\"DejaVuSans-72\"/>\r\n       <path d=\"M 4.203125 54.6875 \r\nL 13.1875 54.6875 \r\nL 24.421875 12.015625 \r\nL 35.59375 54.6875 \r\nL 46.1875 54.6875 \r\nL 57.421875 12.015625 \r\nL 68.609375 54.6875 \r\nL 77.59375 54.6875 \r\nL 63.28125 0 \r\nL 52.6875 0 \r\nL 40.921875 44.828125 \r\nL 29.109375 0 \r\nL 18.5 0 \r\nz\r\n\" id=\"DejaVuSans-119\"/>\r\n       <path id=\"DejaVuSans-32\"/>\r\n       <path d=\"M -0.203125 72.90625 \r\nL 10.40625 72.90625 \r\nL 30.609375 42.921875 \r\nL 50.6875 72.90625 \r\nL 61.28125 72.90625 \r\nL 35.5 34.71875 \r\nL 35.5 0 \r\nL 25.59375 0 \r\nL 25.59375 34.71875 \r\nz\r\n\" id=\"DejaVuSans-89\"/>\r\n       <path d=\"M 9.8125 72.90625 \r\nL 19.671875 72.90625 \r\nL 19.671875 8.296875 \r\nL 55.171875 8.296875 \r\nL 55.171875 0 \r\nL 9.8125 0 \r\nz\r\n\" id=\"DejaVuSans-76\"/>\r\n       <path d=\"M 9.8125 72.90625 \r\nL 24.515625 72.90625 \r\nL 43.109375 23.296875 \r\nL 61.8125 72.90625 \r\nL 76.515625 72.90625 \r\nL 76.515625 0 \r\nL 66.890625 0 \r\nL 66.890625 64.015625 \r\nL 48.09375 14.015625 \r\nL 38.1875 14.015625 \r\nL 19.390625 64.015625 \r\nL 19.390625 0 \r\nL 9.8125 0 \r\nz\r\n\" id=\"DejaVuSans-77\"/>\r\n       <path d=\"M 9.8125 72.90625 \r\nL 23.09375 72.90625 \r\nL 55.421875 11.921875 \r\nL 55.421875 72.90625 \r\nL 64.984375 72.90625 \r\nL 64.984375 0 \r\nL 51.703125 0 \r\nL 19.390625 60.984375 \r\nL 19.390625 0 \r\nL 9.8125 0 \r\nz\r\n\" id=\"DejaVuSans-78\"/>\r\n      </defs>\r\n      <use xlink:href=\"#DejaVuSans-72\"/>\r\n      <use x=\"75.195312\" xlink:href=\"#DejaVuSans-111\"/>\r\n      <use x=\"136.376953\" xlink:href=\"#DejaVuSans-119\"/>\r\n      <use x=\"218.164062\" xlink:href=\"#DejaVuSans-32\"/>\r\n      <use x=\"249.951172\" xlink:href=\"#DejaVuSans-89\"/>\r\n      <use x=\"297.785156\" xlink:href=\"#DejaVuSans-111\"/>\r\n      <use x=\"358.966797\" xlink:href=\"#DejaVuSans-117\"/>\r\n      <use x=\"422.345703\" xlink:href=\"#DejaVuSans-32\"/>\r\n      <use x=\"454.132812\" xlink:href=\"#DejaVuSans-76\"/>\r\n      <use x=\"508.095703\" xlink:href=\"#DejaVuSans-111\"/>\r\n      <use x=\"569.277344\" xlink:href=\"#DejaVuSans-118\"/>\r\n      <use x=\"628.457031\" xlink:href=\"#DejaVuSans-101\"/>\r\n      <use x=\"689.980469\" xlink:href=\"#DejaVuSans-32\"/>\r\n      <use x=\"721.767578\" xlink:href=\"#DejaVuSans-77\"/>\r\n      <use x=\"808.046875\" xlink:href=\"#DejaVuSans-101\"/>\r\n      <use x=\"869.570312\" xlink:href=\"#DejaVuSans-32\"/>\r\n      <use x=\"901.357422\" xlink:href=\"#DejaVuSans-78\"/>\r\n      <use x=\"976.162109\" xlink:href=\"#DejaVuSans-111\"/>\r\n      <use x=\"1037.34375\" xlink:href=\"#DejaVuSans-119\"/>\r\n     </g>\r\n    </g>\r\n   </g>\r\n  </g>\r\n </g>\r\n <defs>\r\n  <clipPath id=\"p969d229f1d\">\r\n   <rect height=\"217.44\" width=\"334.8\" x=\"100.860938\" y=\"7.2\"/>\r\n  </clipPath>\r\n </defs>\r\n</svg>\r\n",
            "image/png": "[encoded data removed]"
          },
          "metadata": {
            "needs_background": "light"
          }
        }
      ],
      "source": [
        "\n",
        "df = pd.DataFrame(dict(graph=number_cols, input=r, output=sd[1]))\n",
        "\n",
        "ind = np.arange(len(df))\n",
        "width = 0.4\n",
        "\n",
        "fig, ax = plt.subplots()\n",
        "ax.barh(ind, df.input, width, color='red', label='dvp')\n",
        "ax.barh(ind + width, df.output, width, color='blue', label=ten_song[1]['name'])\n",
        "ax.set(yticks=ind + width, yticklabels=df.graph, ylim=[2*width - 1, len(df)])\n",
        "ax.legend()\n",
        "plt.show()"
      ]
    },
    {
      "cell_type": "code",
      "execution_count": 54,
      "metadata": {},
      "outputs": [
        {
          "output_type": "error",
          "ename": "TypeError",
          "evalue": "'module' object is not callable",
          "traceback": [
            "\u001b[1;31m---------------------------------------------------------------------------\u001b[0m",
            "\u001b[1;31mTypeError\u001b[0m                                 Traceback (most recent call last)",
            "\u001b[1;32m<ipython-input-54-e4ed0e0ebc8e>\u001b[0m in \u001b[0;36m<module>\u001b[1;34m\u001b[0m\n\u001b[1;32m----> 1\u001b[1;33m \u001b[0mtrace1\u001b[0m \u001b[1;33m=\u001b[0m \u001b[0mgo\u001b[0m\u001b[1;33m.\u001b[0m\u001b[0mbar\u001b[0m\u001b[1;33m(\u001b[0m\u001b[0mx\u001b[0m\u001b[1;33m=\u001b[0m\u001b[0mdf\u001b[0m\u001b[1;33m.\u001b[0m\u001b[0minput\u001b[0m\u001b[1;33m,\u001b[0m \u001b[0my\u001b[0m\u001b[1;33m=\u001b[0m\u001b[0mdf\u001b[0m\u001b[1;33m.\u001b[0m\u001b[0mgraph\u001b[0m \u001b[1;33m,\u001b[0m \u001b[0morientation\u001b[0m\u001b[1;33m=\u001b[0m\u001b[1;34m'h'\u001b[0m\u001b[1;33m)\u001b[0m\u001b[1;33m\u001b[0m\u001b[1;33m\u001b[0m\u001b[0m\n\u001b[0m",
            "\u001b[1;31mTypeError\u001b[0m: 'module' object is not callable"
          ]
        }
      ],
      "source": [
        "trace1 = go.bar(x=df.input, y=df.graph , orientation='h')"
      ]
    },
    {
      "cell_type": "code",
      "execution_count": 62,
      "metadata": {},
      "outputs": [],
      "source": [
        "def plot_plotly(input, n):\n",
        "    input_dict = {'name': str(input)}\n",
        "    ten_song, ssc, sd = recommend_songs([input_dict])\n",
        "    n = n-1\n",
        "\n",
        "    r = list(itertools.chain.from_iterable(ssc))\n",
        "\n",
        "    df = pd.DataFrame(dict(graph=number_cols, input=r, output=sd[n]))\n",
        "\n",
        "\n",
        "    fig = go.Figure(\n",
        "        data=[\n",
        "            go.Bar(name=str(input), x=df.input, y=df.graph, orientation='h'),\n",
        "            go.Bar(name=ten_song[n]['name'], x=df.output, y=df.graph, orientation='h')\n",
        "        ],\n",
        "        layout = { 'yaxis': {'title':'spotify metrics'}}\n",
        "    )\n",
        "    fig.update_layout(barmode='group')\n",
        "\n",
        "    return fig.show()"
      ]
    },
    {
      "cell_type": "code",
      "execution_count": 64,
      "metadata": {},
      "outputs": [
        {
          "output_type": "display_data",
          "data": {
            "application/vnd.plotly.v1+json": {
              "config": {
                "plotlyServerURL": "https://plot.ly"
              },
              "data": [
                {
                  "name": "dvp",
                  "orientation": "h",
                  "type": "bar",
                  "x": [
                    -1.3023512023072747,
                    -0.9984822438640804,
                    -0.5654962872405377,
                    1.885984656756196,
                    -0.2704012765337135,
                    -0.5895536000587207,
                    0.22587577760581226,
                    0.647545196258879,
                    1.8493766514951722,
                    0.6509401971195059,
                    1.1569968768721903,
                    -0.034177522490510294,
                    1.0231508827755875,
                    -1.1249892086132696
                  ],
                  "y": [
                    "acousticness",
                    "danceability",
                    "duration_ms",
                    "energy",
                    "explicit",
                    "instrumentalness",
                    "key",
                    "liveness",
                    "loudness",
                    "mode",
                    "popularity",
                    "speechiness",
                    "tempo",
                    "valence"
                  ]
                },
                {
                  "name": "Heaven Is Falling",
                  "orientation": "h",
                  "type": "bar",
                  "x": [
                    1.2996218822725523,
                    0.6262892727134067,
                    -0.46485972574938156,
                    -1.0881462929013934,
                    -0.2704012765337135,
                    -0.5895113969798212,
                    -1.4795021529600458,
                    1.7057626859465955,
                    -0.06099103305850928,
                    0.6509401971195059,
                    -0.991802730704864,
                    0.37457996264415694,
                    -0.6414504278125994,
                    0.6218609059106565
                  ],
                  "y": [
                    "acousticness",
                    "danceability",
                    "duration_ms",
                    "energy",
                    "explicit",
                    "instrumentalness",
                    "key",
                    "liveness",
                    "loudness",
                    "mode",
                    "popularity",
                    "speechiness",
                    "tempo",
                    "valence"
                  ]
                }
              ],
              "layout": {
                "barmode": "group",
                "template": {
                  "data": {
                    "bar": [
                      {
                        "error_x": {
                          "color": "#2a3f5f"
                        },
                        "error_y": {
                          "color": "#2a3f5f"
                        },
                        "marker": {
                          "line": {
                            "color": "#E5ECF6",
                            "width": 0.5
                          }
                        },
                        "type": "bar"
                      }
                    ],
                    "barpolar": [
                      {
                        "marker": {
                          "line": {
                            "color": "#E5ECF6",
                            "width": 0.5
                          }
                        },
                        "type": "barpolar"
                      }
                    ],
                    "carpet": [
                      {
                        "aaxis": {
                          "endlinecolor": "#2a3f5f",
                          "gridcolor": "white",
                          "linecolor": "white",
                          "minorgridcolor": "white",
                          "startlinecolor": "#2a3f5f"
                        },
                        "baxis": {
                          "endlinecolor": "#2a3f5f",
                          "gridcolor": "white",
                          "linecolor": "white",
                          "minorgridcolor": "white",
                          "startlinecolor": "#2a3f5f"
                        },
                        "type": "carpet"
                      }
                    ],
                    "choropleth": [
                      {
                        "colorbar": {
                          "outlinewidth": 0,
                          "ticks": ""
                        },
                        "type": "choropleth"
                      }
                    ],
                    "contour": [
                      {
                        "colorbar": {
                          "outlinewidth": 0,
                          "ticks": ""
                        },
                        "colorscale": [
                          [
                            0,
                            "#0d0887"
                          ],
                          [
                            0.1111111111111111,
                            "#46039f"
                          ],
                          [
                            0.2222222222222222,
                            "#7201a8"
                          ],
                          [
                            0.3333333333333333,
                            "#9c179e"
                          ],
                          [
                            0.4444444444444444,
                            "#bd3786"
                          ],
                          [
                            0.5555555555555556,
                            "#d8576b"
                          ],
                          [
                            0.6666666666666666,
                            "#ed7953"
                          ],
                          [
                            0.7777777777777778,
                            "#fb9f3a"
                          ],
                          [
                            0.8888888888888888,
                            "#fdca26"
                          ],
                          [
                            1,
                            "#f0f921"
                          ]
                        ],
                        "type": "contour"
                      }
                    ],
                    "contourcarpet": [
                      {
                        "colorbar": {
                          "outlinewidth": 0,
                          "ticks": ""
                        },
                        "type": "contourcarpet"
                      }
                    ],
                    "heatmap": [
                      {
                        "colorbar": {
                          "outlinewidth": 0,
                          "ticks": ""
                        },
                        "colorscale": [
                          [
                            0,
                            "#0d0887"
                          ],
                          [
                            0.1111111111111111,
                            "#46039f"
                          ],
                          [
                            0.2222222222222222,
                            "#7201a8"
                          ],
                          [
                            0.3333333333333333,
                            "#9c179e"
                          ],
                          [
                            0.4444444444444444,
                            "#bd3786"
                          ],
                          [
                            0.5555555555555556,
                            "#d8576b"
                          ],
                          [
                            0.6666666666666666,
                            "#ed7953"
                          ],
                          [
                            0.7777777777777778,
                            "#fb9f3a"
                          ],
                          [
                            0.8888888888888888,
                            "#fdca26"
                          ],
                          [
                            1,
                            "#f0f921"
                          ]
                        ],
                        "type": "heatmap"
                      }
                    ],
                    "heatmapgl": [
                      {
                        "colorbar": {
                          "outlinewidth": 0,
                          "ticks": ""
                        },
                        "colorscale": [
                          [
                            0,
                            "#0d0887"
                          ],
                          [
                            0.1111111111111111,
                            "#46039f"
                          ],
                          [
                            0.2222222222222222,
                            "#7201a8"
                          ],
                          [
                            0.3333333333333333,
                            "#9c179e"
                          ],
                          [
                            0.4444444444444444,
                            "#bd3786"
                          ],
                          [
                            0.5555555555555556,
                            "#d8576b"
                          ],
                          [
                            0.6666666666666666,
                            "#ed7953"
                          ],
                          [
                            0.7777777777777778,
                            "#fb9f3a"
                          ],
                          [
                            0.8888888888888888,
                            "#fdca26"
                          ],
                          [
                            1,
                            "#f0f921"
                          ]
                        ],
                        "type": "heatmapgl"
                      }
                    ],
                    "histogram": [
                      {
                        "marker": {
                          "colorbar": {
                            "outlinewidth": 0,
                            "ticks": ""
                          }
                        },
                        "type": "histogram"
                      }
                    ],
                    "histogram2d": [
                      {
                        "colorbar": {
                          "outlinewidth": 0,
                          "ticks": ""
                        },
                        "colorscale": [
                          [
                            0,
                            "#0d0887"
                          ],
                          [
                            0.1111111111111111,
                            "#46039f"
                          ],
                          [
                            0.2222222222222222,
                            "#7201a8"
                          ],
                          [
                            0.3333333333333333,
                            "#9c179e"
                          ],
                          [
                            0.4444444444444444,
                            "#bd3786"
                          ],
                          [
                            0.5555555555555556,
                            "#d8576b"
                          ],
                          [
                            0.6666666666666666,
                            "#ed7953"
                          ],
                          [
                            0.7777777777777778,
                            "#fb9f3a"
                          ],
                          [
                            0.8888888888888888,
                            "#fdca26"
                          ],
                          [
                            1,
                            "#f0f921"
                          ]
                        ],
                        "type": "histogram2d"
                      }
                    ],
                    "histogram2dcontour": [
                      {
                        "colorbar": {
                          "outlinewidth": 0,
                          "ticks": ""
                        },
                        "colorscale": [
                          [
                            0,
                            "#0d0887"
                          ],
                          [
                            0.1111111111111111,
                            "#46039f"
                          ],
                          [
                            0.2222222222222222,
                            "#7201a8"
                          ],
                          [
                            0.3333333333333333,
                            "#9c179e"
                          ],
                          [
                            0.4444444444444444,
                            "#bd3786"
                          ],
                          [
                            0.5555555555555556,
                            "#d8576b"
                          ],
                          [
                            0.6666666666666666,
                            "#ed7953"
                          ],
                          [
                            0.7777777777777778,
                            "#fb9f3a"
                          ],
                          [
                            0.8888888888888888,
                            "#fdca26"
                          ],
                          [
                            1,
                            "#f0f921"
                          ]
                        ],
                        "type": "histogram2dcontour"
                      }
                    ],
                    "mesh3d": [
                      {
                        "colorbar": {
                          "outlinewidth": 0,
                          "ticks": ""
                        },
                        "type": "mesh3d"
                      }
                    ],
                    "parcoords": [
                      {
                        "line": {
                          "colorbar": {
                            "outlinewidth": 0,
                            "ticks": ""
                          }
                        },
                        "type": "parcoords"
                      }
                    ],
                    "pie": [
                      {
                        "automargin": true,
                        "type": "pie"
                      }
                    ],
                    "scatter": [
                      {
                        "marker": {
                          "colorbar": {
                            "outlinewidth": 0,
                            "ticks": ""
                          }
                        },
                        "type": "scatter"
                      }
                    ],
                    "scatter3d": [
                      {
                        "line": {
                          "colorbar": {
                            "outlinewidth": 0,
                            "ticks": ""
                          }
                        },
                        "marker": {
                          "colorbar": {
                            "outlinewidth": 0,
                            "ticks": ""
                          }
                        },
                        "type": "scatter3d"
                      }
                    ],
                    "scattercarpet": [
                      {
                        "marker": {
                          "colorbar": {
                            "outlinewidth": 0,
                            "ticks": ""
                          }
                        },
                        "type": "scattercarpet"
                      }
                    ],
                    "scattergeo": [
                      {
                        "marker": {
                          "colorbar": {
                            "outlinewidth": 0,
                            "ticks": ""
                          }
                        },
                        "type": "scattergeo"
                      }
                    ],
                    "scattergl": [
                      {
                        "marker": {
                          "colorbar": {
                            "outlinewidth": 0,
                            "ticks": ""
                          }
                        },
                        "type": "scattergl"
                      }
                    ],
                    "scattermapbox": [
                      {
                        "marker": {
                          "colorbar": {
                            "outlinewidth": 0,
                            "ticks": ""
                          }
                        },
                        "type": "scattermapbox"
                      }
                    ],
                    "scatterpolar": [
                      {
                        "marker": {
                          "colorbar": {
                            "outlinewidth": 0,
                            "ticks": ""
                          }
                        },
                        "type": "scatterpolar"
                      }
                    ],
                    "scatterpolargl": [
                      {
                        "marker": {
                          "colorbar": {
                            "outlinewidth": 0,
                            "ticks": ""
                          }
                        },
                        "type": "scatterpolargl"
                      }
                    ],
                    "scatterternary": [
                      {
                        "marker": {
                          "colorbar": {
                            "outlinewidth": 0,
                            "ticks": ""
                          }
                        },
                        "type": "scatterternary"
                      }
                    ],
                    "surface": [
                      {
                        "colorbar": {
                          "outlinewidth": 0,
                          "ticks": ""
                        },
                        "colorscale": [
                          [
                            0,
                            "#0d0887"
                          ],
                          [
                            0.1111111111111111,
                            "#46039f"
                          ],
                          [
                            0.2222222222222222,
                            "#7201a8"
                          ],
                          [
                            0.3333333333333333,
                            "#9c179e"
                          ],
                          [
                            0.4444444444444444,
                            "#bd3786"
                          ],
                          [
                            0.5555555555555556,
                            "#d8576b"
                          ],
                          [
                            0.6666666666666666,
                            "#ed7953"
                          ],
                          [
                            0.7777777777777778,
                            "#fb9f3a"
                          ],
                          [
                            0.8888888888888888,
                            "#fdca26"
                          ],
                          [
                            1,
                            "#f0f921"
                          ]
                        ],
                        "type": "surface"
                      }
                    ],
                    "table": [
                      {
                        "cells": {
                          "fill": {
                            "color": "#EBF0F8"
                          },
                          "line": {
                            "color": "white"
                          }
                        },
                        "header": {
                          "fill": {
                            "color": "#C8D4E3"
                          },
                          "line": {
                            "color": "white"
                          }
                        },
                        "type": "table"
                      }
                    ]
                  },
                  "layout": {
                    "annotationdefaults": {
                      "arrowcolor": "#2a3f5f",
                      "arrowhead": 0,
                      "arrowwidth": 1
                    },
                    "autotypenumbers": "strict",
                    "coloraxis": {
                      "colorbar": {
                        "outlinewidth": 0,
                        "ticks": ""
                      }
                    },
                    "colorscale": {
                      "diverging": [
                        [
                          0,
                          "#8e0152"
                        ],
                        [
                          0.1,
                          "#c51b7d"
                        ],
                        [
                          0.2,
                          "#de77ae"
                        ],
                        [
                          0.3,
                          "#f1b6da"
                        ],
                        [
                          0.4,
                          "#fde0ef"
                        ],
                        [
                          0.5,
                          "#f7f7f7"
                        ],
                        [
                          0.6,
                          "#e6f5d0"
                        ],
                        [
                          0.7,
                          "#b8e186"
                        ],
                        [
                          0.8,
                          "#7fbc41"
                        ],
                        [
                          0.9,
                          "#4d9221"
                        ],
                        [
                          1,
                          "#276419"
                        ]
                      ],
                      "sequential": [
                        [
                          0,
                          "#0d0887"
                        ],
                        [
                          0.1111111111111111,
                          "#46039f"
                        ],
                        [
                          0.2222222222222222,
                          "#7201a8"
                        ],
                        [
                          0.3333333333333333,
                          "#9c179e"
                        ],
                        [
                          0.4444444444444444,
                          "#bd3786"
                        ],
                        [
                          0.5555555555555556,
                          "#d8576b"
                        ],
                        [
                          0.6666666666666666,
                          "#ed7953"
                        ],
                        [
                          0.7777777777777778,
                          "#fb9f3a"
                        ],
                        [
                          0.8888888888888888,
                          "#fdca26"
                        ],
                        [
                          1,
                          "#f0f921"
                        ]
                      ],
                      "sequentialminus": [
                        [
                          0,
                          "#0d0887"
                        ],
                        [
                          0.1111111111111111,
                          "#46039f"
                        ],
                        [
                          0.2222222222222222,
                          "#7201a8"
                        ],
                        [
                          0.3333333333333333,
                          "#9c179e"
                        ],
                        [
                          0.4444444444444444,
                          "#bd3786"
                        ],
                        [
                          0.5555555555555556,
                          "#d8576b"
                        ],
                        [
                          0.6666666666666666,
                          "#ed7953"
                        ],
                        [
                          0.7777777777777778,
                          "#fb9f3a"
                        ],
                        [
                          0.8888888888888888,
                          "#fdca26"
                        ],
                        [
                          1,
                          "#f0f921"
                        ]
                      ]
                    },
                    "colorway": [
                      "#636efa",
                      "#EF553B",
                      "#00cc96",
                      "#ab63fa",
                      "#FFA15A",
                      "#19d3f3",
                      "#FF6692",
                      "#B6E880",
                      "#FF97FF",
                      "#FECB52"
                    ],
                    "font": {
                      "color": "#2a3f5f"
                    },
                    "geo": {
                      "bgcolor": "white",
                      "lakecolor": "white",
                      "landcolor": "#E5ECF6",
                      "showlakes": true,
                      "showland": true,
                      "subunitcolor": "white"
                    },
                    "hoverlabel": {
                      "align": "left"
                    },
                    "hovermode": "closest",
                    "mapbox": {
                      "style": "light"
                    },
                    "paper_bgcolor": "white",
                    "plot_bgcolor": "#E5ECF6",
                    "polar": {
                      "angularaxis": {
                        "gridcolor": "white",
                        "linecolor": "white",
                        "ticks": ""
                      },
                      "bgcolor": "#E5ECF6",
                      "radialaxis": {
                        "gridcolor": "white",
                        "linecolor": "white",
                        "ticks": ""
                      }
                    },
                    "scene": {
                      "xaxis": {
                        "backgroundcolor": "#E5ECF6",
                        "gridcolor": "white",
                        "gridwidth": 2,
                        "linecolor": "white",
                        "showbackground": true,
                        "ticks": "",
                        "zerolinecolor": "white"
                      },
                      "yaxis": {
                        "backgroundcolor": "#E5ECF6",
                        "gridcolor": "white",
                        "gridwidth": 2,
                        "linecolor": "white",
                        "showbackground": true,
                        "ticks": "",
                        "zerolinecolor": "white"
                      },
                      "zaxis": {
                        "backgroundcolor": "#E5ECF6",
                        "gridcolor": "white",
                        "gridwidth": 2,
                        "linecolor": "white",
                        "showbackground": true,
                        "ticks": "",
                        "zerolinecolor": "white"
                      }
                    },
                    "shapedefaults": {
                      "line": {
                        "color": "#2a3f5f"
                      }
                    },
                    "ternary": {
                      "aaxis": {
                        "gridcolor": "white",
                        "linecolor": "white",
                        "ticks": ""
                      },
                      "baxis": {
                        "gridcolor": "white",
                        "linecolor": "white",
                        "ticks": ""
                      },
                      "bgcolor": "#E5ECF6",
                      "caxis": {
                        "gridcolor": "white",
                        "linecolor": "white",
                        "ticks": ""
                      }
                    },
                    "title": {
                      "x": 0.05
                    },
                    "xaxis": {
                      "automargin": true,
                      "gridcolor": "white",
                      "linecolor": "white",
                      "ticks": "",
                      "title": {
                        "standoff": 15
                      },
                      "zerolinecolor": "white",
                      "zerolinewidth": 2
                    },
                    "yaxis": {
                      "automargin": true,
                      "gridcolor": "white",
                      "linecolor": "white",
                      "ticks": "",
                      "title": {
                        "standoff": 15
                      },
                      "zerolinecolor": "white",
                      "zerolinewidth": 2
                    }
                  }
                },
                "yaxis": {
                  "title": {
                    "text": "spotify metrics"
                  }
                }
              }
            }
          },
          "metadata": {}
        }
      ],
      "source": [
        "plot_plotly('dvp', 3)"
      ]
    },
    {
      "cell_type": "code",
      "execution_count": null,
      "metadata": {},
      "outputs": [],
      "source": []
    }
  ]
}