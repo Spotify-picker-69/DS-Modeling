{
  "nbformat": 4,
  "nbformat_minor": 0,
  "metadata": {
    "colab": {
      "name": "initial modeling.ipynb",
      "provenance": []
    },
    "kernelspec": {
      "name": "python3",
      "display_name": "Python 3",
      "language": "python"
    }
  },
  "cells": [
    {
      "cell_type": "code",
      "metadata": {
        "id": "2g4thf0ZiEJc"
      },
      "source": [
        "import pandas as pd\n",
        "from sklearn.metrics import euclidean_distances\n",
        "from scipy.spatial.distance import cdist\n",
        "import difflib\n",
        "from sklearn.cluster import KMeans\n",
        "from sklearn.preprocessing import StandardScaler\n",
        "from sklearn.pipeline import Pipeline\n",
        "import numpy as np\n",
        "from sklearn.manifold import TSNE\n",
        "import plotly.express as px\n",
        "import spotipy\n",
        "from spotipy.oauth2 import SpotifyClientCredentials\n",
        "from collections import defaultdict\n",
        "import os\n",
        "from os import getenv"
      ],
      "execution_count": 88,
      "outputs": []
    },
    {
      "cell_type": "code",
      "metadata": {
        "id": "LiuBlOWsiHqT"
      },
      "source": [
        "df = pd.read_csv('../data/data.csv')\n",
        "data_artist_df = pd.read_csv('../data/data_by_artist.csv')\n",
        "data_genre_df = pd.read_csv('../data/data_by_genres.csv')\n",
        "data_year_df = pd.read_csv('../data/data_by_year.csv')\n",
        "data_w_genre_df = pd.read_csv('../data/data_w_genres.csv')"
      ],
      "execution_count": 89,
      "outputs": []
    },
    {
      "cell_type": "code",
      "metadata": {
        "colab": {
          "base_uri": "https://localhost:8080/",
          "height": 417
        },
        "id": "VAu1txaqiV1E",
        "outputId": "f2a2f614-ed02-46c2-e79c-8a246440e94e"
      },
      "source": [
        "df.head()"
      ],
      "execution_count": 90,
      "outputs": [
        {
          "output_type": "execute_result",
          "data": {
            "text/plain": [
              "   acousticness                    artists  danceability  duration_ms  energy  \\\n",
              "0      0.991000            ['Mamie Smith']         0.598       168333   0.224   \n",
              "1      0.643000  [\"Screamin' Jay Hawkins\"]         0.852       150200   0.517   \n",
              "2      0.993000            ['Mamie Smith']         0.647       163827   0.186   \n",
              "3      0.000173        ['Oscar Velazquez']         0.730       422087   0.798   \n",
              "4      0.295000                   ['Mixe']         0.704       165224   0.707   \n",
              "\n",
              "   explicit                      id  instrumentalness  key  liveness  \\\n",
              "0         0  0cS0A1fUEUd1EW3FcF8AEI          0.000522    5    0.3790   \n",
              "1         0  0hbkKFIJm7Z05H8Zl9w30f          0.026400    5    0.0809   \n",
              "2         0  11m7laMUgmOKqI3oYzuhne          0.000018    0    0.5190   \n",
              "3         0  19Lc5SfJJ5O1oaxY0fpwfh          0.801000    2    0.1280   \n",
              "4         1  2hJjbsLCytGsnAHfdsLejp          0.000246   10    0.4020   \n",
              "\n",
              "   loudness  mode                                               name  \\\n",
              "0   -12.628     0                           Keep A Song In Your Soul   \n",
              "1    -7.261     0                               I Put A Spell On You   \n",
              "2   -12.098     1                                       Golfing Papa   \n",
              "3    -7.311     1  True House Music - Xavier Santos & Carlos Gomi...   \n",
              "4    -6.036     0                                          Xuniverxe   \n",
              "\n",
              "   popularity release_date  speechiness    tempo  valence  year  \n",
              "0          12         1920       0.0936  149.976   0.6340  1920  \n",
              "1           7   1920-01-05       0.0534   86.889   0.9500  1920  \n",
              "2           4         1920       0.1740   97.600   0.6890  1920  \n",
              "3          17   1920-01-01       0.0425  127.997   0.0422  1920  \n",
              "4           2   1920-10-01       0.0768  122.076   0.2990  1920  "
            ],
            "text/html": "<div>\n<style scoped>\n    .dataframe tbody tr th:only-of-type {\n        vertical-align: middle;\n    }\n\n    .dataframe tbody tr th {\n        vertical-align: top;\n    }\n\n    .dataframe thead th {\n        text-align: right;\n    }\n</style>\n<table border=\"1\" class=\"dataframe\">\n  <thead>\n    <tr style=\"text-align: right;\">\n      <th></th>\n      <th>acousticness</th>\n      <th>artists</th>\n      <th>danceability</th>\n      <th>duration_ms</th>\n      <th>energy</th>\n      <th>explicit</th>\n      <th>id</th>\n      <th>instrumentalness</th>\n      <th>key</th>\n      <th>liveness</th>\n      <th>loudness</th>\n      <th>mode</th>\n      <th>name</th>\n      <th>popularity</th>\n      <th>release_date</th>\n      <th>speechiness</th>\n      <th>tempo</th>\n      <th>valence</th>\n      <th>year</th>\n    </tr>\n  </thead>\n  <tbody>\n    <tr>\n      <th>0</th>\n      <td>0.991000</td>\n      <td>['Mamie Smith']</td>\n      <td>0.598</td>\n      <td>168333</td>\n      <td>0.224</td>\n      <td>0</td>\n      <td>0cS0A1fUEUd1EW3FcF8AEI</td>\n      <td>0.000522</td>\n      <td>5</td>\n      <td>0.3790</td>\n      <td>-12.628</td>\n      <td>0</td>\n      <td>Keep A Song In Your Soul</td>\n      <td>12</td>\n      <td>1920</td>\n      <td>0.0936</td>\n      <td>149.976</td>\n      <td>0.6340</td>\n      <td>1920</td>\n    </tr>\n    <tr>\n      <th>1</th>\n      <td>0.643000</td>\n      <td>[\"Screamin' Jay Hawkins\"]</td>\n      <td>0.852</td>\n      <td>150200</td>\n      <td>0.517</td>\n      <td>0</td>\n      <td>0hbkKFIJm7Z05H8Zl9w30f</td>\n      <td>0.026400</td>\n      <td>5</td>\n      <td>0.0809</td>\n      <td>-7.261</td>\n      <td>0</td>\n      <td>I Put A Spell On You</td>\n      <td>7</td>\n      <td>1920-01-05</td>\n      <td>0.0534</td>\n      <td>86.889</td>\n      <td>0.9500</td>\n      <td>1920</td>\n    </tr>\n    <tr>\n      <th>2</th>\n      <td>0.993000</td>\n      <td>['Mamie Smith']</td>\n      <td>0.647</td>\n      <td>163827</td>\n      <td>0.186</td>\n      <td>0</td>\n      <td>11m7laMUgmOKqI3oYzuhne</td>\n      <td>0.000018</td>\n      <td>0</td>\n      <td>0.5190</td>\n      <td>-12.098</td>\n      <td>1</td>\n      <td>Golfing Papa</td>\n      <td>4</td>\n      <td>1920</td>\n      <td>0.1740</td>\n      <td>97.600</td>\n      <td>0.6890</td>\n      <td>1920</td>\n    </tr>\n    <tr>\n      <th>3</th>\n      <td>0.000173</td>\n      <td>['Oscar Velazquez']</td>\n      <td>0.730</td>\n      <td>422087</td>\n      <td>0.798</td>\n      <td>0</td>\n      <td>19Lc5SfJJ5O1oaxY0fpwfh</td>\n      <td>0.801000</td>\n      <td>2</td>\n      <td>0.1280</td>\n      <td>-7.311</td>\n      <td>1</td>\n      <td>True House Music - Xavier Santos &amp; Carlos Gomi...</td>\n      <td>17</td>\n      <td>1920-01-01</td>\n      <td>0.0425</td>\n      <td>127.997</td>\n      <td>0.0422</td>\n      <td>1920</td>\n    </tr>\n    <tr>\n      <th>4</th>\n      <td>0.295000</td>\n      <td>['Mixe']</td>\n      <td>0.704</td>\n      <td>165224</td>\n      <td>0.707</td>\n      <td>1</td>\n      <td>2hJjbsLCytGsnAHfdsLejp</td>\n      <td>0.000246</td>\n      <td>10</td>\n      <td>0.4020</td>\n      <td>-6.036</td>\n      <td>0</td>\n      <td>Xuniverxe</td>\n      <td>2</td>\n      <td>1920-10-01</td>\n      <td>0.0768</td>\n      <td>122.076</td>\n      <td>0.2990</td>\n      <td>1920</td>\n    </tr>\n  </tbody>\n</table>\n</div>"
          },
          "metadata": {},
          "execution_count": 90
        }
      ]
    },
    {
      "cell_type": "code",
      "metadata": {
        "colab": {
          "base_uri": "https://localhost:8080/"
        },
        "id": "OZ_mJjxiinjZ",
        "outputId": "45d5086b-17ad-477f-e0bf-3fae91c94606"
      },
      "source": [
        "data_artist_df.shape"
      ],
      "execution_count": 91,
      "outputs": [
        {
          "output_type": "execute_result",
          "data": {
            "text/plain": [
              "(32539, 15)"
            ]
          },
          "metadata": {},
          "execution_count": 91
        }
      ]
    },
    {
      "cell_type": "code",
      "metadata": {
        "id": "A8fmrNpPjNos"
      },
      "source": [
        "df['artists'] = df['artists'].str.strip('[]')"
      ],
      "execution_count": 92,
      "outputs": []
    },
    {
      "cell_type": "code",
      "metadata": {
        "id": "L5IChFawopXA"
      },
      "source": [
        "df['artists'] = df['artists'].str.strip('\"')"
      ],
      "execution_count": 93,
      "outputs": []
    },
    {
      "cell_type": "code",
      "metadata": {
        "id": "_Gs4wbBuotjl"
      },
      "source": [
        "df['artists'] = df['artists'].str.strip(\"'\")"
      ],
      "execution_count": 94,
      "outputs": []
    },
    {
      "cell_type": "code",
      "metadata": {
        "colab": {
          "base_uri": "https://localhost:8080/"
        },
        "id": "ghKQIvsSp5j1",
        "outputId": "a990fbd7-221b-4da5-df2e-54c788a73dbe"
      },
      "source": [
        "df[\"artists\"]"
      ],
      "execution_count": 95,
      "outputs": [
        {
          "output_type": "execute_result",
          "data": {
            "text/plain": [
              "0                            Mamie Smith\n",
              "1                  Screamin' Jay Hawkins\n",
              "2                            Mamie Smith\n",
              "3                        Oscar Velazquez\n",
              "4                                   Mixe\n",
              "                       ...              \n",
              "174384    DJ Combo', 'Sander-7', 'Tony T\n",
              "174385                      Alessia Cara\n",
              "174386                         Roger Fly\n",
              "174387                      Taylor Swift\n",
              "174388                         Roger Fly\n",
              "Name: artists, Length: 174389, dtype: object"
            ]
          },
          "metadata": {},
          "execution_count": 95
        }
      ]
    },
    {
      "cell_type": "code",
      "metadata": {
        "id": "DIQ68d53p8z3"
      },
      "source": [
        "df = df.drop(columns='release_date')\n",
        "df = df.drop(columns='year')\n"
      ],
      "execution_count": 96,
      "outputs": []
    },
    {
      "cell_type": "code",
      "metadata": {
        "colab": {
          "base_uri": "https://localhost:8080/",
          "height": 417
        },
        "id": "nCpaYwvGqUM2",
        "outputId": "786a87a5-39d2-4921-bbfb-94540b97360d"
      },
      "source": [
        "df.head()\n",
        "path = r'C:/Users/Megal/OneDrive/Documents/Github/build week spotify/ds-modeling/spotify_df.csv'"
      ],
      "execution_count": 115,
      "outputs": []
    },
    {
      "cell_type": "code",
      "execution_count": 116,
      "metadata": {},
      "outputs": [],
      "source": [
        "df.to_csv(path_or_buf=path)"
      ]
    },
    {
      "cell_type": "code",
      "metadata": {
        "id": "lM87ave_qvTc"
      },
      "source": [
        "number_cols = ['acousticness', 'danceability', 'duration_ms', 'energy', 'explicit', 'instrumentalness', 'key', 'liveness', 'loudness', 'mode',\n",
        "               'popularity', 'speechiness', 'tempo', 'valence'] # year"
      ],
      "execution_count": 125,
      "outputs": []
    },
    {
      "cell_type": "code",
      "metadata": {
        "id": "3XLD1Fihvgjx"
      },
      "source": [
        "\n",
        "cluster_pipeline = Pipeline([('scaler', StandardScaler()),('kmeans',\n",
        "                                                           KMeans(n_clusters=10, n_jobs=-1))])\n",
        "X = data_genre_df.select_dtypes(np.number)\n",
        "cluster_pipeline.fit(X)\n",
        "data_genre_df['cluster'] = cluster_pipeline.predict(X)"
      ],
      "execution_count": 100,
      "outputs": []
    },
    {
      "cell_type": "code",
      "metadata": {
        "colab": {
          "base_uri": "https://localhost:8080/",
          "height": 1000
        },
        "id": "6jZb_azv1eHy",
        "outputId": "513ca734-3b75-402b-c2e1-05f54bad3877"
      },
      "source": [
        "\n",
        "tsne_pipeline = Pipeline([('scaler', StandardScaler()), ('tsne', TSNE(n_components=2, verbose=2))])\n",
        "\n",
        "genre_embedding = tsne_pipeline.fit_transform(X)\n",
        "\n",
        "projection = pd.DataFrame(columns=['x', 'y'], data=genre_embedding)\n",
        "projection['genres'] = data_genre_df['genres']\n",
        "projection['cluster'] = data_genre_df['cluster']\n",
        "\n",
        "fig = px.scatter(\n",
        "    projection, x='x', y='y', color='cluster', hover_data=['x', 'y', 'genres'])\n",
        "fig.show()\n"
      ],
      "execution_count": 101,
      "outputs": [
        {
          "output_type": "stream",
          "name": "stdout",
          "text": [
            "[t-SNE] Computing 91 nearest neighbors...\n",
            "[t-SNE] Indexed 3232 samples in 0.007s...\n",
            "[t-SNE] Computed neighbors for 3232 samples in 0.318s...\n",
            "[t-SNE] Computed conditional probabilities for sample 1000 / 3232\n",
            "[t-SNE] Computed conditional probabilities for sample 2000 / 3232\n",
            "[t-SNE] Computed conditional probabilities for sample 3000 / 3232\n",
            "[t-SNE] Computed conditional probabilities for sample 3232 / 3232\n",
            "[t-SNE] Mean sigma: 0.789973\n",
            "[t-SNE] Computed conditional probabilities in 0.097s\n",
            "[t-SNE] Iteration 50: error = 82.9442444, gradient norm = 0.0185166 (50 iterations in 0.882s)\n",
            "[t-SNE] Iteration 100: error = 76.4292450, gradient norm = 0.0033341 (50 iterations in 0.773s)\n",
            "[t-SNE] Iteration 150: error = 76.1993027, gradient norm = 0.0009161 (50 iterations in 0.762s)\n",
            "[t-SNE] Iteration 200: error = 76.1834183, gradient norm = 0.0003400 (50 iterations in 0.780s)\n",
            "[t-SNE] Iteration 250: error = 76.1807785, gradient norm = 0.0002630 (50 iterations in 0.821s)\n",
            "[t-SNE] KL divergence after 250 iterations with early exaggeration: 76.180779\n",
            "[t-SNE] Iteration 300: error = 1.8917903, gradient norm = 0.0010570 (50 iterations in 0.859s)\n",
            "[t-SNE] Iteration 350: error = 1.6414566, gradient norm = 0.0004007 (50 iterations in 0.847s)\n",
            "[t-SNE] Iteration 400: error = 1.5445940, gradient norm = 0.0002252 (50 iterations in 0.809s)\n",
            "[t-SNE] Iteration 450: error = 1.4964283, gradient norm = 0.0001683 (50 iterations in 0.810s)\n",
            "[t-SNE] Iteration 500: error = 1.4704750, gradient norm = 0.0001229 (50 iterations in 0.797s)\n",
            "[t-SNE] Iteration 550: error = 1.4541042, gradient norm = 0.0001244 (50 iterations in 0.792s)\n",
            "[t-SNE] Iteration 600: error = 1.4437850, gradient norm = 0.0000968 (50 iterations in 0.842s)\n",
            "[t-SNE] Iteration 650: error = 1.4364964, gradient norm = 0.0000849 (50 iterations in 0.779s)\n",
            "[t-SNE] Iteration 700: error = 1.4305449, gradient norm = 0.0000983 (50 iterations in 0.826s)\n",
            "[t-SNE] Iteration 750: error = 1.4262134, gradient norm = 0.0000827 (50 iterations in 0.863s)\n",
            "[t-SNE] Iteration 800: error = 1.4229250, gradient norm = 0.0000810 (50 iterations in 0.793s)\n",
            "[t-SNE] Iteration 850: error = 1.4202939, gradient norm = 0.0000678 (50 iterations in 0.809s)\n",
            "[t-SNE] Iteration 900: error = 1.4181442, gradient norm = 0.0000611 (50 iterations in 0.837s)\n",
            "[t-SNE] Iteration 950: error = 1.4162426, gradient norm = 0.0000552 (50 iterations in 0.794s)\n",
            "[t-SNE] Iteration 1000: error = 1.4140574, gradient norm = 0.0000560 (50 iterations in 0.777s)\n",
            "[t-SNE] KL divergence after 1000 iterations: 1.414057\n"
          ]
        },
        {
          "output_type": "display_data",
          "data": {
            "application/vnd.plotly.v1+json": {
              "config": {
                "plotlyServerURL": "https://plot.ly"
              },
              "data": [
                {
                  "customdata": [
                    [
                      "21st century classical"
                    ],
                    [
                      "432hz"
                    ],
                    [
                      "8-bit"
                    ],
                    [
                      "[]"
                    ],
                    [
                      "a cappella"
                    ],
                    [
                      "abstract"
                    ],
                    [
                      "abstract beats"
                    ],
                    [
                      "abstract hip hop"
                    ],
                    [
                      "abstract idm"
                    ],
                    [
                      "accordeon"
                    ],
                    [
                      "accordion"
                    ],
                    [
                      "acid house"
                    ],
                    [
                      "acid jazz"
                    ],
                    [
                      "acid rock"
                    ],
                    [
                      "acid techno"
                    ],
                    [
                      "acid trance"
                    ],
                    [
                      "acousmatic"
                    ],
                    [
                      "acoustic blues"
                    ],
                    [
                      "acoustic chill"
                    ],
                    [
                      "acoustic guitar cover"
                    ],
                    [
                      "acoustic pop"
                    ],
                    [
                      "acoustic punk"
                    ],
                    [
                      "acoustic rock"
                    ],
                    [
                      "action rock"
                    ],
                    [
                      "adoracao"
                    ],
                    [
                      "adoracion"
                    ],
                    [
                      "adult standards"
                    ],
                    [
                      "adventista"
                    ],
                    [
                      "afghan pop"
                    ],
                    [
                      "afghan traditional"
                    ],
                    [
                      "african gospel"
                    ],
                    [
                      "african percussion"
                    ],
                    [
                      "african reggae"
                    ],
                    [
                      "african rock"
                    ],
                    [
                      "african-american classical"
                    ],
                    [
                      "afrikaans"
                    ],
                    [
                      "afro dancehall"
                    ],
                    [
                      "afro house"
                    ],
                    [
                      "afro psych"
                    ],
                    [
                      "afro-funk"
                    ],
                    [
                      "afrobeat"
                    ],
                    [
                      "afrofuturism"
                    ],
                    [
                      "afrofuturismo brasileiro"
                    ],
                    [
                      "afropop"
                    ],
                    [
                      "afroswing"
                    ],
                    [
                      "aggrotech"
                    ],
                    [
                      "alabama indie"
                    ],
                    [
                      "alabama metal"
                    ],
                    [
                      "alabama rap"
                    ],
                    [
                      "alaska indie"
                    ],
                    [
                      "albanian hip hop"
                    ],
                    [
                      "albanian pop"
                    ],
                    [
                      "alberta country"
                    ],
                    [
                      "alberta hip hop"
                    ],
                    [
                      "album rock"
                    ],
                    [
                      "albuquerque indie"
                    ],
                    [
                      "alternative americana"
                    ],
                    [
                      "alternative country"
                    ],
                    [
                      "alternative dance"
                    ],
                    [
                      "alternative emo"
                    ],
                    [
                      "alternative hip hop"
                    ],
                    [
                      "alternative metal"
                    ],
                    [
                      "alternative pop"
                    ],
                    [
                      "alternative pop rock"
                    ],
                    [
                      "alternative r&b"
                    ],
                    [
                      "alternative rock"
                    ],
                    [
                      "alternative roots rock"
                    ],
                    [
                      "amapiano"
                    ],
                    [
                      "ambeat"
                    ],
                    [
                      "ambient"
                    ],
                    [
                      "ambient black metal"
                    ],
                    [
                      "ambient dub techno"
                    ],
                    [
                      "ambient folk"
                    ],
                    [
                      "ambient house"
                    ],
                    [
                      "ambient idm"
                    ],
                    [
                      "ambient industrial"
                    ],
                    [
                      "ambient pop"
                    ],
                    [
                      "ambient psychill"
                    ],
                    [
                      "ambient techno"
                    ],
                    [
                      "ambient trance"
                    ],
                    [
                      "ambient worship"
                    ],
                    [
                      "american 21st century classical"
                    ],
                    [
                      "american choir"
                    ],
                    [
                      "american classical piano"
                    ],
                    [
                      "american contemporary classical"
                    ],
                    [
                      "american early music"
                    ],
                    [
                      "american folk revival"
                    ],
                    [
                      "american grindcore"
                    ],
                    [
                      "american metalcore"
                    ],
                    [
                      "american modern classical"
                    ],
                    [
                      "american oi"
                    ],
                    [
                      "american orchestra"
                    ],
                    [
                      "american post-rock"
                    ],
                    [
                      "american primitive"
                    ],
                    [
                      "american romanticism"
                    ],
                    [
                      "american shoegaze"
                    ],
                    [
                      "anadolu rock"
                    ],
                    [
                      "anarcho-punk"
                    ],
                    [
                      "anglican liturgy"
                    ],
                    [
                      "animal singing"
                    ],
                    [
                      "anime"
                    ],
                    [
                      "anime latino"
                    ],
                    [
                      "anime rock"
                    ],
                    [
                      "anime score"
                    ],
                    [
                      "ann arbor indie"
                    ],
                    [
                      "anthem emo"
                    ],
                    [
                      "anthem worship"
                    ],
                    [
                      "anti-folk"
                    ],
                    [
                      "antilliaanse folklore"
                    ],
                    [
                      "antiviral pop"
                    ],
                    [
                      "appalachian folk"
                    ],
                    [
                      "arab alternative"
                    ],
                    [
                      "arab electronic"
                    ],
                    [
                      "arab folk"
                    ],
                    [
                      "arab groove"
                    ],
                    [
                      "arab pop"
                    ],
                    [
                      "arabesk"
                    ],
                    [
                      "arabic hip hop"
                    ],
                    [
                      "arabic jazz"
                    ],
                    [
                      "argentine ambient"
                    ],
                    [
                      "argentine heavy metal"
                    ],
                    [
                      "argentine hip hop"
                    ],
                    [
                      "argentine indie"
                    ],
                    [
                      "argentine metal"
                    ],
                    [
                      "argentine punk"
                    ],
                    [
                      "argentine reggae"
                    ],
                    [
                      "argentine rock"
                    ],
                    [
                      "argentine telepop"
                    ],
                    [
                      "arizona punk"
                    ],
                    [
                      "arkansas country"
                    ],
                    [
                      "arkansas hip hop"
                    ],
                    [
                      "armenian folk"
                    ],
                    [
                      "art pop"
                    ],
                    [
                      "art punk"
                    ],
                    [
                      "art rock"
                    ],
                    [
                      "art song"
                    ],
                    [
                      "asbury park indie"
                    ],
                    [
                      "asian american hip hop"
                    ],
                    [
                      "asmr"
                    ],
                    [
                      "assyrian pop"
                    ],
                    [
                      "athens indie"
                    ],
                    [
                      "atl hip hop"
                    ],
                    [
                      "atl trap"
                    ],
                    [
                      "atlanta indie"
                    ],
                    [
                      "atlanta metal"
                    ],
                    [
                      "atlanta punk"
                    ],
                    [
                      "atmosphere"
                    ],
                    [
                      "atmospheric black metal"
                    ],
                    [
                      "atmospheric dnb"
                    ],
                    [
                      "atmospheric post-metal"
                    ],
                    [
                      "atmospheric post-rock"
                    ],
                    [
                      "atmospheric sludge"
                    ],
                    [
                      "auckland indie"
                    ],
                    [
                      "audiophile vocal"
                    ],
                    [
                      "aussie emo"
                    ],
                    [
                      "aussietronica"
                    ],
                    [
                      "austin americana"
                    ],
                    [
                      "austin singer-songwriter"
                    ],
                    [
                      "austindie"
                    ],
                    [
                      "australian alternative pop"
                    ],
                    [
                      "australian alternative rock"
                    ],
                    [
                      "australian ambient"
                    ],
                    [
                      "australian americana"
                    ],
                    [
                      "australian black metal"
                    ],
                    [
                      "australian children's music"
                    ],
                    [
                      "australian classical"
                    ],
                    [
                      "australian classical piano"
                    ],
                    [
                      "australian country"
                    ],
                    [
                      "australian dance"
                    ],
                    [
                      "australian electropop"
                    ],
                    [
                      "australian garage punk"
                    ],
                    [
                      "australian hip hop"
                    ],
                    [
                      "australian house"
                    ],
                    [
                      "australian indie"
                    ],
                    [
                      "australian indie folk"
                    ],
                    [
                      "australian indigenous"
                    ],
                    [
                      "australian metal"
                    ],
                    [
                      "australian metalcore"
                    ],
                    [
                      "australian pop"
                    ],
                    [
                      "australian post-hardcore"
                    ],
                    [
                      "australian post-punk"
                    ],
                    [
                      "australian psych"
                    ],
                    [
                      "australian r&b"
                    ],
                    [
                      "australian reggae fusion"
                    ],
                    [
                      "australian rock"
                    ],
                    [
                      "australian singer-songwriter"
                    ],
                    [
                      "australian ska"
                    ],
                    [
                      "australian talent show"
                    ],
                    [
                      "australian trap"
                    ],
                    [
                      "australian underground hip hop"
                    ],
                    [
                      "austrian choir"
                    ],
                    [
                      "austrian classical piano"
                    ],
                    [
                      "austrian orchestra"
                    ],
                    [
                      "austrian punk"
                    ],
                    [
                      "austrian techno"
                    ],
                    [
                      "austro-german modernism"
                    ],
                    [
                      "auteur-compositeur-interprete quebecois"
                    ],
                    [
                      "autoharp"
                    ],
                    [
                      "autonomous black metal"
                    ],
                    [
                      "avant-garde"
                    ],
                    [
                      "avant-garde jazz"
                    ],
                    [
                      "avant-garde metal"
                    ],
                    [
                      "axe"
                    ],
                    [
                      "azeri traditional"
                    ],
                    [
                      "azonto"
                    ],
                    [
                      "azontobeats"
                    ],
                    [
                      "bachata"
                    ],
                    [
                      "bachata dominicana"
                    ],
                    [
                      "background jazz"
                    ],
                    [
                      "background music"
                    ],
                    [
                      "background piano"
                    ],
                    [
                      "baglama"
                    ],
                    [
                      "bahai"
                    ],
                    [
                      "bahamian folk"
                    ],
                    [
                      "bahamian pop"
                    ],
                    [
                      "baiao"
                    ],
                    [
                      "bakersfield sound"
                    ],
                    [
                      "balearic"
                    ],
                    [
                      "balkan brass"
                    ],
                    [
                      "balkan classical piano"
                    ],
                    [
                      "balkan hip hop"
                    ],
                    [
                      "ballet class"
                    ],
                    [
                      "ballroom"
                    ],
                    [
                      "baltic classical"
                    ],
                    [
                      "baltimore hip hop"
                    ],
                    [
                      "baltimore indie"
                    ],
                    [
                      "banda"
                    ],
                    [
                      "banda caliente"
                    ],
                    [
                      "banda carnavalera"
                    ],
                    [
                      "bandinhas"
                    ],
                    [
                      "bandolim"
                    ],
                    [
                      "bandoneon"
                    ],
                    [
                      "bangla"
                    ],
                    [
                      "banjo"
                    ],
                    [
                      "bansuri"
                    ],
                    [
                      "barbadian pop"
                    ],
                    [
                      "barbershop"
                    ],
                    [
                      "bard"
                    ],
                    [
                      "bardcore"
                    ],
                    [
                      "barnemusikk"
                    ],
                    [
                      "barnmusik"
                    ],
                    [
                      "barnsagor"
                    ],
                    [
                      "barockinterpreten"
                    ],
                    [
                      "baroque"
                    ],
                    [
                      "baroque brass"
                    ],
                    [
                      "baroque cello"
                    ],
                    [
                      "baroque ensemble"
                    ],
                    [
                      "baroque pop"
                    ],
                    [
                      "baroque singing"
                    ],
                    [
                      "baroque violin"
                    ],
                    [
                      "barrelhouse piano"
                    ],
                    [
                      "bass house"
                    ],
                    [
                      "bass music"
                    ],
                    [
                      "bass trap"
                    ],
                    [
                      "basshall"
                    ],
                    [
                      "bassline"
                    ],
                    [
                      "bath indie"
                    ],
                    [
                      "batida"
                    ],
                    [
                      "baton rouge rap"
                    ],
                    [
                      "battle rap"
                    ],
                    [
                      "bay area hip hop"
                    ],
                    [
                      "bay area indie"
                    ],
                    [
                      "bboy"
                    ],
                    [
                      "bc underground hip hop"
                    ],
                    [
                      "beach music"
                    ],
                    [
                      "beat italiano"
                    ],
                    [
                      "beat poetry"
                    ],
                    [
                      "beatboxing"
                    ],
                    [
                      "beatlesque"
                    ],
                    [
                      "beats"
                    ],
                    [
                      "bebop"
                    ],
                    [
                      "bedroom pop"
                    ],
                    [
                      "bedroom soul"
                    ],
                    [
                      "belarusian electronic"
                    ],
                    [
                      "belarusian indie"
                    ],
                    [
                      "belarusian pop"
                    ],
                    [
                      "belgian classical piano"
                    ],
                    [
                      "belgian contemporary classical"
                    ],
                    [
                      "belgian dance"
                    ],
                    [
                      "belgian edm"
                    ],
                    [
                      "belgian indie"
                    ],
                    [
                      "belgian indie rock"
                    ],
                    [
                      "belgian jazz"
                    ],
                    [
                      "belgian metal"
                    ],
                    [
                      "belgian new wave"
                    ],
                    [
                      "belgian pop"
                    ],
                    [
                      "belgian rock"
                    ],
                    [
                      "belgian singer-songwriter"
                    ],
                    [
                      "belgian techno"
                    ],
                    [
                      "belly dance"
                    ],
                    [
                      "belo horizonte indie"
                    ],
                    [
                      "bengali folk"
                    ],
                    [
                      "beninese pop"
                    ],
                    [
                      "bergen indie"
                    ],
                    [
                      "berlin minimal techno"
                    ],
                    [
                      "berlin school"
                    ],
                    [
                      "bhajan"
                    ],
                    [
                      "bhangra"
                    ],
                    [
                      "bible"
                    ],
                    [
                      "big band"
                    ],
                    [
                      "big beat"
                    ],
                    [
                      "big room"
                    ],
                    [
                      "binaural"
                    ],
                    [
                      "birmingham grime"
                    ],
                    [
                      "birmingham hip hop"
                    ],
                    [
                      "birmingham metal"
                    ],
                    [
                      "bitpop"
                    ],
                    [
                      "black 'n' roll"
                    ],
                    [
                      "black comedy"
                    ],
                    [
                      "black metal"
                    ],
                    [
                      "black punk"
                    ],
                    [
                      "black sludge"
                    ],
                    [
                      "black thrash"
                    ],
                    [
                      "blackened crust"
                    ],
                    [
                      "blackened deathcore"
                    ],
                    [
                      "blackgaze"
                    ],
                    [
                      "blasmusik"
                    ],
                    [
                      "bleep techno"
                    ],
                    [
                      "bluegrass"
                    ],
                    [
                      "bluegrass fiddle"
                    ],
                    [
                      "bluegrass gospel"
                    ],
                    [
                      "blues"
                    ],
                    [
                      "blues latinoamericano"
                    ],
                    [
                      "blues mexicano"
                    ],
                    [
                      "blues rock"
                    ],
                    [
                      "bmore"
                    ],
                    [
                      "bohemian baroque"
                    ],
                    [
                      "bolero"
                    ],
                    [
                      "bolero cubano"
                    ],
                    [
                      "bolero mexicano"
                    ],
                    [
                      "bomba y plena"
                    ],
                    [
                      "boogaloo"
                    ],
                    [
                      "boogie"
                    ],
                    [
                      "boogie-woogie"
                    ],
                    [
                      "boom bap"
                    ],
                    [
                      "bosnian electronic"
                    ],
                    [
                      "bossa nova"
                    ],
                    [
                      "bossa nova jazz"
                    ],
                    [
                      "boston folk"
                    ],
                    [
                      "boston hardcore"
                    ],
                    [
                      "boston hip hop"
                    ],
                    [
                      "boston indie"
                    ],
                    [
                      "boston metal"
                    ],
                    [
                      "boston punk"
                    ],
                    [
                      "boston rock"
                    ],
                    [
                      "bounce"
                    ],
                    [
                      "bouncy house"
                    ],
                    [
                      "bouzouki"
                    ],
                    [
                      "bow pop"
                    ],
                    [
                      "boy band"
                    ],
                    [
                      "boy pop"
                    ],
                    [
                      "boy soprano"
                    ],
                    [
                      "brain waves"
                    ],
                    [
                      "braindance"
                    ],
                    [
                      "brass band"
                    ],
                    [
                      "brass ensemble"
                    ],
                    [
                      "brass quintet"
                    ],
                    [
                      "brazilian bass"
                    ],
                    [
                      "brazilian black metal"
                    ],
                    [
                      "brazilian boogie"
                    ],
                    [
                      "brazilian classical"
                    ],
                    [
                      "brazilian classical piano"
                    ],
                    [
                      "brazilian contemporary classical"
                    ],
                    [
                      "brazilian doom metal"
                    ],
                    [
                      "brazilian edm"
                    ],
                    [
                      "brazilian gospel"
                    ],
                    [
                      "brazilian grindcore"
                    ],
                    [
                      "brazilian groove metal"
                    ],
                    [
                      "brazilian hip hop"
                    ],
                    [
                      "brazilian indie"
                    ],
                    [
                      "brazilian jazz"
                    ],
                    [
                      "brazilian metal"
                    ],
                    [
                      "brazilian percussion"
                    ],
                    [
                      "brazilian punk"
                    ],
                    [
                      "brazilian reggae"
                    ],
                    [
                      "brazilian rock"
                    ],
                    [
                      "brazilian ska"
                    ],
                    [
                      "brazilian soul"
                    ],
                    [
                      "brazilian tech house"
                    ],
                    [
                      "brazilian techno"
                    ],
                    [
                      "brazilian thrash metal"
                    ],
                    [
                      "breakbeat"
                    ],
                    [
                      "breakcore"
                    ],
                    [
                      "breaks"
                    ],
                    [
                      "brighton indie"
                    ],
                    [
                      "brill building pop"
                    ],
                    [
                      "bristol electronic"
                    ],
                    [
                      "bristol indie"
                    ],
                    [
                      "brit funk"
                    ],
                    [
                      "british alternative rock"
                    ],
                    [
                      "british black metal"
                    ],
                    [
                      "british blues"
                    ],
                    [
                      "british brass band"
                    ],
                    [
                      "british children's music"
                    ],
                    [
                      "british choir"
                    ],
                    [
                      "british classical piano"
                    ],
                    [
                      "british comedy"
                    ],
                    [
                      "british contemporary classical"
                    ],
                    [
                      "british dance band"
                    ],
                    [
                      "british death metal"
                    ],
                    [
                      "british experimental"
                    ],
                    [
                      "british folk"
                    ],
                    [
                      "british grindcore"
                    ],
                    [
                      "british indie rock"
                    ],
                    [
                      "british industrial"
                    ],
                    [
                      "british invasion"
                    ],
                    [
                      "british jazz"
                    ],
                    [
                      "british modern classical"
                    ],
                    [
                      "british orchestra"
                    ],
                    [
                      "british post-rock"
                    ],
                    [
                      "british power metal"
                    ],
                    [
                      "british singer-songwriter"
                    ],
                    [
                      "british soul"
                    ],
                    [
                      "british soundtrack"
                    ],
                    [
                      "britpop"
                    ],
                    [
                      "broadway"
                    ],
                    [
                      "broken beat"
                    ],
                    [
                      "bronx hip hop"
                    ],
                    [
                      "brooklyn drill"
                    ],
                    [
                      "brooklyn indie"
                    ],
                    [
                      "brostep"
                    ],
                    [
                      "brutal death metal"
                    ],
                    [
                      "brutal deathcore"
                    ],
                    [
                      "bubble trance"
                    ],
                    [
                      "bubblegrunge"
                    ],
                    [
                      "bubblegum dance"
                    ],
                    [
                      "bubblegum pop"
                    ],
                    [
                      "buffalo ny indie"
                    ],
                    [
                      "buffalo ny metal"
                    ],
                    [
                      "bulgarian electronic"
                    ],
                    [
                      "bulgarian experimental"
                    ],
                    [
                      "bulgarian pop"
                    ],
                    [
                      "burmese traditional"
                    ],
                    [
                      "bush ballad"
                    ],
                    [
                      "c-pop"
                    ],
                    [
                      "c86"
                    ],
                    [
                      "cabaret"
                    ],
                    [
                      "cajun"
                    ],
                    [
                      "calgary indie"
                    ],
                    [
                      "cali rap"
                    ],
                    [
                      "calming instrumental"
                    ],
                    [
                      "calypso"
                    ],
                    [
                      "cambodian rock"
                    ],
                    [
                      "cambridge choir"
                    ],
                    [
                      "cambridgeshire indie"
                    ],
                    [
                      "canadian americana"
                    ],
                    [
                      "canadian blues"
                    ],
                    [
                      "canadian ccm"
                    ],
                    [
                      "canadian celtic"
                    ],
                    [
                      "canadian children's music"
                    ],
                    [
                      "canadian choir"
                    ],
                    [
                      "canadian classical"
                    ],
                    [
                      "canadian classical piano"
                    ],
                    [
                      "canadian comedy"
                    ],
                    [
                      "canadian contemporary country"
                    ],
                    [
                      "canadian contemporary r&b"
                    ],
                    [
                      "canadian country"
                    ],
                    [
                      "canadian electronic"
                    ],
                    [
                      "canadian electropop"
                    ],
                    [
                      "canadian experimental"
                    ],
                    [
                      "canadian folk"
                    ],
                    [
                      "canadian hardcore"
                    ],
                    [
                      "canadian hip hop"
                    ],
                    [
                      "canadian indie"
                    ],
                    [
                      "canadian indie folk"
                    ],
                    [
                      "canadian indigenous"
                    ],
                    [
                      "canadian latin"
                    ],
                    [
                      "canadian metal"
                    ],
                    [
                      "canadian modern jazz"
                    ],
                    [
                      "canadian pop"
                    ],
                    [
                      "canadian pop punk"
                    ],
                    [
                      "canadian post-hardcore"
                    ],
                    [
                      "canadian post-rock"
                    ],
                    [
                      "canadian psychedelic"
                    ],
                    [
                      "canadian punk"
                    ],
                    [
                      "canadian rock"
                    ],
                    [
                      "canadian rockabilly"
                    ],
                    [
                      "canadian singer-songwriter"
                    ],
                    [
                      "canadian soundtrack"
                    ],
                    [
                      "cancion infantil mexicana"
                    ],
                    [
                      "cancion melodica"
                    ],
                    [
                      "candomble"
                    ],
                    [
                      "candy pop"
                    ],
                    [
                      "cantaditas"
                    ],
                    [
                      "cantautor"
                    ],
                    [
                      "cante flamenco"
                    ],
                    [
                      "canterbury scene"
                    ],
                    [
                      "canto popular uruguayo"
                    ],
                    [
                      "cantopop"
                    ],
                    [
                      "canzone d'autore"
                    ],
                    [
                      "canzone genovese"
                    ],
                    [
                      "canzone napoletana"
                    ],
                    [
                      "cape breton folk"
                    ],
                    [
                      "cape town indie"
                    ],
                    [
                      "cape verdean folk"
                    ],
                    [
                      "caracas indie"
                    ],
                    [
                      "carnatic"
                    ],
                    [
                      "carnatic instrumental"
                    ],
                    [
                      "carnatic vocal"
                    ],
                    [
                      "carnaval"
                    ],
                    [
                      "cartoon"
                    ],
                    [
                      "cathedral choir"
                    ],
                    [
                      "caucasian classical"
                    ],
                    [
                      "caucasian classical piano"
                    ],
                    [
                      "ccm"
                    ],
                    [
                      "cedm"
                    ],
                    [
                      "cello"
                    ],
                    [
                      "celtic"
                    ],
                    [
                      "celtic harp"
                    ],
                    [
                      "celtic metal"
                    ],
                    [
                      "celtic punk"
                    ],
                    [
                      "celtic rock"
                    ],
                    [
                      "cha-cha-cha"
                    ],
                    [
                      "chakra"
                    ],
                    [
                      "chalga"
                    ],
                    [
                      "chamame"
                    ],
                    [
                      "chamber choir"
                    ],
                    [
                      "chamber ensemble"
                    ],
                    [
                      "chamber folk"
                    ],
                    [
                      "chamber orchestra"
                    ],
                    [
                      "chamber pop"
                    ],
                    [
                      "chamber psych"
                    ],
                    [
                      "champeta"
                    ],
                    [
                      "channel islands indie"
                    ],
                    [
                      "channel pop"
                    ],
                    [
                      "chanson"
                    ],
                    [
                      "chanson paillarde"
                    ],
                    [
                      "chaotic hardcore"
                    ],
                    [
                      "charanga"
                    ],
                    [
                      "charango"
                    ],
                    [
                      "charlotte nc indie"
                    ],
                    [
                      "charlottesville indie"
                    ],
                    [
                      "chicago blues"
                    ],
                    [
                      "chicago drill"
                    ],
                    [
                      "chicago hardcore"
                    ],
                    [
                      "chicago house"
                    ],
                    [
                      "chicago indie"
                    ],
                    [
                      "chicago pop punk"
                    ],
                    [
                      "chicago punk"
                    ],
                    [
                      "chicago rap"
                    ],
                    [
                      "chicago soul"
                    ],
                    [
                      "chicano punk"
                    ],
                    [
                      "chicano rap"
                    ],
                    [
                      "chicha"
                    ],
                    [
                      "chihuahua indie"
                    ],
                    [
                      "children's choir"
                    ],
                    [
                      "children's folk"
                    ],
                    [
                      "children's music"
                    ],
                    [
                      "children's story"
                    ],
                    [
                      "chilean hardcore"
                    ],
                    [
                      "chilean indie"
                    ],
                    [
                      "chilean rock"
                    ],
                    [
                      "chilena"
                    ],
                    [
                      "chill groove"
                    ],
                    [
                      "chill guitar"
                    ],
                    [
                      "chill lounge"
                    ],
                    [
                      "chill pop"
                    ],
                    [
                      "chill r&b"
                    ],
                    [
                      "chillhop"
                    ],
                    [
                      "chillstep"
                    ],
                    [
                      "chillwave"
                    ],
                    [
                      "chinese audiophile"
                    ],
                    [
                      "chinese classical"
                    ],
                    [
                      "chinese classical performance"
                    ],
                    [
                      "chinese classical piano"
                    ],
                    [
                      "chinese electropop"
                    ],
                    [
                      "chinese hip hop"
                    ],
                    [
                      "chinese idol pop"
                    ],
                    [
                      "chinese indie"
                    ],
                    [
                      "chinese indie rock"
                    ],
                    [
                      "chinese instrumental"
                    ],
                    [
                      "chinese r&b"
                    ],
                    [
                      "chinese soundtrack"
                    ],
                    [
                      "chinese traditional"
                    ],
                    [
                      "chip hop"
                    ],
                    [
                      "chiptune"
                    ],
                    [
                      "chopped and screwed"
                    ],
                    [
                      "choral"
                    ],
                    [
                      "choro"
                    ],
                    [
                      "christchurch indie"
                    ],
                    [
                      "christelijk"
                    ],
                    [
                      "christian a cappella"
                    ],
                    [
                      "christian alternative rock"
                    ],
                    [
                      "christian hard rock"
                    ],
                    [
                      "christian hardcore"
                    ],
                    [
                      "christian hip hop"
                    ],
                    [
                      "christian indie"
                    ],
                    [
                      "christian metal"
                    ],
                    [
                      "christian metalcore"
                    ],
                    [
                      "christian music"
                    ],
                    [
                      "christian pop"
                    ],
                    [
                      "christian power metal"
                    ],
                    [
                      "christian punk"
                    ],
                    [
                      "christian relaxative"
                    ],
                    [
                      "christian rock"
                    ],
                    [
                      "christian trap"
                    ],
                    [
                      "christian uplift"
                    ],
                    [
                      "christmas instrumental"
                    ],
                    [
                      "christmas product"
                    ],
                    [
                      "chunchaca"
                    ],
                    [
                      "chutney"
                    ],
                    [
                      "cincinnati rap"
                    ],
                    [
                      "cinematic post-rock"
                    ],
                    [
                      "circuit"
                    ],
                    [
                      "circus"
                    ],
                    [
                      "city pop"
                    ],
                    [
                      "classic afrobeat"
                    ],
                    [
                      "classic arab pop"
                    ],
                    [
                      "classic australian country"
                    ],
                    [
                      "classic belgian pop"
                    ],
                    [
                      "classic bhangra"
                    ],
                    [
                      "classic bollywood"
                    ],
                    [
                      "classic canadian rock"
                    ],
                    [
                      "classic cantopop"
                    ],
                    [
                      "classic city pop"
                    ],
                    [
                      "classic colombian pop"
                    ],
                    [
                      "classic country pop"
                    ],
                    [
                      "classic czech pop"
                    ],
                    [
                      "classic danish pop"
                    ],
                    [
                      "classic dubstep"
                    ],
                    [
                      "classic eurovision"
                    ],
                    [
                      "classic finnish pop"
                    ],
                    [
                      "classic french pop"
                    ],
                    [
                      "classic garage rock"
                    ],
                    [
                      "classic girl group"
                    ],
                    [
                      "classic greek pop"
                    ],
                    [
                      "classic hardstyle"
                    ],
                    [
                      "classic hungarian pop"
                    ],
                    [
                      "classic icelandic pop"
                    ],
                    [
                      "classic indo pop"
                    ],
                    [
                      "classic iskelma"
                    ],
                    [
                      "classic israeli pop"
                    ],
                    [
                      "classic italian folk pop"
                    ],
                    [
                      "classic italian pop"
                    ],
                    [
                      "classic j-pop"
                    ],
                    [
                      "classic j-rock"
                    ],
                    [
                      "classic japanese jazz"
                    ],
                    [
                      "classic korean pop"
                    ],
                    [
                      "classic latvian pop"
                    ],
                    [
                      "classic luk thung"
                    ],
                    [
                      "classic mandopop"
                    ],
                    [
                      "classic norwegian pop"
                    ],
                    [
                      "classic nz pop"
                    ],
                    [
                      "classic opm"
                    ],
                    [
                      "classic pakistani pop"
                    ],
                    [
                      "classic persian pop"
                    ],
                    [
                      "classic peruvian pop"
                    ],
                    [
                      "classic polish pop"
                    ],
                    [
                      "classic praise"
                    ],
                    [
                      "classic progressive house"
                    ],
                    [
                      "classic psychedelic rock"
                    ],
                    [
                      "classic punjabi pop"
                    ],
                    [
                      "classic rock"
                    ],
                    [
                      "classic russian pop"
                    ],
                    [
                      "classic russian rock"
                    ],
                    [
                      "classic schlager"
                    ],
                    [
                      "classic soul"
                    ],
                    [
                      "classic soundtrack"
                    ],
                    [
                      "classic swedish pop"
                    ],
                    [
                      "classic thai pop"
                    ],
                    [
                      "classic tunisian pop"
                    ],
                    [
                      "classic turkish pop"
                    ],
                    [
                      "classic uk pop"
                    ],
                    [
                      "classic venezuelan pop"
                    ],
                    [
                      "classical"
                    ],
                    [
                      "classical accordion"
                    ],
                    [
                      "classical baritone"
                    ],
                    [
                      "classical bass"
                    ],
                    [
                      "classical cello"
                    ],
                    [
                      "classical clarinet"
                    ],
                    [
                      "classical contralto"
                    ],
                    [
                      "classical countertenor"
                    ],
                    [
                      "classical era"
                    ],
                    [
                      "classical flute"
                    ],
                    [
                      "classical guitar"
                    ],
                    [
                      "classical guitar quartet"
                    ],
                    [
                      "classical harp"
                    ],
                    [
                      "classical horn"
                    ],
                    [
                      "classical mandolin"
                    ],
                    [
                      "classical mezzo-soprano"
                    ],
                    [
                      "classical oboe"
                    ],
                    [
                      "classical organ"
                    ],
                    [
                      "classical performance"
                    ],
                    [
                      "classical piano"
                    ],
                    [
                      "classical piano duo"
                    ],
                    [
                      "classical piano trio"
                    ],
                    [
                      "classical saxophone"
                    ],
                    [
                      "classical soprano"
                    ],
                    [
                      "classical tenor"
                    ],
                    [
                      "classical trumpet"
                    ],
                    [
                      "classify"
                    ],
                    [
                      "clawhammer banjo"
                    ],
                    [
                      "clean comedy"
                    ],
                    [
                      "cleveland metal"
                    ],
                    [
                      "coco"
                    ],
                    [
                      "collage pop"
                    ],
                    [
                      "college a cappella"
                    ],
                    [
                      "college marching band"
                    ],
                    [
                      "cologne electronic"
                    ],
                    [
                      "cologne indie"
                    ],
                    [
                      "colombian electronic"
                    ],
                    [
                      "colombian hip hop"
                    ],
                    [
                      "colombian indie"
                    ],
                    [
                      "colombian pop"
                    ],
                    [
                      "colombian rock"
                    ],
                    [
                      "comedia"
                    ],
                    [
                      "comedy"
                    ],
                    [
                      "comedy rap"
                    ],
                    [
                      "comedy rock"
                    ],
                    [
                      "comic"
                    ],
                    [
                      "comic metal"
                    ],
                    [
                      "commons"
                    ],
                    [
                      "complextro"
                    ],
                    [
                      "compositional ambient"
                    ],
                    [
                      "concert band"
                    ],
                    [
                      "connecticut hardcore"
                    ],
                    [
                      "conscious hip hop"
                    ],
                    [
                      "contemporary choir"
                    ],
                    [
                      "contemporary classical"
                    ],
                    [
                      "contemporary classical piano"
                    ],
                    [
                      "contemporary country"
                    ],
                    [
                      "contemporary folk"
                    ],
                    [
                      "contemporary gospel"
                    ],
                    [
                      "contemporary jazz"
                    ],
                    [
                      "contemporary post-bop"
                    ],
                    [
                      "contemporary vocal jazz"
                    ],
                    [
                      "contrabass"
                    ],
                    [
                      "cool jazz"
                    ],
                    [
                      "copla"
                    ],
                    [
                      "cornish folk"
                    ],
                    [
                      "cornwall indie"
                    ],
                    [
                      "corrido"
                    ],
                    [
                      "corridos tumbados"
                    ],
                    [
                      "corrosion"
                    ],
                    [
                      "cosmic american"
                    ],
                    [
                      "cosmic black metal"
                    ],
                    [
                      "cosmic post-rock"
                    ],
                    [
                      "cosmic uplifting trance"
                    ],
                    [
                      "country"
                    ],
                    [
                      "country blues"
                    ],
                    [
                      "country boogie"
                    ],
                    [
                      "country dawn"
                    ],
                    [
                      "country gospel"
                    ],
                    [
                      "country pop"
                    ],
                    [
                      "country quebecois"
                    ],
                    [
                      "country rap"
                    ],
                    [
                      "country road"
                    ],
                    [
                      "country rock"
                    ],
                    [
                      "coverchill"
                    ],
                    [
                      "cowboy western"
                    ],
                    [
                      "cowpunk"
                    ],
                    [
                      "crack rock steady"
                    ],
                    [
                      "croatian electronic"
                    ],
                    [
                      "croatian folk"
                    ],
                    [
                      "croatian pop"
                    ],
                    [
                      "croatian rock"
                    ],
                    [
                      "crossover prog"
                    ],
                    [
                      "crossover thrash"
                    ],
                    [
                      "crunk"
                    ],
                    [
                      "crust punk"
                    ],
                    [
                      "cuarteto"
                    ],
                    [
                      "cuatro venezolano"
                    ],
                    [
                      "cuban rumba"
                    ],
                    [
                      "cubaton"
                    ],
                    [
                      "cumbia"
                    ],
                    [
                      "cumbia andina mexicana"
                    ],
                    [
                      "cumbia chilena"
                    ],
                    [
                      "cumbia colombiana regia"
                    ],
                    [
                      "cumbia ecuatoriana"
                    ],
                    [
                      "cumbia funk"
                    ],
                    [
                      "cumbia lagunera"
                    ],
                    [
                      "cumbia paraguaya"
                    ],
                    [
                      "cumbia peruana"
                    ],
                    [
                      "cumbia ranchera"
                    ],
                    [
                      "cumbia salvadorena"
                    ],
                    [
                      "cumbia sonidera"
                    ],
                    [
                      "cumbia villera"
                    ],
                    [
                      "cyberpunk"
                    ],
                    [
                      "cymraeg"
                    ],
                    [
                      "cypriot pop"
                    ],
                    [
                      "czech classical"
                    ],
                    [
                      "czech classical piano"
                    ],
                    [
                      "czech contemporary classical"
                    ],
                    [
                      "czech folk"
                    ],
                    [
                      "czech hip hop"
                    ],
                    [
                      "czsk hip hop"
                    ],
                    [
                      "d-beat"
                    ],
                    [
                      "dabke"
                    ],
                    [
                      "dakke dak"
                    ],
                    [
                      "dalarna indie"
                    ],
                    [
                      "dallas indie"
                    ],
                    [
                      "dance pop"
                    ],
                    [
                      "dance rock"
                    ],
                    [
                      "dance-punk"
                    ],
                    [
                      "dancehall"
                    ],
                    [
                      "dangdut"
                    ],
                    [
                      "danish alternative rock"
                    ],
                    [
                      "danish classical"
                    ],
                    [
                      "danish electro"
                    ],
                    [
                      "danish electronic"
                    ],
                    [
                      "danish electropop"
                    ],
                    [
                      "danish experimental"
                    ],
                    [
                      "danish hip hop"
                    ],
                    [
                      "danish jazz"
                    ],
                    [
                      "danish metal"
                    ],
                    [
                      "danish pop"
                    ],
                    [
                      "danish pop rock"
                    ],
                    [
                      "danish post-punk"
                    ],
                    [
                      "danish rock"
                    ],
                    [
                      "danish singer-songwriter"
                    ],
                    [
                      "danish techno"
                    ],
                    [
                      "dansband"
                    ],
                    [
                      "danseband"
                    ],
                    [
                      "dansktop"
                    ],
                    [
                      "danspunk"
                    ],
                    [
                      "dark cabaret"
                    ],
                    [
                      "dark clubbing"
                    ],
                    [
                      "dark disco"
                    ],
                    [
                      "dark electro"
                    ],
                    [
                      "dark hardcore"
                    ],
                    [
                      "dark jazz"
                    ],
                    [
                      "dark minimal techno"
                    ],
                    [
                      "dark post-punk"
                    ],
                    [
                      "dark progressive house"
                    ],
                    [
                      "dark psytrance"
                    ],
                    [
                      "dark techno"
                    ],
                    [
                      "dark trap"
                    ],
                    [
                      "dark wave"
                    ],
                    [
                      "darkstep"
                    ],
                    [
                      "darksynth"
                    ],
                    [
                      "dayton indie"
                    ],
                    [
                      "dc hardcore"
                    ],
                    [
                      "death 'n' roll"
                    ],
                    [
                      "death metal"
                    ],
                    [
                      "deathcore"
                    ],
                    [
                      "deathgrass"
                    ],
                    [
                      "deathgrind"
                    ],
                    [
                      "deathrash"
                    ],
                    [
                      "deathrock"
                    ],
                    [
                      "deathstep"
                    ],
                    [
                      "deep acoustic pop"
                    ],
                    [
                      "deep adult standards"
                    ],
                    [
                      "deep big room"
                    ],
                    [
                      "deep ccm"
                    ],
                    [
                      "deep chill"
                    ],
                    [
                      "deep christian rock"
                    ],
                    [
                      "deep classic garage rock"
                    ],
                    [
                      "deep comedy"
                    ],
                    [
                      "deep contemporary country"
                    ],
                    [
                      "deep dance pop"
                    ],
                    [
                      "deep darkpsy"
                    ],
                    [
                      "deep deep house"
                    ],
                    [
                      "deep deep tech house"
                    ],
                    [
                      "deep delta blues"
                    ],
                    [
                      "deep disco"
                    ],
                    [
                      "deep disco house"
                    ],
                    [
                      "deep dnb"
                    ],
                    [
                      "deep dubstep"
                    ],
                    [
                      "deep east coast hip hop"
                    ],
                    [
                      "deep euro house"
                    ],
                    [
                      "deep eurodance"
                    ],
                    [
                      "deep filthstep"
                    ],
                    [
                      "deep flow"
                    ],
                    [
                      "deep free jazz"
                    ],
                    [
                      "deep freestyle"
                    ],
                    [
                      "deep full on"
                    ],
                    [
                      "deep funk"
                    ],
                    [
                      "deep funk house"
                    ],
                    [
                      "deep g funk"
                    ],
                    [
                      "deep german punk"
                    ],
                    [
                      "deep groove house"
                    ],
                    [
                      "deep happy hardcore"
                    ],
                    [
                      "deep hardtechno"
                    ],
                    [
                      "deep house"
                    ],
                    [
                      "deep idm"
                    ],
                    [
                      "deep indian pop"
                    ],
                    [
                      "deep latin alternative"
                    ],
                    [
                      "deep latin christian"
                    ],
                    [
                      "deep latin jazz"
                    ],
                    [
                      "deep liquid bass"
                    ],
                    [
                      "deep melodic hard rock"
                    ],
                    [
                      "deep melodic metalcore"
                    ],
                    [
                      "deep metalcore"
                    ],
                    [
                      "deep minimal techno"
                    ],
                    [
                      "deep motown"
                    ],
                    [
                      "deep new americana"
                    ],
                    [
                      "deep new wave"
                    ],
                    [
                      "deep norteno"
                    ],
                    [
                      "deep pop edm"
                    ],
                    [
                      "deep power-pop punk"
                    ],
                    [
                      "deep progressive house"
                    ],
                    [
                      "deep progressive trance"
                    ],
                    [
                      "deep psychobilly"
                    ],
                    [
                      "deep punk rock"
                    ],
                    [
                      "deep r&b"
                    ],
                    [
                      "deep ragga"
                    ],
                    [
                      "deep regional mexican"
                    ],
                    [
                      "deep smooth jazz"
                    ],
                    [
                      "deep soft rock"
                    ],
                    [
                      "deep soul house"
                    ],
                    [
                      "deep soundtrack"
                    ],
                    [
                      "deep southern soul"
                    ],
                    [
                      "deep southern trap"
                    ],
                    [
                      "deep talent show"
                    ],
                    [
                      "deep tech house"
                    ],
                    [
                      "deep techno"
                    ],
                    [
                      "deep tropical house"
                    ],
                    [
                      "deep underground hip hop"
                    ],
                    [
                      "deep uplifting trance"
                    ],
                    [
                      "deep vocal house"
                    ],
                    [
                      "delta blues"
                    ],
                    [
                      "dembow"
                    ],
                    [
                      "denpa-kei"
                    ],
                    [
                      "denton tx indie"
                    ],
                    [
                      "denver indie"
                    ],
                    [
                      "depressive black metal"
                    ],
                    [
                      "derby indie"
                    ],
                    [
                      "desert blues"
                    ],
                    [
                      "desi hip hop"
                    ],
                    [
                      "desi pop"
                    ],
                    [
                      "destroy techno"
                    ],
                    [
                      "detroit hip hop"
                    ],
                    [
                      "detroit house"
                    ],
                    [
                      "detroit rock"
                    ],
                    [
                      "detroit techno"
                    ],
                    [
                      "detroit trap"
                    ],
                    [
                      "detske pisnicky"
                    ],
                    [
                      "detskie pesni"
                    ],
                    [
                      "dfw rap"
                    ],
                    [
                      "dhrupad"
                    ],
                    [
                      "didgeridoo"
                    ],
                    [
                      "digital hardcore"
                    ],
                    [
                      "dinner jazz"
                    ],
                    [
                      "dirty south rap"
                    ],
                    [
                      "dirty texas rap"
                    ],
                    [
                      "disco"
                    ],
                    [
                      "disco house"
                    ],
                    [
                      "disney"
                    ],
                    [
                      "disney svenska"
                    ],
                    [
                      "diva house"
                    ],
                    [
                      "dixieland"
                    ],
                    [
                      "diy emo"
                    ],
                    [
                      "djent"
                    ],
                    [
                      "dmv rap"
                    ],
                    [
                      "dominican pop"
                    ],
                    [
                      "dong-yo"
                    ],
                    [
                      "doo-wop"
                    ],
                    [
                      "doom metal"
                    ],
                    [
                      "doomcore"
                    ],
                    [
                      "dortmund indie"
                    ],
                    [
                      "double drumming"
                    ],
                    [
                      "downtempo"
                    ],
                    [
                      "downtempo bass"
                    ],
                    [
                      "drama"
                    ],
                    [
                      "dream pop"
                    ],
                    [
                      "dream trance"
                    ],
                    [
                      "dreamgaze"
                    ],
                    [
                      "dreamo"
                    ],
                    [
                      "drift"
                    ],
                    [
                      "drill"
                    ],
                    [
                      "drill and bass"
                    ],
                    [
                      "drone"
                    ],
                    [
                      "drone folk"
                    ],
                    [
                      "drone metal"
                    ],
                    [
                      "drum and bass"
                    ],
                    [
                      "dub"
                    ],
                    [
                      "dub metal"
                    ],
                    [
                      "dub poetry"
                    ],
                    [
                      "dub reggae"
                    ],
                    [
                      "dub techno"
                    ],
                    [
                      "dubstep"
                    ],
                    [
                      "dubstep product"
                    ],
                    [
                      "dubsteppe"
                    ],
                    [
                      "duduk"
                    ],
                    [
                      "duluth indie"
                    ],
                    [
                      "dunedin indie"
                    ],
                    [
                      "dunedin sound"
                    ],
                    [
                      "dungeon synth"
                    ],
                    [
                      "duranguense"
                    ],
                    [
                      "dusseldorf electronic"
                    ],
                    [
                      "dutch americana"
                    ],
                    [
                      "dutch blues"
                    ],
                    [
                      "dutch classical piano"
                    ],
                    [
                      "dutch death metal"
                    ],
                    [
                      "dutch edm"
                    ],
                    [
                      "dutch experimental electronic"
                    ],
                    [
                      "dutch folk"
                    ],
                    [
                      "dutch hip hop"
                    ],
                    [
                      "dutch house"
                    ],
                    [
                      "dutch indie"
                    ],
                    [
                      "dutch indie rock"
                    ],
                    [
                      "dutch jazz"
                    ],
                    [
                      "dutch metal"
                    ],
                    [
                      "dutch moombahton"
                    ],
                    [
                      "dutch pop"
                    ],
                    [
                      "dutch prog"
                    ],
                    [
                      "dutch rap pop"
                    ],
                    [
                      "dutch rock"
                    ],
                    [
                      "dutch tech house"
                    ],
                    [
                      "dutch trance"
                    ],
                    [
                      "early american folk"
                    ],
                    [
                      "early avant garde"
                    ],
                    [
                      "early modern classical"
                    ],
                    [
                      "early music"
                    ],
                    [
                      "early music choir"
                    ],
                    [
                      "early music ensemble"
                    ],
                    [
                      "early reggae"
                    ],
                    [
                      "early romantic era"
                    ],
                    [
                      "early synthpop"
                    ],
                    [
                      "early us punk"
                    ],
                    [
                      "east coast hip hop"
                    ],
                    [
                      "east coast reggae"
                    ],
                    [
                      "eastern bloc groove"
                    ],
                    [
                      "easy listening"
                    ],
                    [
                      "easycore"
                    ],
                    [
                      "eau claire indie"
                    ],
                    [
                      "ebm"
                    ],
                    [
                      "ecm-style jazz"
                    ],
                    [
                      "ectofolk"
                    ],
                    [
                      "ecuadorian pop"
                    ],
                    [
                      "edm"
                    ],
                    [
                      "edmonton indie"
                    ],
                    [
                      "egyptian pop"
                    ],
                    [
                      "egyptian traditional"
                    ],
                    [
                      "el paso indie"
                    ],
                    [
                      "electra"
                    ],
                    [
                      "electric bass"
                    ],
                    [
                      "electric blues"
                    ],
                    [
                      "electro"
                    ],
                    [
                      "electro house"
                    ],
                    [
                      "electro jazz"
                    ],
                    [
                      "electro latino"
                    ],
                    [
                      "electro swing"
                    ],
                    [
                      "electro trash"
                    ],
                    [
                      "electro-industrial"
                    ],
                    [
                      "electroclash"
                    ],
                    [
                      "electrofox"
                    ],
                    [
                      "electronic djent"
                    ],
                    [
                      "electronic rock"
                    ],
                    [
                      "electronic trap"
                    ],
                    [
                      "electronica"
                    ],
                    [
                      "electronica argentina"
                    ],
                    [
                      "electronica chilena"
                    ],
                    [
                      "electronica venezuela"
                    ],
                    [
                      "electronicore"
                    ],
                    [
                      "electropop"
                    ],
                    [
                      "electropowerpop"
                    ],
                    [
                      "elektropunk"
                    ],
                    [
                      "elephant 6"
                    ],
                    [
                      "emo"
                    ],
                    [
                      "emo mexicano"
                    ],
                    [
                      "emo punk"
                    ],
                    [
                      "emo rap"
                    ],
                    [
                      "emocore"
                    ],
                    [
                      "english baroque"
                    ],
                    [
                      "english indie rock"
                    ],
                    [
                      "english renaissance"
                    ],
                    [
                      "entehno"
                    ],
                    [
                      "environmental"
                    ],
                    [
                      "epic doom"
                    ],
                    [
                      "epicore"
                    ],
                    [
                      "erhu"
                    ],
                    [
                      "erotica"
                    ],
                    [
                      "escape room"
                    ],
                    [
                      "esperanto"
                    ],
                    [
                      "estonian hip hop"
                    ],
                    [
                      "estonian pop"
                    ],
                    [
                      "ethereal wave"
                    ],
                    [
                      "etherpop"
                    ],
                    [
                      "ethio-jazz"
                    ],
                    [
                      "ethiopian pop"
                    ],
                    [
                      "ethnomusicology"
                    ],
                    [
                      "ethnotronica"
                    ],
                    [
                      "eugene indie"
                    ],
                    [
                      "euphoric hardstyle"
                    ],
                    [
                      "euro hi-nrg"
                    ],
                    [
                      "eurobeat"
                    ],
                    [
                      "eurodance"
                    ],
                    [
                      "europop"
                    ],
                    [
                      "euroska"
                    ],
                    [
                      "eurovision"
                    ],
                    [
                      "exotica"
                    ],
                    [
                      "experimental"
                    ],
                    [
                      "experimental ambient"
                    ],
                    [
                      "experimental dub"
                    ],
                    [
                      "experimental folk"
                    ],
                    [
                      "experimental guitar"
                    ],
                    [
                      "experimental hip hop"
                    ],
                    [
                      "experimental house"
                    ],
                    [
                      "experimental indie rock"
                    ],
                    [
                      "experimental jazz"
                    ],
                    [
                      "experimental pop"
                    ],
                    [
                      "experimental rock"
                    ],
                    [
                      "experimental vocal"
                    ],
                    [
                      "fado"
                    ],
                    [
                      "fake"
                    ],
                    [
                      "family gospel"
                    ],
                    [
                      "faroese pop"
                    ],
                    [
                      "fast melodic punk"
                    ],
                    [
                      "fidget house"
                    ],
                    [
                      "filmi"
                    ],
                    [
                      "filter house"
                    ],
                    [
                      "filthstep"
                    ],
                    [
                      "final fantasy"
                    ],
                    [
                      "fingerstyle"
                    ],
                    [
                      "finnish alternative rock"
                    ],
                    [
                      "finnish black metal"
                    ],
                    [
                      "finnish classical"
                    ],
                    [
                      "finnish contemporary classical"
                    ],
                    [
                      "finnish death metal"
                    ],
                    [
                      "finnish doom metal"
                    ],
                    [
                      "finnish edm"
                    ],
                    [
                      "finnish electro"
                    ],
                    [
                      "finnish hard rock"
                    ],
                    [
                      "finnish melodeath"
                    ],
                    [
                      "finnish metal"
                    ],
                    [
                      "finnish power metal"
                    ],
                    [
                      "finnish soul"
                    ],
                    [
                      "firenze indie"
                    ],
                    [
                      "flamenco"
                    ],
                    [
                      "flamenco fusion"
                    ],
                    [
                      "flamenco guitar"
                    ],
                    [
                      "flick hop"
                    ],
                    [
                      "flint hip hop"
                    ],
                    [
                      "float house"
                    ],
                    [
                      "florida death metal"
                    ],
                    [
                      "florida rap"
                    ],
                    [
                      "fo jing"
                    ],
                    [
                      "focus"
                    ],
                    [
                      "focus beats"
                    ],
                    [
                      "focus trance"
                    ],
                    [
                      "folclor afrocolombiano"
                    ],
                    [
                      "folclor colombiano"
                    ],
                    [
                      "folclore extremeno"
                    ],
                    [
                      "folclore jujeno"
                    ],
                    [
                      "folclore navarra"
                    ],
                    [
                      "folclore salteno"
                    ],
                    [
                      "folclore tucumano"
                    ],
                    [
                      "folk"
                    ],
                    [
                      "folk metal"
                    ],
                    [
                      "folk punk"
                    ],
                    [
                      "folk rock"
                    ],
                    [
                      "folk rock italiano"
                    ],
                    [
                      "folk-pop"
                    ],
                    [
                      "folklore argentino"
                    ],
                    [
                      "folklore boliviano"
                    ],
                    [
                      "folklore chileno"
                    ],
                    [
                      "folklore ecuatoriano"
                    ],
                    [
                      "folklore peruano"
                    ],
                    [
                      "folklore quebecois"
                    ],
                    [
                      "folklore venezolano"
                    ],
                    [
                      "folkmusik"
                    ],
                    [
                      "folktronica"
                    ],
                    [
                      "footwork"
                    ],
                    [
                      "forro"
                    ],
                    [
                      "forro tradicional"
                    ],
                    [
                      "fort worth indie"
                    ],
                    [
                      "fourth world"
                    ],
                    [
                      "franco-flemish school"
                    ],
                    [
                      "francoton"
                    ],
                    [
                      "frankfurt electronic"
                    ],
                    [
                      "freak folk"
                    ],
                    [
                      "freakbeat"
                    ],
                    [
                      "free folk"
                    ],
                    [
                      "free improvisation"
                    ],
                    [
                      "free jazz"
                    ],
                    [
                      "freestyle"
                    ],
                    [
                      "french baroque"
                    ],
                    [
                      "french classical piano"
                    ],
                    [
                      "french contemporary classical"
                    ],
                    [
                      "french death metal"
                    ],
                    [
                      "french hip hop"
                    ],
                    [
                      "french indie folk"
                    ],
                    [
                      "french indie pop"
                    ],
                    [
                      "french indietronica"
                    ],
                    [
                      "french jazz"
                    ],
                    [
                      "french metal"
                    ],
                    [
                      "french movie tunes"
                    ],
                    [
                      "french opera"
                    ],
                    [
                      "french orchestra"
                    ],
                    [
                      "french pop"
                    ],
                    [
                      "french post-punk"
                    ],
                    [
                      "french punk"
                    ],
                    [
                      "french reggae"
                    ],
                    [
                      "french rock"
                    ],
                    [
                      "french romanticism"
                    ],
                    [
                      "french shoegaze"
                    ],
                    [
                      "french soundtrack"
                    ],
                    [
                      "french synthpop"
                    ],
                    [
                      "french tech house"
                    ],
                    [
                      "french techno"
                    ],
                    [
                      "frenchcore"
                    ],
                    [
                      "frevo"
                    ],
                    [
                      "full on"
                    ],
                    [
                      "funana"
                    ],
                    [
                      "funeral doom"
                    ],
                    [
                      "funk"
                    ],
                    [
                      "funk 150 bpm"
                    ],
                    [
                      "funk carioca"
                    ],
                    [
                      "funk metal"
                    ],
                    [
                      "funk mexicano"
                    ],
                    [
                      "funk ostentacao"
                    ],
                    [
                      "funk pop"
                    ],
                    [
                      "funk rock"
                    ],
                    [
                      "funky breaks"
                    ],
                    [
                      "funky tech house"
                    ],
                    [
                      "future ambient"
                    ],
                    [
                      "future bass"
                    ],
                    [
                      "future funk"
                    ],
                    [
                      "future garage"
                    ],
                    [
                      "future house"
                    ],
                    [
                      "future rock"
                    ],
                    [
                      "futurepop"
                    ],
                    [
                      "g funk"
                    ],
                    [
                      "gabba"
                    ],
                    [
                      "gabonese pop"
                    ],
                    [
                      "gaian doom"
                    ],
                    [
                      "gainesville indie"
                    ],
                    [
                      "gaita zuliana"
                    ],
                    [
                      "galante era"
                    ],
                    [
                      "gamelan"
                    ],
                    [
                      "gaming dubstep"
                    ],
                    [
                      "gaming edm"
                    ],
                    [
                      "gangster rap"
                    ],
                    [
                      "garage house"
                    ],
                    [
                      "garage pop"
                    ],
                    [
                      "garage psych"
                    ],
                    [
                      "garage punk"
                    ],
                    [
                      "garage punk blues"
                    ],
                    [
                      "garage rock"
                    ],
                    [
                      "garage rock revival"
                    ],
                    [
                      "gauze pop"
                    ],
                    [
                      "gbvfi"
                    ],
                    [
                      "geek folk"
                    ],
                    [
                      "geek rock"
                    ],
                    [
                      "georgian electronic"
                    ],
                    [
                      "georgian folk"
                    ],
                    [
                      "german alternative rock"
                    ],
                    [
                      "german baroque"
                    ],
                    [
                      "german black metal"
                    ],
                    [
                      "german choir"
                    ],
                    [
                      "german classical piano"
                    ],
                    [
                      "german country"
                    ],
                    [
                      "german dance"
                    ],
                    [
                      "german dark minimal techno"
                    ],
                    [
                      "german electronica"
                    ],
                    [
                      "german grindcore"
                    ],
                    [
                      "german hard rock"
                    ],
                    [
                      "german heavy metal"
                    ],
                    [
                      "german hip hop"
                    ],
                    [
                      "german house"
                    ],
                    [
                      "german indie"
                    ],
                    [
                      "german indie pop"
                    ],
                    [
                      "german jazz"
                    ],
                    [
                      "german literature"
                    ],
                    [
                      "german metal"
                    ],
                    [
                      "german metalcore"
                    ],
                    [
                      "german oi"
                    ],
                    [
                      "german opera"
                    ],
                    [
                      "german orchestra"
                    ],
                    [
                      "german pop"
                    ],
                    [
                      "german pop rock"
                    ],
                    [
                      "german post-rock"
                    ],
                    [
                      "german power metal"
                    ],
                    [
                      "german punk"
                    ],
                    [
                      "german punk rock"
                    ],
                    [
                      "german renaissance"
                    ],
                    [
                      "german rock"
                    ],
                    [
                      "german romanticism"
                    ],
                    [
                      "german shoegaze"
                    ],
                    [
                      "german show tunes"
                    ],
                    [
                      "german ska"
                    ],
                    [
                      "german soundtrack"
                    ],
                    [
                      "german stoner rock"
                    ],
                    [
                      "german street punk"
                    ],
                    [
                      "german tech house"
                    ],
                    [
                      "german techno"
                    ],
                    [
                      "german thrash metal"
                    ],
                    [
                      "german trance"
                    ],
                    [
                      "german underground rap"
                    ],
                    [
                      "ghanaian hip hop"
                    ],
                    [
                      "ghanaian pop"
                    ],
                    [
                      "ghanaian traditional"
                    ],
                    [
                      "ghazal"
                    ],
                    [
                      "ghent indie"
                    ],
                    [
                      "ghettotech"
                    ],
                    [
                      "ghoststep"
                    ],
                    [
                      "girl group"
                    ],
                    [
                      "glam metal"
                    ],
                    [
                      "glam punk"
                    ],
                    [
                      "glam rock"
                    ],
                    [
                      "glee club"
                    ],
                    [
                      "glitch"
                    ],
                    [
                      "glitch hop"
                    ],
                    [
                      "glitch pop"
                    ],
                    [
                      "glitchcore"
                    ],
                    [
                      "glitter trance"
                    ],
                    [
                      "go-go"
                    ],
                    [
                      "goa psytrance"
                    ],
                    [
                      "goa trance"
                    ],
                    [
                      "goregrind"
                    ],
                    [
                      "gospel"
                    ],
                    [
                      "gospel antigas"
                    ],
                    [
                      "gospel blues"
                    ],
                    [
                      "gospel italiano"
                    ],
                    [
                      "gospel r&b"
                    ],
                    [
                      "gospel singers"
                    ],
                    [
                      "gospel soul"
                    ],
                    [
                      "gothabilly"
                    ],
                    [
                      "gothenburg indie"
                    ],
                    [
                      "gothenburg metal"
                    ],
                    [
                      "gothic alternative"
                    ],
                    [
                      "gothic americana"
                    ],
                    [
                      "gothic black metal"
                    ],
                    [
                      "gothic metal"
                    ],
                    [
                      "gothic post-punk"
                    ],
                    [
                      "gothic rock"
                    ],
                    [
                      "gothic symphonic metal"
                    ],
                    [
                      "gqom"
                    ],
                    [
                      "grand rapids indie"
                    ],
                    [
                      "grave wave"
                    ],
                    [
                      "greek black metal"
                    ],
                    [
                      "greek clarinet"
                    ],
                    [
                      "greek contemporary classical"
                    ],
                    [
                      "greek folk"
                    ],
                    [
                      "greek guitar"
                    ],
                    [
                      "greek hip hop"
                    ],
                    [
                      "greek house"
                    ],
                    [
                      "greek pop"
                    ],
                    [
                      "greek swing"
                    ],
                    [
                      "greek techno"
                    ],
                    [
                      "greek underground rap"
                    ],
                    [
                      "gregorian chant"
                    ],
                    [
                      "grime"
                    ],
                    [
                      "grindcore"
                    ],
                    [
                      "griot"
                    ],
                    [
                      "groove metal"
                    ],
                    [
                      "groove room"
                    ],
                    [
                      "grunge"
                    ],
                    [
                      "grunge pop"
                    ],
                    [
                      "grupera"
                    ],
                    [
                      "gruperas inmortales"
                    ],
                    [
                      "guadalajara indie"
                    ],
                    [
                      "guam indie"
                    ],
                    [
                      "guaracha"
                    ],
                    [
                      "guatemalan pop"
                    ],
                    [
                      "guidance"
                    ],
                    [
                      "guinean pop"
                    ],
                    [
                      "guitarra argentina"
                    ],
                    [
                      "guitarra clasica"
                    ],
                    [
                      "guitarra portuguesa"
                    ],
                    [
                      "gujarati garba"
                    ],
                    [
                      "guzheng"
                    ],
                    [
                      "gymcore"
                    ],
                    [
                      "gypsy"
                    ],
                    [
                      "gypsy jazz"
                    ],
                    [
                      "gypsy punk"
                    ],
                    [
                      "haitian dance"
                    ],
                    [
                      "haitian traditional"
                    ],
                    [
                      "halftime dnb"
                    ],
                    [
                      "halifax indie"
                    ],
                    [
                      "halloween"
                    ],
                    [
                      "hamburg electronic"
                    ],
                    [
                      "hamburg hip hop"
                    ],
                    [
                      "hamilton on indie"
                    ],
                    [
                      "hammered dulcimer"
                    ],
                    [
                      "hammond organ"
                    ],
                    [
                      "hands up"
                    ],
                    [
                      "happy hardcore"
                    ],
                    [
                      "hard alternative"
                    ],
                    [
                      "hard bass"
                    ],
                    [
                      "hard bop"
                    ],
                    [
                      "hard dance"
                    ],
                    [
                      "hard glam"
                    ],
                    [
                      "hard house"
                    ],
                    [
                      "hard minimal techno"
                    ],
                    [
                      "hard rock"
                    ],
                    [
                      "hard rock brasileiro"
                    ],
                    [
                      "hard trance"
                    ],
                    [
                      "hardcore"
                    ],
                    [
                      "hardcore hip hop"
                    ],
                    [
                      "hardcore punk"
                    ],
                    [
                      "hardcore punk espanol"
                    ],
                    [
                      "hardcore techno"
                    ],
                    [
                      "hardstyle"
                    ],
                    [
                      "hardvapour"
                    ],
                    [
                      "harlem hip hop"
                    ],
                    [
                      "harlem renaissance"
                    ],
                    [
                      "harmonica blues"
                    ],
                    [
                      "harmonica jazz"
                    ],
                    [
                      "harp"
                    ],
                    [
                      "harpsichord"
                    ],
                    [
                      "haryanvi pop"
                    ],
                    [
                      "hawaiian"
                    ],
                    [
                      "hawaiian hip hop"
                    ],
                    [
                      "hawaiian indie"
                    ],
                    [
                      "healing"
                    ],
                    [
                      "heartland rock"
                    ],
                    [
                      "hi-nrg"
                    ],
                    [
                      "highlife"
                    ],
                    [
                      "hindi hip hop"
                    ],
                    [
                      "hindi indie"
                    ],
                    [
                      "hindustani classical"
                    ],
                    [
                      "hindustani instrumental"
                    ],
                    [
                      "hindustani vocal"
                    ],
                    [
                      "hip hop"
                    ],
                    [
                      "hip hop cubano"
                    ],
                    [
                      "hip house"
                    ],
                    [
                      "hip pop"
                    ],
                    [
                      "histoire pour enfants"
                    ],
                    [
                      "historic classical performance"
                    ],
                    [
                      "historic orchestral performance"
                    ],
                    [
                      "historic piano performance"
                    ],
                    [
                      "historic string quartet"
                    ],
                    [
                      "historical keyboard"
                    ],
                    [
                      "historically informed performance"
                    ],
                    [
                      "hoerspiel"
                    ],
                    [
                      "hokkien pop"
                    ],
                    [
                      "hollywood"
                    ],
                    [
                      "hong kong indie"
                    ],
                    [
                      "hong kong rock"
                    ],
                    [
                      "honky tonk"
                    ],
                    [
                      "honky-tonk piano"
                    ],
                    [
                      "hopebeat"
                    ],
                    [
                      "horror punk"
                    ],
                    [
                      "horror synth"
                    ],
                    [
                      "horrorcore"
                    ],
                    [
                      "house"
                    ],
                    [
                      "house argentino"
                    ],
                    [
                      "houston rap"
                    ],
                    [
                      "huapango"
                    ],
                    [
                      "huayno"
                    ],
                    [
                      "hula"
                    ],
                    [
                      "humppa"
                    ],
                    [
                      "hungarian choir"
                    ],
                    [
                      "hungarian classical performance"
                    ],
                    [
                      "hungarian classical piano"
                    ],
                    [
                      "hungarian contemporary classical"
                    ],
                    [
                      "hungarian edm"
                    ],
                    [
                      "hungarian folk"
                    ],
                    [
                      "hungarian pop"
                    ],
                    [
                      "hungarian rock"
                    ],
                    [
                      "hungarian techno"
                    ],
                    [
                      "hurdy-gurdy"
                    ],
                    [
                      "hyperpop"
                    ],
                    [
                      "hyphy"
                    ],
                    [
                      "icelandic classical"
                    ],
                    [
                      "icelandic experimental"
                    ],
                    [
                      "icelandic folk"
                    ],
                    [
                      "icelandic indie"
                    ],
                    [
                      "icelandic pop"
                    ],
                    [
                      "icelandic rock"
                    ],
                    [
                      "idaho indie"
                    ],
                    [
                      "idol"
                    ],
                    [
                      "idol rock"
                    ],
                    [
                      "ilahiler"
                    ],
                    [
                      "ilocano pop"
                    ],
                    [
                      "impressionism"
                    ],
                    [
                      "indian classical"
                    ],
                    [
                      "indian edm"
                    ],
                    [
                      "indian folk"
                    ],
                    [
                      "indian fusion"
                    ],
                    [
                      "indian indie"
                    ],
                    [
                      "indian instrumental"
                    ],
                    [
                      "indian jazz"
                    ],
                    [
                      "indian rock"
                    ],
                    [
                      "indian singer-songwriter"
                    ],
                    [
                      "indiana hip hop"
                    ],
                    [
                      "indiana indie"
                    ],
                    [
                      "indie anthem-folk"
                    ],
                    [
                      "indie cafe pop"
                    ],
                    [
                      "indie catala"
                    ],
                    [
                      "indie dream pop"
                    ],
                    [
                      "indie electronica"
                    ],
                    [
                      "indie electropop"
                    ],
                    [
                      "indie folk"
                    ],
                    [
                      "indie fuzzpop"
                    ],
                    [
                      "indie game soundtrack"
                    ],
                    [
                      "indie garage rock"
                    ],
                    [
                      "indie hip hop"
                    ],
                    [
                      "indie jazz"
                    ],
                    [
                      "indie pop"
                    ],
                    [
                      "indie pop rap"
                    ],
                    [
                      "indie poptimism"
                    ],
                    [
                      "indie psych-pop"
                    ],
                    [
                      "indie punk"
                    ],
                    [
                      "indie quebecois"
                    ],
                    [
                      "indie r&b"
                    ],
                    [
                      "indie rock"
                    ],
                    [
                      "indie rockism"
                    ],
                    [
                      "indie shoegaze"
                    ],
                    [
                      "indie singer-songwriter"
                    ],
                    [
                      "indie soul"
                    ],
                    [
                      "indie surf"
                    ],
                    [
                      "indie tabasqueno"
                    ],
                    [
                      "indie veneto"
                    ],
                    [
                      "indiecoustica"
                    ],
                    [
                      "indietronica"
                    ],
                    [
                      "indonesian alternative rock"
                    ],
                    [
                      "indonesian edm"
                    ],
                    [
                      "indonesian folk"
                    ],
                    [
                      "indonesian hip hop"
                    ],
                    [
                      "indonesian indie"
                    ],
                    [
                      "indonesian pop"
                    ],
                    [
                      "indonesian r&b"
                    ],
                    [
                      "indonesian rock"
                    ],
                    [
                      "industrial"
                    ],
                    [
                      "industrial black metal"
                    ],
                    [
                      "industrial hardcore"
                    ],
                    [
                      "industrial hip hop"
                    ],
                    [
                      "industrial metal"
                    ],
                    [
                      "industrial rock"
                    ],
                    [
                      "industrial techno"
                    ],
                    [
                      "indy indie"
                    ],
                    [
                      "instrumental acoustic guitar"
                    ],
                    [
                      "instrumental bluegrass"
                    ],
                    [
                      "instrumental funk"
                    ],
                    [
                      "instrumental grime"
                    ],
                    [
                      "instrumental post-rock"
                    ],
                    [
                      "instrumental progressive metal"
                    ],
                    [
                      "instrumental rock"
                    ],
                    [
                      "instrumental soul"
                    ],
                    [
                      "instrumental stoner rock"
                    ],
                    [
                      "instrumental surf"
                    ],
                    [
                      "intelligent dance music"
                    ],
                    [
                      "inuit traditional"
                    ],
                    [
                      "iowa indie"
                    ],
                    [
                      "irish ballad"
                    ],
                    [
                      "irish banjo"
                    ],
                    [
                      "irish classical"
                    ],
                    [
                      "irish country"
                    ],
                    [
                      "irish dance"
                    ],
                    [
                      "irish electronic"
                    ],
                    [
                      "irish experimental electronic"
                    ],
                    [
                      "irish fiddle"
                    ],
                    [
                      "irish flute"
                    ],
                    [
                      "irish folk"
                    ],
                    [
                      "irish hip hop"
                    ],
                    [
                      "irish indie"
                    ],
                    [
                      "irish pop"
                    ],
                    [
                      "irish pub song"
                    ],
                    [
                      "irish rock"
                    ],
                    [
                      "irish singer-songwriter"
                    ],
                    [
                      "irish techno"
                    ],
                    [
                      "iskelma"
                    ],
                    [
                      "islamic recitation"
                    ],
                    [
                      "israeli classical"
                    ],
                    [
                      "israeli classical piano"
                    ],
                    [
                      "israeli folk"
                    ],
                    [
                      "israeli hip hop"
                    ],
                    [
                      "israeli mediterranean"
                    ],
                    [
                      "israeli pop"
                    ],
                    [
                      "israeli rock"
                    ],
                    [
                      "israeli singer-songwriter"
                    ],
                    [
                      "israeli techno"
                    ],
                    [
                      "italian adult pop"
                    ],
                    [
                      "italian alternative"
                    ],
                    [
                      "italian baritone"
                    ],
                    [
                      "italian baroque"
                    ],
                    [
                      "italian baroque ensemble"
                    ],
                    [
                      "italian bass"
                    ],
                    [
                      "italian black metal"
                    ],
                    [
                      "italian blues"
                    ],
                    [
                      "italian classical guitar"
                    ],
                    [
                      "italian classical piano"
                    ],
                    [
                      "italian contemporary classical"
                    ],
                    [
                      "italian contemporary jazz"
                    ],
                    [
                      "italian death metal"
                    ],
                    [
                      "italian disco"
                    ],
                    [
                      "italian electronica"
                    ],
                    [
                      "italian gothic"
                    ],
                    [
                      "italian gothic metal"
                    ],
                    [
                      "italian hip hop"
                    ],
                    [
                      "italian indie pop"
                    ],
                    [
                      "italian jazz"
                    ],
                    [
                      "italian library music"
                    ],
                    [
                      "italian mandolin"
                    ],
                    [
                      "italian metal"
                    ],
                    [
                      "italian mezzo-soprano"
                    ],
                    [
                      "italian modern prog"
                    ],
                    [
                      "italian new wave"
                    ],
                    [
                      "italian opera"
                    ],
                    [
                      "italian orchestra"
                    ],
                    [
                      "italian pop"
                    ],
                    [
                      "italian pop rock"
                    ],
                    [
                      "italian post punk"
                    ],
                    [
                      "italian power metal"
                    ],
                    [
                      "italian progressive metal"
                    ],
                    [
                      "italian progressive rock"
                    ],
                    [
                      "italian punk"
                    ],
                    [
                      "italian renaissance"
                    ],
                    [
                      "italian romanticism"
                    ],
                    [
                      "italian ska"
                    ],
                    [
                      "italian soprano"
                    ],
                    [
                      "italian soundtrack"
                    ],
                    [
                      "italian tech house"
                    ],
                    [
                      "italian techno"
                    ],
                    [
                      "italian tenor"
                    ],
                    [
                      "italian trance"
                    ],
                    [
                      "italian violin"
                    ],
                    [
                      "italo dance"
                    ],
                    [
                      "italo house"
                    ],
                    [
                      "j-acoustic"
                    ],
                    [
                      "j-ambient"
                    ],
                    [
                      "j-core"
                    ],
                    [
                      "j-dance"
                    ],
                    [
                      "j-division"
                    ],
                    [
                      "j-idol"
                    ],
                    [
                      "j-indie"
                    ],
                    [
                      "j-metal"
                    ],
                    [
                      "j-pixie"
                    ],
                    [
                      "j-pop"
                    ],
                    [
                      "j-pop boy group"
                    ],
                    [
                      "j-pop girl group"
                    ],
                    [
                      "j-poprock"
                    ],
                    [
                      "j-punk"
                    ],
                    [
                      "j-rap"
                    ],
                    [
                      "j-reggae"
                    ],
                    [
                      "j-rock"
                    ],
                    [
                      "jacksonville indie"
                    ],
                    [
                      "jam band"
                    ],
                    [
                      "jamgrass"
                    ],
                    [
                      "jangle pop"
                    ],
                    [
                      "japanese alternative pop"
                    ],
                    [
                      "japanese alternative rock"
                    ],
                    [
                      "japanese chillhop"
                    ],
                    [
                      "japanese classical"
                    ],
                    [
                      "japanese classical performance"
                    ],
                    [
                      "japanese classical piano"
                    ],
                    [
                      "japanese concert band"
                    ],
                    [
                      "japanese contemporary classical"
                    ],
                    [
                      "japanese dream pop"
                    ],
                    [
                      "japanese electronic"
                    ],
                    [
                      "japanese electropop"
                    ],
                    [
                      "japanese emo"
                    ],
                    [
                      "japanese experimental"
                    ],
                    [
                      "japanese folk"
                    ],
                    [
                      "japanese garage rock"
                    ],
                    [
                      "japanese girl punk"
                    ],
                    [
                      "japanese heavy metal"
                    ],
                    [
                      "japanese house"
                    ],
                    [
                      "japanese idm"
                    ],
                    [
                      "japanese indie pop"
                    ],
                    [
                      "japanese indie rock"
                    ],
                    [
                      "japanese instrumental"
                    ],
                    [
                      "japanese jazz"
                    ],
                    [
                      "japanese jazz fusion"
                    ],
                    [
                      "japanese jazztronica"
                    ],
                    [
                      "japanese metalcore"
                    ],
                    [
                      "japanese new wave"
                    ],
                    [
                      "japanese old school hip hop"
                    ],
                    [
                      "japanese orchestra"
                    ],
                    [
                      "japanese piano"
                    ],
                    [
                      "japanese pop punk"
                    ],
                    [
                      "japanese post-hardcore"
                    ],
                    [
                      "japanese power metal"
                    ],
                    [
                      "japanese prog"
                    ],
                    [
                      "japanese psychedelic"
                    ],
                    [
                      "japanese punk rock"
                    ],
                    [
                      "japanese r&b"
                    ],
                    [
                      "japanese shoegaze"
                    ],
                    [
                      "japanese singer-songwriter"
                    ],
                    [
                      "japanese soundtrack"
                    ],
                    [
                      "japanese techno"
                    ],
                    [
                      "japanese teen pop"
                    ],
                    [
                      "japanese traditional"
                    ],
                    [
                      "japanese vgm"
                    ],
                    [
                      "japanese vocal jazz"
                    ],
                    [
                      "japanese vtuber"
                    ],
                    [
                      "jawaiian"
                    ],
                    [
                      "jazz"
                    ],
                    [
                      "jazz accordion"
                    ],
                    [
                      "jazz blues"
                    ],
                    [
                      "jazz boom bap"
                    ],
                    [
                      "jazz brass"
                    ],
                    [
                      "jazz chileno"
                    ],
                    [
                      "jazz clarinet"
                    ],
                    [
                      "jazz colombiano"
                    ],
                    [
                      "jazz cubano"
                    ],
                    [
                      "jazz double bass"
                    ],
                    [
                      "jazz drums"
                    ],
                    [
                      "jazz flute"
                    ],
                    [
                      "jazz funk"
                    ],
                    [
                      "jazz fusion"
                    ],
                    [
                      "jazz guitar"
                    ],
                    [
                      "jazz harp"
                    ],
                    [
                      "jazz metal"
                    ],
                    [
                      "jazz mexicano"
                    ],
                    [
                      "jazz orchestra"
                    ],
                    [
                      "jazz organ"
                    ],
                    [
                      "jazz piano"
                    ],
                    [
                      "jazz pop"
                    ],
                    [
                      "jazz quartet"
                    ],
                    [
                      "jazz rap"
                    ],
                    [
                      "jazz rock"
                    ],
                    [
                      "jazz saxophone"
                    ],
                    [
                      "jazz trio"
                    ],
                    [
                      "jazz trombone"
                    ],
                    [
                      "jazz trumpet"
                    ],
                    [
                      "jazz tuba"
                    ],
                    [
                      "jazz venezolano"
                    ],
                    [
                      "jazz vibraphone"
                    ],
                    [
                      "jazz violin"
                    ],
                    [
                      "jazztronica"
                    ],
                    [
                      "jewish a capella"
                    ],
                    [
                      "jewish cantorial"
                    ],
                    [
                      "jewish hip hop"
                    ],
                    [
                      "jig and reel"
                    ],
                    [
                      "jordanian pop"
                    ],
                    [
                      "joropo"
                    ],
                    [
                      "jovem guarda"
                    ],
                    [
                      "judaica"
                    ],
                    [
                      "jug band"
                    ],
                    [
                      "juju"
                    ],
                    [
                      "jump blues"
                    ],
                    [
                      "jump up"
                    ],
                    [
                      "jumpstyle"
                    ],
                    [
                      "jumptek"
                    ],
                    [
                      "jungle"
                    ],
                    [
                      "k-indie"
                    ],
                    [
                      "k-pop"
                    ],
                    [
                      "k-pop boy group"
                    ],
                    [
                      "k-pop girl group"
                    ],
                    [
                      "k-rap"
                    ],
                    [
                      "kabarett"
                    ],
                    [
                      "kabyle"
                    ],
                    [
                      "kaneka"
                    ],
                    [
                      "kannada bhava geethe"
                    ],
                    [
                      "kansas city hip hop"
                    ],
                    [
                      "karadeniz halk muzigi"
                    ],
                    [
                      "karaoke"
                    ],
                    [
                      "kashmiri pop"
                    ],
                    [
                      "kawaii future bass"
                    ],
                    [
                      "kawaii metal"
                    ],
                    [
                      "kayokyoku"
                    ],
                    [
                      "kazakh pop"
                    ],
                    [
                      "kc indie"
                    ],
                    [
                      "kent indie"
                    ],
                    [
                      "kentucky hip hop"
                    ],
                    [
                      "kentucky indie"
                    ],
                    [
                      "kentucky metal"
                    ],
                    [
                      "kentucky mountain folk"
                    ],
                    [
                      "kentucky punk"
                    ],
                    [
                      "kentucky roots"
                    ],
                    [
                      "keroncong"
                    ],
                    [
                      "khaleeji iraqi"
                    ],
                    [
                      "khmer"
                    ],
                    [
                      "kids dance party"
                    ],
                    [
                      "kinderchor"
                    ],
                    [
                      "kindermusik"
                    ],
                    [
                      "kindie rock"
                    ],
                    [
                      "kingston on indie"
                    ],
                    [
                      "kirtan"
                    ],
                    [
                      "kiwi rock"
                    ],
                    [
                      "kizomba antigas"
                    ],
                    [
                      "kleine hoerspiel"
                    ],
                    [
                      "klezmer"
                    ],
                    [
                      "knoxville indie"
                    ],
                    [
                      "kodomo no ongaku"
                    ],
                    [
                      "kolsche karneval"
                    ],
                    [
                      "komedi"
                    ],
                    [
                      "kompa"
                    ],
                    [
                      "kora"
                    ],
                    [
                      "korean city pop"
                    ],
                    [
                      "korean classical performance"
                    ],
                    [
                      "korean classical piano"
                    ],
                    [
                      "korean electropop"
                    ],
                    [
                      "korean indie rock"
                    ],
                    [
                      "korean mask singer"
                    ],
                    [
                      "korean ost"
                    ],
                    [
                      "korean pop"
                    ],
                    [
                      "korean r&b"
                    ],
                    [
                      "korean trap"
                    ],
                    [
                      "koto"
                    ],
                    [
                      "krautrock"
                    ],
                    [
                      "kundiman"
                    ],
                    [
                      "la indie"
                    ],
                    [
                      "la pop"
                    ],
                    [
                      "laboratorio"
                    ],
                    [
                      "lafayette indie"
                    ],
                    [
                      "laiko"
                    ],
                    [
                      "lancaster pa indie"
                    ],
                    [
                      "late romantic era"
                    ],
                    [
                      "latin"
                    ],
                    [
                      "latin afrobeat"
                    ],
                    [
                      "latin alternative"
                    ],
                    [
                      "latin american classical piano"
                    ],
                    [
                      "latin arena pop"
                    ],
                    [
                      "latin christian"
                    ],
                    [
                      "latin classical"
                    ],
                    [
                      "latin funk"
                    ],
                    [
                      "latin hip hop"
                    ],
                    [
                      "latin house"
                    ],
                    [
                      "latin jazz"
                    ],
                    [
                      "latin metal"
                    ],
                    [
                      "latin pop"
                    ],
                    [
                      "latin rock"
                    ],
                    [
                      "latin ska"
                    ],
                    [
                      "latin soundtrack"
                    ],
                    [
                      "latin talent show"
                    ],
                    [
                      "latin tech house"
                    ],
                    [
                      "latin viral pop"
                    ],
                    [
                      "latin worship"
                    ],
                    [
                      "latino comedy"
                    ],
                    [
                      "latintronica"
                    ],
                    [
                      "latinx alternative"
                    ],
                    [
                      "latvian metal"
                    ],
                    [
                      "latvian pop"
                    ],
                    [
                      "lds"
                    ],
                    [
                      "lds youth"
                    ],
                    [
                      "lebanese indie"
                    ],
                    [
                      "lebanese pop"
                    ],
                    [
                      "leicester indie"
                    ],
                    [
                      "levenslied"
                    ],
                    [
                      "lexington ky indie"
                    ],
                    [
                      "lgbtq+ hip hop"
                    ],
                    [
                      "library music"
                    ],
                    [
                      "libyan pop"
                    ],
                    [
                      "liechtenstein"
                    ],
                    [
                      "liedermacher"
                    ],
                    [
                      "light music"
                    ],
                    [
                      "lilith"
                    ],
                    [
                      "liquid funk"
                    ],
                    [
                      "lithuanian electronic"
                    ],
                    [
                      "lithuanian folk"
                    ],
                    [
                      "liverpool indie"
                    ],
                    [
                      "livetronica"
                    ],
                    [
                      "lldm"
                    ],
                    [
                      "lo-fi"
                    ],
                    [
                      "lo-fi beats"
                    ],
                    [
                      "lo-fi chill"
                    ],
                    [
                      "lo-fi cover"
                    ],
                    [
                      "lo-fi emo"
                    ],
                    [
                      "lo-fi house"
                    ],
                    [
                      "lo-fi indie"
                    ],
                    [
                      "lo-fi vgm"
                    ],
                    [
                      "london rap"
                    ],
                    [
                      "louisiana blues"
                    ],
                    [
                      "louisiana metal"
                    ],
                    [
                      "louisville indie"
                    ],
                    [
                      "louisville underground"
                    ],
                    [
                      "lounge"
                    ],
                    [
                      "lounge house"
                    ],
                    [
                      "lovers rock"
                    ],
                    [
                      "lullaby"
                    ],
                    [
                      "lund indie"
                    ],
                    [
                      "lute"
                    ],
                    [
                      "macedonian electronic"
                    ],
                    [
                      "macedonian folk"
                    ],
                    [
                      "macedonian pop"
                    ],
                    [
                      "madchester"
                    ],
                    [
                      "madrigal"
                    ],
                    [
                      "magyar alternative"
                    ],
                    [
                      "maine hip hop"
                    ],
                    [
                      "maine indie"
                    ],
                    [
                      "mainland chinese pop"
                    ],
                    [
                      "makossa"
                    ],
                    [
                      "malaysian hip hop"
                    ],
                    [
                      "malaysian mandopop"
                    ],
                    [
                      "malaysian pop"
                    ],
                    [
                      "malian blues"
                    ],
                    [
                      "mallet"
                    ],
                    [
                      "mambo"
                    ],
                    [
                      "manchester hip hop"
                    ],
                    [
                      "mande pop"
                    ],
                    [
                      "mandolin"
                    ],
                    [
                      "mandopop"
                    ],
                    [
                      "manguebeat"
                    ],
                    [
                      "manila sound"
                    ],
                    [
                      "manitoba indie"
                    ],
                    [
                      "mantra"
                    ],
                    [
                      "marathi pop"
                    ],
                    [
                      "marathi traditional"
                    ],
                    [
                      "marching band"
                    ],
                    [
                      "mariachi"
                    ],
                    [
                      "mariachi cristiano"
                    ],
                    [
                      "marimba orquesta"
                    ],
                    [
                      "martial industrial"
                    ],
                    [
                      "mashup"
                    ],
                    [
                      "math pop"
                    ],
                    [
                      "math rock"
                    ],
                    [
                      "mathcore"
                    ],
                    [
                      "mathgrind"
                    ],
                    [
                      "mbalax"
                    ],
                    [
                      "medieval"
                    ],
                    [
                      "medieval ensemble"
                    ],
                    [
                      "medieval folk"
                    ],
                    [
                      "medieval rock"
                    ],
                    [
                      "meditation"
                    ],
                    [
                      "medway sound"
                    ],
                    [
                      "melancholia"
                    ],
                    [
                      "melbourne bounce"
                    ],
                    [
                      "melbourne bounce international"
                    ],
                    [
                      "melbourne indie"
                    ],
                    [
                      "mellow gold"
                    ],
                    [
                      "melodic death metal"
                    ],
                    [
                      "melodic deathcore"
                    ],
                    [
                      "melodic dubstep"
                    ],
                    [
                      "melodic groove metal"
                    ],
                    [
                      "melodic hard rock"
                    ],
                    [
                      "melodic hardcore"
                    ],
                    [
                      "melodic metal"
                    ],
                    [
                      "melodic metalcore"
                    ],
                    [
                      "melodic rap"
                    ],
                    [
                      "melodic techno"
                    ],
                    [
                      "melodic thrash"
                    ],
                    [
                      "melodipop"
                    ],
                    [
                      "meme rap"
                    ],
                    [
                      "memphis americana"
                    ],
                    [
                      "memphis blues"
                    ],
                    [
                      "memphis hip hop"
                    ],
                    [
                      "memphis soul"
                    ],
                    [
                      "mento"
                    ],
                    [
                      "merengue"
                    ],
                    [
                      "merengue tipico"
                    ],
                    [
                      "merseybeat"
                    ],
                    [
                      "messianic praise"
                    ],
                    [
                      "metal"
                    ],
                    [
                      "metal catala"
                    ],
                    [
                      "metal catarinense"
                    ],
                    [
                      "metal gotico"
                    ],
                    [
                      "metal guitar"
                    ],
                    [
                      "metal mineiro"
                    ],
                    [
                      "metalcore"
                    ],
                    [
                      "metallic hardcore"
                    ],
                    [
                      "metropopolis"
                    ],
                    [
                      "mexican classic rock"
                    ],
                    [
                      "mexican classical"
                    ],
                    [
                      "mexican edm"
                    ],
                    [
                      "mexican hip hop"
                    ],
                    [
                      "mexican indie"
                    ],
                    [
                      "mexican metal"
                    ],
                    [
                      "mexican pop"
                    ],
                    [
                      "mexican pop punk"
                    ],
                    [
                      "mexican rock"
                    ],
                    [
                      "mexican rock-and-roll"
                    ],
                    [
                      "mexican tech house"
                    ],
                    [
                      "mexican techno"
                    ],
                    [
                      "mexican traditional"
                    ],
                    [
                      "miami bass"
                    ],
                    [
                      "miami hip hop"
                    ],
                    [
                      "miami indie"
                    ],
                    [
                      "miami metal"
                    ],
                    [
                      "michigan indie"
                    ],
                    [
                      "microhouse"
                    ],
                    [
                      "microtonal"
                    ],
                    [
                      "middle earth"
                    ],
                    [
                      "middle eastern traditional"
                    ],
                    [
                      "midwest americana"
                    ],
                    [
                      "midwest emo"
                    ],
                    [
                      "military cadence"
                    ],
                    [
                      "military rap"
                    ],
                    [
                      "milwaukee indie"
                    ],
                    [
                      "mindfulness"
                    ],
                    [
                      "minecraft"
                    ],
                    [
                      "minimal dub"
                    ],
                    [
                      "minimal dubstep"
                    ],
                    [
                      "minimal melodic techno"
                    ],
                    [
                      "minimal tech house"
                    ],
                    [
                      "minimal techno"
                    ],
                    [
                      "minimal wave"
                    ],
                    [
                      "minimalism"
                    ],
                    [
                      "minneapolis indie"
                    ],
                    [
                      "minneapolis metal"
                    ],
                    [
                      "minneapolis punk"
                    ],
                    [
                      "minneapolis sound"
                    ],
                    [
                      "minnesota hip hop"
                    ],
                    [
                      "mississippi hip hop"
                    ],
                    [
                      "mississippi indie"
                    ],
                    [
                      "mizrahi"
                    ],
                    [
                      "mluvene slovo"
                    ],
                    [
                      "mod revival"
                    ],
                    [
                      "modern alternative pop"
                    ],
                    [
                      "modern alternative rock"
                    ],
                    [
                      "modern big band"
                    ],
                    [
                      "modern blues"
                    ],
                    [
                      "modern blues rock"
                    ],
                    [
                      "modern bollywood"
                    ],
                    [
                      "modern cello"
                    ],
                    [
                      "modern country rock"
                    ],
                    [
                      "modern dream pop"
                    ],
                    [
                      "modern folk rock"
                    ],
                    [
                      "modern funk"
                    ],
                    [
                      "modern hard rock"
                    ],
                    [
                      "modern indie pop"
                    ],
                    [
                      "modern jazz piano"
                    ],
                    [
                      "modern jazz trio"
                    ],
                    [
                      "modern old-time"
                    ],
                    [
                      "modern performance"
                    ],
                    [
                      "modern power pop"
                    ],
                    [
                      "modern psychedelic folk"
                    ],
                    [
                      "modern reggae"
                    ],
                    [
                      "modern rock"
                    ],
                    [
                      "modern salsa"
                    ],
                    [
                      "modern ska punk"
                    ],
                    [
                      "modern southern rock"
                    ],
                    [
                      "modern string quartet"
                    ],
                    [
                      "modern swing"
                    ],
                    [
                      "modern uplift"
                    ],
                    [
                      "modular synth"
                    ],
                    [
                      "modular techno"
                    ],
                    [
                      "moldovan pop"
                    ],
                    [
                      "mollywood"
                    ],
                    [
                      "mongolian hip hop"
                    ],
                    [
                      "mongolian pop"
                    ],
                    [
                      "monterrey indie"
                    ],
                    [
                      "montreal indie"
                    ],
                    [
                      "moog"
                    ],
                    [
                      "moombahton"
                    ],
                    [
                      "moravian folk"
                    ],
                    [
                      "morna"
                    ],
                    [
                      "moroccan pop"
                    ],
                    [
                      "motivation"
                    ],
                    [
                      "motown"
                    ],
                    [
                      "mountain dulcimer"
                    ],
                    [
                      "movie tunes"
                    ],
                    [
                      "mpb"
                    ],
                    [
                      "mumbai indie"
                    ],
                    [
                      "munich electronic"
                    ],
                    [
                      "music box"
                    ],
                    [
                      "music hall"
                    ],
                    [
                      "musica afroperuana"
                    ],
                    [
                      "musica alagoana"
                    ],
                    [
                      "musica andina"
                    ],
                    [
                      "musica andina colombiana"
                    ],
                    [
                      "musica andorra"
                    ],
                    [
                      "musica antigua"
                    ],
                    [
                      "musica aragonesa"
                    ],
                    [
                      "musica ayacuchana"
                    ],
                    [
                      "musica canaria"
                    ],
                    [
                      "musica catalana"
                    ],
                    [
                      "musica costarricense"
                    ],
                    [
                      "musica costena"
                    ],
                    [
                      "musica cristiana guatemalteca"
                    ],
                    [
                      "musica de fondo"
                    ],
                    [
                      "musica hondurena"
                    ],
                    [
                      "musica indigena brasileira"
                    ],
                    [
                      "musica infantil"
                    ],
                    [
                      "musica jibara"
                    ],
                    [
                      "musica juiz-forana"
                    ],
                    [
                      "musica llanera"
                    ],
                    [
                      "musica nicaraguense"
                    ],
                    [
                      "musica para criancas"
                    ],
                    [
                      "musica para ninos"
                    ],
                    [
                      "musica paraibana"
                    ],
                    [
                      "musica pernambucana"
                    ],
                    [
                      "musica piemonteisa"
                    ],
                    [
                      "musica popular colombiana"
                    ],
                    [
                      "musica popular mineira"
                    ],
                    [
                      "musica popular paraense"
                    ],
                    [
                      "musica potosina"
                    ],
                    [
                      "musica prehispanica"
                    ],
                    [
                      "musica sarda"
                    ],
                    [
                      "musica tradicional cubana"
                    ],
                    [
                      "musica tropical guatemalteca"
                    ],
                    [
                      "musica valenciana"
                    ],
                    [
                      "musica yucateca"
                    ],
                    [
                      "musical advocacy"
                    ],
                    [
                      "musikkorps"
                    ],
                    [
                      "musique ancienne"
                    ],
                    [
                      "musique concrete"
                    ],
                    [
                      "musique pour enfant quebecois"
                    ],
                    [
                      "musique pour enfants"
                    ],
                    [
                      "muzica crestina"
                    ],
                    [
                      "muzica populara"
                    ],
                    [
                      "muziek voor kinderen"
                    ],
                    [
                      "muzika l'yeladim"
                    ],
                    [
                      "naija worship"
                    ],
                    [
                      "nantes indie"
                    ],
                    [
                      "narodna muzika"
                    ],
                    [
                      "nashville americana"
                    ],
                    [
                      "nashville hip hop"
                    ],
                    [
                      "nashville indie"
                    ],
                    [
                      "nashville singer-songwriter"
                    ],
                    [
                      "nashville sound"
                    ],
                    [
                      "native american"
                    ],
                    [
                      "native american contemporary"
                    ],
                    [
                      "native american flute"
                    ],
                    [
                      "native american spiritual"
                    ],
                    [
                      "navajo"
                    ],
                    [
                      "nederlandse hardstyle"
                    ],
                    [
                      "nederpop"
                    ],
                    [
                      "neo classical metal"
                    ],
                    [
                      "neo honky tonk"
                    ],
                    [
                      "neo kyma"
                    ],
                    [
                      "neo mellow"
                    ],
                    [
                      "neo r&b"
                    ],
                    [
                      "neo soul"
                    ],
                    [
                      "neo-classical"
                    ],
                    [
                      "neo-crust"
                    ],
                    [
                      "neo-kraut"
                    ],
                    [
                      "neo-pagan"
                    ],
                    [
                      "neo-progressive"
                    ],
                    [
                      "neo-psychedelic"
                    ],
                    [
                      "neo-rockabilly"
                    ],
                    [
                      "neo-singer-songwriter"
                    ],
                    [
                      "neo-synthpop"
                    ],
                    [
                      "neo-trad metal"
                    ],
                    [
                      "neo-traditional bluegrass"
                    ],
                    [
                      "neo-traditional country"
                    ],
                    [
                      "neoclassical darkwave"
                    ],
                    [
                      "neoclassicism"
                    ],
                    [
                      "neofolk"
                    ],
                    [
                      "neon pop punk"
                    ],
                    [
                      "nepali indie"
                    ],
                    [
                      "nepali pop"
                    ],
                    [
                      "nerdcore"
                    ],
                    [
                      "neue deutsche harte"
                    ],
                    [
                      "neue deutsche todeskunst"
                    ],
                    [
                      "neue deutsche welle"
                    ],
                    [
                      "neurofunk"
                    ],
                    [
                      "new age"
                    ],
                    [
                      "new age piano"
                    ],
                    [
                      "new americana"
                    ],
                    [
                      "new beat"
                    ],
                    [
                      "new comedy"
                    ],
                    [
                      "new england americana"
                    ],
                    [
                      "new england emo"
                    ],
                    [
                      "new england metal"
                    ],
                    [
                      "new french touch"
                    ],
                    [
                      "new isolationism"
                    ],
                    [
                      "new jack swing"
                    ],
                    [
                      "new jersey hardcore"
                    ],
                    [
                      "new jersey indie"
                    ],
                    [
                      "new jersey punk"
                    ],
                    [
                      "new jersey rap"
                    ],
                    [
                      "new mexico music"
                    ],
                    [
                      "new orleans blues"
                    ],
                    [
                      "new orleans funk"
                    ],
                    [
                      "new orleans indie"
                    ],
                    [
                      "new orleans jazz"
                    ],
                    [
                      "new orleans rap"
                    ],
                    [
                      "new rave"
                    ],
                    [
                      "new romantic"
                    ],
                    [
                      "new tribe"
                    ],
                    [
                      "new wave"
                    ],
                    [
                      "new wave of thrash metal"
                    ],
                    [
                      "new wave pop"
                    ],
                    [
                      "new weird america"
                    ],
                    [
                      "new york death metal"
                    ],
                    [
                      "new york drill"
                    ],
                    [
                      "new zealand classical"
                    ],
                    [
                      "newcastle nsw indie"
                    ],
                    [
                      "nigerian hip hop"
                    ],
                    [
                      "nigerian pop"
                    ],
                    [
                      "nightcore"
                    ],
                    [
                      "nightrun"
                    ],
                    [
                      "ninja"
                    ],
                    [
                      "nintendocore"
                    ],
                    [
                      "nisiotika"
                    ],
                    [
                      "nl folk"
                    ],
                    [
                      "no wave"
                    ],
                    [
                      "noise pop"
                    ],
                    [
                      "noise punk"
                    ],
                    [
                      "noise rock"
                    ],
                    [
                      "nordic classical piano"
                    ],
                    [
                      "nordic contemporary classical"
                    ],
                    [
                      "nordic folk"
                    ],
                    [
                      "nordic folk metal"
                    ],
                    [
                      "nordic house"
                    ],
                    [
                      "nordic orchestra"
                    ],
                    [
                      "nordic post-rock"
                    ],
                    [
                      "nordic soundtrack"
                    ],
                    [
                      "norman ok indie"
                    ],
                    [
                      "norsk lovsang"
                    ],
                    [
                      "norteno"
                    ],
                    [
                      "norteno-sax"
                    ],
                    [
                      "north carolina emo"
                    ],
                    [
                      "north carolina hip hop"
                    ],
                    [
                      "north carolina indie"
                    ],
                    [
                      "north carolina metal"
                    ],
                    [
                      "north carolina roots"
                    ],
                    [
                      "north dakota indie"
                    ],
                    [
                      "north east england indie"
                    ],
                    [
                      "northern irish indie"
                    ],
                    [
                      "northern irish punk"
                    ],
                    [
                      "northern soul"
                    ],
                    [
                      "northumbrian folk"
                    ],
                    [
                      "norwegian black metal"
                    ],
                    [
                      "norwegian choir"
                    ],
                    [
                      "norwegian classical"
                    ],
                    [
                      "norwegian contemporary jazz"
                    ],
                    [
                      "norwegian death metal"
                    ],
                    [
                      "norwegian experimental"
                    ],
                    [
                      "norwegian hip hop"
                    ],
                    [
                      "norwegian indie"
                    ],
                    [
                      "norwegian jazz"
                    ],
                    [
                      "norwegian metal"
                    ],
                    [
                      "norwegian pop"
                    ],
                    [
                      "norwegian pop rap"
                    ],
                    [
                      "norwegian punk rock"
                    ],
                    [
                      "norwegian rock"
                    ],
                    [
                      "norwegian singer-songwriter"
                    ],
                    [
                      "norwegian space disco"
                    ],
                    [
                      "nottingham indie"
                    ],
                    [
                      "nouvelle chanson francaise"
                    ],
                    [
                      "nova canco"
                    ],
                    [
                      "nova mpb"
                    ],
                    [
                      "nova musica pernambucana"
                    ],
                    [
                      "novelty"
                    ],
                    [
                      "nu disco"
                    ],
                    [
                      "nu gaze"
                    ],
                    [
                      "nu jazz"
                    ],
                    [
                      "nu metal"
                    ],
                    [
                      "nu skool breaks"
                    ],
                    [
                      "nu-cumbia"
                    ],
                    [
                      "nu-metalcore"
                    ],
                    [
                      "nubian traditional"
                    ],
                    [
                      "nueva cancion"
                    ],
                    [
                      "nueva ola chilena"
                    ],
                    [
                      "nueva ola peruana"
                    ],
                    [
                      "nuevo flamenco"
                    ],
                    [
                      "nuevo folklore mexicano"
                    ],
                    [
                      "nuevo regional mexicano"
                    ],
                    [
                      "nuevo tango"
                    ],
                    [
                      "nursery"
                    ],
                    [
                      "nwobhm"
                    ],
                    [
                      "nwocr"
                    ],
                    [
                      "nwothm"
                    ],
                    [
                      "ny roots"
                    ],
                    [
                      "nyc pop"
                    ],
                    [
                      "nyc rap"
                    ],
                    [
                      "nyhc"
                    ],
                    [
                      "nz hip hop"
                    ],
                    [
                      "nz indie"
                    ],
                    [
                      "nz pop"
                    ],
                    [
                      "nz reggae"
                    ],
                    [
                      "nz singer-songwriter"
                    ],
                    [
                      "oakland hip hop"
                    ],
                    [
                      "oakland indie"
                    ],
                    [
                      "oc indie"
                    ],
                    [
                      "oc rap"
                    ],
                    [
                      "oceania soundtrack"
                    ],
                    [
                      "ohio hip hop"
                    ],
                    [
                      "ohio indie"
                    ],
                    [
                      "oi"
                    ],
                    [
                      "okc indie"
                    ],
                    [
                      "okinawan pop"
                    ],
                    [
                      "oklahoma country"
                    ],
                    [
                      "oktoberfest"
                    ],
                    [
                      "old school dancehall"
                    ],
                    [
                      "old school hard trance"
                    ],
                    [
                      "old school hip hop"
                    ],
                    [
                      "old school rap francais"
                    ],
                    [
                      "old school thrash"
                    ],
                    [
                      "old school uk hip hop"
                    ],
                    [
                      "old west"
                    ],
                    [
                      "old-time"
                    ],
                    [
                      "old-time fiddle"
                    ],
                    [
                      "olympia wa indie"
                    ],
                    [
                      "omaha indie"
                    ],
                    [
                      "one-person band"
                    ],
                    [
                      "ontario indie"
                    ],
                    [
                      "opera"
                    ],
                    [
                      "opera chorus"
                    ],
                    [
                      "opera metal"
                    ],
                    [
                      "operatic pop"
                    ],
                    [
                      "operetta"
                    ],
                    [
                      "opm"
                    ],
                    [
                      "oratory"
                    ],
                    [
                      "orchestra"
                    ],
                    [
                      "orchestral performance"
                    ],
                    [
                      "organic ambient"
                    ],
                    [
                      "organic electronic"
                    ],
                    [
                      "organic house"
                    ],
                    [
                      "orgcore"
                    ],
                    [
                      "oriental classical"
                    ],
                    [
                      "orkney and shetland folk"
                    ],
                    [
                      "orlando indie"
                    ],
                    [
                      "orquesta tipica"
                    ],
                    [
                      "orthodox chant"
                    ],
                    [
                      "otacore"
                    ],
                    [
                      "oth indie"
                    ],
                    [
                      "ottawa rap"
                    ],
                    [
                      "oud"
                    ],
                    [
                      "outer hip hop"
                    ],
                    [
                      "outlaw country"
                    ],
                    [
                      "outsider"
                    ],
                    [
                      "outsider house"
                    ],
                    [
                      "oxford choir"
                    ],
                    [
                      "oxford indie"
                    ],
                    [
                      "p funk"
                    ],
                    [
                      "pagan black metal"
                    ],
                    [
                      "pagode"
                    ],
                    [
                      "pagode baiano"
                    ],
                    [
                      "paisley underground"
                    ],
                    [
                      "pakistani folk"
                    ],
                    [
                      "pakistani hip hop"
                    ],
                    [
                      "pakistani indie"
                    ],
                    [
                      "pakistani pop"
                    ],
                    [
                      "palm desert scene"
                    ],
                    [
                      "panamanian pop"
                    ],
                    [
                      "panpipe"
                    ],
                    [
                      "papuri"
                    ],
                    [
                      "parody"
                    ],
                    [
                      "partido alto"
                    ],
                    [
                      "partyschlager"
                    ],
                    [
                      "pei indie"
                    ],
                    [
                      "permanent wave"
                    ],
                    [
                      "perreo"
                    ],
                    [
                      "persian hip hop"
                    ],
                    [
                      "persian pop"
                    ],
                    [
                      "persian traditional"
                    ],
                    [
                      "perth indie"
                    ],
                    [
                      "peruvian hip hop"
                    ],
                    [
                      "peruvian rock"
                    ],
                    [
                      "pet calming"
                    ],
                    [
                      "philly indie"
                    ],
                    [
                      "philly rap"
                    ],
                    [
                      "philly soul"
                    ],
                    [
                      "phonk"
                    ],
                    [
                      "pianissimo"
                    ],
                    [
                      "piano blues"
                    ],
                    [
                      "piano cover"
                    ],
                    [
                      "piano mpb"
                    ],
                    [
                      "piano rock"
                    ],
                    [
                      "pibroch"
                    ],
                    [
                      "piedmont blues"
                    ],
                    [
                      "pinoy hip hop"
                    ],
                    [
                      "pinoy indie"
                    ],
                    [
                      "pinoy pop punk"
                    ],
                    [
                      "pinoy praise"
                    ],
                    [
                      "pinoy r&b"
                    ],
                    [
                      "pinoy reggae"
                    ],
                    [
                      "pinoy rock"
                    ],
                    [
                      "pinoy traditional"
                    ],
                    [
                      "pinoy trap"
                    ],
                    [
                      "pirate"
                    ],
                    [
                      "pittsburgh indie"
                    ],
                    [
                      "pittsburgh rap"
                    ],
                    [
                      "pittsburgh rock"
                    ],
                    [
                      "pixie"
                    ],
                    [
                      "plunderphonics"
                    ],
                    [
                      "poetry"
                    ],
                    [
                      "pokemon"
                    ],
                    [
                      "polca paraguaya"
                    ],
                    [
                      "polish blues"
                    ],
                    [
                      "polish classical"
                    ],
                    [
                      "polish classical piano"
                    ],
                    [
                      "polish contemporary classical"
                    ],
                    [
                      "polish jazz"
                    ],
                    [
                      "polish pop"
                    ],
                    [
                      "polish rock"
                    ],
                    [
                      "polish techno"
                    ],
                    [
                      "political hip hop"
                    ],
                    [
                      "polka"
                    ],
                    [
                      "polynesian hip hop"
                    ],
                    [
                      "polynesian pop"
                    ],
                    [
                      "polyphony"
                    ],
                    [
                      "pony"
                    ],
                    [
                      "pop"
                    ],
                    [
                      "pop ambient"
                    ],
                    [
                      "pop argentino"
                    ],
                    [
                      "pop chileno"
                    ],
                    [
                      "pop dance"
                    ],
                    [
                      "pop edm"
                    ],
                    [
                      "pop electronico"
                    ],
                    [
                      "pop emo"
                    ],
                    [
                      "pop flamenco"
                    ],
                    [
                      "pop folk"
                    ],
                    [
                      "pop house"
                    ],
                    [
                      "pop nacional"
                    ],
                    [
                      "pop nacional antigas"
                    ],
                    [
                      "pop peruano"
                    ],
                    [
                      "pop punk"
                    ],
                    [
                      "pop quebecois"
                    ],
                    [
                      "pop r&b"
                    ],
                    [
                      "pop rap"
                    ],
                    [
                      "pop reggaeton"
                    ],
                    [
                      "pop rock"
                    ],
                    [
                      "pop rock brasileiro"
                    ],
                    [
                      "pop romantico"
                    ],
                    [
                      "pop soul"
                    ],
                    [
                      "pop urbaine"
                    ],
                    [
                      "pop venezolano"
                    ],
                    [
                      "pop violin"
                    ],
                    [
                      "popgaze"
                    ],
                    [
                      "popping"
                    ],
                    [
                      "pops orchestra"
                    ],
                    [
                      "popwave"
                    ],
                    [
                      "pornogrind"
                    ],
                    [
                      "porro"
                    ],
                    [
                      "portland hip hop"
                    ],
                    [
                      "portland indie"
                    ],
                    [
                      "portland punk"
                    ],
                    [
                      "portuguese early music"
                    ],
                    [
                      "portuguese indie rock"
                    ],
                    [
                      "portuguese jazz"
                    ],
                    [
                      "post-black metal"
                    ],
                    [
                      "post-disco"
                    ],
                    [
                      "post-disco soul"
                    ],
                    [
                      "post-doom metal"
                    ],
                    [
                      "post-grunge"
                    ],
                    [
                      "post-hardcore"
                    ],
                    [
                      "post-metal"
                    ],
                    [
                      "post-minimalism"
                    ],
                    [
                      "post-post-hardcore"
                    ],
                    [
                      "post-punk"
                    ],
                    [
                      "post-punk argentina"
                    ],
                    [
                      "post-rock"
                    ],
                    [
                      "post-romantic era"
                    ],
                    [
                      "post-screamo"
                    ],
                    [
                      "post-teen pop"
                    ],
                    [
                      "power blues-rock"
                    ],
                    [
                      "power metal"
                    ],
                    [
                      "power pop"
                    ],
                    [
                      "power thrash"
                    ],
                    [
                      "power-pop punk"
                    ],
                    [
                      "powerviolence"
                    ],
                    [
                      "praise"
                    ],
                    [
                      "pre-war blues"
                    ],
                    [
                      "prepared piano"
                    ],
                    [
                      "preschool children's music"
                    ],
                    [
                      "prog metal"
                    ],
                    [
                      "prog quebec"
                    ],
                    [
                      "progressive black metal"
                    ],
                    [
                      "progressive bluegrass"
                    ],
                    [
                      "progressive breaks"
                    ],
                    [
                      "progressive death metal"
                    ],
                    [
                      "progressive deathcore"
                    ],
                    [
                      "progressive doom"
                    ],
                    [
                      "progressive electro house"
                    ],
                    [
                      "progressive groove metal"
                    ],
                    [
                      "progressive house"
                    ],
                    [
                      "progressive jazz fusion"
                    ],
                    [
                      "progressive metal"
                    ],
                    [
                      "progressive metalcore"
                    ],
                    [
                      "progressive post-hardcore"
                    ],
                    [
                      "progressive power metal"
                    ],
                    [
                      "progressive psytrance"
                    ],
                    [
                      "progressive rock"
                    ],
                    [
                      "progressive sludge"
                    ],
                    [
                      "progressive trance"
                    ],
                    [
                      "progressive trance house"
                    ],
                    [
                      "progressive uplifting trance"
                    ],
                    [
                      "proto-rap"
                    ],
                    [
                      "proto-techno"
                    ],
                    [
                      "protopunk"
                    ],
                    [
                      "psalmen"
                    ],
                    [
                      "psicodelia brasileira"
                    ],
                    [
                      "psybreaks"
                    ],
                    [
                      "psych gaze"
                    ],
                    [
                      "psychedelic blues-rock"
                    ],
                    [
                      "psychedelic doom"
                    ],
                    [
                      "psychedelic folk"
                    ],
                    [
                      "psychedelic folk rock"
                    ],
                    [
                      "psychedelic hip hop"
                    ],
                    [
                      "psychedelic pop"
                    ],
                    [
                      "psychedelic punk"
                    ],
                    [
                      "psychedelic rock"
                    ],
                    [
                      "psychedelic soul"
                    ],
                    [
                      "psychedelic trance"
                    ],
                    [
                      "psychill"
                    ],
                    [
                      "psychobilly"
                    ],
                    [
                      "pub rock"
                    ],
                    [
                      "puerto rican folk"
                    ],
                    [
                      "puerto rican pop"
                    ],
                    [
                      "puerto rican rock"
                    ],
                    [
                      "punjabi folk"
                    ],
                    [
                      "punjabi pop"
                    ],
                    [
                      "punk"
                    ],
                    [
                      "punk 'n' roll"
                    ],
                    [
                      "punk blues"
                    ],
                    [
                      "punk catala"
                    ],
                    [
                      "punk rock italiano"
                    ],
                    [
                      "punk rock mexicano"
                    ],
                    [
                      "punk tuga"
                    ],
                    [
                      "punta"
                    ],
                    [
                      "punta rock"
                    ],
                    [
                      "qawwali"
                    ],
                    [
                      "quartetto d'archi"
                    ],
                    [
                      "quatuor a cordes"
                    ],
                    [
                      "quebec death metal"
                    ],
                    [
                      "quebec indie"
                    ],
                    [
                      "queens hip hop"
                    ],
                    [
                      "queer country"
                    ],
                    [
                      "queercore"
                    ],
                    [
                      "quiet storm"
                    ],
                    [
                      "quran"
                    ],
                    [
                      "r&b"
                    ],
                    [
                      "r&b en espanol"
                    ],
                    [
                      "rabindra sangeet"
                    ],
                    [
                      "radio symphony"
                    ],
                    [
                      "ragtime"
                    ],
                    [
                      "rai"
                    ],
                    [
                      "ranchera"
                    ],
                    [
                      "rap"
                    ],
                    [
                      "rap boricua"
                    ],
                    [
                      "rap chileno"
                    ],
                    [
                      "rap conciencia"
                    ],
                    [
                      "rap conscient"
                    ],
                    [
                      "rap cristiano"
                    ],
                    [
                      "rap dominicano"
                    ],
                    [
                      "rap francais"
                    ],
                    [
                      "rap inde"
                    ],
                    [
                      "rap kreyol"
                    ],
                    [
                      "rap latina"
                    ],
                    [
                      "rap maroc"
                    ],
                    [
                      "rap metal"
                    ],
                    [
                      "rap napoletano"
                    ],
                    [
                      "rap rock"
                    ],
                    [
                      "rap romantico"
                    ],
                    [
                      "rap underground mexicano"
                    ],
                    [
                      "rare groove"
                    ],
                    [
                      "rave"
                    ],
                    [
                      "rave funk"
                    ],
                    [
                      "rawstyle"
                    ],
                    [
                      "re:techno"
                    ],
                    [
                      "reading"
                    ],
                    [
                      "reading indie"
                    ],
                    [
                      "rebel blues"
                    ],
                    [
                      "rebetiko"
                    ],
                    [
                      "recorder"
                    ],
                    [
                      "red dirt"
                    ],
                    [
                      "redneck"
                    ],
                    [
                      "reggae"
                    ],
                    [
                      "reggae cover"
                    ],
                    [
                      "reggae en espanol"
                    ],
                    [
                      "reggae fusion"
                    ],
                    [
                      "reggae maghreb"
                    ],
                    [
                      "reggae peruano"
                    ],
                    [
                      "reggae rock"
                    ],
                    [
                      "reggaeton"
                    ],
                    [
                      "reggaeton colombiano"
                    ],
                    [
                      "reggaeton cristiano"
                    ],
                    [
                      "reggaeton flow"
                    ],
                    [
                      "regional mexican"
                    ],
                    [
                      "relaxative"
                    ],
                    [
                      "remix product"
                    ],
                    [
                      "renaissance"
                    ],
                    [
                      "rennes indie"
                    ],
                    [
                      "retro metal"
                    ],
                    [
                      "retro soul"
                    ],
                    [
                      "reunion pop"
                    ],
                    [
                      "rhode island indie"
                    ],
                    [
                      "rhode island rap"
                    ],
                    [
                      "rhythm and blues"
                    ],
                    [
                      "rhythm game"
                    ],
                    [
                      "riddim"
                    ],
                    [
                      "riddim dubstep"
                    ],
                    [
                      "rif"
                    ],
                    [
                      "riot grrrl"
                    ],
                    [
                      "ritmo kombina"
                    ],
                    [
                      "rkt"
                    ],
                    [
                      "rochester mn indie"
                    ],
                    [
                      "rochester ny indie"
                    ],
                    [
                      "rock"
                    ],
                    [
                      "rock alternatif francais"
                    ],
                    [
                      "rock alternativo brasileiro"
                    ],
                    [
                      "rock andaluz"
                    ],
                    [
                      "rock baiano"
                    ],
                    [
                      "rock brasiliense"
                    ],
                    [
                      "rock catala"
                    ],
                    [
                      "rock chapin"
                    ],
                    [
                      "rock cristiano"
                    ],
                    [
                      "rock drums"
                    ],
                    [
                      "rock en espanol"
                    ],
                    [
                      "rock gaucho"
                    ],
                    [
                      "rock independant francais"
                    ],
                    [
                      "rock keyboard"
                    ],
                    [
                      "rock nacional"
                    ],
                    [
                      "rock nacional brasileiro"
                    ],
                    [
                      "rock pernambucano"
                    ],
                    [
                      "rock progressif francais"
                    ],
                    [
                      "rock steady"
                    ],
                    [
                      "rock urbano mexicano"
                    ],
                    [
                      "rock uruguayo"
                    ],
                    [
                      "rock-and-roll"
                    ],
                    [
                      "rockabilly"
                    ],
                    [
                      "rockabilly en espanol"
                    ],
                    [
                      "roda de samba"
                    ],
                    [
                      "romanian classical piano"
                    ],
                    [
                      "romanian electronic"
                    ],
                    [
                      "romanian folk"
                    ],
                    [
                      "romanian pop"
                    ],
                    [
                      "romanian rock"
                    ],
                    [
                      "romantico"
                    ],
                    [
                      "rominimal"
                    ],
                    [
                      "roots americana"
                    ],
                    [
                      "roots reggae"
                    ],
                    [
                      "roots rock"
                    ],
                    [
                      "roots worship"
                    ],
                    [
                      "rosary"
                    ],
                    [
                      "rumba"
                    ],
                    [
                      "rumba catalana"
                    ],
                    [
                      "rumba congolaise"
                    ],
                    [
                      "rune folk"
                    ],
                    [
                      "russelater"
                    ],
                    [
                      "russian alternative rock"
                    ],
                    [
                      "russian ccm"
                    ],
                    [
                      "russian chanson"
                    ],
                    [
                      "russian choir"
                    ],
                    [
                      "russian classical piano"
                    ],
                    [
                      "russian contemporary classical"
                    ],
                    [
                      "russian dance"
                    ],
                    [
                      "russian dance pop"
                    ],
                    [
                      "russian dnb"
                    ],
                    [
                      "russian edm"
                    ],
                    [
                      "russian folk"
                    ],
                    [
                      "russian folk rock"
                    ],
                    [
                      "russian gangster rap"
                    ],
                    [
                      "russian hip hop"
                    ],
                    [
                      "russian jazz"
                    ],
                    [
                      "russian metal"
                    ],
                    [
                      "russian modern classical"
                    ],
                    [
                      "russian orchestra"
                    ],
                    [
                      "russian pop"
                    ],
                    [
                      "russian post-punk"
                    ],
                    [
                      "russian power metal"
                    ],
                    [
                      "russian punk"
                    ],
                    [
                      "russian punk rock"
                    ],
                    [
                      "russian rock"
                    ],
                    [
                      "russian romanticism"
                    ],
                    [
                      "russian ska"
                    ],
                    [
                      "russian techno"
                    ],
                    [
                      "russian thrash metal"
                    ],
                    [
                      "russian trance"
                    ],
                    [
                      "rva indie"
                    ],
                    [
                      "rwandan traditional"
                    ],
                    [
                      "ryukyu ongaku"
                    ],
                    [
                      "sacramento hip hop"
                    ],
                    [
                      "sacramento indie"
                    ],
                    [
                      "sacred steel"
                    ],
                    [
                      "sad rap"
                    ],
                    [
                      "salsa"
                    ],
                    [
                      "salsa choke"
                    ],
                    [
                      "salsa colombiana"
                    ],
                    [
                      "salsa cristiana"
                    ],
                    [
                      "salsa cubana"
                    ],
                    [
                      "salsa international"
                    ],
                    [
                      "salsa peruana"
                    ],
                    [
                      "salsa puertorriquena"
                    ],
                    [
                      "salsa venezolana"
                    ],
                    [
                      "samba"
                    ],
                    [
                      "samba de roda"
                    ],
                    [
                      "samba moderno"
                    ],
                    [
                      "samba-enredo"
                    ],
                    [
                      "samba-jazz"
                    ],
                    [
                      "samba-rock"
                    ],
                    [
                      "samoan pop"
                    ],
                    [
                      "san diego indie"
                    ],
                    [
                      "san diego rap"
                    ],
                    [
                      "san marcos tx indie"
                    ],
                    [
                      "sandalwood"
                    ],
                    [
                      "santa fe indie"
                    ],
                    [
                      "sarod"
                    ],
                    [
                      "saskatchewan indie"
                    ],
                    [
                      "saxony metal"
                    ],
                    [
                      "scam rap"
                    ],
                    [
                      "scandinavian r&b"
                    ],
                    [
                      "scandipop"
                    ],
                    [
                      "schlager"
                    ],
                    [
                      "school choir"
                    ],
                    [
                      "school ensemble"
                    ],
                    [
                      "schranz"
                    ],
                    [
                      "scorecore"
                    ],
                    [
                      "scottish americana"
                    ],
                    [
                      "scottish electronic"
                    ],
                    [
                      "scottish fiddle"
                    ],
                    [
                      "scottish folk"
                    ],
                    [
                      "scottish indie"
                    ],
                    [
                      "scottish indie folk"
                    ],
                    [
                      "scottish jazz"
                    ],
                    [
                      "scottish metal"
                    ],
                    [
                      "scottish new wave"
                    ],
                    [
                      "scottish rock"
                    ],
                    [
                      "scottish singer-songwriter"
                    ],
                    [
                      "scottish techno"
                    ],
                    [
                      "scratch"
                    ],
                    [
                      "scream rap"
                    ],
                    [
                      "screamo"
                    ],
                    [
                      "seattle hip hop"
                    ],
                    [
                      "seattle indie"
                    ],
                    [
                      "seattle metal"
                    ],
                    [
                      "second line"
                    ],
                    [
                      "sefardi"
                    ],
                    [
                      "seiyu"
                    ],
                    [
                      "serbian electronic"
                    ],
                    [
                      "serbian hip hop"
                    ],
                    [
                      "serialism"
                    ],
                    [
                      "sertanejo"
                    ],
                    [
                      "sertanejo pop"
                    ],
                    [
                      "sertanejo tradicional"
                    ],
                    [
                      "sertanejo universitario"
                    ],
                    [
                      "sesame street"
                    ],
                    [
                      "sevdah"
                    ],
                    [
                      "shaabi"
                    ],
                    [
                      "shabad"
                    ],
                    [
                      "shakuhachi"
                    ],
                    [
                      "shamanic"
                    ],
                    [
                      "shanty"
                    ],
                    [
                      "sheffield indie"
                    ],
                    [
                      "shibuya-kei"
                    ],
                    [
                      "shimmer pop"
                    ],
                    [
                      "shimmer psych"
                    ],
                    [
                      "shiver pop"
                    ],
                    [
                      "shoegaze"
                    ],
                    [
                      "shonen"
                    ],
                    [
                      "show tunes"
                    ],
                    [
                      "shred"
                    ],
                    [
                      "shush"
                    ],
                    [
                      "sierreno"
                    ],
                    [
                      "singaporean electronic"
                    ],
                    [
                      "singaporean mandopop"
                    ],
                    [
                      "singaporean pop"
                    ],
                    [
                      "singaporean singer-songwriter"
                    ],
                    [
                      "singer-songwriter"
                    ],
                    [
                      "sinhala pop"
                    ],
                    [
                      "sinogaze"
                    ],
                    [
                      "sitar"
                    ],
                    [
                      "ska"
                    ],
                    [
                      "ska argentino"
                    ],
                    [
                      "ska catala"
                    ],
                    [
                      "ska chileno"
                    ],
                    [
                      "ska jazz"
                    ],
                    [
                      "ska mexicano"
                    ],
                    [
                      "ska punk"
                    ],
                    [
                      "ska revival"
                    ],
                    [
                      "skanska musik"
                    ],
                    [
                      "skate punk"
                    ],
                    [
                      "skiffle"
                    ],
                    [
                      "skramz"
                    ],
                    [
                      "sky room"
                    ],
                    [
                      "slack-key guitar"
                    ],
                    [
                      "slam poetry"
                    ],
                    [
                      "slamming deathcore"
                    ],
                    [
                      "slavic folk metal"
                    ],
                    [
                      "slayer"
                    ],
                    [
                      "slc indie"
                    ],
                    [
                      "sleaze rock"
                    ],
                    [
                      "sleep"
                    ],
                    [
                      "slovak electronic"
                    ],
                    [
                      "slovak hip hop"
                    ],
                    [
                      "slovak pop"
                    ],
                    [
                      "slovenian electronic"
                    ],
                    [
                      "slovenian metal"
                    ],
                    [
                      "slow game"
                    ],
                    [
                      "slowcore"
                    ],
                    [
                      "sludge metal"
                    ],
                    [
                      "small room"
                    ],
                    [
                      "smooth jazz"
                    ],
                    [
                      "smooth saxophone"
                    ],
                    [
                      "smooth soul"
                    ],
                    [
                      "soca"
                    ],
                    [
                      "socal pop punk"
                    ],
                    [
                      "social media pop"
                    ],
                    [
                      "soda pop"
                    ],
                    [
                      "soft rock"
                    ],
                    [
                      "solipsynthm"
                    ],
                    [
                      "son cubano"
                    ],
                    [
                      "son cubano clasico"
                    ],
                    [
                      "sophisti-pop"
                    ],
                    [
                      "sotalaulut"
                    ],
                    [
                      "soukous"
                    ],
                    [
                      "soul"
                    ],
                    [
                      "soul blues"
                    ],
                    [
                      "soul flow"
                    ],
                    [
                      "soul jazz"
                    ],
                    [
                      "souldies"
                    ],
                    [
                      "sound"
                    ],
                    [
                      "sound effects"
                    ],
                    [
                      "sound team"
                    ],
                    [
                      "soundtrack"
                    ],
                    [
                      "south african alternative"
                    ],
                    [
                      "south african choral"
                    ],
                    [
                      "south african country"
                    ],
                    [
                      "south african hip hop"
                    ],
                    [
                      "south african house"
                    ],
                    [
                      "south african jazz"
                    ],
                    [
                      "south african pop"
                    ],
                    [
                      "south african pop dance"
                    ],
                    [
                      "south african rock"
                    ],
                    [
                      "south carolina hip hop"
                    ],
                    [
                      "south carolina indie"
                    ],
                    [
                      "south dakota indie"
                    ],
                    [
                      "southampton indie"
                    ],
                    [
                      "southern americana"
                    ],
                    [
                      "southern gospel"
                    ],
                    [
                      "southern hip hop"
                    ],
                    [
                      "southern metal"
                    ],
                    [
                      "southern rock"
                    ],
                    [
                      "southern soul"
                    ],
                    [
                      "southern soul blues"
                    ],
                    [
                      "soviet synthpop"
                    ],
                    [
                      "sovietwave"
                    ],
                    [
                      "spa"
                    ],
                    [
                      "space age pop"
                    ],
                    [
                      "space ambient"
                    ],
                    [
                      "space rock"
                    ],
                    [
                      "spacewave"
                    ],
                    [
                      "spanish baroque"
                    ],
                    [
                      "spanish blues"
                    ],
                    [
                      "spanish classical"
                    ],
                    [
                      "spanish classical piano"
                    ],
                    [
                      "spanish electronic"
                    ],
                    [
                      "spanish folk metal"
                    ],
                    [
                      "spanish hip hop"
                    ],
                    [
                      "spanish indie pop"
                    ],
                    [
                      "spanish indie rock"
                    ],
                    [
                      "spanish invasion"
                    ],
                    [
                      "spanish jazz"
                    ],
                    [
                      "spanish metal"
                    ],
                    [
                      "spanish modern rock"
                    ],
                    [
                      "spanish new wave"
                    ],
                    [
                      "spanish pop"
                    ],
                    [
                      "spanish pop rock"
                    ],
                    [
                      "spanish post-rock"
                    ],
                    [
                      "spanish punk"
                    ],
                    [
                      "spanish renaissance"
                    ],
                    [
                      "spanish rock"
                    ],
                    [
                      "spanish rockabilly"
                    ],
                    [
                      "spanish synthpop"
                    ],
                    [
                      "spanish techno"
                    ],
                    [
                      "speed garage"
                    ],
                    [
                      "speed metal"
                    ],
                    [
                      "speedcore"
                    ],
                    [
                      "spiritual hip hop"
                    ],
                    [
                      "spiritual jazz"
                    ],
                    [
                      "spirituals"
                    ],
                    [
                      "spytrack"
                    ],
                    [
                      "st louis rap"
                    ],
                    [
                      "starogradska"
                    ],
                    [
                      "steampunk"
                    ],
                    [
                      "steel guitar"
                    ],
                    [
                      "steelpan"
                    ],
                    [
                      "stomp and flutter"
                    ],
                    [
                      "stomp and holler"
                    ],
                    [
                      "stomp pop"
                    ],
                    [
                      "stoner metal"
                    ],
                    [
                      "stoner rock"
                    ],
                    [
                      "straight edge"
                    ],
                    [
                      "straight-ahead jazz"
                    ],
                    [
                      "street band"
                    ],
                    [
                      "street punk"
                    ],
                    [
                      "street punk espanol"
                    ],
                    [
                      "streichquartett"
                    ],
                    [
                      "stride"
                    ],
                    [
                      "string band"
                    ],
                    [
                      "string folk"
                    ],
                    [
                      "string orchestra"
                    ],
                    [
                      "string quartet"
                    ],
                    [
                      "strut"
                    ],
                    [
                      "substep"
                    ],
                    [
                      "sufi"
                    ],
                    [
                      "sufi chant"
                    ],
                    [
                      "sungura"
                    ],
                    [
                      "sunset lounge"
                    ],
                    [
                      "sunshine pop"
                    ],
                    [
                      "suomisaundi"
                    ],
                    [
                      "supergroup"
                    ],
                    [
                      "surf music"
                    ],
                    [
                      "surf punk"
                    ],
                    [
                      "svensk progg"
                    ],
                    [
                      "swamp blues"
                    ],
                    [
                      "swamp pop"
                    ],
                    [
                      "swamp rock"
                    ],
                    [
                      "swancore"
                    ],
                    [
                      "swedish alternative rock"
                    ],
                    [
                      "swedish americana"
                    ],
                    [
                      "swedish black metal"
                    ],
                    [
                      "swedish choir"
                    ],
                    [
                      "swedish classical"
                    ],
                    [
                      "swedish contemporary classical"
                    ],
                    [
                      "swedish country"
                    ],
                    [
                      "swedish dancehall"
                    ],
                    [
                      "swedish death metal"
                    ],
                    [
                      "swedish doom metal"
                    ],
                    [
                      "swedish electronic"
                    ],
                    [
                      "swedish electropop"
                    ],
                    [
                      "swedish eurodance"
                    ],
                    [
                      "swedish garage rock"
                    ],
                    [
                      "swedish hard rock"
                    ],
                    [
                      "swedish hardcore"
                    ],
                    [
                      "swedish heavy metal"
                    ],
                    [
                      "swedish house"
                    ],
                    [
                      "swedish idol pop"
                    ],
                    [
                      "swedish indie folk"
                    ],
                    [
                      "swedish indie pop"
                    ],
                    [
                      "swedish indie rock"
                    ],
                    [
                      "swedish jazz"
                    ],
                    [
                      "swedish jazz orkester"
                    ],
                    [
                      "swedish melodic rock"
                    ],
                    [
                      "swedish metal"
                    ],
                    [
                      "swedish pop"
                    ],
                    [
                      "swedish post-hardcore"
                    ],
                    [
                      "swedish power metal"
                    ],
                    [
                      "swedish prog"
                    ],
                    [
                      "swedish progressive metal"
                    ],
                    [
                      "swedish punk"
                    ],
                    [
                      "swedish rock-and-roll"
                    ],
                    [
                      "swedish singer-songwriter"
                    ],
                    [
                      "swedish soul"
                    ],
                    [
                      "swedish stoner rock"
                    ],
                    [
                      "swedish synth"
                    ],
                    [
                      "swedish synthpop"
                    ],
                    [
                      "swedish techno"
                    ],
                    [
                      "swedish tropical house"
                    ],
                    [
                      "swing"
                    ],
                    [
                      "swing italiano"
                    ],
                    [
                      "swing revival"
                    ],
                    [
                      "swiss black metal"
                    ],
                    [
                      "swiss classical piano"
                    ],
                    [
                      "swiss contemporary classical"
                    ],
                    [
                      "swiss country"
                    ],
                    [
                      "swiss jazz"
                    ],
                    [
                      "swiss metal"
                    ],
                    [
                      "swiss pop"
                    ],
                    [
                      "swiss punk"
                    ],
                    [
                      "swiss rock"
                    ],
                    [
                      "symphonic black metal"
                    ],
                    [
                      "symphonic death metal"
                    ],
                    [
                      "symphonic metal"
                    ],
                    [
                      "symphonic rock"
                    ],
                    [
                      "synth funk"
                    ],
                    [
                      "synth punk"
                    ],
                    [
                      "synthpop"
                    ],
                    [
                      "synthwave"
                    ],
                    [
                      "syrian pop"
                    ],
                    [
                      "tabla"
                    ],
                    [
                      "tagalog rap"
                    ],
                    [
                      "tagalog worship"
                    ],
                    [
                      "taiwan campus folk"
                    ],
                    [
                      "taiwan classical performance"
                    ],
                    [
                      "taiwan hip hop"
                    ],
                    [
                      "taiwan indie"
                    ],
                    [
                      "taiwan pop"
                    ],
                    [
                      "taiwan singer-songwriter"
                    ],
                    [
                      "tajik pop"
                    ],
                    [
                      "talent show"
                    ],
                    [
                      "tallava"
                    ],
                    [
                      "tamborazo"
                    ],
                    [
                      "tamil hip hop"
                    ],
                    [
                      "tamil pop"
                    ],
                    [
                      "tamil worship"
                    ],
                    [
                      "tampa indie"
                    ],
                    [
                      "tango"
                    ],
                    [
                      "tango cancion"
                    ],
                    [
                      "tape club"
                    ],
                    [
                      "tavern"
                    ],
                    [
                      "tech house"
                    ],
                    [
                      "tech trance"
                    ],
                    [
                      "technical brutal death metal"
                    ],
                    [
                      "technical death metal"
                    ],
                    [
                      "technical deathcore"
                    ],
                    [
                      "technical grindcore"
                    ],
                    [
                      "technical groove metal"
                    ],
                    [
                      "technical melodic death metal"
                    ],
                    [
                      "technical thrash"
                    ],
                    [
                      "techno"
                    ],
                    [
                      "techno argentina"
                    ],
                    [
                      "techno kayo"
                    ],
                    [
                      "tecnobanda"
                    ],
                    [
                      "teen pop"
                    ],
                    [
                      "tejano"
                    ],
                    [
                      "tekk"
                    ],
                    [
                      "tekno"
                    ],
                    [
                      "tempe indie"
                    ],
                    [
                      "tennessee experimental"
                    ],
                    [
                      "tennessee hip hop"
                    ],
                    [
                      "tex-mex"
                    ],
                    [
                      "texas blues"
                    ],
                    [
                      "texas country"
                    ],
                    [
                      "texas latin rap"
                    ],
                    [
                      "texas pop punk"
                    ],
                    [
                      "texas punk"
                    ],
                    [
                      "thai folk pop"
                    ],
                    [
                      "thai folk rock"
                    ],
                    [
                      "thai hip hop"
                    ],
                    [
                      "thai idol"
                    ],
                    [
                      "thai indie"
                    ],
                    [
                      "thai indie rock"
                    ],
                    [
                      "thai instrumental"
                    ],
                    [
                      "thai pop"
                    ],
                    [
                      "thai rock"
                    ],
                    [
                      "thall"
                    ],
                    [
                      "theme"
                    ],
                    [
                      "therapy"
                    ],
                    [
                      "theremin"
                    ],
                    [
                      "thrash core"
                    ],
                    [
                      "thrash metal"
                    ],
                    [
                      "timba"
                    ],
                    [
                      "tin pan alley"
                    ],
                    [
                      "tipico"
                    ],
                    [
                      "tolkien metal"
                    ],
                    [
                      "tollywood"
                    ],
                    [
                      "tone"
                    ],
                    [
                      "torch song"
                    ],
                    [
                      "toronto indie"
                    ],
                    [
                      "toronto rap"
                    ],
                    [
                      "trad jazz catala"
                    ],
                    [
                      "trad quebecois"
                    ],
                    [
                      "traditional bluegrass"
                    ],
                    [
                      "traditional blues"
                    ],
                    [
                      "traditional british folk"
                    ],
                    [
                      "traditional country"
                    ],
                    [
                      "traditional english folk"
                    ],
                    [
                      "traditional folk"
                    ],
                    [
                      "traditional irish singing"
                    ],
                    [
                      "traditional rockabilly"
                    ],
                    [
                      "traditional ska"
                    ],
                    [
                      "traditional soul"
                    ],
                    [
                      "trance"
                    ],
                    [
                      "trance mexicano"
                    ],
                    [
                      "trancecore"
                    ],
                    [
                      "transpop"
                    ],
                    [
                      "trap"
                    ],
                    [
                      "trap argentino"
                    ],
                    [
                      "trap boricua"
                    ],
                    [
                      "trap dominicano"
                    ],
                    [
                      "trap funk"
                    ],
                    [
                      "trap italiana"
                    ],
                    [
                      "trap latino"
                    ],
                    [
                      "trap mexicano"
                    ],
                    [
                      "trap queen"
                    ],
                    [
                      "trap soul"
                    ],
                    [
                      "trap triste"
                    ],
                    [
                      "trap venezolano"
                    ],
                    [
                      "traprun"
                    ],
                    [
                      "trash rock"
                    ],
                    [
                      "triangle indie"
                    ],
                    [
                      "tribal house"
                    ],
                    [
                      "trinidadian reggae"
                    ],
                    [
                      "trio cubano"
                    ],
                    [
                      "trip hop"
                    ],
                    [
                      "trival"
                    ],
                    [
                      "tropical"
                    ],
                    [
                      "tropical house"
                    ],
                    [
                      "tropicalia"
                    ],
                    [
                      "trova"
                    ],
                    [
                      "trova mexicana"
                    ],
                    [
                      "truck-driving country"
                    ],
                    [
                      "tucson indie"
                    ],
                    [
                      "tulsa indie"
                    ],
                    [
                      "tunisian pop"
                    ],
                    [
                      "turbo folk"
                    ],
                    [
                      "turkish classical"
                    ],
                    [
                      "turkish classical performance"
                    ],
                    [
                      "turkish edm"
                    ],
                    [
                      "turkish experimental"
                    ],
                    [
                      "turkish folk"
                    ],
                    [
                      "turkish jazz"
                    ],
                    [
                      "turkish modern jazz"
                    ],
                    [
                      "turkish pop"
                    ],
                    [
                      "turkish psych"
                    ],
                    [
                      "turkish trap"
                    ],
                    [
                      "turkish trap pop"
                    ],
                    [
                      "turntablism"
                    ],
                    [
                      "twee pop"
                    ],
                    [
                      "twin cities indie"
                    ],
                    [
                      "twoubadou"
                    ],
                    [
                      "tzadik"
                    ],
                    [
                      "ugandan pop"
                    ],
                    [
                      "uilleann pipes"
                    ],
                    [
                      "uk alternative hip hop"
                    ],
                    [
                      "uk alternative pop"
                    ],
                    [
                      "uk americana"
                    ],
                    [
                      "uk contemporary r&b"
                    ],
                    [
                      "uk dance"
                    ],
                    [
                      "uk dancehall"
                    ],
                    [
                      "uk dnb"
                    ],
                    [
                      "uk doom metal"
                    ],
                    [
                      "uk drill"
                    ],
                    [
                      "uk dub"
                    ],
                    [
                      "uk experimental electronic"
                    ],
                    [
                      "uk funky"
                    ],
                    [
                      "uk garage"
                    ],
                    [
                      "uk hip hop"
                    ],
                    [
                      "uk house"
                    ],
                    [
                      "uk metalcore"
                    ],
                    [
                      "uk noise rock"
                    ],
                    [
                      "uk pop"
                    ],
                    [
                      "uk pop punk"
                    ],
                    [
                      "uk post-hardcore"
                    ],
                    [
                      "uk post-punk"
                    ],
                    [
                      "uk reggae"
                    ],
                    [
                      "uk rockabilly"
                    ],
                    [
                      "uk stoner rock"
                    ],
                    [
                      "uk tech house"
                    ],
                    [
                      "uk worship"
                    ],
                    [
                      "uk82"
                    ],
                    [
                      "ukhc"
                    ],
                    [
                      "ukrainian classical"
                    ],
                    [
                      "ukrainian classical piano"
                    ],
                    [
                      "ukrainian electronic"
                    ],
                    [
                      "ukrainian pop"
                    ],
                    [
                      "ukulele"
                    ],
                    [
                      "umbanda"
                    ],
                    [
                      "underground hip hop"
                    ],
                    [
                      "underground power pop"
                    ],
                    [
                      "underground rap"
                    ],
                    [
                      "university choir"
                    ],
                    [
                      "uplifting trance"
                    ],
                    [
                      "uptempo hardcore"
                    ],
                    [
                      "urban contemporary"
                    ],
                    [
                      "urbano espanol"
                    ],
                    [
                      "us power metal"
                    ],
                    [
                      "utah indie"
                    ],
                    [
                      "uzbek pop"
                    ],
                    [
                      "uzbek traditional"
                    ],
                    [
                      "v-pop"
                    ],
                    [
                      "vallenato"
                    ],
                    [
                      "vallenato moderno"
                    ],
                    [
                      "vancouver indie"
                    ],
                    [
                      "vancouver metal"
                    ],
                    [
                      "vancouver punk"
                    ],
                    [
                      "vapor pop"
                    ],
                    [
                      "vapor soul"
                    ],
                    [
                      "vapor trap"
                    ],
                    [
                      "vapor twitch"
                    ],
                    [
                      "vaporwave"
                    ],
                    [
                      "variete francaise"
                    ],
                    [
                      "vaudeville"
                    ],
                    [
                      "vbs"
                    ],
                    [
                      "veena"
                    ],
                    [
                      "vegan straight edge"
                    ],
                    [
                      "vegas indie"
                    ],
                    [
                      "velha guarda"
                    ],
                    [
                      "venezuelan hip hop"
                    ],
                    [
                      "venezuelan indie"
                    ],
                    [
                      "venezuelan rock"
                    ],
                    [
                      "veracruz indie"
                    ],
                    [
                      "vgm instrumental"
                    ],
                    [
                      "victorian britain"
                    ],
                    [
                      "video game music"
                    ],
                    [
                      "vietnamese bolero"
                    ],
                    [
                      "vietnamese pop"
                    ],
                    [
                      "viking black metal"
                    ],
                    [
                      "viking folk"
                    ],
                    [
                      "viking metal"
                    ],
                    [
                      "villancicos"
                    ],
                    [
                      "vintage chanson"
                    ],
                    [
                      "vintage chinese pop"
                    ],
                    [
                      "vintage classical singing"
                    ],
                    [
                      "vintage country folk"
                    ],
                    [
                      "vintage french electronic"
                    ],
                    [
                      "vintage gospel"
                    ],
                    [
                      "vintage hawaiian"
                    ],
                    [
                      "vintage hollywood"
                    ],
                    [
                      "vintage italian pop"
                    ],
                    [
                      "vintage italian soundtrack"
                    ],
                    [
                      "vintage jazz"
                    ],
                    [
                      "vintage old-time"
                    ],
                    [
                      "vintage rockabilly"
                    ],
                    [
                      "vintage schlager"
                    ],
                    [
                      "vintage spanish pop"
                    ],
                    [
                      "vintage swedish pop"
                    ],
                    [
                      "vintage swing"
                    ],
                    [
                      "vintage tango"
                    ],
                    [
                      "viola"
                    ],
                    [
                      "violao"
                    ],
                    [
                      "violao classico"
                    ],
                    [
                      "violin"
                    ],
                    [
                      "viral pop"
                    ],
                    [
                      "viral rap"
                    ],
                    [
                      "viral trap"
                    ],
                    [
                      "virgin islands reggae"
                    ],
                    [
                      "virginia hip hop"
                    ],
                    [
                      "virginia metal"
                    ],
                    [
                      "virginia punk"
                    ],
                    [
                      "visor"
                    ],
                    [
                      "visual kei"
                    ],
                    [
                      "vocal ensemble"
                    ],
                    [
                      "vocal harmony group"
                    ],
                    [
                      "vocal house"
                    ],
                    [
                      "vocal jazz"
                    ],
                    [
                      "vocal trance"
                    ],
                    [
                      "vocaloid"
                    ],
                    [
                      "vogue"
                    ],
                    [
                      "voidgaze"
                    ],
                    [
                      "volksmusik"
                    ],
                    [
                      "warm drone"
                    ],
                    [
                      "warrington indie"
                    ],
                    [
                      "washboard"
                    ],
                    [
                      "washington indie"
                    ],
                    [
                      "wassoulou"
                    ],
                    [
                      "water"
                    ],
                    [
                      "wave"
                    ],
                    [
                      "welsh folk"
                    ],
                    [
                      "welsh indie"
                    ],
                    [
                      "welsh metal"
                    ],
                    [
                      "welsh rock"
                    ],
                    [
                      "west african jazz"
                    ],
                    [
                      "west coast rap"
                    ],
                    [
                      "west coast reggae"
                    ],
                    [
                      "west coast trap"
                    ],
                    [
                      "west end"
                    ],
                    [
                      "west virginia indie"
                    ],
                    [
                      "west virginia metal"
                    ],
                    [
                      "western americana"
                    ],
                    [
                      "western mass indie"
                    ],
                    [
                      "western swing"
                    ],
                    [
                      "white noise"
                    ],
                    [
                      "wind ensemble"
                    ],
                    [
                      "wind quintet"
                    ],
                    [
                      "wind symphony"
                    ],
                    [
                      "witch house"
                    ],
                    [
                      "women's music"
                    ],
                    [
                      "wonky"
                    ],
                    [
                      "worcester ma indie"
                    ],
                    [
                      "workout product"
                    ],
                    [
                      "world"
                    ],
                    [
                      "world chill"
                    ],
                    [
                      "world fusion"
                    ],
                    [
                      "world meditation"
                    ],
                    [
                      "world worship"
                    ],
                    [
                      "worship"
                    ],
                    [
                      "wrestling"
                    ],
                    [
                      "wu fam"
                    ],
                    [
                      "wyoming indie"
                    ],
                    [
                      "wyoming roots"
                    ],
                    [
                      "xhosa"
                    ],
                    [
                      "xtra raw"
                    ],
                    [
                      "yacht rock"
                    ],
                    [
                      "yaoi"
                    ],
                    [
                      "ye ye"
                    ],
                    [
                      "yiddish folk"
                    ],
                    [
                      "yodeling"
                    ],
                    [
                      "yoga"
                    ],
                    [
                      "yoik"
                    ],
                    [
                      "york indie"
                    ],
                    [
                      "yorkshire folk"
                    ],
                    [
                      "youth orchestra"
                    ],
                    [
                      "yugoslav new wave"
                    ],
                    [
                      "yugoslav rock"
                    ],
                    [
                      "zambian pop"
                    ],
                    [
                      "zen"
                    ],
                    [
                      "zhongguo feng"
                    ],
                    [
                      "zim urban groove"
                    ],
                    [
                      "zolo"
                    ],
                    [
                      "zouk"
                    ],
                    [
                      "zurich indie"
                    ],
                    [
                      "zydeco"
                    ]
                  ],
                  "hovertemplate": "x=%{x}<br>y=%{y}<br>genres=%{customdata[0]}<br>cluster=%{marker.color}<extra></extra>",
                  "legendgroup": "",
                  "marker": {
                    "color": [
                      2,
                      2,
                      6,
                      5,
                      5,
                      2,
                      8,
                      8,
                      2,
                      5,
                      5,
                      4,
                      4,
                      9,
                      6,
                      3,
                      2,
                      5,
                      0,
                      2,
                      9,
                      3,
                      8,
                      5,
                      6,
                      3,
                      5,
                      5,
                      8,
                      5,
                      8,
                      8,
                      8,
                      8,
                      5,
                      0,
                      8,
                      6,
                      8,
                      8,
                      9,
                      8,
                      4,
                      8,
                      4,
                      9,
                      3,
                      3,
                      8,
                      8,
                      6,
                      4,
                      8,
                      4,
                      3,
                      3,
                      5,
                      3,
                      9,
                      9,
                      8,
                      9,
                      3,
                      8,
                      9,
                      3,
                      3,
                      9,
                      8,
                      2,
                      0,
                      6,
                      9,
                      4,
                      3,
                      9,
                      2,
                      2,
                      6,
                      2,
                      2,
                      8,
                      2,
                      2,
                      2,
                      2,
                      5,
                      9,
                      4,
                      2,
                      4,
                      2,
                      2,
                      2,
                      2,
                      9,
                      4,
                      9,
                      2,
                      4,
                      9,
                      3,
                      3,
                      3,
                      9,
                      9,
                      3,
                      3,
                      5,
                      3,
                      5,
                      6,
                      6,
                      5,
                      4,
                      4,
                      9,
                      8,
                      2,
                      2,
                      9,
                      8,
                      3,
                      8,
                      3,
                      8,
                      8,
                      8,
                      3,
                      5,
                      4,
                      2,
                      3,
                      3,
                      3,
                      2,
                      0,
                      8,
                      2,
                      0,
                      3,
                      8,
                      4,
                      4,
                      9,
                      3,
                      2,
                      0,
                      8,
                      0,
                      4,
                      0,
                      9,
                      5,
                      9,
                      4,
                      3,
                      9,
                      8,
                      4,
                      9,
                      2,
                      9,
                      0,
                      8,
                      2,
                      2,
                      3,
                      3,
                      4,
                      3,
                      8,
                      4,
                      9,
                      3,
                      8,
                      4,
                      3,
                      3,
                      3,
                      3,
                      9,
                      9,
                      4,
                      9,
                      3,
                      4,
                      4,
                      8,
                      3,
                      2,
                      2,
                      2,
                      0,
                      6,
                      2,
                      3,
                      5,
                      0,
                      2,
                      2,
                      0,
                      8,
                      5,
                      8,
                      8,
                      8,
                      8,
                      9,
                      2,
                      9,
                      5,
                      5,
                      5,
                      4,
                      5,
                      5,
                      6,
                      0,
                      2,
                      6,
                      2,
                      5,
                      2,
                      4,
                      9,
                      8,
                      8,
                      8,
                      5,
                      5,
                      5,
                      5,
                      5,
                      2,
                      8,
                      5,
                      5,
                      9,
                      1,
                      1,
                      1,
                      2,
                      2,
                      2,
                      2,
                      2,
                      3,
                      2,
                      2,
                      5,
                      4,
                      3,
                      9,
                      8,
                      8,
                      9,
                      8,
                      8,
                      8,
                      8,
                      9,
                      6,
                      9,
                      5,
                      9,
                      1,
                      8,
                      3,
                      4,
                      5,
                      9,
                      8,
                      6,
                      9,
                      3,
                      2,
                      2,
                      4,
                      4,
                      3,
                      6,
                      5,
                      0,
                      9,
                      4,
                      9,
                      4,
                      6,
                      9,
                      9,
                      5,
                      8,
                      8,
                      6,
                      2,
                      5,
                      8,
                      2,
                      5,
                      3,
                      4,
                      2,
                      4,
                      6,
                      9,
                      9,
                      0,
                      1,
                      0,
                      3,
                      0,
                      0,
                      0,
                      0,
                      2,
                      2,
                      4,
                      5,
                      5,
                      5,
                      5,
                      9,
                      3,
                      3,
                      3,
                      6,
                      5,
                      5,
                      5,
                      8,
                      8,
                      8,
                      5,
                      4,
                      6,
                      5,
                      5,
                      5,
                      9,
                      8,
                      3,
                      3,
                      3,
                      3,
                      8,
                      3,
                      5,
                      9,
                      9,
                      8,
                      2,
                      4,
                      2,
                      5,
                      2,
                      2,
                      6,
                      0,
                      8,
                      2,
                      2,
                      2,
                      0,
                      6,
                      6,
                      0,
                      9,
                      8,
                      5,
                      5,
                      3,
                      5,
                      8,
                      8,
                      3,
                      4,
                      4,
                      6,
                      4,
                      9,
                      4,
                      4,
                      6,
                      9,
                      5,
                      6,
                      3,
                      4,
                      3,
                      9,
                      3,
                      2,
                      8,
                      2,
                      2,
                      8,
                      2,
                      5,
                      9,
                      9,
                      5,
                      9,
                      3,
                      9,
                      3,
                      9,
                      2,
                      2,
                      6,
                      4,
                      9,
                      3,
                      2,
                      9,
                      5,
                      8,
                      8,
                      4,
                      9,
                      9,
                      3,
                      3,
                      6,
                      3,
                      8,
                      8,
                      3,
                      4,
                      6,
                      7,
                      9,
                      5,
                      5,
                      5,
                      3,
                      5,
                      3,
                      4,
                      8,
                      9,
                      5,
                      9,
                      2,
                      9,
                      4,
                      3,
                      4,
                      8,
                      5,
                      2,
                      2,
                      2,
                      1,
                      3,
                      5,
                      3,
                      3,
                      3,
                      0,
                      3,
                      9,
                      8,
                      9,
                      5,
                      5,
                      8,
                      3,
                      4,
                      3,
                      3,
                      9,
                      2,
                      3,
                      3,
                      3,
                      4,
                      5,
                      2,
                      8,
                      3,
                      1,
                      3,
                      0,
                      3,
                      8,
                      9,
                      5,
                      5,
                      9,
                      5,
                      5,
                      5,
                      6,
                      5,
                      8,
                      5,
                      5,
                      5,
                      9,
                      8,
                      2,
                      2,
                      2,
                      3,
                      4,
                      2,
                      5,
                      2,
                      3,
                      8,
                      3,
                      5,
                      0,
                      9,
                      5,
                      2,
                      2,
                      9,
                      2,
                      9,
                      3,
                      8,
                      4,
                      5,
                      5,
                      4,
                      4,
                      5,
                      4,
                      3,
                      0,
                      5,
                      8,
                      4,
                      4,
                      9,
                      3,
                      3,
                      8,
                      5,
                      9,
                      8,
                      4,
                      3,
                      5,
                      5,
                      8,
                      1,
                      3,
                      8,
                      4,
                      8,
                      6,
                      5,
                      6,
                      5,
                      8,
                      5,
                      9,
                      3,
                      5,
                      2,
                      2,
                      2,
                      4,
                      3,
                      6,
                      3,
                      3,
                      2,
                      5,
                      2,
                      5,
                      1,
                      9,
                      8,
                      2,
                      5,
                      9,
                      4,
                      5,
                      3,
                      9,
                      9,
                      8,
                      3,
                      3,
                      3,
                      9,
                      3,
                      3,
                      3,
                      2,
                      3,
                      8,
                      3,
                      2,
                      5,
                      8,
                      8,
                      4,
                      9,
                      6,
                      4,
                      8,
                      8,
                      5,
                      5,
                      8,
                      4,
                      5,
                      3,
                      5,
                      8,
                      5,
                      5,
                      2,
                      5,
                      6,
                      5,
                      4,
                      3,
                      3,
                      9,
                      5,
                      4,
                      1,
                      0,
                      3,
                      4,
                      5,
                      5,
                      5,
                      3,
                      6,
                      5,
                      5,
                      5,
                      3,
                      5,
                      5,
                      8,
                      9,
                      5,
                      4,
                      5,
                      9,
                      5,
                      0,
                      5,
                      3,
                      3,
                      4,
                      9,
                      5,
                      8,
                      2,
                      5,
                      9,
                      8,
                      5,
                      3,
                      8,
                      2,
                      9,
                      2,
                      2,
                      2,
                      2,
                      2,
                      2,
                      2,
                      2,
                      2,
                      2,
                      2,
                      2,
                      5,
                      2,
                      2,
                      2,
                      2,
                      2,
                      2,
                      2,
                      2,
                      2,
                      2,
                      2,
                      5,
                      5,
                      1,
                      3,
                      8,
                      3,
                      5,
                      2,
                      6,
                      6,
                      6,
                      4,
                      6,
                      8,
                      8,
                      6,
                      1,
                      8,
                      9,
                      8,
                      9,
                      6,
                      9,
                      2,
                      2,
                      3,
                      8,
                      2,
                      2,
                      2,
                      3,
                      5,
                      3,
                      2,
                      5,
                      5,
                      2,
                      5,
                      5,
                      5,
                      0,
                      8,
                      8,
                      3,
                      5,
                      0,
                      6,
                      0,
                      3,
                      5,
                      5,
                      3,
                      5,
                      3,
                      3,
                      3,
                      3,
                      3,
                      5,
                      5,
                      3,
                      3,
                      6,
                      0,
                      4,
                      3,
                      0,
                      3,
                      8,
                      3,
                      8,
                      8,
                      5,
                      8,
                      8,
                      8,
                      8,
                      8,
                      4,
                      4,
                      8,
                      8,
                      5,
                      5,
                      8,
                      8,
                      8,
                      9,
                      9,
                      5,
                      2,
                      2,
                      2,
                      5,
                      4,
                      4,
                      3,
                      5,
                      0,
                      0,
                      9,
                      9,
                      3,
                      3,
                      8,
                      9,
                      4,
                      2,
                      6,
                      6,
                      6,
                      6,
                      8,
                      5,
                      3,
                      3,
                      0,
                      6,
                      9,
                      6,
                      6,
                      8,
                      3,
                      5,
                      8,
                      3,
                      9,
                      4,
                      9,
                      7,
                      2,
                      6,
                      4,
                      6,
                      6,
                      6,
                      8,
                      3,
                      6,
                      0,
                      9,
                      3,
                      3,
                      9,
                      3,
                      9,
                      6,
                      9,
                      3,
                      0,
                      4,
                      5,
                      4,
                      3,
                      6,
                      9,
                      8,
                      1,
                      3,
                      8,
                      0,
                      6,
                      6,
                      5,
                      8,
                      6,
                      6,
                      6,
                      8,
                      6,
                      4,
                      4,
                      8,
                      2,
                      8,
                      6,
                      8,
                      6,
                      4,
                      9,
                      8,
                      6,
                      6,
                      4,
                      5,
                      5,
                      5,
                      3,
                      6,
                      0,
                      0,
                      0,
                      4,
                      6,
                      5,
                      3,
                      9,
                      8,
                      9,
                      0,
                      6,
                      6,
                      3,
                      8,
                      4,
                      8,
                      8,
                      4,
                      8,
                      6,
                      5,
                      8,
                      8,
                      3,
                      6,
                      6,
                      9,
                      4,
                      4,
                      6,
                      5,
                      8,
                      4,
                      8,
                      4,
                      0,
                      4,
                      4,
                      8,
                      8,
                      4,
                      8,
                      4,
                      3,
                      6,
                      4,
                      2,
                      5,
                      8,
                      5,
                      2,
                      0,
                      2,
                      8,
                      8,
                      8,
                      4,
                      5,
                      5,
                      3,
                      5,
                      9,
                      3,
                      4,
                      8,
                      8,
                      5,
                      3,
                      0,
                      4,
                      3,
                      3,
                      0,
                      5,
                      3,
                      9,
                      9,
                      3,
                      2,
                      8,
                      4,
                      2,
                      2,
                      9,
                      3,
                      8,
                      0,
                      4,
                      4,
                      6,
                      3,
                      6,
                      6,
                      2,
                      8,
                      9,
                      8,
                      0,
                      8,
                      6,
                      5,
                      4,
                      2,
                      9,
                      6,
                      6,
                      4,
                      0,
                      4,
                      3,
                      4,
                      0,
                      3,
                      6,
                      9,
                      0,
                      8,
                      9,
                      6,
                      6,
                      5,
                      1,
                      2,
                      2,
                      2,
                      2,
                      8,
                      2,
                      9,
                      3,
                      8,
                      8,
                      9,
                      5,
                      3,
                      9,
                      3,
                      2,
                      5,
                      8,
                      3,
                      9,
                      8,
                      5,
                      4,
                      3,
                      5,
                      3,
                      8,
                      3,
                      8,
                      4,
                      8,
                      6,
                      3,
                      3,
                      8,
                      3,
                      3,
                      3,
                      3,
                      4,
                      6,
                      6,
                      3,
                      3,
                      3,
                      8,
                      9,
                      3,
                      3,
                      3,
                      9,
                      0,
                      2,
                      5,
                      2,
                      5,
                      0,
                      9,
                      3,
                      0,
                      6,
                      3,
                      2,
                      5,
                      3,
                      3,
                      3,
                      8,
                      2,
                      5,
                      6,
                      9,
                      4,
                      4,
                      3,
                      4,
                      8,
                      3,
                      4,
                      5,
                      9,
                      2,
                      4,
                      5,
                      2,
                      4,
                      6,
                      8,
                      0,
                      3,
                      3,
                      2,
                      5,
                      6,
                      0,
                      3,
                      4,
                      4,
                      5,
                      4,
                      0,
                      3,
                      2,
                      8,
                      0,
                      0,
                      2,
                      4,
                      0,
                      4,
                      6,
                      9,
                      0,
                      0,
                      0,
                      8,
                      3,
                      8,
                      6,
                      4,
                      2,
                      8,
                      6,
                      3,
                      4,
                      4,
                      9,
                      9,
                      6,
                      4,
                      8,
                      5,
                      4,
                      5,
                      5,
                      9,
                      5,
                      0,
                      9,
                      5,
                      5,
                      3,
                      5,
                      4,
                      5,
                      5,
                      9,
                      1,
                      8,
                      5,
                      3,
                      6,
                      5,
                      8,
                      3,
                      2,
                      2,
                      8,
                      6,
                      3,
                      9,
                      6,
                      2,
                      5,
                      8,
                      2,
                      2,
                      2,
                      9,
                      4,
                      9,
                      8,
                      9,
                      5,
                      9,
                      5,
                      2,
                      2,
                      9,
                      3,
                      3,
                      8,
                      8,
                      2,
                      9,
                      5,
                      8,
                      6,
                      6,
                      0,
                      8,
                      6,
                      8,
                      9,
                      8,
                      5,
                      8,
                      3,
                      9,
                      5,
                      0,
                      3,
                      4,
                      6,
                      6,
                      9,
                      3,
                      4,
                      8,
                      3,
                      0,
                      8,
                      3,
                      8,
                      9,
                      9,
                      4,
                      5,
                      2,
                      0,
                      3,
                      8,
                      6,
                      3,
                      3,
                      3,
                      0,
                      3,
                      3,
                      3,
                      3,
                      4,
                      8,
                      6,
                      9,
                      4,
                      2,
                      0,
                      2,
                      2,
                      3,
                      3,
                      6,
                      6,
                      3,
                      0,
                      4,
                      5,
                      6,
                      3,
                      4,
                      2,
                      1,
                      0,
                      0,
                      0,
                      2,
                      2,
                      3,
                      9,
                      0,
                      4,
                      3,
                      3,
                      2,
                      3,
                      2,
                      3,
                      2,
                      0,
                      2,
                      0,
                      6,
                      6,
                      6,
                      9,
                      4,
                      8,
                      8,
                      4,
                      1,
                      5,
                      6,
                      0,
                      6,
                      8,
                      3,
                      3,
                      3,
                      8,
                      9,
                      9,
                      3,
                      3,
                      6,
                      4,
                      6,
                      6,
                      6,
                      9,
                      5,
                      5,
                      1,
                      9,
                      5,
                      3,
                      0,
                      3,
                      0,
                      4,
                      3,
                      4,
                      3,
                      9,
                      3,
                      3,
                      8,
                      3,
                      4,
                      6,
                      5,
                      2,
                      5,
                      5,
                      4,
                      6,
                      5,
                      5,
                      6,
                      4,
                      2,
                      3,
                      6,
                      4,
                      3,
                      6,
                      3,
                      4,
                      8,
                      8,
                      4,
                      4,
                      6,
                      3,
                      1,
                      4,
                      5,
                      2,
                      5,
                      0,
                      2,
                      4,
                      5,
                      5,
                      4,
                      8,
                      5,
                      0,
                      3,
                      8,
                      6,
                      5,
                      6,
                      2,
                      9,
                      4,
                      9,
                      3,
                      0,
                      5,
                      3,
                      3,
                      6,
                      6,
                      3,
                      8,
                      0,
                      9,
                      8,
                      9,
                      9,
                      9,
                      0,
                      6,
                      8,
                      5,
                      5,
                      9,
                      2,
                      2,
                      5,
                      5,
                      8,
                      8,
                      2,
                      3,
                      8,
                      8,
                      5,
                      4,
                      5,
                      2,
                      5,
                      8,
                      3,
                      8,
                      8,
                      7,
                      2,
                      2,
                      2,
                      2,
                      2,
                      2,
                      1,
                      0,
                      5,
                      5,
                      5,
                      5,
                      5,
                      3,
                      9,
                      9,
                      8,
                      4,
                      6,
                      8,
                      8,
                      8,
                      5,
                      4,
                      2,
                      2,
                      2,
                      2,
                      6,
                      1,
                      5,
                      6,
                      6,
                      0,
                      9,
                      8,
                      2,
                      3,
                      0,
                      2,
                      3,
                      0,
                      3,
                      3,
                      3,
                      4,
                      5,
                      2,
                      5,
                      4,
                      4,
                      2,
                      8,
                      5,
                      4,
                      8,
                      4,
                      8,
                      9,
                      3,
                      3,
                      9,
                      9,
                      6,
                      3,
                      9,
                      6,
                      8,
                      3,
                      4,
                      3,
                      3,
                      8,
                      3,
                      9,
                      3,
                      8,
                      8,
                      3,
                      3,
                      6,
                      4,
                      9,
                      9,
                      6,
                      8,
                      9,
                      9,
                      3,
                      0,
                      4,
                      9,
                      9,
                      3,
                      3,
                      3,
                      9,
                      0,
                      0,
                      8,
                      3,
                      9,
                      6,
                      4,
                      2,
                      5,
                      9,
                      4,
                      9,
                      3,
                      3,
                      3,
                      9,
                      3,
                      4,
                      5,
                      5,
                      5,
                      0,
                      2,
                      5,
                      9,
                      6,
                      6,
                      5,
                      5,
                      5,
                      8,
                      2,
                      3,
                      5,
                      9,
                      5,
                      6,
                      4,
                      5,
                      5,
                      2,
                      2,
                      4,
                      6,
                      4,
                      5,
                      5,
                      4,
                      9,
                      8,
                      2,
                      2,
                      2,
                      2,
                      0,
                      9,
                      2,
                      2,
                      2,
                      9,
                      0,
                      8,
                      6,
                      9,
                      9,
                      4,
                      0,
                      2,
                      9,
                      2,
                      3,
                      2,
                      9,
                      6,
                      2,
                      2,
                      4,
                      5,
                      3,
                      9,
                      3,
                      9,
                      8,
                      2,
                      2,
                      8,
                      2,
                      2,
                      6,
                      6,
                      5,
                      0,
                      5,
                      4,
                      4,
                      3,
                      2,
                      0,
                      4,
                      3,
                      8,
                      6,
                      3,
                      9,
                      3,
                      4,
                      3,
                      9,
                      0,
                      4,
                      4,
                      9,
                      3,
                      3,
                      3,
                      3,
                      5,
                      3,
                      5,
                      2,
                      2,
                      2,
                      2,
                      2,
                      3,
                      2,
                      8,
                      3,
                      5,
                      9,
                      9,
                      9,
                      3,
                      6,
                      2,
                      5,
                      3,
                      2,
                      5,
                      5,
                      3,
                      3,
                      4,
                      8,
                      2,
                      3,
                      9,
                      4,
                      3,
                      3,
                      6,
                      3,
                      3,
                      6,
                      3,
                      3,
                      6,
                      4,
                      2,
                      8,
                      4,
                      2,
                      8,
                      5,
                      5,
                      5,
                      8,
                      5,
                      5,
                      5,
                      4,
                      5,
                      2,
                      5,
                      2,
                      5,
                      5,
                      2,
                      5,
                      3,
                      2,
                      5,
                      5,
                      5,
                      5,
                      5,
                      8,
                      3,
                      5,
                      2,
                      5,
                      5,
                      5,
                      5,
                      5,
                      5,
                      3,
                      8,
                      2,
                      4,
                      5,
                      4,
                      8,
                      3,
                      8,
                      5,
                      4,
                      5,
                      3,
                      6,
                      6,
                      0,
                      3,
                      8,
                      3,
                      8,
                      8,
                      5,
                      5,
                      8,
                      5,
                      8,
                      6,
                      3,
                      5,
                      9,
                      3,
                      9,
                      6,
                      3,
                      4,
                      8,
                      5,
                      4,
                      5,
                      4,
                      3,
                      5,
                      0,
                      9,
                      4,
                      2,
                      8,
                      5,
                      3,
                      2,
                      3,
                      8,
                      1,
                      5,
                      8,
                      2,
                      2,
                      5,
                      4,
                      2,
                      8,
                      2,
                      2,
                      9,
                      4,
                      4,
                      3,
                      3,
                      3,
                      8,
                      2,
                      2,
                      5,
                      3,
                      3,
                      2,
                      4,
                      4,
                      9,
                      2,
                      8,
                      8,
                      3,
                      2,
                      9,
                      3,
                      5,
                      8,
                      8,
                      6,
                      8,
                      9,
                      8,
                      3,
                      8,
                      4,
                      5,
                      6,
                      9,
                      9,
                      1,
                      4,
                      8,
                      6,
                      5,
                      5,
                      4,
                      2,
                      5,
                      9,
                      8,
                      3,
                      4,
                      5,
                      4,
                      2,
                      3,
                      2,
                      3,
                      3,
                      6,
                      5,
                      5,
                      3,
                      5,
                      3,
                      5,
                      5,
                      5,
                      3,
                      5,
                      5,
                      8,
                      4,
                      5,
                      3,
                      9,
                      9,
                      5,
                      6,
                      8,
                      2,
                      2,
                      2,
                      6,
                      5,
                      0,
                      3,
                      2,
                      1,
                      0,
                      4,
                      9,
                      8,
                      0,
                      8,
                      4,
                      5,
                      2,
                      5,
                      8,
                      4,
                      5,
                      3,
                      8,
                      5,
                      9,
                      4,
                      4,
                      5,
                      5,
                      9,
                      8,
                      3,
                      4,
                      4,
                      9,
                      5,
                      4,
                      0,
                      5,
                      2,
                      6,
                      5,
                      0,
                      2,
                      3,
                      9,
                      8,
                      6,
                      9,
                      3,
                      9,
                      3,
                      3,
                      3,
                      3,
                      9,
                      4,
                      3,
                      8,
                      6,
                      3,
                      6,
                      8,
                      3,
                      5,
                      8,
                      9,
                      5,
                      8,
                      8,
                      3,
                      5,
                      3,
                      6,
                      0,
                      4,
                      9,
                      9,
                      3,
                      0,
                      9,
                      3,
                      2,
                      0,
                      8,
                      4,
                      0,
                      8,
                      3,
                      9,
                      5,
                      6,
                      0,
                      8,
                      8,
                      8,
                      8,
                      4,
                      9,
                      6,
                      2,
                      2,
                      0,
                      5,
                      3,
                      5,
                      3,
                      3,
                      0,
                      3,
                      6,
                      6,
                      6,
                      6,
                      6,
                      4,
                      2,
                      3,
                      3,
                      3,
                      3,
                      4,
                      8,
                      4,
                      2,
                      4,
                      9,
                      4,
                      9,
                      0,
                      3,
                      3,
                      8,
                      2,
                      3,
                      9,
                      9,
                      9,
                      3,
                      8,
                      2,
                      9,
                      3,
                      2,
                      9,
                      4,
                      8,
                      3,
                      8,
                      9,
                      3,
                      2,
                      5,
                      3,
                      0,
                      6,
                      3,
                      5,
                      6,
                      6,
                      4,
                      8,
                      2,
                      9,
                      5,
                      5,
                      3,
                      1,
                      9,
                      2,
                      5,
                      9,
                      8,
                      6,
                      5,
                      5,
                      3,
                      8,
                      4,
                      8,
                      7,
                      2,
                      4,
                      8,
                      8,
                      9,
                      9,
                      8,
                      3,
                      5,
                      8,
                      5,
                      8,
                      4,
                      8,
                      8,
                      5,
                      8,
                      5,
                      0,
                      8,
                      5,
                      8,
                      4,
                      8,
                      8,
                      5,
                      4,
                      5,
                      8,
                      9,
                      5,
                      9,
                      5,
                      0,
                      2,
                      8,
                      7,
                      4,
                      5,
                      3,
                      4,
                      3,
                      9,
                      9,
                      5,
                      8,
                      9,
                      3,
                      5,
                      2,
                      3,
                      2,
                      2,
                      5,
                      6,
                      3,
                      4,
                      2,
                      5,
                      9,
                      4,
                      3,
                      2,
                      2,
                      6,
                      2,
                      9,
                      9,
                      3,
                      9,
                      9,
                      3,
                      3,
                      8,
                      2,
                      2,
                      9,
                      3,
                      5,
                      5,
                      8,
                      0,
                      4,
                      3,
                      6,
                      2,
                      2,
                      3,
                      4,
                      1,
                      3,
                      9,
                      3,
                      4,
                      0,
                      3,
                      9,
                      3,
                      9,
                      8,
                      5,
                      5,
                      8,
                      8,
                      5,
                      4,
                      3,
                      3,
                      2,
                      3,
                      9,
                      3,
                      9,
                      9,
                      4,
                      2,
                      8,
                      9,
                      8,
                      3,
                      4,
                      9,
                      9,
                      5,
                      8,
                      3,
                      3,
                      0,
                      3,
                      2,
                      2,
                      4,
                      0,
                      4,
                      2,
                      9,
                      4,
                      5,
                      9,
                      8,
                      8,
                      9,
                      8,
                      3,
                      9,
                      3,
                      5,
                      9,
                      9,
                      3,
                      9,
                      0,
                      0,
                      2,
                      2,
                      2,
                      0,
                      2,
                      4,
                      8,
                      2,
                      0,
                      4,
                      4,
                      3,
                      3,
                      4,
                      6,
                      4,
                      8,
                      3,
                      5,
                      8,
                      8,
                      9,
                      3,
                      3,
                      9,
                      6,
                      8,
                      3,
                      5,
                      5,
                      5,
                      4,
                      8,
                      5,
                      8,
                      5,
                      5,
                      3,
                      3,
                      0,
                      8,
                      9,
                      4,
                      3,
                      4,
                      9,
                      9,
                      8,
                      9,
                      8,
                      4,
                      9,
                      3,
                      2,
                      4,
                      3,
                      3,
                      4,
                      3,
                      5,
                      3,
                      8,
                      6,
                      8,
                      8,
                      3,
                      3,
                      4,
                      5,
                      5,
                      3,
                      3,
                      3,
                      3,
                      2,
                      2,
                      0,
                      5,
                      2,
                      3,
                      2,
                      2,
                      2,
                      2,
                      6,
                      6,
                      3,
                      5,
                      2,
                      4,
                      5,
                      2,
                      4,
                      8,
                      4,
                      5,
                      8,
                      8,
                      9,
                      2,
                      2,
                      3,
                      4,
                      0,
                      8,
                      3,
                      3,
                      5,
                      5,
                      5,
                      5,
                      3,
                      8,
                      2,
                      5,
                      3,
                      8,
                      4,
                      5,
                      3,
                      8,
                      6,
                      8,
                      4,
                      3,
                      4,
                      8,
                      5,
                      3,
                      8,
                      8,
                      8,
                      5,
                      5,
                      5,
                      4,
                      9,
                      2,
                      5,
                      8,
                      9,
                      4,
                      3,
                      5,
                      3,
                      3,
                      4,
                      8,
                      8,
                      4,
                      4,
                      8,
                      3,
                      0,
                      1,
                      8,
                      2,
                      4,
                      2,
                      2,
                      2,
                      0,
                      5,
                      4,
                      6,
                      8,
                      5,
                      4,
                      8,
                      2,
                      4,
                      3,
                      6,
                      8,
                      9,
                      3,
                      3,
                      4,
                      3,
                      8,
                      9,
                      4,
                      8,
                      9,
                      8,
                      9,
                      3,
                      3,
                      8,
                      8,
                      3,
                      3,
                      5,
                      3,
                      1,
                      9,
                      0,
                      3,
                      8,
                      2,
                      3,
                      5,
                      8,
                      4,
                      3,
                      3,
                      2,
                      3,
                      2,
                      0,
                      8,
                      8,
                      0,
                      3,
                      3,
                      0,
                      2,
                      3,
                      3,
                      3,
                      2,
                      2,
                      3,
                      8,
                      5,
                      4,
                      9,
                      3,
                      9,
                      0,
                      9,
                      5,
                      2,
                      8,
                      5,
                      5,
                      0,
                      5,
                      6,
                      9,
                      0,
                      4,
                      9,
                      9,
                      4,
                      3,
                      9,
                      3,
                      4,
                      4,
                      6,
                      9,
                      0,
                      0,
                      6,
                      0,
                      4,
                      9,
                      3,
                      5,
                      9,
                      6,
                      3,
                      3,
                      9,
                      5,
                      5,
                      8,
                      3,
                      6,
                      9,
                      9,
                      6,
                      2,
                      9,
                      3,
                      8,
                      9,
                      3,
                      5,
                      4,
                      9,
                      3,
                      3,
                      9,
                      0,
                      3,
                      3,
                      8,
                      8,
                      2,
                      5,
                      2,
                      0,
                      9,
                      8,
                      8,
                      3,
                      8,
                      5,
                      9,
                      4,
                      5,
                      2,
                      5,
                      4,
                      3,
                      8,
                      4,
                      8,
                      8,
                      8,
                      9,
                      8,
                      0,
                      6,
                      8,
                      8,
                      8,
                      3,
                      5,
                      9,
                      4,
                      8,
                      8,
                      3,
                      8,
                      4,
                      6,
                      1,
                      9,
                      4,
                      5,
                      5,
                      3,
                      3,
                      8,
                      4,
                      8,
                      8,
                      4,
                      4,
                      8,
                      8,
                      3,
                      9,
                      4,
                      8,
                      0,
                      4,
                      2,
                      8,
                      3,
                      8,
                      6,
                      3,
                      4,
                      5,
                      0,
                      8,
                      0,
                      4,
                      3,
                      3,
                      6,
                      9,
                      8,
                      3,
                      0,
                      8,
                      8,
                      3,
                      3,
                      9,
                      3,
                      0,
                      3,
                      8,
                      3,
                      3,
                      3,
                      3,
                      3,
                      8,
                      4,
                      8,
                      3,
                      5,
                      5,
                      3,
                      5,
                      8,
                      2,
                      7,
                      2,
                      8,
                      5,
                      5,
                      6,
                      9,
                      8,
                      3,
                      9,
                      2,
                      9,
                      6,
                      8,
                      5,
                      3,
                      8,
                      9,
                      4,
                      2,
                      2,
                      0,
                      0,
                      4,
                      6,
                      4,
                      4,
                      4,
                      6,
                      5,
                      5,
                      4,
                      2,
                      2,
                      4,
                      3,
                      4,
                      3,
                      4,
                      4,
                      2,
                      8,
                      6,
                      9,
                      0,
                      5,
                      2,
                      5,
                      8,
                      3,
                      3,
                      8,
                      8,
                      8,
                      8,
                      3,
                      8,
                      8,
                      4,
                      8,
                      8,
                      5,
                      5,
                      8,
                      0,
                      5,
                      4,
                      4,
                      9,
                      8,
                      5,
                      5,
                      0,
                      2,
                      4,
                      9,
                      8,
                      8,
                      8,
                      9,
                      2,
                      2,
                      6,
                      2,
                      5,
                      4,
                      2,
                      5,
                      3,
                      9,
                      2,
                      4,
                      3,
                      3,
                      5,
                      0,
                      8,
                      4,
                      3,
                      3,
                      9,
                      0,
                      8,
                      4,
                      4,
                      6,
                      4,
                      2,
                      8,
                      3,
                      5,
                      8,
                      5,
                      0,
                      9,
                      5,
                      2,
                      2,
                      5,
                      3,
                      8,
                      9,
                      4,
                      9,
                      3,
                      4,
                      5,
                      3,
                      4,
                      8,
                      6,
                      3,
                      5,
                      3,
                      5,
                      6,
                      2,
                      2,
                      8,
                      8,
                      9,
                      3,
                      4,
                      4,
                      9,
                      8,
                      5,
                      9,
                      5,
                      5,
                      4,
                      5,
                      3,
                      0,
                      3,
                      3,
                      9,
                      3,
                      2,
                      6,
                      8,
                      4,
                      8,
                      3,
                      0,
                      3,
                      3,
                      3,
                      5,
                      4,
                      3,
                      8,
                      9,
                      8,
                      5,
                      3,
                      8,
                      8,
                      5,
                      3,
                      4,
                      8,
                      9,
                      5,
                      4,
                      5,
                      5,
                      2,
                      2,
                      4,
                      2,
                      8,
                      5,
                      8,
                      8,
                      4,
                      5,
                      0,
                      4,
                      3,
                      4,
                      9,
                      9,
                      3,
                      8,
                      0,
                      8,
                      9,
                      3,
                      8,
                      3,
                      4,
                      4,
                      2,
                      5,
                      2,
                      3,
                      6,
                      2,
                      4,
                      5,
                      2,
                      6,
                      3,
                      3,
                      5,
                      4,
                      8,
                      6,
                      4,
                      6,
                      3,
                      3,
                      8,
                      6,
                      9,
                      2,
                      3,
                      5,
                      8,
                      6,
                      3,
                      3,
                      0,
                      6,
                      5,
                      5,
                      5,
                      4,
                      5,
                      3,
                      5,
                      4,
                      9,
                      9,
                      3,
                      9,
                      9,
                      9,
                      2,
                      0,
                      3,
                      8,
                      2,
                      5,
                      5,
                      2,
                      2,
                      2,
                      3,
                      9,
                      5,
                      4,
                      6,
                      6,
                      3,
                      6,
                      3,
                      3,
                      9,
                      0,
                      8,
                      3,
                      8,
                      4,
                      9,
                      5,
                      0,
                      2,
                      6,
                      2,
                      9,
                      8,
                      3,
                      9,
                      6,
                      3,
                      4,
                      3,
                      3,
                      3,
                      4,
                      6,
                      6,
                      3,
                      3,
                      9,
                      2,
                      5,
                      4,
                      9,
                      3,
                      3,
                      4,
                      9,
                      9,
                      4,
                      8,
                      5,
                      8,
                      5,
                      4,
                      3,
                      6,
                      9,
                      5,
                      5,
                      4,
                      0,
                      2,
                      2,
                      2,
                      2,
                      0,
                      6,
                      4,
                      3,
                      0,
                      0,
                      0,
                      9,
                      4,
                      6,
                      3,
                      8,
                      5,
                      5,
                      8,
                      5,
                      5,
                      2,
                      5,
                      3,
                      9,
                      3,
                      5,
                      3,
                      6,
                      8,
                      5,
                      5,
                      5,
                      9,
                      5,
                      5,
                      3,
                      2,
                      6,
                      0,
                      6,
                      3,
                      5,
                      6,
                      4,
                      0,
                      4,
                      6,
                      6,
                      3,
                      8,
                      9,
                      8,
                      3,
                      0,
                      3,
                      4,
                      8,
                      8,
                      3,
                      3,
                      4,
                      8,
                      3,
                      9,
                      3,
                      4,
                      3,
                      5,
                      3,
                      2,
                      3,
                      9,
                      3,
                      2,
                      2,
                      2,
                      3,
                      9,
                      8,
                      5,
                      4,
                      9,
                      5,
                      2,
                      5,
                      9,
                      4,
                      5,
                      8,
                      5,
                      5,
                      5,
                      5,
                      5,
                      5,
                      2,
                      8,
                      8,
                      3,
                      0,
                      6,
                      3,
                      9,
                      8,
                      4,
                      4,
                      3,
                      8,
                      4,
                      4,
                      8,
                      8,
                      8,
                      8,
                      8,
                      4,
                      9,
                      3,
                      6,
                      5,
                      5,
                      3,
                      8,
                      8,
                      3,
                      3,
                      5,
                      5,
                      5,
                      0,
                      0,
                      8,
                      8,
                      0,
                      2,
                      6,
                      4,
                      5,
                      5,
                      2,
                      4,
                      4,
                      0,
                      6,
                      8,
                      3,
                      3,
                      4,
                      2,
                      8,
                      5,
                      4,
                      9,
                      9,
                      8,
                      3,
                      4,
                      6,
                      9,
                      3,
                      4,
                      6,
                      3,
                      4,
                      8,
                      4,
                      4,
                      4,
                      8,
                      5,
                      9,
                      9,
                      8,
                      3,
                      8,
                      6,
                      3,
                      3,
                      0,
                      2,
                      2,
                      6,
                      4,
                      5,
                      8,
                      8,
                      9,
                      8,
                      2,
                      0,
                      0,
                      9,
                      8,
                      9,
                      3,
                      5,
                      5,
                      4,
                      8,
                      8,
                      5,
                      0,
                      9,
                      4,
                      3,
                      8,
                      9,
                      4,
                      3,
                      5,
                      5,
                      5,
                      3,
                      3,
                      5,
                      8,
                      8,
                      8,
                      8,
                      6,
                      2,
                      3,
                      4,
                      4,
                      0,
                      4,
                      0,
                      8,
                      5,
                      5,
                      2,
                      5,
                      3,
                      5,
                      5,
                      5,
                      5,
                      2,
                      5,
                      5,
                      4,
                      5,
                      5,
                      5,
                      5,
                      5,
                      2,
                      5,
                      5,
                      2,
                      3,
                      8,
                      3,
                      9,
                      8,
                      0,
                      9,
                      5,
                      3,
                      2,
                      5,
                      4,
                      5,
                      0,
                      3,
                      8,
                      0,
                      5,
                      0,
                      2,
                      5,
                      3,
                      8,
                      0,
                      0,
                      2,
                      3,
                      4,
                      3,
                      4,
                      8,
                      8,
                      8,
                      5,
                      4,
                      9,
                      5,
                      3,
                      5,
                      2,
                      2,
                      2,
                      2,
                      8,
                      5,
                      4,
                      9,
                      3,
                      5,
                      4,
                      2,
                      2,
                      3,
                      3,
                      3,
                      8,
                      4,
                      3,
                      5,
                      0,
                      8,
                      4,
                      5,
                      5,
                      5,
                      2,
                      2,
                      3,
                      3,
                      2,
                      4,
                      4,
                      4,
                      2,
                      3,
                      6,
                      3,
                      8,
                      5,
                      8
                    ],
                    "coloraxis": "coloraxis",
                    "symbol": "circle"
                  },
                  "mode": "markers",
                  "name": "",
                  "showlegend": false,
                  "type": "scattergl",
                  "x": [
                    53.076480865478516,
                    33.93223571777344,
                    -58.73064041137695,
                    24.854663848876953,
                    9.552811622619629,
                    31.104869842529297,
                    -37.392303466796875,
                    -11.493496894836426,
                    54.20219802856445,
                    18.352157592773438,
                    14.319531440734863,
                    14.1260986328125,
                    33.53571701049805,
                    4.677077770233154,
                    -37.5897216796875,
                    -30.92136001586914,
                    50.134742736816406,
                    15.323823928833008,
                    6.729732513427734,
                    34.40937805175781,
                    1.2860921621322632,
                    -28.979942321777344,
                    -25.80746841430664,
                    30.221086502075195,
                    -1.371211051940918,
                    -34.36158752441406,
                    10.765237808227539,
                    14.711315155029297,
                    -7.976105690002441,
                    35.408851623535156,
                    -12.116414070129395,
                    -20.698837280273438,
                    -18.63787269592285,
                    -28.041629791259766,
                    34.23410415649414,
                    7.209192276000977,
                    -15.68207836151123,
                    -39.55287551879883,
                    -11.642895698547363,
                    -9.776782035827637,
                    9.201414108276367,
                    -41.515201568603516,
                    24.3254451751709,
                    -6.891992092132568,
                    29.40374755859375,
                    -25.812911987304688,
                    -30.35005760192871,
                    -43.02973556518555,
                    -38.58650207519531,
                    -22.38930320739746,
                    0.41162121295928955,
                    30.091123580932617,
                    -33.206031799316406,
                    36.868412017822266,
                    -31.06424331665039,
                    -33.260799407958984,
                    5.843790531158447,
                    -1.7576874494552612,
                    -9.253460884094238,
                    -7.048510551452637,
                    -37.786285400390625,
                    -11.490065574645996,
                    -36.30721664428711,
                    -38.75236892700195,
                    -18.77706527709961,
                    -36.80092239379883,
                    -9.760540962219238,
                    -19.499862670898438,
                    -12.893457412719727,
                    35.2501106262207,
                    -11.982470512390137,
                    -42.85984802246094,
                    13.333975791931152,
                    20.393566131591797,
                    -6.931427955627441,
                    15.111454010009766,
                    37.849300384521484,
                    41.53532791137695,
                    -35.38551712036133,
                    47.33460998535156,
                    8.761091232299805,
                    -35.04233932495117,
                    45.48773193359375,
                    50.728797912597656,
                    48.1816520690918,
                    45.484439849853516,
                    16.207124710083008,
                    -20.652402877807617,
                    15.52333927154541,
                    41.297882080078125,
                    8.780868530273438,
                    46.03819274902344,
                    31.58016014099121,
                    33.89841842651367,
                    43.64622116088867,
                    -9.586801528930664,
                    32.78614807128906,
                    -52.288604736328125,
                    56.0791130065918,
                    40.46195602416992,
                    -13.06951904296875,
                    -48.044612884521484,
                    -40.73134231567383,
                    -5.503993511199951,
                    -0.623113214969635,
                    -6.907169818878174,
                    -37.074501037597656,
                    -0.7688771486282349,
                    28.776710510253906,
                    -44.057186126708984,
                    15.744044303894043,
                    4.512224197387695,
                    -32.061798095703125,
                    28.17217445373535,
                    35.429039001464844,
                    32.900672912597656,
                    -4.4293212890625,
                    -15.072546005249023,
                    39.30244827270508,
                    41.82377624511719,
                    -7.720390319824219,
                    -41.508628845214844,
                    -7.203243255615234,
                    -57.6026725769043,
                    -33.658958435058594,
                    -13.767317771911621,
                    -31.082246780395508,
                    -26.59602165222168,
                    -45.608768463134766,
                    3.419130802154541,
                    24.848812103271484,
                    45.5241584777832,
                    -3.4458117485046387,
                    -31.36724090576172,
                    -29.329607009887695,
                    45.91685485839844,
                    2.854590892791748,
                    -15.348176002502441,
                    17.559213638305664,
                    5.2361578941345215,
                    -36.491844177246094,
                    -16.55819320678711,
                    26.868080139160156,
                    10.032614707946777,
                    -10.933968544006348,
                    -26.584474563598633,
                    42.34081268310547,
                    -11.982460021972656,
                    -10.386022567749023,
                    0.2526731491088867,
                    16.904172897338867,
                    1.0676459074020386,
                    -3.6825788021087646,
                    11.65559196472168,
                    -15.821433067321777,
                    22.205921173095703,
                    -36.85356521606445,
                    0.5105113983154297,
                    -37.28182601928711,
                    26.191640853881836,
                    -18.32392692565918,
                    53.60057067871094,
                    15.835826873779297,
                    24.13969612121582,
                    -10.861419677734375,
                    40.09119415283203,
                    41.91517639160156,
                    -28.06364631652832,
                    -39.64773178100586,
                    20.347759246826172,
                    -40.56569290161133,
                    -38.30019760131836,
                    16.910219192504883,
                    -6.783661842346191,
                    -2.8725271224975586,
                    -17.114967346191406,
                    11.834493637084961,
                    -43.88899230957031,
                    -35.87848663330078,
                    -35.70048141479492,
                    -26.780427932739258,
                    -8.491756439208984,
                    1.8597787618637085,
                    27.67988395690918,
                    -10.764965057373047,
                    3.151909589767456,
                    9.955939292907715,
                    25.825618743896484,
                    -33.820430755615234,
                    -60.403343200683594,
                    51.67224884033203,
                    51.161895751953125,
                    46.548370361328125,
                    -25.437728881835938,
                    2.5246307849884033,
                    48.480934143066406,
                    7.836581707000732,
                    9.148069381713867,
                    -37.01816177368164,
                    48.35542297363281,
                    28.959333419799805,
                    -28.406707763671875,
                    -30.53391456604004,
                    35.129905700683594,
                    -12.992484092712402,
                    -16.018571853637695,
                    -10.715786933898926,
                    -19.237327575683594,
                    -10.597803115844727,
                    32.043846130371094,
                    14.546679496765137,
                    33.71527099609375,
                    -13.564366340637207,
                    19.9061336517334,
                    29.00925064086914,
                    37.419002532958984,
                    12.584514617919922,
                    -29.491897583007812,
                    5.582319736480713,
                    40.56980895996094,
                    -43.96164321899414,
                    50.62873840332031,
                    33.35727310180664,
                    53.82271957397461,
                    31.22966957092285,
                    -13.09526252746582,
                    -22.81795310974121,
                    -21.792194366455078,
                    -12.183405876159668,
                    38.12388610839844,
                    34.55818176269531,
                    25.08932113647461,
                    32.16133117675781,
                    13.328251838684082,
                    52.09321975708008,
                    -19.018098831176758,
                    20.34370994567871,
                    13.492321968078613,
                    -21.29460334777832,
                    6.377320766448975,
                    0.20746129751205444,
                    5.022429466247559,
                    30.65782928466797,
                    43.05067443847656,
                    38.482810974121094,
                    53.41823959350586,
                    34.05307388305664,
                    -31.916872024536133,
                    58.38721466064453,
                    34.11514663696289,
                    19.496355056762695,
                    12.243982315063477,
                    -30.861740112304688,
                    -7.895120620727539,
                    -40.00858688354492,
                    -16.06462860107422,
                    -5.187745571136475,
                    -19.991682052612305,
                    -15.88894271850586,
                    -11.706544876098633,
                    -14.162567138671875,
                    -4.65507698059082,
                    -41.00007247924805,
                    -15.12488842010498,
                    11.025460243225098,
                    -9.54387092590332,
                    0.13042037189006805,
                    -35.692466735839844,
                    -31.056440353393555,
                    22.025630950927734,
                    28.782215118408203,
                    -1.5549503564834595,
                    -3.6658990383148193,
                    -20.778120040893555,
                    -19.482805252075195,
                    -28.05739974975586,
                    51.02855682373047,
                    34.268638610839844,
                    13.129719734191895,
                    10.785181045532227,
                    -7.669720649719238,
                    -4.842549800872803,
                    27.606555938720703,
                    -15.671457290649414,
                    -27.6130313873291,
                    32.4192008972168,
                    -8.43539810180664,
                    36.0929069519043,
                    -43.773563385009766,
                    -10.857634544372559,
                    -18.74321746826172,
                    31.15879249572754,
                    -17.226673126220703,
                    -22.749889373779297,
                    -39.221221923828125,
                    33.961692810058594,
                    23.866910934448242,
                    -16.360702514648438,
                    41.5220832824707,
                    24.22568702697754,
                    -24.496097564697266,
                    12.646371841430664,
                    51.04745101928711,
                    26.367834091186523,
                    8.619808197021484,
                    -10.291746139526367,
                    -7.44899320602417,
                    -16.072874069213867,
                    3.8800501823425293,
                    -37.87860870361328,
                    -36.03150177001953,
                    -17.626544952392578,
                    -37.82038879394531,
                    -18.013334274291992,
                    3.8797390460968018,
                    28.20769691467285,
                    44.256614685058594,
                    10.060866355895996,
                    10.505819320678711,
                    12.924114227294922,
                    7.094676494598389,
                    10.135442733764648,
                    -8.057233810424805,
                    -52.65163040161133,
                    -30.07205581665039,
                    -39.54438018798828,
                    -41.36035919189453,
                    13.28204345703125,
                    15.907279014587402,
                    13.402106285095215,
                    -0.8973168134689331,
                    -4.8362603187561035,
                    -15.356351852416992,
                    17.229434967041016,
                    29.975858688354492,
                    -1.0220896005630493,
                    15.182438850402832,
                    21.43802261352539,
                    8.50304126739502,
                    -17.043764114379883,
                    -38.08249282836914,
                    -8.89493465423584,
                    -45.22780990600586,
                    -41.69058609008789,
                    -32.62446975708008,
                    -32.49952697753906,
                    -43.45521545410156,
                    20.07827377319336,
                    16.461673736572266,
                    -6.001790523529053,
                    -24.290990829467773,
                    54.55350875854492,
                    29.48023223876953,
                    36.96110534667969,
                    22.296030044555664,
                    42.71034240722656,
                    34.19498062133789,
                    -1.0888142585754395,
                    -16.768144607543945,
                    -11.667682647705078,
                    30.805130004882812,
                    48.53329849243164,
                    42.55083084106445,
                    -38.900386810302734,
                    -39.05701446533203,
                    -1.3712960481643677,
                    6.511096477508545,
                    -16.953371047973633,
                    -18.306921005249023,
                    3.4542291164398193,
                    16.47352409362793,
                    -34.13551712036133,
                    23.408580780029297,
                    -8.785811424255371,
                    -28.900876998901367,
                    -32.8554801940918,
                    5.541301727294922,
                    35.52041244506836,
                    -41.396217346191406,
                    17.498130798339844,
                    -16.95332145690918,
                    11.293508529663086,
                    31.064083099365234,
                    -25.585573196411133,
                    -13.061274528503418,
                    7.535665988922119,
                    2.3092634677886963,
                    -38.376190185546875,
                    33.49345779418945,
                    -25.464841842651367,
                    -14.99921703338623,
                    -29.28371238708496,
                    17.88066291809082,
                    -19.099273681640625,
                    57.9878044128418,
                    52.78199005126953,
                    -16.200273513793945,
                    44.07972717285156,
                    31.48416519165039,
                    -13.22537612915039,
                    15.14083194732666,
                    14.834761619567871,
                    -13.296465873718262,
                    -35.60309600830078,
                    15.016724586486816,
                    3.3436777591705322,
                    16.112548828125,
                    54.55223846435547,
                    47.801177978515625,
                    -35.39824295043945,
                    9.938097953796387,
                    16.076656341552734,
                    -32.34037399291992,
                    38.939002990722656,
                    -10.866720199584961,
                    12.986403465270996,
                    -14.875960350036621,
                    -34.57726287841797,
                    28.49030303955078,
                    -1.4755364656448364,
                    -13.782735824584961,
                    -35.72545623779297,
                    -42.00978088378906,
                    -34.67008972167969,
                    -0.1216234639286995,
                    -27.801328659057617,
                    5.926629066467285,
                    3.19710373878479,
                    19.38524055480957,
                    4.805902004241943,
                    34.605838775634766,
                    -24.589582443237305,
                    32.922279357910156,
                    37.69926071166992,
                    5.907629489898682,
                    -32.80176544189453,
                    17.480417251586914,
                    -14.39517593383789,
                    29.89313316345215,
                    -14.093915939331055,
                    16.369239807128906,
                    23.975215911865234,
                    -15.048828125,
                    58.406551361083984,
                    27.43462371826172,
                    36.54972839355469,
                    -30.94911003112793,
                    26.892396926879883,
                    -15.0958833694458,
                    14.575154304504395,
                    57.60787582397461,
                    17.693193435668945,
                    50.622127532958984,
                    0.4223055839538574,
                    -33.93855285644531,
                    -2.996159076690674,
                    1.503809928894043,
                    -37.394081115722656,
                    -36.22857666015625,
                    13.280962944030762,
                    -3.428074359893799,
                    -19.064453125,
                    -18.484874725341797,
                    -0.8622044324874878,
                    13.591031074523926,
                    35.50925064086914,
                    -14.124160766601562,
                    -40.30472183227539,
                    28.3374080657959,
                    -34.51488494873047,
                    -43.27394485473633,
                    -9.300040245056152,
                    39.880245208740234,
                    2.1895713806152344,
                    -39.09311294555664,
                    -35.49384689331055,
                    26.59271240234375,
                    4.842233657836914,
                    38.09101486206055,
                    -23.932992935180664,
                    2.9912197589874268,
                    -0.6413044333457947,
                    -40.24177169799805,
                    5.922331809997559,
                    -1.1652021408081055,
                    -17.995769500732422,
                    -3.0055434703826904,
                    37.49481964111328,
                    5.622315883636475,
                    10.836488723754883,
                    20.109560012817383,
                    50.49421310424805,
                    34.7487907409668,
                    -36.62119674682617,
                    7.913702011108398,
                    -12.82314395904541,
                    23.38585090637207,
                    22.346515655517578,
                    23.33553695678711,
                    -25.393962860107422,
                    -30.090633392333984,
                    57.91220474243164,
                    46.78339767456055,
                    52.0301513671875,
                    -37.58055114746094,
                    24.327768325805664,
                    36.66202163696289,
                    11.381048202514648,
                    31.807157516479492,
                    -44.8404426574707,
                    -24.94701385498047,
                    -27.03706932067871,
                    17.116159439086914,
                    12.9635648727417,
                    -24.589719772338867,
                    36.10170364379883,
                    57.108821868896484,
                    41.59104537963867,
                    -7.467724323272705,
                    47.135074615478516,
                    1.8549821376800537,
                    -3.8768346309661865,
                    -22.78132438659668,
                    36.195213317871094,
                    2.736098527908325,
                    6.999551296234131,
                    34.99600601196289,
                    10.119131088256836,
                    -1.3869376182556152,
                    33.788108825683594,
                    -27.13629913330078,
                    -0.3968280851840973,
                    13.30952262878418,
                    -17.59933853149414,
                    11.79648494720459,
                    12.349281311035156,
                    -11.592062950134277,
                    4.167513370513916,
                    -21.34103775024414,
                    -17.387298583984375,
                    7.528012275695801,
                    -21.10813331604004,
                    -13.285713195800781,
                    34.82423400878906,
                    -52.75773620605469,
                    13.584939002990723,
                    -2.555476665496826,
                    -2.5254006385803223,
                    8.130623817443848,
                    -44.73170852661133,
                    -31.64063262939453,
                    30.049358367919922,
                    -11.26704216003418,
                    -35.087371826171875,
                    33.42796325683594,
                    -31.50121307373047,
                    2.5568606853485107,
                    -41.74647521972656,
                    12.870199203491211,
                    -12.009073257446289,
                    -25.60136604309082,
                    10.551915168762207,
                    31.406044006347656,
                    40.76008987426758,
                    51.14308166503906,
                    24.612367630004883,
                    -4.18270206451416,
                    -40.063621520996094,
                    2.3052899837493896,
                    -29.53002166748047,
                    39.51426315307617,
                    7.202258110046387,
                    31.40623664855957,
                    30.8490047454834,
                    3.3152809143066406,
                    1.8715722560882568,
                    -16.244138717651367,
                    58.02918243408203,
                    16.40566635131836,
                    -17.977975845336914,
                    16.859432220458984,
                    36.78413772583008,
                    -37.88248062133789,
                    -47.09703063964844,
                    -12.658001899719238,
                    -16.38783073425293,
                    -38.05482482910156,
                    -40.36775207519531,
                    -45.77056121826172,
                    1.050898790359497,
                    -37.046714782714844,
                    29.906030654907227,
                    -41.62973403930664,
                    35.96803665161133,
                    -42.715938568115234,
                    -16.730350494384766,
                    2.724745035171509,
                    35.344635009765625,
                    27.791479110717773,
                    -20.948015213012695,
                    -15.501808166503906,
                    24.779979705810547,
                    -8.853864669799805,
                    -38.10507583618164,
                    24.590627670288086,
                    -10.422956466674805,
                    -10.598750114440918,
                    24.163280487060547,
                    12.164816856384277,
                    -24.014339447021484,
                    34.117252349853516,
                    24.774173736572266,
                    -29.893613815307617,
                    5.8408331871032715,
                    -21.034500122070312,
                    2.7176544666290283,
                    7.495132923126221,
                    42.35056686401367,
                    13.567695617675781,
                    -34.76906204223633,
                    34.89299392700195,
                    40.51781463623047,
                    -17.545448303222656,
                    3.1124730110168457,
                    6.760078430175781,
                    34.24020004272461,
                    12.211389541625977,
                    7.529644012451172,
                    2.809603452682495,
                    -36.05778121948242,
                    39.596900939941406,
                    11.797350883483887,
                    33.59292984008789,
                    11.322210311889648,
                    -38.900733947753906,
                    -27.34961700439453,
                    28.349775314331055,
                    2.9905972480773926,
                    48.909358978271484,
                    -27.634397506713867,
                    5.961149215698242,
                    6.156251430511475,
                    -16.79192352294922,
                    10.923751831054688,
                    24.429983139038086,
                    35.77166748046875,
                    20.471410751342773,
                    6.704334735870361,
                    10.715289115905762,
                    -25.005386352539062,
                    3.6700336933135986,
                    6.570398330688477,
                    -30.11052131652832,
                    38.08904266357422,
                    -13.680096626281738,
                    12.629714012145996,
                    -2.6163156032562256,
                    40.66373825073242,
                    3.9975550174713135,
                    -21.79838752746582,
                    -12.678659439086914,
                    6.623337745666504,
                    -2.5626418590545654,
                    -3.435551881790161,
                    48.652591705322266,
                    0.7515439391136169,
                    50.81795120239258,
                    50.044677734375,
                    49.08396911621094,
                    39.31646728515625,
                    46.83733367919922,
                    41.13416290283203,
                    43.773311614990234,
                    41.960269927978516,
                    50.12076950073242,
                    48.812923431396484,
                    48.91897964477539,
                    53.285770416259766,
                    16.045520782470703,
                    51.03420639038086,
                    46.552364349365234,
                    46.89229202270508,
                    39.84909439086914,
                    52.730690002441406,
                    39.1640510559082,
                    41.064491271972656,
                    29.689638137817383,
                    51.194374084472656,
                    51.389774322509766,
                    32.058570861816406,
                    28.290904998779297,
                    27.658538818359375,
                    3.8324363231658936,
                    -33.80156707763672,
                    -17.849002838134766,
                    -37.59453201293945,
                    37.550270080566406,
                    31.833345413208008,
                    -33.502105712890625,
                    -38.1605339050293,
                    -41.46449279785156,
                    22.429271697998047,
                    -32.74665069580078,
                    -7.156259059906006,
                    -13.726482391357422,
                    -41.39619445800781,
                    3.4567019939422607,
                    -35.692630767822266,
                    -9.945857048034668,
                    -2.574697256088257,
                    -13.946250915527344,
                    -1.1775929927825928,
                    -25.760908126831055,
                    40.763973236083984,
                    17.86384391784668,
                    -44.8676643371582,
                    -12.892046928405762,
                    49.7075309753418,
                    48.67748260498047,
                    53.96332550048828,
                    -36.009185791015625,
                    14.330536842346191,
                    2.276571035385132,
                    32.89411544799805,
                    29.275163650512695,
                    15.314504623413086,
                    45.07908630371094,
                    29.194974899291992,
                    16.1700439453125,
                    19.278167724609375,
                    -18.414630889892578,
                    -19.720500946044922,
                    -19.820898056030273,
                    -38.55158996582031,
                    4.369260311126709,
                    -14.46057415008545,
                    -33.465633392333984,
                    -32.388702392578125,
                    -32.912933349609375,
                    15.146230697631836,
                    17.871017456054688,
                    -33.81036376953125,
                    14.391953468322754,
                    -37.60820770263672,
                    -1.2766954898834229,
                    -38.24657440185547,
                    -35.14417266845703,
                    -2.3976120948791504,
                    25.87508773803711,
                    14.20090389251709,
                    -30.90651512145996,
                    -41.64845657348633,
                    1.4338182210922241,
                    47.38908767700195,
                    25.578336715698242,
                    -28.395479202270508,
                    3.5155832767486572,
                    -40.298030853271484,
                    -15.465012550354004,
                    -41.98469924926758,
                    -25.197032928466797,
                    -8.23926830291748,
                    15.129998207092285,
                    -17.488670349121094,
                    -18.20135498046875,
                    -17.737415313720703,
                    -20.429956436157227,
                    -24.808319091796875,
                    31.712615966796875,
                    30.49303436279297,
                    -20.995786666870117,
                    -20.86509132385254,
                    40.311866760253906,
                    32.75873565673828,
                    -18.125198364257812,
                    -19.084857940673828,
                    -20.738676071166992,
                    -11.957986831665039,
                    -54.45806121826172,
                    26.353700637817383,
                    47.8848762512207,
                    49.648258209228516,
                    35.34591293334961,
                    17.680618286132812,
                    19.996929168701172,
                    20.1329345703125,
                    -42.696128845214844,
                    33.43863296508789,
                    6.193279266357422,
                    -33.77777862548828,
                    -18.07508087158203,
                    -6.761613368988037,
                    -30.426860809326172,
                    -38.16562271118164,
                    -32.874412536621094,
                    -2.2162015438079834,
                    16.299915313720703,
                    49.30158996582031,
                    -44.131465911865234,
                    -39.59144592285156,
                    -31.65911865234375,
                    -32.166751861572266,
                    -40.41377639770508,
                    26.170717239379883,
                    -43.98162841796875,
                    -35.48925018310547,
                    7.264881134033203,
                    -36.7401123046875,
                    -9.556306838989258,
                    -36.74013900756836,
                    -32.1669807434082,
                    -8.264480590820312,
                    -14.468099594116211,
                    31.11832046508789,
                    -7.882193088531494,
                    -34.65188980102539,
                    -31.049644470214844,
                    14.641332626342773,
                    -25.90448760986328,
                    33.50433349609375,
                    45.19846725463867,
                    -31.435218811035156,
                    10.59801959991455,
                    -28.495901107788086,
                    -2.310318946838379,
                    -39.7111701965332,
                    -18.54384422302246,
                    -30.611600875854492,
                    -0.8044570088386536,
                    17.445545196533203,
                    -11.298815727233887,
                    -41.46959686279297,
                    -35.204654693603516,
                    -15.101292610168457,
                    -40.30830383300781,
                    -21.203277587890625,
                    -34.515804290771484,
                    -14.484028816223145,
                    -36.75660705566406,
                    -21.8364200592041,
                    14.087959289550781,
                    14.574380874633789,
                    11.964645385742188,
                    3.6917800903320312,
                    33.84109115600586,
                    10.67090129852295,
                    -11.207578659057617,
                    4.10872220993042,
                    0.39600810408592224,
                    -40.55439758300781,
                    6.4897847175598145,
                    -41.50798034667969,
                    2.9458587169647217,
                    34.34805679321289,
                    -27.914175033569336,
                    3.0577480792999268,
                    -36.922611236572266,
                    1.9608961343765259,
                    -37.849308013916016,
                    1.5431944131851196,
                    15.410399436950684,
                    17.071653366088867,
                    -10.55234432220459,
                    35.13604736328125,
                    -16.462820053100586,
                    -36.24045181274414,
                    -13.758543014526367,
                    -36.06340408325195,
                    23.615192413330078,
                    -23.41819190979004,
                    -40.270652770996094,
                    -44.94312286376953,
                    6.637807369232178,
                    11.674701690673828,
                    25.240854263305664,
                    14.208264350891113,
                    11.247886657714844,
                    -4.167635917663574,
                    1.843254566192627,
                    -40.779136657714844,
                    10.65759563446045,
                    6.0221405029296875,
                    11.834590911865234,
                    -42.06304931640625,
                    20.998580932617188,
                    -1.7323821783065796,
                    -16.336252212524414,
                    -17.232784271240234,
                    -22.58782196044922,
                    -24.408897399902344,
                    0.6565542817115784,
                    -24.18110466003418,
                    -43.56790542602539,
                    12.104758262634277,
                    8.902483940124512,
                    -29.00590705871582,
                    -23.217727661132812,
                    32.873680114746094,
                    -30.0775089263916,
                    -42.25339126586914,
                    34.01429748535156,
                    -1.2001467943191528,
                    -16.537742614746094,
                    -28.403642654418945,
                    1.1285083293914795,
                    -36.47852325439453,
                    -21.93717384338379,
                    28.045536041259766,
                    10.541020393371582,
                    -41.5717887878418,
                    14.583073616027832,
                    -22.074357986450195,
                    20.9274845123291,
                    -39.755287170410156,
                    25.873682022094727,
                    -14.460546493530273,
                    32.74504852294922,
                    32.051231384277344,
                    -8.83526611328125,
                    -8.118149757385254,
                    22.968734741210938,
                    -38.29053497314453,
                    16.442562103271484,
                    -30.493820190429688,
                    2.7744295597076416,
                    26.779083251953125,
                    36.560577392578125,
                    38.36676025390625,
                    -18.991098403930664,
                    35.52220153808594,
                    34.60486602783203,
                    -33.683692932128906,
                    42.69120788574219,
                    -15.916435241699219,
                    -14.845094680786133,
                    -14.731401443481445,
                    15.561790466308594,
                    13.389921188354492,
                    29.49646759033203,
                    -29.025346755981445,
                    23.72267723083496,
                    -12.619417190551758,
                    -34.923343658447266,
                    30.036487579345703,
                    -19.06548500061035,
                    -22.318620681762695,
                    8.261638641357422,
                    -37.988651275634766,
                    -30.12315559387207,
                    14.559454917907715,
                    2.200075626373291,
                    -8.311073303222656,
                    -23.64128303527832,
                    27.45009994506836,
                    -4.1043243408203125,
                    -30.560855865478516,
                    -9.431517601013184,
                    -38.88129806518555,
                    41.24615478515625,
                    -17.98731231689453,
                    28.7525577545166,
                    35.72662353515625,
                    33.98128128051758,
                    -14.822173118591309,
                    -40.28556442260742,
                    -28.567155838012695,
                    -0.9200765490531921,
                    23.487354278564453,
                    16.361465454101562,
                    29.036216735839844,
                    -30.8199462890625,
                    15.244525909423828,
                    -33.20872116088867,
                    45.52418518066406,
                    -7.427903652191162,
                    12.539708137512207,
                    -2.76015043258667,
                    -11.982595443725586,
                    -22.670270919799805,
                    -30.80776596069336,
                    30.196090698242188,
                    24.076841354370117,
                    51.02238845825195,
                    -19.979286193847656,
                    -39.084896087646484,
                    -41.05813217163086,
                    33.93270492553711,
                    -23.824111938476562,
                    11.515774726867676,
                    3.6210474967956543,
                    17.33365249633789,
                    22.982553482055664,
                    -42.9804801940918,
                    2.2392168045043945,
                    -15.714686393737793,
                    11.372654914855957,
                    -55.77657699584961,
                    -16.720867156982422,
                    -30.465776443481445,
                    -34.75516891479492,
                    11.29822826385498,
                    7.451850891113281,
                    49.04133987426758,
                    43.953617095947266,
                    57.463993072509766,
                    33.73019790649414,
                    1.0950088500976562,
                    50.29428482055664,
                    7.210013389587402,
                    -38.48796844482422,
                    -12.286890983581543,
                    -16.487428665161133,
                    -4.845383167266846,
                    17.969646453857422,
                    -43.202972412109375,
                    16.18414306640625,
                    -40.055606842041016,
                    37.42795944213867,
                    4.157143592834473,
                    -24.24124526977539,
                    -39.67238235473633,
                    -11.59625244140625,
                    -16.460628509521484,
                    38.19591522216797,
                    13.178937911987305,
                    -32.996376037597656,
                    28.88930320739746,
                    0.1634371131658554,
                    -31.03230094909668,
                    -39.71122360229492,
                    -10.201370239257812,
                    12.540203094482422,
                    -11.772831916809082,
                    -30.709163665771484,
                    -38.42495346069336,
                    -41.1453742980957,
                    -14.109987258911133,
                    -4.947831630706787,
                    -36.135311126708984,
                    -39.85206604003906,
                    -25.071508407592773,
                    37.035037994384766,
                    -0.4533458352088928,
                    -36.82005310058594,
                    -45.19021224975586,
                    -36.830867767333984,
                    -44.08350372314453,
                    -17.393007278442383,
                    6.032907009124756,
                    -43.734840393066406,
                    -51.543922424316406,
                    -39.45494079589844,
                    -18.871492385864258,
                    -19.477230072021484,
                    52.89702606201172,
                    23.877239227294922,
                    54.317588806152344,
                    25.123197555541992,
                    16.9361572265625,
                    -14.743391990661621,
                    -3.286874294281006,
                    14.1359224319458,
                    4.183549404144287,
                    -38.17583465576172,
                    43.815250396728516,
                    15.347020149230957,
                    -49.58899688720703,
                    -2.8743579387664795,
                    -6.946660041809082,
                    10.892598152160645,
                    37.22718048095703,
                    29.33293342590332,
                    -0.5203640460968018,
                    -13.17313003540039,
                    11.090243339538574,
                    13.130651473999023,
                    -45.31184387207031,
                    28.34659194946289,
                    -28.269760131835938,
                    -31.75311279296875,
                    19.385421752929688,
                    24.968822479248047,
                    14.358319282531738,
                    41.688411712646484,
                    23.467287063598633,
                    27.374177932739258,
                    43.69231033325195,
                    25.68015480041504,
                    -37.598087310791016,
                    -24.0356502532959,
                    4.664632797241211,
                    -25.29102897644043,
                    -4.9144697189331055,
                    32.3140869140625,
                    14.643414497375488,
                    -27.701696395874023,
                    4.851170539855957,
                    -23.295785903930664,
                    13.996698379516602,
                    26.695161819458008,
                    14.439201354980469,
                    14.436354637145996,
                    -30.198808670043945,
                    -1.6533920764923096,
                    36.25975036621094,
                    -50.6141471862793,
                    -23.39565658569336,
                    -14.828160285949707,
                    54.53022384643555,
                    19.642871856689453,
                    -23.3956298828125,
                    11.552328109741211,
                    -43.533287048339844,
                    -18.601055145263672,
                    14.02016830444336,
                    13.154746055603027,
                    12.114620208740234,
                    -10.219022750854492,
                    -45.81354904174805,
                    -10.489445686340332,
                    -34.19564437866211,
                    34.51522445678711,
                    55.88490295410156,
                    -10.557391166687012,
                    0.5871862769126892,
                    -39.88905715942383,
                    30.218751907348633,
                    37.23819351196289,
                    15.52487850189209,
                    13.271503448486328,
                    1.1928054094314575,
                    29.98020362854004,
                    -10.557086944580078,
                    23.6962890625,
                    37.16019821166992,
                    36.61672592163086,
                    35.74840545654297,
                    -4.590602874755859,
                    7.978151798248291,
                    4.508691310882568,
                    -0.8469781279563904,
                    -1.718639850616455,
                    11.184760093688965,
                    -32.268924713134766,
                    8.727831840515137,
                    33.78865432739258,
                    38.263248443603516,
                    36.309696197509766,
                    -10.031817436218262,
                    6.242379665374756,
                    -4.377768516540527,
                    16.100072860717773,
                    -24.444517135620117,
                    -37.263702392578125,
                    23.908710479736328,
                    23.34676742553711,
                    7.841657638549805,
                    35.76432800292969,
                    46.817100524902344,
                    -34.73088836669922,
                    1.811505675315857,
                    -3.0235681533813477,
                    4.567358493804932,
                    -32.89663314819336,
                    28.75396156311035,
                    28.699718475341797,
                    -16.464527130126953,
                    37.336700439453125,
                    50.30141067504883,
                    52.161949157714844,
                    -15.615948677062988,
                    18.437475204467773,
                    -6.954133987426758,
                    -29.007474899291992,
                    9.510334014892578,
                    26.2265567779541,
                    -10.231778144836426,
                    8.53415584564209,
                    51.881248474121094,
                    40.161922454833984,
                    9.399014472961426,
                    -41.41941833496094,
                    -25.88933563232422,
                    -18.411170959472656,
                    -6.274674415588379,
                    51.73191452026367,
                    -2.311152458190918,
                    33.941532135009766,
                    -24.681400299072266,
                    0.4236839711666107,
                    -39.89188766479492,
                    -45.869998931884766,
                    -1.0678520202636719,
                    -30.540311813354492,
                    -18.95318603515625,
                    -18.965118408203125,
                    -6.4940080642700195,
                    52.31254959106445,
                    -22.295129776000977,
                    -39.916419982910156,
                    -17.294937133789062,
                    52.312255859375,
                    -31.28536605834961,
                    -31.592634201049805,
                    5.922852516174316,
                    2.4989023208618164,
                    -40.433738708496094,
                    -11.890507698059082,
                    -24.370222091674805,
                    11.350285530090332,
                    -50.663272857666016,
                    -41.81596374511719,
                    -34.71255874633789,
                    -12.671196937561035,
                    -45.30289840698242,
                    11.243135452270508,
                    -8.83009147644043,
                    -3.8955841064453125,
                    35.172786712646484,
                    33.664039611816406,
                    42.39803695678711,
                    2.5176334381103516,
                    -40.31745529174805,
                    -14.098811149597168,
                    -40.38953399658203,
                    -34.01713943481445,
                    -25.5036563873291,
                    -41.0965461730957,
                    -40.711605072021484,
                    -38.302616119384766,
                    -42.5321159362793,
                    -32.1218376159668,
                    -32.81454849243164,
                    27.075124740600586,
                    -18.871200561523438,
                    -32.892024993896484,
                    -9.896514892578125,
                    22.861446380615234,
                    28.63031578063965,
                    -14.460542678833008,
                    45.7324104309082,
                    50.75539016723633,
                    -0.3900148272514343,
                    -35.714393615722656,
                    -40.68743896484375,
                    -30.548187255859375,
                    -42.421913146972656,
                    12.295626640319824,
                    11.980596542358398,
                    12.79260540008545,
                    -36.785030364990234,
                    -40.45085525512695,
                    15.602259635925293,
                    40.351661682128906,
                    5.656917572021484,
                    14.399263381958008,
                    -24.250953674316406,
                    -21.97174835205078,
                    47.71697235107422,
                    48.231895446777344,
                    -22.274145126342773,
                    -2.307543992996216,
                    1.7059463262557983,
                    11.761357307434082,
                    -33.17155075073242,
                    -33.94450378417969,
                    56.88058090209961,
                    -35.339691162109375,
                    49.96592712402344,
                    -28.360437393188477,
                    53.34979248046875,
                    -27.884693145751953,
                    38.29207229614258,
                    9.00545883178711,
                    -36.34200668334961,
                    -31.154516220092773,
                    -40.3175048828125,
                    -17.7294864654541,
                    10.347827911376953,
                    -12.591826438903809,
                    -32.292850494384766,
                    19.770204544067383,
                    6.486175060272217,
                    24.859678268432617,
                    -4.842549800872803,
                    -21.336023330688477,
                    -28.637109756469727,
                    -28.323627471923828,
                    -36.585594177246094,
                    -38.677982330322266,
                    -32.87472915649414,
                    -35.572784423828125,
                    31.07525062561035,
                    -10.481478691101074,
                    -25.9842472076416,
                    -16.260828018188477,
                    -34.472877502441406,
                    30.84138298034668,
                    -31.184978485107422,
                    -35.881534576416016,
                    4.57144832611084,
                    -0.5853379368782043,
                    37.03386306762695,
                    15.271249771118164,
                    5.690624237060547,
                    2.6342549324035645,
                    17.489416122436523,
                    4.873366355895996,
                    -38.87278366088867,
                    -27.38033103942871,
                    -35.13591766357422,
                    36.16176223754883,
                    -32.97002029418945,
                    19.343826293945312,
                    -38.956451416015625,
                    -23.544296264648438,
                    -30.914535522460938,
                    -48.33623504638672,
                    -35.37581253051758,
                    -46.27915573120117,
                    9.353306770324707,
                    -18.989526748657227,
                    25.872928619384766,
                    37.76002883911133,
                    35.848426818847656,
                    26.93085289001465,
                    13.730374336242676,
                    1.8842297792434692,
                    19.626144409179688,
                    39.761661529541016,
                    -32.01079559326172,
                    13.730367660522461,
                    44.771728515625,
                    -37.204532623291016,
                    4.503103733062744,
                    35.798194885253906,
                    -44.56526184082031,
                    -40.44377136230469,
                    -39.38511276245117,
                    20.00794792175293,
                    -16.27449607849121,
                    -17.093006134033203,
                    35.28780746459961,
                    33.545047760009766,
                    2.150801420211792,
                    -26.224828720092773,
                    6.6614885330200195,
                    26.172096252441406,
                    30.79623031616211,
                    40.07223129272461,
                    34.33916473388672,
                    9.191526412963867,
                    39.42612838745117,
                    21.434545516967773,
                    32.391361236572266,
                    20.806386947631836,
                    35.11817932128906,
                    -18.94403648376465,
                    25.774192810058594,
                    3.2617766857147217,
                    -14.753434181213379,
                    9.659584999084473,
                    -30.2626953125,
                    12.79260540008545,
                    -29.53765296936035,
                    37.00870895385742,
                    9.72458267211914,
                    10.412040710449219,
                    -25.015697479248047,
                    -47.24867630004883,
                    -46.589813232421875,
                    28.526111602783203,
                    -42.198421478271484,
                    -28.98600196838379,
                    -36.99877166748047,
                    -39.06142044067383,
                    -36.42003631591797,
                    -7.518656253814697,
                    -32.5229606628418,
                    -20.47821044921875,
                    -12.167350769042969,
                    -20.436307907104492,
                    -21.550397872924805,
                    -25.2943172454834,
                    -45.7488899230957,
                    4.67773962020874,
                    -37.10850143432617,
                    16.361053466796875,
                    16.842693328857422,
                    -3.613225221633911,
                    47.85702133178711,
                    42.97944641113281,
                    31.280075073242188,
                    17.03830909729004,
                    -39.32049560546875,
                    0.1788036823272705,
                    37.82269287109375,
                    -30.754493713378906,
                    -18.107723236083984,
                    -10.741674423217773,
                    29.8300724029541,
                    35.965824127197266,
                    26.897953033447266,
                    26.474470138549805,
                    35.817386627197266,
                    -13.901659965515137,
                    -60.106441497802734,
                    -17.56442642211914,
                    -15.41538143157959,
                    34.332725524902344,
                    47.893062591552734,
                    51.86089324951172,
                    51.03925323486328,
                    46.10595703125,
                    52.72441864013672,
                    33.939605712890625,
                    6.229952335357666,
                    7.765367031097412,
                    3.0711026191711426,
                    16.67511749267578,
                    16.209732055664062,
                    13.31185531616211,
                    22.19387435913086,
                    -35.511356353759766,
                    -19.526060104370117,
                    -7.311438083648682,
                    -36.39647674560547,
                    13.622298240661621,
                    -40.205162048339844,
                    -16.057292938232422,
                    -17.254024505615234,
                    -3.9242658615112305,
                    16.741086959838867,
                    40.517940521240234,
                    45.24618148803711,
                    47.45986557006836,
                    52.53544616699219,
                    51.265655517578125,
                    -39.90345764160156,
                    7.529644012451172,
                    28.726436614990234,
                    -25.479389190673828,
                    -39.308998107910156,
                    5.460066795349121,
                    -11.303316116333008,
                    -13.099634170532227,
                    34.26213836669922,
                    1.9134178161621094,
                    5.928596496582031,
                    8.725683212280273,
                    4.691194534301758,
                    -37.18122482299805,
                    -33.72428512573242,
                    0.6503225564956665,
                    -45.19654083251953,
                    42.127193450927734,
                    18.544153213500977,
                    50.284854888916016,
                    24.236589431762695,
                    35.96576690673828,
                    25.028682708740234,
                    47.83870315551758,
                    -11.502206802368164,
                    26.17746925354004,
                    36.42717742919922,
                    -19.817138671875,
                    21.83808135986328,
                    -36.676048278808594,
                    -25.29698944091797,
                    0.7410935759544373,
                    -2.0218687057495117,
                    -21.81989097595215,
                    16.78078269958496,
                    9.267132759094238,
                    -39.56201934814453,
                    1.5199626684188843,
                    -36.05440139770508,
                    -21.73844337463379,
                    -34.31093978881836,
                    29.312387466430664,
                    -30.854541778564453,
                    -32.742061614990234,
                    -16.485105514526367,
                    -36.6267204284668,
                    0.7211045026779175,
                    -38.58491897583008,
                    -5.3103861808776855,
                    -41.76457977294922,
                    -34.59558868408203,
                    -39.53501892089844,
                    -24.033252716064453,
                    15.688669204711914,
                    -18.862062454223633,
                    -12.422453880310059,
                    -17.879243850708008,
                    -16.030099868774414,
                    0.6109475493431091,
                    -9.417675018310547,
                    -29.494253158569336,
                    -22.353376388549805,
                    20.19013786315918,
                    1.8286694288253784,
                    -1.689310908317566,
                    -37.65962600708008,
                    -56.40482711791992,
                    -26.899829864501953,
                    -9.8468599319458,
                    -18.90237045288086,
                    -23.14018440246582,
                    -34.980342864990234,
                    -40.8740348815918,
                    -12.525120735168457,
                    -37.57051086425781,
                    30.001953125,
                    34.713226318359375,
                    12.549285888671875,
                    9.82999038696289,
                    28.88508415222168,
                    30.749359130859375,
                    -49.044158935546875,
                    -35.97902297973633,
                    27.45538902282715,
                    13.08023738861084,
                    -36.54801559448242,
                    27.849031448364258,
                    36.81834411621094,
                    16.323345184326172,
                    36.06660079956055,
                    8.101629257202148,
                    42.10285568237305,
                    17.25946617126465,
                    -6.921035289764404,
                    -38.382102966308594,
                    -17.049184799194336,
                    25.150087356567383,
                    8.508200645446777,
                    10.793275833129883,
                    -33.630001068115234,
                    18.401424407958984,
                    -3.6240572929382324,
                    16.170230865478516,
                    1.372894287109375,
                    6.994044780731201,
                    -31.408206939697266,
                    40.51795196533203,
                    26.95623016357422,
                    47.55702590942383,
                    52.5501708984375,
                    44.84588623046875,
                    22.520109176635742,
                    0.36557650566101074,
                    24.31595802307129,
                    11.84099006652832,
                    13.141633987426758,
                    17.064271926879883,
                    8.57775592803955,
                    -8.168878555297852,
                    51.28232955932617,
                    44.52299880981445,
                    37.446292877197266,
                    47.33018493652344,
                    -38.83316421508789,
                    -24.956525802612305,
                    50.94118881225586,
                    52.86674880981445,
                    34.874549865722656,
                    0.7514860033988953,
                    1.918165922164917,
                    -27.98346519470215,
                    30.171493530273438,
                    -7.163944721221924,
                    -7.163944244384766,
                    16.869436264038086,
                    -26.113330841064453,
                    23.4675235748291,
                    16.99766731262207,
                    34.43379592895508,
                    -39.0666618347168,
                    49.376399993896484,
                    -13.931787490844727,
                    -27.77733612060547,
                    52.464847564697266,
                    51.23175048828125,
                    14.958128929138184,
                    -6.609601020812988,
                    -45.811180114746094,
                    22.326433181762695,
                    -26.516389846801758,
                    -6.71458625793457,
                    -16.030101776123047,
                    44.51546096801758,
                    47.60945510864258,
                    -16.03008460998535,
                    51.43751525878906,
                    37.51259231567383,
                    3.253509283065796,
                    -40.74842834472656,
                    50.68930435180664,
                    -34.00071334838867,
                    29.86972999572754,
                    28.44196319580078,
                    33.298744201660156,
                    -31.584701538085938,
                    42.971458435058594,
                    1.0319188833236694,
                    12.054795265197754,
                    -41.358245849609375,
                    -50.73548126220703,
                    5.111491680145264,
                    -45.929473876953125,
                    -54.69640350341797,
                    -43.28485870361328,
                    20.431333541870117,
                    -23.08706283569336,
                    -14.18531322479248,
                    -23.433658599853516,
                    31.36659049987793,
                    27.371448516845703,
                    -13.965669631958008,
                    -34.135337829589844,
                    -4.621204376220703,
                    -4.53295373916626,
                    -32.236083984375,
                    17.508325576782227,
                    -47.14413070678711,
                    22.464006423950195,
                    36.82951354980469,
                    45.63155746459961,
                    51.37660217285156,
                    44.84653091430664,
                    36.78059005737305,
                    -3.2151730060577393,
                    42.97229766845703,
                    -47.44762420654297,
                    -48.12978744506836,
                    27.509519577026367,
                    -8.335074424743652,
                    -55.06695556640625,
                    -55.06697082519531,
                    -44.640357971191406,
                    30.773426055908203,
                    42.970394134521484,
                    26.85303497314453,
                    -34.19560241699219,
                    37.157020568847656,
                    28.72024917602539,
                    23.787513732910156,
                    -22.74839973449707,
                    -50.55523681640625,
                    29.518278121948242,
                    -8.72774600982666,
                    44.363677978515625,
                    -37.95333480834961,
                    -15.590388298034668,
                    5.509394645690918,
                    -46.72121047973633,
                    -4.138534069061279,
                    33.33572006225586,
                    -33.46590042114258,
                    -22.967103958129883,
                    -34.676700592041016,
                    -35.96907043457031,
                    -0.3573302626609802,
                    -41.69225311279297,
                    30.716766357421875,
                    47.691410064697266,
                    -21.678394317626953,
                    32.08625411987305,
                    44.147159576416016,
                    -5.259228706359863,
                    28.80112648010254,
                    35.69026184082031,
                    15.45330810546875,
                    -31.202970504760742,
                    30.0416316986084,
                    20.994653701782227,
                    26.6256046295166,
                    36.71986389160156,
                    22.23155975341797,
                    25.743038177490234,
                    28.268566131591797,
                    25.856441497802734,
                    22.752513885498047,
                    27.25680160522461,
                    26.52100944519043,
                    36.4109001159668,
                    -35.998531341552734,
                    38.02946853637695,
                    22.05995750427246,
                    22.568584442138672,
                    29.686954498291016,
                    7.134860038757324,
                    22.944665908813477,
                    -36.01022720336914,
                    -28.459087371826172,
                    28.17035484313965,
                    32.021240234375,
                    24.901155471801758,
                    24.510210037231445,
                    32.73701477050781,
                    11.609526634216309,
                    25.731616973876953,
                    25.376283645629883,
                    -8.805508613586426,
                    -16.440366744995117,
                    47.36924743652344,
                    28.043712615966797,
                    6.928377151489258,
                    32.38185501098633,
                    -4.427147388458252,
                    -27.887537002563477,
                    -16.440359115600586,
                    20.910158157348633,
                    33.162811279296875,
                    16.100292205810547,
                    -41.80630874633789,
                    -38.5189094543457,
                    -39.46321105957031,
                    3.6125786304473877,
                    -22.97426414489746,
                    -37.960479736328125,
                    -35.06264114379883,
                    -39.63780212402344,
                    -12.465384483337402,
                    35.59228515625,
                    38.60924530029297,
                    -21.031450271606445,
                    38.973175048828125,
                    -17.965890884399414,
                    -33.82544708251953,
                    28.404891967773438,
                    31.9242000579834,
                    -11.388971328735352,
                    -46.15111541748047,
                    -8.16310977935791,
                    -26.63996696472168,
                    5.602258682250977,
                    22.499774932861328,
                    -35.55591583251953,
                    4.177116394042969,
                    23.62215805053711,
                    29.38552474975586,
                    23.452903747558594,
                    -32.71890640258789,
                    18.679841995239258,
                    11.438528060913086,
                    -15.038729667663574,
                    26.239168167114258,
                    38.878604888916016,
                    -10.52072811126709,
                    -2.515977382659912,
                    -24.888656616210938,
                    37.74116516113281,
                    -22.27878761291504,
                    11.243132591247559,
                    5.82857084274292,
                    15.391451835632324,
                    -15.614191055297852,
                    58.52347946166992,
                    51.77678680419922,
                    28.62077522277832,
                    31.55329132080078,
                    39.194129943847656,
                    -16.598520278930664,
                    41.052738189697266,
                    50.92690658569336,
                    -10.389293670654297,
                    11.91675853729248,
                    26.984838485717773,
                    -28.360971450805664,
                    -23.54318618774414,
                    -40.722412109375,
                    -17.274986267089844,
                    39.757415771484375,
                    33.74027633666992,
                    8.863530158996582,
                    -39.20832824707031,
                    -38.475406646728516,
                    32.88079071044922,
                    16.72679901123047,
                    38.445533752441406,
                    1.6233056783676147,
                    48.17766571044922,
                    -6.747770309448242,
                    -29.89918327331543,
                    -31.856945037841797,
                    50.59104537963867,
                    -2.7393908500671387,
                    3.475247621536255,
                    32.72574234008789,
                    -20.931371688842773,
                    -14.578863143920898,
                    -40.11814498901367,
                    -4.623668193817139,
                    -6.985325336456299,
                    -6.50094747543335,
                    -31.56907844543457,
                    -24.592758178710938,
                    34.8332405090332,
                    7.60972261428833,
                    -29.82328987121582,
                    -7.088235855102539,
                    -0.9871705770492554,
                    3.1988651752471924,
                    36.68608856201172,
                    -32.0452880859375,
                    -0.234218031167984,
                    48.90938186645508,
                    34.03139114379883,
                    25.780139923095703,
                    54.35858917236328,
                    34.16681671142578,
                    -8.61512565612793,
                    -20.692848205566406,
                    -43.316219329833984,
                    27.373641967773438,
                    27.956937789916992,
                    36.642051696777344,
                    45.878604888916016,
                    5.77142858505249,
                    45.89149475097656,
                    1.0500524044036865,
                    -40.30455017089844,
                    -32.632598876953125,
                    15.106887817382812,
                    23.65754508972168,
                    -8.20958137512207,
                    38.55698013305664,
                    -4.450963020324707,
                    22.799402236938477,
                    10.406161308288574,
                    17.87363624572754,
                    -4.757802963256836,
                    22.78005599975586,
                    -1.1456925868988037,
                    7.515631198883057,
                    29.293787002563477,
                    11.606645584106445,
                    -41.25368118286133,
                    -24.970064163208008,
                    -9.90666675567627,
                    17.3941650390625,
                    -31.606657028198242,
                    -28.88517189025879,
                    35.5660514831543,
                    25.456464767456055,
                    31.333843231201172,
                    3.6342287063598633,
                    0.5953580737113953,
                    15.911715507507324,
                    -33.68540573120117,
                    43.577640533447266,
                    7.529644012451172,
                    -8.157111167907715,
                    11.699246406555176,
                    -13.452361106872559,
                    -11.335888862609863,
                    -22.44075584411621,
                    -15.36130428314209,
                    25.909881591796875,
                    -2.571021318435669,
                    40.25300216674805,
                    15.607843399047852,
                    -5.622875213623047,
                    34.54793167114258,
                    9.684075355529785,
                    5.058204650878906,
                    -5.27036714553833,
                    11.006160736083984,
                    -53.82598114013672,
                    17.504362106323242,
                    18.010435104370117,
                    35.76102066040039,
                    20.988868713378906,
                    8.390591621398926,
                    -4.771493911743164,
                    -23.652366638183594,
                    28.668588638305664,
                    12.277702331542969,
                    -19.665725708007812,
                    -2.6479389667510986,
                    9.935477256774902,
                    -20.668785095214844,
                    16.413230895996094,
                    28.9632511138916,
                    1.4568947553634644,
                    5.947063446044922,
                    5.926087856292725,
                    42.88457489013672,
                    -28.072877883911133,
                    10.633211135864258,
                    -15.518315315246582,
                    -38.86030197143555,
                    -9.375349998474121,
                    -2.7710187435150146,
                    -16.047658920288086,
                    -42.37004089355469,
                    -4.189271450042725,
                    -45.128578186035156,
                    -37.013980865478516,
                    -20.367197036743164,
                    12.177858352661133,
                    -45.04218673706055,
                    -18.800323486328125,
                    1.5632284879684448,
                    -45.98195266723633,
                    -42.857208251953125,
                    -19.454870223999023,
                    1.9023182392120361,
                    15.3019437789917,
                    -16.667142868041992,
                    8.197505950927734,
                    23.749574661254883,
                    -19.065473556518555,
                    -20.261917114257812,
                    6.296074867248535,
                    10.677532196044922,
                    -38.9224739074707,
                    -2.473461151123047,
                    -16.768142700195312,
                    17.414854049682617,
                    -35.54485321044922,
                    -16.953369140625,
                    -44.39551544189453,
                    -45.692771911621094,
                    -36.277488708496094,
                    -5.475815773010254,
                    54.188194274902344,
                    -31.8203182220459,
                    -35.84050750732422,
                    28.010080337524414,
                    -17.46915054321289,
                    -34.391845703125,
                    -51.543922424316406,
                    -13.626748085021973,
                    7.723958969116211,
                    -32.49221420288086,
                    1.330275297164917,
                    0.7895640134811401,
                    -15.26901626586914,
                    -38.505943298339844,
                    -21.856807708740234,
                    23.050748825073242,
                    -10.271302223205566,
                    -34.580421447753906,
                    52.73561477661133,
                    42.041744232177734,
                    11.43852710723877,
                    4.0337300300598145,
                    -37.811767578125,
                    16.92976188659668,
                    -45.488037109375,
                    3.07616925239563,
                    15.045018196105957,
                    0.22876577079296112,
                    -38.1251106262207,
                    -18.136743545532227,
                    -41.118350982666016,
                    -0.5431028008460999,
                    -30.46286392211914,
                    10.766766548156738,
                    42.87824630737305,
                    -30.116899490356445,
                    -49.62175750732422,
                    -43.95235824584961,
                    -28.528188705444336,
                    27.54384994506836,
                    -41.10142517089844,
                    17.271827697753906,
                    38.4946403503418,
                    39.88105392456055,
                    -20.146726608276367,
                    21.418136596679688,
                    -9.313232421875,
                    2.294711112976074,
                    -0.27300170063972473,
                    -35.36984634399414,
                    -8.198263168334961,
                    39.75534439086914,
                    -35.978843688964844,
                    -3.2480509281158447,
                    -0.7078630328178406,
                    9.322340965270996,
                    -37.95817184448242,
                    -39.34891891479492,
                    40.16756820678711,
                    19.191570281982422,
                    -51.27798080444336,
                    55.275360107421875,
                    -17.313119888305664,
                    31.23542022705078,
                    -32.807762145996094,
                    -35.99385452270508,
                    -6.983241081237793,
                    -15.014974594116211,
                    -37.895198822021484,
                    49.1525764465332,
                    33.747196197509766,
                    -49.25529861450195,
                    1.6173440217971802,
                    -39.142616271972656,
                    -37.54016876220703,
                    29.214035034179688,
                    -44.554481506347656,
                    -44.554466247558594,
                    17.1551456451416,
                    -12.299820899963379,
                    35.74460983276367,
                    -14.043526649475098,
                    23.99461555480957,
                    7.913702011108398,
                    -30.777481079101562,
                    6.4664459228515625,
                    7.3514723777771,
                    46.82280731201172,
                    13.251917839050293,
                    9.08885383605957,
                    -19.0277156829834,
                    -31.903512954711914,
                    36.475650787353516,
                    31.39106559753418,
                    -33.09054183959961,
                    -6.6804304122924805,
                    35.722801208496094,
                    -10.557262420654297,
                    33.669124603271484,
                    54.39085388183594,
                    23.982276916503906,
                    -3.9243078231811523,
                    -21.76030158996582,
                    -21.964723587036133,
                    3.168114423751831,
                    -24.620647430419922,
                    -1.5326656103134155,
                    32.85657501220703,
                    -12.8872652053833,
                    45.92457580566406,
                    11.019893646240234,
                    37.87530517578125,
                    3.0185952186584473,
                    -3.396127462387085,
                    15.808813095092773,
                    -17.708166122436523,
                    6.643579483032227,
                    9.0328369140625,
                    -1.0678590536117554,
                    19.86468505859375,
                    -21.31897735595703,
                    32.896610260009766,
                    10.2081880569458,
                    -17.347097396850586,
                    25.794078826904297,
                    37.72859191894531,
                    13.752945899963379,
                    -18.805438995361328,
                    -21.680023193359375,
                    14.062309265136719,
                    0.5127997398376465,
                    13.23816967010498,
                    4.779171466827393,
                    29.5089111328125,
                    -10.473336219787598,
                    34.332679748535156,
                    22.5098819732666,
                    32.213226318359375,
                    -29.641775131225586,
                    38.5420036315918,
                    1.756500482559204,
                    -54.36776351928711,
                    1.2862215042114258,
                    6.102684497833252,
                    -37.407798767089844,
                    -27.506675720214844,
                    1.1347529888153076,
                    11.37424087524414,
                    38.49991226196289,
                    -29.96007537841797,
                    40.15208435058594,
                    36.57127380371094,
                    37.42881774902344,
                    -26.191843032836914,
                    -26.151994705200195,
                    12.874016761779785,
                    27.464685440063477,
                    34.842491149902344,
                    -1.0242438316345215,
                    26.428125381469727,
                    -32.014915466308594,
                    35.726524353027344,
                    -13.541083335876465,
                    -38.16618728637695,
                    58.29328155517578,
                    -7.430403709411621,
                    -4.497763633728027,
                    -31.828632354736328,
                    -0.48403820395469666,
                    -8.762704849243164,
                    -38.270503997802734,
                    -13.385321617126465,
                    -36.09843063354492,
                    16.99171257019043,
                    52.14080810546875,
                    27.8293399810791,
                    -44.156463623046875,
                    41.527793884277344,
                    41.528076171875,
                    -31.016220092773438,
                    6.358741283416748,
                    11.036478996276855,
                    -28.21095848083496,
                    -42.196746826171875,
                    37.50838088989258,
                    36.650150299072266,
                    -1.2265957593917847,
                    29.02730369567871,
                    3.826136827468872,
                    4.935004711151123,
                    -5.771763801574707,
                    -44.72197341918945,
                    16.09658432006836,
                    13.558738708496094,
                    -31.188491821289062,
                    -50.35070037841797,
                    -37.127262115478516,
                    -50.297576904296875,
                    -34.81178665161133,
                    11.686478614807129,
                    14.61617374420166,
                    -11.706475257873535,
                    -23.97037696838379,
                    19.9306640625,
                    23.756277084350586,
                    -39.79695129394531,
                    -30.2326717376709,
                    32.450279235839844,
                    -30.263500213623047,
                    -17.33296775817871,
                    -30.69563865661621,
                    11.764961242675781,
                    -12.516074180603027,
                    24.24130630493164,
                    39.5771598815918,
                    -22.730815887451172,
                    -53.32754898071289,
                    -21.65473175048828,
                    -54.30540466308594,
                    23.839231491088867,
                    12.938117980957031,
                    -13.898810386657715,
                    39.416202545166016,
                    4.973067760467529,
                    -30.360118865966797,
                    -36.77019119262695,
                    -39.09318542480469,
                    -39.962486267089844,
                    51.11906433105469,
                    52.87022399902344,
                    29.57360076904297,
                    4.469245433807373,
                    26.98845100402832,
                    37.947998046875,
                    -8.988261222839355,
                    27.474994659423828,
                    31.48847007751465,
                    -53.34613037109375,
                    -19.561721801757812,
                    -16.137617111206055,
                    -9.236270904541016,
                    -34.11256408691406,
                    0.523507297039032,
                    -43.112998962402344,
                    1.9295313358306885,
                    28.33379364013672,
                    -19.44209861755371,
                    -13.475173950195312,
                    -39.75341033935547,
                    7.200250625610352,
                    9.31355094909668,
                    -13.350564956665039,
                    43.78369140625,
                    47.016876220703125,
                    37.17262268066406,
                    -18.013334274291992,
                    41.13355255126953,
                    29.941692352294922,
                    -23.029508590698242,
                    35.762168884277344,
                    -13.569418907165527,
                    27.092443466186523,
                    24.535242080688477,
                    -49.680763244628906,
                    -49.6807746887207,
                    29.508808135986328,
                    -28.556421279907227,
                    26.012805938720703,
                    -8.888921737670898,
                    3.3099474906921387,
                    11.042802810668945,
                    -32.84060287475586,
                    9.5088529586792,
                    -8.004240989685059,
                    -4.034344673156738,
                    -9.506174087524414,
                    -11.585795402526855,
                    -37.8082160949707,
                    -21.155881881713867,
                    -45.39274978637695,
                    38.19596481323242,
                    5.998577117919922,
                    11.372373580932617,
                    24.03758430480957,
                    -6.939198970794678,
                    -14.433189392089844,
                    -19.886940002441406,
                    34.932621002197266,
                    13.383456230163574,
                    -38.73590850830078,
                    -28.324674606323242,
                    -21.74217414855957,
                    -19.869611740112305,
                    -10.997597694396973,
                    26.434707641601562,
                    -40.72703552246094,
                    16.744308471679688,
                    5.705108165740967,
                    -1.9112471342086792,
                    -29.01032066345215,
                    -10.639215469360352,
                    -36.70211410522461,
                    25.79060935974121,
                    -19.67664337158203,
                    -56.53633117675781,
                    40.021697998046875,
                    28.41521644592285,
                    -23.002765655517578,
                    -38.932682037353516,
                    31.877819061279297,
                    -45.85791015625,
                    7.265465259552002,
                    -19.18206024169922,
                    -29.52869987487793,
                    -37.500858306884766,
                    -31.95334815979004,
                    -10.162813186645508,
                    -39.600250244140625,
                    -36.96689987182617,
                    25.03915786743164,
                    13.74846076965332,
                    36.40068435668945,
                    -28.706029891967773,
                    -9.009170532226562,
                    3.306274890899658,
                    -1.6943541765213013,
                    51.27787780761719,
                    47.19443893432617,
                    12.615189552307129,
                    10.482047080993652,
                    50.0368537902832,
                    5.099806785583496,
                    27.42003631591797,
                    48.08504867553711,
                    40.081363677978516,
                    32.517093658447266,
                    -40.251426696777344,
                    -30.461040496826172,
                    -39.010868072509766,
                    47.458980560302734,
                    49.3505973815918,
                    32.20722961425781,
                    22.418798446655273,
                    53.40619659423828,
                    23.232566833496094,
                    -42.705936431884766,
                    26.066465377807617,
                    26.523792266845703,
                    -30.13231086730957,
                    -3.2757222652435303,
                    13.037801742553711,
                    29.51227569580078,
                    57.41902542114258,
                    -26.798856735229492,
                    32.88644790649414,
                    1.0190646648406982,
                    -5.196671009063721,
                    -59.209686279296875,
                    -33.3127326965332,
                    29.842336654663086,
                    29.740026473999023,
                    31.260940551757812,
                    19.769397735595703,
                    -36.27468490600586,
                    -36.70417404174805,
                    40.08516311645508,
                    6.122318744659424,
                    -26.749746322631836,
                    -17.657543182373047,
                    14.22653865814209,
                    4.807750701904297,
                    -33.61098098754883,
                    -14.262397766113281,
                    0.7498867511749268,
                    -8.359962463378906,
                    34.07798385620117,
                    -24.908084869384766,
                    19.610361099243164,
                    -20.702457427978516,
                    31.59340476989746,
                    -38.060543060302734,
                    -34.33275604248047,
                    -4.075900554656982,
                    -19.608896255493164,
                    20.126615524291992,
                    16.46678352355957,
                    31.359420776367188,
                    33.18020248413086,
                    -0.7674791812896729,
                    37.008750915527344,
                    17.037282943725586,
                    -12.968642234802246,
                    -10.095800399780273,
                    5.704003810882568,
                    5.204188823699951,
                    40.20369338989258,
                    -1.4579882621765137,
                    -2.738877058029175,
                    35.18617630004883,
                    -1.3995981216430664,
                    -5.4370880126953125,
                    21.759084701538086,
                    20.191572189331055,
                    -14.105204582214355,
                    -43.753570556640625,
                    11.239768981933594,
                    6.464055061340332,
                    -49.16556167602539,
                    39.332618713378906,
                    31.565603256225586,
                    51.029876708984375,
                    50.615882873535156,
                    39.542015075683594,
                    14.86397933959961,
                    15.027009963989258,
                    31.566082000732422,
                    -36.1893310546875,
                    -12.48917293548584,
                    17.23488426208496,
                    24.652040481567383,
                    -17.791318893432617,
                    57.645896911621094,
                    33.91890335083008,
                    -36.61543655395508,
                    29.55763053894043,
                    -37.029266357421875,
                    2.350132465362549,
                    -38.42951583862305,
                    -39.36382293701172,
                    37.0345573425293,
                    -44.239505767822266,
                    -6.198385238647461,
                    -7.678410053253174,
                    12.780007362365723,
                    -20.528398513793945,
                    -2.0309574604034424,
                    -16.064311981201172,
                    -13.003785133361816,
                    -1.2766958475112915,
                    -38.67455291748047,
                    -16.39577293395996,
                    -21.422441482543945,
                    -35.13856887817383,
                    -41.87371826171875,
                    5.854659557342529,
                    -39.82906723022461,
                    -60.51178741455078,
                    -7.071775436401367,
                    -13.870281219482422,
                    -23.365798950195312,
                    -29.075864791870117,
                    43.581974029541016,
                    -6.750850677490234,
                    2.2496986389160156,
                    -23.491212844848633,
                    25.140117645263672,
                    -8.955878257751465,
                    -31.438379287719727,
                    56.32571029663086,
                    -17.020706176757812,
                    34.10171890258789,
                    -17.62645721435547,
                    -15.386407852172852,
                    -15.524819374084473,
                    -15.122114181518555,
                    -42.686981201171875,
                    -39.73625564575195,
                    -14.943817138671875,
                    35.96904373168945,
                    -45.42510223388672,
                    -31.28542709350586,
                    -30.586450576782227,
                    31.001367568969727,
                    49.702213287353516,
                    -45.54851531982422,
                    -37.410186767578125,
                    13.206677436828613,
                    12.751315116882324,
                    -18.3094425201416,
                    -40.533241271972656,
                    -20.5145206451416,
                    6.288393020629883,
                    -0.13711370527744293,
                    20.680938720703125,
                    42.78992462158203,
                    10.597899436950684,
                    31.17951011657715,
                    4.492447853088379,
                    8.999977111816406,
                    10.123394966125488,
                    0.8149884343147278,
                    -7.648535251617432,
                    6.277378082275391,
                    15.78490924835205,
                    -26.64522933959961,
                    -16.41175651550293,
                    11.113015174865723,
                    -7.539069175720215,
                    -11.98354434967041,
                    -49.62175750732422,
                    11.865306854248047,
                    7.948561668395996,
                    -37.39594650268555,
                    -7.400694847106934,
                    -12.050419807434082,
                    -33.216392517089844,
                    -38.267784118652344,
                    -33.60974884033203,
                    25.988733291625977,
                    -7.279000282287598,
                    -31.69784927368164,
                    48.465213775634766,
                    10.154397010803223,
                    3.403568983078003,
                    -28.359214782714844,
                    -27.131256103515625,
                    -11.278815269470215,
                    15.666152954101562,
                    -5.554371356964111,
                    -13.014161109924316,
                    -23.10698127746582,
                    -35.025421142578125,
                    4.631391525268555,
                    7.16697883605957,
                    -29.18813705444336,
                    33.42921447753906,
                    -21.841388702392578,
                    -31.364843368530273,
                    0.6388967037200928,
                    -7.926716327667236,
                    2.9307541847229004,
                    7.25870943069458,
                    14.587963104248047,
                    -20.32416343688965,
                    -38.71430587768555,
                    -37.51441192626953,
                    -21.610441207885742,
                    -26.392850875854492,
                    -51.54421615600586,
                    -44.4897575378418,
                    -12.887275695800781,
                    -12.887255668640137,
                    48.17965316772461,
                    38.571441650390625,
                    53.51198959350586,
                    -32.913818359375,
                    -8.688152313232422,
                    -37.60432815551758,
                    -33.72743225097656,
                    -26.02388572692871,
                    -5.906254768371582,
                    26.955537796020508,
                    -5.316051959991455,
                    24.693294525146484,
                    38.26899719238281,
                    47.89932632446289,
                    29.21637725830078,
                    24.17441177368164,
                    1.5747568607330322,
                    -15.130411148071289,
                    33.15205764770508,
                    -35.7261848449707,
                    -42.14777755737305,
                    -38.64626693725586,
                    -10.301898002624512,
                    -21.91513442993164,
                    2.446045160293579,
                    9.634169578552246,
                    -35.44242858886719,
                    -32.69194412231445,
                    -15.072469711303711,
                    -41.53810501098633,
                    35.476932525634766,
                    -12.183175086975098,
                    33.88776779174805,
                    -33.51955032348633,
                    -11.093040466308594,
                    -24.91559600830078,
                    7.5157318115234375,
                    10.882363319396973,
                    -29.324007034301758,
                    6.838162899017334,
                    -11.0052490234375,
                    23.26043701171875,
                    33.449283599853516,
                    15.99477481842041,
                    -34.291622161865234,
                    -36.939022064208984,
                    -28.513031005859375,
                    36.44270706176758,
                    -26.26508331298828,
                    -37.03701400756836,
                    24.173437118530273,
                    19.610057830810547,
                    -28.47590446472168,
                    -14.804619789123535,
                    -34.87055206298828,
                    -1.3042147159576416,
                    27.559062957763672,
                    -19.578266143798828,
                    -13.974888801574707,
                    9.072415351867676,
                    53.7357063293457,
                    -27.00859260559082,
                    -28.895706176757812,
                    -9.859710693359375,
                    -42.191314697265625,
                    -24.034353256225586,
                    12.454854011535645,
                    8.303289413452148,
                    -21.61614227294922,
                    -33.27052307128906,
                    12.378619194030762,
                    35.47575759887695,
                    -36.041446685791016,
                    -57.794857025146484,
                    -1.2303560972213745,
                    -4.912065505981445,
                    10.826273918151855,
                    -34.51007080078125,
                    -33.12238693237305,
                    -7.518434047698975,
                    -18.070419311523438,
                    -25.14277458190918,
                    -29.844362258911133,
                    -21.964723587036133,
                    -26.22481346130371,
                    6.104471206665039,
                    -28.267879486083984,
                    -31.638025283813477,
                    -41.87370300292969,
                    -40.485931396484375,
                    -31.09817123413086,
                    -30.770233154296875,
                    -32.1684684753418,
                    -2.2968969345092773,
                    27.565105438232422,
                    -27.68718910217285,
                    -35.42161560058594,
                    38.57537841796875,
                    6.859544277191162,
                    4.67604923248291,
                    5.039427757263184,
                    0.9851638674736023,
                    51.52824401855469,
                    33.48480224609375,
                    40.08517074584961,
                    -13.500524520874023,
                    24.907983779907227,
                    22.727401733398438,
                    1.448357105255127,
                    2.7644028663635254,
                    -28.945693969726562,
                    -2.790062665939331,
                    1.8786461353302002,
                    43.32892990112305,
                    10.629997253417969,
                    -34.19730758666992,
                    -14.919110298156738,
                    31.335111618041992,
                    -20.176034927368164,
                    -25.69915771484375,
                    -1.9679316282272339,
                    35.47373580932617,
                    52.80125045776367,
                    53.0956916809082,
                    16.176687240600586,
                    1.8982974290847778,
                    14.87626838684082,
                    -0.6685634851455688,
                    14.216045379638672,
                    36.137027740478516,
                    29.58757972717285,
                    -26.640079498291016,
                    30.348541259765625,
                    38.421836853027344,
                    22.650590896606445,
                    51.83130645751953,
                    49.63433074951172,
                    15.903355598449707,
                    -23.669933319091797,
                    15.668811798095703,
                    -25.306114196777344,
                    22.64994239807129,
                    35.62144470214844,
                    49.02280807495117,
                    -23.00552749633789,
                    0.9048267602920532,
                    -24.536714553833008,
                    -32.48344039916992,
                    17.547985076904297,
                    54.75216293334961,
                    37.05591583251953,
                    -37.3011360168457,
                    -34.84011459350586,
                    -9.534189224243164,
                    -39.375335693359375,
                    -5.264229774475098,
                    -37.63359069824219,
                    -14.140386581420898,
                    -26.65176010131836,
                    -18.014904022216797,
                    -5.016191482543945,
                    34.223209381103516,
                    -5.8565497398376465,
                    -7.424587249755859,
                    10.762310981750488,
                    15.877555847167969,
                    -10.255552291870117,
                    7.76816987991333,
                    15.608806610107422,
                    35.534366607666016,
                    15.078099250793457,
                    -5.403421401977539,
                    -42.61376953125,
                    -0.7517955303192139,
                    40.70132827758789,
                    -25.977603912353516,
                    38.876731872558594,
                    36.340484619140625,
                    -16.207612991333008,
                    -20.041669845581055,
                    -56.78715896606445,
                    -35.77256774902344,
                    3.704026699066162,
                    1.270236611366272,
                    17.44024085998535,
                    1.1955509185791016,
                    38.04737854003906,
                    21.074312210083008,
                    11.994070053100586,
                    45.63391876220703,
                    18.896808624267578,
                    -36.289127349853516,
                    -21.37369155883789,
                    23.480121612548828,
                    20.604246139526367,
                    -30.84291648864746,
                    -32.108089447021484,
                    7.214439392089844,
                    10.937633514404297,
                    -11.959466934204102,
                    24.657201766967773,
                    -45.69921112060547,
                    -36.784217834472656,
                    -2.242767333984375,
                    3.833706855773926,
                    -2.5584163665771484,
                    34.102333068847656,
                    20.927141189575195,
                    -36.506187438964844,
                    19.258142471313477,
                    50.2371940612793,
                    -4.2366108894348145,
                    1.8332219123840332,
                    15.623781204223633,
                    -4.300430774688721,
                    7.794981002807617,
                    5.738004684448242,
                    -0.6669299602508545,
                    27.2702693939209,
                    46.65574645996094,
                    40.61832809448242,
                    10.388246536254883,
                    -34.64186096191406,
                    -10.074738502502441,
                    -9.060665130615234,
                    34.97775650024414,
                    0.7103497385978699,
                    -3.6304357051849365,
                    23.078020095825195,
                    2.987534284591675,
                    -36.89354705810547,
                    34.48969650268555,
                    -23.973403930664062,
                    3.8226561546325684,
                    0.6801297068595886,
                    0.7327406406402588,
                    -23.8070068359375,
                    5.0382585525512695,
                    -30.719039916992188,
                    42.86862564086914,
                    34.59990692138672,
                    -16.804027557373047,
                    -26.921024322509766,
                    -22.079042434692383,
                    -44.73185348510742,
                    23.951772689819336,
                    21.84480094909668,
                    -14.965903282165527,
                    -16.903350830078125,
                    34.9273567199707,
                    -20.59784507751465,
                    13.418134689331055,
                    31.623741149902344,
                    12.007641792297363,
                    15.708536148071289,
                    -32.20133590698242,
                    6.011170864105225,
                    -48.68598937988281,
                    -41.15029525756836,
                    14.303375244140625,
                    -39.00480270385742,
                    17.365760803222656,
                    -35.22511672973633,
                    -34.429080963134766,
                    20.375070571899414,
                    -21.13477897644043,
                    8.966687202453613,
                    -7.116832256317139,
                    -0.36543235182762146,
                    -37.97491455078125,
                    0.08850251883268356,
                    22.261348724365234,
                    27.57062530517578,
                    -30.379959106445312,
                    -34.01536560058594,
                    -12.714051246643066,
                    -39.27176284790039,
                    24.707551956176758,
                    -3.001952886581421,
                    -31.140060424804688,
                    -3.4962832927703857,
                    17.412155151367188,
                    -28.008331298828125,
                    40.517887115478516,
                    -11.797786712646484,
                    7.39904260635376,
                    -2.3020639419555664,
                    29.754817962646484,
                    23.557498931884766,
                    9.380906105041504,
                    17.16567611694336,
                    18.234270095825195,
                    13.549073219299316,
                    38.153228759765625,
                    -33.47924041748047,
                    38.40255355834961,
                    -13.09300708770752,
                    -18.0245418548584,
                    33.16064453125,
                    9.178119659423828,
                    5.381901741027832,
                    32.99782943725586,
                    -39.70659255981445,
                    31.288776397705078,
                    0.8982772827148438,
                    -17.553190231323242,
                    -4.194376468658447,
                    -18.226032257080078,
                    4.962126731872559,
                    -15.739729881286621,
                    -7.6230950355529785,
                    -28.189088821411133,
                    -1.956171989440918,
                    -30.462797164916992,
                    33.651039123535156,
                    21.97667121887207,
                    16.146141052246094,
                    24.955018997192383,
                    45.35443115234375,
                    -3.1141233444213867,
                    -39.54289627075195,
                    34.756534576416016,
                    40.831146240234375,
                    38.90165328979492,
                    52.461326599121094,
                    -43.90130615234375,
                    -44.84041976928711,
                    -27.124717712402344,
                    17.80322265625,
                    13.409852027893066,
                    -18.003978729248047,
                    -33.41075897216797,
                    12.210725784301758,
                    -40.742103576660156,
                    -43.39075469970703,
                    -31.84529685974121,
                    -32.486419677734375,
                    -2.4734983444213867,
                    -22.079042434692383,
                    49.73332595825195,
                    -29.307247161865234,
                    17.981914520263672,
                    -28.018531799316406,
                    -29.818721771240234,
                    2.858515977859497,
                    -39.34378433227539,
                    -23.25295066833496,
                    -28.78733253479004,
                    26.996856689453125,
                    34.156375885009766,
                    29.838212966918945,
                    28.13233757019043,
                    24.698484420776367,
                    -35.155609130859375,
                    23.839933395385742,
                    32.412208557128906,
                    9.706300735473633,
                    0.40455353260040283,
                    -45.53216552734375,
                    -11.140661239624023,
                    -11.231542587280273,
                    -20.88785171508789,
                    32.74290084838867,
                    -2.581120252609253,
                    -37.40654373168945,
                    -16.03008460998535,
                    45.842830657958984,
                    27.443906784057617,
                    14.15310001373291,
                    38.6766242980957,
                    38.0740852355957,
                    47.828826904296875,
                    -28.015094757080078,
                    -17.630159378051758,
                    14.255122184753418,
                    42.12727355957031,
                    -45.546295166015625,
                    -31.534902572631836,
                    3.3860387802124023,
                    -35.91490173339844,
                    -36.431495666503906,
                    -32.582950592041016,
                    -48.42031478881836,
                    4.547479629516602,
                    -3.205782890319824,
                    6.122875690460205,
                    -4.183990478515625,
                    23.091243743896484,
                    -16.503711700439453,
                    7.5152058601379395,
                    -37.36356735229492,
                    43.20531463623047,
                    5.879397392272949,
                    42.13074493408203,
                    -2.136367082595825,
                    -19.51301383972168,
                    -34.74553298950195,
                    -14.743391990661621,
                    2.1690337657928467,
                    -35.945796966552734,
                    28.31151008605957,
                    -45.04225540161133,
                    -41.857505798339844,
                    -45.222225189208984,
                    31.016103744506836,
                    -42.4525146484375,
                    4.6656341552734375,
                    -6.089405059814453,
                    -27.992643356323242,
                    -14.518162727355957,
                    37.04230499267578,
                    37.50556564331055,
                    20.263376235961914,
                    -14.636821746826172,
                    -31.951326370239258,
                    -45.22221374511719,
                    19.193532943725586,
                    -9.254621505737305,
                    -8.06452751159668,
                    12.170904159545898,
                    -16.61903953552246,
                    9.90560245513916,
                    -56.78738784790039,
                    18.86537742614746,
                    10.640870094299316,
                    -26.939191818237305,
                    0.6234531998634338,
                    0.1918097883462906,
                    24.009244918823242,
                    26.74595069885254,
                    20.9207706451416,
                    -40.24149703979492,
                    52.69610595703125,
                    56.10493087768555,
                    32.50555419921875,
                    49.627777099609375,
                    -39.50652313232422,
                    -39.17002868652344,
                    11.048338890075684,
                    -33.458099365234375,
                    -18.08487319946289,
                    6.495736598968506,
                    14.485064506530762,
                    -7.369325160980225,
                    33.10879135131836,
                    3.4989631175994873,
                    -30.367372512817383,
                    -41.48209762573242,
                    28.668132781982422,
                    11.798027992248535,
                    -11.680935859680176,
                    5.330657482147217,
                    4.268258571624756,
                    42.89427947998047,
                    11.01839828491211,
                    4.088683605194092,
                    9.959993362426758,
                    3.6883251667022705,
                    23.023466110229492,
                    -39.05967712402344,
                    0.41167303919792175,
                    -12.589726448059082,
                    24.177814483642578,
                    14.169713020324707,
                    24.2611141204834,
                    -3.418393850326538,
                    24.763996124267578,
                    34.01679992675781,
                    -33.091365814208984,
                    16.34459686279297,
                    1.4417701959609985,
                    -33.71895980834961,
                    -1.8378446102142334,
                    -35.269012451171875,
                    34.33269500732422,
                    5.274664878845215,
                    9.904858589172363,
                    -32.91380310058594,
                    9.795313835144043,
                    -39.19641876220703,
                    -33.043853759765625,
                    -25.23819351196289,
                    -23.202943801879883,
                    -5.818722248077393,
                    -16.784269332885742,
                    -46.16623306274414,
                    12.368348121643066,
                    -24.469789505004883,
                    31.570775985717773,
                    -38.189334869384766,
                    -17.721954345703125,
                    0.6664065718650818,
                    -33.16663360595703,
                    27.845365524291992,
                    -46.36954116821289,
                    -33.5233268737793,
                    -23.940418243408203,
                    -24.546581268310547,
                    37.1334114074707,
                    -24.04535484313965,
                    31.191917419433594,
                    -27.59194564819336,
                    43.75960159301758,
                    -27.20132827758789,
                    -23.786386489868164,
                    -49.0450553894043,
                    40.00524139404297,
                    51.361541748046875,
                    18.280445098876953,
                    -41.453407287597656,
                    -15.40634536743164,
                    7.6240339279174805,
                    30.948495864868164,
                    38.13488006591797,
                    -10.707914352416992,
                    28.276206970214844,
                    45.056270599365234,
                    30.733295440673828,
                    0.9638733863830566,
                    30.10765838623047,
                    20.23849868774414,
                    -10.733553886413574,
                    21.036888122558594,
                    15.595739364624023,
                    18.47199249267578,
                    15.80972671508789,
                    11.349174499511719,
                    9.763921737670898,
                    38.33748245239258,
                    0.22908203303813934,
                    -15.191694259643555,
                    -5.067007064819336,
                    -33.888179779052734,
                    -30.21635627746582,
                    -47.88812255859375,
                    7.578269004821777,
                    -16.657676696777344,
                    24.141706466674805,
                    24.847341537475586,
                    1.8518198728561401,
                    -35.152748107910156,
                    16.909358978271484,
                    31.454545974731445,
                    -18.85706329345703,
                    -18.420194625854492,
                    -17.50493049621582,
                    -41.40208053588867,
                    -14.436175346374512,
                    19.356584548950195,
                    -17.84501838684082,
                    -37.91392517089844,
                    -38.55733871459961,
                    -2.0767438411712646,
                    37.945091247558594,
                    -8.285552024841309,
                    -19.74964141845703,
                    -18.39203643798828,
                    -38.46181106567383,
                    2.779503107070923,
                    11.951088905334473,
                    13.606257438659668,
                    11.347931861877441,
                    -3.286051034927368,
                    18.428415298461914,
                    -12.678642272949219,
                    -16.678421020507812,
                    12.393569946289062,
                    51.385398864746094,
                    -0.2551040053367615,
                    31.181232452392578,
                    10.847131729125977,
                    27.45438575744629,
                    39.308650970458984,
                    31.244346618652344,
                    33.045135498046875,
                    5.881381988525391,
                    -36.71562957763672,
                    -34.67078399658203,
                    1.894068956375122,
                    -48.36670684814453,
                    35.610958099365234,
                    45.05125045776367,
                    11.243142127990723,
                    34.432621002197266,
                    25.40890121459961,
                    -13.805291175842285,
                    10.648043632507324,
                    -37.64187240600586,
                    -36.54771041870117,
                    29.145145416259766,
                    -41.382354736328125,
                    -11.955962181091309,
                    -44.35299301147461,
                    16.810739517211914,
                    -35.12828063964844,
                    -36.55768585205078,
                    17.601285934448242,
                    -40.894981384277344,
                    17.01103973388672,
                    20.875232696533203,
                    20.61975860595703,
                    -36.161865234375,
                    25.297931671142578,
                    -9.754693031311035,
                    -11.61461067199707,
                    -28.141952514648438,
                    -46.86226272583008,
                    -15.238908767700195,
                    0.9231935739517212,
                    4.980625152587891,
                    -39.07419967651367,
                    -16.16231346130371,
                    51.31304168701172,
                    49.828575134277344,
                    -38.03428649902344,
                    17.163034439086914,
                    30.06580924987793,
                    -3.136178493499756,
                    -17.357784271240234,
                    -18.35786247253418,
                    -37.75621795654297,
                    58.57368850708008,
                    -33.53915023803711,
                    -45.99229431152344,
                    -5.407289981842041,
                    -16.15631103515625,
                    -48.173851013183594,
                    -31.6655216217041,
                    20.352985382080078,
                    34.46171188354492,
                    28.422664642333984,
                    -19.21691131591797,
                    -21.87360191345215,
                    4.387210369110107,
                    -21.642410278320312,
                    -9.772093772888184,
                    26.98598289489746,
                    -33.212867736816406,
                    -19.058595657348633,
                    -5.518191814422607,
                    9.74751091003418,
                    -1.078282356262207,
                    17.709497451782227,
                    9.059111595153809,
                    31.953723907470703,
                    -41.36857986450195,
                    -53.07927322387695,
                    15.820526123046875,
                    -32.76667404174805,
                    -21.308542251586914,
                    -16.493391036987305,
                    -35.838653564453125,
                    -0.03022005781531334,
                    47.355098724365234,
                    -1.7794567346572876,
                    33.75077438354492,
                    31.676450729370117,
                    1.174264907836914,
                    29.57376480102539,
                    1.483642816543579,
                    -26.467037200927734,
                    28.72003746032715,
                    9.727484703063965,
                    50.224552154541016,
                    33.38686752319336,
                    -28.063079833984375,
                    33.86970138549805,
                    31.186241149902344,
                    31.885562896728516,
                    33.660987854003906,
                    30.649917602539062,
                    23.890762329101562,
                    25.494808197021484,
                    37.989933013916016,
                    31.286134719848633,
                    20.276336669921875,
                    16.597917556762695,
                    23.970548629760742,
                    33.37519836425781,
                    48.24633026123047,
                    36.00384521484375,
                    14.272619247436523,
                    44.316627502441406,
                    -39.175716400146484,
                    -19.586156845092773,
                    -39.62392807006836,
                    -3.0034406185150146,
                    -37.456302642822266,
                    -16.42780303955078,
                    -13.075613975524902,
                    29.058086395263672,
                    -47.51243591308594,
                    56.92310333251953,
                    14.209572792053223,
                    15.709639549255371,
                    17.074420928955078,
                    -32.51723098754883,
                    -44.69725036621094,
                    -10.204737663269043,
                    -17.626466751098633,
                    24.713207244873047,
                    13.311132431030273,
                    48.56008529663086,
                    17.461261749267578,
                    -34.0832405090332,
                    -2.462775707244873,
                    16.689767837524414,
                    -15.962735176086426,
                    40.470184326171875,
                    -31.649290084838867,
                    22.20764923095703,
                    -40.44611740112305,
                    38.34651184082031,
                    -13.148162841796875,
                    -15.773263931274414,
                    -12.82162094116211,
                    17.813758850097656,
                    23.046857833862305,
                    -8.6062650680542,
                    7.316582679748535,
                    -42.15951919555664,
                    14.404509544372559,
                    53.437950134277344,
                    41.91120910644531,
                    17.659639358520508,
                    17.510099411010742,
                    -39.803775787353516,
                    4.420860290527344,
                    30.589237213134766,
                    -52.59047317504883,
                    -18.847362518310547,
                    -6.579748630523682,
                    18.517595291137695,
                    32.51706314086914,
                    32.51101303100586,
                    3.5047597885131836,
                    3.174431324005127,
                    -43.35957717895508,
                    -34.217166900634766,
                    22.54047966003418,
                    -9.464849472045898,
                    -3.2140893936157227,
                    -22.184179306030273,
                    -5.028432369232178,
                    30.665489196777344,
                    6.590654373168945,
                    33.44588851928711,
                    15.530220985412598,
                    52.60526657104492,
                    43.783695220947266,
                    -10.457578659057617,
                    3.9844110012054443,
                    56.25615310668945,
                    36.360984802246094,
                    26.12467384338379,
                    18.711713790893555,
                    28.153303146362305,
                    -1.0788379907608032,
                    -45.545654296875,
                    -30.00539207458496,
                    -14.324353218078613,
                    29.66060447692871,
                    4.968708515167236
                  ],
                  "xaxis": "x",
                  "y": [
                    3.925762414932251,
                    -14.467391014099121,
                    4.111343860626221,
                    21.77586555480957,
                    20.405961990356445,
                    -6.878739833831787,
                    45.06427764892578,
                    64.40328979492188,
                    -11.217595100402832,
                    -5.4724578857421875,
                    8.882589340209961,
                    -61.37506866455078,
                    -58.43377685546875,
                    -4.766020774841309,
                    -34.879390716552734,
                    -14.390519142150879,
                    4.335445880889893,
                    30.689748764038086,
                    -28.25563621520996,
                    -33.53989028930664,
                    -1.2696349620819092,
                    2.015387535095215,
                    21.7923641204834,
                    24.488622665405273,
                    -63.519351959228516,
                    18.309261322021484,
                    22.706798553466797,
                    23.5350341796875,
                    7.824680805206299,
                    33.32197570800781,
                    10.646709442138672,
                    19.030197143554688,
                    41.25660705566406,
                    31.363969802856445,
                    2.7103374004364014,
                    -26.961624145507812,
                    9.36169719696045,
                    -32.607975006103516,
                    8.224431991577148,
                    47.13384246826172,
                    -6.690739631652832,
                    32.23221969604492,
                    -57.34111022949219,
                    29.497325897216797,
                    -70.49999237060547,
                    -29.58206558227539,
                    23.432764053344727,
                    4.237664699554443,
                    41.95539474487305,
                    39.11090850830078,
                    -69.73790740966797,
                    -60.964839935302734,
                    26.163301467895508,
                    -66.21256256103516,
                    10.381490707397461,
                    29.10758399963379,
                    20.43457794189453,
                    26.09368896484375,
                    -1.6680405139923096,
                    -6.203604698181152,
                    48.06411361694336,
                    -5.7116875648498535,
                    3.8837411403656006,
                    24.649526596069336,
                    58.69544982910156,
                    5.471324443817139,
                    21.58415985107422,
                    -13.14636516571045,
                    58.97605514526367,
                    -6.083725452423096,
                    -26.833471298217773,
                    -39.68393325805664,
                    -2.7111284732818604,
                    -55.269500732421875,
                    15.835108757019043,
                    -5.397502899169922,
                    -1.578558087348938,
                    -27.361616134643555,
                    -30.651763916015625,
                    0.7849137783050537,
                    13.249553680419922,
                    38.119693756103516,
                    11.360325813293457,
                    -3.0257585048675537,
                    1.0221285820007324,
                    12.072989463806152,
                    8.330140113830566,
                    -28.00322914123535,
                    -53.8303108215332,
                    10.517932891845703,
                    -59.5751838684082,
                    3.676110029220581,
                    -7.098304271697998,
                    -8.09477710723877,
                    5.811392307281494,
                    -23.40835189819336,
                    -46.600276947021484,
                    0.33746182918548584,
                    7.683567047119141,
                    -54.17890548706055,
                    -4.70449686050415,
                    9.708250045776367,
                    9.269102096557617,
                    12.125397682189941,
                    2.2181968688964844,
                    -6.151440143585205,
                    12.321843147277832,
                    23.770065307617188,
                    17.906362533569336,
                    16.084558486938477,
                    29.757139205932617,
                    -66.7197265625,
                    -30.86539649963379,
                    6.305298805236816,
                    -39.93145751953125,
                    -49.304195404052734,
                    22.392988204956055,
                    43.620513916015625,
                    -35.8908576965332,
                    -1.358373761177063,
                    -2.342238426208496,
                    40.946590423583984,
                    20.418609619140625,
                    5.773497581481934,
                    13.07103157043457,
                    48.69342041015625,
                    26.196062088012695,
                    27.637752532958984,
                    5.854847431182861,
                    28.593936920166016,
                    -61.45231246948242,
                    -5.081268310546875,
                    13.041295051574707,
                    5.704399108886719,
                    9.718424797058105,
                    11.457221984863281,
                    -28.794479370117188,
                    58.87417221069336,
                    -29.548545837402344,
                    -26.072904586791992,
                    4.018057823181152,
                    61.76617431640625,
                    -68.88404083251953,
                    -63.47739791870117,
                    -5.993378639221191,
                    -11.802348136901855,
                    4.528873443603516,
                    -26.833925247192383,
                    44.23749923706055,
                    -31.20189666748047,
                    -67.44893646240234,
                    -30.928550720214844,
                    -7.023008346557617,
                    20.809396743774414,
                    -18.660755157470703,
                    -50.81216049194336,
                    23.073810577392578,
                    -3.689645528793335,
                    28.2342529296875,
                    -66.42432403564453,
                    -3.1653010845184326,
                    -8.431779861450195,
                    -6.480780124664307,
                    -39.27088928222656,
                    37.3932991027832,
                    2.0073461532592773,
                    -12.864931106567383,
                    20.80537986755371,
                    19.220726013183594,
                    -59.88522720336914,
                    5.0542497634887695,
                    37.925575256347656,
                    -58.212501525878906,
                    -3.719369411468506,
                    19.1403751373291,
                    -9.478912353515625,
                    -68.37115478515625,
                    -0.5186998248100281,
                    23.98903465270996,
                    -0.4334257245063782,
                    10.030981063842773,
                    -6.769196033477783,
                    4.127131938934326,
                    -48.83091735839844,
                    -1.5751161575317383,
                    33.01509475708008,
                    -49.325069427490234,
                    -63.315773010253906,
                    50.83913803100586,
                    5.005136966705322,
                    11.889244079589844,
                    -2.843996524810791,
                    1.6545475721359253,
                    -17.91985321044922,
                    -68.92023468017578,
                    8.671611785888672,
                    -17.586545944213867,
                    -22.01580238342285,
                    -11.363142013549805,
                    1.7023327350616455,
                    7.16575813293457,
                    -17.732210159301758,
                    29.182247161865234,
                    -44.84634780883789,
                    64.59284210205078,
                    10.045248985290527,
                    39.557640075683594,
                    36.287750244140625,
                    -14.694600105285645,
                    -37.84116744995117,
                    -3.7153396606445312,
                    27.156171798706055,
                    16.653535842895508,
                    35.9239387512207,
                    -62.599735260009766,
                    31.231468200683594,
                    32.35919952392578,
                    -36.37351989746094,
                    -21.685096740722656,
                    -30.370365142822266,
                    -35.75396728515625,
                    -6.080799102783203,
                    14.034795761108398,
                    3.6875128746032715,
                    -69.7794418334961,
                    -12.172467231750488,
                    36.08744430541992,
                    36.38270950317383,
                    40.01128005981445,
                    31.061424255371094,
                    37.673545837402344,
                    25.5046443939209,
                    26.878313064575195,
                    29.362247467041016,
                    -8.038668632507324,
                    42.319759368896484,
                    21.96553611755371,
                    6.4806318283081055,
                    -10.766730308532715,
                    62.8211784362793,
                    59.74128723144531,
                    62.745033264160156,
                    0.7202044725418091,
                    6.572237491607666,
                    3.3018412590026855,
                    -6.0121989250183105,
                    6.511663913726807,
                    9.881537437438965,
                    8.797964096069336,
                    8.964468955993652,
                    33.73076248168945,
                    -60.375701904296875,
                    -14.363189697265625,
                    -1.236703634262085,
                    -27.851337432861328,
                    10.365432739257812,
                    -1.8772815465927124,
                    21.61825942993164,
                    61.46006774902344,
                    62.08980178833008,
                    65.75651550292969,
                    -14.708355903625488,
                    -25.61294174194336,
                    8.963617324829102,
                    20.518695831298828,
                    3.7365710735321045,
                    59.69340896606445,
                    52.122806549072266,
                    11.904899597167969,
                    -72.22001647949219,
                    9.059170722961426,
                    0.12905029952526093,
                    1.8445780277252197,
                    -28.434003829956055,
                    2.3053297996520996,
                    -7.4686503410339355,
                    -0.9513339400291443,
                    -1.7512288093566895,
                    -57.1469841003418,
                    -62.93925857543945,
                    16.787002563476562,
                    -63.92539596557617,
                    -1.4406460523605347,
                    -18.735122680664062,
                    -29.146343231201172,
                    -65.2009048461914,
                    -16.61528968811035,
                    -46.17070388793945,
                    -33.600406646728516,
                    9.6318998336792,
                    -14.166905403137207,
                    28.169034957885742,
                    48.30940246582031,
                    31.739276885986328,
                    -36.74137496948242,
                    -6.673716068267822,
                    20.236038208007812,
                    11.402498245239258,
                    -33.38063430786133,
                    18.624849319458008,
                    2.528181791305542,
                    -58.86824035644531,
                    -12.060722351074219,
                    -63.5462532043457,
                    -56.89794158935547,
                    -18.14240074157715,
                    -0.019882358610630035,
                    -24.54476547241211,
                    62.915687561035156,
                    -11.200417518615723,
                    -6.891860485076904,
                    -30.829713821411133,
                    -11.665328979492188,
                    -24.78447914123535,
                    -27.821836471557617,
                    -42.96327590942383,
                    2.0489981174468994,
                    -61.07280349731445,
                    28.30133819580078,
                    27.15997886657715,
                    33.06538391113281,
                    32.054710388183594,
                    -6.417705535888672,
                    5.117368698120117,
                    10.439413070678711,
                    20.54469108581543,
                    -38.9612922668457,
                    23.0654354095459,
                    26.51578140258789,
                    23.29024314880371,
                    41.410831451416016,
                    38.76349639892578,
                    29.89975929260254,
                    10.392346382141113,
                    -66.94573211669922,
                    -66.68839263916016,
                    21.68382453918457,
                    12.363972663879395,
                    22.45063591003418,
                    -9.510001182556152,
                    45.612152099609375,
                    19.09122085571289,
                    7.161645412445068,
                    8.142136573791504,
                    6.321167469024658,
                    49.33803176879883,
                    -17.226926803588867,
                    28.668231964111328,
                    -2.388300895690918,
                    0.7834023237228394,
                    40.37571716308594,
                    -4.866262435913086,
                    -45.9337043762207,
                    -33.95081329345703,
                    16.344181060791016,
                    6.00313138961792,
                    0.8482301235198975,
                    -66.26467895507812,
                    -28.206880569458008,
                    31.531940460205078,
                    -0.4485635459423065,
                    -3.9188125133514404,
                    -13.065671920776367,
                    -12.388410568237305,
                    -25.060152053833008,
                    -63.5207633972168,
                    -54.40058135986328,
                    -21.557039260864258,
                    47.43623733520508,
                    28.281572341918945,
                    20.36210823059082,
                    -20.46192169189453,
                    41.24386978149414,
                    62.01755142211914,
                    45.76395034790039,
                    29.59077262878418,
                    -49.68303298950195,
                    -56.496742248535156,
                    -31.847209930419922,
                    -72.3323974609375,
                    -21.557077407836914,
                    -60.94572830200195,
                    -38.6876335144043,
                    -38.49530029296875,
                    -2.3547024726867676,
                    30.32211685180664,
                    -63.003562927246094,
                    -17.020671844482422,
                    -57.72514343261719,
                    4.019418239593506,
                    -22.135141372680664,
                    10.23239517211914,
                    -20.005361557006836,
                    44.50346374511719,
                    10.40633773803711,
                    -10.104270935058594,
                    38.97787094116211,
                    -30.35505485534668,
                    29.63521957397461,
                    -24.288002014160156,
                    -5.526078224182129,
                    19.368478775024414,
                    -24.171642303466797,
                    28.737918853759766,
                    -4.694302082061768,
                    31.81169891357422,
                    -2.1170530319213867,
                    6.8227338790893555,
                    -1.2592157125473022,
                    -29.759868621826172,
                    -49.300594329833984,
                    1.9630568027496338,
                    34.71752166748047,
                    -1.2507797479629517,
                    -2.26249098777771,
                    2.7468056678771973,
                    28.815725326538086,
                    48.231163024902344,
                    -69.18810272216797,
                    -2.7734177112579346,
                    -7.719182014465332,
                    -12.91141128540039,
                    -5.459911346435547,
                    -23.3125057220459,
                    9.215988159179688,
                    29.108783721923828,
                    30.859651565551758,
                    15.911434173583984,
                    -50.601951599121094,
                    -61.331729888916016,
                    -16.219175338745117,
                    -14.737052917480469,
                    31.079734802246094,
                    -47.551361083984375,
                    18.084318161010742,
                    4.217069149017334,
                    8.208984375,
                    17.950634002685547,
                    -55.567806243896484,
                    62.25490951538086,
                    -3.706925392150879,
                    38.03410720825195,
                    2.8686561584472656,
                    10.446298599243164,
                    -48.32509231567383,
                    -40.58448028564453,
                    33.57322311401367,
                    -55.21875,
                    34.592010498046875,
                    30.88974380493164,
                    8.078462600708008,
                    -21.165069580078125,
                    -5.418753623962402,
                    60.022911071777344,
                    25.77616310119629,
                    14.637731552124023,
                    29.70903205871582,
                    -26.97465705871582,
                    13.673429489135742,
                    -25.97237777709961,
                    21.99553680419922,
                    -20.314176559448242,
                    60.725833892822266,
                    -2.275583267211914,
                    16.364612579345703,
                    20.834789276123047,
                    56.261329650878906,
                    1.5344568490982056,
                    -53.80554962158203,
                    22.71723175048828,
                    11.310014724731445,
                    -5.837856292724609,
                    -26.262487411499023,
                    12.636131286621094,
                    3.423964738845825,
                    10.689105987548828,
                    -57.91069793701172,
                    22.867326736450195,
                    0.906934916973114,
                    43.22096252441406,
                    25.899412155151367,
                    60.56668472290039,
                    11.243043899536133,
                    -27.526090621948242,
                    25.00441551208496,
                    50.16423034667969,
                    8.302240371704102,
                    -41.44398498535156,
                    18.312253952026367,
                    2.4009041786193848,
                    21.507131576538086,
                    15.448019027709961,
                    27.47298812866211,
                    -25.66153907775879,
                    10.507299423217773,
                    4.833477973937988,
                    28.90474510192871,
                    32.961246490478516,
                    28.86811637878418,
                    -27.70547866821289,
                    47.93842315673828,
                    9.677828788757324,
                    6.427628040313721,
                    -13.609431266784668,
                    12.869185447692871,
                    -55.25804901123047,
                    4.430734157562256,
                    3.8974320888519287,
                    -0.16828058660030365,
                    11.093825340270996,
                    15.297719955444336,
                    14.437017440795898,
                    33.16279602050781,
                    -26.129289627075195,
                    -14.737016677856445,
                    -44.02994918823242,
                    7.509146690368652,
                    -11.827619552612305,
                    -27.215070724487305,
                    -2.747727632522583,
                    -0.26947757601737976,
                    13.04300308227539,
                    23.817983627319336,
                    -64.79493713378906,
                    20.17229652404785,
                    22.971668243408203,
                    -55.985843658447266,
                    -52.87881851196289,
                    42.12253189086914,
                    -54.59896469116211,
                    8.044220924377441,
                    -24.214723587036133,
                    9.014892578125,
                    60.73766326904297,
                    -51.50777053833008,
                    -63.7762451171875,
                    -3.1265156269073486,
                    -9.772811889648438,
                    -2.9436569213867188,
                    61.95885467529297,
                    5.777705192565918,
                    -4.3434576988220215,
                    63.071285247802734,
                    -57.1873664855957,
                    11.665703773498535,
                    2.4345738887786865,
                    55.0402946472168,
                    54.832950592041016,
                    58.624324798583984,
                    24.65829849243164,
                    40.87784957885742,
                    -50.90554428100586,
                    37.09178161621094,
                    -40.59800338745117,
                    21.26734161376953,
                    -32.90009689331055,
                    41.13663101196289,
                    31.639976501464844,
                    -4.243450164794922,
                    -17.925048828125,
                    4.738354682922363,
                    15.643070220947266,
                    -4.042490005493164,
                    -30.61131477355957,
                    -6.1913652420043945,
                    -59.652618408203125,
                    18.857099533081055,
                    -29.564838409423828,
                    26.680463790893555,
                    -1.7632461786270142,
                    -7.057308673858643,
                    18.12499237060547,
                    -4.04262638092041,
                    13.053041458129883,
                    57.454315185546875,
                    -3.9038212299346924,
                    64.95042419433594,
                    10.38775634765625,
                    32.59884262084961,
                    4.352137088775635,
                    -54.41922378540039,
                    22.91104507446289,
                    12.98118782043457,
                    3.79649019241333,
                    -6.468585014343262,
                    57.155242919921875,
                    13.287805557250977,
                    2.122131586074829,
                    6.083200931549072,
                    -2.6357414722442627,
                    12.904657363891602,
                    20.62782096862793,
                    10.995781898498535,
                    4.92246675491333,
                    10.55904769897461,
                    57.17367172241211,
                    -12.711959838867188,
                    2.0881195068359375,
                    21.610389709472656,
                    39.70664596557617,
                    9.964411735534668,
                    -61.263160705566406,
                    -14.137676239013672,
                    -34.92205047607422,
                    -47.777774810791016,
                    43.97043228149414,
                    7.553542137145996,
                    0.20451632142066956,
                    23.315502166748047,
                    20.68198585510254,
                    -59.33720016479492,
                    28.643253326416016,
                    14.750849723815918,
                    18.089214324951172,
                    35.853675842285156,
                    39.16132354736328,
                    27.8802547454834,
                    14.531463623046875,
                    37.041717529296875,
                    -30.020343780517578,
                    25.041467666625977,
                    -57.70587921142578,
                    33.33649444580078,
                    31.94031524658203,
                    5.746995449066162,
                    -47.06263732910156,
                    -55.92936706542969,
                    62.27677536010742,
                    -30.30908203125,
                    -4.46823263168335,
                    -54.19264221191406,
                    7.247433662414551,
                    25.879737854003906,
                    3.0310189723968506,
                    9.412456512451172,
                    -33.45077133178711,
                    11.589207649230957,
                    15.908909797668457,
                    17.83974266052246,
                    -4.692229270935059,
                    17.544662475585938,
                    34.49919509887695,
                    25.18320655822754,
                    1.7052443027496338,
                    26.92603874206543,
                    -49.37223815917969,
                    41.7643928527832,
                    2.807617425918579,
                    16.665626525878906,
                    -23.453014373779297,
                    12.52710247039795,
                    38.08377456665039,
                    10.515237808227539,
                    -48.52320861816406,
                    0.24172230064868927,
                    9.930715560913086,
                    30.50898551940918,
                    6.431895732879639,
                    29.344505310058594,
                    -10.627067565917969,
                    48.68085479736328,
                    2.422048568725586,
                    29.177467346191406,
                    38.40899658203125,
                    2.8144001960754395,
                    -6.106700897216797,
                    13.515247344970703,
                    12.072369575500488,
                    -3.690703868865967,
                    -5.482337474822998,
                    10.966135025024414,
                    -33.49494171142578,
                    7.216007709503174,
                    -6.54042911529541,
                    -8.413946151733398,
                    -9.480292320251465,
                    -6.629857063293457,
                    -10.798388481140137,
                    17.083890914916992,
                    12.191818237304688,
                    -4.525952339172363,
                    -0.6085120439529419,
                    -5.7590250968933105,
                    -9.9564790725708,
                    3.659442186355591,
                    -31.437009811401367,
                    3.1348416805267334,
                    12.94126033782959,
                    12.762970924377441,
                    -1.0611541271209717,
                    12.496031761169434,
                    29.56684684753418,
                    62.89185333251953,
                    -8.456954956054688,
                    47.55903625488281,
                    20.0559139251709,
                    22.88003158569336,
                    -36.673980712890625,
                    -32.34787368774414,
                    -44.17778396606445,
                    -38.18709182739258,
                    -65.645263671875,
                    -39.4836311340332,
                    1.6143192052841187,
                    41.14360046386719,
                    -31.847217559814453,
                    62.7436637878418,
                    46.24760055541992,
                    0.6251813769340515,
                    59.04623031616211,
                    -11.159521102905273,
                    -65.37936401367188,
                    -25.440933227539062,
                    -0.38797107338905334,
                    -20.80083656311035,
                    0.7618434429168701,
                    61.82223892211914,
                    16.62499237060547,
                    1.6151148080825806,
                    3.1324918270111084,
                    24.7119083404541,
                    17.62887191772461,
                    -15.644497871398926,
                    3.599637031555176,
                    8.173872947692871,
                    2.70154070854187,
                    -6.519630432128906,
                    8.969679832458496,
                    13.799419403076172,
                    19.763792037963867,
                    -30.12989616394043,
                    37.85308074951172,
                    38.868690490722656,
                    -16.42108154296875,
                    29.58556365966797,
                    -30.110050201416016,
                    -15.660346984863281,
                    -23.152875900268555,
                    25.046493530273438,
                    9.767229080200195,
                    34.879913330078125,
                    24.24322509765625,
                    10.39570140838623,
                    24.69831085205078,
                    17.782602310180664,
                    41.03365707397461,
                    24.602231979370117,
                    29.13019561767578,
                    31.217208862304688,
                    21.88555145263672,
                    6.810758590698242,
                    8.245529174804688,
                    -70.3338394165039,
                    20.394695281982422,
                    -57.14422607421875,
                    21.932273864746094,
                    -30.50749397277832,
                    -8.018355369567871,
                    62.955814361572266,
                    -6.058045387268066,
                    36.90113067626953,
                    26.43305206298828,
                    33.91746139526367,
                    43.75263214111328,
                    39.1973991394043,
                    40.96892547607422,
                    44.775455474853516,
                    39.55388259887695,
                    -57.64851760864258,
                    -57.88060760498047,
                    39.632625579833984,
                    43.857627868652344,
                    25.043249130249023,
                    34.52988052368164,
                    40.36833572387695,
                    37.358978271484375,
                    44.119144439697266,
                    -20.99677848815918,
                    6.932282447814941,
                    27.305715560913086,
                    3.786247968673706,
                    2.32952880859375,
                    12.484245300292969,
                    24.522979736328125,
                    -67.20404815673828,
                    -67.1199722290039,
                    -5.590131759643555,
                    -43.3028564453125,
                    -57.045677185058594,
                    52.083797454833984,
                    -5.2448344230651855,
                    0.39107194542884827,
                    14.493725776672363,
                    8.142754554748535,
                    46.40631103515625,
                    -8.38866138458252,
                    -58.39347457885742,
                    5.691102981567383,
                    -32.66756057739258,
                    -24.785818099975586,
                    -36.893009185791016,
                    -38.08831787109375,
                    42.82513427734375,
                    4.274821758270264,
                    -0.9002392888069153,
                    36.31346130371094,
                    -19.254348754882812,
                    -19.324186325073242,
                    -5.8811798095703125,
                    -19.3243350982666,
                    -38.0882568359375,
                    5.707905292510986,
                    15.580902099609375,
                    35.69343185424805,
                    6.010508060455322,
                    6.882138252258301,
                    -26.236356735229492,
                    -65.74687194824219,
                    -29.62332534790039,
                    -17.8660888671875,
                    -2.4179470539093018,
                    -38.90701675415039,
                    -60.493560791015625,
                    -41.035377502441406,
                    -65.19225311279297,
                    -38.39192581176758,
                    61.336883544921875,
                    3.6055119037628174,
                    -58.808746337890625,
                    -46.63322830200195,
                    -3.6950061321258545,
                    -7.017758846282959,
                    -11.70068359375,
                    -23.276762008666992,
                    -5.096071720123291,
                    -18.63202476501465,
                    -14.378277778625488,
                    -22.97524070739746,
                    0.40355613827705383,
                    -23.007646560668945,
                    -54.69118118286133,
                    25.120861053466797,
                    -57.299190521240234,
                    -11.934365272521973,
                    -34.663246154785156,
                    1.11979079246521,
                    3.9782462120056152,
                    62.6536979675293,
                    30.558752059936523,
                    21.794864654541016,
                    -28.116134643554688,
                    -39.405174255371094,
                    -68.03314971923828,
                    25.234756469726562,
                    36.954627990722656,
                    -64.35090637207031,
                    -39.138214111328125,
                    -61.83721923828125,
                    46.3721809387207,
                    -65.88815307617188,
                    -65.1661376953125,
                    -57.517337799072266,
                    63.8109016418457,
                    -12.761228561401367,
                    31.116352081298828,
                    -40.27485656738281,
                    39.36362075805664,
                    -34.9915885925293,
                    -66.52542877197266,
                    -15.91356372833252,
                    -27.751317977905273,
                    -17.73438835144043,
                    -55.65715026855469,
                    -64.02899169921875,
                    12.893494606018066,
                    36.11029052734375,
                    25.62794303894043,
                    15.59759521484375,
                    -70.98373413085938,
                    -18.673721313476562,
                    -42.74188232421875,
                    -55.43443298339844,
                    -68.37091827392578,
                    -37.30897903442383,
                    41.056297302246094,
                    24.076129913330078,
                    5.149193286895752,
                    41.68336486816406,
                    -9.080857276916504,
                    -16.57833480834961,
                    -62.74038314819336,
                    -31.07530403137207,
                    -19.515493392944336,
                    -10.573075294494629,
                    -58.65553665161133,
                    46.220062255859375,
                    36.62697219848633,
                    -38.16880798339844,
                    34.135597229003906,
                    -34.173728942871094,
                    15.379355430603027,
                    40.6678466796875,
                    64.84149932861328,
                    22.02132797241211,
                    -68.757568359375,
                    -35.894256591796875,
                    -7.7617411613464355,
                    -66.43067932128906,
                    -57.99833679199219,
                    -31.279512405395508,
                    10.028786659240723,
                    45.073307037353516,
                    -46.77874755859375,
                    37.466529846191406,
                    -49.72572326660156,
                    -30.110034942626953,
                    -37.960350036621094,
                    -50.04927062988281,
                    29.045612335205078,
                    29.775087356567383,
                    -66.12054443359375,
                    48.40920639038086,
                    -59.2880859375,
                    12.421730995178223,
                    -66.65934753417969,
                    -65.0995864868164,
                    -9.686817169189453,
                    -47.234954833984375,
                    64.12229919433594,
                    31.7390193939209,
                    -13.551084518432617,
                    -21.015275955200195,
                    1.2442318201065063,
                    62.963626861572266,
                    65.66508483886719,
                    31.53681182861328,
                    -60.90754318237305,
                    3.5026767253875732,
                    34.615928649902344,
                    37.16822052001953,
                    31.57444953918457,
                    -22.738821029663086,
                    5.003683090209961,
                    -65.98178100585938,
                    36.272544860839844,
                    44.05289077758789,
                    30.249300003051758,
                    -9.383170127868652,
                    -22.832660675048828,
                    -66.28917694091797,
                    -11.510098457336426,
                    13.089932441711426,
                    -31.774030685424805,
                    37.362308502197266,
                    11.868614196777344,
                    -26.377212524414062,
                    -18.65045738220215,
                    7.1567559242248535,
                    -27.583614349365234,
                    60.892547607421875,
                    -40.31844711303711,
                    -6.530667781829834,
                    -8.454357147216797,
                    -33.2667236328125,
                    -21.32491683959961,
                    45.09846115112305,
                    -31.35129737854004,
                    -71.89913940429688,
                    -68.6616439819336,
                    -7.002564430236816,
                    -19.21048927307129,
                    -56.56024932861328,
                    -35.18111038208008,
                    -5.0812225341796875,
                    3.6859142780303955,
                    -2.1431567668914795,
                    57.46463394165039,
                    -26.834030151367188,
                    35.275909423828125,
                    -38.006317138671875,
                    21.802291870117188,
                    -53.56356430053711,
                    -7.8275041580200195,
                    -16.116161346435547,
                    -26.59605598449707,
                    -36.45051956176758,
                    -51.284244537353516,
                    -24.484006881713867,
                    -63.12945556640625,
                    18.16191291809082,
                    -52.278343200683594,
                    -13.617801666259766,
                    1.0959097146987915,
                    -67.98867797851562,
                    -6.92172908782959,
                    -47.175655364990234,
                    8.158288955688477,
                    -6.7532734870910645,
                    -36.81889724731445,
                    -23.57945442199707,
                    38.34895706176758,
                    59.25471496582031,
                    3.457402229309082,
                    6.454891204833984,
                    10.725998878479004,
                    6.740746974945068,
                    43.566707611083984,
                    6.679892539978027,
                    -5.809910774230957,
                    -1.9298224449157715,
                    62.75674057006836,
                    40.06533432006836,
                    -1.656864881515503,
                    4.741287708282471,
                    13.861227989196777,
                    1.7762688398361206,
                    -24.011211395263672,
                    -5.930740833282471,
                    20.178482055664062,
                    36.45566177368164,
                    18.495866775512695,
                    1.1787315607070923,
                    29.214384078979492,
                    18.189865112304688,
                    -49.52458190917969,
                    21.55790138244629,
                    12.276447296142578,
                    28.981721878051758,
                    46.70015335083008,
                    18.574081420898438,
                    28.310884475708008,
                    -61.177940368652344,
                    29.968141555786133,
                    -35.44306182861328,
                    -27.01142120361328,
                    -28.09547233581543,
                    38.47229766845703,
                    -12.048606872558594,
                    34.24110794067383,
                    19.652387619018555,
                    4.332685947418213,
                    -64.24227142333984,
                    -70.12429809570312,
                    -37.30558776855469,
                    -11.063467979431152,
                    24.3737735748291,
                    17.0933780670166,
                    23.64402198791504,
                    -3.3637161254882812,
                    6.795953273773193,
                    12.678878784179688,
                    0.9495495557785034,
                    59.66157150268555,
                    -20.507183074951172,
                    9.128746032714844,
                    23.149398803710938,
                    7.551181316375732,
                    26.829755783081055,
                    -29.2691650390625,
                    -19.857070922851562,
                    11.211440086364746,
                    -23.493770599365234,
                    -65.81441497802734,
                    39.95939636230469,
                    2.9998319149017334,
                    5.844609260559082,
                    9.699994087219238,
                    10.079957008361816,
                    16.561243057250977,
                    -5.521460056304932,
                    -4.087581157684326,
                    16.938678741455078,
                    -65.1822280883789,
                    17.40932273864746,
                    -55.05716323852539,
                    -65.66877746582031,
                    20.751617431640625,
                    -61.6086540222168,
                    29.74156951904297,
                    -4.9581122398376465,
                    -60.66331481933594,
                    16.57688331604004,
                    -2.600484609603882,
                    -1.2801971435546875,
                    -71.88458251953125,
                    21.740392684936523,
                    -13.150351524353027,
                    -68.17375183105469,
                    -35.71445083618164,
                    19.55780792236328,
                    -57.81365203857422,
                    5.906400680541992,
                    11.544374465942383,
                    4.900598049163818,
                    23.46184730529785,
                    -36.33445358276367,
                    -18.994129180908203,
                    -11.843880653381348,
                    -53.94309616088867,
                    -62.82876968383789,
                    35.2419319152832,
                    -60.20987319946289,
                    -18.832683563232422,
                    10.734978675842285,
                    1.139756202697754,
                    22.522823333740234,
                    -29.984230041503906,
                    -34.1769905090332,
                    5.909377098083496,
                    -51.10348892211914,
                    -29.98435401916504,
                    -58.411598205566406,
                    -38.706302642822266,
                    -1.9724987745285034,
                    -46.666107177734375,
                    -46.45705795288086,
                    -48.3287353515625,
                    45.254032135009766,
                    -8.067652702331543,
                    31.032638549804688,
                    -43.173892974853516,
                    -38.67783737182617,
                    8.016716957092285,
                    62.40525436401367,
                    -63.26424026489258,
                    -8.930506706237793,
                    -66.37689971923828,
                    -43.954498291015625,
                    -3.2557637691497803,
                    -3.8441622257232666,
                    -63.94348907470703,
                    -56.950374603271484,
                    48.40916061401367,
                    38.845333099365234,
                    -46.069766998291016,
                    25.620777130126953,
                    -43.64616012573242,
                    56.881065368652344,
                    23.334074020385742,
                    -28.879472732543945,
                    -3.6196670532226562,
                    29.143247604370117,
                    6.986082553863525,
                    23.43393898010254,
                    20.39860725402832,
                    -54.59879684448242,
                    25.112611770629883,
                    -38.093963623046875,
                    1.0964566469192505,
                    59.301998138427734,
                    40.758419036865234,
                    19.159273147583008,
                    6.182147026062012,
                    -29.083499908447266,
                    39.97650909423828,
                    41.33012008666992,
                    -16.66615867614746,
                    -6.359671592712402,
                    -29.130102157592773,
                    27.027042388916016,
                    -63.9234504699707,
                    13.445237159729004,
                    -4.3684868812561035,
                    -16.19472312927246,
                    6.9684648513793945,
                    7.231516361236572,
                    30.870492935180664,
                    -35.97956466674805,
                    -7.116064548492432,
                    8.081850051879883,
                    -20.98603057861328,
                    -61.16079330444336,
                    -25.497879028320312,
                    38.857322692871094,
                    -8.138781547546387,
                    15.529776573181152,
                    -24.529420852661133,
                    -19.982866287231445,
                    9.2886962890625,
                    -5.901957035064697,
                    2.5716872215270996,
                    -23.712709426879883,
                    -11.743115425109863,
                    37.16022491455078,
                    31.553831100463867,
                    9.58989429473877,
                    -7.730432033538818,
                    15.49117660522461,
                    28.65336799621582,
                    -65.21266174316406,
                    -37.83494186401367,
                    -13.993598937988281,
                    36.913455963134766,
                    -40.670677185058594,
                    11.533050537109375,
                    -22.47524642944336,
                    30.310972213745117,
                    16.549571990966797,
                    15.184098243713379,
                    7.967485427856445,
                    1.3975156545639038,
                    16.549577713012695,
                    -22.528684616088867,
                    14.078824996948242,
                    -61.39146041870117,
                    -64.8779296875,
                    -39.05574417114258,
                    -7.814103126525879,
                    2.58158016204834,
                    -62.403587341308594,
                    22.032922744750977,
                    1.1440811157226562,
                    -24.344079971313477,
                    62.6492919921875,
                    -15.419501304626465,
                    -10.308518409729004,
                    -23.75188636779785,
                    -5.392767429351807,
                    -54.60982894897461,
                    11.743331909179688,
                    4.620334148406982,
                    -28.937381744384766,
                    17.33902359008789,
                    62.7495231628418,
                    -30.39713478088379,
                    2.016234874725342,
                    5.954468727111816,
                    -6.914470672607422,
                    -10.0027494430542,
                    7.283084869384766,
                    13.13631820678711,
                    21.357494354248047,
                    5.262655735015869,
                    -54.946266174316406,
                    9.921627044677734,
                    -40.79636001586914,
                    8.024927139282227,
                    -49.44011688232422,
                    -2.0363197326660156,
                    -30.110031127929688,
                    10.352132797241211,
                    -3.6175122261047363,
                    19.548526763916016,
                    36.96804428100586,
                    -40.13439178466797,
                    -33.339820861816406,
                    -13.625964164733887,
                    -46.519432067871094,
                    -51.02213668823242,
                    49.09421157836914,
                    -33.15532684326172,
                    -23.008684158325195,
                    -61.77803421020508,
                    -37.437034606933594,
                    61.74235534667969,
                    -46.79801559448242,
                    -17.004608154296875,
                    -17.72359848022461,
                    8.873859405517578,
                    4.834841251373291,
                    7.153928279876709,
                    0.016686830669641495,
                    -27.569305419921875,
                    -49.50605773925781,
                    -1.33791184425354,
                    -2.106717824935913,
                    11.769339561462402,
                    -4.018704414367676,
                    6.245139122009277,
                    -10.863533020019531,
                    13.819011688232422,
                    -17.570409774780273,
                    0.19310538470745087,
                    -27.523183822631836,
                    -22.836034774780273,
                    -37.74416732788086,
                    -25.213075637817383,
                    -19.083494186401367,
                    -58.6422233581543,
                    58.21087646484375,
                    42.35255813598633,
                    -69.44688415527344,
                    58.99874496459961,
                    28.553146362304688,
                    -63.92539596557617,
                    15.211612701416016,
                    -38.868370056152344,
                    30.975019454956055,
                    8.610665321350098,
                    -0.5035464763641357,
                    10.446864128112793,
                    27.805622100830078,
                    -9.220476150512695,
                    -20.25562286376953,
                    3.1947293281555176,
                    -12.437960624694824,
                    -40.5977783203125,
                    -56.42534255981445,
                    -40.790916442871094,
                    -40.33967208862305,
                    -64.15335845947266,
                    -10.495484352111816,
                    23.855215072631836,
                    29.045124053955078,
                    60.93393325805664,
                    -15.074851989746094,
                    24.61197280883789,
                    34.21421432495117,
                    -15.727465629577637,
                    21.892099380493164,
                    -12.704299926757812,
                    -63.6427001953125,
                    15.001981735229492,
                    -50.29668426513672,
                    -7.896958827972412,
                    -22.47453498840332,
                    3.5850348472595215,
                    0.25290268659591675,
                    40.19657516479492,
                    9.25611686706543,
                    -59.527740478515625,
                    -35.517738342285156,
                    27.590778350830078,
                    2.6245017051696777,
                    33.949302673339844,
                    25.208457946777344,
                    -71.74822998046875,
                    -63.625797271728516,
                    28.16239356994629,
                    -49.7586555480957,
                    -40.6083869934082,
                    -71.74861907958984,
                    10.52978229522705,
                    39.26168441772461,
                    -64.10281372070312,
                    -53.122135162353516,
                    1.8640376329421997,
                    -25.76163101196289,
                    1.2911877632141113,
                    -62.78700637817383,
                    36.29342269897461,
                    38.86368942260742,
                    -59.8828125,
                    -66.69908905029297,
                    -68.5916519165039,
                    24.94106674194336,
                    62.66019821166992,
                    -41.972843170166016,
                    15.47549819946289,
                    -30.730224609375,
                    -40.8729248046875,
                    -24.836753845214844,
                    -23.843276977539062,
                    -51.57621383666992,
                    33.60944366455078,
                    31.12039566040039,
                    -44.7706184387207,
                    28.0103702545166,
                    33.376136779785156,
                    -54.164920806884766,
                    17.717609405517578,
                    39.11935043334961,
                    -36.58756637573242,
                    49.09421157836914,
                    -40.00462341308594,
                    -29.508161544799805,
                    -7.241501808166504,
                    -57.452964782714844,
                    -26.479951858520508,
                    0.8994577527046204,
                    -14.35647201538086,
                    8.913100242614746,
                    -20.384225845336914,
                    -7.268426418304443,
                    -23.96351432800293,
                    -37.449867248535156,
                    8.495051383972168,
                    37.7487678527832,
                    -22.654918670654297,
                    -19.2891845703125,
                    62.55673599243164,
                    -4.783801555633545,
                    -15.349729537963867,
                    -26.608619689941406,
                    -14.87670612335205,
                    -66.64742279052734,
                    48.35198974609375,
                    9.13079833984375,
                    31.24933624267578,
                    -15.167342185974121,
                    -4.576969623565674,
                    7.587764263153076,
                    22.050519943237305,
                    20.687143325805664,
                    32.511295318603516,
                    41.194889068603516,
                    -8.136221885681152,
                    11.240288734436035,
                    30.040851593017578,
                    8.135143280029297,
                    38.37510299682617,
                    -58.821781158447266,
                    5.758698463439941,
                    4.737958908081055,
                    31.973846435546875,
                    62.008453369140625,
                    5.1598968505859375,
                    30.753890991210938,
                    59.566505432128906,
                    -16.344301223754883,
                    5.618988513946533,
                    6.113165378570557,
                    0.12919186055660248,
                    5.549556255340576,
                    -4.492648124694824,
                    6.551600456237793,
                    62.14265823364258,
                    -18.400453567504883,
                    23.026992797851562,
                    40.754207611083984,
                    40.65150451660156,
                    32.15838623046875,
                    31.005456924438477,
                    33.73093795776367,
                    -4.767979621887207,
                    -26.493989944458008,
                    51.77411651611328,
                    -60.59996795654297,
                    -39.074649810791016,
                    64.40791320800781,
                    42.70134353637695,
                    5.2126617431640625,
                    6.635189056396484,
                    -57.70571517944336,
                    -4.194293022155762,
                    -3.0685434341430664,
                    -9.550835609436035,
                    -11.862326622009277,
                    -39.498592376708984,
                    62.27677536010742,
                    17.968353271484375,
                    -5.553077697753906,
                    -38.70722198486328,
                    -22.389753341674805,
                    -0.0924580916762352,
                    63.69594192504883,
                    -1.9208678007125854,
                    14.746297836303711,
                    -17.197513580322266,
                    13.934037208557129,
                    -14.064276695251465,
                    -11.459244728088379,
                    -8.363724708557129,
                    18.617176055908203,
                    -0.6899102926254272,
                    -51.637664794921875,
                    30.729232788085938,
                    1.181767225265503,
                    29.38055992126465,
                    -58.82572555541992,
                    -47.50367736816406,
                    -8.309228897094727,
                    29.318984985351562,
                    23.053367614746094,
                    -40.38662338256836,
                    19.47294807434082,
                    -73.42306518554688,
                    45.178611755371094,
                    -27.399635314941406,
                    20.57984161376953,
                    19.380352020263672,
                    -14.951455116271973,
                    -4.214727401733398,
                    -9.431177139282227,
                    12.616905212402344,
                    -0.848604679107666,
                    -23.52283477783203,
                    27.93476104736328,
                    20.828975677490234,
                    -68.45323181152344,
                    37.58268356323242,
                    23.231447219848633,
                    61.16223907470703,
                    23.637773513793945,
                    3.6855788230895996,
                    1.8989232778549194,
                    29.917619705200195,
                    31.82649803161621,
                    21.889665603637695,
                    26.94826316833496,
                    -32.54644012451172,
                    -57.82988739013672,
                    58.3621826171875,
                    -2.913931369781494,
                    -35.71440887451172,
                    22.905303955078125,
                    -1.8553664684295654,
                    -1.5163013935089111,
                    26.52833366394043,
                    -31.538984298706055,
                    -67.67520904541016,
                    4.317765235900879,
                    -5.437814235687256,
                    10.437909126281738,
                    9.252789497375488,
                    -11.580632209777832,
                    -16.829004287719727,
                    -33.29231262207031,
                    -25.52484130859375,
                    46.59366989135742,
                    5.091041088104248,
                    -8.993561744689941,
                    -31.554027557373047,
                    -47.71176528930664,
                    1.8136426210403442,
                    27.201963424682617,
                    -6.374326705932617,
                    -70.038818359375,
                    -8.586821556091309,
                    -7.522529602050781,
                    -15.936851501464844,
                    12.909770965576172,
                    -7.746817111968994,
                    -2.3441214561462402,
                    -40.571998596191406,
                    26.160470962524414,
                    13.84640884399414,
                    24.682682037353516,
                    -23.898420333862305,
                    9.477409362792969,
                    21.979387283325195,
                    -25.44694709777832,
                    -30.604745864868164,
                    -35.64982604980469,
                    26.420543670654297,
                    -20.46796226501465,
                    29.949142456054688,
                    45.97145462036133,
                    1.3728076219558716,
                    18.952119827270508,
                    40.626678466796875,
                    -3.1033170223236084,
                    16.393770217895508,
                    -36.30050277709961,
                    -57.705867767333984,
                    36.13758087158203,
                    -28.97824478149414,
                    -6.232214450836182,
                    14.24771785736084,
                    -56.977596282958984,
                    -60.1707763671875,
                    -55.31303405761719,
                    6.853901386260986,
                    22.058935165405273,
                    -56.23136520385742,
                    3.124878406524658,
                    40.73527145385742,
                    14.470322608947754,
                    5.4739580154418945,
                    2.9809889793395996,
                    12.563400268554688,
                    -12.39722728729248,
                    -11.366490364074707,
                    -9.741154670715332,
                    -10.180270195007324,
                    -14.485222816467285,
                    -6.106714248657227,
                    -28.39328384399414,
                    37.34994888305664,
                    -36.36546325683594,
                    -9.544371604919434,
                    -9.544363975524902,
                    -71.70243072509766,
                    -24.671491622924805,
                    -13.020781517028809,
                    -4.880664348602295,
                    -34.15311813354492,
                    -9.748805046081543,
                    13.476644515991211,
                    -19.456552505493164,
                    -33.26710510253906,
                    12.508749008178711,
                    12.108373641967773,
                    -71.9411849975586,
                    20.441762924194336,
                    -8.06809139251709,
                    -47.32558059692383,
                    -12.724876403808594,
                    -17.59086036682129,
                    22.90530014038086,
                    9.027281761169434,
                    9.710641860961914,
                    22.905311584472656,
                    13.961575508117676,
                    -34.362937927246094,
                    -68.28201293945312,
                    -39.81612014770508,
                    15.060559272766113,
                    -23.396699905395508,
                    1.2344162464141846,
                    -60.40398025512695,
                    -61.52498245239258,
                    -3.034909248352051,
                    -13.886266708374023,
                    -29.349321365356445,
                    -52.52462387084961,
                    6.446389198303223,
                    21.976896286010742,
                    -56.292789459228516,
                    6.299356937408447,
                    5.763418674468994,
                    17.692581176757812,
                    -62.280521392822266,
                    20.589332580566406,
                    -4.622701168060303,
                    -22.67894172668457,
                    -62.512168884277344,
                    -55.37843704223633,
                    -5.737856388092041,
                    20.16533851623535,
                    26.761137008666992,
                    26.8427677154541,
                    7.528065204620361,
                    4.632771015167236,
                    -0.6473360657691956,
                    8.362032890319824,
                    -1.105965256690979,
                    6.774494647979736,
                    -4.661868095397949,
                    -6.86458158493042,
                    6.426618576049805,
                    -21.46190071105957,
                    -13.886474609375,
                    20.781431198120117,
                    8.906453132629395,
                    11.840916633605957,
                    2.4269847869873047,
                    -1.847828984260559,
                    -1.847821593284607,
                    -1.4374569654464722,
                    -38.18877410888672,
                    -13.88619613647461,
                    22.10360336303711,
                    2.0904953479766846,
                    1.4121545553207397,
                    11.290844917297363,
                    11.158283233642578,
                    23.715816497802734,
                    -2.1137304306030273,
                    -50.12343978881836,
                    47.74930191040039,
                    -30.149702072143555,
                    -26.145261764526367,
                    -4.82405424118042,
                    -49.77383804321289,
                    7.410755157470703,
                    -22.112911224365234,
                    -13.8856840133667,
                    -1.0510461330413818,
                    12.71235179901123,
                    -26.81461524963379,
                    19.26788902282715,
                    10.993705749511719,
                    -36.07672119140625,
                    -62.438377380371094,
                    -2.4269285202026367,
                    27.7667179107666,
                    -59.78363800048828,
                    2.034151554107666,
                    32.08418273925781,
                    8.892468452453613,
                    20.635883331298828,
                    21.70989990234375,
                    38.18753433227539,
                    10.875904083251953,
                    41.1270637512207,
                    16.365192413330078,
                    -56.651206970214844,
                    13.751616477966309,
                    -0.40746399760246277,
                    7.984459400177002,
                    -0.7446836829185486,
                    12.561378479003906,
                    8.491822242736816,
                    -0.9459781050682068,
                    22.665552139282227,
                    -16.59129524230957,
                    7.48618221282959,
                    17.188365936279297,
                    12.945754051208496,
                    9.652158737182617,
                    16.262563705444336,
                    18.741729736328125,
                    47.769500732421875,
                    9.79350757598877,
                    8.663949966430664,
                    10.402097702026367,
                    30.746463775634766,
                    17.523258209228516,
                    22.670883178710938,
                    33.6651725769043,
                    14.879924774169922,
                    18.09649085998535,
                    13.492148399353027,
                    15.104869842529297,
                    -28.844511032104492,
                    -71.10761260986328,
                    -21.06340789794922,
                    -63.57356262207031,
                    42.051544189453125,
                    6.568556785583496,
                    15.10486888885498,
                    25.594884872436523,
                    -59.04676055908203,
                    26.801101684570312,
                    -19.68808364868164,
                    -43.17409133911133,
                    -35.209320068359375,
                    -56.92866897583008,
                    12.856066703796387,
                    26.52574348449707,
                    34.62096405029297,
                    22.891952514648438,
                    65.11173248291016,
                    -42.25857162475586,
                    -42.241947174072266,
                    40.57278823852539,
                    26.51711082458496,
                    65.99384307861328,
                    -25.33257293701172,
                    21.080196380615234,
                    37.077545166015625,
                    -0.2918078601360321,
                    7.25375509262085,
                    3.9227025508880615,
                    -37.582366943359375,
                    -10.790129661560059,
                    -52.275421142578125,
                    45.234214782714844,
                    24.601083755493164,
                    -73.99995422363281,
                    28.784465789794922,
                    -73.88139343261719,
                    32.45075988769531,
                    23.70293426513672,
                    -24.9016056060791,
                    2.6961894035339355,
                    -70.16627502441406,
                    9.106571197509766,
                    38.07504653930664,
                    54.95415115356445,
                    15.022614479064941,
                    -8.54488468170166,
                    7.139351844787598,
                    -10.308520317077637,
                    62.246788024902344,
                    11.028297424316406,
                    23.72383689880371,
                    12.176216125488281,
                    15.482665061950684,
                    34.8422966003418,
                    -55.628692626953125,
                    16.70654296875,
                    12.35898494720459,
                    -31.31805992126465,
                    -11.966087341308594,
                    -13.507652282714844,
                    -68.4423828125,
                    -59.89739227294922,
                    -2.661553382873535,
                    9.661887168884277,
                    28.830848693847656,
                    63.95492172241211,
                    -35.615596771240234,
                    -6.725349426269531,
                    7.30966329574585,
                    13.374137878417969,
                    11.798723220825195,
                    7.138144493103027,
                    -69.81791687011719,
                    -49.230289459228516,
                    14.661195755004883,
                    4.629672050476074,
                    1.9417634010314941,
                    30.26302719116211,
                    29.42631721496582,
                    -3.2316737174987793,
                    -1.5305887460708618,
                    -14.254898071289062,
                    11.677200317382812,
                    43.4039306640625,
                    58.16329574584961,
                    -34.0240592956543,
                    38.823341369628906,
                    -5.694742202758789,
                    2.123809337615967,
                    27.463048934936523,
                    41.26094055175781,
                    -38.90936279296875,
                    18.16533851623535,
                    -39.140846252441406,
                    1.095527172088623,
                    -10.83179759979248,
                    62.74517059326172,
                    -65.12052917480469,
                    41.16365051269531,
                    -64.66944885253906,
                    17.839773178100586,
                    22.492568969726562,
                    -53.40431213378906,
                    0.5877488851547241,
                    -45.21546173095703,
                    -28.216110229492188,
                    19.224706649780273,
                    4.620788097381592,
                    -67.03414154052734,
                    -0.8027192950248718,
                    -47.88153839111328,
                    -5.053516864776611,
                    -20.42111587524414,
                    7.854254245758057,
                    21.009004592895508,
                    -21.354896545410156,
                    -37.12417984008789,
                    -22.707897186279297,
                    22.933635711669922,
                    12.397236824035645,
                    16.770732879638672,
                    12.316447257995605,
                    8.167462348937988,
                    12.067480087280273,
                    -5.564254283905029,
                    13.183133125305176,
                    7.530185222625732,
                    12.546856880187988,
                    56.20599365234375,
                    -70.42556762695312,
                    31.82500648498535,
                    0.2589416205883026,
                    -15.520242691040039,
                    -24.27735137939453,
                    19.405750274658203,
                    -32.1619758605957,
                    42.96432113647461,
                    -3.6371164321899414,
                    -6.0509843826293945,
                    14.302566528320312,
                    -57.95298385620117,
                    -15.17729377746582,
                    -49.810577392578125,
                    12.318450927734375,
                    10.413704872131348,
                    62.27677536010742,
                    61.85585021972656,
                    -59.2916259765625,
                    15.702812194824219,
                    9.947320938110352,
                    -31.573244094848633,
                    41.97783279418945,
                    -54.19634246826172,
                    31.905292510986328,
                    -36.639163970947266,
                    33.90627670288086,
                    2.829392194747925,
                    -49.193538665771484,
                    26.570371627807617,
                    18.021278381347656,
                    35.80727767944336,
                    25.864028930664062,
                    4.441259860992432,
                    -54.71705627441406,
                    -63.56392288208008,
                    32.47869110107422,
                    29.99365997314453,
                    6.3057355880737305,
                    28.54344367980957,
                    34.03046417236328,
                    -44.23031997680664,
                    -61.66034698486328,
                    -13.185773849487305,
                    14.273524284362793,
                    -53.00180435180664,
                    -28.228065490722656,
                    23.928997039794922,
                    -2.349463701248169,
                    -70.15228271484375,
                    13.823023796081543,
                    -27.40715980529785,
                    -5.934022426605225,
                    -6.805301189422607,
                    0.7520341277122498,
                    56.1842155456543,
                    -28.12659454345703,
                    -4.6169843673706055,
                    28.491086959838867,
                    -23.233112335205078,
                    4.151747226715088,
                    -22.221731185913086,
                    3.3382387161254883,
                    11.448649406433105,
                    -4.129070281982422,
                    -49.87102508544922,
                    1.7980846166610718,
                    60.855445861816406,
                    -64.55572509765625,
                    1.179113507270813,
                    -35.28231430053711,
                    62.77735900878906,
                    20.447444915771484,
                    32.17376708984375,
                    63.70548629760742,
                    5.627694606781006,
                    38.6092414855957,
                    34.8740348815918,
                    33.6597785949707,
                    30.878793716430664,
                    15.96297836303711,
                    -6.681743144989014,
                    -59.76190948486328,
                    -28.20688247680664,
                    -52.07696533203125,
                    -15.503149032592773,
                    -21.556989669799805,
                    1.5738853216171265,
                    -12.95154857635498,
                    22.08530044555664,
                    24.284852981567383,
                    -2.0247538089752197,
                    -23.77751350402832,
                    41.28372573852539,
                    -61.17850112915039,
                    -29.518917083740234,
                    25.972570419311523,
                    12.678878784179688,
                    0.23830901086330414,
                    29.870330810546875,
                    -38.99727249145508,
                    -26.381628036499023,
                    36.75623321533203,
                    64.49261474609375,
                    40.23738479614258,
                    47.520408630371094,
                    -48.64570617675781,
                    6.784392833709717,
                    -31.248273849487305,
                    5.776988983154297,
                    -31.724946975708008,
                    -24.901596069335938,
                    -16.271724700927734,
                    5.503036975860596,
                    8.150157928466797,
                    28.67176055908203,
                    12.49164867401123,
                    -27.34994888305664,
                    10.987330436706543,
                    -36.84108352661133,
                    -35.067989349365234,
                    -36.2877082824707,
                    -64.03129577636719,
                    -37.417057037353516,
                    -59.703189849853516,
                    -6.10827112197876,
                    7.368091583251953,
                    5.287062644958496,
                    -4.320133209228516,
                    36.34368133544922,
                    -69.39326477050781,
                    31.401208877563477,
                    -55.25728225708008,
                    -33.89242935180664,
                    -51.75123596191406,
                    -1.9594508409500122,
                    -62.16463088989258,
                    -2.922966480255127,
                    -17.596454620361328,
                    28.104976654052734,
                    22.748798370361328,
                    29.942289352416992,
                    0.39091387391090393,
                    24.749923706054688,
                    -3.721266269683838,
                    -1.60689377784729,
                    -6.824263095855713,
                    9.735774993896484,
                    30.905838012695312,
                    -7.797624111175537,
                    -5.24334716796875,
                    9.674539566040039,
                    3.20743727684021,
                    -2.3191184997558594,
                    -60.37887954711914,
                    46.457008361816406,
                    22.952899932861328,
                    4.289330005645752,
                    -2.3459393978118896,
                    14.116097450256348,
                    0.2192230075597763,
                    -45.0638427734375,
                    9.562150955200195,
                    -26.24823760986328,
                    -39.846641540527344,
                    35.029632568359375,
                    35.92064666748047,
                    -24.174924850463867,
                    -24.17487144470215,
                    -53.69123840332031,
                    26.64858627319336,
                    -5.053729057312012,
                    -7.586958885192871,
                    -11.64616584777832,
                    10.50730037689209,
                    22.26181411743164,
                    61.82596206665039,
                    4.908086776733398,
                    12.935880661010742,
                    3.3726744651794434,
                    4.959007740020752,
                    19.466026306152344,
                    -35.42695999145508,
                    21.096256256103516,
                    36.927528381347656,
                    0.716212272644043,
                    32.12871170043945,
                    -49.121944427490234,
                    48.41261291503906,
                    -16.71729850769043,
                    -1.970460295677185,
                    -56.03118896484375,
                    5.212662696838379,
                    44.83857345581055,
                    -15.568100929260254,
                    -1.934336543083191,
                    39.813804626464844,
                    21.92839241027832,
                    -40.97987365722656,
                    45.71671676635742,
                    14.561186790466309,
                    39.65940475463867,
                    -49.07965850830078,
                    38.770748138427734,
                    38.35673141479492,
                    23.91284942626953,
                    55.34678268432617,
                    20.755002975463867,
                    -21.991926193237305,
                    36.91294860839844,
                    33.65799331665039,
                    36.56015396118164,
                    -50.09230041503906,
                    40.57173156738281,
                    42.68489074707031,
                    34.77975845336914,
                    -46.00551986694336,
                    33.3087272644043,
                    28.591358184814453,
                    -15.560152053833008,
                    3.8334527015686035,
                    4.098254680633545,
                    12.211511611938477,
                    -19.59824562072754,
                    6.352529048919678,
                    38.19379425048828,
                    -16.344383239746094,
                    -73.5365219116211,
                    27.4467716217041,
                    -18.269792556762695,
                    -47.767276763916016,
                    -20.282943725585938,
                    4.217909336090088,
                    -15.341769218444824,
                    20.574026107788086,
                    42.18273162841797,
                    24.627836227416992,
                    22.363014221191406,
                    23.878738403320312,
                    -35.02642059326172,
                    34.35606384277344,
                    -32.106170654296875,
                    -31.03827667236328,
                    -37.33999252319336,
                    -26.373991012573242,
                    20.26348114013672,
                    -49.79590606689453,
                    -2.2863829135894775,
                    -38.16548538208008,
                    -1.657789945602417,
                    -69.5810317993164,
                    35.567413330078125,
                    -4.538309097290039,
                    -33.907840728759766,
                    -44.17729949951172,
                    11.432892799377441,
                    -18.049997329711914,
                    -3.3969552516937256,
                    -1.761210322380066,
                    -0.2579790949821472,
                    -2.2435591220855713,
                    -5.3733344078063965,
                    17.577838897705078,
                    30.362289428710938,
                    -2.239943027496338,
                    7.392094135284424,
                    -43.45119857788086,
                    19.562700271606445,
                    -48.334171295166016,
                    -48.33423614501953,
                    50.84811782836914,
                    -27.097618103027344,
                    -46.95057678222656,
                    35.17460632324219,
                    -18.868892669677734,
                    0.9129851460456848,
                    1.1159244775772095,
                    24.180086135864258,
                    -61.666297912597656,
                    62.50056838989258,
                    34.48477554321289,
                    -6.31580114364624,
                    7.762893199920654,
                    -60.19927978515625,
                    -24.395401000976562,
                    35.65536880493164,
                    0.9221678376197815,
                    7.040710926055908,
                    0.9184579849243164,
                    47.29535675048828,
                    32.55863571166992,
                    9.388336181640625,
                    31.550086975097656,
                    43.17559051513672,
                    31.026405334472656,
                    -66.748046875,
                    11.009883880615234,
                    15.414648056030273,
                    -10.36309814453125,
                    14.850784301757812,
                    -19.89360809326172,
                    15.51165771484375,
                    -0.02121400274336338,
                    -24.340103149414062,
                    -71.95699310302734,
                    -24.042810440063477,
                    48.13493347167969,
                    0.1305904984474182,
                    12.751614570617676,
                    7.403694152832031,
                    -48.11029052734375,
                    -6.4629974365234375,
                    -4.4345808029174805,
                    -50.31242370605469,
                    37.343563079833984,
                    4.798344612121582,
                    5.191954612731934,
                    -15.398103713989258,
                    -6.572390079498291,
                    -6.554874420166016,
                    5.330834865570068,
                    -43.454627990722656,
                    -29.048656463623047,
                    -64.6007080078125,
                    -9.172598838806152,
                    -14.255976676940918,
                    -40.65663528442383,
                    30.014446258544922,
                    3.7974085807800293,
                    37.59796905517578,
                    41.614768981933594,
                    -5.17550802230835,
                    47.883636474609375,
                    21.807008743286133,
                    3.1329920291900635,
                    25.56637954711914,
                    31.63035774230957,
                    -35.62190246582031,
                    -3.1272101402282715,
                    -2.630167245864868,
                    5.632340908050537,
                    -22.87816047668457,
                    -27.177833557128906,
                    -35.937408447265625,
                    6.245203971862793,
                    -4.3252644538879395,
                    -24.784475326538086,
                    -28.56024169921875,
                    -61.85593032836914,
                    31.414745330810547,
                    -0.3839402496814728,
                    -27.04117202758789,
                    -55.48638916015625,
                    -60.54388427734375,
                    -2.7882847785949707,
                    -2.788325071334839,
                    -49.55656051635742,
                    -42.74276351928711,
                    -51.98577117919922,
                    33.88636016845703,
                    25.12152862548828,
                    6.690615653991699,
                    40.807918548583984,
                    38.950645446777344,
                    -13.82003116607666,
                    10.953564643859863,
                    13.636187553405762,
                    -5.6610236167907715,
                    -33.86994552612305,
                    35.33057403564453,
                    18.79287338256836,
                    18.189834594726562,
                    22.509605407714844,
                    28.60489273071289,
                    -57.42648696899414,
                    35.463478088378906,
                    15.592329025268555,
                    38.059654235839844,
                    -35.479942321777344,
                    6.008541584014893,
                    -5.6878790855407715,
                    -7.690894603729248,
                    -23.0025634765625,
                    31.639629364013672,
                    -0.48717740178108215,
                    -68.96084594726562,
                    -5.735547065734863,
                    -71.15589904785156,
                    -3.7841880321502686,
                    -1.3207380771636963,
                    30.23775291442871,
                    3.424881935119629,
                    47.469970703125,
                    -49.72467041015625,
                    2.2853102684020996,
                    10.022197723388672,
                    1.8511847257614136,
                    -65.95454406738281,
                    15.67343521118164,
                    -2.5739266872406006,
                    -50.85297775268555,
                    16.716379165649414,
                    26.34624481201172,
                    18.628786087036133,
                    45.57728958129883,
                    -29.830923080444336,
                    47.438262939453125,
                    62.6734619140625,
                    -8.548783302307129,
                    36.995418548583984,
                    -44.05326843261719,
                    29.082286834716797,
                    29.54660415649414,
                    6.076298236846924,
                    20.527406692504883,
                    34.09377670288086,
                    27.48827362060547,
                    12.857220649719238,
                    11.910185813903809,
                    -46.07849884033203,
                    15.088313102722168,
                    10.516022682189941,
                    17.873897552490234,
                    38.09467315673828,
                    2.646977424621582,
                    -5.652968406677246,
                    2.0905842781066895,
                    -36.283790588378906,
                    -37.899227142333984,
                    -1.9765346050262451,
                    -28.938701629638672,
                    14.24243450164795,
                    -69.59012603759766,
                    33.53995132446289,
                    -7.239354133605957,
                    -51.00154113769531,
                    -27.286495208740234,
                    -66.94486999511719,
                    5.36271858215332,
                    51.07968521118164,
                    29.78696632385254,
                    -1.3816368579864502,
                    11.463277816772461,
                    6.782092094421387,
                    3.4608166217803955,
                    -56.81690979003906,
                    -31.16756248474121,
                    35.43061065673828,
                    4.815097808837891,
                    -3.643846035003662,
                    14.642233848571777,
                    37.62541580200195,
                    30.517492294311523,
                    37.91728210449219,
                    0.8611851334571838,
                    40.37586212158203,
                    -1.5989402532577515,
                    14.076811790466309,
                    14.265460014343262,
                    51.070526123046875,
                    -63.5378532409668,
                    20.16143035888672,
                    10.299201011657715,
                    59.707462310791016,
                    -61.541019439697266,
                    33.3195915222168,
                    -46.016292572021484,
                    -9.25869083404541,
                    -68.3127212524414,
                    34.36448669433594,
                    -44.171966552734375,
                    7.665395259857178,
                    48.589927673339844,
                    30.75062370300293,
                    60.99091339111328,
                    15.136523246765137,
                    9.978466987609863,
                    12.815301895141602,
                    -50.82279586791992,
                    -2.940537214279175,
                    -29.508155822753906,
                    29.67935562133789,
                    39.40533447265625,
                    -12.096416473388672,
                    -50.56159591674805,
                    -12.171920776367188,
                    -49.814151763916016,
                    20.782562255859375,
                    22.28495216369629,
                    -36.8076286315918,
                    41.68583297729492,
                    34.387168884277344,
                    -62.42757034301758,
                    -58.588409423828125,
                    28.728641510009766,
                    19.43586540222168,
                    -43.64131164550781,
                    61.031864166259766,
                    21.903512954711914,
                    -35.93024826049805,
                    -58.173580169677734,
                    0.3098520040512085,
                    -1.234945297241211,
                    -24.096893310546875,
                    -44.22966766357422,
                    3.956993341445923,
                    -58.17707061767578,
                    -35.51739501953125,
                    61.674896240234375,
                    31.83372688293457,
                    -69.03826904296875,
                    39.73617172241211,
                    7.879201889038086,
                    -65.1235580444336,
                    26.231040954589844,
                    -3.920462131500244,
                    29.21382713317871,
                    -2.4581944942474365,
                    23.09267234802246,
                    17.91674041748047,
                    -64.24317932128906,
                    19.437055587768555,
                    4.969682693481445,
                    -27.491674423217773,
                    -62.59101104736328,
                    12.541340827941895,
                    2.891190528869629,
                    41.191627502441406,
                    -3.820664882659912,
                    17.782611846923828,
                    41.10677719116211,
                    60.48247146606445,
                    37.22055435180664,
                    23.774337768554688,
                    24.851726531982422,
                    25.117782592773438,
                    30.341726303100586,
                    5.175484657287598,
                    -3.382012367248535,
                    -14.461743354797363,
                    25.396841049194336,
                    38.713157653808594,
                    7.946462631225586,
                    16.68280601501465,
                    16.546350479125977,
                    34.90419006347656,
                    -67.85474395751953,
                    20.326330184936523,
                    22.3837890625,
                    12.549813270568848,
                    18.290380477905273,
                    -40.38379669189453,
                    -30.8293514251709,
                    30.995027542114258,
                    30.32213592529297,
                    -32.726192474365234,
                    10.583009719848633,
                    0.8335351943969727,
                    -33.29524230957031,
                    2.2991783618927,
                    -11.160633087158203,
                    5.148425102233887,
                    26.002182006835938,
                    -8.508490562438965,
                    4.877873420715332,
                    2.2842531204223633,
                    26.04403305053711,
                    7.350831031799316,
                    -49.797603607177734,
                    -2.289051055908203,
                    -9.17760181427002,
                    -2.822695732116699,
                    -54.49091720581055,
                    -10.033019065856934,
                    26.041841506958008,
                    1.4784557819366455,
                    40.299068450927734,
                    21.123517990112305,
                    14.77806568145752,
                    -27.54596519470215,
                    27.858240127563477,
                    -68.3064193725586,
                    -22.614255905151367,
                    -51.47481918334961,
                    -52.754947662353516,
                    -28.483177185058594,
                    -22.84786605834961,
                    -58.010948181152344,
                    12.534515380859375,
                    -18.49901580810547,
                    5.287062644958496,
                    -51.46696853637695,
                    -46.16774368286133,
                    -36.94439697265625,
                    -17.301820755004883,
                    -27.48814582824707,
                    -22.227664947509766,
                    -35.70094680786133,
                    -23.113027572631836,
                    -71.13786315917969,
                    -13.720296859741211,
                    6.986854076385498,
                    18.86454963684082,
                    4.123050689697266,
                    -58.19879913330078,
                    -10.864468574523926,
                    10.12221908569336,
                    -22.14912986755371,
                    18.34467315673828,
                    24.31546974182129,
                    60.94623565673828,
                    9.100507736206055,
                    -30.721696853637695,
                    -4.613779067993164,
                    4.112050533294678,
                    -40.21432113647461,
                    -10.903324127197266,
                    -4.264647006988525,
                    7.545392036437988,
                    40.316650390625,
                    3.0499370098114014,
                    -21.942462921142578,
                    38.55841064453125,
                    -66.91986846923828,
                    -3.6503355503082275,
                    -1.5474934577941895,
                    3.080310344696045,
                    -15.085594177246094,
                    -17.382320404052734,
                    12.678415298461914,
                    -10.386065483093262,
                    45.715065002441406,
                    45.715579986572266,
                    -7.237858295440674,
                    11.904191970825195,
                    0.587022602558136,
                    -12.208404541015625,
                    -8.307900428771973,
                    47.870262145996094,
                    27.343957901000977,
                    21.47040367126465,
                    30.400012969970703,
                    36.13765335083008,
                    1.0525047779083252,
                    -61.724971771240234,
                    25.173965454101562,
                    -0.12526141107082367,
                    16.979951858520508,
                    -49.93231201171875,
                    29.666156768798828,
                    61.930824279785156,
                    -64.91608428955078,
                    49.49911117553711,
                    33.035804748535156,
                    42.98504638671875,
                    -13.099693298339844,
                    45.376304626464844,
                    -54.473182678222656,
                    -57.47426986694336,
                    41.4564323425293,
                    44.81927490234375,
                    43.620941162109375,
                    5.381141662597656,
                    19.468814849853516,
                    -5.25515604019165,
                    -65.62211608886719,
                    43.487640380859375,
                    30.53913116455078,
                    2.0461158752441406,
                    56.20597839355469,
                    -54.88704299926758,
                    -36.9945068359375,
                    61.47003936767578,
                    -23.696929931640625,
                    -50.143226623535156,
                    34.958980560302734,
                    4.833303451538086,
                    23.320871353149414,
                    25.04929542541504,
                    45.00665283203125,
                    -59.508724212646484,
                    36.251033782958984,
                    41.03952407836914,
                    -49.93225860595703,
                    -68.31272888183594,
                    30.95110511779785,
                    57.87067794799805,
                    37.76898956298828,
                    -11.298089981079102,
                    -65.6558609008789,
                    37.62229537963867,
                    -14.49555778503418,
                    -55.974632263183594,
                    8.289924621582031,
                    38.64301681518555,
                    1.8656278848648071,
                    46.09095764160156,
                    -39.77187728881836,
                    12.320374488830566,
                    -58.70700454711914,
                    31.109067916870117,
                    -25.66761589050293,
                    47.336856842041016,
                    -28.02999496459961,
                    -50.016143798828125,
                    2.5677146911621094,
                    5.717196464538574,
                    -64.72582244873047,
                    -12.0071382522583,
                    -9.839617729187012,
                    10.080702781677246,
                    -4.7400946617126465,
                    37.74873352050781,
                    49.99479675292969,
                    16.540220260620117,
                    26.264652252197266,
                    -15.568100929260254,
                    24.941057205200195,
                    -16.58193588256836,
                    11.957293510437012,
                    27.445602416992188,
                    24.851688385009766,
                    13.206405639648438,
                    9.205533981323242,
                    25.54892921447754,
                    11.667945861816406,
                    43.14582061767578,
                    -40.555320739746094,
                    45.01518249511719,
                    11.006360054016113,
                    -39.43205642700195,
                    30.9469051361084,
                    32.213653564453125,
                    32.08135986328125,
                    43.79792404174805,
                    -1.8721978664398193,
                    -17.928415298461914,
                    -1.5989409685134888,
                    38.07289505004883,
                    21.977331161499023,
                    15.282889366149902,
                    -68.97735595703125,
                    1.095165729522705,
                    45.21919250488281,
                    28.28606414794922,
                    -2.2010881900787354,
                    12.370473861694336,
                    -6.3735551834106445,
                    -43.173118591308594,
                    67.20899963378906,
                    7.630351543426514,
                    12.020031929016113,
                    31.15964126586914,
                    -8.916340827941895,
                    -45.35688018798828,
                    -6.693475246429443,
                    -9.915024757385254,
                    -21.067350387573242,
                    -26.242830276489258,
                    -55.51838684082031,
                    -58.50160598754883,
                    -57.575138092041016,
                    -46.566810607910156,
                    -50.26459503173828,
                    -37.58236312866211,
                    20.37371063232422,
                    -46.601654052734375,
                    -54.082122802734375,
                    6.105937480926514,
                    -2.9581117630004883,
                    -56.85932159423828,
                    3.773327589035034,
                    -52.96162414550781,
                    16.42702293395996,
                    -54.08137130737305,
                    -48.60107421875,
                    2.885030746459961,
                    20.681753158569336,
                    -63.307350158691406,
                    -14.78159236907959,
                    -22.28940200805664,
                    36.12363052368164,
                    4.738035202026367,
                    24.720252990722656,
                    47.14699172973633,
                    8.945128440856934,
                    21.97072410583496,
                    32.06648254394531,
                    39.081520080566406,
                    49.30851745605469,
                    39.31163787841797,
                    -2.8773303031921387,
                    20.759981155395508,
                    39.3349723815918,
                    -57.5184326171875,
                    39.10639190673828,
                    7.177785873413086,
                    31.155317306518555,
                    6.903314590454102,
                    36.77244186401367,
                    -24.146533966064453,
                    21.141082763671875,
                    -55.928043365478516,
                    -72.07588195800781,
                    -8.283904075622559,
                    33.98736572265625,
                    13.018081665039062,
                    -49.041748046875,
                    -23.602252960205078,
                    -6.938267707824707,
                    -45.081565856933594,
                    -18.07610511779785,
                    63.3553581237793,
                    8.438873291015625,
                    26.21198272705078,
                    -0.5132195949554443,
                    59.89254379272461,
                    -23.739105224609375,
                    -66.89022064208984,
                    0.03982316330075264,
                    24.90936851501465,
                    -61.50412368774414,
                    7.653962135314941,
                    4.873317718505859,
                    4.7941999435424805,
                    -10.833195686340332,
                    -13.361244201660156,
                    -64.0640640258789,
                    14.223419189453125,
                    11.781951904296875,
                    24.541156768798828,
                    -43.40237808227539,
                    60.569942474365234,
                    -68.86859130859375,
                    2.3220865726470947,
                    38.87005615234375,
                    -2.089629650115967,
                    -56.689029693603516,
                    -16.64963150024414,
                    -47.60990905761719,
                    -46.778812408447266,
                    -37.041934967041016,
                    -69.08615112304688,
                    1.7713395357131958,
                    33.697322845458984,
                    30.892009735107422,
                    11.589113235473633,
                    33.76262664794922,
                    57.49802780151367,
                    -20.814796447753906,
                    4.310758590698242,
                    33.863487243652344,
                    -1.6112003326416016,
                    0.36128345131874084,
                    38.427978515625,
                    8.731544494628906,
                    28.872020721435547,
                    -2.6497650146484375,
                    -64.60195922851562,
                    2.024221420288086,
                    10.456512451171875,
                    -54.359657287597656,
                    23.141592025756836,
                    -15.876897811889648,
                    -36.64048385620117,
                    37.28658676147461,
                    -61.596900939941406,
                    16.478946685791016,
                    16.481584548950195,
                    9.816019058227539,
                    22.62868309020996,
                    -41.3250617980957,
                    4.092090129852295,
                    9.065598487854004,
                    37.39350128173828,
                    31.14822769165039,
                    -15.090615272521973,
                    24.65842628479004,
                    -62.26169204711914,
                    -58.476776123046875,
                    -2.679698944091797,
                    37.60997772216797,
                    22.644901275634766,
                    -3.376349449157715,
                    11.676342964172363,
                    -30.634218215942383,
                    -56.875057220458984,
                    18.111827850341797,
                    0.9072783589363098,
                    -51.18404769897461,
                    9.026016235351562,
                    4.0738935470581055,
                    -6.204823017120361,
                    5.394498825073242,
                    -28.608339309692383,
                    -42.10603332519531,
                    54.0773811340332,
                    -66.83584594726562,
                    46.30011749267578,
                    -50.64195251464844,
                    61.41565704345703,
                    13.630402565002441,
                    -9.173044204711914,
                    9.998437881469727,
                    12.458667755126953,
                    -51.62977981567383,
                    35.02550506591797,
                    38.61688995361328,
                    -3.9489169120788574,
                    30.034576416015625,
                    40.61286926269531,
                    28.68535804748535,
                    21.202335357666016,
                    33.003177642822266,
                    34.6705207824707,
                    33.244022369384766,
                    -57.705867767333984,
                    10.44783878326416,
                    4.669661521911621,
                    30.79900360107422,
                    -67.98030853271484,
                    12.176948547363281,
                    29.844486236572266,
                    -29.228851318359375,
                    -29.890247344970703,
                    -62.42475128173828,
                    0.31564706563949585,
                    37.68711853027344,
                    17.348342895507812,
                    42.33820343017578,
                    65.86164855957031,
                    -62.13601303100586,
                    32.97689437866211,
                    -22.611055374145508,
                    -62.220096588134766,
                    37.462059020996094,
                    -65.06555938720703,
                    1.0948916673660278,
                    -4.441456317901611,
                    15.616443634033203,
                    35.70315933227539,
                    -18.860336303710938,
                    62.25246047973633,
                    -4.802959442138672,
                    12.392470359802246,
                    30.712297439575195,
                    35.314823150634766,
                    -60.574520111083984,
                    -59.33745574951172,
                    -28.02672576904297,
                    16.542123794555664,
                    -2.379040002822876,
                    9.184762001037598,
                    -31.061416625976562,
                    -34.11730194091797,
                    -50.51082992553711,
                    25.212657928466797,
                    -11.369990348815918,
                    -33.13479995727539,
                    11.093779563903809,
                    -4.0534281730651855,
                    1.4007046222686768,
                    -53.44545364379883,
                    33.87947463989258,
                    -43.416343688964844,
                    -52.115928649902344,
                    -36.935569763183594,
                    16.253387451171875,
                    29.590879440307617,
                    30.783018112182617,
                    -59.76193618774414,
                    -15.090615272521973,
                    -5.339633941650391,
                    15.790939331054688,
                    35.36050796508789,
                    18.046039581298828,
                    -38.21305847167969,
                    -21.925249099731445,
                    -8.11815357208252,
                    -25.456483840942383,
                    -42.072689056396484,
                    7.5749711990356445,
                    23.754941940307617,
                    12.828829765319824,
                    -67.56962585449219,
                    23.867006301879883,
                    7.135674476623535,
                    15.668425559997559,
                    -47.27218246459961,
                    -1.3785412311553955,
                    -1.4812346696853638,
                    19.178974151611328,
                    -21.9404296875,
                    -21.931161880493164,
                    -19.017377853393555,
                    3.40240216255188,
                    -16.627901077270508,
                    -2.804826498031616,
                    22.905303955078125,
                    3.7250802516937256,
                    14.818480491638184,
                    28.92728614807129,
                    -33.86064910888672,
                    6.827386856079102,
                    2.777312994003296,
                    12.93293571472168,
                    -34.2921257019043,
                    35.3565559387207,
                    -51.63776779174805,
                    -29.09588050842285,
                    -34.82048797607422,
                    32.062129974365234,
                    -42.15018844604492,
                    6.205672264099121,
                    3.2322921752929688,
                    1.0359529256820679,
                    -22.071868896484375,
                    39.67683410644531,
                    33.35825729370117,
                    31.28717041015625,
                    -55.534671783447266,
                    -3.9401774406433105,
                    15.349991798400879,
                    -12.54212474822998,
                    -30.98908233642578,
                    -68.79798889160156,
                    -27.0294132232666,
                    2.9361226558685303,
                    43.82691192626953,
                    -12.273448944091797,
                    -19.857074737548828,
                    -69.61952209472656,
                    21.110658645629883,
                    -62.43745422363281,
                    16.016908645629883,
                    -1.7236440181732178,
                    29.382078170776367,
                    -40.695091247558594,
                    -36.74617004394531,
                    -68.19942474365234,
                    17.04220199584961,
                    6.99967622756958,
                    -3.9420359134674072,
                    7.451643466949463,
                    31.232133865356445,
                    -54.15695571899414,
                    -23.414207458496094,
                    30.73338508605957,
                    29.382104873657227,
                    -53.32111740112305,
                    -18.08860969543457,
                    -22.23875617980957,
                    -68.94544982910156,
                    24.691709518432617,
                    -1.0683112144470215,
                    8.438873291015625,
                    38.88845443725586,
                    -56.14840316772461,
                    5.262691974639893,
                    -64.91777801513672,
                    4.620123863220215,
                    18.921466827392578,
                    29.810049057006836,
                    -61.5753173828125,
                    -15.90067195892334,
                    -1.4693619012832642,
                    2.823052406311035,
                    -2.203662633895874,
                    -6.876540184020996,
                    -15.339980125427246,
                    -28.664657592773438,
                    -67.21328735351562,
                    -3.410738229751587,
                    -32.856693267822266,
                    -52.175621032714844,
                    -46.96135711669922,
                    -17.167566299438477,
                    -57.35713195800781,
                    -69.9940185546875,
                    15.620906829833984,
                    -27.742340087890625,
                    25.63707160949707,
                    -22.751808166503906,
                    28.156986236572266,
                    -15.445646286010742,
                    26.536659240722656,
                    -2.818465232849121,
                    16.873220443725586,
                    -9.19942569732666,
                    1.467695713043213,
                    20.46958351135254,
                    38.65605163574219,
                    26.617332458496094,
                    -69.73786926269531,
                    40.706947326660156,
                    34.26423263549805,
                    36.51041793823242,
                    37.50349044799805,
                    57.920772552490234,
                    32.258609771728516,
                    37.01737976074219,
                    3.8474349975585938,
                    -23.47694969177246,
                    -64.74236297607422,
                    -23.729095458984375,
                    -59.41458511352539,
                    -12.932504653930664,
                    37.47349548339844,
                    -65.60398864746094,
                    -50.71845626831055,
                    -12.208404541015625,
                    -50.810211181640625,
                    -33.15100860595703,
                    -39.77174758911133,
                    12.015080451965332,
                    35.29718780517578,
                    -2.5792922973632812,
                    36.23429489135742,
                    -14.439644813537598,
                    -44.436614990234375,
                    19.701005935668945,
                    -45.96642303466797,
                    42.50637435913086,
                    38.61238479614258,
                    29.453201293945312,
                    24.666431427001953,
                    -67.82717895507812,
                    16.78376007080078,
                    5.713458061218262,
                    -9.787302017211914,
                    -9.185893058776855,
                    -60.22932815551758,
                    -8.804758071899414,
                    21.688913345336914,
                    -6.294082164764404,
                    0.8493440747261047,
                    -6.061773300170898,
                    -10.188023567199707,
                    -7.522800445556641,
                    6.421722888946533,
                    5.5351972579956055,
                    -21.391191482543945,
                    -6.529234409332275,
                    -23.109323501586914,
                    56.1177864074707,
                    27.42363166809082,
                    -53.257835388183594,
                    -22.76616859436035,
                    34.87142562866211,
                    -8.850893020629883,
                    27.316621780395508,
                    1.5262155532836914,
                    -65.91954040527344,
                    37.440303802490234,
                    48.897464752197266,
                    30.48331642150879,
                    9.798775672912598,
                    20.22503089904785,
                    30.18140411376953,
                    34.57324981689453,
                    24.07057762145996,
                    -4.049595832824707,
                    39.81305694580078,
                    3.882298231124878,
                    22.690319061279297,
                    -22.55994987487793,
                    -39.33953094482422,
                    2.264338970184326,
                    -5.98426628112793,
                    62.04973602294922,
                    -63.868465423583984,
                    -65.99227142333984,
                    -20.267976760864258,
                    53.25312423706055,
                    -71.67333984375,
                    -65.25152587890625,
                    48.977664947509766,
                    61.80223846435547,
                    59.57392501831055,
                    40.91510772705078,
                    57.24879837036133,
                    -58.1041145324707,
                    -1.2517279386520386,
                    1.8393406867980957,
                    -34.10365295410156,
                    43.04576873779297,
                    -50.50523376464844,
                    13.215073585510254,
                    31.450523376464844,
                    38.322166442871094,
                    22.48600959777832,
                    28.657562255859375,
                    2.662130117416382,
                    16.287437438964844,
                    39.24372100830078,
                    -15.543844223022461,
                    -44.79191970825195,
                    48.68088150024414,
                    5.443667411804199,
                    -23.371623992919922,
                    -4.69462776184082,
                    -65.09124755859375,
                    -55.25429916381836,
                    20.025184631347656,
                    25.411582946777344,
                    -32.283390045166016,
                    -45.75368118286133,
                    -46.4501838684082,
                    -24.872032165527344,
                    -28.85494613647461,
                    47.908233642578125,
                    32.52531814575195,
                    -6.564350128173828,
                    -52.4664192199707,
                    -8.816080093383789,
                    -10.308518409729004,
                    10.625534057617188,
                    -65.05308532714844,
                    -12.664534568786621,
                    -0.4396374821662903,
                    27.98699378967285,
                    34.99391174316406,
                    -58.51079177856445,
                    -19.37339973449707,
                    -21.10352325439453,
                    -10.370824813842773,
                    -68.88980102539062,
                    -32.641380310058594,
                    38.15628433227539,
                    -68.16011810302734,
                    33.029659271240234,
                    -58.12226486206055,
                    -51.017494201660156,
                    -65.32317352294922,
                    26.798295974731445,
                    14.032242774963379,
                    -7.175112724304199,
                    -9.530320167541504,
                    43.49642562866211,
                    -6.0706610679626465,
                    22.357200622558594,
                    -67.6517105102539,
                    -12.461991310119629,
                    -2.6089069843292236,
                    -26.247161865234375,
                    3.5673811435699463,
                    -1.7439957857131958,
                    -38.099037170410156,
                    -55.95292663574219,
                    14.830544471740723,
                    57.97156524658203,
                    62.1166877746582,
                    -1.925013780593872,
                    48.52009201049805,
                    7.650702953338623,
                    -22.709165573120117,
                    -14.730655670166016,
                    1.1212235689163208,
                    8.802779197692871,
                    0.5204995274543762,
                    -26.432960510253906,
                    39.115665435791016,
                    27.63075065612793,
                    -53.70613479614258,
                    35.582908630371094,
                    33.97518539428711,
                    16.59918212890625,
                    -24.420516967773438,
                    -0.5271052718162537,
                    -51.53254699707031,
                    22.432449340820312,
                    62.41793441772461,
                    -3.9188451766967773,
                    -61.26820373535156,
                    20.469430923461914,
                    40.757137298583984,
                    7.181763172149658,
                    34.934608459472656,
                    10.514848709106445,
                    7.878703594207764,
                    32.453887939453125,
                    44.912662506103516,
                    42.46845626831055,
                    35.54315948486328,
                    30.373348236083984,
                    -65.61580657958984,
                    3.6655218601226807,
                    11.629737854003906,
                    -55.75082778930664,
                    -48.81316375732422,
                    -31.324129104614258,
                    -43.45346450805664,
                    -30.1403865814209,
                    43.74427032470703,
                    32.99782943725586,
                    19.938459396362305,
                    14.3023681640625,
                    35.990814208984375,
                    6.362182140350342,
                    25.859683990478516,
                    15.495611190795898,
                    26.355365753173828,
                    33.18166732788086,
                    -0.9345447421073914,
                    32.025386810302734,
                    31.3173770904541,
                    -53.47224044799805,
                    35.05389404296875,
                    37.81234359741211,
                    32.821189880371094,
                    33.434635162353516,
                    35.73155212402344,
                    -1.05564546585083,
                    -38.46005630493164,
                    19.653730392456055,
                    7.962235927581787,
                    14.12303352355957,
                    62.581607818603516,
                    39.76921844482422,
                    -0.06503148376941681,
                    40.41469955444336,
                    -23.405166625976562,
                    -9.260624885559082,
                    28.55714988708496,
                    8.557815551757812,
                    10.201375961303711,
                    24.598644256591797,
                    -61.00065612792969,
                    19.354415893554688,
                    -21.70744514465332,
                    15.671225547790527,
                    45.746849060058594,
                    -30.829357147216797,
                    35.948612213134766,
                    -25.16753387451172,
                    16.14614486694336,
                    10.55405330657959,
                    18.158824920654297,
                    33.405677795410156,
                    -29.495502471923828,
                    -12.631114959716797,
                    -34.694950103759766,
                    -3.0975468158721924,
                    -49.21269226074219,
                    6.093686103820801,
                    -52.47797775268555,
                    62.58176040649414,
                    37.376548767089844,
                    63.469364166259766,
                    18.87425422668457,
                    -48.46916198730469,
                    -28.308177947998047,
                    34.46256637573242,
                    3.3460521697998047,
                    32.40460205078125,
                    -13.040289878845215,
                    -10.580122947692871,
                    -23.846694946289062,
                    -20.408649444580078,
                    42.1417350769043,
                    21.521940231323242,
                    -52.587764739990234,
                    0.15118326246738434,
                    19.857725143432617,
                    28.4886531829834,
                    -55.34263229370117,
                    2.7168080806732178,
                    -6.369763374328613,
                    -12.363378524780273,
                    -12.464774131774902,
                    19.228233337402344,
                    50.589691162109375,
                    -56.725341796875,
                    20.65464210510254,
                    56.845130920410156,
                    -25.652584075927734,
                    30.37799644470215,
                    -62.480350494384766,
                    24.68580436706543,
                    -43.22441482543945,
                    29.683155059814453,
                    0.6291799545288086,
                    -35.93737030029297,
                    19.80474281311035,
                    15.298362731933594,
                    2.7339189052581787,
                    -57.707275390625,
                    -57.29707336425781,
                    -65.41568756103516,
                    -2.5479536056518555,
                    21.82894515991211,
                    -29.09588050842285,
                    9.559418678283691,
                    30.47332191467285,
                    39.36945724487305,
                    37.293426513671875
                  ],
                  "yaxis": "y"
                }
              ],
              "layout": {
                "coloraxis": {
                  "colorbar": {
                    "title": {
                      "text": "cluster"
                    }
                  },
                  "colorscale": [
                    [
                      0,
                      "#0d0887"
                    ],
                    [
                      0.1111111111111111,
                      "#46039f"
                    ],
                    [
                      0.2222222222222222,
                      "#7201a8"
                    ],
                    [
                      0.3333333333333333,
                      "#9c179e"
                    ],
                    [
                      0.4444444444444444,
                      "#bd3786"
                    ],
                    [
                      0.5555555555555556,
                      "#d8576b"
                    ],
                    [
                      0.6666666666666666,
                      "#ed7953"
                    ],
                    [
                      0.7777777777777778,
                      "#fb9f3a"
                    ],
                    [
                      0.8888888888888888,
                      "#fdca26"
                    ],
                    [
                      1,
                      "#f0f921"
                    ]
                  ]
                },
                "legend": {
                  "tracegroupgap": 0
                },
                "margin": {
                  "t": 60
                },
                "template": {
                  "data": {
                    "bar": [
                      {
                        "error_x": {
                          "color": "#2a3f5f"
                        },
                        "error_y": {
                          "color": "#2a3f5f"
                        },
                        "marker": {
                          "line": {
                            "color": "#E5ECF6",
                            "width": 0.5
                          }
                        },
                        "type": "bar"
                      }
                    ],
                    "barpolar": [
                      {
                        "marker": {
                          "line": {
                            "color": "#E5ECF6",
                            "width": 0.5
                          }
                        },
                        "type": "barpolar"
                      }
                    ],
                    "carpet": [
                      {
                        "aaxis": {
                          "endlinecolor": "#2a3f5f",
                          "gridcolor": "white",
                          "linecolor": "white",
                          "minorgridcolor": "white",
                          "startlinecolor": "#2a3f5f"
                        },
                        "baxis": {
                          "endlinecolor": "#2a3f5f",
                          "gridcolor": "white",
                          "linecolor": "white",
                          "minorgridcolor": "white",
                          "startlinecolor": "#2a3f5f"
                        },
                        "type": "carpet"
                      }
                    ],
                    "choropleth": [
                      {
                        "colorbar": {
                          "outlinewidth": 0,
                          "ticks": ""
                        },
                        "type": "choropleth"
                      }
                    ],
                    "contour": [
                      {
                        "colorbar": {
                          "outlinewidth": 0,
                          "ticks": ""
                        },
                        "colorscale": [
                          [
                            0,
                            "#0d0887"
                          ],
                          [
                            0.1111111111111111,
                            "#46039f"
                          ],
                          [
                            0.2222222222222222,
                            "#7201a8"
                          ],
                          [
                            0.3333333333333333,
                            "#9c179e"
                          ],
                          [
                            0.4444444444444444,
                            "#bd3786"
                          ],
                          [
                            0.5555555555555556,
                            "#d8576b"
                          ],
                          [
                            0.6666666666666666,
                            "#ed7953"
                          ],
                          [
                            0.7777777777777778,
                            "#fb9f3a"
                          ],
                          [
                            0.8888888888888888,
                            "#fdca26"
                          ],
                          [
                            1,
                            "#f0f921"
                          ]
                        ],
                        "type": "contour"
                      }
                    ],
                    "contourcarpet": [
                      {
                        "colorbar": {
                          "outlinewidth": 0,
                          "ticks": ""
                        },
                        "type": "contourcarpet"
                      }
                    ],
                    "heatmap": [
                      {
                        "colorbar": {
                          "outlinewidth": 0,
                          "ticks": ""
                        },
                        "colorscale": [
                          [
                            0,
                            "#0d0887"
                          ],
                          [
                            0.1111111111111111,
                            "#46039f"
                          ],
                          [
                            0.2222222222222222,
                            "#7201a8"
                          ],
                          [
                            0.3333333333333333,
                            "#9c179e"
                          ],
                          [
                            0.4444444444444444,
                            "#bd3786"
                          ],
                          [
                            0.5555555555555556,
                            "#d8576b"
                          ],
                          [
                            0.6666666666666666,
                            "#ed7953"
                          ],
                          [
                            0.7777777777777778,
                            "#fb9f3a"
                          ],
                          [
                            0.8888888888888888,
                            "#fdca26"
                          ],
                          [
                            1,
                            "#f0f921"
                          ]
                        ],
                        "type": "heatmap"
                      }
                    ],
                    "heatmapgl": [
                      {
                        "colorbar": {
                          "outlinewidth": 0,
                          "ticks": ""
                        },
                        "colorscale": [
                          [
                            0,
                            "#0d0887"
                          ],
                          [
                            0.1111111111111111,
                            "#46039f"
                          ],
                          [
                            0.2222222222222222,
                            "#7201a8"
                          ],
                          [
                            0.3333333333333333,
                            "#9c179e"
                          ],
                          [
                            0.4444444444444444,
                            "#bd3786"
                          ],
                          [
                            0.5555555555555556,
                            "#d8576b"
                          ],
                          [
                            0.6666666666666666,
                            "#ed7953"
                          ],
                          [
                            0.7777777777777778,
                            "#fb9f3a"
                          ],
                          [
                            0.8888888888888888,
                            "#fdca26"
                          ],
                          [
                            1,
                            "#f0f921"
                          ]
                        ],
                        "type": "heatmapgl"
                      }
                    ],
                    "histogram": [
                      {
                        "marker": {
                          "colorbar": {
                            "outlinewidth": 0,
                            "ticks": ""
                          }
                        },
                        "type": "histogram"
                      }
                    ],
                    "histogram2d": [
                      {
                        "colorbar": {
                          "outlinewidth": 0,
                          "ticks": ""
                        },
                        "colorscale": [
                          [
                            0,
                            "#0d0887"
                          ],
                          [
                            0.1111111111111111,
                            "#46039f"
                          ],
                          [
                            0.2222222222222222,
                            "#7201a8"
                          ],
                          [
                            0.3333333333333333,
                            "#9c179e"
                          ],
                          [
                            0.4444444444444444,
                            "#bd3786"
                          ],
                          [
                            0.5555555555555556,
                            "#d8576b"
                          ],
                          [
                            0.6666666666666666,
                            "#ed7953"
                          ],
                          [
                            0.7777777777777778,
                            "#fb9f3a"
                          ],
                          [
                            0.8888888888888888,
                            "#fdca26"
                          ],
                          [
                            1,
                            "#f0f921"
                          ]
                        ],
                        "type": "histogram2d"
                      }
                    ],
                    "histogram2dcontour": [
                      {
                        "colorbar": {
                          "outlinewidth": 0,
                          "ticks": ""
                        },
                        "colorscale": [
                          [
                            0,
                            "#0d0887"
                          ],
                          [
                            0.1111111111111111,
                            "#46039f"
                          ],
                          [
                            0.2222222222222222,
                            "#7201a8"
                          ],
                          [
                            0.3333333333333333,
                            "#9c179e"
                          ],
                          [
                            0.4444444444444444,
                            "#bd3786"
                          ],
                          [
                            0.5555555555555556,
                            "#d8576b"
                          ],
                          [
                            0.6666666666666666,
                            "#ed7953"
                          ],
                          [
                            0.7777777777777778,
                            "#fb9f3a"
                          ],
                          [
                            0.8888888888888888,
                            "#fdca26"
                          ],
                          [
                            1,
                            "#f0f921"
                          ]
                        ],
                        "type": "histogram2dcontour"
                      }
                    ],
                    "mesh3d": [
                      {
                        "colorbar": {
                          "outlinewidth": 0,
                          "ticks": ""
                        },
                        "type": "mesh3d"
                      }
                    ],
                    "parcoords": [
                      {
                        "line": {
                          "colorbar": {
                            "outlinewidth": 0,
                            "ticks": ""
                          }
                        },
                        "type": "parcoords"
                      }
                    ],
                    "pie": [
                      {
                        "automargin": true,
                        "type": "pie"
                      }
                    ],
                    "scatter": [
                      {
                        "marker": {
                          "colorbar": {
                            "outlinewidth": 0,
                            "ticks": ""
                          }
                        },
                        "type": "scatter"
                      }
                    ],
                    "scatter3d": [
                      {
                        "line": {
                          "colorbar": {
                            "outlinewidth": 0,
                            "ticks": ""
                          }
                        },
                        "marker": {
                          "colorbar": {
                            "outlinewidth": 0,
                            "ticks": ""
                          }
                        },
                        "type": "scatter3d"
                      }
                    ],
                    "scattercarpet": [
                      {
                        "marker": {
                          "colorbar": {
                            "outlinewidth": 0,
                            "ticks": ""
                          }
                        },
                        "type": "scattercarpet"
                      }
                    ],
                    "scattergeo": [
                      {
                        "marker": {
                          "colorbar": {
                            "outlinewidth": 0,
                            "ticks": ""
                          }
                        },
                        "type": "scattergeo"
                      }
                    ],
                    "scattergl": [
                      {
                        "marker": {
                          "colorbar": {
                            "outlinewidth": 0,
                            "ticks": ""
                          }
                        },
                        "type": "scattergl"
                      }
                    ],
                    "scattermapbox": [
                      {
                        "marker": {
                          "colorbar": {
                            "outlinewidth": 0,
                            "ticks": ""
                          }
                        },
                        "type": "scattermapbox"
                      }
                    ],
                    "scatterpolar": [
                      {
                        "marker": {
                          "colorbar": {
                            "outlinewidth": 0,
                            "ticks": ""
                          }
                        },
                        "type": "scatterpolar"
                      }
                    ],
                    "scatterpolargl": [
                      {
                        "marker": {
                          "colorbar": {
                            "outlinewidth": 0,
                            "ticks": ""
                          }
                        },
                        "type": "scatterpolargl"
                      }
                    ],
                    "scatterternary": [
                      {
                        "marker": {
                          "colorbar": {
                            "outlinewidth": 0,
                            "ticks": ""
                          }
                        },
                        "type": "scatterternary"
                      }
                    ],
                    "surface": [
                      {
                        "colorbar": {
                          "outlinewidth": 0,
                          "ticks": ""
                        },
                        "colorscale": [
                          [
                            0,
                            "#0d0887"
                          ],
                          [
                            0.1111111111111111,
                            "#46039f"
                          ],
                          [
                            0.2222222222222222,
                            "#7201a8"
                          ],
                          [
                            0.3333333333333333,
                            "#9c179e"
                          ],
                          [
                            0.4444444444444444,
                            "#bd3786"
                          ],
                          [
                            0.5555555555555556,
                            "#d8576b"
                          ],
                          [
                            0.6666666666666666,
                            "#ed7953"
                          ],
                          [
                            0.7777777777777778,
                            "#fb9f3a"
                          ],
                          [
                            0.8888888888888888,
                            "#fdca26"
                          ],
                          [
                            1,
                            "#f0f921"
                          ]
                        ],
                        "type": "surface"
                      }
                    ],
                    "table": [
                      {
                        "cells": {
                          "fill": {
                            "color": "#EBF0F8"
                          },
                          "line": {
                            "color": "white"
                          }
                        },
                        "header": {
                          "fill": {
                            "color": "#C8D4E3"
                          },
                          "line": {
                            "color": "white"
                          }
                        },
                        "type": "table"
                      }
                    ]
                  },
                  "layout": {
                    "annotationdefaults": {
                      "arrowcolor": "#2a3f5f",
                      "arrowhead": 0,
                      "arrowwidth": 1
                    },
                    "autotypenumbers": "strict",
                    "coloraxis": {
                      "colorbar": {
                        "outlinewidth": 0,
                        "ticks": ""
                      }
                    },
                    "colorscale": {
                      "diverging": [
                        [
                          0,
                          "#8e0152"
                        ],
                        [
                          0.1,
                          "#c51b7d"
                        ],
                        [
                          0.2,
                          "#de77ae"
                        ],
                        [
                          0.3,
                          "#f1b6da"
                        ],
                        [
                          0.4,
                          "#fde0ef"
                        ],
                        [
                          0.5,
                          "#f7f7f7"
                        ],
                        [
                          0.6,
                          "#e6f5d0"
                        ],
                        [
                          0.7,
                          "#b8e186"
                        ],
                        [
                          0.8,
                          "#7fbc41"
                        ],
                        [
                          0.9,
                          "#4d9221"
                        ],
                        [
                          1,
                          "#276419"
                        ]
                      ],
                      "sequential": [
                        [
                          0,
                          "#0d0887"
                        ],
                        [
                          0.1111111111111111,
                          "#46039f"
                        ],
                        [
                          0.2222222222222222,
                          "#7201a8"
                        ],
                        [
                          0.3333333333333333,
                          "#9c179e"
                        ],
                        [
                          0.4444444444444444,
                          "#bd3786"
                        ],
                        [
                          0.5555555555555556,
                          "#d8576b"
                        ],
                        [
                          0.6666666666666666,
                          "#ed7953"
                        ],
                        [
                          0.7777777777777778,
                          "#fb9f3a"
                        ],
                        [
                          0.8888888888888888,
                          "#fdca26"
                        ],
                        [
                          1,
                          "#f0f921"
                        ]
                      ],
                      "sequentialminus": [
                        [
                          0,
                          "#0d0887"
                        ],
                        [
                          0.1111111111111111,
                          "#46039f"
                        ],
                        [
                          0.2222222222222222,
                          "#7201a8"
                        ],
                        [
                          0.3333333333333333,
                          "#9c179e"
                        ],
                        [
                          0.4444444444444444,
                          "#bd3786"
                        ],
                        [
                          0.5555555555555556,
                          "#d8576b"
                        ],
                        [
                          0.6666666666666666,
                          "#ed7953"
                        ],
                        [
                          0.7777777777777778,
                          "#fb9f3a"
                        ],
                        [
                          0.8888888888888888,
                          "#fdca26"
                        ],
                        [
                          1,
                          "#f0f921"
                        ]
                      ]
                    },
                    "colorway": [
                      "#636efa",
                      "#EF553B",
                      "#00cc96",
                      "#ab63fa",
                      "#FFA15A",
                      "#19d3f3",
                      "#FF6692",
                      "#B6E880",
                      "#FF97FF",
                      "#FECB52"
                    ],
                    "font": {
                      "color": "#2a3f5f"
                    },
                    "geo": {
                      "bgcolor": "white",
                      "lakecolor": "white",
                      "landcolor": "#E5ECF6",
                      "showlakes": true,
                      "showland": true,
                      "subunitcolor": "white"
                    },
                    "hoverlabel": {
                      "align": "left"
                    },
                    "hovermode": "closest",
                    "mapbox": {
                      "style": "light"
                    },
                    "paper_bgcolor": "white",
                    "plot_bgcolor": "#E5ECF6",
                    "polar": {
                      "angularaxis": {
                        "gridcolor": "white",
                        "linecolor": "white",
                        "ticks": ""
                      },
                      "bgcolor": "#E5ECF6",
                      "radialaxis": {
                        "gridcolor": "white",
                        "linecolor": "white",
                        "ticks": ""
                      }
                    },
                    "scene": {
                      "xaxis": {
                        "backgroundcolor": "#E5ECF6",
                        "gridcolor": "white",
                        "gridwidth": 2,
                        "linecolor": "white",
                        "showbackground": true,
                        "ticks": "",
                        "zerolinecolor": "white"
                      },
                      "yaxis": {
                        "backgroundcolor": "#E5ECF6",
                        "gridcolor": "white",
                        "gridwidth": 2,
                        "linecolor": "white",
                        "showbackground": true,
                        "ticks": "",
                        "zerolinecolor": "white"
                      },
                      "zaxis": {
                        "backgroundcolor": "#E5ECF6",
                        "gridcolor": "white",
                        "gridwidth": 2,
                        "linecolor": "white",
                        "showbackground": true,
                        "ticks": "",
                        "zerolinecolor": "white"
                      }
                    },
                    "shapedefaults": {
                      "line": {
                        "color": "#2a3f5f"
                      }
                    },
                    "ternary": {
                      "aaxis": {
                        "gridcolor": "white",
                        "linecolor": "white",
                        "ticks": ""
                      },
                      "baxis": {
                        "gridcolor": "white",
                        "linecolor": "white",
                        "ticks": ""
                      },
                      "bgcolor": "#E5ECF6",
                      "caxis": {
                        "gridcolor": "white",
                        "linecolor": "white",
                        "ticks": ""
                      }
                    },
                    "title": {
                      "x": 0.05
                    },
                    "xaxis": {
                      "automargin": true,
                      "gridcolor": "white",
                      "linecolor": "white",
                      "ticks": "",
                      "title": {
                        "standoff": 15
                      },
                      "zerolinecolor": "white",
                      "zerolinewidth": 2
                    },
                    "yaxis": {
                      "automargin": true,
                      "gridcolor": "white",
                      "linecolor": "white",
                      "ticks": "",
                      "title": {
                        "standoff": 15
                      },
                      "zerolinecolor": "white",
                      "zerolinewidth": 2
                    }
                  }
                },
                "xaxis": {
                  "anchor": "y",
                  "domain": [
                    0,
                    1
                  ],
                  "title": {
                    "text": "x"
                  }
                },
                "yaxis": {
                  "anchor": "x",
                  "domain": [
                    0,
                    1
                  ],
                  "title": {
                    "text": "y"
                  }
                }
              }
            }
          },
          "metadata": {}
        }
      ]
    },
    {
      "cell_type": "code",
      "metadata": {
        "colab": {
          "base_uri": "https://localhost:8080/"
        },
        "id": "0rR6ssc42qQI",
        "outputId": "bc0bcdcd-2bd1-41d3-d80d-e0cff01e25e8",
        "tags": [
          "outputPrepend"
        ]
      },
      "source": [
        "song_cluster_pipeline = Pipeline([('scaler', StandardScaler()),\n",
        "                                  ('kmeans', KMeans(n_clusters=20,\n",
        "                                                    verbose=2, n_jobs=-1))], verbose=True)\n",
        "X = df.select_dtypes(np.number)\n",
        "number_cols = list(X.columns)\n",
        "song_cluster_fitted = song_cluster_pipeline.fit(X)\n",
        "song_cluster_labels = song_cluster_pipeline.predict(X)\n",
        "df['cluster_label'] = song_cluster_labels"
      ],
      "execution_count": 102,
      "outputs": [
        {
          "output_type": "stream",
          "name": "stdout",
          "text": [
            "nertia 1025702.016910514\n",
            "Iteration 76, inertia 1025691.9330898969\n",
            "Iteration 77, inertia 1025684.3277408275\n",
            "Iteration 78, inertia 1025677.3490785011\n",
            "Iteration 79, inertia 1025671.7721301515\n",
            "Iteration 80, inertia 1025667.3704461236\n",
            "Iteration 81, inertia 1025664.7365463397\n",
            "Converged at iteration 81: center shift 9.81894983330122e-05 within tolerance 9.999999999999879e-05.\n",
            "Initialization complete\n",
            "Iteration 0, inertia 1426790.294839426\n",
            "Iteration 1, inertia 1112405.8491854244\n",
            "Iteration 2, inertia 1083239.8088192588\n",
            "Iteration 3, inertia 1069306.3091344286\n",
            "Iteration 4, inertia 1062646.735167214\n",
            "Iteration 5, inertia 1058941.4058433943\n",
            "Iteration 6, inertia 1056203.2995425302\n",
            "Iteration 7, inertia 1053897.2345584307\n",
            "Iteration 8, inertia 1051736.9626903262\n",
            "Iteration 9, inertia 1049157.9326859491\n",
            "Iteration 10, inertia 1045961.9429076265\n",
            "Iteration 11, inertia 1042634.4490922639\n",
            "Iteration 12, inertia 1039304.7175589836\n",
            "Iteration 13, inertia 1036880.2609517571\n",
            "Iteration 14, inertia 1035598.988937173\n",
            "Iteration 15, inertia 1034757.3396333198\n",
            "Iteration 16, inertia 1034127.6408465911\n",
            "Iteration 17, inertia 1033739.3907465274\n",
            "Iteration 18, inertia 1033568.1550870354\n",
            "Iteration 19, inertia 1033453.2610914494\n",
            "Iteration 20, inertia 1033354.659287072\n",
            "Iteration 21, inertia 1033280.3985713191\n",
            "Iteration 22, inertia 1033216.3969758068\n",
            "Iteration 23, inertia 1033154.7012392376\n",
            "Iteration 24, inertia 1033096.2805307709\n",
            "Iteration 25, inertia 1033037.2899836475\n",
            "Iteration 26, inertia 1032976.936597545\n",
            "Iteration 27, inertia 1032918.930914917\n",
            "Iteration 28, inertia 1032865.2553943279\n",
            "Iteration 29, inertia 1032818.8762671333\n",
            "Iteration 30, inertia 1032779.326143762\n",
            "Iteration 31, inertia 1032742.6141168159\n",
            "Iteration 32, inertia 1032708.1764640923\n",
            "Iteration 33, inertia 1032673.092825332\n",
            "Iteration 34, inertia 1032636.8117743948\n",
            "Iteration 35, inertia 1032598.6842482657\n",
            "Iteration 36, inertia 1032558.491817317\n",
            "Iteration 37, inertia 1032508.488406162\n",
            "Iteration 38, inertia 1032450.2492351317\n",
            "Iteration 39, inertia 1032386.4057379897\n",
            "Iteration 40, inertia 1032312.1791729365\n",
            "Iteration 41, inertia 1032230.3168072881\n",
            "Iteration 42, inertia 1032143.3179403222\n",
            "Iteration 43, inertia 1032045.397047763\n",
            "Iteration 44, inertia 1031940.9308985764\n",
            "Iteration 45, inertia 1031838.7120386877\n",
            "Iteration 46, inertia 1031735.0681623919\n",
            "Iteration 47, inertia 1031620.2330573533\n",
            "Iteration 48, inertia 1031484.5551250774\n",
            "Iteration 49, inertia 1031339.5933311187\n",
            "Iteration 50, inertia 1031159.8766507733\n",
            "Iteration 51, inertia 1030932.9705395354\n",
            "Iteration 52, inertia 1030599.7043522948\n",
            "Iteration 53, inertia 1030123.2516316617\n",
            "Iteration 54, inertia 1029442.1623444087\n",
            "Iteration 55, inertia 1028426.334503868\n",
            "Iteration 56, inertia 1027108.0653864283\n",
            "Iteration 57, inertia 1025760.8811405363\n",
            "Iteration 58, inertia 1024665.124235317\n",
            "Iteration 59, inertia 1023743.4798350005\n",
            "Iteration 60, inertia 1022821.3298837129\n",
            "Iteration 61, inertia 1021673.7118038207\n",
            "Iteration 62, inertia 1020203.6821300003\n",
            "Iteration 63, inertia 1018750.0287116918\n",
            "Iteration 64, inertia 1017887.8900911618\n",
            "Iteration 65, inertia 1017470.1507838394\n",
            "Iteration 66, inertia 1017217.3555184703\n",
            "Iteration 67, inertia 1017061.0336872463\n",
            "Iteration 68, inertia 1016958.4773569688\n",
            "Iteration 69, inertia 1016889.6592822789\n",
            "Iteration 70, inertia 1016846.9554660023\n",
            "Iteration 71, inertia 1016823.0164686233\n",
            "Iteration 72, inertia 1016809.2728578493\n",
            "Iteration 73, inertia 1016802.0685703928\n",
            "Iteration 74, inertia 1016797.8964816142\n",
            "Iteration 75, inertia 1016795.3699833885\n",
            "Converged at iteration 75: center shift 7.296486850243566e-05 within tolerance 9.999999999999879e-05.\n",
            "Initialization complete\n",
            "Iteration 0, inertia 1541834.9539309982\n",
            "Iteration 1, inertia 1134504.0733570242\n",
            "Iteration 2, inertia 1102320.3490744554\n",
            "Iteration 3, inertia 1079624.162111462\n",
            "Iteration 4, inertia 1061899.94362181\n",
            "Iteration 5, inertia 1051675.3078302112\n",
            "Iteration 6, inertia 1045928.0068122938\n",
            "Iteration 7, inertia 1042222.2091832594\n",
            "Iteration 8, inertia 1039807.3528756945\n",
            "Iteration 9, inertia 1038277.25625983\n",
            "Iteration 10, inertia 1037279.6865187621\n",
            "Iteration 11, inertia 1036579.1495552575\n",
            "Iteration 12, inertia 1036060.1520508107\n",
            "Iteration 13, inertia 1035654.7180678372\n",
            "Iteration 14, inertia 1035330.5444435308\n",
            "Iteration 15, inertia 1035096.6523267071\n",
            "Iteration 16, inertia 1034896.1246781278\n",
            "Iteration 17, inertia 1034742.9755268259\n",
            "Iteration 18, inertia 1034632.2803574504\n",
            "Iteration 19, inertia 1034546.5561143083\n",
            "Iteration 20, inertia 1034473.6973755539\n",
            "Iteration 21, inertia 1034414.9294474296\n",
            "Iteration 22, inertia 1034367.971317486\n",
            "Iteration 23, inertia 1034329.8162337043\n",
            "Iteration 24, inertia 1034300.2302292912\n",
            "Iteration 25, inertia 1034276.7791526098\n",
            "Iteration 26, inertia 1034258.4027186978\n",
            "Iteration 27, inertia 1034243.5445266784\n",
            "Iteration 28, inertia 1034232.213859229\n",
            "Iteration 29, inertia 1034223.8309604825\n",
            "Iteration 30, inertia 1034218.7627532101\n",
            "Iteration 31, inertia 1034214.9706701539\n",
            "Iteration 32, inertia 1034211.837929992\n",
            "Iteration 33, inertia 1034208.6028842673\n",
            "Iteration 34, inertia 1034205.2223708199\n",
            "Iteration 35, inertia 1034201.714728122\n",
            "Iteration 36, inertia 1034198.0215455778\n",
            "Iteration 37, inertia 1034193.8696646253\n",
            "Iteration 38, inertia 1034190.5647672896\n",
            "Iteration 39, inertia 1034186.857035302\n",
            "Iteration 40, inertia 1034183.2299605552\n",
            "Iteration 41, inertia 1034180.7850332003\n",
            "Iteration 42, inertia 1034177.8461873538\n",
            "Iteration 43, inertia 1034174.8182788261\n",
            "Iteration 44, inertia 1034171.7269559499\n",
            "Iteration 45, inertia 1034169.020030418\n",
            "Iteration 46, inertia 1034166.3646974292\n",
            "Converged at iteration 46: center shift 8.783765841114339e-05 within tolerance 9.999999999999879e-05.\n",
            "Initialization complete\n",
            "Iteration 0, inertia 1482159.8561752436\n",
            "Iteration 1, inertia 1155428.0205064954\n",
            "Iteration 2, inertia 1105173.2244237224\n",
            "Iteration 3, inertia 1075850.1588172156\n",
            "Iteration 4, inertia 1062334.6385992374\n",
            "Iteration 5, inertia 1055453.558295002\n",
            "Iteration 6, inertia 1051616.355460976\n",
            "Iteration 7, inertia 1049101.0331661364\n",
            "Iteration 8, inertia 1046794.3747115118\n",
            "Iteration 9, inertia 1044386.6878902324\n",
            "Iteration 10, inertia 1042362.5920221817\n",
            "Iteration 11, inertia 1041110.1238886486\n",
            "Iteration 12, inertia 1040334.725289031\n",
            "Iteration 13, inertia 1039705.9824619675\n",
            "Iteration 14, inertia 1039104.1332508175\n",
            "Iteration 15, inertia 1038522.8710297449\n",
            "Iteration 16, inertia 1038025.2521095079\n",
            "Iteration 17, inertia 1037602.5941617846\n",
            "Iteration 18, inertia 1037250.2070590906\n",
            "Iteration 19, inertia 1036953.8934428556\n",
            "Iteration 20, inertia 1036697.888174095\n",
            "Iteration 21, inertia 1036503.7830781841\n",
            "Iteration 22, inertia 1036351.4655470588\n",
            "Iteration 23, inertia 1036237.5329070851\n",
            "Iteration 24, inertia 1036150.4978163702\n",
            "Iteration 25, inertia 1036071.2464315161\n",
            "Iteration 26, inertia 1035995.4775412151\n",
            "Iteration 27, inertia 1035925.154433388\n",
            "Iteration 28, inertia 1035866.3738354938\n",
            "Iteration 29, inertia 1035811.1825655996\n",
            "Iteration 30, inertia 1035766.0502268331\n",
            "Iteration 31, inertia 1035729.2919778373\n",
            "Iteration 32, inertia 1035694.2177237625\n",
            "Iteration 33, inertia 1035661.2379191202\n",
            "Iteration 34, inertia 1035629.4282541027\n",
            "Iteration 35, inertia 1035604.3313889094\n",
            "Iteration 36, inertia 1035585.2581674422\n",
            "Iteration 37, inertia 1035570.6603343333\n",
            "Iteration 38, inertia 1035556.6727526552\n",
            "Iteration 39, inertia 1035546.6373550931\n",
            "Iteration 40, inertia 1035537.5780522021\n",
            "Iteration 41, inertia 1035530.4781633292\n",
            "Iteration 42, inertia 1035523.9313436437\n",
            "Iteration 43, inertia 1035517.9597889452\n",
            "Iteration 44, inertia 1035512.2103484934\n",
            "Iteration 45, inertia 1035506.5322141959\n",
            "Iteration 46, inertia 1035501.0987998488\n",
            "Iteration 47, inertia 1035496.1064420401\n",
            "Iteration 48, inertia 1035491.489209198\n",
            "Iteration 49, inertia 1035487.3972913258\n",
            "Iteration 50, inertia 1035483.9319156229\n",
            "Iteration 51, inertia 1035481.3352987218\n",
            "Converged at iteration 51: center shift 9.732504435352169e-05 within tolerance 9.999999999999879e-05.\n",
            "Initialization complete\n",
            "Iteration 0, inertia 1490967.0923635645\n",
            "Iteration 1, inertia 1136417.901982456\n",
            "Iteration 2, inertia 1091363.6993225412\n",
            "Iteration 3, inertia 1061793.1597717435\n",
            "Iteration 4, inertia 1041198.0537450283\n",
            "Iteration 5, inertia 1031522.8132810714\n",
            "Iteration 6, inertia 1028083.9942880209\n",
            "Iteration 7, inertia 1026264.1257971069\n",
            "Iteration 8, inertia 1024645.8339921869\n",
            "Iteration 9, inertia 1023140.6216833375\n",
            "Iteration 10, inertia 1022308.2604545946\n",
            "Iteration 11, inertia 1021885.9262376712\n",
            "Iteration 12, inertia 1021637.8777195454\n",
            "Iteration 13, inertia 1021461.0517781416\n",
            "Iteration 14, inertia 1021328.8847610367\n",
            "Iteration 15, inertia 1021216.7417472514\n",
            "Iteration 16, inertia 1021108.7963374285\n",
            "Iteration 17, inertia 1021012.1201906459\n",
            "Iteration 18, inertia 1020924.0382059454\n",
            "Iteration 19, inertia 1020835.318163043\n",
            "Iteration 20, inertia 1020746.2103719765\n",
            "Iteration 21, inertia 1020657.0191350615\n",
            "Iteration 22, inertia 1020585.5355464463\n",
            "Iteration 23, inertia 1020520.5941222903\n",
            "Iteration 24, inertia 1020454.0037773856\n",
            "Iteration 25, inertia 1020380.9950051409\n",
            "Iteration 26, inertia 1020308.5609759756\n",
            "Iteration 27, inertia 1020245.7017414827\n",
            "Iteration 28, inertia 1020187.3721171458\n",
            "Iteration 29, inertia 1020124.1166397947\n",
            "Iteration 30, inertia 1020054.3889008578\n",
            "Iteration 31, inertia 1019983.7809261769\n",
            "Iteration 32, inertia 1019915.7185503349\n",
            "Iteration 33, inertia 1019853.5192106349\n",
            "Iteration 34, inertia 1019789.6297921214\n",
            "Iteration 35, inertia 1019726.8014535815\n",
            "Iteration 36, inertia 1019663.3792904489\n",
            "Iteration 37, inertia 1019604.3175116129\n",
            "Iteration 38, inertia 1019553.5404996789\n",
            "Iteration 39, inertia 1019504.9325353298\n",
            "Iteration 40, inertia 1019454.6751493731\n",
            "Iteration 41, inertia 1019399.7328573373\n",
            "Iteration 42, inertia 1019343.4714930467\n",
            "Iteration 43, inertia 1019274.2602750974\n",
            "Iteration 44, inertia 1019197.9994347257\n",
            "Iteration 45, inertia 1019122.5930172155\n",
            "Iteration 46, inertia 1019050.2755496094\n",
            "Iteration 47, inertia 1018982.7357577473\n",
            "Iteration 48, inertia 1018921.9964279666\n",
            "Iteration 49, inertia 1018862.0579218417\n",
            "Iteration 50, inertia 1018807.7264866983\n",
            "Iteration 51, inertia 1018764.0339272795\n",
            "Iteration 52, inertia 1018727.2499526824\n",
            "Iteration 53, inertia 1018699.9836670238\n",
            "Iteration 54, inertia 1018678.835616848\n",
            "Iteration 55, inertia 1018663.4828614657\n",
            "Iteration 56, inertia 1018652.5394332646\n",
            "Iteration 57, inertia 1018643.506834242\n",
            "Iteration 58, inertia 1018636.7584053677\n",
            "Iteration 59, inertia 1018632.297022373\n",
            "Iteration 60, inertia 1018629.0682854601\n",
            "Iteration 61, inertia 1018627.0274691198\n",
            "Converged at iteration 61: center shift 7.014128006748669e-05 within tolerance 9.999999999999879e-05.\n",
            "Initialization complete\n",
            "Iteration 0, inertia 1565631.6031591196\n",
            "Iteration 1, inertia 1156540.5976219887\n",
            "Iteration 2, inertia 1102602.0812813856\n",
            "Iteration 3, inertia 1071054.0550316682\n",
            "Iteration 4, inertia 1053593.1371969774\n",
            "Iteration 5, inertia 1045567.695659241\n",
            "Iteration 6, inertia 1040912.0927619291\n",
            "Iteration 7, inertia 1037406.8688741816\n",
            "Iteration 8, inertia 1034184.027921569\n",
            "Iteration 9, inertia 1031342.4989269318\n",
            "Iteration 10, inertia 1028667.7904495143\n",
            "Iteration 11, inertia 1026507.4657594005\n",
            "Iteration 12, inertia 1024764.1316352224\n",
            "Iteration 13, inertia 1023518.4133122781\n",
            "Iteration 14, inertia 1022895.2933792621\n",
            "Iteration 15, inertia 1022585.8200370976\n",
            "Iteration 16, inertia 1022388.1483070684\n",
            "Iteration 17, inertia 1022258.4542245973\n",
            "Iteration 18, inertia 1022182.0931702377\n",
            "Iteration 19, inertia 1022136.1628411058\n",
            "Iteration 20, inertia 1022100.8739279937\n",
            "Iteration 21, inertia 1022074.3012609294\n",
            "Iteration 22, inertia 1022053.8314170453\n",
            "Iteration 23, inertia 1022038.3254646407\n",
            "Iteration 24, inertia 1022023.6411459951\n",
            "Iteration 25, inertia 1022009.8961416788\n",
            "Iteration 26, inertia 1021996.2776996329\n",
            "Iteration 27, inertia 1021983.8379137844\n",
            "Iteration 28, inertia 1021972.0598431239\n",
            "Iteration 29, inertia 1021961.1948469637\n",
            "Iteration 30, inertia 1021947.0491901337\n",
            "Iteration 31, inertia 1021932.7212070872\n",
            "Iteration 32, inertia 1021917.6617933986\n",
            "Iteration 33, inertia 1021901.6545673772\n",
            "Iteration 34, inertia 1021883.9779777636\n",
            "Iteration 35, inertia 1021865.4293524218\n",
            "Iteration 36, inertia 1021846.6697892068\n",
            "Iteration 37, inertia 1021830.7475088722\n",
            "Iteration 38, inertia 1021813.4065835163\n",
            "Iteration 39, inertia 1021794.56624037\n",
            "Iteration 40, inertia 1021774.0992257501\n",
            "Iteration 41, inertia 1021752.6744681324\n",
            "Iteration 42, inertia 1021728.7211728721\n",
            "Iteration 43, inertia 1021700.0668041204\n",
            "Iteration 44, inertia 1021668.5495220958\n",
            "Iteration 45, inertia 1021628.9714170035\n",
            "Iteration 46, inertia 1021584.9843087594\n",
            "Iteration 47, inertia 1021542.573438395\n",
            "Iteration 48, inertia 1021494.0348092354\n",
            "Iteration 49, inertia 1021446.0921884389\n",
            "Iteration 50, inertia 1021400.4361893926\n",
            "Iteration 51, inertia 1021353.9192193284\n",
            "Iteration 52, inertia 1021303.9813389146\n",
            "Iteration 53, inertia 1021252.7534499534\n",
            "Iteration 54, inertia 1021201.1233144561\n",
            "Iteration 55, inertia 1021155.3859192529\n",
            "Iteration 56, inertia 1021117.087906313\n",
            "Iteration 57, inertia 1021087.9540682747\n",
            "Iteration 58, inertia 1021064.1240065856\n",
            "Iteration 59, inertia 1021043.5976987643\n",
            "Iteration 60, inertia 1021030.6815445592\n",
            "Iteration 61, inertia 1021024.0886304475\n",
            "Iteration 62, inertia 1021017.6185317001\n",
            "Iteration 63, inertia 1021012.125755145\n",
            "Iteration 64, inertia 1021008.8758852049\n",
            "Iteration 65, inertia 1021006.1413651033\n",
            "Iteration 66, inertia 1021004.2559888632\n",
            "Iteration 67, inertia 1021002.0362150865\n",
            "Iteration 68, inertia 1020999.9203444825\n",
            "Iteration 69, inertia 1020998.074706434\n",
            "Converged at iteration 69: center shift 9.388616432988839e-05 within tolerance 9.999999999999879e-05.\n",
            "Initialization complete\n",
            "Iteration 0, inertia 1470081.7013278739\n",
            "Iteration 1, inertia 1125656.4182356\n",
            "Iteration 2, inertia 1077113.6339052645\n",
            "Iteration 3, inertia 1061598.064502631\n",
            "Iteration 4, inertia 1056869.293744145\n",
            "Iteration 5, inertia 1055158.9609440856\n",
            "Iteration 6, inertia 1054236.7451675644\n",
            "Iteration 7, inertia 1053619.1635384622\n",
            "Iteration 8, inertia 1053149.0016652902\n",
            "Iteration 9, inertia 1052636.79676229\n",
            "Iteration 10, inertia 1052229.0798201011\n",
            "Iteration 11, inertia 1051851.8433701491\n",
            "Iteration 12, inertia 1051383.5682119762\n",
            "Iteration 13, inertia 1050739.7752079454\n",
            "Iteration 14, inertia 1049896.44724382\n",
            "Iteration 15, inertia 1048900.0123320275\n",
            "Iteration 16, inertia 1047860.84777699\n",
            "Iteration 17, inertia 1046796.0828133221\n",
            "Iteration 18, inertia 1045896.3528044893\n",
            "Iteration 19, inertia 1045164.7893460905\n",
            "Iteration 20, inertia 1044585.9386253583\n",
            "Iteration 21, inertia 1044143.8125934892\n",
            "Iteration 22, inertia 1043742.6623695617\n",
            "Iteration 23, inertia 1043396.5173093291\n",
            "Iteration 24, inertia 1043129.8420412457\n",
            "Iteration 25, inertia 1042913.5578773859\n",
            "Iteration 26, inertia 1042734.8423379565\n",
            "Iteration 27, inertia 1042611.4282605895\n",
            "Iteration 28, inertia 1042539.5826471051\n",
            "Iteration 29, inertia 1042490.0676414882\n",
            "Iteration 30, inertia 1042452.0752163038\n",
            "Iteration 31, inertia 1042427.8220804284\n",
            "Iteration 32, inertia 1042410.3913107006\n",
            "Iteration 33, inertia 1042398.0331702366\n",
            "Iteration 34, inertia 1042389.5953070355\n",
            "Iteration 35, inertia 1042382.4865617484\n",
            "Iteration 36, inertia 1042373.9924718429\n",
            "Iteration 37, inertia 1042367.3450495935\n",
            "Iteration 38, inertia 1042361.3638544345\n",
            "Iteration 39, inertia 1042355.4402786467\n",
            "Iteration 40, inertia 1042349.5678462682\n",
            "Iteration 41, inertia 1042344.9084637922\n",
            "Iteration 42, inertia 1042341.1428150175\n",
            "Iteration 43, inertia 1042338.5568631311\n",
            "Iteration 44, inertia 1042336.7967606153\n",
            "Converged at iteration 44: center shift 8.667666612608262e-05 within tolerance 9.999999999999879e-05.\n",
            "Initialization complete\n",
            "Iteration 0, inertia 1522769.5251241706\n",
            "Iteration 1, inertia 1157461.6943285505\n",
            "Iteration 2, inertia 1125041.872206628\n",
            "Iteration 3, inertia 1104220.8628450679\n",
            "Iteration 4, inertia 1080984.3705695753\n",
            "Iteration 5, inertia 1070169.0433543131\n",
            "Iteration 6, inertia 1062955.7955268356\n",
            "Iteration 7, inertia 1058432.8053421944\n",
            "Iteration 8, inertia 1055563.2401908608\n",
            "Iteration 9, inertia 1053802.1083796336\n",
            "Iteration 10, inertia 1052623.7790415413\n",
            "Iteration 11, inertia 1051669.793677359\n",
            "Iteration 12, inertia 1050747.223598581\n",
            "Iteration 13, inertia 1049629.6136512125\n",
            "Iteration 14, inertia 1048144.7088580369\n",
            "Iteration 15, inertia 1046184.7763203651\n",
            "Iteration 16, inertia 1043481.0979735713\n",
            "Iteration 17, inertia 1041056.7916454527\n",
            "Iteration 18, inertia 1039361.9236637348\n",
            "Iteration 19, inertia 1037937.1089025249\n",
            "Iteration 20, inertia 1036628.7531675261\n",
            "Iteration 21, inertia 1035253.5594491536\n",
            "Iteration 22, inertia 1033577.0593745094\n",
            "Iteration 23, inertia 1032016.4908917545\n",
            "Iteration 24, inertia 1031046.1140491316\n",
            "Iteration 25, inertia 1030503.9826448755\n",
            "Iteration 26, inertia 1030172.8816493329\n",
            "Iteration 27, inertia 1029955.3356559235\n",
            "Iteration 28, inertia 1029805.5287308651\n",
            "Iteration 29, inertia 1029691.4719644076\n",
            "Iteration 30, inertia 1029602.455140944\n",
            "Iteration 31, inertia 1029528.7881883469\n",
            "Iteration 32, inertia 1029472.9749886426\n",
            "Iteration 33, inertia 1029434.2058832896\n",
            "Iteration 34, inertia 1029400.3973555617\n",
            "Iteration 35, inertia 1029367.5373326427\n",
            "Iteration 36, inertia 1029338.2864477606\n",
            "Iteration 37, inertia 1029310.8186758998\n",
            "Iteration 38, inertia 1029286.7758620881\n",
            "Iteration 39, inertia 1029265.5739885197\n",
            "Iteration 40, inertia 1029247.5943575429\n",
            "Iteration 41, inertia 1029232.0667468903\n",
            "Iteration 42, inertia 1029220.6955061208\n",
            "Iteration 43, inertia 1029208.7738289152\n",
            "Iteration 44, inertia 1029194.9625922189\n",
            "Iteration 45, inertia 1029178.2736647985\n",
            "Iteration 46, inertia 1029157.840505352\n",
            "Iteration 47, inertia 1029132.1381733704\n",
            "Iteration 48, inertia 1029106.7965198341\n",
            "Iteration 49, inertia 1029080.9314105436\n",
            "Iteration 50, inertia 1029055.2381494162\n",
            "Iteration 51, inertia 1029026.0081160625\n",
            "Iteration 52, inertia 1028994.8327245499\n",
            "Iteration 53, inertia 1028955.9245997961\n",
            "Iteration 54, inertia 1028916.441308328\n",
            "Iteration 55, inertia 1028880.4009609795\n",
            "Iteration 56, inertia 1028851.4701123863\n",
            "Iteration 57, inertia 1028818.3027093479\n",
            "Iteration 58, inertia 1028782.801178847\n",
            "Iteration 59, inertia 1028744.8564222703\n",
            "Iteration 60, inertia 1028707.9789070949\n",
            "Iteration 61, inertia 1028677.9747379164\n",
            "Iteration 62, inertia 1028646.168605198\n",
            "Iteration 63, inertia 1028614.6209945728\n",
            "Iteration 64, inertia 1028593.2296494859\n",
            "Iteration 65, inertia 1028574.1718030233\n",
            "Iteration 66, inertia 1028553.7889215146\n",
            "Iteration 67, inertia 1028536.2046498051\n",
            "Iteration 68, inertia 1028523.4538819406\n",
            "Iteration 69, inertia 1028514.0919482672\n",
            "Iteration 70, inertia 1028508.0682787782\n",
            "Iteration 71, inertia 1028503.1005252792\n",
            "Iteration 72, inertia 1028498.9999304607\n",
            "Iteration 73, inertia 1028496.2794496146\n",
            "Iteration 74, inertia 1028494.4700904262\n",
            "Iteration 75, inertia 1028492.9632417787\n",
            "Converged at iteration 75: center shift 5.9435600287286536e-05 within tolerance 9.999999999999879e-05.\n",
            "Initialization complete\n",
            "Iteration 0, inertia 1380975.822944772\n",
            "Iteration 1, inertia 1097376.8361733772\n",
            "Iteration 2, inertia 1063246.7110075343\n",
            "Iteration 3, inertia 1047647.7198026397\n",
            "Iteration 4, inertia 1039078.251067053\n",
            "Iteration 5, inertia 1032907.5614314532\n",
            "Iteration 6, inertia 1028878.0604371537\n",
            "Iteration 7, inertia 1026969.260196277\n",
            "Iteration 8, inertia 1025746.5975902978\n",
            "Iteration 9, inertia 1024912.0792254048\n",
            "Iteration 10, inertia 1024319.56714873\n",
            "Iteration 11, inertia 1023918.9455538259\n",
            "Iteration 12, inertia 1023630.5830448066\n",
            "Iteration 13, inertia 1023409.4733041864\n",
            "Iteration 14, inertia 1023254.783272948\n",
            "Iteration 15, inertia 1023148.5199927858\n",
            "Iteration 16, inertia 1023069.6525958176\n",
            "Iteration 17, inertia 1023000.6605076314\n",
            "Iteration 18, inertia 1022938.2747444889\n",
            "Iteration 19, inertia 1022891.8567662066\n",
            "Iteration 20, inertia 1022856.3437009938\n",
            "Iteration 21, inertia 1022830.2021598737\n",
            "Iteration 22, inertia 1022812.6730301691\n",
            "Iteration 23, inertia 1022801.5057059748\n",
            "Iteration 24, inertia 1022794.9055669724\n",
            "Iteration 25, inertia 1022791.7331353638\n",
            "Iteration 26, inertia 1022789.2790146269\n",
            "Iteration 27, inertia 1022786.9714032859\n",
            "Converged at iteration 27: center shift 6.694742349177115e-05 within tolerance 9.999999999999879e-05.\n",
            "[Pipeline] ............ (step 2 of 2) Processing kmeans, total=  19.7s\n"
          ]
        }
      ]
    },
    {
      "cell_type": "code",
      "execution_count": 118,
      "metadata": {},
      "outputs": [],
      "source": [
        "import pickle\n",
        "cluster_file = 'cluster.pickle'\n",
        "pickle.dump(song_cluster_pipeline, open(cluster_file, 'wb'))"
      ]
    },
    {
      "cell_type": "code",
      "metadata": {
        "id": "vJ00JHpT6DTU"
      },
      "source": [
        "\n",
        "\n",
        "SPOTIPY_CLIENT_ID = getenv('SPOTIPY_CLIENT_ID')\n",
        "SPOTIPY_SECRET_ID = getenv('SECRET_ID')\n",
        "\n",
        "sp = spotipy.Spotify(auth_manager=SpotifyClientCredentials(client_id=SPOTIPY_CLIENT_ID,\n",
        "                                                           client_secret=SPOTIPY_SECRET_ID))\n",
        "\n",
        "def find_song(name):\n",
        "  song_data = defaultdict()\n",
        "  results = sp.search(q='track: {}'.format(name), limit=1)\n",
        "  if results['tracks']['items'] == []:\n",
        "    return None\n",
        "\n",
        "  results = results['tracks']['items'][0]\n",
        "  track_id = results['id']\n",
        "  audio_features = sp.audio_features(track_id)[0]\n",
        "\n",
        "  song_data['name'] = [name]  \n",
        "  # song_data['year'] = [year]\n",
        "  song_data['explicit'] = [int(results['explicit'])]\n",
        "  song_data['duration_ms'] = [results['duration_ms']]\n",
        "  song_data['popularity'] = [results['popularity']]\n",
        "\n",
        "  for key, value in audio_features.items():\n",
        "    song_data[key] = value\n",
        "\n",
        "  return pd.DataFrame(song_data)"
      ],
      "execution_count": 105,
      "outputs": []
    },
    {
      "cell_type": "code",
      "execution_count": 106,
      "metadata": {},
      "outputs": [],
      "source": [
        "xd = sp.search(q=\"track: michael jackson\")"
      ]
    },
    {
      "cell_type": "code",
      "execution_count": 107,
      "metadata": {},
      "outputs": [],
      "source": [
        "xd = xd['tracks']['items'][0]"
      ]
    },
    {
      "cell_type": "code",
      "execution_count": 108,
      "metadata": {},
      "outputs": [],
      "source": [
        "t_id = xd['id']"
      ]
    },
    {
      "cell_type": "code",
      "execution_count": 109,
      "metadata": {},
      "outputs": [
        {
          "output_type": "execute_result",
          "data": {
            "text/plain": [
              "       name  explicit  duration_ms  popularity  danceability  energy  key  \\\n",
              "0  Thriller         0       358053          67         0.764   0.887   11   \n",
              "\n",
              "   loudness  mode  speechiness  ...  instrumentalness  liveness  valence  \\\n",
              "0    -3.726     1       0.0744  ...           0.00011     0.847     0.72   \n",
              "\n",
              "     tempo            type                      id  \\\n",
              "0  118.427  audio_features  7azo4rpSUh8nXgtonC6Pkq   \n",
              "\n",
              "                                    uri  \\\n",
              "0  spotify:track:7azo4rpSUh8nXgtonC6Pkq   \n",
              "\n",
              "                                          track_href  \\\n",
              "0  https://api.spotify.com/v1/tracks/7azo4rpSUh8n...   \n",
              "\n",
              "                                        analysis_url time_signature  \n",
              "0  https://api.spotify.com/v1/audio-analysis/7azo...              4  \n",
              "\n",
              "[1 rows x 21 columns]"
            ],
            "text/html": "<div>\n<style scoped>\n    .dataframe tbody tr th:only-of-type {\n        vertical-align: middle;\n    }\n\n    .dataframe tbody tr th {\n        vertical-align: top;\n    }\n\n    .dataframe thead th {\n        text-align: right;\n    }\n</style>\n<table border=\"1\" class=\"dataframe\">\n  <thead>\n    <tr style=\"text-align: right;\">\n      <th></th>\n      <th>name</th>\n      <th>explicit</th>\n      <th>duration_ms</th>\n      <th>popularity</th>\n      <th>danceability</th>\n      <th>energy</th>\n      <th>key</th>\n      <th>loudness</th>\n      <th>mode</th>\n      <th>speechiness</th>\n      <th>...</th>\n      <th>instrumentalness</th>\n      <th>liveness</th>\n      <th>valence</th>\n      <th>tempo</th>\n      <th>type</th>\n      <th>id</th>\n      <th>uri</th>\n      <th>track_href</th>\n      <th>analysis_url</th>\n      <th>time_signature</th>\n    </tr>\n  </thead>\n  <tbody>\n    <tr>\n      <th>0</th>\n      <td>Thriller</td>\n      <td>0</td>\n      <td>358053</td>\n      <td>67</td>\n      <td>0.764</td>\n      <td>0.887</td>\n      <td>11</td>\n      <td>-3.726</td>\n      <td>1</td>\n      <td>0.0744</td>\n      <td>...</td>\n      <td>0.00011</td>\n      <td>0.847</td>\n      <td>0.72</td>\n      <td>118.427</td>\n      <td>audio_features</td>\n      <td>7azo4rpSUh8nXgtonC6Pkq</td>\n      <td>spotify:track:7azo4rpSUh8nXgtonC6Pkq</td>\n      <td>https://api.spotify.com/v1/tracks/7azo4rpSUh8n...</td>\n      <td>https://api.spotify.com/v1/audio-analysis/7azo...</td>\n      <td>4</td>\n    </tr>\n  </tbody>\n</table>\n<p>1 rows × 21 columns</p>\n</div>"
          },
          "metadata": {},
          "execution_count": 109
        }
      ],
      "source": [
        "find_song(\"Thriller\")"
      ]
    },
    {
      "cell_type": "code",
      "execution_count": 84,
      "metadata": {},
      "outputs": [],
      "source": [
        "audio_feat = sp.audio_features(t_id)[0]"
      ]
    },
    {
      "cell_type": "code",
      "execution_count": 85,
      "metadata": {},
      "outputs": [
        {
          "output_type": "execute_result",
          "data": {
            "text/plain": [
              "{'danceability': 0.822,\n",
              " 'energy': 0.318,\n",
              " 'key': 10,\n",
              " 'loudness': -12.391,\n",
              " 'mode': 1,\n",
              " 'speechiness': 0.0575,\n",
              " 'acousticness': 0.493,\n",
              " 'instrumentalness': 0.0128,\n",
              " 'liveness': 0.11,\n",
              " 'valence': 0.138,\n",
              " 'tempo': 102.998,\n",
              " 'type': 'audio_features',\n",
              " 'id': '6G8kHiVZ1jW7vHMPVRNZU0',\n",
              " 'uri': 'spotify:track:6G8kHiVZ1jW7vHMPVRNZU0',\n",
              " 'track_href': 'https://api.spotify.com/v1/tracks/6G8kHiVZ1jW7vHMPVRNZU0',\n",
              " 'analysis_url': 'https://api.spotify.com/v1/audio-analysis/6G8kHiVZ1jW7vHMPVRNZU0',\n",
              " 'duration_ms': 245787,\n",
              " 'time_signature': 4}"
            ]
          },
          "metadata": {},
          "execution_count": 85
        }
      ],
      "source": [
        "audio_feat"
      ]
    },
    {
      "cell_type": "code",
      "metadata": {
        "id": "N45l31F176vp"
      },
      "source": [
        "def get_song_data(song, df):\n",
        "\n",
        "  try:\n",
        "    song_data = df[(df['name'] == song['name'])].iloc[0]\n",
        "     \n",
        "    return song_data\n",
        "  \n",
        "  except IndexError:\n",
        "    return find_song(song['name']) # , song['year']\n",
        "\n",
        "\n",
        "def get_mean_vector(song_list, df):\n",
        "  \n",
        "  song_vectors = []\n",
        "\n",
        "  for song in song_list:\n",
        "    song_data = get_song_data(song, df)\n",
        "    if song_data is None:\n",
        "      print('Warning: {} does not exist in Spotify or in database'.format(song['name']))\n",
        "      continue\n",
        "    song_vector = song_data[number_cols].values\n",
        "    song_vectors.append(song_vector)\n",
        "\n",
        "  song_matrix = np.array(list(song_vectors))\n",
        "  return np.mean(song_matrix, axis=0)\n",
        "\n",
        "\n",
        "def flatten_dict_list(dict_list):\n",
        "  flattened_dict = defaultdict()\n",
        "  for key in dict_list[0].keys():\n",
        "    flattened_dict[key] = []\n",
        "  \n",
        "  for dictionary in dict_list:\n",
        "    for key, value in dictionary.items():\n",
        "      flattened_dict[key].append(value)\n",
        "  return flattened_dict\n",
        "  \n",
        "\n",
        "def recommend_songs(song_list, df=df, n_songs=10):\n",
        "  metadata_cols = ['name', 'artists']\n",
        "  song_dict = flatten_dict_list(song_list)\n",
        "\n",
        "  song_center = get_mean_vector(song_list, df)\n",
        "  scaler = song_cluster_pipeline.steps[0][1]\n",
        "  scaled_data = scaler.transform(df[number_cols])\n",
        "  scaled_song_center = scaler.transform(song_center.reshape(1,-1))\n",
        "  distances = cdist(scaled_song_center, scaled_data, 'cosine')\n",
        "  index = list(np.argsort(distances)[:, :n_songs][0])\n",
        "\n",
        "  rec_songs = df.iloc[index]\n",
        "  rec_songs = rec_songs[~rec_songs['name'].isin(song_dict['name'])]\n",
        "  ten_songs = rec_songs[metadata_cols].to_dict(orient='records')\n",
        "  return ten_songs, scaled_song_center, scaled_data"
      ],
      "execution_count": 140,
      "outputs": []
    },
    {
      "cell_type": "code",
      "metadata": {
        "colab": {
          "base_uri": "https://localhost:8080/"
        },
        "id": "hC5X1F8__wow",
        "outputId": "f1a9acea-1b61-4569-9ca7-234a7059c2b2"
      },
      "source": [
        "ten_song, ssc, sd = recommend_songs([{'name': 'DVP'}])"
      ],
      "execution_count": 141,
      "outputs": []
    },
    {
      "cell_type": "code",
      "execution_count": 188,
      "metadata": {},
      "outputs": [
        {
          "output_type": "execute_result",
          "data": {
            "text/plain": [
              "[{'name': 'Tired Of Sex', 'artists': 'Weezer'},\n",
              " {'name': 'How You Love Me Now', 'artists': 'Hey Monday'},\n",
              " {'name': 'Heaven Is Falling', 'artists': 'Bad Religion'},\n",
              " {'name': 'Lost in Space', 'artists': 'Misfits'},\n",
              " {'name': \"You Be Tails, I'll Be Sonic\", 'artists': 'A Day To Remember'},\n",
              " {'name': 'Drowning (Face Down)', 'artists': 'Saving Abel'},\n",
              " {'name': 'Angels Of The Silences', 'artists': 'Counting Crows'},\n",
              " {'name': 'Anarchy in the U.K.', 'artists': 'Sex Pistols'},\n",
              " {'name': 'Search and Destroy - Iggy Pop Mix', 'artists': 'The Stooges'},\n",
              " {'name': 'The Air That I Breathe', 'artists': 'All That Remains'}]"
            ]
          },
          "metadata": {},
          "execution_count": 188
        }
      ],
      "source": [
        "ten_song"
      ]
    },
    {
      "cell_type": "code",
      "execution_count": 171,
      "metadata": {},
      "outputs": [
        {
          "output_type": "execute_result",
          "data": {
            "text/plain": [
              "array([[-1.3023512 , -0.99848224, -0.56549629,  1.88598466, -0.27040128,\n",
              "        -0.5895536 ,  0.22587578,  0.6475452 ,  1.84937665,  0.6509402 ,\n",
              "         1.15699688, -0.03417752,  1.02315088, -1.12498921]])"
            ]
          },
          "metadata": {},
          "execution_count": 171
        }
      ],
      "source": [
        "ssc"
      ]
    },
    {
      "cell_type": "code",
      "execution_count": 173,
      "metadata": {},
      "outputs": [],
      "source": [
        "import itertools\n",
        "r = list(itertools.chain.from_iterable(ssc))"
      ]
    },
    {
      "cell_type": "code",
      "execution_count": 183,
      "metadata": {},
      "outputs": [],
      "source": [
        "r = [abs(i) for i in r]"
      ]
    },
    {
      "cell_type": "code",
      "execution_count": 193,
      "metadata": {},
      "outputs": [],
      "source": [
        "r1 = sd[5]\n",
        "r1 = [abs(i) for i in r1]"
      ]
    },
    {
      "cell_type": "code",
      "execution_count": 148,
      "metadata": {},
      "outputs": [],
      "source": [
        "df1 = pd.DataFrame(dict(r=[ssc], theta=[number_cols]))"
      ]
    },
    {
      "cell_type": "code",
      "metadata": {
        "colab": {
          "base_uri": "https://localhost:8080/"
        },
        "id": "Jua6mvjdAHkx",
        "outputId": "8b8d8556-fd5e-4933-8f81-7596be896012"
      },
      "source": [
        "user_input = input('enter a song, or artist and well suggest 10 new songs:')\n",
        "input_dict = {'name': user_input[0]}\n",
        "recommend_songs([input_dict])"
      ],
      "execution_count": 114,
      "outputs": [
        {
          "output_type": "execute_result",
          "data": {
            "text/plain": [
              "[{'name': 'Good Days', 'artists': 'SZA'},\n",
              " {'name': 'Long Time - Intro', 'artists': 'Playboi Carti'},\n",
              " {'name': 'No Love', 'artists': \"August Alsina', 'Nicki Minaj\"},\n",
              " {'name': 'Love Is Only a Feeling', 'artists': 'Joey Bada$$'},\n",
              " {'name': 'Impossible', 'artists': 'Travis Scott'},\n",
              " {'name': 'POWER', 'artists': 'Kanye West'},\n",
              " {'name': 'Bleed It Out', 'artists': 'Linkin Park'},\n",
              " {'name': 'The Dope Show', 'artists': 'Marilyn Manson'},\n",
              " {'name': 'By Myself', 'artists': \"Christian French', 'Triegy\"},\n",
              " {'name': 'Who Gon Stop Me', 'artists': \"JAY-Z', 'Kanye West\"}]"
            ]
          },
          "metadata": {},
          "execution_count": 114
        }
      ]
    },
    {
      "cell_type": "code",
      "metadata": {
        "id": "B40WGYlDDDpd"
      },
      "source": [
        "df1"
      ],
      "execution_count": 149,
      "outputs": [
        {
          "output_type": "execute_result",
          "data": {
            "text/plain": [
              "                                                   r  \\\n",
              "0  [[-1.3023512023072747, -0.9984822438640804, -0...   \n",
              "\n",
              "                                               theta  \n",
              "0  [acousticness, danceability, duration_ms, ener...  "
            ],
            "text/html": "<div>\n<style scoped>\n    .dataframe tbody tr th:only-of-type {\n        vertical-align: middle;\n    }\n\n    .dataframe tbody tr th {\n        vertical-align: top;\n    }\n\n    .dataframe thead th {\n        text-align: right;\n    }\n</style>\n<table border=\"1\" class=\"dataframe\">\n  <thead>\n    <tr style=\"text-align: right;\">\n      <th></th>\n      <th>r</th>\n      <th>theta</th>\n    </tr>\n  </thead>\n  <tbody>\n    <tr>\n      <th>0</th>\n      <td>[[-1.3023512023072747, -0.9984822438640804, -0...</td>\n      <td>[acousticness, danceability, duration_ms, ener...</td>\n    </tr>\n  </tbody>\n</table>\n</div>"
          },
          "metadata": {},
          "execution_count": 149
        }
      ]
    },
    {
      "cell_type": "code",
      "metadata": {
        "colab": {
          "base_uri": "https://localhost:8080/"
        },
        "id": "7daKNEsgEDfr",
        "outputId": "a4d54ef9-1708-47d6-8161-8300c59966c7"
      },
      "source": [],
      "execution_count": 172,
      "outputs": [
        {
          "output_type": "execute_result",
          "data": {
            "text/plain": [
              "[{'artists': 'Curtis Mayfield',\n",
              "  'name': \"We're a Winner - Live @ Bitter End, NYC\",\n",
              "  'year': 1971},\n",
              " {'artists': 'Millenium',\n",
              "  'name': 'My Life Domino - Live in Krakow 2009',\n",
              "  'year': 2010},\n",
              " {'artists': 'Talking Heads',\n",
              "  'name': \"I'm Not in Love - 2004 Remaster\",\n",
              "  'year': 1982},\n",
              " {'artists': 'Millenium',\n",
              "  'name': 'Drunken Angels - Live in Krakow 2009',\n",
              "  'year': 2010},\n",
              " {'artists': 'Paul Carrack',\n",
              "  'name': 'Inspire Me - Live at Bonn, Germany, 2005',\n",
              "  'year': 2020},\n",
              " {'artists': 'The Cure',\n",
              "  'name': 'Lullaby - Live at Wembley 07/89 - Remix 07/09',\n",
              "  'year': 1989},\n",
              " {'artists': 'Bill Withers',\n",
              "  'name': 'Let Us Love - Live at Carnegie Hall, New York, NY - October 1972',\n",
              "  'year': 1973},\n",
              " {'artists': 'The Pharcyde', 'name': 'Officer', 'year': 1992},\n",
              " {'artists': 'Bob Marley & The Wailers',\n",
              "  'name': \"Jammin' - Live At The Pavillon De Paris, 1977\",\n",
              "  'year': 1978},\n",
              " {'artists': 'Paul Carrack',\n",
              "  'name': 'Another Cup of Coffee - Live at Buxton Opera House, 2004',\n",
              "  'year': 2020}]"
            ]
          },
          "metadata": {
            "tags": []
          },
          "execution_count": 172
        }
      ]
    },
    {
      "cell_type": "code",
      "metadata": {
        "id": "LjD7s_PxDVLI"
      },
      "source": [
        "import plotly.graph_objects as go \n",
        "\n",
        "categories = number_cols\n",
        "\n",
        "fig = go.Figure()\n",
        "\n",
        "fig.add_trace(go.Scatterpolar(\n",
        "    r=r,\n",
        "    theta = categories,\n",
        "    fill='toself',\n",
        "    name='dvp'\n",
        "))\n",
        "fig.add_trace(go.Scatterpolar(\n",
        "    r=r1,\n",
        "    theta = categories,\n",
        "    fill='toself',\n",
        "    name=ten_song[5]['name']\n",
        "\n",
        "))\n",
        "fig.update_layout(\n",
        "    polar=dict(\n",
        "        radialaxis=dict(\n",
        "            visible=True,\n",
        "            range=[0, 2]\n",
        "        )),\n",
        "    showlegend=True\n",
        ")\n",
        "fig.show()"
      ],
      "execution_count": 194,
      "outputs": [
        {
          "output_type": "display_data",
          "data": {
            "application/vnd.plotly.v1+json": {
              "config": {
                "plotlyServerURL": "https://plot.ly"
              },
              "data": [
                {
                  "fill": "toself",
                  "name": "dvp",
                  "r": [
                    1.3023512023072747,
                    0.9984822438640804,
                    0.5654962872405377,
                    1.885984656756196,
                    0.2704012765337135,
                    0.5895536000587207,
                    0.22587577760581226,
                    0.647545196258879,
                    1.8493766514951722,
                    0.6509401971195059,
                    1.1569968768721903,
                    0.034177522490510294,
                    1.0231508827755875,
                    1.1249892086132696
                  ],
                  "theta": [
                    "acousticness",
                    "danceability",
                    "duration_ms",
                    "energy",
                    "explicit",
                    "instrumentalness",
                    "key",
                    "liveness",
                    "loudness",
                    "mode",
                    "popularity",
                    "speechiness",
                    "tempo",
                    "valence"
                  ],
                  "type": "scatterpolar"
                },
                {
                  "fill": "toself",
                  "name": "Drowning (Face Down)",
                  "r": [
                    1.3075179749041446,
                    0.6405780286739347,
                    0.23035106498252514,
                    0.8717791831235909,
                    0.2704012765337135,
                    1.7985563980971622,
                    0.058353877488497415,
                    0.1322874656779487,
                    0.0493475033067728,
                    0.6509401971195059,
                    0.7632070277711349,
                    0.36228084612880707,
                    0.4342057301817353,
                    0.17972399512629678
                  ],
                  "theta": [
                    "acousticness",
                    "danceability",
                    "duration_ms",
                    "energy",
                    "explicit",
                    "instrumentalness",
                    "key",
                    "liveness",
                    "loudness",
                    "mode",
                    "popularity",
                    "speechiness",
                    "tempo",
                    "valence"
                  ],
                  "type": "scatterpolar"
                }
              ],
              "layout": {
                "polar": {
                  "radialaxis": {
                    "range": [
                      0,
                      2
                    ],
                    "visible": true
                  }
                },
                "showlegend": true,
                "template": {
                  "data": {
                    "bar": [
                      {
                        "error_x": {
                          "color": "#2a3f5f"
                        },
                        "error_y": {
                          "color": "#2a3f5f"
                        },
                        "marker": {
                          "line": {
                            "color": "#E5ECF6",
                            "width": 0.5
                          }
                        },
                        "type": "bar"
                      }
                    ],
                    "barpolar": [
                      {
                        "marker": {
                          "line": {
                            "color": "#E5ECF6",
                            "width": 0.5
                          }
                        },
                        "type": "barpolar"
                      }
                    ],
                    "carpet": [
                      {
                        "aaxis": {
                          "endlinecolor": "#2a3f5f",
                          "gridcolor": "white",
                          "linecolor": "white",
                          "minorgridcolor": "white",
                          "startlinecolor": "#2a3f5f"
                        },
                        "baxis": {
                          "endlinecolor": "#2a3f5f",
                          "gridcolor": "white",
                          "linecolor": "white",
                          "minorgridcolor": "white",
                          "startlinecolor": "#2a3f5f"
                        },
                        "type": "carpet"
                      }
                    ],
                    "choropleth": [
                      {
                        "colorbar": {
                          "outlinewidth": 0,
                          "ticks": ""
                        },
                        "type": "choropleth"
                      }
                    ],
                    "contour": [
                      {
                        "colorbar": {
                          "outlinewidth": 0,
                          "ticks": ""
                        },
                        "colorscale": [
                          [
                            0,
                            "#0d0887"
                          ],
                          [
                            0.1111111111111111,
                            "#46039f"
                          ],
                          [
                            0.2222222222222222,
                            "#7201a8"
                          ],
                          [
                            0.3333333333333333,
                            "#9c179e"
                          ],
                          [
                            0.4444444444444444,
                            "#bd3786"
                          ],
                          [
                            0.5555555555555556,
                            "#d8576b"
                          ],
                          [
                            0.6666666666666666,
                            "#ed7953"
                          ],
                          [
                            0.7777777777777778,
                            "#fb9f3a"
                          ],
                          [
                            0.8888888888888888,
                            "#fdca26"
                          ],
                          [
                            1,
                            "#f0f921"
                          ]
                        ],
                        "type": "contour"
                      }
                    ],
                    "contourcarpet": [
                      {
                        "colorbar": {
                          "outlinewidth": 0,
                          "ticks": ""
                        },
                        "type": "contourcarpet"
                      }
                    ],
                    "heatmap": [
                      {
                        "colorbar": {
                          "outlinewidth": 0,
                          "ticks": ""
                        },
                        "colorscale": [
                          [
                            0,
                            "#0d0887"
                          ],
                          [
                            0.1111111111111111,
                            "#46039f"
                          ],
                          [
                            0.2222222222222222,
                            "#7201a8"
                          ],
                          [
                            0.3333333333333333,
                            "#9c179e"
                          ],
                          [
                            0.4444444444444444,
                            "#bd3786"
                          ],
                          [
                            0.5555555555555556,
                            "#d8576b"
                          ],
                          [
                            0.6666666666666666,
                            "#ed7953"
                          ],
                          [
                            0.7777777777777778,
                            "#fb9f3a"
                          ],
                          [
                            0.8888888888888888,
                            "#fdca26"
                          ],
                          [
                            1,
                            "#f0f921"
                          ]
                        ],
                        "type": "heatmap"
                      }
                    ],
                    "heatmapgl": [
                      {
                        "colorbar": {
                          "outlinewidth": 0,
                          "ticks": ""
                        },
                        "colorscale": [
                          [
                            0,
                            "#0d0887"
                          ],
                          [
                            0.1111111111111111,
                            "#46039f"
                          ],
                          [
                            0.2222222222222222,
                            "#7201a8"
                          ],
                          [
                            0.3333333333333333,
                            "#9c179e"
                          ],
                          [
                            0.4444444444444444,
                            "#bd3786"
                          ],
                          [
                            0.5555555555555556,
                            "#d8576b"
                          ],
                          [
                            0.6666666666666666,
                            "#ed7953"
                          ],
                          [
                            0.7777777777777778,
                            "#fb9f3a"
                          ],
                          [
                            0.8888888888888888,
                            "#fdca26"
                          ],
                          [
                            1,
                            "#f0f921"
                          ]
                        ],
                        "type": "heatmapgl"
                      }
                    ],
                    "histogram": [
                      {
                        "marker": {
                          "colorbar": {
                            "outlinewidth": 0,
                            "ticks": ""
                          }
                        },
                        "type": "histogram"
                      }
                    ],
                    "histogram2d": [
                      {
                        "colorbar": {
                          "outlinewidth": 0,
                          "ticks": ""
                        },
                        "colorscale": [
                          [
                            0,
                            "#0d0887"
                          ],
                          [
                            0.1111111111111111,
                            "#46039f"
                          ],
                          [
                            0.2222222222222222,
                            "#7201a8"
                          ],
                          [
                            0.3333333333333333,
                            "#9c179e"
                          ],
                          [
                            0.4444444444444444,
                            "#bd3786"
                          ],
                          [
                            0.5555555555555556,
                            "#d8576b"
                          ],
                          [
                            0.6666666666666666,
                            "#ed7953"
                          ],
                          [
                            0.7777777777777778,
                            "#fb9f3a"
                          ],
                          [
                            0.8888888888888888,
                            "#fdca26"
                          ],
                          [
                            1,
                            "#f0f921"
                          ]
                        ],
                        "type": "histogram2d"
                      }
                    ],
                    "histogram2dcontour": [
                      {
                        "colorbar": {
                          "outlinewidth": 0,
                          "ticks": ""
                        },
                        "colorscale": [
                          [
                            0,
                            "#0d0887"
                          ],
                          [
                            0.1111111111111111,
                            "#46039f"
                          ],
                          [
                            0.2222222222222222,
                            "#7201a8"
                          ],
                          [
                            0.3333333333333333,
                            "#9c179e"
                          ],
                          [
                            0.4444444444444444,
                            "#bd3786"
                          ],
                          [
                            0.5555555555555556,
                            "#d8576b"
                          ],
                          [
                            0.6666666666666666,
                            "#ed7953"
                          ],
                          [
                            0.7777777777777778,
                            "#fb9f3a"
                          ],
                          [
                            0.8888888888888888,
                            "#fdca26"
                          ],
                          [
                            1,
                            "#f0f921"
                          ]
                        ],
                        "type": "histogram2dcontour"
                      }
                    ],
                    "mesh3d": [
                      {
                        "colorbar": {
                          "outlinewidth": 0,
                          "ticks": ""
                        },
                        "type": "mesh3d"
                      }
                    ],
                    "parcoords": [
                      {
                        "line": {
                          "colorbar": {
                            "outlinewidth": 0,
                            "ticks": ""
                          }
                        },
                        "type": "parcoords"
                      }
                    ],
                    "pie": [
                      {
                        "automargin": true,
                        "type": "pie"
                      }
                    ],
                    "scatter": [
                      {
                        "marker": {
                          "colorbar": {
                            "outlinewidth": 0,
                            "ticks": ""
                          }
                        },
                        "type": "scatter"
                      }
                    ],
                    "scatter3d": [
                      {
                        "line": {
                          "colorbar": {
                            "outlinewidth": 0,
                            "ticks": ""
                          }
                        },
                        "marker": {
                          "colorbar": {
                            "outlinewidth": 0,
                            "ticks": ""
                          }
                        },
                        "type": "scatter3d"
                      }
                    ],
                    "scattercarpet": [
                      {
                        "marker": {
                          "colorbar": {
                            "outlinewidth": 0,
                            "ticks": ""
                          }
                        },
                        "type": "scattercarpet"
                      }
                    ],
                    "scattergeo": [
                      {
                        "marker": {
                          "colorbar": {
                            "outlinewidth": 0,
                            "ticks": ""
                          }
                        },
                        "type": "scattergeo"
                      }
                    ],
                    "scattergl": [
                      {
                        "marker": {
                          "colorbar": {
                            "outlinewidth": 0,
                            "ticks": ""
                          }
                        },
                        "type": "scattergl"
                      }
                    ],
                    "scattermapbox": [
                      {
                        "marker": {
                          "colorbar": {
                            "outlinewidth": 0,
                            "ticks": ""
                          }
                        },
                        "type": "scattermapbox"
                      }
                    ],
                    "scatterpolar": [
                      {
                        "marker": {
                          "colorbar": {
                            "outlinewidth": 0,
                            "ticks": ""
                          }
                        },
                        "type": "scatterpolar"
                      }
                    ],
                    "scatterpolargl": [
                      {
                        "marker": {
                          "colorbar": {
                            "outlinewidth": 0,
                            "ticks": ""
                          }
                        },
                        "type": "scatterpolargl"
                      }
                    ],
                    "scatterternary": [
                      {
                        "marker": {
                          "colorbar": {
                            "outlinewidth": 0,
                            "ticks": ""
                          }
                        },
                        "type": "scatterternary"
                      }
                    ],
                    "surface": [
                      {
                        "colorbar": {
                          "outlinewidth": 0,
                          "ticks": ""
                        },
                        "colorscale": [
                          [
                            0,
                            "#0d0887"
                          ],
                          [
                            0.1111111111111111,
                            "#46039f"
                          ],
                          [
                            0.2222222222222222,
                            "#7201a8"
                          ],
                          [
                            0.3333333333333333,
                            "#9c179e"
                          ],
                          [
                            0.4444444444444444,
                            "#bd3786"
                          ],
                          [
                            0.5555555555555556,
                            "#d8576b"
                          ],
                          [
                            0.6666666666666666,
                            "#ed7953"
                          ],
                          [
                            0.7777777777777778,
                            "#fb9f3a"
                          ],
                          [
                            0.8888888888888888,
                            "#fdca26"
                          ],
                          [
                            1,
                            "#f0f921"
                          ]
                        ],
                        "type": "surface"
                      }
                    ],
                    "table": [
                      {
                        "cells": {
                          "fill": {
                            "color": "#EBF0F8"
                          },
                          "line": {
                            "color": "white"
                          }
                        },
                        "header": {
                          "fill": {
                            "color": "#C8D4E3"
                          },
                          "line": {
                            "color": "white"
                          }
                        },
                        "type": "table"
                      }
                    ]
                  },
                  "layout": {
                    "annotationdefaults": {
                      "arrowcolor": "#2a3f5f",
                      "arrowhead": 0,
                      "arrowwidth": 1
                    },
                    "autotypenumbers": "strict",
                    "coloraxis": {
                      "colorbar": {
                        "outlinewidth": 0,
                        "ticks": ""
                      }
                    },
                    "colorscale": {
                      "diverging": [
                        [
                          0,
                          "#8e0152"
                        ],
                        [
                          0.1,
                          "#c51b7d"
                        ],
                        [
                          0.2,
                          "#de77ae"
                        ],
                        [
                          0.3,
                          "#f1b6da"
                        ],
                        [
                          0.4,
                          "#fde0ef"
                        ],
                        [
                          0.5,
                          "#f7f7f7"
                        ],
                        [
                          0.6,
                          "#e6f5d0"
                        ],
                        [
                          0.7,
                          "#b8e186"
                        ],
                        [
                          0.8,
                          "#7fbc41"
                        ],
                        [
                          0.9,
                          "#4d9221"
                        ],
                        [
                          1,
                          "#276419"
                        ]
                      ],
                      "sequential": [
                        [
                          0,
                          "#0d0887"
                        ],
                        [
                          0.1111111111111111,
                          "#46039f"
                        ],
                        [
                          0.2222222222222222,
                          "#7201a8"
                        ],
                        [
                          0.3333333333333333,
                          "#9c179e"
                        ],
                        [
                          0.4444444444444444,
                          "#bd3786"
                        ],
                        [
                          0.5555555555555556,
                          "#d8576b"
                        ],
                        [
                          0.6666666666666666,
                          "#ed7953"
                        ],
                        [
                          0.7777777777777778,
                          "#fb9f3a"
                        ],
                        [
                          0.8888888888888888,
                          "#fdca26"
                        ],
                        [
                          1,
                          "#f0f921"
                        ]
                      ],
                      "sequentialminus": [
                        [
                          0,
                          "#0d0887"
                        ],
                        [
                          0.1111111111111111,
                          "#46039f"
                        ],
                        [
                          0.2222222222222222,
                          "#7201a8"
                        ],
                        [
                          0.3333333333333333,
                          "#9c179e"
                        ],
                        [
                          0.4444444444444444,
                          "#bd3786"
                        ],
                        [
                          0.5555555555555556,
                          "#d8576b"
                        ],
                        [
                          0.6666666666666666,
                          "#ed7953"
                        ],
                        [
                          0.7777777777777778,
                          "#fb9f3a"
                        ],
                        [
                          0.8888888888888888,
                          "#fdca26"
                        ],
                        [
                          1,
                          "#f0f921"
                        ]
                      ]
                    },
                    "colorway": [
                      "#636efa",
                      "#EF553B",
                      "#00cc96",
                      "#ab63fa",
                      "#FFA15A",
                      "#19d3f3",
                      "#FF6692",
                      "#B6E880",
                      "#FF97FF",
                      "#FECB52"
                    ],
                    "font": {
                      "color": "#2a3f5f"
                    },
                    "geo": {
                      "bgcolor": "white",
                      "lakecolor": "white",
                      "landcolor": "#E5ECF6",
                      "showlakes": true,
                      "showland": true,
                      "subunitcolor": "white"
                    },
                    "hoverlabel": {
                      "align": "left"
                    },
                    "hovermode": "closest",
                    "mapbox": {
                      "style": "light"
                    },
                    "paper_bgcolor": "white",
                    "plot_bgcolor": "#E5ECF6",
                    "polar": {
                      "angularaxis": {
                        "gridcolor": "white",
                        "linecolor": "white",
                        "ticks": ""
                      },
                      "bgcolor": "#E5ECF6",
                      "radialaxis": {
                        "gridcolor": "white",
                        "linecolor": "white",
                        "ticks": ""
                      }
                    },
                    "scene": {
                      "xaxis": {
                        "backgroundcolor": "#E5ECF6",
                        "gridcolor": "white",
                        "gridwidth": 2,
                        "linecolor": "white",
                        "showbackground": true,
                        "ticks": "",
                        "zerolinecolor": "white"
                      },
                      "yaxis": {
                        "backgroundcolor": "#E5ECF6",
                        "gridcolor": "white",
                        "gridwidth": 2,
                        "linecolor": "white",
                        "showbackground": true,
                        "ticks": "",
                        "zerolinecolor": "white"
                      },
                      "zaxis": {
                        "backgroundcolor": "#E5ECF6",
                        "gridcolor": "white",
                        "gridwidth": 2,
                        "linecolor": "white",
                        "showbackground": true,
                        "ticks": "",
                        "zerolinecolor": "white"
                      }
                    },
                    "shapedefaults": {
                      "line": {
                        "color": "#2a3f5f"
                      }
                    },
                    "ternary": {
                      "aaxis": {
                        "gridcolor": "white",
                        "linecolor": "white",
                        "ticks": ""
                      },
                      "baxis": {
                        "gridcolor": "white",
                        "linecolor": "white",
                        "ticks": ""
                      },
                      "bgcolor": "#E5ECF6",
                      "caxis": {
                        "gridcolor": "white",
                        "linecolor": "white",
                        "ticks": ""
                      }
                    },
                    "title": {
                      "x": 0.05
                    },
                    "xaxis": {
                      "automargin": true,
                      "gridcolor": "white",
                      "linecolor": "white",
                      "ticks": "",
                      "title": {
                        "standoff": 15
                      },
                      "zerolinecolor": "white",
                      "zerolinewidth": 2
                    },
                    "yaxis": {
                      "automargin": true,
                      "gridcolor": "white",
                      "linecolor": "white",
                      "ticks": "",
                      "title": {
                        "standoff": 15
                      },
                      "zerolinecolor": "white",
                      "zerolinewidth": 2
                    }
                  }
                }
              }
            }
          },
          "metadata": {}
        }
      ]
    },
    {
      "cell_type": "code",
      "execution_count": null,
      "metadata": {},
      "outputs": [],
      "source": []
    }
  ]
}